{
  "nbformat": 4,
  "nbformat_minor": 0,
  "metadata": {
    "colab": {
      "provenance": [],
      "toc_visible": true
    },
    "kernelspec": {
      "name": "python3",
      "display_name": "Python 3"
    },
    "language_info": {
      "name": "python"
    }
  },
  "cells": [
    {
      "cell_type": "markdown",
      "source": [
        "# Projeto Grupo BT-G3\n"
      ],
      "metadata": {
        "id": "W6orTJnannWi"
      }
    },
    {
      "cell_type": "markdown",
      "source": [
        "## **Integrantes do grupo**\n",
        "- Daniel Barzilai\n",
        "- Larissa Carvalho\n",
        "- Maria Luisa Maia\n",
        "- Pedro Rezende\n",
        "- Rafael Moritz\n",
        "- Vitor Oliveira"
      ],
      "metadata": {
        "id": "wnoVqdIxSmPS"
      }
    },
    {
      "cell_type": "markdown",
      "source": [
        "<center><img src=\"https://www.inteli.edu.br/wp-content/uploads/2021/08/20172028/marca_1-2.png\" width=\"50%\" height=\"50%\"/></center>"
      ],
      "metadata": {
        "id": "k0U6vMkgcCOc"
      }
    },
    {
      "cell_type": "markdown",
      "source": [
        "<h1 align='center'><b>IA para Marketing: Monitoramento de campanhas utilizando processamento de linguagem natural (PLN)<b></h1>"
      ],
      "metadata": {
        "id": "GntQpF9HcHF7"
      }
    },
    {
      "cell_type": "markdown",
      "source": [
        "<center><img src=\"https://upload.wikimedia.org/wikipedia/commons/c/c2/Btg-logo-blue.svg\" width=\"50%\" height=\"50%\"/></center>"
      ],
      "metadata": {
        "id": "geZEZyxccIwj"
      }
    },
    {
      "cell_type": "code",
      "source": [],
      "metadata": {
        "id": "9VKvL0NZMFOh"
      },
      "execution_count": null,
      "outputs": []
    },
    {
      "cell_type": "markdown",
      "source": [
        "<h2 align='center'>O Banco BTG Pactual enfrenta um desafio na área de Marketing em entender as necessidades e demandas dos clientes de maneira fácil e rápida nas redes sociais. A solução proposta para esse problema foi o desenvolvimento de uma Inteligência Artificial utilizando processamento de linguagem natural (PLN), capaz de monitorar as campanhas de marketing, voltadas para o Instagram. O objetivo principal dessa solução é rastrear os dados em tempo real, analisar e interpretar as mensagens e comentários enviados pelos clientes na rede social, a fim de identificar as necessidades e demandas de forma precisa e eficiente.</h2>"
      ],
      "metadata": {
        "id": "GDi4jBLdcIoo"
      }
    },
    {
      "cell_type": "markdown",
      "source": [
        "---"
      ],
      "metadata": {
        "id": "d9cjCQyEcPhI"
      }
    },
    {
      "cell_type": "markdown",
      "source": [
        "# Sobre os dados"
      ],
      "metadata": {
        "id": "YsbJTy0IcTIt"
      }
    },
    {
      "cell_type": "markdown",
      "source": [
        "Esse projeto está utilizando dados coletados e tratados pela equipe de Automation do BTG Pactual, o qual disponibilizou o dataset. Com base nas informações dispostas nesse dataset, realizaremos insights a cerca dos comentários feitos nos posts do Instagram do próprio banco. Vale lembrar que os dados estão anonimizados e resguardados para manter a privacidade e ética com os usuários e com o banco."
      ],
      "metadata": {
        "id": "3-s3rB_1cVPc"
      }
    },
    {
      "cell_type": "markdown",
      "source": [
        "# 1. Instalação / Setup"
      ],
      "metadata": {
        "id": "jCzVQHGx6tux"
      }
    },
    {
      "cell_type": "markdown",
      "source": [
        "Para o início do projeto, fizemos o desenvolvimento no Google Colab, por isso temos uma célula de conexão com o Google Drive, para poder acessar os dados. Caso seja rodado no Jupyter Notebook, precisará do dataset baixado."
      ],
      "metadata": {
        "id": "-werU6i-qvLp"
      }
    },
    {
      "cell_type": "code",
      "source": [
        "#Conectar com o Google Drive\n",
        "\n",
        "from google.colab import drive\n",
        "drive.mount('/content/drive')\n",
        "\n",
        "#Conectando o ambiente ao Google Drive"
      ],
      "metadata": {
        "id": "ae8sAINTP6Lr",
        "colab": {
          "base_uri": "https://localhost:8080/"
        },
        "outputId": "df3c180b-d2f5-4196-83bf-42364fe9b3ae"
      },
      "execution_count": null,
      "outputs": [
        {
          "output_type": "stream",
          "name": "stdout",
          "text": [
            "Mounted at /content/drive\n"
          ]
        }
      ]
    },
    {
      "cell_type": "markdown",
      "source": [
        "Aqui nós fazemos as importações para tratamento dos dados, pré-processamento dos dados e modelamento do Bag of Words."
      ],
      "metadata": {
        "id": "nuIt1T3cwjSu"
      }
    },
    {
      "cell_type": "markdown",
      "source": [
        "## pips"
      ],
      "metadata": {
        "id": "iNmxBn3LsHfr"
      }
    },
    {
      "cell_type": "code",
      "source": [
        "!pip install -U spacy"
      ],
      "metadata": {
        "id": "FNoqph3MTSbS",
        "colab": {
          "base_uri": "https://localhost:8080/"
        },
        "outputId": "91fb88a4-479a-4c83-e931-ccf4719d9fd5"
      },
      "execution_count": null,
      "outputs": [
        {
          "output_type": "stream",
          "name": "stdout",
          "text": [
            "Looking in indexes: https://pypi.org/simple, https://us-python.pkg.dev/colab-wheels/public/simple/\n",
            "Requirement already satisfied: spacy in /usr/local/lib/python3.10/dist-packages (3.5.2)\n",
            "Collecting spacy\n",
            "  Downloading spacy-3.5.3-cp310-cp310-manylinux_2_17_x86_64.manylinux2014_x86_64.whl (6.6 MB)\n",
            "\u001b[2K     \u001b[90m━━━━━━━━━━━━━━━━━━━━━━━━━━━━━━━━━━━━━━━━\u001b[0m \u001b[32m6.6/6.6 MB\u001b[0m \u001b[31m50.3 MB/s\u001b[0m eta \u001b[36m0:00:00\u001b[0m\n",
            "\u001b[?25hRequirement already satisfied: spacy-legacy<3.1.0,>=3.0.11 in /usr/local/lib/python3.10/dist-packages (from spacy) (3.0.12)\n",
            "Requirement already satisfied: spacy-loggers<2.0.0,>=1.0.0 in /usr/local/lib/python3.10/dist-packages (from spacy) (1.0.4)\n",
            "Requirement already satisfied: murmurhash<1.1.0,>=0.28.0 in /usr/local/lib/python3.10/dist-packages (from spacy) (1.0.9)\n",
            "Requirement already satisfied: cymem<2.1.0,>=2.0.2 in /usr/local/lib/python3.10/dist-packages (from spacy) (2.0.7)\n",
            "Requirement already satisfied: preshed<3.1.0,>=3.0.2 in /usr/local/lib/python3.10/dist-packages (from spacy) (3.0.8)\n",
            "Requirement already satisfied: thinc<8.2.0,>=8.1.8 in /usr/local/lib/python3.10/dist-packages (from spacy) (8.1.9)\n",
            "Requirement already satisfied: wasabi<1.2.0,>=0.9.1 in /usr/local/lib/python3.10/dist-packages (from spacy) (1.1.1)\n",
            "Requirement already satisfied: srsly<3.0.0,>=2.4.3 in /usr/local/lib/python3.10/dist-packages (from spacy) (2.4.6)\n",
            "Requirement already satisfied: catalogue<2.1.0,>=2.0.6 in /usr/local/lib/python3.10/dist-packages (from spacy) (2.0.8)\n",
            "Requirement already satisfied: typer<0.8.0,>=0.3.0 in /usr/local/lib/python3.10/dist-packages (from spacy) (0.7.0)\n",
            "Requirement already satisfied: pathy>=0.10.0 in /usr/local/lib/python3.10/dist-packages (from spacy) (0.10.1)\n",
            "Requirement already satisfied: smart-open<7.0.0,>=5.2.1 in /usr/local/lib/python3.10/dist-packages (from spacy) (6.3.0)\n",
            "Requirement already satisfied: tqdm<5.0.0,>=4.38.0 in /usr/local/lib/python3.10/dist-packages (from spacy) (4.65.0)\n",
            "Requirement already satisfied: numpy>=1.15.0 in /usr/local/lib/python3.10/dist-packages (from spacy) (1.22.4)\n",
            "Requirement already satisfied: requests<3.0.0,>=2.13.0 in /usr/local/lib/python3.10/dist-packages (from spacy) (2.27.1)\n",
            "Requirement already satisfied: pydantic!=1.8,!=1.8.1,<1.11.0,>=1.7.4 in /usr/local/lib/python3.10/dist-packages (from spacy) (1.10.7)\n",
            "Requirement already satisfied: jinja2 in /usr/local/lib/python3.10/dist-packages (from spacy) (3.1.2)\n",
            "Requirement already satisfied: setuptools in /usr/local/lib/python3.10/dist-packages (from spacy) (67.7.2)\n",
            "Requirement already satisfied: packaging>=20.0 in /usr/local/lib/python3.10/dist-packages (from spacy) (23.1)\n",
            "Requirement already satisfied: langcodes<4.0.0,>=3.2.0 in /usr/local/lib/python3.10/dist-packages (from spacy) (3.3.0)\n",
            "Requirement already satisfied: typing-extensions>=4.2.0 in /usr/local/lib/python3.10/dist-packages (from pydantic!=1.8,!=1.8.1,<1.11.0,>=1.7.4->spacy) (4.5.0)\n",
            "Requirement already satisfied: urllib3<1.27,>=1.21.1 in /usr/local/lib/python3.10/dist-packages (from requests<3.0.0,>=2.13.0->spacy) (1.26.15)\n",
            "Requirement already satisfied: certifi>=2017.4.17 in /usr/local/lib/python3.10/dist-packages (from requests<3.0.0,>=2.13.0->spacy) (2022.12.7)\n",
            "Requirement already satisfied: charset-normalizer~=2.0.0 in /usr/local/lib/python3.10/dist-packages (from requests<3.0.0,>=2.13.0->spacy) (2.0.12)\n",
            "Requirement already satisfied: idna<4,>=2.5 in /usr/local/lib/python3.10/dist-packages (from requests<3.0.0,>=2.13.0->spacy) (3.4)\n",
            "Requirement already satisfied: blis<0.8.0,>=0.7.8 in /usr/local/lib/python3.10/dist-packages (from thinc<8.2.0,>=8.1.8->spacy) (0.7.9)\n",
            "Requirement already satisfied: confection<1.0.0,>=0.0.1 in /usr/local/lib/python3.10/dist-packages (from thinc<8.2.0,>=8.1.8->spacy) (0.0.4)\n",
            "Requirement already satisfied: click<9.0.0,>=7.1.1 in /usr/local/lib/python3.10/dist-packages (from typer<0.8.0,>=0.3.0->spacy) (8.1.3)\n",
            "Requirement already satisfied: MarkupSafe>=2.0 in /usr/local/lib/python3.10/dist-packages (from jinja2->spacy) (2.1.2)\n",
            "Installing collected packages: spacy\n",
            "  Attempting uninstall: spacy\n",
            "    Found existing installation: spacy 3.5.2\n",
            "    Uninstalling spacy-3.5.2:\n",
            "      Successfully uninstalled spacy-3.5.2\n",
            "Successfully installed spacy-3.5.3\n"
          ]
        }
      ]
    },
    {
      "cell_type": "code",
      "source": [
        "!pip install wordcloud"
      ],
      "metadata": {
        "id": "teLWG2aVTlgx",
        "colab": {
          "base_uri": "https://localhost:8080/"
        },
        "outputId": "1fadb543-7849-4f35-ecdd-9f72ac61b94c"
      },
      "execution_count": null,
      "outputs": [
        {
          "output_type": "stream",
          "name": "stdout",
          "text": [
            "Looking in indexes: https://pypi.org/simple, https://us-python.pkg.dev/colab-wheels/public/simple/\n",
            "Requirement already satisfied: wordcloud in /usr/local/lib/python3.10/dist-packages (1.8.2.2)\n",
            "Requirement already satisfied: numpy>=1.6.1 in /usr/local/lib/python3.10/dist-packages (from wordcloud) (1.22.4)\n",
            "Requirement already satisfied: pillow in /usr/local/lib/python3.10/dist-packages (from wordcloud) (8.4.0)\n",
            "Requirement already satisfied: matplotlib in /usr/local/lib/python3.10/dist-packages (from wordcloud) (3.7.1)\n",
            "Requirement already satisfied: contourpy>=1.0.1 in /usr/local/lib/python3.10/dist-packages (from matplotlib->wordcloud) (1.0.7)\n",
            "Requirement already satisfied: cycler>=0.10 in /usr/local/lib/python3.10/dist-packages (from matplotlib->wordcloud) (0.11.0)\n",
            "Requirement already satisfied: fonttools>=4.22.0 in /usr/local/lib/python3.10/dist-packages (from matplotlib->wordcloud) (4.39.3)\n",
            "Requirement already satisfied: kiwisolver>=1.0.1 in /usr/local/lib/python3.10/dist-packages (from matplotlib->wordcloud) (1.4.4)\n",
            "Requirement already satisfied: packaging>=20.0 in /usr/local/lib/python3.10/dist-packages (from matplotlib->wordcloud) (23.1)\n",
            "Requirement already satisfied: pyparsing>=2.3.1 in /usr/local/lib/python3.10/dist-packages (from matplotlib->wordcloud) (3.0.9)\n",
            "Requirement already satisfied: python-dateutil>=2.7 in /usr/local/lib/python3.10/dist-packages (from matplotlib->wordcloud) (2.8.2)\n",
            "Requirement already satisfied: six>=1.5 in /usr/local/lib/python3.10/dist-packages (from python-dateutil>=2.7->matplotlib->wordcloud) (1.16.0)\n"
          ]
        }
      ]
    },
    {
      "cell_type": "code",
      "source": [
        "!pip install keras"
      ],
      "metadata": {
        "id": "qH7Wx6XcGgWB",
        "colab": {
          "base_uri": "https://localhost:8080/"
        },
        "outputId": "9f7d4956-087a-4769-b5ed-38ce3990d6ff"
      },
      "execution_count": null,
      "outputs": [
        {
          "output_type": "stream",
          "name": "stdout",
          "text": [
            "Looking in indexes: https://pypi.org/simple, https://us-python.pkg.dev/colab-wheels/public/simple/\n",
            "Requirement already satisfied: keras in /usr/local/lib/python3.10/dist-packages (2.12.0)\n"
          ]
        }
      ]
    },
    {
      "cell_type": "code",
      "source": [
        "!pip install tensorflow"
      ],
      "metadata": {
        "id": "U-H1Fg8pHHaC",
        "colab": {
          "base_uri": "https://localhost:8080/"
        },
        "outputId": "e0e301b7-b812-40b3-9229-e02ed5fa043f"
      },
      "execution_count": null,
      "outputs": [
        {
          "output_type": "stream",
          "name": "stdout",
          "text": [
            "Looking in indexes: https://pypi.org/simple, https://us-python.pkg.dev/colab-wheels/public/simple/\n",
            "Requirement already satisfied: tensorflow in /usr/local/lib/python3.10/dist-packages (2.12.0)\n",
            "Requirement already satisfied: absl-py>=1.0.0 in /usr/local/lib/python3.10/dist-packages (from tensorflow) (1.4.0)\n",
            "Requirement already satisfied: astunparse>=1.6.0 in /usr/local/lib/python3.10/dist-packages (from tensorflow) (1.6.3)\n",
            "Requirement already satisfied: flatbuffers>=2.0 in /usr/local/lib/python3.10/dist-packages (from tensorflow) (23.3.3)\n",
            "Requirement already satisfied: gast<=0.4.0,>=0.2.1 in /usr/local/lib/python3.10/dist-packages (from tensorflow) (0.4.0)\n",
            "Requirement already satisfied: google-pasta>=0.1.1 in /usr/local/lib/python3.10/dist-packages (from tensorflow) (0.2.0)\n",
            "Requirement already satisfied: grpcio<2.0,>=1.24.3 in /usr/local/lib/python3.10/dist-packages (from tensorflow) (1.54.0)\n",
            "Requirement already satisfied: h5py>=2.9.0 in /usr/local/lib/python3.10/dist-packages (from tensorflow) (3.8.0)\n",
            "Requirement already satisfied: jax>=0.3.15 in /usr/local/lib/python3.10/dist-packages (from tensorflow) (0.4.10)\n",
            "Requirement already satisfied: keras<2.13,>=2.12.0 in /usr/local/lib/python3.10/dist-packages (from tensorflow) (2.12.0)\n",
            "Requirement already satisfied: libclang>=13.0.0 in /usr/local/lib/python3.10/dist-packages (from tensorflow) (16.0.0)\n",
            "Requirement already satisfied: numpy<1.24,>=1.22 in /usr/local/lib/python3.10/dist-packages (from tensorflow) (1.22.4)\n",
            "Requirement already satisfied: opt-einsum>=2.3.2 in /usr/local/lib/python3.10/dist-packages (from tensorflow) (3.3.0)\n",
            "Requirement already satisfied: packaging in /usr/local/lib/python3.10/dist-packages (from tensorflow) (23.1)\n",
            "Requirement already satisfied: protobuf!=4.21.0,!=4.21.1,!=4.21.2,!=4.21.3,!=4.21.4,!=4.21.5,<5.0.0dev,>=3.20.3 in /usr/local/lib/python3.10/dist-packages (from tensorflow) (3.20.3)\n",
            "Requirement already satisfied: setuptools in /usr/local/lib/python3.10/dist-packages (from tensorflow) (67.7.2)\n",
            "Requirement already satisfied: six>=1.12.0 in /usr/local/lib/python3.10/dist-packages (from tensorflow) (1.16.0)\n",
            "Requirement already satisfied: tensorboard<2.13,>=2.12 in /usr/local/lib/python3.10/dist-packages (from tensorflow) (2.12.2)\n",
            "Requirement already satisfied: tensorflow-estimator<2.13,>=2.12.0 in /usr/local/lib/python3.10/dist-packages (from tensorflow) (2.12.0)\n",
            "Requirement already satisfied: termcolor>=1.1.0 in /usr/local/lib/python3.10/dist-packages (from tensorflow) (2.3.0)\n",
            "Requirement already satisfied: typing-extensions>=3.6.6 in /usr/local/lib/python3.10/dist-packages (from tensorflow) (4.5.0)\n",
            "Requirement already satisfied: wrapt<1.15,>=1.11.0 in /usr/local/lib/python3.10/dist-packages (from tensorflow) (1.14.1)\n",
            "Requirement already satisfied: tensorflow-io-gcs-filesystem>=0.23.1 in /usr/local/lib/python3.10/dist-packages (from tensorflow) (0.32.0)\n",
            "Requirement already satisfied: wheel<1.0,>=0.23.0 in /usr/local/lib/python3.10/dist-packages (from astunparse>=1.6.0->tensorflow) (0.40.0)\n",
            "Requirement already satisfied: ml-dtypes>=0.1.0 in /usr/local/lib/python3.10/dist-packages (from jax>=0.3.15->tensorflow) (0.1.0)\n",
            "Requirement already satisfied: scipy>=1.7 in /usr/local/lib/python3.10/dist-packages (from jax>=0.3.15->tensorflow) (1.10.1)\n",
            "Requirement already satisfied: google-auth<3,>=1.6.3 in /usr/local/lib/python3.10/dist-packages (from tensorboard<2.13,>=2.12->tensorflow) (2.17.3)\n",
            "Requirement already satisfied: google-auth-oauthlib<1.1,>=0.5 in /usr/local/lib/python3.10/dist-packages (from tensorboard<2.13,>=2.12->tensorflow) (1.0.0)\n",
            "Requirement already satisfied: markdown>=2.6.8 in /usr/local/lib/python3.10/dist-packages (from tensorboard<2.13,>=2.12->tensorflow) (3.4.3)\n",
            "Requirement already satisfied: requests<3,>=2.21.0 in /usr/local/lib/python3.10/dist-packages (from tensorboard<2.13,>=2.12->tensorflow) (2.27.1)\n",
            "Requirement already satisfied: tensorboard-data-server<0.8.0,>=0.7.0 in /usr/local/lib/python3.10/dist-packages (from tensorboard<2.13,>=2.12->tensorflow) (0.7.0)\n",
            "Requirement already satisfied: tensorboard-plugin-wit>=1.6.0 in /usr/local/lib/python3.10/dist-packages (from tensorboard<2.13,>=2.12->tensorflow) (1.8.1)\n",
            "Requirement already satisfied: werkzeug>=1.0.1 in /usr/local/lib/python3.10/dist-packages (from tensorboard<2.13,>=2.12->tensorflow) (2.3.0)\n",
            "Requirement already satisfied: cachetools<6.0,>=2.0.0 in /usr/local/lib/python3.10/dist-packages (from google-auth<3,>=1.6.3->tensorboard<2.13,>=2.12->tensorflow) (5.3.0)\n",
            "Requirement already satisfied: pyasn1-modules>=0.2.1 in /usr/local/lib/python3.10/dist-packages (from google-auth<3,>=1.6.3->tensorboard<2.13,>=2.12->tensorflow) (0.3.0)\n",
            "Requirement already satisfied: rsa<5,>=3.1.4 in /usr/local/lib/python3.10/dist-packages (from google-auth<3,>=1.6.3->tensorboard<2.13,>=2.12->tensorflow) (4.9)\n",
            "Requirement already satisfied: requests-oauthlib>=0.7.0 in /usr/local/lib/python3.10/dist-packages (from google-auth-oauthlib<1.1,>=0.5->tensorboard<2.13,>=2.12->tensorflow) (1.3.1)\n",
            "Requirement already satisfied: urllib3<1.27,>=1.21.1 in /usr/local/lib/python3.10/dist-packages (from requests<3,>=2.21.0->tensorboard<2.13,>=2.12->tensorflow) (1.26.15)\n",
            "Requirement already satisfied: certifi>=2017.4.17 in /usr/local/lib/python3.10/dist-packages (from requests<3,>=2.21.0->tensorboard<2.13,>=2.12->tensorflow) (2022.12.7)\n",
            "Requirement already satisfied: charset-normalizer~=2.0.0 in /usr/local/lib/python3.10/dist-packages (from requests<3,>=2.21.0->tensorboard<2.13,>=2.12->tensorflow) (2.0.12)\n",
            "Requirement already satisfied: idna<4,>=2.5 in /usr/local/lib/python3.10/dist-packages (from requests<3,>=2.21.0->tensorboard<2.13,>=2.12->tensorflow) (3.4)\n",
            "Requirement already satisfied: MarkupSafe>=2.1.1 in /usr/local/lib/python3.10/dist-packages (from werkzeug>=1.0.1->tensorboard<2.13,>=2.12->tensorflow) (2.1.2)\n",
            "Requirement already satisfied: pyasn1<0.6.0,>=0.4.6 in /usr/local/lib/python3.10/dist-packages (from pyasn1-modules>=0.2.1->google-auth<3,>=1.6.3->tensorboard<2.13,>=2.12->tensorflow) (0.5.0)\n",
            "Requirement already satisfied: oauthlib>=3.0.0 in /usr/local/lib/python3.10/dist-packages (from requests-oauthlib>=0.7.0->google-auth-oauthlib<1.1,>=0.5->tensorboard<2.13,>=2.12->tensorflow) (3.2.2)\n"
          ]
        }
      ]
    },
    {
      "cell_type": "code",
      "source": [
        "!pip install scikit-learn"
      ],
      "metadata": {
        "id": "1JrWyVj-HOhw",
        "colab": {
          "base_uri": "https://localhost:8080/"
        },
        "outputId": "4cb3ac5f-fcd6-450d-8f5f-edb1911a0977"
      },
      "execution_count": null,
      "outputs": [
        {
          "output_type": "stream",
          "name": "stdout",
          "text": [
            "Looking in indexes: https://pypi.org/simple, https://us-python.pkg.dev/colab-wheels/public/simple/\n",
            "Requirement already satisfied: scikit-learn in /usr/local/lib/python3.10/dist-packages (1.2.2)\n",
            "Requirement already satisfied: numpy>=1.17.3 in /usr/local/lib/python3.10/dist-packages (from scikit-learn) (1.22.4)\n",
            "Requirement already satisfied: scipy>=1.3.2 in /usr/local/lib/python3.10/dist-packages (from scikit-learn) (1.10.1)\n",
            "Requirement already satisfied: joblib>=1.1.1 in /usr/local/lib/python3.10/dist-packages (from scikit-learn) (1.2.0)\n",
            "Requirement already satisfied: threadpoolctl>=2.0.0 in /usr/local/lib/python3.10/dist-packages (from scikit-learn) (3.1.0)\n"
          ]
        }
      ]
    },
    {
      "cell_type": "markdown",
      "source": [
        "## Imports"
      ],
      "metadata": {
        "id": "iYpVFSrssMXh"
      }
    },
    {
      "cell_type": "code",
      "source": [
        "import pandas as pd\n",
        "import numpy as np\n",
        "import matplotlib.pyplot as plt\n",
        "from wordcloud import WordCloud\n",
        "import re\n",
        "\n",
        "from sklearn.feature_extraction.text import CountVectorizer\n",
        "import ast\n",
        "from keras.preprocessing.text import Tokenizer\n",
        "from sklearn import preprocessing\n",
        "from sklearn.naive_bayes import GaussianNB\n",
        "from sklearn import metrics\n",
        "from sklearn.metrics import classification_report, confusion_matrix\n",
        "from sklearn.metrics import accuracy_score\n",
        "from sklearn.metrics import ConfusionMatrixDisplay\n",
        "from sklearn.model_selection import train_test_split\n",
        "\n",
        "from tensorflow.keras.models import Sequential\n",
        "from keras.layers import Dense, Embedding, GlobalMaxPooling1D, Dropout\n",
        "from sklearn.preprocessing import LabelEncoder\n",
        "from sklearn.model_selection import train_test_split\n",
        "from keras.callbacks import ModelCheckpoint\n",
        "from keras.utils import pad_sequences\n",
        "import tensorflow as tf\n",
        "from tensorflow.keras import backend as K\n",
        "import seaborn as sns\n",
        "\n",
        "import nltk\n",
        "import spacy\n",
        "import gensim\n",
        "import pickle\n",
        "from scipy.spatial.distance import cosine\n",
        "from gensim.models import KeyedVectors"
      ],
      "metadata": {
        "id": "5INUqxN_NPZ9"
      },
      "execution_count": null,
      "outputs": []
    },
    {
      "cell_type": "markdown",
      "source": [
        "O desenvolvimento da rede neural seguiu o tutorial abaixo:\n",
        "https://medium.com/@jvsavietto6/classificando-texto-com-redes-neurais-artificiais-150ef448b13d"
      ],
      "metadata": {
        "id": "v4c2e5c3LwxH"
      }
    },
    {
      "cell_type": "markdown",
      "source": [
        "# 2. Entendimento e Tratamento dos Dados"
      ],
      "metadata": {
        "id": "dDAJ_PlDObbV"
      }
    },
    {
      "cell_type": "markdown",
      "source": [
        "Rodando o dataset, para analisar seu conteúdo:"
      ],
      "metadata": {
        "id": "MgoZgBnOxFul"
      }
    },
    {
      "cell_type": "code",
      "source": [
        "df = pd.read_csv('/content/drive/MyDrive/Módulo 6/Sprint 3 - Projeto/nova_base_tratada (1)')\n",
        "df"
      ],
      "metadata": {
        "colab": {
          "base_uri": "https://localhost:8080/",
          "height": 424
        },
        "id": "1xoda_aCFesh",
        "outputId": "72cfd2a1-dfdb-4589-864d-0f40f60463a3"
      },
      "execution_count": null,
      "outputs": [
        {
          "output_type": "execute_result",
          "data": {
            "text/plain": [
              "      Unnamed: 0                     autor  sentimento  \\\n",
              "0              0             winthegame_of           1   \n",
              "1              1                marta_bego           1   \n",
              "2              2                lmviapiana           2   \n",
              "3              3              vanilson_dos           1   \n",
              "4              4               ricktolledo           2   \n",
              "...          ...                       ...         ...   \n",
              "9202        9472  perspectiveinvestimentos           2   \n",
              "9203        9473            eduardocolares           2   \n",
              "9204        9474                 danielucm           2   \n",
              "9205        9475          amgcapitalinvest           1   \n",
              "9206        9476                 bfmarilia           0   \n",
              "\n",
              "                                          texto_tratado  \n",
              "0     ['alvarez', 'marsal', 'estar', 'conosco', 'spo...  \n",
              "1     ['btgpactual', 'with', 'makerepost', 'entender...  \n",
              "2                           ['minuto', 'touro', 'ouro']  \n",
              "3                                               ['sim']  \n",
              "4     ['querer', 'saber', 'banking', 'próprio', 'adm...  \n",
              "...                                                 ...  \n",
              "9202                        ['excelente', 'explicação']  \n",
              "9203            ['atendar', 'telefone', 'amor', 'deus']  \n",
              "9204  ['saber', 'qual', 'grande', 'fiis', 'mercado',...  \n",
              "9205  ['erro', 'financeiro', 'eliminar', 'antes', 'a...  \n",
              "9206  ['porque', 'morning', 'call', 'aparecer', 'spo...  \n",
              "\n",
              "[9207 rows x 4 columns]"
            ],
            "text/html": [
              "\n",
              "  <div id=\"df-91d68aec-e9d4-4930-9085-959144a0f054\">\n",
              "    <div class=\"colab-df-container\">\n",
              "      <div>\n",
              "<style scoped>\n",
              "    .dataframe tbody tr th:only-of-type {\n",
              "        vertical-align: middle;\n",
              "    }\n",
              "\n",
              "    .dataframe tbody tr th {\n",
              "        vertical-align: top;\n",
              "    }\n",
              "\n",
              "    .dataframe thead th {\n",
              "        text-align: right;\n",
              "    }\n",
              "</style>\n",
              "<table border=\"1\" class=\"dataframe\">\n",
              "  <thead>\n",
              "    <tr style=\"text-align: right;\">\n",
              "      <th></th>\n",
              "      <th>Unnamed: 0</th>\n",
              "      <th>autor</th>\n",
              "      <th>sentimento</th>\n",
              "      <th>texto_tratado</th>\n",
              "    </tr>\n",
              "  </thead>\n",
              "  <tbody>\n",
              "    <tr>\n",
              "      <th>0</th>\n",
              "      <td>0</td>\n",
              "      <td>winthegame_of</td>\n",
              "      <td>1</td>\n",
              "      <td>['alvarez', 'marsal', 'estar', 'conosco', 'spo...</td>\n",
              "    </tr>\n",
              "    <tr>\n",
              "      <th>1</th>\n",
              "      <td>1</td>\n",
              "      <td>marta_bego</td>\n",
              "      <td>1</td>\n",
              "      <td>['btgpactual', 'with', 'makerepost', 'entender...</td>\n",
              "    </tr>\n",
              "    <tr>\n",
              "      <th>2</th>\n",
              "      <td>2</td>\n",
              "      <td>lmviapiana</td>\n",
              "      <td>2</td>\n",
              "      <td>['minuto', 'touro', 'ouro']</td>\n",
              "    </tr>\n",
              "    <tr>\n",
              "      <th>3</th>\n",
              "      <td>3</td>\n",
              "      <td>vanilson_dos</td>\n",
              "      <td>1</td>\n",
              "      <td>['sim']</td>\n",
              "    </tr>\n",
              "    <tr>\n",
              "      <th>4</th>\n",
              "      <td>4</td>\n",
              "      <td>ricktolledo</td>\n",
              "      <td>2</td>\n",
              "      <td>['querer', 'saber', 'banking', 'próprio', 'adm...</td>\n",
              "    </tr>\n",
              "    <tr>\n",
              "      <th>...</th>\n",
              "      <td>...</td>\n",
              "      <td>...</td>\n",
              "      <td>...</td>\n",
              "      <td>...</td>\n",
              "    </tr>\n",
              "    <tr>\n",
              "      <th>9202</th>\n",
              "      <td>9472</td>\n",
              "      <td>perspectiveinvestimentos</td>\n",
              "      <td>2</td>\n",
              "      <td>['excelente', 'explicação']</td>\n",
              "    </tr>\n",
              "    <tr>\n",
              "      <th>9203</th>\n",
              "      <td>9473</td>\n",
              "      <td>eduardocolares</td>\n",
              "      <td>2</td>\n",
              "      <td>['atendar', 'telefone', 'amor', 'deus']</td>\n",
              "    </tr>\n",
              "    <tr>\n",
              "      <th>9204</th>\n",
              "      <td>9474</td>\n",
              "      <td>danielucm</td>\n",
              "      <td>2</td>\n",
              "      <td>['saber', 'qual', 'grande', 'fiis', 'mercado',...</td>\n",
              "    </tr>\n",
              "    <tr>\n",
              "      <th>9205</th>\n",
              "      <td>9475</td>\n",
              "      <td>amgcapitalinvest</td>\n",
              "      <td>1</td>\n",
              "      <td>['erro', 'financeiro', 'eliminar', 'antes', 'a...</td>\n",
              "    </tr>\n",
              "    <tr>\n",
              "      <th>9206</th>\n",
              "      <td>9476</td>\n",
              "      <td>bfmarilia</td>\n",
              "      <td>0</td>\n",
              "      <td>['porque', 'morning', 'call', 'aparecer', 'spo...</td>\n",
              "    </tr>\n",
              "  </tbody>\n",
              "</table>\n",
              "<p>9207 rows × 4 columns</p>\n",
              "</div>\n",
              "      <button class=\"colab-df-convert\" onclick=\"convertToInteractive('df-91d68aec-e9d4-4930-9085-959144a0f054')\"\n",
              "              title=\"Convert this dataframe to an interactive table.\"\n",
              "              style=\"display:none;\">\n",
              "        \n",
              "  <svg xmlns=\"http://www.w3.org/2000/svg\" height=\"24px\"viewBox=\"0 0 24 24\"\n",
              "       width=\"24px\">\n",
              "    <path d=\"M0 0h24v24H0V0z\" fill=\"none\"/>\n",
              "    <path d=\"M18.56 5.44l.94 2.06.94-2.06 2.06-.94-2.06-.94-.94-2.06-.94 2.06-2.06.94zm-11 1L8.5 8.5l.94-2.06 2.06-.94-2.06-.94L8.5 2.5l-.94 2.06-2.06.94zm10 10l.94 2.06.94-2.06 2.06-.94-2.06-.94-.94-2.06-.94 2.06-2.06.94z\"/><path d=\"M17.41 7.96l-1.37-1.37c-.4-.4-.92-.59-1.43-.59-.52 0-1.04.2-1.43.59L10.3 9.45l-7.72 7.72c-.78.78-.78 2.05 0 2.83L4 21.41c.39.39.9.59 1.41.59.51 0 1.02-.2 1.41-.59l7.78-7.78 2.81-2.81c.8-.78.8-2.07 0-2.86zM5.41 20L4 18.59l7.72-7.72 1.47 1.35L5.41 20z\"/>\n",
              "  </svg>\n",
              "      </button>\n",
              "      \n",
              "  <style>\n",
              "    .colab-df-container {\n",
              "      display:flex;\n",
              "      flex-wrap:wrap;\n",
              "      gap: 12px;\n",
              "    }\n",
              "\n",
              "    .colab-df-convert {\n",
              "      background-color: #E8F0FE;\n",
              "      border: none;\n",
              "      border-radius: 50%;\n",
              "      cursor: pointer;\n",
              "      display: none;\n",
              "      fill: #1967D2;\n",
              "      height: 32px;\n",
              "      padding: 0 0 0 0;\n",
              "      width: 32px;\n",
              "    }\n",
              "\n",
              "    .colab-df-convert:hover {\n",
              "      background-color: #E2EBFA;\n",
              "      box-shadow: 0px 1px 2px rgba(60, 64, 67, 0.3), 0px 1px 3px 1px rgba(60, 64, 67, 0.15);\n",
              "      fill: #174EA6;\n",
              "    }\n",
              "\n",
              "    [theme=dark] .colab-df-convert {\n",
              "      background-color: #3B4455;\n",
              "      fill: #D2E3FC;\n",
              "    }\n",
              "\n",
              "    [theme=dark] .colab-df-convert:hover {\n",
              "      background-color: #434B5C;\n",
              "      box-shadow: 0px 1px 3px 1px rgba(0, 0, 0, 0.15);\n",
              "      filter: drop-shadow(0px 1px 2px rgba(0, 0, 0, 0.3));\n",
              "      fill: #FFFFFF;\n",
              "    }\n",
              "  </style>\n",
              "\n",
              "      <script>\n",
              "        const buttonEl =\n",
              "          document.querySelector('#df-91d68aec-e9d4-4930-9085-959144a0f054 button.colab-df-convert');\n",
              "        buttonEl.style.display =\n",
              "          google.colab.kernel.accessAllowed ? 'block' : 'none';\n",
              "\n",
              "        async function convertToInteractive(key) {\n",
              "          const element = document.querySelector('#df-91d68aec-e9d4-4930-9085-959144a0f054');\n",
              "          const dataTable =\n",
              "            await google.colab.kernel.invokeFunction('convertToInteractive',\n",
              "                                                     [key], {});\n",
              "          if (!dataTable) return;\n",
              "\n",
              "          const docLinkHtml = 'Like what you see? Visit the ' +\n",
              "            '<a target=\"_blank\" href=https://colab.research.google.com/notebooks/data_table.ipynb>data table notebook</a>'\n",
              "            + ' to learn more about interactive tables.';\n",
              "          element.innerHTML = '';\n",
              "          dataTable['output_type'] = 'display_data';\n",
              "          await google.colab.output.renderOutput(dataTable, element);\n",
              "          const docLink = document.createElement('div');\n",
              "          docLink.innerHTML = docLinkHtml;\n",
              "          element.appendChild(docLink);\n",
              "        }\n",
              "      </script>\n",
              "    </div>\n",
              "  </div>\n",
              "  "
            ]
          },
          "metadata": {},
          "execution_count": 8
        }
      ]
    },
    {
      "cell_type": "code",
      "source": [
        "df.columns"
      ],
      "metadata": {
        "id": "J5GWQzKeRFGd",
        "colab": {
          "base_uri": "https://localhost:8080/"
        },
        "outputId": "3bb8f77b-c695-4cdf-cd9c-c4488fd055f8"
      },
      "execution_count": null,
      "outputs": [
        {
          "output_type": "execute_result",
          "data": {
            "text/plain": [
              "Index(['Unnamed: 0', 'autor', 'sentimento', 'texto_tratado'], dtype='object')"
            ]
          },
          "metadata": {},
          "execution_count": 9
        }
      ]
    },
    {
      "cell_type": "code",
      "source": [
        "df['texto_tratado']"
      ],
      "metadata": {
        "colab": {
          "base_uri": "https://localhost:8080/"
        },
        "id": "4LkWLbegZdYE",
        "outputId": "f4754a69-c5d7-4c81-9c3e-e47cd0bef3f5"
      },
      "execution_count": null,
      "outputs": [
        {
          "output_type": "execute_result",
          "data": {
            "text/plain": [
              "0       ['alvarez', 'marsal', 'estar', 'conosco', 'spo...\n",
              "1       ['btgpactual', 'with', 'makerepost', 'entender...\n",
              "2                             ['minuto', 'touro', 'ouro']\n",
              "3                                                 ['sim']\n",
              "4       ['querer', 'saber', 'banking', 'próprio', 'adm...\n",
              "                              ...                        \n",
              "9202                          ['excelente', 'explicação']\n",
              "9203              ['atendar', 'telefone', 'amor', 'deus']\n",
              "9204    ['saber', 'qual', 'grande', 'fiis', 'mercado',...\n",
              "9205    ['erro', 'financeiro', 'eliminar', 'antes', 'a...\n",
              "9206    ['porque', 'morning', 'call', 'aparecer', 'spo...\n",
              "Name: texto_tratado, Length: 9207, dtype: object"
            ]
          },
          "metadata": {},
          "execution_count": 10
        }
      ]
    },
    {
      "cell_type": "code",
      "source": [
        "# Supondo que seu DataFrame seja chamado de df e a coluna seja 'texto_tratado'\n",
        "df['texto_tratado'] = df['texto_tratado'].str.replace(\"'\", \"\")\n",
        "df['texto_tratado']"
      ],
      "metadata": {
        "colab": {
          "base_uri": "https://localhost:8080/"
        },
        "id": "BenRWfG2U8JM",
        "outputId": "656ccc6e-2c51-4444-e9ab-3324edca6656"
      },
      "execution_count": null,
      "outputs": [
        {
          "output_type": "execute_result",
          "data": {
            "text/plain": [
              "0       [alvarez, marsal, estar, conosco, sportainmet,...\n",
              "1       [btgpactual, with, makerepost, entender, impac...\n",
              "2                                   [minuto, touro, ouro]\n",
              "3                                                   [sim]\n",
              "4           [querer, saber, banking, próprio, administro]\n",
              "                              ...                        \n",
              "9202                              [excelente, explicação]\n",
              "9203                      [atendar, telefone, amor, deus]\n",
              "9204    [saber, qual, grande, fiis, mercado, selecione...\n",
              "9205    [erro, financeiro, eliminar, antes, ano, _, pa...\n",
              "9206    [porque, morning, call, aparecer, spotify, atu...\n",
              "Name: texto_tratado, Length: 9207, dtype: object"
            ]
          },
          "metadata": {},
          "execution_count": 11
        }
      ]
    },
    {
      "cell_type": "markdown",
      "source": [
        "# 10. Word2Vec com CBOW"
      ],
      "metadata": {
        "id": "y4KhJVXLK7W8"
      }
    },
    {
      "cell_type": "markdown",
      "source": [
        "## Estruturação"
      ],
      "metadata": {
        "id": "1BXIKk0Ud470"
      }
    },
    {
      "cell_type": "code",
      "source": [
        "df"
      ],
      "metadata": {
        "id": "dgxQlJajLDF6",
        "colab": {
          "base_uri": "https://localhost:8080/",
          "height": 424
        },
        "outputId": "e8689f2f-54ba-4f67-c345-70a2bdbc1464"
      },
      "execution_count": null,
      "outputs": [
        {
          "output_type": "execute_result",
          "data": {
            "text/plain": [
              "      Unnamed: 0                     autor  sentimento  \\\n",
              "0              0             winthegame_of           1   \n",
              "1              1                marta_bego           1   \n",
              "2              2                lmviapiana           2   \n",
              "3              3              vanilson_dos           1   \n",
              "4              4               ricktolledo           2   \n",
              "...          ...                       ...         ...   \n",
              "9202        9472  perspectiveinvestimentos           2   \n",
              "9203        9473            eduardocolares           2   \n",
              "9204        9474                 danielucm           2   \n",
              "9205        9475          amgcapitalinvest           1   \n",
              "9206        9476                 bfmarilia           0   \n",
              "\n",
              "                                          texto_tratado  \n",
              "0     [alvarez, marsal, estar, conosco, sportainmet,...  \n",
              "1     [btgpactual, with, makerepost, entender, impac...  \n",
              "2                                 [minuto, touro, ouro]  \n",
              "3                                                 [sim]  \n",
              "4         [querer, saber, banking, próprio, administro]  \n",
              "...                                                 ...  \n",
              "9202                            [excelente, explicação]  \n",
              "9203                    [atendar, telefone, amor, deus]  \n",
              "9204  [saber, qual, grande, fiis, mercado, selecione...  \n",
              "9205  [erro, financeiro, eliminar, antes, ano, _, pa...  \n",
              "9206  [porque, morning, call, aparecer, spotify, atu...  \n",
              "\n",
              "[9207 rows x 4 columns]"
            ],
            "text/html": [
              "\n",
              "  <div id=\"df-1fedbc1b-e650-4353-ae34-fdfc90dc68de\">\n",
              "    <div class=\"colab-df-container\">\n",
              "      <div>\n",
              "<style scoped>\n",
              "    .dataframe tbody tr th:only-of-type {\n",
              "        vertical-align: middle;\n",
              "    }\n",
              "\n",
              "    .dataframe tbody tr th {\n",
              "        vertical-align: top;\n",
              "    }\n",
              "\n",
              "    .dataframe thead th {\n",
              "        text-align: right;\n",
              "    }\n",
              "</style>\n",
              "<table border=\"1\" class=\"dataframe\">\n",
              "  <thead>\n",
              "    <tr style=\"text-align: right;\">\n",
              "      <th></th>\n",
              "      <th>Unnamed: 0</th>\n",
              "      <th>autor</th>\n",
              "      <th>sentimento</th>\n",
              "      <th>texto_tratado</th>\n",
              "    </tr>\n",
              "  </thead>\n",
              "  <tbody>\n",
              "    <tr>\n",
              "      <th>0</th>\n",
              "      <td>0</td>\n",
              "      <td>winthegame_of</td>\n",
              "      <td>1</td>\n",
              "      <td>[alvarez, marsal, estar, conosco, sportainmet,...</td>\n",
              "    </tr>\n",
              "    <tr>\n",
              "      <th>1</th>\n",
              "      <td>1</td>\n",
              "      <td>marta_bego</td>\n",
              "      <td>1</td>\n",
              "      <td>[btgpactual, with, makerepost, entender, impac...</td>\n",
              "    </tr>\n",
              "    <tr>\n",
              "      <th>2</th>\n",
              "      <td>2</td>\n",
              "      <td>lmviapiana</td>\n",
              "      <td>2</td>\n",
              "      <td>[minuto, touro, ouro]</td>\n",
              "    </tr>\n",
              "    <tr>\n",
              "      <th>3</th>\n",
              "      <td>3</td>\n",
              "      <td>vanilson_dos</td>\n",
              "      <td>1</td>\n",
              "      <td>[sim]</td>\n",
              "    </tr>\n",
              "    <tr>\n",
              "      <th>4</th>\n",
              "      <td>4</td>\n",
              "      <td>ricktolledo</td>\n",
              "      <td>2</td>\n",
              "      <td>[querer, saber, banking, próprio, administro]</td>\n",
              "    </tr>\n",
              "    <tr>\n",
              "      <th>...</th>\n",
              "      <td>...</td>\n",
              "      <td>...</td>\n",
              "      <td>...</td>\n",
              "      <td>...</td>\n",
              "    </tr>\n",
              "    <tr>\n",
              "      <th>9202</th>\n",
              "      <td>9472</td>\n",
              "      <td>perspectiveinvestimentos</td>\n",
              "      <td>2</td>\n",
              "      <td>[excelente, explicação]</td>\n",
              "    </tr>\n",
              "    <tr>\n",
              "      <th>9203</th>\n",
              "      <td>9473</td>\n",
              "      <td>eduardocolares</td>\n",
              "      <td>2</td>\n",
              "      <td>[atendar, telefone, amor, deus]</td>\n",
              "    </tr>\n",
              "    <tr>\n",
              "      <th>9204</th>\n",
              "      <td>9474</td>\n",
              "      <td>danielucm</td>\n",
              "      <td>2</td>\n",
              "      <td>[saber, qual, grande, fiis, mercado, selecione...</td>\n",
              "    </tr>\n",
              "    <tr>\n",
              "      <th>9205</th>\n",
              "      <td>9475</td>\n",
              "      <td>amgcapitalinvest</td>\n",
              "      <td>1</td>\n",
              "      <td>[erro, financeiro, eliminar, antes, ano, _, pa...</td>\n",
              "    </tr>\n",
              "    <tr>\n",
              "      <th>9206</th>\n",
              "      <td>9476</td>\n",
              "      <td>bfmarilia</td>\n",
              "      <td>0</td>\n",
              "      <td>[porque, morning, call, aparecer, spotify, atu...</td>\n",
              "    </tr>\n",
              "  </tbody>\n",
              "</table>\n",
              "<p>9207 rows × 4 columns</p>\n",
              "</div>\n",
              "      <button class=\"colab-df-convert\" onclick=\"convertToInteractive('df-1fedbc1b-e650-4353-ae34-fdfc90dc68de')\"\n",
              "              title=\"Convert this dataframe to an interactive table.\"\n",
              "              style=\"display:none;\">\n",
              "        \n",
              "  <svg xmlns=\"http://www.w3.org/2000/svg\" height=\"24px\"viewBox=\"0 0 24 24\"\n",
              "       width=\"24px\">\n",
              "    <path d=\"M0 0h24v24H0V0z\" fill=\"none\"/>\n",
              "    <path d=\"M18.56 5.44l.94 2.06.94-2.06 2.06-.94-2.06-.94-.94-2.06-.94 2.06-2.06.94zm-11 1L8.5 8.5l.94-2.06 2.06-.94-2.06-.94L8.5 2.5l-.94 2.06-2.06.94zm10 10l.94 2.06.94-2.06 2.06-.94-2.06-.94-.94-2.06-.94 2.06-2.06.94z\"/><path d=\"M17.41 7.96l-1.37-1.37c-.4-.4-.92-.59-1.43-.59-.52 0-1.04.2-1.43.59L10.3 9.45l-7.72 7.72c-.78.78-.78 2.05 0 2.83L4 21.41c.39.39.9.59 1.41.59.51 0 1.02-.2 1.41-.59l7.78-7.78 2.81-2.81c.8-.78.8-2.07 0-2.86zM5.41 20L4 18.59l7.72-7.72 1.47 1.35L5.41 20z\"/>\n",
              "  </svg>\n",
              "      </button>\n",
              "      \n",
              "  <style>\n",
              "    .colab-df-container {\n",
              "      display:flex;\n",
              "      flex-wrap:wrap;\n",
              "      gap: 12px;\n",
              "    }\n",
              "\n",
              "    .colab-df-convert {\n",
              "      background-color: #E8F0FE;\n",
              "      border: none;\n",
              "      border-radius: 50%;\n",
              "      cursor: pointer;\n",
              "      display: none;\n",
              "      fill: #1967D2;\n",
              "      height: 32px;\n",
              "      padding: 0 0 0 0;\n",
              "      width: 32px;\n",
              "    }\n",
              "\n",
              "    .colab-df-convert:hover {\n",
              "      background-color: #E2EBFA;\n",
              "      box-shadow: 0px 1px 2px rgba(60, 64, 67, 0.3), 0px 1px 3px 1px rgba(60, 64, 67, 0.15);\n",
              "      fill: #174EA6;\n",
              "    }\n",
              "\n",
              "    [theme=dark] .colab-df-convert {\n",
              "      background-color: #3B4455;\n",
              "      fill: #D2E3FC;\n",
              "    }\n",
              "\n",
              "    [theme=dark] .colab-df-convert:hover {\n",
              "      background-color: #434B5C;\n",
              "      box-shadow: 0px 1px 3px 1px rgba(0, 0, 0, 0.15);\n",
              "      filter: drop-shadow(0px 1px 2px rgba(0, 0, 0, 0.3));\n",
              "      fill: #FFFFFF;\n",
              "    }\n",
              "  </style>\n",
              "\n",
              "      <script>\n",
              "        const buttonEl =\n",
              "          document.querySelector('#df-1fedbc1b-e650-4353-ae34-fdfc90dc68de button.colab-df-convert');\n",
              "        buttonEl.style.display =\n",
              "          google.colab.kernel.accessAllowed ? 'block' : 'none';\n",
              "\n",
              "        async function convertToInteractive(key) {\n",
              "          const element = document.querySelector('#df-1fedbc1b-e650-4353-ae34-fdfc90dc68de');\n",
              "          const dataTable =\n",
              "            await google.colab.kernel.invokeFunction('convertToInteractive',\n",
              "                                                     [key], {});\n",
              "          if (!dataTable) return;\n",
              "\n",
              "          const docLinkHtml = 'Like what you see? Visit the ' +\n",
              "            '<a target=\"_blank\" href=https://colab.research.google.com/notebooks/data_table.ipynb>data table notebook</a>'\n",
              "            + ' to learn more about interactive tables.';\n",
              "          element.innerHTML = '';\n",
              "          dataTable['output_type'] = 'display_data';\n",
              "          await google.colab.output.renderOutput(dataTable, element);\n",
              "          const docLink = document.createElement('div');\n",
              "          docLink.innerHTML = docLinkHtml;\n",
              "          element.appendChild(docLink);\n",
              "        }\n",
              "      </script>\n",
              "    </div>\n",
              "  </div>\n",
              "  "
            ]
          },
          "metadata": {},
          "execution_count": 12
        }
      ]
    },
    {
      "cell_type": "code",
      "source": [
        "cbow = '/content/drive/MyDrive/Módulo 6/Semana 5/cbow_s50/cbow_s50.txt'"
      ],
      "metadata": {
        "id": "8nzqODtZcsdF"
      },
      "execution_count": null,
      "outputs": []
    },
    {
      "cell_type": "code",
      "source": [
        "model_cbow = KeyedVectors.load_word2vec_format(cbow)"
      ],
      "metadata": {
        "id": "ejOULae3dOeN"
      },
      "execution_count": null,
      "outputs": []
    },
    {
      "cell_type": "markdown",
      "source": [
        "## Teste isolado"
      ],
      "metadata": {
        "id": "G4jU0o6Ud7jk"
      }
    },
    {
      "cell_type": "code",
      "source": [
        "# Testando o word2vec\n",
        "wordvec_test = model_cbow['projeto']\n",
        "\n",
        "wordvec_test"
      ],
      "metadata": {
        "colab": {
          "base_uri": "https://localhost:8080/"
        },
        "id": "Ib98bYExdQ09",
        "outputId": "84b3fc65-e059-4244-cd52-ad9aa4cbff85"
      },
      "execution_count": null,
      "outputs": [
        {
          "output_type": "execute_result",
          "data": {
            "text/plain": [
              "array([-0.074174, -0.152088,  0.086627, -0.224567,  0.362562,  0.130683,\n",
              "       -0.089179, -0.086973,  0.309501,  0.004112, -0.308202,  0.351789,\n",
              "       -0.477863,  0.050276,  0.213283,  0.159895, -0.285545, -0.08832 ,\n",
              "       -0.015449,  0.014816, -0.613861,  0.502556,  0.021688,  0.369492,\n",
              "        0.280691,  0.016868,  0.105584, -0.180754, -0.078456,  0.148032,\n",
              "        0.36293 , -0.011634,  0.412191, -0.009049,  0.010404,  0.131242,\n",
              "       -0.032483, -0.133067, -0.063802,  0.434015, -0.214768, -0.072132,\n",
              "        0.045601, -0.368866,  0.502808,  0.048293, -0.254894,  0.142581,\n",
              "       -0.075066,  0.015646], dtype=float32)"
            ]
          },
          "metadata": {},
          "execution_count": 15
        }
      ]
    },
    {
      "cell_type": "markdown",
      "source": [
        "## Definição de função"
      ],
      "metadata": {
        "id": "XVpVpl42d9Nu"
      }
    },
    {
      "cell_type": "code",
      "source": [
        "def create_sentence_vector(model, df):\n",
        "    sentence_table = []\n",
        "    for sentence in df['texto_tratado']:\n",
        "        word_vectors = [model[word] for word in sentence if word in model]\n",
        "        if len(word_vectors) > 0:\n",
        "            sentence_vector = sum(word_vectors) / len(word_vectors)\n",
        "        else:\n",
        "            sentence_vector = [None] * 100  # Cria uma lista de 100 elementos None\n",
        "        sentence_table.append((sentence, *sentence_vector[:50]))  # Adiciona apenas os primeiros 50 elementos do vetor\n",
        "\n",
        "    column_labels = ['Frase']\n",
        "    for i in range(50):\n",
        "        column_labels.append(f'Vetor{i+1}')\n",
        "    df_vec = pd.DataFrame(sentence_table, columns=column_labels)\n",
        "\n",
        "    df[\"sentimentoNumerico\"] = df[\"sentimento\"].replace({'NEGATIVE': -1, 'POSITIVE': 1, 'NEUTRAL': 0})\n",
        "\n",
        "    # Definir o índice do DataFrame df_vec como o mesmo índice de df_processada['sentimentoNumerico']\n",
        "    df_vec.set_index(df[\"sentimentoNumerico\"].index, inplace=True)\n",
        "\n",
        "    df_vec['sentimento'] = df[\"sentimentoNumerico\"]\n",
        "    df_vec = df_vec.dropna()\n",
        "\n",
        "    return df_vec"
      ],
      "metadata": {
        "id": "iI_Gq3b3dVuk"
      },
      "execution_count": null,
      "outputs": []
    },
    {
      "cell_type": "markdown",
      "source": [
        "## Teste de funções"
      ],
      "metadata": {
        "id": "3k0a2PQ3eABM"
      }
    },
    {
      "cell_type": "code",
      "source": [
        "df_vec = create_sentence_vector(model_cbow, df)\n",
        "df_vec"
      ],
      "metadata": {
        "colab": {
          "base_uri": "https://localhost:8080/",
          "height": 922
        },
        "id": "KFlOnmx7eBlj",
        "outputId": "25668f1b-13a2-4fa4-dd81-7bfe4cb39703"
      },
      "execution_count": null,
      "outputs": [
        {
          "output_type": "execute_result",
          "data": {
            "text/plain": [
              "                                                  Frase    Vetor1    Vetor2  \\\n",
              "0     [alvarez, marsal, estar, conosco, sportainmet,...  0.213634 -0.129877   \n",
              "1     [btgpactual, with, makerepost, entender, impac...  0.222697 -0.124886   \n",
              "2                                 [minuto, touro, ouro]  0.265227 -0.068285   \n",
              "3                                                 [sim]  0.166258 -0.029796   \n",
              "4         [querer, saber, banking, próprio, administro]  0.187512 -0.183612   \n",
              "...                                                 ...       ...       ...   \n",
              "9202                            [excelente, explicação]  0.190917 -0.133475   \n",
              "9203                    [atendar, telefone, amor, deus]  0.188641 -0.119377   \n",
              "9204  [saber, qual, grande, fiis, mercado, selecione...  0.215474 -0.137852   \n",
              "9205  [erro, financeiro, eliminar, antes, ano, _, pa...  0.219393 -0.129317   \n",
              "9206  [porque, morning, call, aparecer, spotify, atu...  0.225402 -0.137580   \n",
              "\n",
              "        Vetor3    Vetor4    Vetor5    Vetor6    Vetor7    Vetor8    Vetor9  \\\n",
              "0     0.241601 -0.075002 -0.015629  0.206194  0.072658  0.055472  0.061554   \n",
              "1     0.213157 -0.059091 -0.010530  0.201566  0.071898  0.033920  0.059524   \n",
              "2     0.152235 -0.044329 -0.102729  0.141353  0.092800  0.113174  0.015783   \n",
              "3     0.204045 -0.297490  0.046077  0.140763  0.035251 -0.174491  0.211817   \n",
              "4     0.300155 -0.052422 -0.034717  0.232278  0.058778  0.084289  0.088006   \n",
              "...        ...       ...       ...       ...       ...       ...       ...   \n",
              "9202  0.241675 -0.053180  0.067256  0.201138  0.034109 -0.078718 -0.066131   \n",
              "9203  0.199339 -0.105448  0.023176  0.178837  0.069476 -0.004494  0.034710   \n",
              "9204  0.223206 -0.072183 -0.013213  0.205186  0.063497  0.039164  0.070273   \n",
              "9205  0.239226 -0.064735 -0.025696  0.224218  0.070732  0.042386  0.040706   \n",
              "9206  0.274046 -0.044282  0.008441  0.249057  0.043162  0.080058  0.049930   \n",
              "\n",
              "      ...   Vetor42   Vetor43   Vetor44   Vetor45   Vetor46   Vetor47  \\\n",
              "0     ...  0.024361 -0.111328  0.157674  0.094309 -0.047458  0.157365   \n",
              "1     ...  0.008988 -0.079109  0.159296  0.085387 -0.008607  0.158519   \n",
              "2     ...  0.078032 -0.202677  0.155750  0.062291  0.007038  0.134573   \n",
              "3     ...  0.065839 -0.092451  0.308218 -0.034692 -0.032851 -0.028724   \n",
              "4     ...  0.097538 -0.161461  0.196748  0.088577 -0.080884  0.167507   \n",
              "...   ...       ...       ...       ...       ...       ...       ...   \n",
              "9202  ... -0.082151  0.016113  0.154861  0.068700 -0.004302  0.079717   \n",
              "9203  ...  0.034035 -0.126673  0.165176  0.080313 -0.024160  0.118848   \n",
              "9204  ...  0.034706 -0.097793  0.177275  0.090335 -0.047405  0.154374   \n",
              "9205  ...  0.025414 -0.108338  0.160880  0.092846 -0.032266  0.151619   \n",
              "9206  ...  0.007607 -0.097939  0.163142  0.100946 -0.034086  0.136629   \n",
              "\n",
              "       Vetor48   Vetor49   Vetor50  sentimento  \n",
              "0    -0.033920  0.022211  0.182153           1  \n",
              "1    -0.022680  0.031107  0.189521           1  \n",
              "2     0.014635  0.034189  0.345674           2  \n",
              "3    -0.068701  0.011158  0.258413           1  \n",
              "4    -0.049984 -0.000942  0.187811           2  \n",
              "...        ...       ...       ...         ...  \n",
              "9202 -0.028388 -0.017448  0.188785           2  \n",
              "9203 -0.003502  0.087053  0.215656           2  \n",
              "9204 -0.028906  0.023713  0.179591           2  \n",
              "9205 -0.023750  0.028080  0.191956           1  \n",
              "9206 -0.024904  0.030681  0.170319           0  \n",
              "\n",
              "[9207 rows x 52 columns]"
            ],
            "text/html": [
              "\n",
              "  <div id=\"df-cfe0b5b0-9ad6-4e6a-8b89-728f21cb24b9\">\n",
              "    <div class=\"colab-df-container\">\n",
              "      <div>\n",
              "<style scoped>\n",
              "    .dataframe tbody tr th:only-of-type {\n",
              "        vertical-align: middle;\n",
              "    }\n",
              "\n",
              "    .dataframe tbody tr th {\n",
              "        vertical-align: top;\n",
              "    }\n",
              "\n",
              "    .dataframe thead th {\n",
              "        text-align: right;\n",
              "    }\n",
              "</style>\n",
              "<table border=\"1\" class=\"dataframe\">\n",
              "  <thead>\n",
              "    <tr style=\"text-align: right;\">\n",
              "      <th></th>\n",
              "      <th>Frase</th>\n",
              "      <th>Vetor1</th>\n",
              "      <th>Vetor2</th>\n",
              "      <th>Vetor3</th>\n",
              "      <th>Vetor4</th>\n",
              "      <th>Vetor5</th>\n",
              "      <th>Vetor6</th>\n",
              "      <th>Vetor7</th>\n",
              "      <th>Vetor8</th>\n",
              "      <th>Vetor9</th>\n",
              "      <th>...</th>\n",
              "      <th>Vetor42</th>\n",
              "      <th>Vetor43</th>\n",
              "      <th>Vetor44</th>\n",
              "      <th>Vetor45</th>\n",
              "      <th>Vetor46</th>\n",
              "      <th>Vetor47</th>\n",
              "      <th>Vetor48</th>\n",
              "      <th>Vetor49</th>\n",
              "      <th>Vetor50</th>\n",
              "      <th>sentimento</th>\n",
              "    </tr>\n",
              "  </thead>\n",
              "  <tbody>\n",
              "    <tr>\n",
              "      <th>0</th>\n",
              "      <td>[alvarez, marsal, estar, conosco, sportainmet,...</td>\n",
              "      <td>0.213634</td>\n",
              "      <td>-0.129877</td>\n",
              "      <td>0.241601</td>\n",
              "      <td>-0.075002</td>\n",
              "      <td>-0.015629</td>\n",
              "      <td>0.206194</td>\n",
              "      <td>0.072658</td>\n",
              "      <td>0.055472</td>\n",
              "      <td>0.061554</td>\n",
              "      <td>...</td>\n",
              "      <td>0.024361</td>\n",
              "      <td>-0.111328</td>\n",
              "      <td>0.157674</td>\n",
              "      <td>0.094309</td>\n",
              "      <td>-0.047458</td>\n",
              "      <td>0.157365</td>\n",
              "      <td>-0.033920</td>\n",
              "      <td>0.022211</td>\n",
              "      <td>0.182153</td>\n",
              "      <td>1</td>\n",
              "    </tr>\n",
              "    <tr>\n",
              "      <th>1</th>\n",
              "      <td>[btgpactual, with, makerepost, entender, impac...</td>\n",
              "      <td>0.222697</td>\n",
              "      <td>-0.124886</td>\n",
              "      <td>0.213157</td>\n",
              "      <td>-0.059091</td>\n",
              "      <td>-0.010530</td>\n",
              "      <td>0.201566</td>\n",
              "      <td>0.071898</td>\n",
              "      <td>0.033920</td>\n",
              "      <td>0.059524</td>\n",
              "      <td>...</td>\n",
              "      <td>0.008988</td>\n",
              "      <td>-0.079109</td>\n",
              "      <td>0.159296</td>\n",
              "      <td>0.085387</td>\n",
              "      <td>-0.008607</td>\n",
              "      <td>0.158519</td>\n",
              "      <td>-0.022680</td>\n",
              "      <td>0.031107</td>\n",
              "      <td>0.189521</td>\n",
              "      <td>1</td>\n",
              "    </tr>\n",
              "    <tr>\n",
              "      <th>2</th>\n",
              "      <td>[minuto, touro, ouro]</td>\n",
              "      <td>0.265227</td>\n",
              "      <td>-0.068285</td>\n",
              "      <td>0.152235</td>\n",
              "      <td>-0.044329</td>\n",
              "      <td>-0.102729</td>\n",
              "      <td>0.141353</td>\n",
              "      <td>0.092800</td>\n",
              "      <td>0.113174</td>\n",
              "      <td>0.015783</td>\n",
              "      <td>...</td>\n",
              "      <td>0.078032</td>\n",
              "      <td>-0.202677</td>\n",
              "      <td>0.155750</td>\n",
              "      <td>0.062291</td>\n",
              "      <td>0.007038</td>\n",
              "      <td>0.134573</td>\n",
              "      <td>0.014635</td>\n",
              "      <td>0.034189</td>\n",
              "      <td>0.345674</td>\n",
              "      <td>2</td>\n",
              "    </tr>\n",
              "    <tr>\n",
              "      <th>3</th>\n",
              "      <td>[sim]</td>\n",
              "      <td>0.166258</td>\n",
              "      <td>-0.029796</td>\n",
              "      <td>0.204045</td>\n",
              "      <td>-0.297490</td>\n",
              "      <td>0.046077</td>\n",
              "      <td>0.140763</td>\n",
              "      <td>0.035251</td>\n",
              "      <td>-0.174491</td>\n",
              "      <td>0.211817</td>\n",
              "      <td>...</td>\n",
              "      <td>0.065839</td>\n",
              "      <td>-0.092451</td>\n",
              "      <td>0.308218</td>\n",
              "      <td>-0.034692</td>\n",
              "      <td>-0.032851</td>\n",
              "      <td>-0.028724</td>\n",
              "      <td>-0.068701</td>\n",
              "      <td>0.011158</td>\n",
              "      <td>0.258413</td>\n",
              "      <td>1</td>\n",
              "    </tr>\n",
              "    <tr>\n",
              "      <th>4</th>\n",
              "      <td>[querer, saber, banking, próprio, administro]</td>\n",
              "      <td>0.187512</td>\n",
              "      <td>-0.183612</td>\n",
              "      <td>0.300155</td>\n",
              "      <td>-0.052422</td>\n",
              "      <td>-0.034717</td>\n",
              "      <td>0.232278</td>\n",
              "      <td>0.058778</td>\n",
              "      <td>0.084289</td>\n",
              "      <td>0.088006</td>\n",
              "      <td>...</td>\n",
              "      <td>0.097538</td>\n",
              "      <td>-0.161461</td>\n",
              "      <td>0.196748</td>\n",
              "      <td>0.088577</td>\n",
              "      <td>-0.080884</td>\n",
              "      <td>0.167507</td>\n",
              "      <td>-0.049984</td>\n",
              "      <td>-0.000942</td>\n",
              "      <td>0.187811</td>\n",
              "      <td>2</td>\n",
              "    </tr>\n",
              "    <tr>\n",
              "      <th>...</th>\n",
              "      <td>...</td>\n",
              "      <td>...</td>\n",
              "      <td>...</td>\n",
              "      <td>...</td>\n",
              "      <td>...</td>\n",
              "      <td>...</td>\n",
              "      <td>...</td>\n",
              "      <td>...</td>\n",
              "      <td>...</td>\n",
              "      <td>...</td>\n",
              "      <td>...</td>\n",
              "      <td>...</td>\n",
              "      <td>...</td>\n",
              "      <td>...</td>\n",
              "      <td>...</td>\n",
              "      <td>...</td>\n",
              "      <td>...</td>\n",
              "      <td>...</td>\n",
              "      <td>...</td>\n",
              "      <td>...</td>\n",
              "      <td>...</td>\n",
              "    </tr>\n",
              "    <tr>\n",
              "      <th>9202</th>\n",
              "      <td>[excelente, explicação]</td>\n",
              "      <td>0.190917</td>\n",
              "      <td>-0.133475</td>\n",
              "      <td>0.241675</td>\n",
              "      <td>-0.053180</td>\n",
              "      <td>0.067256</td>\n",
              "      <td>0.201138</td>\n",
              "      <td>0.034109</td>\n",
              "      <td>-0.078718</td>\n",
              "      <td>-0.066131</td>\n",
              "      <td>...</td>\n",
              "      <td>-0.082151</td>\n",
              "      <td>0.016113</td>\n",
              "      <td>0.154861</td>\n",
              "      <td>0.068700</td>\n",
              "      <td>-0.004302</td>\n",
              "      <td>0.079717</td>\n",
              "      <td>-0.028388</td>\n",
              "      <td>-0.017448</td>\n",
              "      <td>0.188785</td>\n",
              "      <td>2</td>\n",
              "    </tr>\n",
              "    <tr>\n",
              "      <th>9203</th>\n",
              "      <td>[atendar, telefone, amor, deus]</td>\n",
              "      <td>0.188641</td>\n",
              "      <td>-0.119377</td>\n",
              "      <td>0.199339</td>\n",
              "      <td>-0.105448</td>\n",
              "      <td>0.023176</td>\n",
              "      <td>0.178837</td>\n",
              "      <td>0.069476</td>\n",
              "      <td>-0.004494</td>\n",
              "      <td>0.034710</td>\n",
              "      <td>...</td>\n",
              "      <td>0.034035</td>\n",
              "      <td>-0.126673</td>\n",
              "      <td>0.165176</td>\n",
              "      <td>0.080313</td>\n",
              "      <td>-0.024160</td>\n",
              "      <td>0.118848</td>\n",
              "      <td>-0.003502</td>\n",
              "      <td>0.087053</td>\n",
              "      <td>0.215656</td>\n",
              "      <td>2</td>\n",
              "    </tr>\n",
              "    <tr>\n",
              "      <th>9204</th>\n",
              "      <td>[saber, qual, grande, fiis, mercado, selecione...</td>\n",
              "      <td>0.215474</td>\n",
              "      <td>-0.137852</td>\n",
              "      <td>0.223206</td>\n",
              "      <td>-0.072183</td>\n",
              "      <td>-0.013213</td>\n",
              "      <td>0.205186</td>\n",
              "      <td>0.063497</td>\n",
              "      <td>0.039164</td>\n",
              "      <td>0.070273</td>\n",
              "      <td>...</td>\n",
              "      <td>0.034706</td>\n",
              "      <td>-0.097793</td>\n",
              "      <td>0.177275</td>\n",
              "      <td>0.090335</td>\n",
              "      <td>-0.047405</td>\n",
              "      <td>0.154374</td>\n",
              "      <td>-0.028906</td>\n",
              "      <td>0.023713</td>\n",
              "      <td>0.179591</td>\n",
              "      <td>2</td>\n",
              "    </tr>\n",
              "    <tr>\n",
              "      <th>9205</th>\n",
              "      <td>[erro, financeiro, eliminar, antes, ano, _, pa...</td>\n",
              "      <td>0.219393</td>\n",
              "      <td>-0.129317</td>\n",
              "      <td>0.239226</td>\n",
              "      <td>-0.064735</td>\n",
              "      <td>-0.025696</td>\n",
              "      <td>0.224218</td>\n",
              "      <td>0.070732</td>\n",
              "      <td>0.042386</td>\n",
              "      <td>0.040706</td>\n",
              "      <td>...</td>\n",
              "      <td>0.025414</td>\n",
              "      <td>-0.108338</td>\n",
              "      <td>0.160880</td>\n",
              "      <td>0.092846</td>\n",
              "      <td>-0.032266</td>\n",
              "      <td>0.151619</td>\n",
              "      <td>-0.023750</td>\n",
              "      <td>0.028080</td>\n",
              "      <td>0.191956</td>\n",
              "      <td>1</td>\n",
              "    </tr>\n",
              "    <tr>\n",
              "      <th>9206</th>\n",
              "      <td>[porque, morning, call, aparecer, spotify, atu...</td>\n",
              "      <td>0.225402</td>\n",
              "      <td>-0.137580</td>\n",
              "      <td>0.274046</td>\n",
              "      <td>-0.044282</td>\n",
              "      <td>0.008441</td>\n",
              "      <td>0.249057</td>\n",
              "      <td>0.043162</td>\n",
              "      <td>0.080058</td>\n",
              "      <td>0.049930</td>\n",
              "      <td>...</td>\n",
              "      <td>0.007607</td>\n",
              "      <td>-0.097939</td>\n",
              "      <td>0.163142</td>\n",
              "      <td>0.100946</td>\n",
              "      <td>-0.034086</td>\n",
              "      <td>0.136629</td>\n",
              "      <td>-0.024904</td>\n",
              "      <td>0.030681</td>\n",
              "      <td>0.170319</td>\n",
              "      <td>0</td>\n",
              "    </tr>\n",
              "  </tbody>\n",
              "</table>\n",
              "<p>9207 rows × 52 columns</p>\n",
              "</div>\n",
              "      <button class=\"colab-df-convert\" onclick=\"convertToInteractive('df-cfe0b5b0-9ad6-4e6a-8b89-728f21cb24b9')\"\n",
              "              title=\"Convert this dataframe to an interactive table.\"\n",
              "              style=\"display:none;\">\n",
              "        \n",
              "  <svg xmlns=\"http://www.w3.org/2000/svg\" height=\"24px\"viewBox=\"0 0 24 24\"\n",
              "       width=\"24px\">\n",
              "    <path d=\"M0 0h24v24H0V0z\" fill=\"none\"/>\n",
              "    <path d=\"M18.56 5.44l.94 2.06.94-2.06 2.06-.94-2.06-.94-.94-2.06-.94 2.06-2.06.94zm-11 1L8.5 8.5l.94-2.06 2.06-.94-2.06-.94L8.5 2.5l-.94 2.06-2.06.94zm10 10l.94 2.06.94-2.06 2.06-.94-2.06-.94-.94-2.06-.94 2.06-2.06.94z\"/><path d=\"M17.41 7.96l-1.37-1.37c-.4-.4-.92-.59-1.43-.59-.52 0-1.04.2-1.43.59L10.3 9.45l-7.72 7.72c-.78.78-.78 2.05 0 2.83L4 21.41c.39.39.9.59 1.41.59.51 0 1.02-.2 1.41-.59l7.78-7.78 2.81-2.81c.8-.78.8-2.07 0-2.86zM5.41 20L4 18.59l7.72-7.72 1.47 1.35L5.41 20z\"/>\n",
              "  </svg>\n",
              "      </button>\n",
              "      \n",
              "  <style>\n",
              "    .colab-df-container {\n",
              "      display:flex;\n",
              "      flex-wrap:wrap;\n",
              "      gap: 12px;\n",
              "    }\n",
              "\n",
              "    .colab-df-convert {\n",
              "      background-color: #E8F0FE;\n",
              "      border: none;\n",
              "      border-radius: 50%;\n",
              "      cursor: pointer;\n",
              "      display: none;\n",
              "      fill: #1967D2;\n",
              "      height: 32px;\n",
              "      padding: 0 0 0 0;\n",
              "      width: 32px;\n",
              "    }\n",
              "\n",
              "    .colab-df-convert:hover {\n",
              "      background-color: #E2EBFA;\n",
              "      box-shadow: 0px 1px 2px rgba(60, 64, 67, 0.3), 0px 1px 3px 1px rgba(60, 64, 67, 0.15);\n",
              "      fill: #174EA6;\n",
              "    }\n",
              "\n",
              "    [theme=dark] .colab-df-convert {\n",
              "      background-color: #3B4455;\n",
              "      fill: #D2E3FC;\n",
              "    }\n",
              "\n",
              "    [theme=dark] .colab-df-convert:hover {\n",
              "      background-color: #434B5C;\n",
              "      box-shadow: 0px 1px 3px 1px rgba(0, 0, 0, 0.15);\n",
              "      filter: drop-shadow(0px 1px 2px rgba(0, 0, 0, 0.3));\n",
              "      fill: #FFFFFF;\n",
              "    }\n",
              "  </style>\n",
              "\n",
              "      <script>\n",
              "        const buttonEl =\n",
              "          document.querySelector('#df-cfe0b5b0-9ad6-4e6a-8b89-728f21cb24b9 button.colab-df-convert');\n",
              "        buttonEl.style.display =\n",
              "          google.colab.kernel.accessAllowed ? 'block' : 'none';\n",
              "\n",
              "        async function convertToInteractive(key) {\n",
              "          const element = document.querySelector('#df-cfe0b5b0-9ad6-4e6a-8b89-728f21cb24b9');\n",
              "          const dataTable =\n",
              "            await google.colab.kernel.invokeFunction('convertToInteractive',\n",
              "                                                     [key], {});\n",
              "          if (!dataTable) return;\n",
              "\n",
              "          const docLinkHtml = 'Like what you see? Visit the ' +\n",
              "            '<a target=\"_blank\" href=https://colab.research.google.com/notebooks/data_table.ipynb>data table notebook</a>'\n",
              "            + ' to learn more about interactive tables.';\n",
              "          element.innerHTML = '';\n",
              "          dataTable['output_type'] = 'display_data';\n",
              "          await google.colab.output.renderOutput(dataTable, element);\n",
              "          const docLink = document.createElement('div');\n",
              "          docLink.innerHTML = docLinkHtml;\n",
              "          element.appendChild(docLink);\n",
              "        }\n",
              "      </script>\n",
              "    </div>\n",
              "  </div>\n",
              "  "
            ]
          },
          "metadata": {},
          "execution_count": 17
        }
      ]
    },
    {
      "cell_type": "code",
      "source": [
        "word2vec = df_vec.iloc[:, 1:51]\n",
        "word2vec"
      ],
      "metadata": {
        "colab": {
          "base_uri": "https://localhost:8080/",
          "height": 488
        },
        "id": "nPFmVFl2ErnM",
        "outputId": "488457e9-a313-498c-dade-8f70e1cd1633"
      },
      "execution_count": null,
      "outputs": [
        {
          "output_type": "execute_result",
          "data": {
            "text/plain": [
              "        Vetor1    Vetor2    Vetor3    Vetor4    Vetor5    Vetor6    Vetor7  \\\n",
              "0     0.213634 -0.129877  0.241601 -0.075002 -0.015629  0.206194  0.072658   \n",
              "1     0.222697 -0.124886  0.213157 -0.059091 -0.010530  0.201566  0.071898   \n",
              "2     0.265227 -0.068285  0.152235 -0.044329 -0.102729  0.141353  0.092800   \n",
              "3     0.166258 -0.029796  0.204045 -0.297490  0.046077  0.140763  0.035251   \n",
              "4     0.187512 -0.183612  0.300155 -0.052422 -0.034717  0.232278  0.058778   \n",
              "...        ...       ...       ...       ...       ...       ...       ...   \n",
              "9202  0.190917 -0.133475  0.241675 -0.053180  0.067256  0.201138  0.034109   \n",
              "9203  0.188641 -0.119377  0.199339 -0.105448  0.023176  0.178837  0.069476   \n",
              "9204  0.215474 -0.137852  0.223206 -0.072183 -0.013213  0.205186  0.063497   \n",
              "9205  0.219393 -0.129317  0.239226 -0.064735 -0.025696  0.224218  0.070732   \n",
              "9206  0.225402 -0.137580  0.274046 -0.044282  0.008441  0.249057  0.043162   \n",
              "\n",
              "        Vetor8    Vetor9   Vetor10  ...   Vetor41   Vetor42   Vetor43  \\\n",
              "0     0.055472  0.061554  0.170172  ... -0.270438  0.024361 -0.111328   \n",
              "1     0.033920  0.059524  0.164536  ... -0.301574  0.008988 -0.079109   \n",
              "2     0.113174  0.015783  0.202198  ... -0.193025  0.078032 -0.202677   \n",
              "3    -0.174491  0.211817  0.288314  ... -0.415105  0.065839 -0.092451   \n",
              "4     0.084289  0.088006  0.148424  ... -0.247744  0.097538 -0.161461   \n",
              "...        ...       ...       ...  ...       ...       ...       ...   \n",
              "9202 -0.078718 -0.066131  0.187608  ... -0.321192 -0.082151  0.016113   \n",
              "9203 -0.004494  0.034710  0.150081  ... -0.194663  0.034035 -0.126673   \n",
              "9204  0.039164  0.070273  0.172185  ... -0.300155  0.034706 -0.097793   \n",
              "9205  0.042386  0.040706  0.154811  ... -0.258450  0.025414 -0.108338   \n",
              "9206  0.080058  0.049930  0.108385  ... -0.235024  0.007607 -0.097939   \n",
              "\n",
              "       Vetor44   Vetor45   Vetor46   Vetor47   Vetor48   Vetor49   Vetor50  \n",
              "0     0.157674  0.094309 -0.047458  0.157365 -0.033920  0.022211  0.182153  \n",
              "1     0.159296  0.085387 -0.008607  0.158519 -0.022680  0.031107  0.189521  \n",
              "2     0.155750  0.062291  0.007038  0.134573  0.014635  0.034189  0.345674  \n",
              "3     0.308218 -0.034692 -0.032851 -0.028724 -0.068701  0.011158  0.258413  \n",
              "4     0.196748  0.088577 -0.080884  0.167507 -0.049984 -0.000942  0.187811  \n",
              "...        ...       ...       ...       ...       ...       ...       ...  \n",
              "9202  0.154861  0.068700 -0.004302  0.079717 -0.028388 -0.017448  0.188785  \n",
              "9203  0.165176  0.080313 -0.024160  0.118848 -0.003502  0.087053  0.215656  \n",
              "9204  0.177275  0.090335 -0.047405  0.154374 -0.028906  0.023713  0.179591  \n",
              "9205  0.160880  0.092846 -0.032266  0.151619 -0.023750  0.028080  0.191956  \n",
              "9206  0.163142  0.100946 -0.034086  0.136629 -0.024904  0.030681  0.170319  \n",
              "\n",
              "[9207 rows x 50 columns]"
            ],
            "text/html": [
              "\n",
              "  <div id=\"df-7eb4b5f4-ef9d-4fea-b70e-7d88e048cb17\">\n",
              "    <div class=\"colab-df-container\">\n",
              "      <div>\n",
              "<style scoped>\n",
              "    .dataframe tbody tr th:only-of-type {\n",
              "        vertical-align: middle;\n",
              "    }\n",
              "\n",
              "    .dataframe tbody tr th {\n",
              "        vertical-align: top;\n",
              "    }\n",
              "\n",
              "    .dataframe thead th {\n",
              "        text-align: right;\n",
              "    }\n",
              "</style>\n",
              "<table border=\"1\" class=\"dataframe\">\n",
              "  <thead>\n",
              "    <tr style=\"text-align: right;\">\n",
              "      <th></th>\n",
              "      <th>Vetor1</th>\n",
              "      <th>Vetor2</th>\n",
              "      <th>Vetor3</th>\n",
              "      <th>Vetor4</th>\n",
              "      <th>Vetor5</th>\n",
              "      <th>Vetor6</th>\n",
              "      <th>Vetor7</th>\n",
              "      <th>Vetor8</th>\n",
              "      <th>Vetor9</th>\n",
              "      <th>Vetor10</th>\n",
              "      <th>...</th>\n",
              "      <th>Vetor41</th>\n",
              "      <th>Vetor42</th>\n",
              "      <th>Vetor43</th>\n",
              "      <th>Vetor44</th>\n",
              "      <th>Vetor45</th>\n",
              "      <th>Vetor46</th>\n",
              "      <th>Vetor47</th>\n",
              "      <th>Vetor48</th>\n",
              "      <th>Vetor49</th>\n",
              "      <th>Vetor50</th>\n",
              "    </tr>\n",
              "  </thead>\n",
              "  <tbody>\n",
              "    <tr>\n",
              "      <th>0</th>\n",
              "      <td>0.213634</td>\n",
              "      <td>-0.129877</td>\n",
              "      <td>0.241601</td>\n",
              "      <td>-0.075002</td>\n",
              "      <td>-0.015629</td>\n",
              "      <td>0.206194</td>\n",
              "      <td>0.072658</td>\n",
              "      <td>0.055472</td>\n",
              "      <td>0.061554</td>\n",
              "      <td>0.170172</td>\n",
              "      <td>...</td>\n",
              "      <td>-0.270438</td>\n",
              "      <td>0.024361</td>\n",
              "      <td>-0.111328</td>\n",
              "      <td>0.157674</td>\n",
              "      <td>0.094309</td>\n",
              "      <td>-0.047458</td>\n",
              "      <td>0.157365</td>\n",
              "      <td>-0.033920</td>\n",
              "      <td>0.022211</td>\n",
              "      <td>0.182153</td>\n",
              "    </tr>\n",
              "    <tr>\n",
              "      <th>1</th>\n",
              "      <td>0.222697</td>\n",
              "      <td>-0.124886</td>\n",
              "      <td>0.213157</td>\n",
              "      <td>-0.059091</td>\n",
              "      <td>-0.010530</td>\n",
              "      <td>0.201566</td>\n",
              "      <td>0.071898</td>\n",
              "      <td>0.033920</td>\n",
              "      <td>0.059524</td>\n",
              "      <td>0.164536</td>\n",
              "      <td>...</td>\n",
              "      <td>-0.301574</td>\n",
              "      <td>0.008988</td>\n",
              "      <td>-0.079109</td>\n",
              "      <td>0.159296</td>\n",
              "      <td>0.085387</td>\n",
              "      <td>-0.008607</td>\n",
              "      <td>0.158519</td>\n",
              "      <td>-0.022680</td>\n",
              "      <td>0.031107</td>\n",
              "      <td>0.189521</td>\n",
              "    </tr>\n",
              "    <tr>\n",
              "      <th>2</th>\n",
              "      <td>0.265227</td>\n",
              "      <td>-0.068285</td>\n",
              "      <td>0.152235</td>\n",
              "      <td>-0.044329</td>\n",
              "      <td>-0.102729</td>\n",
              "      <td>0.141353</td>\n",
              "      <td>0.092800</td>\n",
              "      <td>0.113174</td>\n",
              "      <td>0.015783</td>\n",
              "      <td>0.202198</td>\n",
              "      <td>...</td>\n",
              "      <td>-0.193025</td>\n",
              "      <td>0.078032</td>\n",
              "      <td>-0.202677</td>\n",
              "      <td>0.155750</td>\n",
              "      <td>0.062291</td>\n",
              "      <td>0.007038</td>\n",
              "      <td>0.134573</td>\n",
              "      <td>0.014635</td>\n",
              "      <td>0.034189</td>\n",
              "      <td>0.345674</td>\n",
              "    </tr>\n",
              "    <tr>\n",
              "      <th>3</th>\n",
              "      <td>0.166258</td>\n",
              "      <td>-0.029796</td>\n",
              "      <td>0.204045</td>\n",
              "      <td>-0.297490</td>\n",
              "      <td>0.046077</td>\n",
              "      <td>0.140763</td>\n",
              "      <td>0.035251</td>\n",
              "      <td>-0.174491</td>\n",
              "      <td>0.211817</td>\n",
              "      <td>0.288314</td>\n",
              "      <td>...</td>\n",
              "      <td>-0.415105</td>\n",
              "      <td>0.065839</td>\n",
              "      <td>-0.092451</td>\n",
              "      <td>0.308218</td>\n",
              "      <td>-0.034692</td>\n",
              "      <td>-0.032851</td>\n",
              "      <td>-0.028724</td>\n",
              "      <td>-0.068701</td>\n",
              "      <td>0.011158</td>\n",
              "      <td>0.258413</td>\n",
              "    </tr>\n",
              "    <tr>\n",
              "      <th>4</th>\n",
              "      <td>0.187512</td>\n",
              "      <td>-0.183612</td>\n",
              "      <td>0.300155</td>\n",
              "      <td>-0.052422</td>\n",
              "      <td>-0.034717</td>\n",
              "      <td>0.232278</td>\n",
              "      <td>0.058778</td>\n",
              "      <td>0.084289</td>\n",
              "      <td>0.088006</td>\n",
              "      <td>0.148424</td>\n",
              "      <td>...</td>\n",
              "      <td>-0.247744</td>\n",
              "      <td>0.097538</td>\n",
              "      <td>-0.161461</td>\n",
              "      <td>0.196748</td>\n",
              "      <td>0.088577</td>\n",
              "      <td>-0.080884</td>\n",
              "      <td>0.167507</td>\n",
              "      <td>-0.049984</td>\n",
              "      <td>-0.000942</td>\n",
              "      <td>0.187811</td>\n",
              "    </tr>\n",
              "    <tr>\n",
              "      <th>...</th>\n",
              "      <td>...</td>\n",
              "      <td>...</td>\n",
              "      <td>...</td>\n",
              "      <td>...</td>\n",
              "      <td>...</td>\n",
              "      <td>...</td>\n",
              "      <td>...</td>\n",
              "      <td>...</td>\n",
              "      <td>...</td>\n",
              "      <td>...</td>\n",
              "      <td>...</td>\n",
              "      <td>...</td>\n",
              "      <td>...</td>\n",
              "      <td>...</td>\n",
              "      <td>...</td>\n",
              "      <td>...</td>\n",
              "      <td>...</td>\n",
              "      <td>...</td>\n",
              "      <td>...</td>\n",
              "      <td>...</td>\n",
              "      <td>...</td>\n",
              "    </tr>\n",
              "    <tr>\n",
              "      <th>9202</th>\n",
              "      <td>0.190917</td>\n",
              "      <td>-0.133475</td>\n",
              "      <td>0.241675</td>\n",
              "      <td>-0.053180</td>\n",
              "      <td>0.067256</td>\n",
              "      <td>0.201138</td>\n",
              "      <td>0.034109</td>\n",
              "      <td>-0.078718</td>\n",
              "      <td>-0.066131</td>\n",
              "      <td>0.187608</td>\n",
              "      <td>...</td>\n",
              "      <td>-0.321192</td>\n",
              "      <td>-0.082151</td>\n",
              "      <td>0.016113</td>\n",
              "      <td>0.154861</td>\n",
              "      <td>0.068700</td>\n",
              "      <td>-0.004302</td>\n",
              "      <td>0.079717</td>\n",
              "      <td>-0.028388</td>\n",
              "      <td>-0.017448</td>\n",
              "      <td>0.188785</td>\n",
              "    </tr>\n",
              "    <tr>\n",
              "      <th>9203</th>\n",
              "      <td>0.188641</td>\n",
              "      <td>-0.119377</td>\n",
              "      <td>0.199339</td>\n",
              "      <td>-0.105448</td>\n",
              "      <td>0.023176</td>\n",
              "      <td>0.178837</td>\n",
              "      <td>0.069476</td>\n",
              "      <td>-0.004494</td>\n",
              "      <td>0.034710</td>\n",
              "      <td>0.150081</td>\n",
              "      <td>...</td>\n",
              "      <td>-0.194663</td>\n",
              "      <td>0.034035</td>\n",
              "      <td>-0.126673</td>\n",
              "      <td>0.165176</td>\n",
              "      <td>0.080313</td>\n",
              "      <td>-0.024160</td>\n",
              "      <td>0.118848</td>\n",
              "      <td>-0.003502</td>\n",
              "      <td>0.087053</td>\n",
              "      <td>0.215656</td>\n",
              "    </tr>\n",
              "    <tr>\n",
              "      <th>9204</th>\n",
              "      <td>0.215474</td>\n",
              "      <td>-0.137852</td>\n",
              "      <td>0.223206</td>\n",
              "      <td>-0.072183</td>\n",
              "      <td>-0.013213</td>\n",
              "      <td>0.205186</td>\n",
              "      <td>0.063497</td>\n",
              "      <td>0.039164</td>\n",
              "      <td>0.070273</td>\n",
              "      <td>0.172185</td>\n",
              "      <td>...</td>\n",
              "      <td>-0.300155</td>\n",
              "      <td>0.034706</td>\n",
              "      <td>-0.097793</td>\n",
              "      <td>0.177275</td>\n",
              "      <td>0.090335</td>\n",
              "      <td>-0.047405</td>\n",
              "      <td>0.154374</td>\n",
              "      <td>-0.028906</td>\n",
              "      <td>0.023713</td>\n",
              "      <td>0.179591</td>\n",
              "    </tr>\n",
              "    <tr>\n",
              "      <th>9205</th>\n",
              "      <td>0.219393</td>\n",
              "      <td>-0.129317</td>\n",
              "      <td>0.239226</td>\n",
              "      <td>-0.064735</td>\n",
              "      <td>-0.025696</td>\n",
              "      <td>0.224218</td>\n",
              "      <td>0.070732</td>\n",
              "      <td>0.042386</td>\n",
              "      <td>0.040706</td>\n",
              "      <td>0.154811</td>\n",
              "      <td>...</td>\n",
              "      <td>-0.258450</td>\n",
              "      <td>0.025414</td>\n",
              "      <td>-0.108338</td>\n",
              "      <td>0.160880</td>\n",
              "      <td>0.092846</td>\n",
              "      <td>-0.032266</td>\n",
              "      <td>0.151619</td>\n",
              "      <td>-0.023750</td>\n",
              "      <td>0.028080</td>\n",
              "      <td>0.191956</td>\n",
              "    </tr>\n",
              "    <tr>\n",
              "      <th>9206</th>\n",
              "      <td>0.225402</td>\n",
              "      <td>-0.137580</td>\n",
              "      <td>0.274046</td>\n",
              "      <td>-0.044282</td>\n",
              "      <td>0.008441</td>\n",
              "      <td>0.249057</td>\n",
              "      <td>0.043162</td>\n",
              "      <td>0.080058</td>\n",
              "      <td>0.049930</td>\n",
              "      <td>0.108385</td>\n",
              "      <td>...</td>\n",
              "      <td>-0.235024</td>\n",
              "      <td>0.007607</td>\n",
              "      <td>-0.097939</td>\n",
              "      <td>0.163142</td>\n",
              "      <td>0.100946</td>\n",
              "      <td>-0.034086</td>\n",
              "      <td>0.136629</td>\n",
              "      <td>-0.024904</td>\n",
              "      <td>0.030681</td>\n",
              "      <td>0.170319</td>\n",
              "    </tr>\n",
              "  </tbody>\n",
              "</table>\n",
              "<p>9207 rows × 50 columns</p>\n",
              "</div>\n",
              "      <button class=\"colab-df-convert\" onclick=\"convertToInteractive('df-7eb4b5f4-ef9d-4fea-b70e-7d88e048cb17')\"\n",
              "              title=\"Convert this dataframe to an interactive table.\"\n",
              "              style=\"display:none;\">\n",
              "        \n",
              "  <svg xmlns=\"http://www.w3.org/2000/svg\" height=\"24px\"viewBox=\"0 0 24 24\"\n",
              "       width=\"24px\">\n",
              "    <path d=\"M0 0h24v24H0V0z\" fill=\"none\"/>\n",
              "    <path d=\"M18.56 5.44l.94 2.06.94-2.06 2.06-.94-2.06-.94-.94-2.06-.94 2.06-2.06.94zm-11 1L8.5 8.5l.94-2.06 2.06-.94-2.06-.94L8.5 2.5l-.94 2.06-2.06.94zm10 10l.94 2.06.94-2.06 2.06-.94-2.06-.94-.94-2.06-.94 2.06-2.06.94z\"/><path d=\"M17.41 7.96l-1.37-1.37c-.4-.4-.92-.59-1.43-.59-.52 0-1.04.2-1.43.59L10.3 9.45l-7.72 7.72c-.78.78-.78 2.05 0 2.83L4 21.41c.39.39.9.59 1.41.59.51 0 1.02-.2 1.41-.59l7.78-7.78 2.81-2.81c.8-.78.8-2.07 0-2.86zM5.41 20L4 18.59l7.72-7.72 1.47 1.35L5.41 20z\"/>\n",
              "  </svg>\n",
              "      </button>\n",
              "      \n",
              "  <style>\n",
              "    .colab-df-container {\n",
              "      display:flex;\n",
              "      flex-wrap:wrap;\n",
              "      gap: 12px;\n",
              "    }\n",
              "\n",
              "    .colab-df-convert {\n",
              "      background-color: #E8F0FE;\n",
              "      border: none;\n",
              "      border-radius: 50%;\n",
              "      cursor: pointer;\n",
              "      display: none;\n",
              "      fill: #1967D2;\n",
              "      height: 32px;\n",
              "      padding: 0 0 0 0;\n",
              "      width: 32px;\n",
              "    }\n",
              "\n",
              "    .colab-df-convert:hover {\n",
              "      background-color: #E2EBFA;\n",
              "      box-shadow: 0px 1px 2px rgba(60, 64, 67, 0.3), 0px 1px 3px 1px rgba(60, 64, 67, 0.15);\n",
              "      fill: #174EA6;\n",
              "    }\n",
              "\n",
              "    [theme=dark] .colab-df-convert {\n",
              "      background-color: #3B4455;\n",
              "      fill: #D2E3FC;\n",
              "    }\n",
              "\n",
              "    [theme=dark] .colab-df-convert:hover {\n",
              "      background-color: #434B5C;\n",
              "      box-shadow: 0px 1px 3px 1px rgba(0, 0, 0, 0.15);\n",
              "      filter: drop-shadow(0px 1px 2px rgba(0, 0, 0, 0.3));\n",
              "      fill: #FFFFFF;\n",
              "    }\n",
              "  </style>\n",
              "\n",
              "      <script>\n",
              "        const buttonEl =\n",
              "          document.querySelector('#df-7eb4b5f4-ef9d-4fea-b70e-7d88e048cb17 button.colab-df-convert');\n",
              "        buttonEl.style.display =\n",
              "          google.colab.kernel.accessAllowed ? 'block' : 'none';\n",
              "\n",
              "        async function convertToInteractive(key) {\n",
              "          const element = document.querySelector('#df-7eb4b5f4-ef9d-4fea-b70e-7d88e048cb17');\n",
              "          const dataTable =\n",
              "            await google.colab.kernel.invokeFunction('convertToInteractive',\n",
              "                                                     [key], {});\n",
              "          if (!dataTable) return;\n",
              "\n",
              "          const docLinkHtml = 'Like what you see? Visit the ' +\n",
              "            '<a target=\"_blank\" href=https://colab.research.google.com/notebooks/data_table.ipynb>data table notebook</a>'\n",
              "            + ' to learn more about interactive tables.';\n",
              "          element.innerHTML = '';\n",
              "          dataTable['output_type'] = 'display_data';\n",
              "          await google.colab.output.renderOutput(dataTable, element);\n",
              "          const docLink = document.createElement('div');\n",
              "          docLink.innerHTML = docLinkHtml;\n",
              "          element.appendChild(docLink);\n",
              "        }\n",
              "      </script>\n",
              "    </div>\n",
              "  </div>\n",
              "  "
            ]
          },
          "metadata": {},
          "execution_count": 18
        }
      ]
    },
    {
      "cell_type": "code",
      "source": [
        "#df_vec.to_csv('Word2Vec_Cbow_modelo_treinado',encoding='utf-8', index=False, header=True)"
      ],
      "metadata": {
        "id": "Z0GHiMo0fyUG"
      },
      "execution_count": null,
      "outputs": []
    },
    {
      "cell_type": "markdown",
      "source": [
        "# 11. Naive Bayes + Word2Vec com CBOW"
      ],
      "metadata": {
        "id": "prPzkLeviBp_"
      }
    },
    {
      "cell_type": "code",
      "source": [
        "label = preprocessing.LabelEncoder()"
      ],
      "metadata": {
        "id": "vQqytS9KiC1G"
      },
      "execution_count": null,
      "outputs": []
    },
    {
      "cell_type": "code",
      "source": [
        "label.fit(df_vec['sentimento'])\n",
        "df_vec['sentimento'] = label.transform(df_vec['sentimento'])"
      ],
      "metadata": {
        "id": "hNo9-z7Yiaa3"
      },
      "execution_count": null,
      "outputs": []
    },
    {
      "cell_type": "code",
      "source": [
        "df_vec = df_vec.dropna()\n",
        "df_vec"
      ],
      "metadata": {
        "id": "ETQSLjTViq0n"
      },
      "execution_count": null,
      "outputs": []
    },
    {
      "cell_type": "markdown",
      "source": [
        "## Separando Treino e Teste"
      ],
      "metadata": {
        "id": "bAPCRhOKiwX-"
      }
    },
    {
      "cell_type": "code",
      "source": [
        "target = df_vec['sentimento']"
      ],
      "metadata": {
        "id": "mNPlS_2TitHe"
      },
      "execution_count": null,
      "outputs": []
    },
    {
      "cell_type": "code",
      "source": [
        "feature = df_vec.iloc[:,1:50]"
      ],
      "metadata": {
        "id": "keRvRtXfi73e"
      },
      "execution_count": null,
      "outputs": []
    },
    {
      "cell_type": "code",
      "source": [
        "feature"
      ],
      "metadata": {
        "id": "C0avdw6TjC1W"
      },
      "execution_count": null,
      "outputs": []
    },
    {
      "cell_type": "code",
      "source": [
        "X_train, X_test, y_train, y_test = train_test_split(feature, target, test_size=0.2, random_state=42)"
      ],
      "metadata": {
        "id": "zsSTEpdkjFBe"
      },
      "execution_count": null,
      "outputs": []
    },
    {
      "cell_type": "markdown",
      "source": [
        "## Avaliação do modelo"
      ],
      "metadata": {
        "id": "L8lToFKbjXPV"
      }
    },
    {
      "cell_type": "code",
      "source": [
        "clf = GaussianNB()\n",
        "\n",
        "clf = clf.fit(X_train,y_train.values.ravel())\n",
        "\n",
        "Y_pred = clf.predict(X_test)\n",
        "\n",
        "print(classification_report(y_test, Y_pred))"
      ],
      "metadata": {
        "id": "O5kpZIbzjUYt"
      },
      "execution_count": null,
      "outputs": []
    },
    {
      "cell_type": "code",
      "source": [
        "acc_score = accuracy_score(y_test, Y_pred)\n",
        "format_output = \"{:.2%}\".format(acc_score)\n",
        "print(\"Precisão final de :\",format_output)"
      ],
      "metadata": {
        "id": "eJrPhaqsjxum"
      },
      "execution_count": null,
      "outputs": []
    },
    {
      "cell_type": "markdown",
      "source": [
        "# 12. Word2Vec com embedding layer"
      ],
      "metadata": {
        "id": "waBVgg875A8V"
      }
    },
    {
      "cell_type": "markdown",
      "source": [
        "## Definição de função"
      ],
      "metadata": {
        "id": "jNNdngzMfudo"
      }
    },
    {
      "cell_type": "code",
      "source": [
        "from gensim.models import Word2Vec\n",
        "\n",
        "# Função que treina o modelo Word2Vec no corpus do dataframe\n",
        "def train_word2vec(df, column_name):\n",
        "    # Obtém as frases tokenizadas\n",
        "    sentences = df[column_name].tolist()\n",
        "\n",
        "    # Treina o modelo Word2Vec\n",
        "    model = Word2Vec(sentences, min_count=1)\n",
        "\n",
        "    return model"
      ],
      "metadata": {
        "id": "X_Wjh3oW5MkB"
      },
      "execution_count": null,
      "outputs": []
    },
    {
      "cell_type": "code",
      "source": [
        "# Função que define os vetores para cada palavra do vocabulario\n",
        "def get_word_vectors(model, sentence):\n",
        "    vectors = []\n",
        "    for word in sentence:\n",
        "        if word in model.wv:\n",
        "            vectors.append(model.wv[word]) # Append na lista de vetores\n",
        "    if vectors:\n",
        "        return np.sum(vectors, axis=0)/len(sentence) # Soma dos vetores para cada frase\n",
        "    else:\n",
        "        return np.zeros(model.vector_size)\n",
        "\n",
        "# Criação do dataframe de vetores para cada frase\n",
        "def create_word2vec_dataframe(df, column_name, model):\n",
        "    sentences = df[column_name].tolist()\n",
        "    vectors = [get_word_vectors(model, sentence) for sentence in sentences] # Itera para cada frase um vetor\n",
        "    # Criação do dataframe\n",
        "    df_vectors = pd.DataFrame(vectors, columns=[f\"Vetor{i}\" for i in range(model.vector_size)])\n",
        "    df_word2vec = pd.concat([df, df_vectors], axis=1)\n",
        "    return df_word2vec"
      ],
      "metadata": {
        "id": "1yreuN61JeFH"
      },
      "execution_count": null,
      "outputs": []
    },
    {
      "cell_type": "markdown",
      "source": [
        "## Teste de funções"
      ],
      "metadata": {
        "id": "KomhuU9Zgees"
      }
    },
    {
      "cell_type": "code",
      "source": [
        "model = train_word2vec(df, 'texto_tratado')"
      ],
      "metadata": {
        "id": "VHWLUlP4G3hA"
      },
      "execution_count": null,
      "outputs": []
    },
    {
      "cell_type": "code",
      "source": [
        "df_word2vec = create_word2vec_dataframe(df,'texto_tratado', model)\n",
        "df_word2vec"
      ],
      "metadata": {
        "id": "qHhtJlUQKDQT"
      },
      "execution_count": null,
      "outputs": []
    },
    {
      "cell_type": "code",
      "source": [
        "df_word2vec = df_word2vec.drop(columns=['autor', 'sentimento'])\n",
        "df_word2vec"
      ],
      "metadata": {
        "id": "_mF6WPhAKb4K"
      },
      "execution_count": null,
      "outputs": []
    },
    {
      "cell_type": "markdown",
      "source": [
        "# 13. Naive Bayes + Word2Vec com embedding layer"
      ],
      "metadata": {
        "id": "WnFTKfl9aCWf"
      }
    },
    {
      "cell_type": "code",
      "source": [
        "df_word2vec = df_word2vec.dropna()\n",
        "df_word2vec"
      ],
      "metadata": {
        "id": "Mfi5xF3_aCW2"
      },
      "execution_count": null,
      "outputs": []
    },
    {
      "cell_type": "markdown",
      "source": [
        "## Separando Treino e Teste"
      ],
      "metadata": {
        "id": "avPYp8x4aCW3"
      }
    },
    {
      "cell_type": "code",
      "source": [
        "target = df_word2vec['sentimentoNumerico']"
      ],
      "metadata": {
        "id": "EaUZ4Pl0aCW3"
      },
      "execution_count": null,
      "outputs": []
    },
    {
      "cell_type": "code",
      "source": [
        "feature = df_word2vec.iloc[:,2:102]"
      ],
      "metadata": {
        "id": "j5nWA5fKaCW4"
      },
      "execution_count": null,
      "outputs": []
    },
    {
      "cell_type": "code",
      "source": [
        "feature"
      ],
      "metadata": {
        "id": "Fi46W-u1aCW4"
      },
      "execution_count": null,
      "outputs": []
    },
    {
      "cell_type": "code",
      "source": [
        "X_train, X_test, y_train, y_test = train_test_split(feature, target, test_size=0.2, random_state=42)"
      ],
      "metadata": {
        "id": "fnFgD3GEaCW5"
      },
      "execution_count": null,
      "outputs": []
    },
    {
      "cell_type": "markdown",
      "source": [
        "## Avaliação do modelo"
      ],
      "metadata": {
        "id": "DBdVTALIaCW5"
      }
    },
    {
      "cell_type": "code",
      "source": [
        "clf = GaussianNB()\n",
        "\n",
        "clf = clf.fit(X_train,y_train.values.ravel())\n",
        "\n",
        "Y_pred = clf.predict(X_test)\n",
        "\n",
        "print(classification_report(y_test, Y_pred))"
      ],
      "metadata": {
        "id": "njvM5MUFaCW6"
      },
      "execution_count": null,
      "outputs": []
    },
    {
      "cell_type": "code",
      "source": [
        "acc_score = accuracy_score(y_test, Y_pred)\n",
        "format_output = \"{:.2%}\".format(acc_score)\n",
        "print(\"Precisão final de :\",format_output)"
      ],
      "metadata": {
        "id": "oDgwNC3baCW6"
      },
      "execution_count": null,
      "outputs": []
    },
    {
      "cell_type": "markdown",
      "source": [
        "# XGBoost\n"
      ],
      "metadata": {
        "id": "ORbZ7pIOCygT"
      }
    },
    {
      "cell_type": "markdown",
      "source": [
        "## Criação do modelo\n"
      ],
      "metadata": {
        "id": "dENrg0HjKod3"
      }
    },
    {
      "cell_type": "code",
      "source": [
        "encoder = LabelEncoder() # Instanciando o encoder para transformar as classes em números inteiros, a partir da biblioteca LabelEncoder"
      ],
      "metadata": {
        "id": "vCpkcFXqC28U"
      },
      "execution_count": null,
      "outputs": []
    },
    {
      "cell_type": "code",
      "source": [
        "import xgboost as xgb\n",
        "# ajustando o codificador aos dados da coluna 'sentimento' para ser possível de se aplicar na predição\n",
        "sentimento = encoder.fit_transform(df_vec[\"sentimento\"])\n",
        "\n",
        "# Dividir os dados em treino e teste, a partir da biblioteca de train_test_split\n",
        "X_treino, X_teste, y_treino, y_teste = train_test_split(word2vec, sentimento, test_size=0.2, random_state=42)\n",
        "\n",
        "# Criar e treinar o modelo XGBoost\n",
        "modelo_xgb = xgb.XGBClassifier()\n",
        "\n",
        "modelo_xgb.fit(X_treino, y_treino)\n",
        "\n",
        "# Fazer a predição usando os dados de teste\n",
        "predicao_numerica_xgb = modelo_xgb.predict(X_teste)\n",
        "\n",
        "# Decodificar as classes preditas\n",
        "predicao_xgb = encoder.inverse_transform(predicao_numerica_xgb)\n",
        "\n",
        "print(classification_report(y_teste, predicao_xgb))"
      ],
      "metadata": {
        "colab": {
          "base_uri": "https://localhost:8080/"
        },
        "id": "mm-WmD-aC_Xv",
        "outputId": "c659f786-36cf-4ff6-aa05-58b24deb5fad"
      },
      "execution_count": null,
      "outputs": [
        {
          "output_type": "stream",
          "name": "stdout",
          "text": [
            "              precision    recall  f1-score   support\n",
            "\n",
            "           0       0.55      0.49      0.52       386\n",
            "           1       0.74      0.71      0.72       844\n",
            "           2       0.60      0.67      0.63       612\n",
            "\n",
            "    accuracy                           0.65      1842\n",
            "   macro avg       0.63      0.63      0.63      1842\n",
            "weighted avg       0.65      0.65      0.65      1842\n",
            "\n"
          ]
        }
      ]
    },
    {
      "cell_type": "code",
      "source": [],
      "metadata": {
        "id": "qbpMXwFkZugN"
      },
      "execution_count": null,
      "outputs": []
    }
  ]
}