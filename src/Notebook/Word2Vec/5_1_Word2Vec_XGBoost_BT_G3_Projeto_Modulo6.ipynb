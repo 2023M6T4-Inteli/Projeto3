{
  "nbformat": 4,
  "nbformat_minor": 0,
  "metadata": {
    "colab": {
      "provenance": [],
      "toc_visible": true
    },
    "kernelspec": {
      "name": "python3",
      "display_name": "Python 3"
    },
    "language_info": {
      "name": "python"
    }
  },
  "cells": [
    {
      "cell_type": "markdown",
      "source": [
        "# Projeto Grupo BT-G3\n"
      ],
      "metadata": {
        "id": "W6orTJnannWi"
      }
    },
    {
      "cell_type": "markdown",
      "source": [
        "## **Integrantes do grupo**\n",
        "- Daniel Barzilai\n",
        "- Larissa Carvalho\n",
        "- Maria Luisa Maia\n",
        "- Pedro Rezende\n",
        "- Rafael Moritz\n",
        "- Vitor Oliveira"
      ],
      "metadata": {
        "id": "wnoVqdIxSmPS"
      }
    },
    {
      "cell_type": "markdown",
      "source": [
        "<center><img src=\"https://www.inteli.edu.br/wp-content/uploads/2021/08/20172028/marca_1-2.png\" width=\"50%\" height=\"50%\"/></center>"
      ],
      "metadata": {
        "id": "k0U6vMkgcCOc"
      }
    },
    {
      "cell_type": "markdown",
      "source": [
        "<h1 align='center'><b>IA para Marketing: Monitoramento de campanhas utilizando processamento de linguagem natural (PLN)<b></h1>"
      ],
      "metadata": {
        "id": "GntQpF9HcHF7"
      }
    },
    {
      "cell_type": "markdown",
      "source": [
        "<center><img src=\"https://upload.wikimedia.org/wikipedia/commons/c/c2/Btg-logo-blue.svg\" width=\"50%\" height=\"50%\"/></center>"
      ],
      "metadata": {
        "id": "geZEZyxccIwj"
      }
    },
    {
      "cell_type": "code",
      "source": [],
      "metadata": {
        "id": "9VKvL0NZMFOh"
      },
      "execution_count": null,
      "outputs": []
    },
    {
      "cell_type": "markdown",
      "source": [
        "<h2 align='center'>O Banco BTG Pactual enfrenta um desafio na área de Marketing em entender as necessidades e demandas dos clientes de maneira fácil e rápida nas redes sociais. A solução proposta para esse problema foi o desenvolvimento de uma Inteligência Artificial utilizando processamento de linguagem natural (PLN), capaz de monitorar as campanhas de marketing, voltadas para o Instagram. O objetivo principal dessa solução é rastrear os dados em tempo real, analisar e interpretar as mensagens e comentários enviados pelos clientes na rede social, a fim de identificar as necessidades e demandas de forma precisa e eficiente.</h2>"
      ],
      "metadata": {
        "id": "GDi4jBLdcIoo"
      }
    },
    {
      "cell_type": "markdown",
      "source": [
        "---"
      ],
      "metadata": {
        "id": "d9cjCQyEcPhI"
      }
    },
    {
      "cell_type": "markdown",
      "source": [
        "# Sobre os dados"
      ],
      "metadata": {
        "id": "YsbJTy0IcTIt"
      }
    },
    {
      "cell_type": "markdown",
      "source": [
        "Esse projeto está utilizando dados coletados e tratados pela equipe de Automation do BTG Pactual, o qual disponibilizou o dataset. Com base nas informações dispostas nesse dataset, realizaremos insights a cerca dos comentários feitos nos posts do Instagram do próprio banco. Vale lembrar que os dados estão anonimizados e resguardados para manter a privacidade e ética com os usuários e com o banco."
      ],
      "metadata": {
        "id": "3-s3rB_1cVPc"
      }
    },
    {
      "cell_type": "markdown",
      "source": [
        "# 1. Instalação / Setup"
      ],
      "metadata": {
        "id": "jCzVQHGx6tux"
      }
    },
    {
      "cell_type": "markdown",
      "source": [
        "Para o início do projeto, fizemos o desenvolvimento no Google Colab, por isso temos uma célula de conexão com o Google Drive, para poder acessar os dados. Caso seja rodado no Jupyter Notebook, precisará do dataset baixado."
      ],
      "metadata": {
        "id": "-werU6i-qvLp"
      }
    },
    {
      "cell_type": "code",
      "source": [
        "#Conectar com o Google Drive\n",
        "\n",
        "from google.colab import drive\n",
        "drive.mount('/content/drive')\n",
        "\n",
        "#Conectando o ambiente ao Google Drive"
      ],
      "metadata": {
        "id": "ae8sAINTP6Lr",
        "colab": {
          "base_uri": "https://localhost:8080/"
        },
        "outputId": "2bad7b56-9556-4370-a0a6-840b814e016f"
      },
      "execution_count": null,
      "outputs": [
        {
          "output_type": "stream",
          "name": "stdout",
          "text": [
            "Mounted at /content/drive\n"
          ]
        }
      ]
    },
    {
      "cell_type": "markdown",
      "source": [
        "Aqui nós fazemos as importações para tratamento dos dados, pré-processamento dos dados e modelamento do Bag of Words."
      ],
      "metadata": {
        "id": "nuIt1T3cwjSu"
      }
    },
    {
      "cell_type": "markdown",
      "source": [
        "## pips"
      ],
      "metadata": {
        "id": "iNmxBn3LsHfr"
      }
    },
    {
      "cell_type": "code",
      "source": [
        "!pip install -U spacy"
      ],
      "metadata": {
        "id": "FNoqph3MTSbS",
        "colab": {
          "base_uri": "https://localhost:8080/"
        },
        "outputId": "2dbb5484-82f8-4ca1-c772-627008093f71"
      },
      "execution_count": null,
      "outputs": [
        {
          "output_type": "stream",
          "name": "stdout",
          "text": [
            "Looking in indexes: https://pypi.org/simple, https://us-python.pkg.dev/colab-wheels/public/simple/\n",
            "Requirement already satisfied: spacy in /usr/local/lib/python3.10/dist-packages (3.5.2)\n",
            "Collecting spacy\n",
            "  Downloading spacy-3.5.3-cp310-cp310-manylinux_2_17_x86_64.manylinux2014_x86_64.whl (6.6 MB)\n",
            "\u001b[2K     \u001b[90m━━━━━━━━━━━━━━━━━━━━━━━━━━━━━━━━━━━━━━━━\u001b[0m \u001b[32m6.6/6.6 MB\u001b[0m \u001b[31m15.3 MB/s\u001b[0m eta \u001b[36m0:00:00\u001b[0m\n",
            "\u001b[?25hRequirement already satisfied: spacy-legacy<3.1.0,>=3.0.11 in /usr/local/lib/python3.10/dist-packages (from spacy) (3.0.12)\n",
            "Requirement already satisfied: spacy-loggers<2.0.0,>=1.0.0 in /usr/local/lib/python3.10/dist-packages (from spacy) (1.0.4)\n",
            "Requirement already satisfied: murmurhash<1.1.0,>=0.28.0 in /usr/local/lib/python3.10/dist-packages (from spacy) (1.0.9)\n",
            "Requirement already satisfied: cymem<2.1.0,>=2.0.2 in /usr/local/lib/python3.10/dist-packages (from spacy) (2.0.7)\n",
            "Requirement already satisfied: preshed<3.1.0,>=3.0.2 in /usr/local/lib/python3.10/dist-packages (from spacy) (3.0.8)\n",
            "Requirement already satisfied: thinc<8.2.0,>=8.1.8 in /usr/local/lib/python3.10/dist-packages (from spacy) (8.1.9)\n",
            "Requirement already satisfied: wasabi<1.2.0,>=0.9.1 in /usr/local/lib/python3.10/dist-packages (from spacy) (1.1.1)\n",
            "Requirement already satisfied: srsly<3.0.0,>=2.4.3 in /usr/local/lib/python3.10/dist-packages (from spacy) (2.4.6)\n",
            "Requirement already satisfied: catalogue<2.1.0,>=2.0.6 in /usr/local/lib/python3.10/dist-packages (from spacy) (2.0.8)\n",
            "Requirement already satisfied: typer<0.8.0,>=0.3.0 in /usr/local/lib/python3.10/dist-packages (from spacy) (0.7.0)\n",
            "Requirement already satisfied: pathy>=0.10.0 in /usr/local/lib/python3.10/dist-packages (from spacy) (0.10.1)\n",
            "Requirement already satisfied: smart-open<7.0.0,>=5.2.1 in /usr/local/lib/python3.10/dist-packages (from spacy) (6.3.0)\n",
            "Requirement already satisfied: tqdm<5.0.0,>=4.38.0 in /usr/local/lib/python3.10/dist-packages (from spacy) (4.65.0)\n",
            "Requirement already satisfied: numpy>=1.15.0 in /usr/local/lib/python3.10/dist-packages (from spacy) (1.22.4)\n",
            "Requirement already satisfied: requests<3.0.0,>=2.13.0 in /usr/local/lib/python3.10/dist-packages (from spacy) (2.27.1)\n",
            "Requirement already satisfied: pydantic!=1.8,!=1.8.1,<1.11.0,>=1.7.4 in /usr/local/lib/python3.10/dist-packages (from spacy) (1.10.7)\n",
            "Requirement already satisfied: jinja2 in /usr/local/lib/python3.10/dist-packages (from spacy) (3.1.2)\n",
            "Requirement already satisfied: setuptools in /usr/local/lib/python3.10/dist-packages (from spacy) (67.7.2)\n",
            "Requirement already satisfied: packaging>=20.0 in /usr/local/lib/python3.10/dist-packages (from spacy) (23.1)\n",
            "Requirement already satisfied: langcodes<4.0.0,>=3.2.0 in /usr/local/lib/python3.10/dist-packages (from spacy) (3.3.0)\n",
            "Requirement already satisfied: typing-extensions>=4.2.0 in /usr/local/lib/python3.10/dist-packages (from pydantic!=1.8,!=1.8.1,<1.11.0,>=1.7.4->spacy) (4.5.0)\n",
            "Requirement already satisfied: urllib3<1.27,>=1.21.1 in /usr/local/lib/python3.10/dist-packages (from requests<3.0.0,>=2.13.0->spacy) (1.26.15)\n",
            "Requirement already satisfied: certifi>=2017.4.17 in /usr/local/lib/python3.10/dist-packages (from requests<3.0.0,>=2.13.0->spacy) (2022.12.7)\n",
            "Requirement already satisfied: charset-normalizer~=2.0.0 in /usr/local/lib/python3.10/dist-packages (from requests<3.0.0,>=2.13.0->spacy) (2.0.12)\n",
            "Requirement already satisfied: idna<4,>=2.5 in /usr/local/lib/python3.10/dist-packages (from requests<3.0.0,>=2.13.0->spacy) (3.4)\n",
            "Requirement already satisfied: blis<0.8.0,>=0.7.8 in /usr/local/lib/python3.10/dist-packages (from thinc<8.2.0,>=8.1.8->spacy) (0.7.9)\n",
            "Requirement already satisfied: confection<1.0.0,>=0.0.1 in /usr/local/lib/python3.10/dist-packages (from thinc<8.2.0,>=8.1.8->spacy) (0.0.4)\n",
            "Requirement already satisfied: click<9.0.0,>=7.1.1 in /usr/local/lib/python3.10/dist-packages (from typer<0.8.0,>=0.3.0->spacy) (8.1.3)\n",
            "Requirement already satisfied: MarkupSafe>=2.0 in /usr/local/lib/python3.10/dist-packages (from jinja2->spacy) (2.1.2)\n",
            "Installing collected packages: spacy\n",
            "  Attempting uninstall: spacy\n",
            "    Found existing installation: spacy 3.5.2\n",
            "    Uninstalling spacy-3.5.2:\n",
            "      Successfully uninstalled spacy-3.5.2\n",
            "Successfully installed spacy-3.5.3\n"
          ]
        }
      ]
    },
    {
      "cell_type": "code",
      "source": [
        "!pip install wordcloud"
      ],
      "metadata": {
        "id": "teLWG2aVTlgx",
        "colab": {
          "base_uri": "https://localhost:8080/"
        },
        "outputId": "15193e69-e4a0-4ca2-f230-34a22c9c484a"
      },
      "execution_count": null,
      "outputs": [
        {
          "output_type": "stream",
          "name": "stdout",
          "text": [
            "Looking in indexes: https://pypi.org/simple, https://us-python.pkg.dev/colab-wheels/public/simple/\n",
            "Requirement already satisfied: wordcloud in /usr/local/lib/python3.10/dist-packages (1.8.2.2)\n",
            "Requirement already satisfied: numpy>=1.6.1 in /usr/local/lib/python3.10/dist-packages (from wordcloud) (1.22.4)\n",
            "Requirement already satisfied: pillow in /usr/local/lib/python3.10/dist-packages (from wordcloud) (8.4.0)\n",
            "Requirement already satisfied: matplotlib in /usr/local/lib/python3.10/dist-packages (from wordcloud) (3.7.1)\n",
            "Requirement already satisfied: contourpy>=1.0.1 in /usr/local/lib/python3.10/dist-packages (from matplotlib->wordcloud) (1.0.7)\n",
            "Requirement already satisfied: cycler>=0.10 in /usr/local/lib/python3.10/dist-packages (from matplotlib->wordcloud) (0.11.0)\n",
            "Requirement already satisfied: fonttools>=4.22.0 in /usr/local/lib/python3.10/dist-packages (from matplotlib->wordcloud) (4.39.3)\n",
            "Requirement already satisfied: kiwisolver>=1.0.1 in /usr/local/lib/python3.10/dist-packages (from matplotlib->wordcloud) (1.4.4)\n",
            "Requirement already satisfied: packaging>=20.0 in /usr/local/lib/python3.10/dist-packages (from matplotlib->wordcloud) (23.1)\n",
            "Requirement already satisfied: pyparsing>=2.3.1 in /usr/local/lib/python3.10/dist-packages (from matplotlib->wordcloud) (3.0.9)\n",
            "Requirement already satisfied: python-dateutil>=2.7 in /usr/local/lib/python3.10/dist-packages (from matplotlib->wordcloud) (2.8.2)\n",
            "Requirement already satisfied: six>=1.5 in /usr/local/lib/python3.10/dist-packages (from python-dateutil>=2.7->matplotlib->wordcloud) (1.16.0)\n"
          ]
        }
      ]
    },
    {
      "cell_type": "code",
      "source": [
        "!pip install keras"
      ],
      "metadata": {
        "id": "qH7Wx6XcGgWB",
        "colab": {
          "base_uri": "https://localhost:8080/"
        },
        "outputId": "509ad759-18b0-4ce2-a4f0-d857aeabce83"
      },
      "execution_count": null,
      "outputs": [
        {
          "output_type": "stream",
          "name": "stdout",
          "text": [
            "Looking in indexes: https://pypi.org/simple, https://us-python.pkg.dev/colab-wheels/public/simple/\n",
            "Requirement already satisfied: keras in /usr/local/lib/python3.10/dist-packages (2.12.0)\n"
          ]
        }
      ]
    },
    {
      "cell_type": "code",
      "source": [
        "!pip install tensorflow"
      ],
      "metadata": {
        "id": "U-H1Fg8pHHaC",
        "colab": {
          "base_uri": "https://localhost:8080/"
        },
        "outputId": "9c901756-babe-4b76-f8aa-6b4619418f43"
      },
      "execution_count": null,
      "outputs": [
        {
          "output_type": "stream",
          "name": "stdout",
          "text": [
            "Looking in indexes: https://pypi.org/simple, https://us-python.pkg.dev/colab-wheels/public/simple/\n",
            "Requirement already satisfied: tensorflow in /usr/local/lib/python3.10/dist-packages (2.12.0)\n",
            "Requirement already satisfied: absl-py>=1.0.0 in /usr/local/lib/python3.10/dist-packages (from tensorflow) (1.4.0)\n",
            "Requirement already satisfied: astunparse>=1.6.0 in /usr/local/lib/python3.10/dist-packages (from tensorflow) (1.6.3)\n",
            "Requirement already satisfied: flatbuffers>=2.0 in /usr/local/lib/python3.10/dist-packages (from tensorflow) (23.3.3)\n",
            "Requirement already satisfied: gast<=0.4.0,>=0.2.1 in /usr/local/lib/python3.10/dist-packages (from tensorflow) (0.4.0)\n",
            "Requirement already satisfied: google-pasta>=0.1.1 in /usr/local/lib/python3.10/dist-packages (from tensorflow) (0.2.0)\n",
            "Requirement already satisfied: grpcio<2.0,>=1.24.3 in /usr/local/lib/python3.10/dist-packages (from tensorflow) (1.54.0)\n",
            "Requirement already satisfied: h5py>=2.9.0 in /usr/local/lib/python3.10/dist-packages (from tensorflow) (3.8.0)\n",
            "Requirement already satisfied: jax>=0.3.15 in /usr/local/lib/python3.10/dist-packages (from tensorflow) (0.4.10)\n",
            "Requirement already satisfied: keras<2.13,>=2.12.0 in /usr/local/lib/python3.10/dist-packages (from tensorflow) (2.12.0)\n",
            "Requirement already satisfied: libclang>=13.0.0 in /usr/local/lib/python3.10/dist-packages (from tensorflow) (16.0.0)\n",
            "Requirement already satisfied: numpy<1.24,>=1.22 in /usr/local/lib/python3.10/dist-packages (from tensorflow) (1.22.4)\n",
            "Requirement already satisfied: opt-einsum>=2.3.2 in /usr/local/lib/python3.10/dist-packages (from tensorflow) (3.3.0)\n",
            "Requirement already satisfied: packaging in /usr/local/lib/python3.10/dist-packages (from tensorflow) (23.1)\n",
            "Requirement already satisfied: protobuf!=4.21.0,!=4.21.1,!=4.21.2,!=4.21.3,!=4.21.4,!=4.21.5,<5.0.0dev,>=3.20.3 in /usr/local/lib/python3.10/dist-packages (from tensorflow) (3.20.3)\n",
            "Requirement already satisfied: setuptools in /usr/local/lib/python3.10/dist-packages (from tensorflow) (67.7.2)\n",
            "Requirement already satisfied: six>=1.12.0 in /usr/local/lib/python3.10/dist-packages (from tensorflow) (1.16.0)\n",
            "Requirement already satisfied: tensorboard<2.13,>=2.12 in /usr/local/lib/python3.10/dist-packages (from tensorflow) (2.12.2)\n",
            "Requirement already satisfied: tensorflow-estimator<2.13,>=2.12.0 in /usr/local/lib/python3.10/dist-packages (from tensorflow) (2.12.0)\n",
            "Requirement already satisfied: termcolor>=1.1.0 in /usr/local/lib/python3.10/dist-packages (from tensorflow) (2.3.0)\n",
            "Requirement already satisfied: typing-extensions>=3.6.6 in /usr/local/lib/python3.10/dist-packages (from tensorflow) (4.5.0)\n",
            "Requirement already satisfied: wrapt<1.15,>=1.11.0 in /usr/local/lib/python3.10/dist-packages (from tensorflow) (1.14.1)\n",
            "Requirement already satisfied: tensorflow-io-gcs-filesystem>=0.23.1 in /usr/local/lib/python3.10/dist-packages (from tensorflow) (0.32.0)\n",
            "Requirement already satisfied: wheel<1.0,>=0.23.0 in /usr/local/lib/python3.10/dist-packages (from astunparse>=1.6.0->tensorflow) (0.40.0)\n",
            "Requirement already satisfied: ml-dtypes>=0.1.0 in /usr/local/lib/python3.10/dist-packages (from jax>=0.3.15->tensorflow) (0.1.0)\n",
            "Requirement already satisfied: scipy>=1.7 in /usr/local/lib/python3.10/dist-packages (from jax>=0.3.15->tensorflow) (1.10.1)\n",
            "Requirement already satisfied: google-auth<3,>=1.6.3 in /usr/local/lib/python3.10/dist-packages (from tensorboard<2.13,>=2.12->tensorflow) (2.17.3)\n",
            "Requirement already satisfied: google-auth-oauthlib<1.1,>=0.5 in /usr/local/lib/python3.10/dist-packages (from tensorboard<2.13,>=2.12->tensorflow) (1.0.0)\n",
            "Requirement already satisfied: markdown>=2.6.8 in /usr/local/lib/python3.10/dist-packages (from tensorboard<2.13,>=2.12->tensorflow) (3.4.3)\n",
            "Requirement already satisfied: requests<3,>=2.21.0 in /usr/local/lib/python3.10/dist-packages (from tensorboard<2.13,>=2.12->tensorflow) (2.27.1)\n",
            "Requirement already satisfied: tensorboard-data-server<0.8.0,>=0.7.0 in /usr/local/lib/python3.10/dist-packages (from tensorboard<2.13,>=2.12->tensorflow) (0.7.0)\n",
            "Requirement already satisfied: tensorboard-plugin-wit>=1.6.0 in /usr/local/lib/python3.10/dist-packages (from tensorboard<2.13,>=2.12->tensorflow) (1.8.1)\n",
            "Requirement already satisfied: werkzeug>=1.0.1 in /usr/local/lib/python3.10/dist-packages (from tensorboard<2.13,>=2.12->tensorflow) (2.3.0)\n",
            "Requirement already satisfied: cachetools<6.0,>=2.0.0 in /usr/local/lib/python3.10/dist-packages (from google-auth<3,>=1.6.3->tensorboard<2.13,>=2.12->tensorflow) (5.3.0)\n",
            "Requirement already satisfied: pyasn1-modules>=0.2.1 in /usr/local/lib/python3.10/dist-packages (from google-auth<3,>=1.6.3->tensorboard<2.13,>=2.12->tensorflow) (0.3.0)\n",
            "Requirement already satisfied: rsa<5,>=3.1.4 in /usr/local/lib/python3.10/dist-packages (from google-auth<3,>=1.6.3->tensorboard<2.13,>=2.12->tensorflow) (4.9)\n",
            "Requirement already satisfied: requests-oauthlib>=0.7.0 in /usr/local/lib/python3.10/dist-packages (from google-auth-oauthlib<1.1,>=0.5->tensorboard<2.13,>=2.12->tensorflow) (1.3.1)\n",
            "Requirement already satisfied: urllib3<1.27,>=1.21.1 in /usr/local/lib/python3.10/dist-packages (from requests<3,>=2.21.0->tensorboard<2.13,>=2.12->tensorflow) (1.26.15)\n",
            "Requirement already satisfied: certifi>=2017.4.17 in /usr/local/lib/python3.10/dist-packages (from requests<3,>=2.21.0->tensorboard<2.13,>=2.12->tensorflow) (2022.12.7)\n",
            "Requirement already satisfied: charset-normalizer~=2.0.0 in /usr/local/lib/python3.10/dist-packages (from requests<3,>=2.21.0->tensorboard<2.13,>=2.12->tensorflow) (2.0.12)\n",
            "Requirement already satisfied: idna<4,>=2.5 in /usr/local/lib/python3.10/dist-packages (from requests<3,>=2.21.0->tensorboard<2.13,>=2.12->tensorflow) (3.4)\n",
            "Requirement already satisfied: MarkupSafe>=2.1.1 in /usr/local/lib/python3.10/dist-packages (from werkzeug>=1.0.1->tensorboard<2.13,>=2.12->tensorflow) (2.1.2)\n",
            "Requirement already satisfied: pyasn1<0.6.0,>=0.4.6 in /usr/local/lib/python3.10/dist-packages (from pyasn1-modules>=0.2.1->google-auth<3,>=1.6.3->tensorboard<2.13,>=2.12->tensorflow) (0.5.0)\n",
            "Requirement already satisfied: oauthlib>=3.0.0 in /usr/local/lib/python3.10/dist-packages (from requests-oauthlib>=0.7.0->google-auth-oauthlib<1.1,>=0.5->tensorboard<2.13,>=2.12->tensorflow) (3.2.2)\n"
          ]
        }
      ]
    },
    {
      "cell_type": "code",
      "source": [
        "!pip install scikit-learn"
      ],
      "metadata": {
        "id": "1JrWyVj-HOhw",
        "colab": {
          "base_uri": "https://localhost:8080/"
        },
        "outputId": "ccf6475e-7a11-4df1-f7b6-fbbf7a9825cb"
      },
      "execution_count": null,
      "outputs": [
        {
          "output_type": "stream",
          "name": "stdout",
          "text": [
            "Looking in indexes: https://pypi.org/simple, https://us-python.pkg.dev/colab-wheels/public/simple/\n",
            "Requirement already satisfied: scikit-learn in /usr/local/lib/python3.10/dist-packages (1.2.2)\n",
            "Requirement already satisfied: numpy>=1.17.3 in /usr/local/lib/python3.10/dist-packages (from scikit-learn) (1.22.4)\n",
            "Requirement already satisfied: scipy>=1.3.2 in /usr/local/lib/python3.10/dist-packages (from scikit-learn) (1.10.1)\n",
            "Requirement already satisfied: joblib>=1.1.1 in /usr/local/lib/python3.10/dist-packages (from scikit-learn) (1.2.0)\n",
            "Requirement already satisfied: threadpoolctl>=2.0.0 in /usr/local/lib/python3.10/dist-packages (from scikit-learn) (3.1.0)\n"
          ]
        }
      ]
    },
    {
      "cell_type": "markdown",
      "source": [
        "## Imports"
      ],
      "metadata": {
        "id": "iYpVFSrssMXh"
      }
    },
    {
      "cell_type": "code",
      "source": [
        "import pandas as pd\n",
        "import numpy as np\n",
        "import matplotlib.pyplot as plt\n",
        "from wordcloud import WordCloud\n",
        "import re\n",
        "\n",
        "from sklearn.feature_extraction.text import CountVectorizer\n",
        "import ast\n",
        "from keras.preprocessing.text import Tokenizer\n",
        "from sklearn import preprocessing\n",
        "from sklearn.naive_bayes import GaussianNB\n",
        "from sklearn import metrics\n",
        "from sklearn.metrics import classification_report, confusion_matrix\n",
        "from sklearn.metrics import accuracy_score\n",
        "from sklearn.metrics import ConfusionMatrixDisplay\n",
        "from sklearn.model_selection import train_test_split\n",
        "\n",
        "from tensorflow.keras.models import Sequential\n",
        "from keras.layers import Dense, Embedding, GlobalMaxPooling1D, Dropout\n",
        "from sklearn.preprocessing import LabelEncoder\n",
        "from sklearn.model_selection import train_test_split\n",
        "from keras.callbacks import ModelCheckpoint\n",
        "from keras.utils import pad_sequences\n",
        "import tensorflow as tf\n",
        "from tensorflow.keras import backend as K\n",
        "import seaborn as sns\n",
        "\n",
        "import nltk\n",
        "import spacy\n",
        "import gensim\n",
        "import pickle\n",
        "from scipy.spatial.distance import cosine\n",
        "from gensim.models import KeyedVectors"
      ],
      "metadata": {
        "id": "5INUqxN_NPZ9"
      },
      "execution_count": null,
      "outputs": []
    },
    {
      "cell_type": "markdown",
      "source": [
        "O desenvolvimento da rede neural seguiu o tutorial abaixo:\n",
        "https://medium.com/@jvsavietto6/classificando-texto-com-redes-neurais-artificiais-150ef448b13d"
      ],
      "metadata": {
        "id": "v4c2e5c3LwxH"
      }
    },
    {
      "cell_type": "markdown",
      "source": [
        "# 2. Entendimento e Tratamento dos Dados"
      ],
      "metadata": {
        "id": "dDAJ_PlDObbV"
      }
    },
    {
      "cell_type": "markdown",
      "source": [
        "Rodando o dataset, para analisar seu conteúdo:"
      ],
      "metadata": {
        "id": "MgoZgBnOxFul"
      }
    },
    {
      "cell_type": "code",
      "source": [
        "df = pd.read_csv('/content/drive/MyDrive/Módulo 6/Sprint 4 - Projeto/nova_base_tratada2.csv')\n",
        "df"
      ],
      "metadata": {
        "colab": {
          "base_uri": "https://localhost:8080/",
          "height": 423
        },
        "id": "1xoda_aCFesh",
        "outputId": "f0c4bfa1-fad5-4404-e952-5c595143688f"
      },
      "execution_count": null,
      "outputs": [
        {
          "output_type": "execute_result",
          "data": {
            "text/plain": [
              "                         autor  sentimento  \\\n",
              "0                winthegame_of           1   \n",
              "1                   marta_bego           1   \n",
              "2                   lmviapiana           2   \n",
              "3                  ricktolledo           2   \n",
              "4           donadabolsaoficial           0   \n",
              "...                        ...         ...   \n",
              "8035  perspectiveinvestimentos           2   \n",
              "8036            eduardocolares           2   \n",
              "8037                 danielucm           2   \n",
              "8038          amgcapitalinvest           1   \n",
              "8039                 bfmarilia           0   \n",
              "\n",
              "                                          texto_tratado  \n",
              "0     ['alvarez', 'marsal', 'estar', 'conosco', 'spo...  \n",
              "1     ['btgpactual', 'with', 'make_repost', 'entenda...  \n",
              "2                           ['minuto', 'touro', 'ouro']  \n",
              "3         ['querer', 'saber', 'banking', 'administrar']  \n",
              "4     ['início', 'guerra', 'rússia', 'ucrânia', 'vel...  \n",
              "...                                                 ...  \n",
              "8035                        ['excelente', 'explicação']  \n",
              "8036            ['atendar', 'telefone', 'amor', 'deus']  \n",
              "8037  ['grande', 'fiis', 'mercado', 'não', 'selecion...  \n",
              "8038  ['erro', 'financeiro', 'eliminar', 'parar', 'o...  \n",
              "8039  ['morning', 'call', 'não', 'aparecer', 'spotif...  \n",
              "\n",
              "[8040 rows x 3 columns]"
            ],
            "text/html": [
              "\n",
              "  <div id=\"df-056f3dce-b893-401c-bf25-01adbff80915\">\n",
              "    <div class=\"colab-df-container\">\n",
              "      <div>\n",
              "<style scoped>\n",
              "    .dataframe tbody tr th:only-of-type {\n",
              "        vertical-align: middle;\n",
              "    }\n",
              "\n",
              "    .dataframe tbody tr th {\n",
              "        vertical-align: top;\n",
              "    }\n",
              "\n",
              "    .dataframe thead th {\n",
              "        text-align: right;\n",
              "    }\n",
              "</style>\n",
              "<table border=\"1\" class=\"dataframe\">\n",
              "  <thead>\n",
              "    <tr style=\"text-align: right;\">\n",
              "      <th></th>\n",
              "      <th>autor</th>\n",
              "      <th>sentimento</th>\n",
              "      <th>texto_tratado</th>\n",
              "    </tr>\n",
              "  </thead>\n",
              "  <tbody>\n",
              "    <tr>\n",
              "      <th>0</th>\n",
              "      <td>winthegame_of</td>\n",
              "      <td>1</td>\n",
              "      <td>['alvarez', 'marsal', 'estar', 'conosco', 'spo...</td>\n",
              "    </tr>\n",
              "    <tr>\n",
              "      <th>1</th>\n",
              "      <td>marta_bego</td>\n",
              "      <td>1</td>\n",
              "      <td>['btgpactual', 'with', 'make_repost', 'entenda...</td>\n",
              "    </tr>\n",
              "    <tr>\n",
              "      <th>2</th>\n",
              "      <td>lmviapiana</td>\n",
              "      <td>2</td>\n",
              "      <td>['minuto', 'touro', 'ouro']</td>\n",
              "    </tr>\n",
              "    <tr>\n",
              "      <th>3</th>\n",
              "      <td>ricktolledo</td>\n",
              "      <td>2</td>\n",
              "      <td>['querer', 'saber', 'banking', 'administrar']</td>\n",
              "    </tr>\n",
              "    <tr>\n",
              "      <th>4</th>\n",
              "      <td>donadabolsaoficial</td>\n",
              "      <td>0</td>\n",
              "      <td>['início', 'guerra', 'rússia', 'ucrânia', 'vel...</td>\n",
              "    </tr>\n",
              "    <tr>\n",
              "      <th>...</th>\n",
              "      <td>...</td>\n",
              "      <td>...</td>\n",
              "      <td>...</td>\n",
              "    </tr>\n",
              "    <tr>\n",
              "      <th>8035</th>\n",
              "      <td>perspectiveinvestimentos</td>\n",
              "      <td>2</td>\n",
              "      <td>['excelente', 'explicação']</td>\n",
              "    </tr>\n",
              "    <tr>\n",
              "      <th>8036</th>\n",
              "      <td>eduardocolares</td>\n",
              "      <td>2</td>\n",
              "      <td>['atendar', 'telefone', 'amor', 'deus']</td>\n",
              "    </tr>\n",
              "    <tr>\n",
              "      <th>8037</th>\n",
              "      <td>danielucm</td>\n",
              "      <td>2</td>\n",
              "      <td>['grande', 'fiis', 'mercado', 'não', 'selecion...</td>\n",
              "    </tr>\n",
              "    <tr>\n",
              "      <th>8038</th>\n",
              "      <td>amgcapitalinvest</td>\n",
              "      <td>1</td>\n",
              "      <td>['erro', 'financeiro', 'eliminar', 'parar', 'o...</td>\n",
              "    </tr>\n",
              "    <tr>\n",
              "      <th>8039</th>\n",
              "      <td>bfmarilia</td>\n",
              "      <td>0</td>\n",
              "      <td>['morning', 'call', 'não', 'aparecer', 'spotif...</td>\n",
              "    </tr>\n",
              "  </tbody>\n",
              "</table>\n",
              "<p>8040 rows × 3 columns</p>\n",
              "</div>\n",
              "      <button class=\"colab-df-convert\" onclick=\"convertToInteractive('df-056f3dce-b893-401c-bf25-01adbff80915')\"\n",
              "              title=\"Convert this dataframe to an interactive table.\"\n",
              "              style=\"display:none;\">\n",
              "        \n",
              "  <svg xmlns=\"http://www.w3.org/2000/svg\" height=\"24px\"viewBox=\"0 0 24 24\"\n",
              "       width=\"24px\">\n",
              "    <path d=\"M0 0h24v24H0V0z\" fill=\"none\"/>\n",
              "    <path d=\"M18.56 5.44l.94 2.06.94-2.06 2.06-.94-2.06-.94-.94-2.06-.94 2.06-2.06.94zm-11 1L8.5 8.5l.94-2.06 2.06-.94-2.06-.94L8.5 2.5l-.94 2.06-2.06.94zm10 10l.94 2.06.94-2.06 2.06-.94-2.06-.94-.94-2.06-.94 2.06-2.06.94z\"/><path d=\"M17.41 7.96l-1.37-1.37c-.4-.4-.92-.59-1.43-.59-.52 0-1.04.2-1.43.59L10.3 9.45l-7.72 7.72c-.78.78-.78 2.05 0 2.83L4 21.41c.39.39.9.59 1.41.59.51 0 1.02-.2 1.41-.59l7.78-7.78 2.81-2.81c.8-.78.8-2.07 0-2.86zM5.41 20L4 18.59l7.72-7.72 1.47 1.35L5.41 20z\"/>\n",
              "  </svg>\n",
              "      </button>\n",
              "      \n",
              "  <style>\n",
              "    .colab-df-container {\n",
              "      display:flex;\n",
              "      flex-wrap:wrap;\n",
              "      gap: 12px;\n",
              "    }\n",
              "\n",
              "    .colab-df-convert {\n",
              "      background-color: #E8F0FE;\n",
              "      border: none;\n",
              "      border-radius: 50%;\n",
              "      cursor: pointer;\n",
              "      display: none;\n",
              "      fill: #1967D2;\n",
              "      height: 32px;\n",
              "      padding: 0 0 0 0;\n",
              "      width: 32px;\n",
              "    }\n",
              "\n",
              "    .colab-df-convert:hover {\n",
              "      background-color: #E2EBFA;\n",
              "      box-shadow: 0px 1px 2px rgba(60, 64, 67, 0.3), 0px 1px 3px 1px rgba(60, 64, 67, 0.15);\n",
              "      fill: #174EA6;\n",
              "    }\n",
              "\n",
              "    [theme=dark] .colab-df-convert {\n",
              "      background-color: #3B4455;\n",
              "      fill: #D2E3FC;\n",
              "    }\n",
              "\n",
              "    [theme=dark] .colab-df-convert:hover {\n",
              "      background-color: #434B5C;\n",
              "      box-shadow: 0px 1px 3px 1px rgba(0, 0, 0, 0.15);\n",
              "      filter: drop-shadow(0px 1px 2px rgba(0, 0, 0, 0.3));\n",
              "      fill: #FFFFFF;\n",
              "    }\n",
              "  </style>\n",
              "\n",
              "      <script>\n",
              "        const buttonEl =\n",
              "          document.querySelector('#df-056f3dce-b893-401c-bf25-01adbff80915 button.colab-df-convert');\n",
              "        buttonEl.style.display =\n",
              "          google.colab.kernel.accessAllowed ? 'block' : 'none';\n",
              "\n",
              "        async function convertToInteractive(key) {\n",
              "          const element = document.querySelector('#df-056f3dce-b893-401c-bf25-01adbff80915');\n",
              "          const dataTable =\n",
              "            await google.colab.kernel.invokeFunction('convertToInteractive',\n",
              "                                                     [key], {});\n",
              "          if (!dataTable) return;\n",
              "\n",
              "          const docLinkHtml = 'Like what you see? Visit the ' +\n",
              "            '<a target=\"_blank\" href=https://colab.research.google.com/notebooks/data_table.ipynb>data table notebook</a>'\n",
              "            + ' to learn more about interactive tables.';\n",
              "          element.innerHTML = '';\n",
              "          dataTable['output_type'] = 'display_data';\n",
              "          await google.colab.output.renderOutput(dataTable, element);\n",
              "          const docLink = document.createElement('div');\n",
              "          docLink.innerHTML = docLinkHtml;\n",
              "          element.appendChild(docLink);\n",
              "        }\n",
              "      </script>\n",
              "    </div>\n",
              "  </div>\n",
              "  "
            ]
          },
          "metadata": {},
          "execution_count": 10
        }
      ]
    },
    {
      "cell_type": "code",
      "source": [
        "df.columns"
      ],
      "metadata": {
        "id": "J5GWQzKeRFGd",
        "colab": {
          "base_uri": "https://localhost:8080/"
        },
        "outputId": "6b784500-de28-4409-894b-8a79696265b6"
      },
      "execution_count": null,
      "outputs": [
        {
          "output_type": "execute_result",
          "data": {
            "text/plain": [
              "Index(['autor', 'sentimento', 'texto_tratado'], dtype='object')"
            ]
          },
          "metadata": {},
          "execution_count": 11
        }
      ]
    },
    {
      "cell_type": "code",
      "source": [
        "df['texto_tratado']"
      ],
      "metadata": {
        "colab": {
          "base_uri": "https://localhost:8080/"
        },
        "id": "4LkWLbegZdYE",
        "outputId": "a5ecf2de-62b9-4cbb-a4bf-49f542f5acab"
      },
      "execution_count": null,
      "outputs": [
        {
          "output_type": "execute_result",
          "data": {
            "text/plain": [
              "0       ['alvarez', 'marsal', 'estar', 'conosco', 'spo...\n",
              "1       ['btgpactual', 'with', 'make_repost', 'entenda...\n",
              "2                             ['minuto', 'touro', 'ouro']\n",
              "3           ['querer', 'saber', 'banking', 'administrar']\n",
              "4       ['início', 'guerra', 'rússia', 'ucrânia', 'vel...\n",
              "                              ...                        \n",
              "8035                          ['excelente', 'explicação']\n",
              "8036              ['atendar', 'telefone', 'amor', 'deus']\n",
              "8037    ['grande', 'fiis', 'mercado', 'não', 'selecion...\n",
              "8038    ['erro', 'financeiro', 'eliminar', 'parar', 'o...\n",
              "8039    ['morning', 'call', 'não', 'aparecer', 'spotif...\n",
              "Name: texto_tratado, Length: 8040, dtype: object"
            ]
          },
          "metadata": {},
          "execution_count": 12
        }
      ]
    },
    {
      "cell_type": "code",
      "source": [
        "# Supondo que seu DataFrame seja chamado de df e a coluna seja 'texto_tratado'\n",
        "df['texto_tratado'] = df['texto_tratado'].str.replace(\"'\", \"\")\n",
        "df['texto_tratado']"
      ],
      "metadata": {
        "colab": {
          "base_uri": "https://localhost:8080/"
        },
        "id": "BenRWfG2U8JM",
        "outputId": "f5bf622a-b9c8-4403-aa7e-294c3d3a90ba"
      },
      "execution_count": null,
      "outputs": [
        {
          "output_type": "execute_result",
          "data": {
            "text/plain": [
              "0       [alvarez, marsal, estar, conosco, sportainmet,...\n",
              "1       [btgpactual, with, make_repost, entendar, impa...\n",
              "2                                   [minuto, touro, ouro]\n",
              "3                   [querer, saber, banking, administrar]\n",
              "4       [início, guerra, rússia, ucrânia, velho, apare...\n",
              "                              ...                        \n",
              "8035                              [excelente, explicação]\n",
              "8036                      [atendar, telefone, amor, deus]\n",
              "8037    [grande, fiis, mercado, não, selecionar, princ...\n",
              "8038    [erro, financeiro, eliminar, parar, ostentar, ...\n",
              "8039    [morning, call, não, aparecer, spotify, atuali...\n",
              "Name: texto_tratado, Length: 8040, dtype: object"
            ]
          },
          "metadata": {},
          "execution_count": 13
        }
      ]
    },
    {
      "cell_type": "markdown",
      "source": [
        "# 10. Word2Vec com CBOW"
      ],
      "metadata": {
        "id": "y4KhJVXLK7W8"
      }
    },
    {
      "cell_type": "markdown",
      "source": [
        "## Estruturação"
      ],
      "metadata": {
        "id": "1BXIKk0Ud470"
      }
    },
    {
      "cell_type": "code",
      "source": [
        "df"
      ],
      "metadata": {
        "id": "dgxQlJajLDF6",
        "colab": {
          "base_uri": "https://localhost:8080/",
          "height": 423
        },
        "outputId": "d9b8c22d-4529-40e2-bd40-fb4b8c96d290"
      },
      "execution_count": null,
      "outputs": [
        {
          "output_type": "execute_result",
          "data": {
            "text/plain": [
              "                         autor  sentimento  \\\n",
              "0                winthegame_of           1   \n",
              "1                   marta_bego           1   \n",
              "2                   lmviapiana           2   \n",
              "3                  ricktolledo           2   \n",
              "4           donadabolsaoficial           0   \n",
              "...                        ...         ...   \n",
              "8035  perspectiveinvestimentos           2   \n",
              "8036            eduardocolares           2   \n",
              "8037                 danielucm           2   \n",
              "8038          amgcapitalinvest           1   \n",
              "8039                 bfmarilia           0   \n",
              "\n",
              "                                          texto_tratado  \n",
              "0     [alvarez, marsal, estar, conosco, sportainmet,...  \n",
              "1     [btgpactual, with, make_repost, entendar, impa...  \n",
              "2                                 [minuto, touro, ouro]  \n",
              "3                 [querer, saber, banking, administrar]  \n",
              "4     [início, guerra, rússia, ucrânia, velho, apare...  \n",
              "...                                                 ...  \n",
              "8035                            [excelente, explicação]  \n",
              "8036                    [atendar, telefone, amor, deus]  \n",
              "8037  [grande, fiis, mercado, não, selecionar, princ...  \n",
              "8038  [erro, financeiro, eliminar, parar, ostentar, ...  \n",
              "8039  [morning, call, não, aparecer, spotify, atuali...  \n",
              "\n",
              "[8040 rows x 3 columns]"
            ],
            "text/html": [
              "\n",
              "  <div id=\"df-f0d5314f-1bbe-4434-ae7e-ca29e0cf0ac9\">\n",
              "    <div class=\"colab-df-container\">\n",
              "      <div>\n",
              "<style scoped>\n",
              "    .dataframe tbody tr th:only-of-type {\n",
              "        vertical-align: middle;\n",
              "    }\n",
              "\n",
              "    .dataframe tbody tr th {\n",
              "        vertical-align: top;\n",
              "    }\n",
              "\n",
              "    .dataframe thead th {\n",
              "        text-align: right;\n",
              "    }\n",
              "</style>\n",
              "<table border=\"1\" class=\"dataframe\">\n",
              "  <thead>\n",
              "    <tr style=\"text-align: right;\">\n",
              "      <th></th>\n",
              "      <th>autor</th>\n",
              "      <th>sentimento</th>\n",
              "      <th>texto_tratado</th>\n",
              "    </tr>\n",
              "  </thead>\n",
              "  <tbody>\n",
              "    <tr>\n",
              "      <th>0</th>\n",
              "      <td>winthegame_of</td>\n",
              "      <td>1</td>\n",
              "      <td>[alvarez, marsal, estar, conosco, sportainmet,...</td>\n",
              "    </tr>\n",
              "    <tr>\n",
              "      <th>1</th>\n",
              "      <td>marta_bego</td>\n",
              "      <td>1</td>\n",
              "      <td>[btgpactual, with, make_repost, entendar, impa...</td>\n",
              "    </tr>\n",
              "    <tr>\n",
              "      <th>2</th>\n",
              "      <td>lmviapiana</td>\n",
              "      <td>2</td>\n",
              "      <td>[minuto, touro, ouro]</td>\n",
              "    </tr>\n",
              "    <tr>\n",
              "      <th>3</th>\n",
              "      <td>ricktolledo</td>\n",
              "      <td>2</td>\n",
              "      <td>[querer, saber, banking, administrar]</td>\n",
              "    </tr>\n",
              "    <tr>\n",
              "      <th>4</th>\n",
              "      <td>donadabolsaoficial</td>\n",
              "      <td>0</td>\n",
              "      <td>[início, guerra, rússia, ucrânia, velho, apare...</td>\n",
              "    </tr>\n",
              "    <tr>\n",
              "      <th>...</th>\n",
              "      <td>...</td>\n",
              "      <td>...</td>\n",
              "      <td>...</td>\n",
              "    </tr>\n",
              "    <tr>\n",
              "      <th>8035</th>\n",
              "      <td>perspectiveinvestimentos</td>\n",
              "      <td>2</td>\n",
              "      <td>[excelente, explicação]</td>\n",
              "    </tr>\n",
              "    <tr>\n",
              "      <th>8036</th>\n",
              "      <td>eduardocolares</td>\n",
              "      <td>2</td>\n",
              "      <td>[atendar, telefone, amor, deus]</td>\n",
              "    </tr>\n",
              "    <tr>\n",
              "      <th>8037</th>\n",
              "      <td>danielucm</td>\n",
              "      <td>2</td>\n",
              "      <td>[grande, fiis, mercado, não, selecionar, princ...</td>\n",
              "    </tr>\n",
              "    <tr>\n",
              "      <th>8038</th>\n",
              "      <td>amgcapitalinvest</td>\n",
              "      <td>1</td>\n",
              "      <td>[erro, financeiro, eliminar, parar, ostentar, ...</td>\n",
              "    </tr>\n",
              "    <tr>\n",
              "      <th>8039</th>\n",
              "      <td>bfmarilia</td>\n",
              "      <td>0</td>\n",
              "      <td>[morning, call, não, aparecer, spotify, atuali...</td>\n",
              "    </tr>\n",
              "  </tbody>\n",
              "</table>\n",
              "<p>8040 rows × 3 columns</p>\n",
              "</div>\n",
              "      <button class=\"colab-df-convert\" onclick=\"convertToInteractive('df-f0d5314f-1bbe-4434-ae7e-ca29e0cf0ac9')\"\n",
              "              title=\"Convert this dataframe to an interactive table.\"\n",
              "              style=\"display:none;\">\n",
              "        \n",
              "  <svg xmlns=\"http://www.w3.org/2000/svg\" height=\"24px\"viewBox=\"0 0 24 24\"\n",
              "       width=\"24px\">\n",
              "    <path d=\"M0 0h24v24H0V0z\" fill=\"none\"/>\n",
              "    <path d=\"M18.56 5.44l.94 2.06.94-2.06 2.06-.94-2.06-.94-.94-2.06-.94 2.06-2.06.94zm-11 1L8.5 8.5l.94-2.06 2.06-.94-2.06-.94L8.5 2.5l-.94 2.06-2.06.94zm10 10l.94 2.06.94-2.06 2.06-.94-2.06-.94-.94-2.06-.94 2.06-2.06.94z\"/><path d=\"M17.41 7.96l-1.37-1.37c-.4-.4-.92-.59-1.43-.59-.52 0-1.04.2-1.43.59L10.3 9.45l-7.72 7.72c-.78.78-.78 2.05 0 2.83L4 21.41c.39.39.9.59 1.41.59.51 0 1.02-.2 1.41-.59l7.78-7.78 2.81-2.81c.8-.78.8-2.07 0-2.86zM5.41 20L4 18.59l7.72-7.72 1.47 1.35L5.41 20z\"/>\n",
              "  </svg>\n",
              "      </button>\n",
              "      \n",
              "  <style>\n",
              "    .colab-df-container {\n",
              "      display:flex;\n",
              "      flex-wrap:wrap;\n",
              "      gap: 12px;\n",
              "    }\n",
              "\n",
              "    .colab-df-convert {\n",
              "      background-color: #E8F0FE;\n",
              "      border: none;\n",
              "      border-radius: 50%;\n",
              "      cursor: pointer;\n",
              "      display: none;\n",
              "      fill: #1967D2;\n",
              "      height: 32px;\n",
              "      padding: 0 0 0 0;\n",
              "      width: 32px;\n",
              "    }\n",
              "\n",
              "    .colab-df-convert:hover {\n",
              "      background-color: #E2EBFA;\n",
              "      box-shadow: 0px 1px 2px rgba(60, 64, 67, 0.3), 0px 1px 3px 1px rgba(60, 64, 67, 0.15);\n",
              "      fill: #174EA6;\n",
              "    }\n",
              "\n",
              "    [theme=dark] .colab-df-convert {\n",
              "      background-color: #3B4455;\n",
              "      fill: #D2E3FC;\n",
              "    }\n",
              "\n",
              "    [theme=dark] .colab-df-convert:hover {\n",
              "      background-color: #434B5C;\n",
              "      box-shadow: 0px 1px 3px 1px rgba(0, 0, 0, 0.15);\n",
              "      filter: drop-shadow(0px 1px 2px rgba(0, 0, 0, 0.3));\n",
              "      fill: #FFFFFF;\n",
              "    }\n",
              "  </style>\n",
              "\n",
              "      <script>\n",
              "        const buttonEl =\n",
              "          document.querySelector('#df-f0d5314f-1bbe-4434-ae7e-ca29e0cf0ac9 button.colab-df-convert');\n",
              "        buttonEl.style.display =\n",
              "          google.colab.kernel.accessAllowed ? 'block' : 'none';\n",
              "\n",
              "        async function convertToInteractive(key) {\n",
              "          const element = document.querySelector('#df-f0d5314f-1bbe-4434-ae7e-ca29e0cf0ac9');\n",
              "          const dataTable =\n",
              "            await google.colab.kernel.invokeFunction('convertToInteractive',\n",
              "                                                     [key], {});\n",
              "          if (!dataTable) return;\n",
              "\n",
              "          const docLinkHtml = 'Like what you see? Visit the ' +\n",
              "            '<a target=\"_blank\" href=https://colab.research.google.com/notebooks/data_table.ipynb>data table notebook</a>'\n",
              "            + ' to learn more about interactive tables.';\n",
              "          element.innerHTML = '';\n",
              "          dataTable['output_type'] = 'display_data';\n",
              "          await google.colab.output.renderOutput(dataTable, element);\n",
              "          const docLink = document.createElement('div');\n",
              "          docLink.innerHTML = docLinkHtml;\n",
              "          element.appendChild(docLink);\n",
              "        }\n",
              "      </script>\n",
              "    </div>\n",
              "  </div>\n",
              "  "
            ]
          },
          "metadata": {},
          "execution_count": 14
        }
      ]
    },
    {
      "cell_type": "code",
      "source": [
        "cbow = '/content/drive/MyDrive/Módulo 6/Semana 5/cbow_s50/cbow_s50.txt'"
      ],
      "metadata": {
        "id": "8nzqODtZcsdF"
      },
      "execution_count": null,
      "outputs": []
    },
    {
      "cell_type": "code",
      "source": [
        "model_cbow = KeyedVectors.load_word2vec_format(cbow)"
      ],
      "metadata": {
        "id": "ejOULae3dOeN"
      },
      "execution_count": null,
      "outputs": []
    },
    {
      "cell_type": "markdown",
      "source": [
        "## Teste isolado"
      ],
      "metadata": {
        "id": "G4jU0o6Ud7jk"
      }
    },
    {
      "cell_type": "code",
      "source": [
        "# Testando o word2vec\n",
        "wordvec_test = model_cbow['projeto']\n",
        "\n",
        "wordvec_test"
      ],
      "metadata": {
        "colab": {
          "base_uri": "https://localhost:8080/"
        },
        "id": "Ib98bYExdQ09",
        "outputId": "f0c5f067-6458-4421-e766-76745815bf07"
      },
      "execution_count": null,
      "outputs": [
        {
          "output_type": "execute_result",
          "data": {
            "text/plain": [
              "array([-0.074174, -0.152088,  0.086627, -0.224567,  0.362562,  0.130683,\n",
              "       -0.089179, -0.086973,  0.309501,  0.004112, -0.308202,  0.351789,\n",
              "       -0.477863,  0.050276,  0.213283,  0.159895, -0.285545, -0.08832 ,\n",
              "       -0.015449,  0.014816, -0.613861,  0.502556,  0.021688,  0.369492,\n",
              "        0.280691,  0.016868,  0.105584, -0.180754, -0.078456,  0.148032,\n",
              "        0.36293 , -0.011634,  0.412191, -0.009049,  0.010404,  0.131242,\n",
              "       -0.032483, -0.133067, -0.063802,  0.434015, -0.214768, -0.072132,\n",
              "        0.045601, -0.368866,  0.502808,  0.048293, -0.254894,  0.142581,\n",
              "       -0.075066,  0.015646], dtype=float32)"
            ]
          },
          "metadata": {},
          "execution_count": 18
        }
      ]
    },
    {
      "cell_type": "markdown",
      "source": [
        "## Definição de função"
      ],
      "metadata": {
        "id": "XVpVpl42d9Nu"
      }
    },
    {
      "cell_type": "code",
      "source": [
        "def create_sentence_vector(model, df):\n",
        "    sentence_table = []\n",
        "    for sentence in df['texto_tratado']:\n",
        "        word_vectors = [model[word] for word in sentence if word in model]\n",
        "        if len(word_vectors) > 0:\n",
        "            sentence_vector = sum(word_vectors) / len(word_vectors)\n",
        "        else:\n",
        "            sentence_vector = [None] * 100  # Cria uma lista de 100 elementos None\n",
        "        sentence_table.append((sentence, *sentence_vector[:50]))  # Adiciona apenas os primeiros 50 elementos do vetor\n",
        "\n",
        "    column_labels = ['Frase']\n",
        "    for i in range(50):\n",
        "        column_labels.append(f'Vetor{i+1}')\n",
        "    df_vec = pd.DataFrame(sentence_table, columns=column_labels)\n",
        "\n",
        "    df[\"sentimentoNumerico\"] = df[\"sentimento\"].replace({'NEGATIVE': -1, 'POSITIVE': 1, 'NEUTRAL': 0})\n",
        "\n",
        "    # Definir o índice do DataFrame df_vec como o mesmo índice de df_processada['sentimentoNumerico']\n",
        "    df_vec.set_index(df[\"sentimentoNumerico\"].index, inplace=True)\n",
        "\n",
        "    df_vec['sentimento'] = df[\"sentimentoNumerico\"]\n",
        "    df_vec = df_vec.dropna()\n",
        "\n",
        "    return df_vec"
      ],
      "metadata": {
        "id": "iI_Gq3b3dVuk"
      },
      "execution_count": null,
      "outputs": []
    },
    {
      "cell_type": "markdown",
      "source": [
        "## Teste de funções"
      ],
      "metadata": {
        "id": "3k0a2PQ3eABM"
      }
    },
    {
      "cell_type": "code",
      "source": [
        "df_vec = create_sentence_vector(model_cbow, df)\n",
        "df_vec"
      ],
      "metadata": {
        "colab": {
          "base_uri": "https://localhost:8080/",
          "height": 1000
        },
        "id": "KFlOnmx7eBlj",
        "outputId": "ba607236-e411-4c8d-98ad-c5156f80d81b"
      },
      "execution_count": null,
      "outputs": [
        {
          "output_type": "execute_result",
          "data": {
            "text/plain": [
              "                                                  Frase    Vetor1    Vetor2  \\\n",
              "0     [alvarez, marsal, estar, conosco, sportainmet,...  0.214823 -0.123036   \n",
              "1     [btgpactual, with, make_repost, entendar, impa...  0.220860 -0.123713   \n",
              "2                                 [minuto, touro, ouro]  0.265227 -0.068285   \n",
              "3                 [querer, saber, banking, administrar]  0.189241 -0.169407   \n",
              "4     [início, guerra, rússia, ucrânia, velho, apare...  0.219838 -0.138311   \n",
              "...                                                 ...       ...       ...   \n",
              "8035                            [excelente, explicação]  0.190917 -0.133475   \n",
              "8036                    [atendar, telefone, amor, deus]  0.188641 -0.119377   \n",
              "8037  [grande, fiis, mercado, não, selecionar, princ...  0.219437 -0.141124   \n",
              "8038  [erro, financeiro, eliminar, parar, ostentar, ...  0.218153 -0.146420   \n",
              "8039  [morning, call, não, aparecer, spotify, atuali...  0.224609 -0.139236   \n",
              "\n",
              "        Vetor3    Vetor4    Vetor5    Vetor6    Vetor7    Vetor8    Vetor9  \\\n",
              "0     0.220707 -0.079739 -0.019442  0.202300  0.073742  0.042477  0.057268   \n",
              "1     0.205813 -0.063700 -0.010433  0.195687  0.072226  0.026175  0.058045   \n",
              "2     0.152235 -0.044329 -0.102729  0.141353  0.092800  0.113174  0.015783   \n",
              "3     0.281181 -0.093912 -0.001968  0.181633  0.080923  0.055674  0.103454   \n",
              "4     0.229412 -0.057420 -0.014510  0.212875  0.058865  0.068096  0.060398   \n",
              "...        ...       ...       ...       ...       ...       ...       ...   \n",
              "8035  0.241675 -0.053180  0.067256  0.201138  0.034109 -0.078718 -0.066131   \n",
              "8036  0.199339 -0.105448  0.023176  0.178837  0.069476 -0.004494  0.034710   \n",
              "8037  0.217854 -0.065569 -0.020409  0.205403  0.061334  0.041665  0.063050   \n",
              "8038  0.245234 -0.056113 -0.036187  0.224789  0.074320  0.045111  0.040841   \n",
              "8039  0.277561 -0.049273  0.007569  0.250299  0.055606  0.060699  0.050552   \n",
              "\n",
              "      ...   Vetor42   Vetor43   Vetor44   Vetor45   Vetor46   Vetor47  \\\n",
              "0     ...  0.012086 -0.096122  0.148153  0.092629 -0.027504  0.149860   \n",
              "1     ...  0.006447 -0.076174  0.157446  0.085306 -0.001963  0.156306   \n",
              "2     ...  0.078032 -0.202677  0.155750  0.062291  0.007038  0.134573   \n",
              "3     ...  0.092738 -0.160601  0.179499  0.091803 -0.063762  0.171190   \n",
              "4     ...  0.040836 -0.112662  0.170401  0.094290 -0.046000  0.168181   \n",
              "...   ...       ...       ...       ...       ...       ...       ...   \n",
              "8035  ... -0.082151  0.016113  0.154861  0.068700 -0.004302  0.079717   \n",
              "8036  ...  0.034035 -0.126673  0.165176  0.080313 -0.024160  0.118848   \n",
              "8037  ...  0.031438 -0.099000  0.176588  0.092546 -0.046104  0.145734   \n",
              "8038  ...  0.035260 -0.126793  0.171115  0.095479 -0.033473  0.158747   \n",
              "8039  ...  0.006490 -0.105791  0.168540  0.102157 -0.018187  0.139210   \n",
              "\n",
              "       Vetor48   Vetor49   Vetor50  sentimento  \n",
              "0    -0.029617  0.032065  0.190372           1  \n",
              "1    -0.019182  0.035594  0.192635           1  \n",
              "2     0.014635  0.034189  0.345674           2  \n",
              "3    -0.043618  0.030563  0.196250           2  \n",
              "4    -0.018029  0.027667  0.180134           0  \n",
              "...        ...       ...       ...         ...  \n",
              "8035 -0.028388 -0.017448  0.188785           2  \n",
              "8036 -0.003502  0.087053  0.215656           2  \n",
              "8037 -0.019857  0.029422  0.183504           2  \n",
              "8038 -0.006721  0.029326  0.198914           1  \n",
              "8039 -0.017767  0.033116  0.184341           0  \n",
              "\n",
              "[8040 rows x 52 columns]"
            ],
            "text/html": [
              "\n",
              "  <div id=\"df-849248b6-c873-4059-80b8-66ed0c5b4b50\">\n",
              "    <div class=\"colab-df-container\">\n",
              "      <div>\n",
              "<style scoped>\n",
              "    .dataframe tbody tr th:only-of-type {\n",
              "        vertical-align: middle;\n",
              "    }\n",
              "\n",
              "    .dataframe tbody tr th {\n",
              "        vertical-align: top;\n",
              "    }\n",
              "\n",
              "    .dataframe thead th {\n",
              "        text-align: right;\n",
              "    }\n",
              "</style>\n",
              "<table border=\"1\" class=\"dataframe\">\n",
              "  <thead>\n",
              "    <tr style=\"text-align: right;\">\n",
              "      <th></th>\n",
              "      <th>Frase</th>\n",
              "      <th>Vetor1</th>\n",
              "      <th>Vetor2</th>\n",
              "      <th>Vetor3</th>\n",
              "      <th>Vetor4</th>\n",
              "      <th>Vetor5</th>\n",
              "      <th>Vetor6</th>\n",
              "      <th>Vetor7</th>\n",
              "      <th>Vetor8</th>\n",
              "      <th>Vetor9</th>\n",
              "      <th>...</th>\n",
              "      <th>Vetor42</th>\n",
              "      <th>Vetor43</th>\n",
              "      <th>Vetor44</th>\n",
              "      <th>Vetor45</th>\n",
              "      <th>Vetor46</th>\n",
              "      <th>Vetor47</th>\n",
              "      <th>Vetor48</th>\n",
              "      <th>Vetor49</th>\n",
              "      <th>Vetor50</th>\n",
              "      <th>sentimento</th>\n",
              "    </tr>\n",
              "  </thead>\n",
              "  <tbody>\n",
              "    <tr>\n",
              "      <th>0</th>\n",
              "      <td>[alvarez, marsal, estar, conosco, sportainmet,...</td>\n",
              "      <td>0.214823</td>\n",
              "      <td>-0.123036</td>\n",
              "      <td>0.220707</td>\n",
              "      <td>-0.079739</td>\n",
              "      <td>-0.019442</td>\n",
              "      <td>0.202300</td>\n",
              "      <td>0.073742</td>\n",
              "      <td>0.042477</td>\n",
              "      <td>0.057268</td>\n",
              "      <td>...</td>\n",
              "      <td>0.012086</td>\n",
              "      <td>-0.096122</td>\n",
              "      <td>0.148153</td>\n",
              "      <td>0.092629</td>\n",
              "      <td>-0.027504</td>\n",
              "      <td>0.149860</td>\n",
              "      <td>-0.029617</td>\n",
              "      <td>0.032065</td>\n",
              "      <td>0.190372</td>\n",
              "      <td>1</td>\n",
              "    </tr>\n",
              "    <tr>\n",
              "      <th>1</th>\n",
              "      <td>[btgpactual, with, make_repost, entendar, impa...</td>\n",
              "      <td>0.220860</td>\n",
              "      <td>-0.123713</td>\n",
              "      <td>0.205813</td>\n",
              "      <td>-0.063700</td>\n",
              "      <td>-0.010433</td>\n",
              "      <td>0.195687</td>\n",
              "      <td>0.072226</td>\n",
              "      <td>0.026175</td>\n",
              "      <td>0.058045</td>\n",
              "      <td>...</td>\n",
              "      <td>0.006447</td>\n",
              "      <td>-0.076174</td>\n",
              "      <td>0.157446</td>\n",
              "      <td>0.085306</td>\n",
              "      <td>-0.001963</td>\n",
              "      <td>0.156306</td>\n",
              "      <td>-0.019182</td>\n",
              "      <td>0.035594</td>\n",
              "      <td>0.192635</td>\n",
              "      <td>1</td>\n",
              "    </tr>\n",
              "    <tr>\n",
              "      <th>2</th>\n",
              "      <td>[minuto, touro, ouro]</td>\n",
              "      <td>0.265227</td>\n",
              "      <td>-0.068285</td>\n",
              "      <td>0.152235</td>\n",
              "      <td>-0.044329</td>\n",
              "      <td>-0.102729</td>\n",
              "      <td>0.141353</td>\n",
              "      <td>0.092800</td>\n",
              "      <td>0.113174</td>\n",
              "      <td>0.015783</td>\n",
              "      <td>...</td>\n",
              "      <td>0.078032</td>\n",
              "      <td>-0.202677</td>\n",
              "      <td>0.155750</td>\n",
              "      <td>0.062291</td>\n",
              "      <td>0.007038</td>\n",
              "      <td>0.134573</td>\n",
              "      <td>0.014635</td>\n",
              "      <td>0.034189</td>\n",
              "      <td>0.345674</td>\n",
              "      <td>2</td>\n",
              "    </tr>\n",
              "    <tr>\n",
              "      <th>3</th>\n",
              "      <td>[querer, saber, banking, administrar]</td>\n",
              "      <td>0.189241</td>\n",
              "      <td>-0.169407</td>\n",
              "      <td>0.281181</td>\n",
              "      <td>-0.093912</td>\n",
              "      <td>-0.001968</td>\n",
              "      <td>0.181633</td>\n",
              "      <td>0.080923</td>\n",
              "      <td>0.055674</td>\n",
              "      <td>0.103454</td>\n",
              "      <td>...</td>\n",
              "      <td>0.092738</td>\n",
              "      <td>-0.160601</td>\n",
              "      <td>0.179499</td>\n",
              "      <td>0.091803</td>\n",
              "      <td>-0.063762</td>\n",
              "      <td>0.171190</td>\n",
              "      <td>-0.043618</td>\n",
              "      <td>0.030563</td>\n",
              "      <td>0.196250</td>\n",
              "      <td>2</td>\n",
              "    </tr>\n",
              "    <tr>\n",
              "      <th>4</th>\n",
              "      <td>[início, guerra, rússia, ucrânia, velho, apare...</td>\n",
              "      <td>0.219838</td>\n",
              "      <td>-0.138311</td>\n",
              "      <td>0.229412</td>\n",
              "      <td>-0.057420</td>\n",
              "      <td>-0.014510</td>\n",
              "      <td>0.212875</td>\n",
              "      <td>0.058865</td>\n",
              "      <td>0.068096</td>\n",
              "      <td>0.060398</td>\n",
              "      <td>...</td>\n",
              "      <td>0.040836</td>\n",
              "      <td>-0.112662</td>\n",
              "      <td>0.170401</td>\n",
              "      <td>0.094290</td>\n",
              "      <td>-0.046000</td>\n",
              "      <td>0.168181</td>\n",
              "      <td>-0.018029</td>\n",
              "      <td>0.027667</td>\n",
              "      <td>0.180134</td>\n",
              "      <td>0</td>\n",
              "    </tr>\n",
              "    <tr>\n",
              "      <th>...</th>\n",
              "      <td>...</td>\n",
              "      <td>...</td>\n",
              "      <td>...</td>\n",
              "      <td>...</td>\n",
              "      <td>...</td>\n",
              "      <td>...</td>\n",
              "      <td>...</td>\n",
              "      <td>...</td>\n",
              "      <td>...</td>\n",
              "      <td>...</td>\n",
              "      <td>...</td>\n",
              "      <td>...</td>\n",
              "      <td>...</td>\n",
              "      <td>...</td>\n",
              "      <td>...</td>\n",
              "      <td>...</td>\n",
              "      <td>...</td>\n",
              "      <td>...</td>\n",
              "      <td>...</td>\n",
              "      <td>...</td>\n",
              "      <td>...</td>\n",
              "    </tr>\n",
              "    <tr>\n",
              "      <th>8035</th>\n",
              "      <td>[excelente, explicação]</td>\n",
              "      <td>0.190917</td>\n",
              "      <td>-0.133475</td>\n",
              "      <td>0.241675</td>\n",
              "      <td>-0.053180</td>\n",
              "      <td>0.067256</td>\n",
              "      <td>0.201138</td>\n",
              "      <td>0.034109</td>\n",
              "      <td>-0.078718</td>\n",
              "      <td>-0.066131</td>\n",
              "      <td>...</td>\n",
              "      <td>-0.082151</td>\n",
              "      <td>0.016113</td>\n",
              "      <td>0.154861</td>\n",
              "      <td>0.068700</td>\n",
              "      <td>-0.004302</td>\n",
              "      <td>0.079717</td>\n",
              "      <td>-0.028388</td>\n",
              "      <td>-0.017448</td>\n",
              "      <td>0.188785</td>\n",
              "      <td>2</td>\n",
              "    </tr>\n",
              "    <tr>\n",
              "      <th>8036</th>\n",
              "      <td>[atendar, telefone, amor, deus]</td>\n",
              "      <td>0.188641</td>\n",
              "      <td>-0.119377</td>\n",
              "      <td>0.199339</td>\n",
              "      <td>-0.105448</td>\n",
              "      <td>0.023176</td>\n",
              "      <td>0.178837</td>\n",
              "      <td>0.069476</td>\n",
              "      <td>-0.004494</td>\n",
              "      <td>0.034710</td>\n",
              "      <td>...</td>\n",
              "      <td>0.034035</td>\n",
              "      <td>-0.126673</td>\n",
              "      <td>0.165176</td>\n",
              "      <td>0.080313</td>\n",
              "      <td>-0.024160</td>\n",
              "      <td>0.118848</td>\n",
              "      <td>-0.003502</td>\n",
              "      <td>0.087053</td>\n",
              "      <td>0.215656</td>\n",
              "      <td>2</td>\n",
              "    </tr>\n",
              "    <tr>\n",
              "      <th>8037</th>\n",
              "      <td>[grande, fiis, mercado, não, selecionar, princ...</td>\n",
              "      <td>0.219437</td>\n",
              "      <td>-0.141124</td>\n",
              "      <td>0.217854</td>\n",
              "      <td>-0.065569</td>\n",
              "      <td>-0.020409</td>\n",
              "      <td>0.205403</td>\n",
              "      <td>0.061334</td>\n",
              "      <td>0.041665</td>\n",
              "      <td>0.063050</td>\n",
              "      <td>...</td>\n",
              "      <td>0.031438</td>\n",
              "      <td>-0.099000</td>\n",
              "      <td>0.176588</td>\n",
              "      <td>0.092546</td>\n",
              "      <td>-0.046104</td>\n",
              "      <td>0.145734</td>\n",
              "      <td>-0.019857</td>\n",
              "      <td>0.029422</td>\n",
              "      <td>0.183504</td>\n",
              "      <td>2</td>\n",
              "    </tr>\n",
              "    <tr>\n",
              "      <th>8038</th>\n",
              "      <td>[erro, financeiro, eliminar, parar, ostentar, ...</td>\n",
              "      <td>0.218153</td>\n",
              "      <td>-0.146420</td>\n",
              "      <td>0.245234</td>\n",
              "      <td>-0.056113</td>\n",
              "      <td>-0.036187</td>\n",
              "      <td>0.224789</td>\n",
              "      <td>0.074320</td>\n",
              "      <td>0.045111</td>\n",
              "      <td>0.040841</td>\n",
              "      <td>...</td>\n",
              "      <td>0.035260</td>\n",
              "      <td>-0.126793</td>\n",
              "      <td>0.171115</td>\n",
              "      <td>0.095479</td>\n",
              "      <td>-0.033473</td>\n",
              "      <td>0.158747</td>\n",
              "      <td>-0.006721</td>\n",
              "      <td>0.029326</td>\n",
              "      <td>0.198914</td>\n",
              "      <td>1</td>\n",
              "    </tr>\n",
              "    <tr>\n",
              "      <th>8039</th>\n",
              "      <td>[morning, call, não, aparecer, spotify, atuali...</td>\n",
              "      <td>0.224609</td>\n",
              "      <td>-0.139236</td>\n",
              "      <td>0.277561</td>\n",
              "      <td>-0.049273</td>\n",
              "      <td>0.007569</td>\n",
              "      <td>0.250299</td>\n",
              "      <td>0.055606</td>\n",
              "      <td>0.060699</td>\n",
              "      <td>0.050552</td>\n",
              "      <td>...</td>\n",
              "      <td>0.006490</td>\n",
              "      <td>-0.105791</td>\n",
              "      <td>0.168540</td>\n",
              "      <td>0.102157</td>\n",
              "      <td>-0.018187</td>\n",
              "      <td>0.139210</td>\n",
              "      <td>-0.017767</td>\n",
              "      <td>0.033116</td>\n",
              "      <td>0.184341</td>\n",
              "      <td>0</td>\n",
              "    </tr>\n",
              "  </tbody>\n",
              "</table>\n",
              "<p>8040 rows × 52 columns</p>\n",
              "</div>\n",
              "      <button class=\"colab-df-convert\" onclick=\"convertToInteractive('df-849248b6-c873-4059-80b8-66ed0c5b4b50')\"\n",
              "              title=\"Convert this dataframe to an interactive table.\"\n",
              "              style=\"display:none;\">\n",
              "        \n",
              "  <svg xmlns=\"http://www.w3.org/2000/svg\" height=\"24px\"viewBox=\"0 0 24 24\"\n",
              "       width=\"24px\">\n",
              "    <path d=\"M0 0h24v24H0V0z\" fill=\"none\"/>\n",
              "    <path d=\"M18.56 5.44l.94 2.06.94-2.06 2.06-.94-2.06-.94-.94-2.06-.94 2.06-2.06.94zm-11 1L8.5 8.5l.94-2.06 2.06-.94-2.06-.94L8.5 2.5l-.94 2.06-2.06.94zm10 10l.94 2.06.94-2.06 2.06-.94-2.06-.94-.94-2.06-.94 2.06-2.06.94z\"/><path d=\"M17.41 7.96l-1.37-1.37c-.4-.4-.92-.59-1.43-.59-.52 0-1.04.2-1.43.59L10.3 9.45l-7.72 7.72c-.78.78-.78 2.05 0 2.83L4 21.41c.39.39.9.59 1.41.59.51 0 1.02-.2 1.41-.59l7.78-7.78 2.81-2.81c.8-.78.8-2.07 0-2.86zM5.41 20L4 18.59l7.72-7.72 1.47 1.35L5.41 20z\"/>\n",
              "  </svg>\n",
              "      </button>\n",
              "      \n",
              "  <style>\n",
              "    .colab-df-container {\n",
              "      display:flex;\n",
              "      flex-wrap:wrap;\n",
              "      gap: 12px;\n",
              "    }\n",
              "\n",
              "    .colab-df-convert {\n",
              "      background-color: #E8F0FE;\n",
              "      border: none;\n",
              "      border-radius: 50%;\n",
              "      cursor: pointer;\n",
              "      display: none;\n",
              "      fill: #1967D2;\n",
              "      height: 32px;\n",
              "      padding: 0 0 0 0;\n",
              "      width: 32px;\n",
              "    }\n",
              "\n",
              "    .colab-df-convert:hover {\n",
              "      background-color: #E2EBFA;\n",
              "      box-shadow: 0px 1px 2px rgba(60, 64, 67, 0.3), 0px 1px 3px 1px rgba(60, 64, 67, 0.15);\n",
              "      fill: #174EA6;\n",
              "    }\n",
              "\n",
              "    [theme=dark] .colab-df-convert {\n",
              "      background-color: #3B4455;\n",
              "      fill: #D2E3FC;\n",
              "    }\n",
              "\n",
              "    [theme=dark] .colab-df-convert:hover {\n",
              "      background-color: #434B5C;\n",
              "      box-shadow: 0px 1px 3px 1px rgba(0, 0, 0, 0.15);\n",
              "      filter: drop-shadow(0px 1px 2px rgba(0, 0, 0, 0.3));\n",
              "      fill: #FFFFFF;\n",
              "    }\n",
              "  </style>\n",
              "\n",
              "      <script>\n",
              "        const buttonEl =\n",
              "          document.querySelector('#df-849248b6-c873-4059-80b8-66ed0c5b4b50 button.colab-df-convert');\n",
              "        buttonEl.style.display =\n",
              "          google.colab.kernel.accessAllowed ? 'block' : 'none';\n",
              "\n",
              "        async function convertToInteractive(key) {\n",
              "          const element = document.querySelector('#df-849248b6-c873-4059-80b8-66ed0c5b4b50');\n",
              "          const dataTable =\n",
              "            await google.colab.kernel.invokeFunction('convertToInteractive',\n",
              "                                                     [key], {});\n",
              "          if (!dataTable) return;\n",
              "\n",
              "          const docLinkHtml = 'Like what you see? Visit the ' +\n",
              "            '<a target=\"_blank\" href=https://colab.research.google.com/notebooks/data_table.ipynb>data table notebook</a>'\n",
              "            + ' to learn more about interactive tables.';\n",
              "          element.innerHTML = '';\n",
              "          dataTable['output_type'] = 'display_data';\n",
              "          await google.colab.output.renderOutput(dataTable, element);\n",
              "          const docLink = document.createElement('div');\n",
              "          docLink.innerHTML = docLinkHtml;\n",
              "          element.appendChild(docLink);\n",
              "        }\n",
              "      </script>\n",
              "    </div>\n",
              "  </div>\n",
              "  "
            ]
          },
          "metadata": {},
          "execution_count": 20
        }
      ]
    },
    {
      "cell_type": "code",
      "source": [
        "word2vec = df_vec.iloc[:, 1:51]\n",
        "word2vec"
      ],
      "metadata": {
        "colab": {
          "base_uri": "https://localhost:8080/",
          "height": 487
        },
        "id": "nPFmVFl2ErnM",
        "outputId": "6981a8f1-6a64-46eb-b3fa-435242867d3b"
      },
      "execution_count": null,
      "outputs": [
        {
          "output_type": "execute_result",
          "data": {
            "text/plain": [
              "        Vetor1    Vetor2    Vetor3    Vetor4    Vetor5    Vetor6    Vetor7  \\\n",
              "0     0.214823 -0.123036  0.220707 -0.079739 -0.019442  0.202300  0.073742   \n",
              "1     0.220860 -0.123713  0.205813 -0.063700 -0.010433  0.195687  0.072226   \n",
              "2     0.265227 -0.068285  0.152235 -0.044329 -0.102729  0.141353  0.092800   \n",
              "3     0.189241 -0.169407  0.281181 -0.093912 -0.001968  0.181633  0.080923   \n",
              "4     0.219838 -0.138311  0.229412 -0.057420 -0.014510  0.212875  0.058865   \n",
              "...        ...       ...       ...       ...       ...       ...       ...   \n",
              "8035  0.190917 -0.133475  0.241675 -0.053180  0.067256  0.201138  0.034109   \n",
              "8036  0.188641 -0.119377  0.199339 -0.105448  0.023176  0.178837  0.069476   \n",
              "8037  0.219437 -0.141124  0.217854 -0.065569 -0.020409  0.205403  0.061334   \n",
              "8038  0.218153 -0.146420  0.245234 -0.056113 -0.036187  0.224789  0.074320   \n",
              "8039  0.224609 -0.139236  0.277561 -0.049273  0.007569  0.250299  0.055606   \n",
              "\n",
              "        Vetor8    Vetor9   Vetor10  ...   Vetor41   Vetor42   Vetor43  \\\n",
              "0     0.042477  0.057268  0.168187  ... -0.281536  0.012086 -0.096122   \n",
              "1     0.026175  0.058045  0.163238  ... -0.305640  0.006447 -0.076174   \n",
              "2     0.113174  0.015783  0.202198  ... -0.193025  0.078032 -0.202677   \n",
              "3     0.055674  0.103454  0.144342  ... -0.254610  0.092738 -0.160601   \n",
              "4     0.068096  0.060398  0.156307  ... -0.269136  0.040836 -0.112662   \n",
              "...        ...       ...       ...  ...       ...       ...       ...   \n",
              "8035 -0.078718 -0.066131  0.187608  ... -0.321192 -0.082151  0.016113   \n",
              "8036 -0.004494  0.034710  0.150081  ... -0.194663  0.034035 -0.126673   \n",
              "8037  0.041665  0.063050  0.167985  ... -0.300234  0.031438 -0.099000   \n",
              "8038  0.045111  0.040841  0.150971  ... -0.270532  0.035260 -0.126793   \n",
              "8039  0.060699  0.050552  0.117889  ... -0.245831  0.006490 -0.105791   \n",
              "\n",
              "       Vetor44   Vetor45   Vetor46   Vetor47   Vetor48   Vetor49   Vetor50  \n",
              "0     0.148153  0.092629 -0.027504  0.149860 -0.029617  0.032065  0.190372  \n",
              "1     0.157446  0.085306 -0.001963  0.156306 -0.019182  0.035594  0.192635  \n",
              "2     0.155750  0.062291  0.007038  0.134573  0.014635  0.034189  0.345674  \n",
              "3     0.179499  0.091803 -0.063762  0.171190 -0.043618  0.030563  0.196250  \n",
              "4     0.170401  0.094290 -0.046000  0.168181 -0.018029  0.027667  0.180134  \n",
              "...        ...       ...       ...       ...       ...       ...       ...  \n",
              "8035  0.154861  0.068700 -0.004302  0.079717 -0.028388 -0.017448  0.188785  \n",
              "8036  0.165176  0.080313 -0.024160  0.118848 -0.003502  0.087053  0.215656  \n",
              "8037  0.176588  0.092546 -0.046104  0.145734 -0.019857  0.029422  0.183504  \n",
              "8038  0.171115  0.095479 -0.033473  0.158747 -0.006721  0.029326  0.198914  \n",
              "8039  0.168540  0.102157 -0.018187  0.139210 -0.017767  0.033116  0.184341  \n",
              "\n",
              "[8040 rows x 50 columns]"
            ],
            "text/html": [
              "\n",
              "  <div id=\"df-caa44ecc-a2ff-43c4-b43e-a52b82346b9e\">\n",
              "    <div class=\"colab-df-container\">\n",
              "      <div>\n",
              "<style scoped>\n",
              "    .dataframe tbody tr th:only-of-type {\n",
              "        vertical-align: middle;\n",
              "    }\n",
              "\n",
              "    .dataframe tbody tr th {\n",
              "        vertical-align: top;\n",
              "    }\n",
              "\n",
              "    .dataframe thead th {\n",
              "        text-align: right;\n",
              "    }\n",
              "</style>\n",
              "<table border=\"1\" class=\"dataframe\">\n",
              "  <thead>\n",
              "    <tr style=\"text-align: right;\">\n",
              "      <th></th>\n",
              "      <th>Vetor1</th>\n",
              "      <th>Vetor2</th>\n",
              "      <th>Vetor3</th>\n",
              "      <th>Vetor4</th>\n",
              "      <th>Vetor5</th>\n",
              "      <th>Vetor6</th>\n",
              "      <th>Vetor7</th>\n",
              "      <th>Vetor8</th>\n",
              "      <th>Vetor9</th>\n",
              "      <th>Vetor10</th>\n",
              "      <th>...</th>\n",
              "      <th>Vetor41</th>\n",
              "      <th>Vetor42</th>\n",
              "      <th>Vetor43</th>\n",
              "      <th>Vetor44</th>\n",
              "      <th>Vetor45</th>\n",
              "      <th>Vetor46</th>\n",
              "      <th>Vetor47</th>\n",
              "      <th>Vetor48</th>\n",
              "      <th>Vetor49</th>\n",
              "      <th>Vetor50</th>\n",
              "    </tr>\n",
              "  </thead>\n",
              "  <tbody>\n",
              "    <tr>\n",
              "      <th>0</th>\n",
              "      <td>0.214823</td>\n",
              "      <td>-0.123036</td>\n",
              "      <td>0.220707</td>\n",
              "      <td>-0.079739</td>\n",
              "      <td>-0.019442</td>\n",
              "      <td>0.202300</td>\n",
              "      <td>0.073742</td>\n",
              "      <td>0.042477</td>\n",
              "      <td>0.057268</td>\n",
              "      <td>0.168187</td>\n",
              "      <td>...</td>\n",
              "      <td>-0.281536</td>\n",
              "      <td>0.012086</td>\n",
              "      <td>-0.096122</td>\n",
              "      <td>0.148153</td>\n",
              "      <td>0.092629</td>\n",
              "      <td>-0.027504</td>\n",
              "      <td>0.149860</td>\n",
              "      <td>-0.029617</td>\n",
              "      <td>0.032065</td>\n",
              "      <td>0.190372</td>\n",
              "    </tr>\n",
              "    <tr>\n",
              "      <th>1</th>\n",
              "      <td>0.220860</td>\n",
              "      <td>-0.123713</td>\n",
              "      <td>0.205813</td>\n",
              "      <td>-0.063700</td>\n",
              "      <td>-0.010433</td>\n",
              "      <td>0.195687</td>\n",
              "      <td>0.072226</td>\n",
              "      <td>0.026175</td>\n",
              "      <td>0.058045</td>\n",
              "      <td>0.163238</td>\n",
              "      <td>...</td>\n",
              "      <td>-0.305640</td>\n",
              "      <td>0.006447</td>\n",
              "      <td>-0.076174</td>\n",
              "      <td>0.157446</td>\n",
              "      <td>0.085306</td>\n",
              "      <td>-0.001963</td>\n",
              "      <td>0.156306</td>\n",
              "      <td>-0.019182</td>\n",
              "      <td>0.035594</td>\n",
              "      <td>0.192635</td>\n",
              "    </tr>\n",
              "    <tr>\n",
              "      <th>2</th>\n",
              "      <td>0.265227</td>\n",
              "      <td>-0.068285</td>\n",
              "      <td>0.152235</td>\n",
              "      <td>-0.044329</td>\n",
              "      <td>-0.102729</td>\n",
              "      <td>0.141353</td>\n",
              "      <td>0.092800</td>\n",
              "      <td>0.113174</td>\n",
              "      <td>0.015783</td>\n",
              "      <td>0.202198</td>\n",
              "      <td>...</td>\n",
              "      <td>-0.193025</td>\n",
              "      <td>0.078032</td>\n",
              "      <td>-0.202677</td>\n",
              "      <td>0.155750</td>\n",
              "      <td>0.062291</td>\n",
              "      <td>0.007038</td>\n",
              "      <td>0.134573</td>\n",
              "      <td>0.014635</td>\n",
              "      <td>0.034189</td>\n",
              "      <td>0.345674</td>\n",
              "    </tr>\n",
              "    <tr>\n",
              "      <th>3</th>\n",
              "      <td>0.189241</td>\n",
              "      <td>-0.169407</td>\n",
              "      <td>0.281181</td>\n",
              "      <td>-0.093912</td>\n",
              "      <td>-0.001968</td>\n",
              "      <td>0.181633</td>\n",
              "      <td>0.080923</td>\n",
              "      <td>0.055674</td>\n",
              "      <td>0.103454</td>\n",
              "      <td>0.144342</td>\n",
              "      <td>...</td>\n",
              "      <td>-0.254610</td>\n",
              "      <td>0.092738</td>\n",
              "      <td>-0.160601</td>\n",
              "      <td>0.179499</td>\n",
              "      <td>0.091803</td>\n",
              "      <td>-0.063762</td>\n",
              "      <td>0.171190</td>\n",
              "      <td>-0.043618</td>\n",
              "      <td>0.030563</td>\n",
              "      <td>0.196250</td>\n",
              "    </tr>\n",
              "    <tr>\n",
              "      <th>4</th>\n",
              "      <td>0.219838</td>\n",
              "      <td>-0.138311</td>\n",
              "      <td>0.229412</td>\n",
              "      <td>-0.057420</td>\n",
              "      <td>-0.014510</td>\n",
              "      <td>0.212875</td>\n",
              "      <td>0.058865</td>\n",
              "      <td>0.068096</td>\n",
              "      <td>0.060398</td>\n",
              "      <td>0.156307</td>\n",
              "      <td>...</td>\n",
              "      <td>-0.269136</td>\n",
              "      <td>0.040836</td>\n",
              "      <td>-0.112662</td>\n",
              "      <td>0.170401</td>\n",
              "      <td>0.094290</td>\n",
              "      <td>-0.046000</td>\n",
              "      <td>0.168181</td>\n",
              "      <td>-0.018029</td>\n",
              "      <td>0.027667</td>\n",
              "      <td>0.180134</td>\n",
              "    </tr>\n",
              "    <tr>\n",
              "      <th>...</th>\n",
              "      <td>...</td>\n",
              "      <td>...</td>\n",
              "      <td>...</td>\n",
              "      <td>...</td>\n",
              "      <td>...</td>\n",
              "      <td>...</td>\n",
              "      <td>...</td>\n",
              "      <td>...</td>\n",
              "      <td>...</td>\n",
              "      <td>...</td>\n",
              "      <td>...</td>\n",
              "      <td>...</td>\n",
              "      <td>...</td>\n",
              "      <td>...</td>\n",
              "      <td>...</td>\n",
              "      <td>...</td>\n",
              "      <td>...</td>\n",
              "      <td>...</td>\n",
              "      <td>...</td>\n",
              "      <td>...</td>\n",
              "      <td>...</td>\n",
              "    </tr>\n",
              "    <tr>\n",
              "      <th>8035</th>\n",
              "      <td>0.190917</td>\n",
              "      <td>-0.133475</td>\n",
              "      <td>0.241675</td>\n",
              "      <td>-0.053180</td>\n",
              "      <td>0.067256</td>\n",
              "      <td>0.201138</td>\n",
              "      <td>0.034109</td>\n",
              "      <td>-0.078718</td>\n",
              "      <td>-0.066131</td>\n",
              "      <td>0.187608</td>\n",
              "      <td>...</td>\n",
              "      <td>-0.321192</td>\n",
              "      <td>-0.082151</td>\n",
              "      <td>0.016113</td>\n",
              "      <td>0.154861</td>\n",
              "      <td>0.068700</td>\n",
              "      <td>-0.004302</td>\n",
              "      <td>0.079717</td>\n",
              "      <td>-0.028388</td>\n",
              "      <td>-0.017448</td>\n",
              "      <td>0.188785</td>\n",
              "    </tr>\n",
              "    <tr>\n",
              "      <th>8036</th>\n",
              "      <td>0.188641</td>\n",
              "      <td>-0.119377</td>\n",
              "      <td>0.199339</td>\n",
              "      <td>-0.105448</td>\n",
              "      <td>0.023176</td>\n",
              "      <td>0.178837</td>\n",
              "      <td>0.069476</td>\n",
              "      <td>-0.004494</td>\n",
              "      <td>0.034710</td>\n",
              "      <td>0.150081</td>\n",
              "      <td>...</td>\n",
              "      <td>-0.194663</td>\n",
              "      <td>0.034035</td>\n",
              "      <td>-0.126673</td>\n",
              "      <td>0.165176</td>\n",
              "      <td>0.080313</td>\n",
              "      <td>-0.024160</td>\n",
              "      <td>0.118848</td>\n",
              "      <td>-0.003502</td>\n",
              "      <td>0.087053</td>\n",
              "      <td>0.215656</td>\n",
              "    </tr>\n",
              "    <tr>\n",
              "      <th>8037</th>\n",
              "      <td>0.219437</td>\n",
              "      <td>-0.141124</td>\n",
              "      <td>0.217854</td>\n",
              "      <td>-0.065569</td>\n",
              "      <td>-0.020409</td>\n",
              "      <td>0.205403</td>\n",
              "      <td>0.061334</td>\n",
              "      <td>0.041665</td>\n",
              "      <td>0.063050</td>\n",
              "      <td>0.167985</td>\n",
              "      <td>...</td>\n",
              "      <td>-0.300234</td>\n",
              "      <td>0.031438</td>\n",
              "      <td>-0.099000</td>\n",
              "      <td>0.176588</td>\n",
              "      <td>0.092546</td>\n",
              "      <td>-0.046104</td>\n",
              "      <td>0.145734</td>\n",
              "      <td>-0.019857</td>\n",
              "      <td>0.029422</td>\n",
              "      <td>0.183504</td>\n",
              "    </tr>\n",
              "    <tr>\n",
              "      <th>8038</th>\n",
              "      <td>0.218153</td>\n",
              "      <td>-0.146420</td>\n",
              "      <td>0.245234</td>\n",
              "      <td>-0.056113</td>\n",
              "      <td>-0.036187</td>\n",
              "      <td>0.224789</td>\n",
              "      <td>0.074320</td>\n",
              "      <td>0.045111</td>\n",
              "      <td>0.040841</td>\n",
              "      <td>0.150971</td>\n",
              "      <td>...</td>\n",
              "      <td>-0.270532</td>\n",
              "      <td>0.035260</td>\n",
              "      <td>-0.126793</td>\n",
              "      <td>0.171115</td>\n",
              "      <td>0.095479</td>\n",
              "      <td>-0.033473</td>\n",
              "      <td>0.158747</td>\n",
              "      <td>-0.006721</td>\n",
              "      <td>0.029326</td>\n",
              "      <td>0.198914</td>\n",
              "    </tr>\n",
              "    <tr>\n",
              "      <th>8039</th>\n",
              "      <td>0.224609</td>\n",
              "      <td>-0.139236</td>\n",
              "      <td>0.277561</td>\n",
              "      <td>-0.049273</td>\n",
              "      <td>0.007569</td>\n",
              "      <td>0.250299</td>\n",
              "      <td>0.055606</td>\n",
              "      <td>0.060699</td>\n",
              "      <td>0.050552</td>\n",
              "      <td>0.117889</td>\n",
              "      <td>...</td>\n",
              "      <td>-0.245831</td>\n",
              "      <td>0.006490</td>\n",
              "      <td>-0.105791</td>\n",
              "      <td>0.168540</td>\n",
              "      <td>0.102157</td>\n",
              "      <td>-0.018187</td>\n",
              "      <td>0.139210</td>\n",
              "      <td>-0.017767</td>\n",
              "      <td>0.033116</td>\n",
              "      <td>0.184341</td>\n",
              "    </tr>\n",
              "  </tbody>\n",
              "</table>\n",
              "<p>8040 rows × 50 columns</p>\n",
              "</div>\n",
              "      <button class=\"colab-df-convert\" onclick=\"convertToInteractive('df-caa44ecc-a2ff-43c4-b43e-a52b82346b9e')\"\n",
              "              title=\"Convert this dataframe to an interactive table.\"\n",
              "              style=\"display:none;\">\n",
              "        \n",
              "  <svg xmlns=\"http://www.w3.org/2000/svg\" height=\"24px\"viewBox=\"0 0 24 24\"\n",
              "       width=\"24px\">\n",
              "    <path d=\"M0 0h24v24H0V0z\" fill=\"none\"/>\n",
              "    <path d=\"M18.56 5.44l.94 2.06.94-2.06 2.06-.94-2.06-.94-.94-2.06-.94 2.06-2.06.94zm-11 1L8.5 8.5l.94-2.06 2.06-.94-2.06-.94L8.5 2.5l-.94 2.06-2.06.94zm10 10l.94 2.06.94-2.06 2.06-.94-2.06-.94-.94-2.06-.94 2.06-2.06.94z\"/><path d=\"M17.41 7.96l-1.37-1.37c-.4-.4-.92-.59-1.43-.59-.52 0-1.04.2-1.43.59L10.3 9.45l-7.72 7.72c-.78.78-.78 2.05 0 2.83L4 21.41c.39.39.9.59 1.41.59.51 0 1.02-.2 1.41-.59l7.78-7.78 2.81-2.81c.8-.78.8-2.07 0-2.86zM5.41 20L4 18.59l7.72-7.72 1.47 1.35L5.41 20z\"/>\n",
              "  </svg>\n",
              "      </button>\n",
              "      \n",
              "  <style>\n",
              "    .colab-df-container {\n",
              "      display:flex;\n",
              "      flex-wrap:wrap;\n",
              "      gap: 12px;\n",
              "    }\n",
              "\n",
              "    .colab-df-convert {\n",
              "      background-color: #E8F0FE;\n",
              "      border: none;\n",
              "      border-radius: 50%;\n",
              "      cursor: pointer;\n",
              "      display: none;\n",
              "      fill: #1967D2;\n",
              "      height: 32px;\n",
              "      padding: 0 0 0 0;\n",
              "      width: 32px;\n",
              "    }\n",
              "\n",
              "    .colab-df-convert:hover {\n",
              "      background-color: #E2EBFA;\n",
              "      box-shadow: 0px 1px 2px rgba(60, 64, 67, 0.3), 0px 1px 3px 1px rgba(60, 64, 67, 0.15);\n",
              "      fill: #174EA6;\n",
              "    }\n",
              "\n",
              "    [theme=dark] .colab-df-convert {\n",
              "      background-color: #3B4455;\n",
              "      fill: #D2E3FC;\n",
              "    }\n",
              "\n",
              "    [theme=dark] .colab-df-convert:hover {\n",
              "      background-color: #434B5C;\n",
              "      box-shadow: 0px 1px 3px 1px rgba(0, 0, 0, 0.15);\n",
              "      filter: drop-shadow(0px 1px 2px rgba(0, 0, 0, 0.3));\n",
              "      fill: #FFFFFF;\n",
              "    }\n",
              "  </style>\n",
              "\n",
              "      <script>\n",
              "        const buttonEl =\n",
              "          document.querySelector('#df-caa44ecc-a2ff-43c4-b43e-a52b82346b9e button.colab-df-convert');\n",
              "        buttonEl.style.display =\n",
              "          google.colab.kernel.accessAllowed ? 'block' : 'none';\n",
              "\n",
              "        async function convertToInteractive(key) {\n",
              "          const element = document.querySelector('#df-caa44ecc-a2ff-43c4-b43e-a52b82346b9e');\n",
              "          const dataTable =\n",
              "            await google.colab.kernel.invokeFunction('convertToInteractive',\n",
              "                                                     [key], {});\n",
              "          if (!dataTable) return;\n",
              "\n",
              "          const docLinkHtml = 'Like what you see? Visit the ' +\n",
              "            '<a target=\"_blank\" href=https://colab.research.google.com/notebooks/data_table.ipynb>data table notebook</a>'\n",
              "            + ' to learn more about interactive tables.';\n",
              "          element.innerHTML = '';\n",
              "          dataTable['output_type'] = 'display_data';\n",
              "          await google.colab.output.renderOutput(dataTable, element);\n",
              "          const docLink = document.createElement('div');\n",
              "          docLink.innerHTML = docLinkHtml;\n",
              "          element.appendChild(docLink);\n",
              "        }\n",
              "      </script>\n",
              "    </div>\n",
              "  </div>\n",
              "  "
            ]
          },
          "metadata": {},
          "execution_count": 24
        }
      ]
    },
    {
      "cell_type": "code",
      "source": [
        "#df_vec.to_csv('Word2Vec_Cbow_modelo_treinado',encoding='utf-8', index=False, header=True)"
      ],
      "metadata": {
        "id": "Z0GHiMo0fyUG"
      },
      "execution_count": null,
      "outputs": []
    },
    {
      "cell_type": "markdown",
      "source": [
        "# 11. Naive Bayes + Word2Vec com CBOW"
      ],
      "metadata": {
        "id": "prPzkLeviBp_"
      }
    },
    {
      "cell_type": "code",
      "source": [
        "label = preprocessing.LabelEncoder()"
      ],
      "metadata": {
        "id": "vQqytS9KiC1G"
      },
      "execution_count": null,
      "outputs": []
    },
    {
      "cell_type": "code",
      "source": [
        "label.fit(df_vec['sentimento'])\n",
        "df_vec['sentimento'] = label.transform(df_vec['sentimento'])"
      ],
      "metadata": {
        "id": "hNo9-z7Yiaa3"
      },
      "execution_count": null,
      "outputs": []
    },
    {
      "cell_type": "code",
      "source": [
        "df_vec = df_vec.dropna()\n",
        "df_vec"
      ],
      "metadata": {
        "id": "ETQSLjTViq0n"
      },
      "execution_count": null,
      "outputs": []
    },
    {
      "cell_type": "markdown",
      "source": [
        "## Separando Treino e Teste"
      ],
      "metadata": {
        "id": "bAPCRhOKiwX-"
      }
    },
    {
      "cell_type": "code",
      "source": [
        "target = df_vec['sentimento']"
      ],
      "metadata": {
        "id": "mNPlS_2TitHe"
      },
      "execution_count": null,
      "outputs": []
    },
    {
      "cell_type": "code",
      "source": [
        "feature = df_vec.iloc[:,1:50]"
      ],
      "metadata": {
        "id": "keRvRtXfi73e"
      },
      "execution_count": null,
      "outputs": []
    },
    {
      "cell_type": "code",
      "source": [
        "feature"
      ],
      "metadata": {
        "id": "C0avdw6TjC1W"
      },
      "execution_count": null,
      "outputs": []
    },
    {
      "cell_type": "code",
      "source": [
        "X_train, X_test, y_train, y_test = train_test_split(feature, target, test_size=0.2, random_state=42)"
      ],
      "metadata": {
        "id": "zsSTEpdkjFBe"
      },
      "execution_count": null,
      "outputs": []
    },
    {
      "cell_type": "markdown",
      "source": [
        "## Avaliação do modelo"
      ],
      "metadata": {
        "id": "L8lToFKbjXPV"
      }
    },
    {
      "cell_type": "code",
      "source": [
        "clf = GaussianNB()\n",
        "\n",
        "clf = clf.fit(X_train,y_train.values.ravel())\n",
        "\n",
        "Y_pred = clf.predict(X_test)\n",
        "\n",
        "print(classification_report(y_test, Y_pred))"
      ],
      "metadata": {
        "id": "O5kpZIbzjUYt"
      },
      "execution_count": null,
      "outputs": []
    },
    {
      "cell_type": "code",
      "source": [
        "acc_score = accuracy_score(y_test, Y_pred)\n",
        "format_output = \"{:.2%}\".format(acc_score)\n",
        "print(\"Precisão final de :\",format_output)"
      ],
      "metadata": {
        "id": "eJrPhaqsjxum"
      },
      "execution_count": null,
      "outputs": []
    },
    {
      "cell_type": "markdown",
      "source": [
        "# 12. Word2Vec com embedding layer"
      ],
      "metadata": {
        "id": "waBVgg875A8V"
      }
    },
    {
      "cell_type": "markdown",
      "source": [
        "## Definição de função"
      ],
      "metadata": {
        "id": "jNNdngzMfudo"
      }
    },
    {
      "cell_type": "code",
      "source": [
        "from gensim.models import Word2Vec\n",
        "\n",
        "# Função que treina o modelo Word2Vec no corpus do dataframe\n",
        "def train_word2vec(df, column_name):\n",
        "    # Obtém as frases tokenizadas\n",
        "    sentences = df[column_name].tolist()\n",
        "\n",
        "    # Treina o modelo Word2Vec\n",
        "    model = Word2Vec(sentences, min_count=1)\n",
        "\n",
        "    return model"
      ],
      "metadata": {
        "id": "X_Wjh3oW5MkB"
      },
      "execution_count": null,
      "outputs": []
    },
    {
      "cell_type": "code",
      "source": [
        "# Função que define os vetores para cada palavra do vocabulario\n",
        "def get_word_vectors(model, sentence):\n",
        "    vectors = []\n",
        "    for word in sentence:\n",
        "        if word in model.wv:\n",
        "            vectors.append(model.wv[word]) # Append na lista de vetores\n",
        "    if vectors:\n",
        "        return np.sum(vectors, axis=0)/len(sentence) # Soma dos vetores para cada frase\n",
        "    else:\n",
        "        return np.zeros(model.vector_size)\n",
        "\n",
        "# Criação do dataframe de vetores para cada frase\n",
        "def create_word2vec_dataframe(df, column_name, model):\n",
        "    sentences = df[column_name].tolist()\n",
        "    vectors = [get_word_vectors(model, sentence) for sentence in sentences] # Itera para cada frase um vetor\n",
        "    # Criação do dataframe\n",
        "    df_vectors = pd.DataFrame(vectors, columns=[f\"Vetor{i}\" for i in range(model.vector_size)])\n",
        "    df_word2vec = pd.concat([df, df_vectors], axis=1)\n",
        "    return df_word2vec"
      ],
      "metadata": {
        "id": "1yreuN61JeFH"
      },
      "execution_count": null,
      "outputs": []
    },
    {
      "cell_type": "markdown",
      "source": [
        "## Teste de funções"
      ],
      "metadata": {
        "id": "KomhuU9Zgees"
      }
    },
    {
      "cell_type": "code",
      "source": [
        "model = train_word2vec(df, 'texto_tratado')"
      ],
      "metadata": {
        "id": "VHWLUlP4G3hA"
      },
      "execution_count": null,
      "outputs": []
    },
    {
      "cell_type": "code",
      "source": [
        "df_word2vec = create_word2vec_dataframe(df,'texto_tratado', model)\n",
        "df_word2vec"
      ],
      "metadata": {
        "id": "qHhtJlUQKDQT"
      },
      "execution_count": null,
      "outputs": []
    },
    {
      "cell_type": "code",
      "source": [
        "df_word2vec = df_word2vec.drop(columns=['autor', 'sentimento'])\n",
        "df_word2vec"
      ],
      "metadata": {
        "id": "_mF6WPhAKb4K"
      },
      "execution_count": null,
      "outputs": []
    },
    {
      "cell_type": "markdown",
      "source": [
        "# 13. Naive Bayes + Word2Vec com embedding layer"
      ],
      "metadata": {
        "id": "WnFTKfl9aCWf"
      }
    },
    {
      "cell_type": "code",
      "source": [
        "df_word2vec = df_word2vec.dropna()\n",
        "df_word2vec"
      ],
      "metadata": {
        "id": "Mfi5xF3_aCW2"
      },
      "execution_count": null,
      "outputs": []
    },
    {
      "cell_type": "markdown",
      "source": [
        "## Separando Treino e Teste"
      ],
      "metadata": {
        "id": "avPYp8x4aCW3"
      }
    },
    {
      "cell_type": "code",
      "source": [
        "target = df_word2vec['sentimentoNumerico']"
      ],
      "metadata": {
        "id": "EaUZ4Pl0aCW3"
      },
      "execution_count": null,
      "outputs": []
    },
    {
      "cell_type": "code",
      "source": [
        "feature = df_word2vec.iloc[:,2:102]"
      ],
      "metadata": {
        "id": "j5nWA5fKaCW4"
      },
      "execution_count": null,
      "outputs": []
    },
    {
      "cell_type": "code",
      "source": [
        "feature"
      ],
      "metadata": {
        "id": "Fi46W-u1aCW4"
      },
      "execution_count": null,
      "outputs": []
    },
    {
      "cell_type": "code",
      "source": [
        "X_train, X_test, y_train, y_test = train_test_split(feature, target, test_size=0.2, random_state=42)"
      ],
      "metadata": {
        "id": "fnFgD3GEaCW5"
      },
      "execution_count": null,
      "outputs": []
    },
    {
      "cell_type": "markdown",
      "source": [
        "## Avaliação do modelo"
      ],
      "metadata": {
        "id": "DBdVTALIaCW5"
      }
    },
    {
      "cell_type": "code",
      "source": [
        "clf = GaussianNB()\n",
        "\n",
        "clf = clf.fit(X_train,y_train.values.ravel())\n",
        "\n",
        "Y_pred = clf.predict(X_test)\n",
        "\n",
        "print(classification_report(y_test, Y_pred))"
      ],
      "metadata": {
        "id": "njvM5MUFaCW6"
      },
      "execution_count": null,
      "outputs": []
    },
    {
      "cell_type": "code",
      "source": [
        "acc_score = accuracy_score(y_test, Y_pred)\n",
        "format_output = \"{:.2%}\".format(acc_score)\n",
        "print(\"Precisão final de :\",format_output)"
      ],
      "metadata": {
        "id": "oDgwNC3baCW6"
      },
      "execution_count": null,
      "outputs": []
    },
    {
      "cell_type": "markdown",
      "source": [
        "# XGBoost\n"
      ],
      "metadata": {
        "id": "ORbZ7pIOCygT"
      }
    },
    {
      "cell_type": "markdown",
      "source": [
        "## Criação do modelo\n"
      ],
      "metadata": {
        "id": "dENrg0HjKod3"
      }
    },
    {
      "cell_type": "code",
      "source": [
        "encoder = LabelEncoder() # Instanciando o encoder para transformar as classes em números inteiros, a partir da biblioteca LabelEncoder"
      ],
      "metadata": {
        "id": "vCpkcFXqC28U"
      },
      "execution_count": null,
      "outputs": []
    },
    {
      "cell_type": "code",
      "source": [
        "import xgboost as xgb\n",
        "# ajustando o codificador aos dados da coluna 'sentimento' para ser possível de se aplicar na predição\n",
        "sentimento = encoder.fit_transform(df_vec[\"sentimento\"])\n",
        "\n",
        "# Dividir os dados em treino e teste, a partir da biblioteca de train_test_split\n",
        "X_treino, X_teste, y_treino, y_teste = train_test_split(word2vec, sentimento, test_size=0.2, random_state=42)\n",
        "\n",
        "# Criar e treinar o modelo XGBoost\n",
        "modelo_xgb = xgb.XGBClassifier()\n",
        "\n",
        "modelo_xgb.fit(X_treino, y_treino)\n",
        "\n",
        "# Fazer a predição usando os dados de teste\n",
        "predicao_numerica_xgb = modelo_xgb.predict(X_teste)\n",
        "\n",
        "# Decodificar as classes preditas\n",
        "predicao_xgb = encoder.inverse_transform(predicao_numerica_xgb)\n",
        "\n",
        "print(classification_report(y_teste, predicao_xgb))"
      ],
      "metadata": {
        "colab": {
          "base_uri": "https://localhost:8080/"
        },
        "id": "mm-WmD-aC_Xv",
        "outputId": "841fed72-1efd-4c49-de46-ae2ecfba2c15"
      },
      "execution_count": null,
      "outputs": [
        {
          "output_type": "stream",
          "name": "stdout",
          "text": [
            "              precision    recall  f1-score   support\n",
            "\n",
            "           0       0.49      0.50      0.50       360\n",
            "           1       0.62      0.54      0.58       597\n",
            "           2       0.60      0.66      0.63       651\n",
            "\n",
            "    accuracy                           0.58      1608\n",
            "   macro avg       0.57      0.57      0.57      1608\n",
            "weighted avg       0.58      0.58      0.58      1608\n",
            "\n"
          ]
        }
      ]
    }
  ]
}