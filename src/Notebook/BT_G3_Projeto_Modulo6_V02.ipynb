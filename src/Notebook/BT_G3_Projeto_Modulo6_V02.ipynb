{
  "nbformat": 4,
  "nbformat_minor": 0,
  "metadata": {
    "colab": {
      "provenance": [],
      "toc_visible": true
    },
    "kernelspec": {
      "name": "python3",
      "display_name": "Python 3"
    },
    "language_info": {
      "name": "python"
    }
  },
  "cells": [
    {
      "cell_type": "markdown",
      "source": [
        "# Projeto Grupo BT-G3\n"
      ],
      "metadata": {
        "id": "W6orTJnannWi"
      }
    },
    {
      "cell_type": "markdown",
      "source": [
        "<center><img src=\"https://www.inteli.edu.br/wp-content/uploads/2021/08/20172028/marca_1-2.png\" width=\"50%\" height=\"50%\"/></center>"
      ],
      "metadata": {
        "id": "k0U6vMkgcCOc"
      }
    },
    {
      "cell_type": "markdown",
      "source": [
        "<h1 align='center'><b>IA para Marketing: Monitoramento de campanhas utilizando processamento de linguagem natural (PLN)<b></h1>"
      ],
      "metadata": {
        "id": "GntQpF9HcHF7"
      }
    },
    {
      "cell_type": "markdown",
      "source": [
        "<center><img src=\"https://upload.wikimedia.org/wikipedia/commons/c/c2/Btg-logo-blue.svg\" width=\"50%\" height=\"50%\"/></center>"
      ],
      "metadata": {
        "id": "geZEZyxccIwj"
      }
    },
    {
      "cell_type": "markdown",
      "source": [
        "<h2 align='center'>O Banco BTG Pactual enfrenta um desafio na área de Marketing em entender as necessidades e demandas dos clientes de maneira fácil e rápida nas redes sociais. A solução proposta para esse problema foi o desenvolvimento de uma Inteligência Artificial utilizando processamento de linguagem natural (PLN), capaz de monitorar as campanhas de marketing, voltadas para o Instagram. O objetivo principal dessa solução é rastrear os dados em tempo real, analisar e interpretar as mensagens e comentários enviados pelos clientes na rede social, a fim de identificar as necessidades e demandas de forma precisa e eficiente.</h2>"
      ],
      "metadata": {
        "id": "GDi4jBLdcIoo"
      }
    },
    {
      "cell_type": "markdown",
      "source": [
        "---"
      ],
      "metadata": {
        "id": "d9cjCQyEcPhI"
      }
    },
    {
      "cell_type": "markdown",
      "source": [
        "# Sobre os dados"
      ],
      "metadata": {
        "id": "YsbJTy0IcTIt"
      }
    },
    {
      "cell_type": "markdown",
      "source": [
        "Esse projeto está utilizando dados coletados e tratados pela equipe de Automation do BTG Pactual, o qual disponibilizou o dataset. Com base nas informações dispostas nesse dataset, realizaremos insights a cerca dos comentários feitos nos posts do Instagram do próprio banco. Vale lembrar que os dados estão anonimizados e resguardados para manter a privacidade e ética com os usuários e com o banco."
      ],
      "metadata": {
        "id": "3-s3rB_1cVPc"
      }
    },
    {
      "cell_type": "markdown",
      "source": [
        "# 1. Instalação / Setup"
      ],
      "metadata": {
        "id": "jCzVQHGx6tux"
      }
    },
    {
      "cell_type": "markdown",
      "source": [
        "Para o início do projeto, fizemos o desenvolvimento no Google Colab, por isso temos uma célula de conexão com o Google Drive, para poder acessar os dados. Caso seja rodado no Jupyter Notebook, precisará do dataset baixado."
      ],
      "metadata": {
        "id": "-werU6i-qvLp"
      }
    },
    {
      "cell_type": "code",
      "source": [
        "#Conectar com o Google Drive\n",
        "\n",
        "from google.colab import drive\n",
        "drive.mount('/content/drive')\n",
        "\n",
        "#Conectando o ambiente ao Google Drive"
      ],
      "metadata": {
        "id": "ae8sAINTP6Lr",
        "colab": {
          "base_uri": "https://localhost:8080/"
        },
        "outputId": "1ad175ab-4e9f-4433-dac2-a23ff7911afc"
      },
      "execution_count": null,
      "outputs": [
        {
          "output_type": "stream",
          "name": "stdout",
          "text": [
            "Drive already mounted at /content/drive; to attempt to forcibly remount, call drive.mount(\"/content/drive\", force_remount=True).\n"
          ]
        }
      ]
    },
    {
      "cell_type": "markdown",
      "source": [
        "Aqui nós fazemos as importações para tratamento, pré-processamento e modelamento do Bag of Words. "
      ],
      "metadata": {
        "id": "nuIt1T3cwjSu"
      }
    },
    {
      "cell_type": "code",
      "source": [
        "!pip install wordcloud"
      ],
      "metadata": {
        "colab": {
          "base_uri": "https://localhost:8080/"
        },
        "id": "_yCGHdTCbq0e",
        "outputId": "51bc063a-1d55-4ef6-d2c8-617318994971"
      },
      "execution_count": null,
      "outputs": [
        {
          "output_type": "stream",
          "name": "stdout",
          "text": [
            "Looking in indexes: https://pypi.org/simple, https://us-python.pkg.dev/colab-wheels/public/simple/\n",
            "Requirement already satisfied: wordcloud in /usr/local/lib/python3.10/dist-packages (1.8.2.2)\n",
            "Requirement already satisfied: numpy>=1.6.1 in /usr/local/lib/python3.10/dist-packages (from wordcloud) (1.22.4)\n",
            "Requirement already satisfied: pillow in /usr/local/lib/python3.10/dist-packages (from wordcloud) (8.4.0)\n",
            "Requirement already satisfied: matplotlib in /usr/local/lib/python3.10/dist-packages (from wordcloud) (3.7.1)\n",
            "Requirement already satisfied: contourpy>=1.0.1 in /usr/local/lib/python3.10/dist-packages (from matplotlib->wordcloud) (1.0.7)\n",
            "Requirement already satisfied: cycler>=0.10 in /usr/local/lib/python3.10/dist-packages (from matplotlib->wordcloud) (0.11.0)\n",
            "Requirement already satisfied: fonttools>=4.22.0 in /usr/local/lib/python3.10/dist-packages (from matplotlib->wordcloud) (4.39.3)\n",
            "Requirement already satisfied: kiwisolver>=1.0.1 in /usr/local/lib/python3.10/dist-packages (from matplotlib->wordcloud) (1.4.4)\n",
            "Requirement already satisfied: packaging>=20.0 in /usr/local/lib/python3.10/dist-packages (from matplotlib->wordcloud) (23.1)\n",
            "Requirement already satisfied: pyparsing>=2.3.1 in /usr/local/lib/python3.10/dist-packages (from matplotlib->wordcloud) (3.0.9)\n",
            "Requirement already satisfied: python-dateutil>=2.7 in /usr/local/lib/python3.10/dist-packages (from matplotlib->wordcloud) (2.8.2)\n",
            "Requirement already satisfied: six>=1.5 in /usr/local/lib/python3.10/dist-packages (from python-dateutil>=2.7->matplotlib->wordcloud) (1.16.0)\n"
          ]
        }
      ]
    },
    {
      "cell_type": "code",
      "source": [
        "import pandas as pd\n",
        "import numpy as np\n",
        "import matplotlib.pyplot as plt\n",
        "from wordcloud import WordCloud\n",
        "\n",
        "import re\n",
        "\n",
        "from sklearn.feature_extraction.text import CountVectorizer\n",
        "\n",
        "import nltk\n",
        "nltk.download('punkt')\n",
        "nltk.download('stopwords')\n",
        "nltk.download('rslp')\n",
        "nltk.download('wordnet')\n",
        "from nltk.stem.snowball import SnowballStemmer\n",
        "from nltk.corpus import PlaintextCorpusReader\n",
        "from nltk.stem import WordNetLemmatizer\n",
        "from nltk.tokenize import RegexpTokenizer\n",
        "from nltk.corpus import stopwords\n",
        "from nltk import tokenize\n",
        "from nltk import word_tokenize, pos_tag\n",
        "\n",
        "!pip install emoji\n",
        "import emoji\n",
        "\n",
        "import spacy\n",
        "!pip install -U spacy\n",
        "!python -m spacy download pt_core_news_sm"
      ],
      "metadata": {
        "colab": {
          "base_uri": "https://localhost:8080/"
        },
        "id": "5INUqxN_NPZ9",
        "outputId": "d1cfc084-bdfc-4a66-df63-f982ed88fe71"
      },
      "execution_count": null,
      "outputs": [
        {
          "output_type": "stream",
          "name": "stderr",
          "text": [
            "[nltk_data] Downloading package punkt to /root/nltk_data...\n",
            "[nltk_data]   Package punkt is already up-to-date!\n",
            "[nltk_data] Downloading package stopwords to /root/nltk_data...\n",
            "[nltk_data]   Package stopwords is already up-to-date!\n",
            "[nltk_data] Downloading package rslp to /root/nltk_data...\n",
            "[nltk_data]   Package rslp is already up-to-date!\n",
            "[nltk_data] Downloading package wordnet to /root/nltk_data...\n",
            "[nltk_data]   Package wordnet is already up-to-date!\n"
          ]
        },
        {
          "output_type": "stream",
          "name": "stdout",
          "text": [
            "Looking in indexes: https://pypi.org/simple, https://us-python.pkg.dev/colab-wheels/public/simple/\n",
            "Requirement already satisfied: emoji in /usr/local/lib/python3.10/dist-packages (2.2.0)\n",
            "Looking in indexes: https://pypi.org/simple, https://us-python.pkg.dev/colab-wheels/public/simple/\n",
            "Requirement already satisfied: spacy in /usr/local/lib/python3.10/dist-packages (3.5.3)\n",
            "Requirement already satisfied: spacy-legacy<3.1.0,>=3.0.11 in /usr/local/lib/python3.10/dist-packages (from spacy) (3.0.12)\n",
            "Requirement already satisfied: spacy-loggers<2.0.0,>=1.0.0 in /usr/local/lib/python3.10/dist-packages (from spacy) (1.0.4)\n",
            "Requirement already satisfied: murmurhash<1.1.0,>=0.28.0 in /usr/local/lib/python3.10/dist-packages (from spacy) (1.0.9)\n",
            "Requirement already satisfied: cymem<2.1.0,>=2.0.2 in /usr/local/lib/python3.10/dist-packages (from spacy) (2.0.7)\n",
            "Requirement already satisfied: preshed<3.1.0,>=3.0.2 in /usr/local/lib/python3.10/dist-packages (from spacy) (3.0.8)\n",
            "Requirement already satisfied: thinc<8.2.0,>=8.1.8 in /usr/local/lib/python3.10/dist-packages (from spacy) (8.1.9)\n",
            "Requirement already satisfied: wasabi<1.2.0,>=0.9.1 in /usr/local/lib/python3.10/dist-packages (from spacy) (1.1.1)\n",
            "Requirement already satisfied: srsly<3.0.0,>=2.4.3 in /usr/local/lib/python3.10/dist-packages (from spacy) (2.4.6)\n",
            "Requirement already satisfied: catalogue<2.1.0,>=2.0.6 in /usr/local/lib/python3.10/dist-packages (from spacy) (2.0.8)\n",
            "Requirement already satisfied: typer<0.8.0,>=0.3.0 in /usr/local/lib/python3.10/dist-packages (from spacy) (0.7.0)\n",
            "Requirement already satisfied: pathy>=0.10.0 in /usr/local/lib/python3.10/dist-packages (from spacy) (0.10.1)\n",
            "Requirement already satisfied: smart-open<7.0.0,>=5.2.1 in /usr/local/lib/python3.10/dist-packages (from spacy) (6.3.0)\n",
            "Requirement already satisfied: tqdm<5.0.0,>=4.38.0 in /usr/local/lib/python3.10/dist-packages (from spacy) (4.65.0)\n",
            "Requirement already satisfied: numpy>=1.15.0 in /usr/local/lib/python3.10/dist-packages (from spacy) (1.22.4)\n",
            "Requirement already satisfied: requests<3.0.0,>=2.13.0 in /usr/local/lib/python3.10/dist-packages (from spacy) (2.27.1)\n",
            "Requirement already satisfied: pydantic!=1.8,!=1.8.1,<1.11.0,>=1.7.4 in /usr/local/lib/python3.10/dist-packages (from spacy) (1.10.7)\n",
            "Requirement already satisfied: jinja2 in /usr/local/lib/python3.10/dist-packages (from spacy) (3.1.2)\n",
            "Requirement already satisfied: setuptools in /usr/local/lib/python3.10/dist-packages (from spacy) (67.7.2)\n",
            "Requirement already satisfied: packaging>=20.0 in /usr/local/lib/python3.10/dist-packages (from spacy) (23.1)\n",
            "Requirement already satisfied: langcodes<4.0.0,>=3.2.0 in /usr/local/lib/python3.10/dist-packages (from spacy) (3.3.0)\n",
            "Requirement already satisfied: typing-extensions>=4.2.0 in /usr/local/lib/python3.10/dist-packages (from pydantic!=1.8,!=1.8.1,<1.11.0,>=1.7.4->spacy) (4.5.0)\n",
            "Requirement already satisfied: urllib3<1.27,>=1.21.1 in /usr/local/lib/python3.10/dist-packages (from requests<3.0.0,>=2.13.0->spacy) (1.26.15)\n",
            "Requirement already satisfied: certifi>=2017.4.17 in /usr/local/lib/python3.10/dist-packages (from requests<3.0.0,>=2.13.0->spacy) (2022.12.7)\n",
            "Requirement already satisfied: charset-normalizer~=2.0.0 in /usr/local/lib/python3.10/dist-packages (from requests<3.0.0,>=2.13.0->spacy) (2.0.12)\n",
            "Requirement already satisfied: idna<4,>=2.5 in /usr/local/lib/python3.10/dist-packages (from requests<3.0.0,>=2.13.0->spacy) (3.4)\n",
            "Requirement already satisfied: blis<0.8.0,>=0.7.8 in /usr/local/lib/python3.10/dist-packages (from thinc<8.2.0,>=8.1.8->spacy) (0.7.9)\n",
            "Requirement already satisfied: confection<1.0.0,>=0.0.1 in /usr/local/lib/python3.10/dist-packages (from thinc<8.2.0,>=8.1.8->spacy) (0.0.4)\n",
            "Requirement already satisfied: click<9.0.0,>=7.1.1 in /usr/local/lib/python3.10/dist-packages (from typer<0.8.0,>=0.3.0->spacy) (8.1.3)\n",
            "Requirement already satisfied: MarkupSafe>=2.0 in /usr/local/lib/python3.10/dist-packages (from jinja2->spacy) (2.1.2)\n",
            "2023-05-23 20:47:09.895980: W tensorflow/compiler/tf2tensorrt/utils/py_utils.cc:38] TF-TRT Warning: Could not find TensorRT\n",
            "Looking in indexes: https://pypi.org/simple, https://us-python.pkg.dev/colab-wheels/public/simple/\n",
            "Collecting pt-core-news-sm==3.5.0\n",
            "  Downloading https://github.com/explosion/spacy-models/releases/download/pt_core_news_sm-3.5.0/pt_core_news_sm-3.5.0-py3-none-any.whl (13.0 MB)\n",
            "\u001b[2K     \u001b[90m━━━━━━━━━━━━━━━━━━━━━━━━━━━━━━━━━━━━━━━━\u001b[0m \u001b[32m13.0/13.0 MB\u001b[0m \u001b[31m67.6 MB/s\u001b[0m eta \u001b[36m0:00:00\u001b[0m\n",
            "\u001b[?25hRequirement already satisfied: spacy<3.6.0,>=3.5.0 in /usr/local/lib/python3.10/dist-packages (from pt-core-news-sm==3.5.0) (3.5.3)\n",
            "Requirement already satisfied: spacy-legacy<3.1.0,>=3.0.11 in /usr/local/lib/python3.10/dist-packages (from spacy<3.6.0,>=3.5.0->pt-core-news-sm==3.5.0) (3.0.12)\n",
            "Requirement already satisfied: spacy-loggers<2.0.0,>=1.0.0 in /usr/local/lib/python3.10/dist-packages (from spacy<3.6.0,>=3.5.0->pt-core-news-sm==3.5.0) (1.0.4)\n",
            "Requirement already satisfied: murmurhash<1.1.0,>=0.28.0 in /usr/local/lib/python3.10/dist-packages (from spacy<3.6.0,>=3.5.0->pt-core-news-sm==3.5.0) (1.0.9)\n",
            "Requirement already satisfied: cymem<2.1.0,>=2.0.2 in /usr/local/lib/python3.10/dist-packages (from spacy<3.6.0,>=3.5.0->pt-core-news-sm==3.5.0) (2.0.7)\n",
            "Requirement already satisfied: preshed<3.1.0,>=3.0.2 in /usr/local/lib/python3.10/dist-packages (from spacy<3.6.0,>=3.5.0->pt-core-news-sm==3.5.0) (3.0.8)\n",
            "Requirement already satisfied: thinc<8.2.0,>=8.1.8 in /usr/local/lib/python3.10/dist-packages (from spacy<3.6.0,>=3.5.0->pt-core-news-sm==3.5.0) (8.1.9)\n",
            "Requirement already satisfied: wasabi<1.2.0,>=0.9.1 in /usr/local/lib/python3.10/dist-packages (from spacy<3.6.0,>=3.5.0->pt-core-news-sm==3.5.0) (1.1.1)\n",
            "Requirement already satisfied: srsly<3.0.0,>=2.4.3 in /usr/local/lib/python3.10/dist-packages (from spacy<3.6.0,>=3.5.0->pt-core-news-sm==3.5.0) (2.4.6)\n",
            "Requirement already satisfied: catalogue<2.1.0,>=2.0.6 in /usr/local/lib/python3.10/dist-packages (from spacy<3.6.0,>=3.5.0->pt-core-news-sm==3.5.0) (2.0.8)\n",
            "Requirement already satisfied: typer<0.8.0,>=0.3.0 in /usr/local/lib/python3.10/dist-packages (from spacy<3.6.0,>=3.5.0->pt-core-news-sm==3.5.0) (0.7.0)\n",
            "Requirement already satisfied: pathy>=0.10.0 in /usr/local/lib/python3.10/dist-packages (from spacy<3.6.0,>=3.5.0->pt-core-news-sm==3.5.0) (0.10.1)\n",
            "Requirement already satisfied: smart-open<7.0.0,>=5.2.1 in /usr/local/lib/python3.10/dist-packages (from spacy<3.6.0,>=3.5.0->pt-core-news-sm==3.5.0) (6.3.0)\n",
            "Requirement already satisfied: tqdm<5.0.0,>=4.38.0 in /usr/local/lib/python3.10/dist-packages (from spacy<3.6.0,>=3.5.0->pt-core-news-sm==3.5.0) (4.65.0)\n",
            "Requirement already satisfied: numpy>=1.15.0 in /usr/local/lib/python3.10/dist-packages (from spacy<3.6.0,>=3.5.0->pt-core-news-sm==3.5.0) (1.22.4)\n",
            "Requirement already satisfied: requests<3.0.0,>=2.13.0 in /usr/local/lib/python3.10/dist-packages (from spacy<3.6.0,>=3.5.0->pt-core-news-sm==3.5.0) (2.27.1)\n",
            "Requirement already satisfied: pydantic!=1.8,!=1.8.1,<1.11.0,>=1.7.4 in /usr/local/lib/python3.10/dist-packages (from spacy<3.6.0,>=3.5.0->pt-core-news-sm==3.5.0) (1.10.7)\n",
            "Requirement already satisfied: jinja2 in /usr/local/lib/python3.10/dist-packages (from spacy<3.6.0,>=3.5.0->pt-core-news-sm==3.5.0) (3.1.2)\n",
            "Requirement already satisfied: setuptools in /usr/local/lib/python3.10/dist-packages (from spacy<3.6.0,>=3.5.0->pt-core-news-sm==3.5.0) (67.7.2)\n",
            "Requirement already satisfied: packaging>=20.0 in /usr/local/lib/python3.10/dist-packages (from spacy<3.6.0,>=3.5.0->pt-core-news-sm==3.5.0) (23.1)\n",
            "Requirement already satisfied: langcodes<4.0.0,>=3.2.0 in /usr/local/lib/python3.10/dist-packages (from spacy<3.6.0,>=3.5.0->pt-core-news-sm==3.5.0) (3.3.0)\n",
            "Requirement already satisfied: typing-extensions>=4.2.0 in /usr/local/lib/python3.10/dist-packages (from pydantic!=1.8,!=1.8.1,<1.11.0,>=1.7.4->spacy<3.6.0,>=3.5.0->pt-core-news-sm==3.5.0) (4.5.0)\n",
            "Requirement already satisfied: urllib3<1.27,>=1.21.1 in /usr/local/lib/python3.10/dist-packages (from requests<3.0.0,>=2.13.0->spacy<3.6.0,>=3.5.0->pt-core-news-sm==3.5.0) (1.26.15)\n",
            "Requirement already satisfied: certifi>=2017.4.17 in /usr/local/lib/python3.10/dist-packages (from requests<3.0.0,>=2.13.0->spacy<3.6.0,>=3.5.0->pt-core-news-sm==3.5.0) (2022.12.7)\n",
            "Requirement already satisfied: charset-normalizer~=2.0.0 in /usr/local/lib/python3.10/dist-packages (from requests<3.0.0,>=2.13.0->spacy<3.6.0,>=3.5.0->pt-core-news-sm==3.5.0) (2.0.12)\n",
            "Requirement already satisfied: idna<4,>=2.5 in /usr/local/lib/python3.10/dist-packages (from requests<3.0.0,>=2.13.0->spacy<3.6.0,>=3.5.0->pt-core-news-sm==3.5.0) (3.4)\n",
            "Requirement already satisfied: blis<0.8.0,>=0.7.8 in /usr/local/lib/python3.10/dist-packages (from thinc<8.2.0,>=8.1.8->spacy<3.6.0,>=3.5.0->pt-core-news-sm==3.5.0) (0.7.9)\n",
            "Requirement already satisfied: confection<1.0.0,>=0.0.1 in /usr/local/lib/python3.10/dist-packages (from thinc<8.2.0,>=8.1.8->spacy<3.6.0,>=3.5.0->pt-core-news-sm==3.5.0) (0.0.4)\n",
            "Requirement already satisfied: click<9.0.0,>=7.1.1 in /usr/local/lib/python3.10/dist-packages (from typer<0.8.0,>=0.3.0->spacy<3.6.0,>=3.5.0->pt-core-news-sm==3.5.0) (8.1.3)\n",
            "Requirement already satisfied: MarkupSafe>=2.0 in /usr/local/lib/python3.10/dist-packages (from jinja2->spacy<3.6.0,>=3.5.0->pt-core-news-sm==3.5.0) (2.1.2)\n",
            "\u001b[38;5;2m✔ Download and installation successful\u001b[0m\n",
            "You can now load the package via spacy.load('pt_core_news_sm')\n"
          ]
        }
      ]
    },
    {
      "cell_type": "markdown",
      "source": [
        "Rodando o dataset, para analisar seu conteúdo:"
      ],
      "metadata": {
        "id": "MgoZgBnOxFul"
      }
    },
    {
      "cell_type": "code",
      "source": [
        "data = pd.read_csv('/content/drive/MyDrive/Módulo 6/Base 2.csv')\n",
        "data.head(5)"
      ],
      "metadata": {
        "colab": {
          "base_uri": "https://localhost:8080/",
          "height": 530
        },
        "id": "pvOhBRFWQFk_",
        "outputId": "2b044b65-a3a6-45b1-8985-969b8692809c"
      },
      "execution_count": null,
      "outputs": [
        {
          "output_type": "execute_result",
          "data": {
            "text/plain": [
              "   id        \"dataPublicada\"        \"autor\"  \\\n",
              "0   1  \"2022-03-04 09:38:00\"     v8_capital   \n",
              "1   2  \"2022-03-04 09:29:00\"  winthegame_of   \n",
              "2   3  \"2022-03-04 09:20:00\"     marta_bego   \n",
              "3   4  \"2022-03-04 08:36:00\"     lmviapiana   \n",
              "4   5  \"2022-03-03 21:10:00\"   vanilson_dos   \n",
              "\n",
              "                                             \"texto\" \"sentimento\"  \\\n",
              "0  Confira os resultados dos nossos fundos no mês...      NEUTRAL   \n",
              "1  A Alvarez & Marsal estará conosco no Sportainm...      NEUTRAL   \n",
              "2  #Repost btgpactual with make_repost ・・・ Entend...      NEUTRAL   \n",
              "3                               Minuto touro de ouro     POSITIVE   \n",
              "4                                   @ricktolledo Sim      NEUTRAL   \n",
              "\n",
              "  \"tipoInteracao\"  \"anomalia\"  \"probabilidadeAnomalia\"  \\\n",
              "0        marcação           1                       52   \n",
              "1        marcação           0                       43   \n",
              "2        marcação           0                       45   \n",
              "3      comentário           0                       38   \n",
              "4        resposta           0                       17   \n",
              "\n",
              "                                          \"linkPost\"  \"processado\"  \\\n",
              "0           https://www.instagram.com/p/CarqO6drRux/             0   \n",
              "1           https://www.instagram.com/p/CarpQUluh7z/             0   \n",
              "2           https://www.instagram.com/p/CaroK9Nu8tC/             0   \n",
              "3  https://www.instagram.com/p/CapXhB5Lvas/#17977...             0   \n",
              "4  https://www.instagram.com/p/CapXhB5Lvas/#17842...             0   \n",
              "\n",
              "   \"contemHyperlink\"  \n",
              "0                  0  \n",
              "1                  0  \n",
              "2                  0  \n",
              "3                  0  \n",
              "4                  0  "
            ],
            "text/html": [
              "\n",
              "  <div id=\"df-cb48ace1-d119-428d-81ee-097a8471c535\">\n",
              "    <div class=\"colab-df-container\">\n",
              "      <div>\n",
              "<style scoped>\n",
              "    .dataframe tbody tr th:only-of-type {\n",
              "        vertical-align: middle;\n",
              "    }\n",
              "\n",
              "    .dataframe tbody tr th {\n",
              "        vertical-align: top;\n",
              "    }\n",
              "\n",
              "    .dataframe thead th {\n",
              "        text-align: right;\n",
              "    }\n",
              "</style>\n",
              "<table border=\"1\" class=\"dataframe\">\n",
              "  <thead>\n",
              "    <tr style=\"text-align: right;\">\n",
              "      <th></th>\n",
              "      <th>id</th>\n",
              "      <th>\"dataPublicada\"</th>\n",
              "      <th>\"autor\"</th>\n",
              "      <th>\"texto\"</th>\n",
              "      <th>\"sentimento\"</th>\n",
              "      <th>\"tipoInteracao\"</th>\n",
              "      <th>\"anomalia\"</th>\n",
              "      <th>\"probabilidadeAnomalia\"</th>\n",
              "      <th>\"linkPost\"</th>\n",
              "      <th>\"processado\"</th>\n",
              "      <th>\"contemHyperlink\"</th>\n",
              "    </tr>\n",
              "  </thead>\n",
              "  <tbody>\n",
              "    <tr>\n",
              "      <th>0</th>\n",
              "      <td>1</td>\n",
              "      <td>\"2022-03-04 09:38:00\"</td>\n",
              "      <td>v8_capital</td>\n",
              "      <td>Confira os resultados dos nossos fundos no mês...</td>\n",
              "      <td>NEUTRAL</td>\n",
              "      <td>marcação</td>\n",
              "      <td>1</td>\n",
              "      <td>52</td>\n",
              "      <td>https://www.instagram.com/p/CarqO6drRux/</td>\n",
              "      <td>0</td>\n",
              "      <td>0</td>\n",
              "    </tr>\n",
              "    <tr>\n",
              "      <th>1</th>\n",
              "      <td>2</td>\n",
              "      <td>\"2022-03-04 09:29:00\"</td>\n",
              "      <td>winthegame_of</td>\n",
              "      <td>A Alvarez &amp; Marsal estará conosco no Sportainm...</td>\n",
              "      <td>NEUTRAL</td>\n",
              "      <td>marcação</td>\n",
              "      <td>0</td>\n",
              "      <td>43</td>\n",
              "      <td>https://www.instagram.com/p/CarpQUluh7z/</td>\n",
              "      <td>0</td>\n",
              "      <td>0</td>\n",
              "    </tr>\n",
              "    <tr>\n",
              "      <th>2</th>\n",
              "      <td>3</td>\n",
              "      <td>\"2022-03-04 09:20:00\"</td>\n",
              "      <td>marta_bego</td>\n",
              "      <td>#Repost btgpactual with make_repost ・・・ Entend...</td>\n",
              "      <td>NEUTRAL</td>\n",
              "      <td>marcação</td>\n",
              "      <td>0</td>\n",
              "      <td>45</td>\n",
              "      <td>https://www.instagram.com/p/CaroK9Nu8tC/</td>\n",
              "      <td>0</td>\n",
              "      <td>0</td>\n",
              "    </tr>\n",
              "    <tr>\n",
              "      <th>3</th>\n",
              "      <td>4</td>\n",
              "      <td>\"2022-03-04 08:36:00\"</td>\n",
              "      <td>lmviapiana</td>\n",
              "      <td>Minuto touro de ouro</td>\n",
              "      <td>POSITIVE</td>\n",
              "      <td>comentário</td>\n",
              "      <td>0</td>\n",
              "      <td>38</td>\n",
              "      <td>https://www.instagram.com/p/CapXhB5Lvas/#17977...</td>\n",
              "      <td>0</td>\n",
              "      <td>0</td>\n",
              "    </tr>\n",
              "    <tr>\n",
              "      <th>4</th>\n",
              "      <td>5</td>\n",
              "      <td>\"2022-03-03 21:10:00\"</td>\n",
              "      <td>vanilson_dos</td>\n",
              "      <td>@ricktolledo Sim</td>\n",
              "      <td>NEUTRAL</td>\n",
              "      <td>resposta</td>\n",
              "      <td>0</td>\n",
              "      <td>17</td>\n",
              "      <td>https://www.instagram.com/p/CapXhB5Lvas/#17842...</td>\n",
              "      <td>0</td>\n",
              "      <td>0</td>\n",
              "    </tr>\n",
              "  </tbody>\n",
              "</table>\n",
              "</div>\n",
              "      <button class=\"colab-df-convert\" onclick=\"convertToInteractive('df-cb48ace1-d119-428d-81ee-097a8471c535')\"\n",
              "              title=\"Convert this dataframe to an interactive table.\"\n",
              "              style=\"display:none;\">\n",
              "        \n",
              "  <svg xmlns=\"http://www.w3.org/2000/svg\" height=\"24px\"viewBox=\"0 0 24 24\"\n",
              "       width=\"24px\">\n",
              "    <path d=\"M0 0h24v24H0V0z\" fill=\"none\"/>\n",
              "    <path d=\"M18.56 5.44l.94 2.06.94-2.06 2.06-.94-2.06-.94-.94-2.06-.94 2.06-2.06.94zm-11 1L8.5 8.5l.94-2.06 2.06-.94-2.06-.94L8.5 2.5l-.94 2.06-2.06.94zm10 10l.94 2.06.94-2.06 2.06-.94-2.06-.94-.94-2.06-.94 2.06-2.06.94z\"/><path d=\"M17.41 7.96l-1.37-1.37c-.4-.4-.92-.59-1.43-.59-.52 0-1.04.2-1.43.59L10.3 9.45l-7.72 7.72c-.78.78-.78 2.05 0 2.83L4 21.41c.39.39.9.59 1.41.59.51 0 1.02-.2 1.41-.59l7.78-7.78 2.81-2.81c.8-.78.8-2.07 0-2.86zM5.41 20L4 18.59l7.72-7.72 1.47 1.35L5.41 20z\"/>\n",
              "  </svg>\n",
              "      </button>\n",
              "      \n",
              "  <style>\n",
              "    .colab-df-container {\n",
              "      display:flex;\n",
              "      flex-wrap:wrap;\n",
              "      gap: 12px;\n",
              "    }\n",
              "\n",
              "    .colab-df-convert {\n",
              "      background-color: #E8F0FE;\n",
              "      border: none;\n",
              "      border-radius: 50%;\n",
              "      cursor: pointer;\n",
              "      display: none;\n",
              "      fill: #1967D2;\n",
              "      height: 32px;\n",
              "      padding: 0 0 0 0;\n",
              "      width: 32px;\n",
              "    }\n",
              "\n",
              "    .colab-df-convert:hover {\n",
              "      background-color: #E2EBFA;\n",
              "      box-shadow: 0px 1px 2px rgba(60, 64, 67, 0.3), 0px 1px 3px 1px rgba(60, 64, 67, 0.15);\n",
              "      fill: #174EA6;\n",
              "    }\n",
              "\n",
              "    [theme=dark] .colab-df-convert {\n",
              "      background-color: #3B4455;\n",
              "      fill: #D2E3FC;\n",
              "    }\n",
              "\n",
              "    [theme=dark] .colab-df-convert:hover {\n",
              "      background-color: #434B5C;\n",
              "      box-shadow: 0px 1px 3px 1px rgba(0, 0, 0, 0.15);\n",
              "      filter: drop-shadow(0px 1px 2px rgba(0, 0, 0, 0.3));\n",
              "      fill: #FFFFFF;\n",
              "    }\n",
              "  </style>\n",
              "\n",
              "      <script>\n",
              "        const buttonEl =\n",
              "          document.querySelector('#df-cb48ace1-d119-428d-81ee-097a8471c535 button.colab-df-convert');\n",
              "        buttonEl.style.display =\n",
              "          google.colab.kernel.accessAllowed ? 'block' : 'none';\n",
              "\n",
              "        async function convertToInteractive(key) {\n",
              "          const element = document.querySelector('#df-cb48ace1-d119-428d-81ee-097a8471c535');\n",
              "          const dataTable =\n",
              "            await google.colab.kernel.invokeFunction('convertToInteractive',\n",
              "                                                     [key], {});\n",
              "          if (!dataTable) return;\n",
              "\n",
              "          const docLinkHtml = 'Like what you see? Visit the ' +\n",
              "            '<a target=\"_blank\" href=https://colab.research.google.com/notebooks/data_table.ipynb>data table notebook</a>'\n",
              "            + ' to learn more about interactive tables.';\n",
              "          element.innerHTML = '';\n",
              "          dataTable['output_type'] = 'display_data';\n",
              "          await google.colab.output.renderOutput(dataTable, element);\n",
              "          const docLink = document.createElement('div');\n",
              "          docLink.innerHTML = docLinkHtml;\n",
              "          element.appendChild(docLink);\n",
              "        }\n",
              "      </script>\n",
              "    </div>\n",
              "  </div>\n",
              "  "
            ]
          },
          "metadata": {},
          "execution_count": 65
        }
      ]
    },
    {
      "cell_type": "markdown",
      "source": [
        "# 2. Tratamento dos Dados"
      ],
      "metadata": {
        "id": "dDAJ_PlDObbV"
      }
    },
    {
      "cell_type": "markdown",
      "source": [
        "No tratamento de dados, nós analisamos o que podemos mudar no dataframe para fazer uma análise melhor de seus dados e alcançar o objetivo traçado. Dessa forma, é possível visualizar algumas etapas do tratamento abaixo, por exemplo:\n",
        "- Renomear as colunas para retirar aspas duplos;\n",
        "- Analisar as colunas com objetos que possam ser quantitativos;\n",
        "- Remover algumas colunas que não servirão para o desenvolvimento do projeto;\n",
        "- Filtro para analisar comentários que não tenham o 'btgpactual' como autor, para ter uma análise somente dos usuários."
      ],
      "metadata": {
        "id": "YXOQwanCPRv1"
      }
    },
    {
      "cell_type": "code",
      "source": [
        "data = data.rename(columns={'\"anomalia\"' : 'anomalia', '\"dataPublicada\"' : 'dataPublicada', '\"autor\"' : 'autor', '\"texto\"' : 'texto', '\"sentimento\"' : 'sentimento', '\"tipoInteracao\"' : 'tipoInteracao', '\"probabilidadeAnomalia\"' : 'probabilidadeAnomalia', '\"linkPost\"' : 'linkPost', '\"processado\"' : 'processado',  '\"contemHyperlink\"' : 'contemHyperlink' })"
      ],
      "metadata": {
        "id": "fx_xLrMifUmb"
      },
      "execution_count": null,
      "outputs": []
    },
    {
      "cell_type": "code",
      "source": [
        "data.head(3)"
      ],
      "metadata": {
        "id": "aLm49aNqY5iw",
        "colab": {
          "base_uri": "https://localhost:8080/",
          "height": 433
        },
        "outputId": "4c7ec23d-9862-4d0f-a335-a1b40ba18496"
      },
      "execution_count": null,
      "outputs": [
        {
          "output_type": "execute_result",
          "data": {
            "text/plain": [
              "   id          dataPublicada          autor  \\\n",
              "0   1  \"2022-03-04 09:38:00\"     v8_capital   \n",
              "1   2  \"2022-03-04 09:29:00\"  winthegame_of   \n",
              "2   3  \"2022-03-04 09:20:00\"     marta_bego   \n",
              "\n",
              "                                               texto sentimento tipoInteracao  \\\n",
              "0  Confira os resultados dos nossos fundos no mês...    NEUTRAL      marcação   \n",
              "1  A Alvarez & Marsal estará conosco no Sportainm...    NEUTRAL      marcação   \n",
              "2  #Repost btgpactual with make_repost ・・・ Entend...    NEUTRAL      marcação   \n",
              "\n",
              "   anomalia  probabilidadeAnomalia                                  linkPost  \\\n",
              "0         1                     52  https://www.instagram.com/p/CarqO6drRux/   \n",
              "1         0                     43  https://www.instagram.com/p/CarpQUluh7z/   \n",
              "2         0                     45  https://www.instagram.com/p/CaroK9Nu8tC/   \n",
              "\n",
              "   processado  contemHyperlink  \n",
              "0           0                0  \n",
              "1           0                0  \n",
              "2           0                0  "
            ],
            "text/html": [
              "\n",
              "  <div id=\"df-91214c43-3989-4093-bc02-770e1c6c38b8\">\n",
              "    <div class=\"colab-df-container\">\n",
              "      <div>\n",
              "<style scoped>\n",
              "    .dataframe tbody tr th:only-of-type {\n",
              "        vertical-align: middle;\n",
              "    }\n",
              "\n",
              "    .dataframe tbody tr th {\n",
              "        vertical-align: top;\n",
              "    }\n",
              "\n",
              "    .dataframe thead th {\n",
              "        text-align: right;\n",
              "    }\n",
              "</style>\n",
              "<table border=\"1\" class=\"dataframe\">\n",
              "  <thead>\n",
              "    <tr style=\"text-align: right;\">\n",
              "      <th></th>\n",
              "      <th>id</th>\n",
              "      <th>dataPublicada</th>\n",
              "      <th>autor</th>\n",
              "      <th>texto</th>\n",
              "      <th>sentimento</th>\n",
              "      <th>tipoInteracao</th>\n",
              "      <th>anomalia</th>\n",
              "      <th>probabilidadeAnomalia</th>\n",
              "      <th>linkPost</th>\n",
              "      <th>processado</th>\n",
              "      <th>contemHyperlink</th>\n",
              "    </tr>\n",
              "  </thead>\n",
              "  <tbody>\n",
              "    <tr>\n",
              "      <th>0</th>\n",
              "      <td>1</td>\n",
              "      <td>\"2022-03-04 09:38:00\"</td>\n",
              "      <td>v8_capital</td>\n",
              "      <td>Confira os resultados dos nossos fundos no mês...</td>\n",
              "      <td>NEUTRAL</td>\n",
              "      <td>marcação</td>\n",
              "      <td>1</td>\n",
              "      <td>52</td>\n",
              "      <td>https://www.instagram.com/p/CarqO6drRux/</td>\n",
              "      <td>0</td>\n",
              "      <td>0</td>\n",
              "    </tr>\n",
              "    <tr>\n",
              "      <th>1</th>\n",
              "      <td>2</td>\n",
              "      <td>\"2022-03-04 09:29:00\"</td>\n",
              "      <td>winthegame_of</td>\n",
              "      <td>A Alvarez &amp; Marsal estará conosco no Sportainm...</td>\n",
              "      <td>NEUTRAL</td>\n",
              "      <td>marcação</td>\n",
              "      <td>0</td>\n",
              "      <td>43</td>\n",
              "      <td>https://www.instagram.com/p/CarpQUluh7z/</td>\n",
              "      <td>0</td>\n",
              "      <td>0</td>\n",
              "    </tr>\n",
              "    <tr>\n",
              "      <th>2</th>\n",
              "      <td>3</td>\n",
              "      <td>\"2022-03-04 09:20:00\"</td>\n",
              "      <td>marta_bego</td>\n",
              "      <td>#Repost btgpactual with make_repost ・・・ Entend...</td>\n",
              "      <td>NEUTRAL</td>\n",
              "      <td>marcação</td>\n",
              "      <td>0</td>\n",
              "      <td>45</td>\n",
              "      <td>https://www.instagram.com/p/CaroK9Nu8tC/</td>\n",
              "      <td>0</td>\n",
              "      <td>0</td>\n",
              "    </tr>\n",
              "  </tbody>\n",
              "</table>\n",
              "</div>\n",
              "      <button class=\"colab-df-convert\" onclick=\"convertToInteractive('df-91214c43-3989-4093-bc02-770e1c6c38b8')\"\n",
              "              title=\"Convert this dataframe to an interactive table.\"\n",
              "              style=\"display:none;\">\n",
              "        \n",
              "  <svg xmlns=\"http://www.w3.org/2000/svg\" height=\"24px\"viewBox=\"0 0 24 24\"\n",
              "       width=\"24px\">\n",
              "    <path d=\"M0 0h24v24H0V0z\" fill=\"none\"/>\n",
              "    <path d=\"M18.56 5.44l.94 2.06.94-2.06 2.06-.94-2.06-.94-.94-2.06-.94 2.06-2.06.94zm-11 1L8.5 8.5l.94-2.06 2.06-.94-2.06-.94L8.5 2.5l-.94 2.06-2.06.94zm10 10l.94 2.06.94-2.06 2.06-.94-2.06-.94-.94-2.06-.94 2.06-2.06.94z\"/><path d=\"M17.41 7.96l-1.37-1.37c-.4-.4-.92-.59-1.43-.59-.52 0-1.04.2-1.43.59L10.3 9.45l-7.72 7.72c-.78.78-.78 2.05 0 2.83L4 21.41c.39.39.9.59 1.41.59.51 0 1.02-.2 1.41-.59l7.78-7.78 2.81-2.81c.8-.78.8-2.07 0-2.86zM5.41 20L4 18.59l7.72-7.72 1.47 1.35L5.41 20z\"/>\n",
              "  </svg>\n",
              "      </button>\n",
              "      \n",
              "  <style>\n",
              "    .colab-df-container {\n",
              "      display:flex;\n",
              "      flex-wrap:wrap;\n",
              "      gap: 12px;\n",
              "    }\n",
              "\n",
              "    .colab-df-convert {\n",
              "      background-color: #E8F0FE;\n",
              "      border: none;\n",
              "      border-radius: 50%;\n",
              "      cursor: pointer;\n",
              "      display: none;\n",
              "      fill: #1967D2;\n",
              "      height: 32px;\n",
              "      padding: 0 0 0 0;\n",
              "      width: 32px;\n",
              "    }\n",
              "\n",
              "    .colab-df-convert:hover {\n",
              "      background-color: #E2EBFA;\n",
              "      box-shadow: 0px 1px 2px rgba(60, 64, 67, 0.3), 0px 1px 3px 1px rgba(60, 64, 67, 0.15);\n",
              "      fill: #174EA6;\n",
              "    }\n",
              "\n",
              "    [theme=dark] .colab-df-convert {\n",
              "      background-color: #3B4455;\n",
              "      fill: #D2E3FC;\n",
              "    }\n",
              "\n",
              "    [theme=dark] .colab-df-convert:hover {\n",
              "      background-color: #434B5C;\n",
              "      box-shadow: 0px 1px 3px 1px rgba(0, 0, 0, 0.15);\n",
              "      filter: drop-shadow(0px 1px 2px rgba(0, 0, 0, 0.3));\n",
              "      fill: #FFFFFF;\n",
              "    }\n",
              "  </style>\n",
              "\n",
              "      <script>\n",
              "        const buttonEl =\n",
              "          document.querySelector('#df-91214c43-3989-4093-bc02-770e1c6c38b8 button.colab-df-convert');\n",
              "        buttonEl.style.display =\n",
              "          google.colab.kernel.accessAllowed ? 'block' : 'none';\n",
              "\n",
              "        async function convertToInteractive(key) {\n",
              "          const element = document.querySelector('#df-91214c43-3989-4093-bc02-770e1c6c38b8');\n",
              "          const dataTable =\n",
              "            await google.colab.kernel.invokeFunction('convertToInteractive',\n",
              "                                                     [key], {});\n",
              "          if (!dataTable) return;\n",
              "\n",
              "          const docLinkHtml = 'Like what you see? Visit the ' +\n",
              "            '<a target=\"_blank\" href=https://colab.research.google.com/notebooks/data_table.ipynb>data table notebook</a>'\n",
              "            + ' to learn more about interactive tables.';\n",
              "          element.innerHTML = '';\n",
              "          dataTable['output_type'] = 'display_data';\n",
              "          await google.colab.output.renderOutput(dataTable, element);\n",
              "          const docLink = document.createElement('div');\n",
              "          docLink.innerHTML = docLinkHtml;\n",
              "          element.appendChild(docLink);\n",
              "        }\n",
              "      </script>\n",
              "    </div>\n",
              "  </div>\n",
              "  "
            ]
          },
          "metadata": {},
          "execution_count": 67
        }
      ]
    },
    {
      "cell_type": "code",
      "source": [
        "data.describe()"
      ],
      "metadata": {
        "id": "J5GWQzKeRFGd",
        "colab": {
          "base_uri": "https://localhost:8080/",
          "height": 300
        },
        "outputId": "68845760-ccb5-4b4b-b418-bf6b4c19f03a"
      },
      "execution_count": null,
      "outputs": [
        {
          "output_type": "execute_result",
          "data": {
            "text/plain": [
              "                 id      anomalia  probabilidadeAnomalia  processado  \\\n",
              "count  1.235500e+04  12355.000000           12355.000000     12355.0   \n",
              "mean   1.757789e+06      0.222339              37.325698         0.0   \n",
              "std    7.967971e+05      0.415835              16.374936         0.0   \n",
              "min    1.000000e+00      0.000000               7.000000         0.0   \n",
              "25%    1.314377e+06      0.000000              24.000000         0.0   \n",
              "50%    1.783879e+06      0.000000              37.000000         0.0   \n",
              "75%    2.388714e+06      0.000000              48.000000         0.0   \n",
              "max    3.045012e+06      1.000000             100.000000         0.0   \n",
              "\n",
              "       contemHyperlink  \n",
              "count     12355.000000  \n",
              "mean          0.005423  \n",
              "std           0.073443  \n",
              "min           0.000000  \n",
              "25%           0.000000  \n",
              "50%           0.000000  \n",
              "75%           0.000000  \n",
              "max           1.000000  "
            ],
            "text/html": [
              "\n",
              "  <div id=\"df-130b923e-57df-4710-b3a2-2601a8b629a7\">\n",
              "    <div class=\"colab-df-container\">\n",
              "      <div>\n",
              "<style scoped>\n",
              "    .dataframe tbody tr th:only-of-type {\n",
              "        vertical-align: middle;\n",
              "    }\n",
              "\n",
              "    .dataframe tbody tr th {\n",
              "        vertical-align: top;\n",
              "    }\n",
              "\n",
              "    .dataframe thead th {\n",
              "        text-align: right;\n",
              "    }\n",
              "</style>\n",
              "<table border=\"1\" class=\"dataframe\">\n",
              "  <thead>\n",
              "    <tr style=\"text-align: right;\">\n",
              "      <th></th>\n",
              "      <th>id</th>\n",
              "      <th>anomalia</th>\n",
              "      <th>probabilidadeAnomalia</th>\n",
              "      <th>processado</th>\n",
              "      <th>contemHyperlink</th>\n",
              "    </tr>\n",
              "  </thead>\n",
              "  <tbody>\n",
              "    <tr>\n",
              "      <th>count</th>\n",
              "      <td>1.235500e+04</td>\n",
              "      <td>12355.000000</td>\n",
              "      <td>12355.000000</td>\n",
              "      <td>12355.0</td>\n",
              "      <td>12355.000000</td>\n",
              "    </tr>\n",
              "    <tr>\n",
              "      <th>mean</th>\n",
              "      <td>1.757789e+06</td>\n",
              "      <td>0.222339</td>\n",
              "      <td>37.325698</td>\n",
              "      <td>0.0</td>\n",
              "      <td>0.005423</td>\n",
              "    </tr>\n",
              "    <tr>\n",
              "      <th>std</th>\n",
              "      <td>7.967971e+05</td>\n",
              "      <td>0.415835</td>\n",
              "      <td>16.374936</td>\n",
              "      <td>0.0</td>\n",
              "      <td>0.073443</td>\n",
              "    </tr>\n",
              "    <tr>\n",
              "      <th>min</th>\n",
              "      <td>1.000000e+00</td>\n",
              "      <td>0.000000</td>\n",
              "      <td>7.000000</td>\n",
              "      <td>0.0</td>\n",
              "      <td>0.000000</td>\n",
              "    </tr>\n",
              "    <tr>\n",
              "      <th>25%</th>\n",
              "      <td>1.314377e+06</td>\n",
              "      <td>0.000000</td>\n",
              "      <td>24.000000</td>\n",
              "      <td>0.0</td>\n",
              "      <td>0.000000</td>\n",
              "    </tr>\n",
              "    <tr>\n",
              "      <th>50%</th>\n",
              "      <td>1.783879e+06</td>\n",
              "      <td>0.000000</td>\n",
              "      <td>37.000000</td>\n",
              "      <td>0.0</td>\n",
              "      <td>0.000000</td>\n",
              "    </tr>\n",
              "    <tr>\n",
              "      <th>75%</th>\n",
              "      <td>2.388714e+06</td>\n",
              "      <td>0.000000</td>\n",
              "      <td>48.000000</td>\n",
              "      <td>0.0</td>\n",
              "      <td>0.000000</td>\n",
              "    </tr>\n",
              "    <tr>\n",
              "      <th>max</th>\n",
              "      <td>3.045012e+06</td>\n",
              "      <td>1.000000</td>\n",
              "      <td>100.000000</td>\n",
              "      <td>0.0</td>\n",
              "      <td>1.000000</td>\n",
              "    </tr>\n",
              "  </tbody>\n",
              "</table>\n",
              "</div>\n",
              "      <button class=\"colab-df-convert\" onclick=\"convertToInteractive('df-130b923e-57df-4710-b3a2-2601a8b629a7')\"\n",
              "              title=\"Convert this dataframe to an interactive table.\"\n",
              "              style=\"display:none;\">\n",
              "        \n",
              "  <svg xmlns=\"http://www.w3.org/2000/svg\" height=\"24px\"viewBox=\"0 0 24 24\"\n",
              "       width=\"24px\">\n",
              "    <path d=\"M0 0h24v24H0V0z\" fill=\"none\"/>\n",
              "    <path d=\"M18.56 5.44l.94 2.06.94-2.06 2.06-.94-2.06-.94-.94-2.06-.94 2.06-2.06.94zm-11 1L8.5 8.5l.94-2.06 2.06-.94-2.06-.94L8.5 2.5l-.94 2.06-2.06.94zm10 10l.94 2.06.94-2.06 2.06-.94-2.06-.94-.94-2.06-.94 2.06-2.06.94z\"/><path d=\"M17.41 7.96l-1.37-1.37c-.4-.4-.92-.59-1.43-.59-.52 0-1.04.2-1.43.59L10.3 9.45l-7.72 7.72c-.78.78-.78 2.05 0 2.83L4 21.41c.39.39.9.59 1.41.59.51 0 1.02-.2 1.41-.59l7.78-7.78 2.81-2.81c.8-.78.8-2.07 0-2.86zM5.41 20L4 18.59l7.72-7.72 1.47 1.35L5.41 20z\"/>\n",
              "  </svg>\n",
              "      </button>\n",
              "      \n",
              "  <style>\n",
              "    .colab-df-container {\n",
              "      display:flex;\n",
              "      flex-wrap:wrap;\n",
              "      gap: 12px;\n",
              "    }\n",
              "\n",
              "    .colab-df-convert {\n",
              "      background-color: #E8F0FE;\n",
              "      border: none;\n",
              "      border-radius: 50%;\n",
              "      cursor: pointer;\n",
              "      display: none;\n",
              "      fill: #1967D2;\n",
              "      height: 32px;\n",
              "      padding: 0 0 0 0;\n",
              "      width: 32px;\n",
              "    }\n",
              "\n",
              "    .colab-df-convert:hover {\n",
              "      background-color: #E2EBFA;\n",
              "      box-shadow: 0px 1px 2px rgba(60, 64, 67, 0.3), 0px 1px 3px 1px rgba(60, 64, 67, 0.15);\n",
              "      fill: #174EA6;\n",
              "    }\n",
              "\n",
              "    [theme=dark] .colab-df-convert {\n",
              "      background-color: #3B4455;\n",
              "      fill: #D2E3FC;\n",
              "    }\n",
              "\n",
              "    [theme=dark] .colab-df-convert:hover {\n",
              "      background-color: #434B5C;\n",
              "      box-shadow: 0px 1px 3px 1px rgba(0, 0, 0, 0.15);\n",
              "      filter: drop-shadow(0px 1px 2px rgba(0, 0, 0, 0.3));\n",
              "      fill: #FFFFFF;\n",
              "    }\n",
              "  </style>\n",
              "\n",
              "      <script>\n",
              "        const buttonEl =\n",
              "          document.querySelector('#df-130b923e-57df-4710-b3a2-2601a8b629a7 button.colab-df-convert');\n",
              "        buttonEl.style.display =\n",
              "          google.colab.kernel.accessAllowed ? 'block' : 'none';\n",
              "\n",
              "        async function convertToInteractive(key) {\n",
              "          const element = document.querySelector('#df-130b923e-57df-4710-b3a2-2601a8b629a7');\n",
              "          const dataTable =\n",
              "            await google.colab.kernel.invokeFunction('convertToInteractive',\n",
              "                                                     [key], {});\n",
              "          if (!dataTable) return;\n",
              "\n",
              "          const docLinkHtml = 'Like what you see? Visit the ' +\n",
              "            '<a target=\"_blank\" href=https://colab.research.google.com/notebooks/data_table.ipynb>data table notebook</a>'\n",
              "            + ' to learn more about interactive tables.';\n",
              "          element.innerHTML = '';\n",
              "          dataTable['output_type'] = 'display_data';\n",
              "          await google.colab.output.renderOutput(dataTable, element);\n",
              "          const docLink = document.createElement('div');\n",
              "          docLink.innerHTML = docLinkHtml;\n",
              "          element.appendChild(docLink);\n",
              "        }\n",
              "      </script>\n",
              "    </div>\n",
              "  </div>\n",
              "  "
            ]
          },
          "metadata": {},
          "execution_count": 68
        }
      ]
    },
    {
      "cell_type": "code",
      "source": [
        "data_dropado = data.drop(['processado', 'id', \"anomalia\", \"probabilidadeAnomalia\", \"contemHyperlink\", \"linkPost\"], axis=1)\n",
        "data_dropado.head(3)"
      ],
      "metadata": {
        "id": "SWFRdnQ2Vwob",
        "colab": {
          "base_uri": "https://localhost:8080/",
          "height": 187
        },
        "outputId": "f0defeee-eb41-4a37-d8c3-d969cdd8bd99"
      },
      "execution_count": null,
      "outputs": [
        {
          "output_type": "execute_result",
          "data": {
            "text/plain": [
              "           dataPublicada          autor  \\\n",
              "0  \"2022-03-04 09:38:00\"     v8_capital   \n",
              "1  \"2022-03-04 09:29:00\"  winthegame_of   \n",
              "2  \"2022-03-04 09:20:00\"     marta_bego   \n",
              "\n",
              "                                               texto sentimento tipoInteracao  \n",
              "0  Confira os resultados dos nossos fundos no mês...    NEUTRAL      marcação  \n",
              "1  A Alvarez & Marsal estará conosco no Sportainm...    NEUTRAL      marcação  \n",
              "2  #Repost btgpactual with make_repost ・・・ Entend...    NEUTRAL      marcação  "
            ],
            "text/html": [
              "\n",
              "  <div id=\"df-ddedf7f0-160a-4ce1-a790-7f0d78008005\">\n",
              "    <div class=\"colab-df-container\">\n",
              "      <div>\n",
              "<style scoped>\n",
              "    .dataframe tbody tr th:only-of-type {\n",
              "        vertical-align: middle;\n",
              "    }\n",
              "\n",
              "    .dataframe tbody tr th {\n",
              "        vertical-align: top;\n",
              "    }\n",
              "\n",
              "    .dataframe thead th {\n",
              "        text-align: right;\n",
              "    }\n",
              "</style>\n",
              "<table border=\"1\" class=\"dataframe\">\n",
              "  <thead>\n",
              "    <tr style=\"text-align: right;\">\n",
              "      <th></th>\n",
              "      <th>dataPublicada</th>\n",
              "      <th>autor</th>\n",
              "      <th>texto</th>\n",
              "      <th>sentimento</th>\n",
              "      <th>tipoInteracao</th>\n",
              "    </tr>\n",
              "  </thead>\n",
              "  <tbody>\n",
              "    <tr>\n",
              "      <th>0</th>\n",
              "      <td>\"2022-03-04 09:38:00\"</td>\n",
              "      <td>v8_capital</td>\n",
              "      <td>Confira os resultados dos nossos fundos no mês...</td>\n",
              "      <td>NEUTRAL</td>\n",
              "      <td>marcação</td>\n",
              "    </tr>\n",
              "    <tr>\n",
              "      <th>1</th>\n",
              "      <td>\"2022-03-04 09:29:00\"</td>\n",
              "      <td>winthegame_of</td>\n",
              "      <td>A Alvarez &amp; Marsal estará conosco no Sportainm...</td>\n",
              "      <td>NEUTRAL</td>\n",
              "      <td>marcação</td>\n",
              "    </tr>\n",
              "    <tr>\n",
              "      <th>2</th>\n",
              "      <td>\"2022-03-04 09:20:00\"</td>\n",
              "      <td>marta_bego</td>\n",
              "      <td>#Repost btgpactual with make_repost ・・・ Entend...</td>\n",
              "      <td>NEUTRAL</td>\n",
              "      <td>marcação</td>\n",
              "    </tr>\n",
              "  </tbody>\n",
              "</table>\n",
              "</div>\n",
              "      <button class=\"colab-df-convert\" onclick=\"convertToInteractive('df-ddedf7f0-160a-4ce1-a790-7f0d78008005')\"\n",
              "              title=\"Convert this dataframe to an interactive table.\"\n",
              "              style=\"display:none;\">\n",
              "        \n",
              "  <svg xmlns=\"http://www.w3.org/2000/svg\" height=\"24px\"viewBox=\"0 0 24 24\"\n",
              "       width=\"24px\">\n",
              "    <path d=\"M0 0h24v24H0V0z\" fill=\"none\"/>\n",
              "    <path d=\"M18.56 5.44l.94 2.06.94-2.06 2.06-.94-2.06-.94-.94-2.06-.94 2.06-2.06.94zm-11 1L8.5 8.5l.94-2.06 2.06-.94-2.06-.94L8.5 2.5l-.94 2.06-2.06.94zm10 10l.94 2.06.94-2.06 2.06-.94-2.06-.94-.94-2.06-.94 2.06-2.06.94z\"/><path d=\"M17.41 7.96l-1.37-1.37c-.4-.4-.92-.59-1.43-.59-.52 0-1.04.2-1.43.59L10.3 9.45l-7.72 7.72c-.78.78-.78 2.05 0 2.83L4 21.41c.39.39.9.59 1.41.59.51 0 1.02-.2 1.41-.59l7.78-7.78 2.81-2.81c.8-.78.8-2.07 0-2.86zM5.41 20L4 18.59l7.72-7.72 1.47 1.35L5.41 20z\"/>\n",
              "  </svg>\n",
              "      </button>\n",
              "      \n",
              "  <style>\n",
              "    .colab-df-container {\n",
              "      display:flex;\n",
              "      flex-wrap:wrap;\n",
              "      gap: 12px;\n",
              "    }\n",
              "\n",
              "    .colab-df-convert {\n",
              "      background-color: #E8F0FE;\n",
              "      border: none;\n",
              "      border-radius: 50%;\n",
              "      cursor: pointer;\n",
              "      display: none;\n",
              "      fill: #1967D2;\n",
              "      height: 32px;\n",
              "      padding: 0 0 0 0;\n",
              "      width: 32px;\n",
              "    }\n",
              "\n",
              "    .colab-df-convert:hover {\n",
              "      background-color: #E2EBFA;\n",
              "      box-shadow: 0px 1px 2px rgba(60, 64, 67, 0.3), 0px 1px 3px 1px rgba(60, 64, 67, 0.15);\n",
              "      fill: #174EA6;\n",
              "    }\n",
              "\n",
              "    [theme=dark] .colab-df-convert {\n",
              "      background-color: #3B4455;\n",
              "      fill: #D2E3FC;\n",
              "    }\n",
              "\n",
              "    [theme=dark] .colab-df-convert:hover {\n",
              "      background-color: #434B5C;\n",
              "      box-shadow: 0px 1px 3px 1px rgba(0, 0, 0, 0.15);\n",
              "      filter: drop-shadow(0px 1px 2px rgba(0, 0, 0, 0.3));\n",
              "      fill: #FFFFFF;\n",
              "    }\n",
              "  </style>\n",
              "\n",
              "      <script>\n",
              "        const buttonEl =\n",
              "          document.querySelector('#df-ddedf7f0-160a-4ce1-a790-7f0d78008005 button.colab-df-convert');\n",
              "        buttonEl.style.display =\n",
              "          google.colab.kernel.accessAllowed ? 'block' : 'none';\n",
              "\n",
              "        async function convertToInteractive(key) {\n",
              "          const element = document.querySelector('#df-ddedf7f0-160a-4ce1-a790-7f0d78008005');\n",
              "          const dataTable =\n",
              "            await google.colab.kernel.invokeFunction('convertToInteractive',\n",
              "                                                     [key], {});\n",
              "          if (!dataTable) return;\n",
              "\n",
              "          const docLinkHtml = 'Like what you see? Visit the ' +\n",
              "            '<a target=\"_blank\" href=https://colab.research.google.com/notebooks/data_table.ipynb>data table notebook</a>'\n",
              "            + ' to learn more about interactive tables.';\n",
              "          element.innerHTML = '';\n",
              "          dataTable['output_type'] = 'display_data';\n",
              "          await google.colab.output.renderOutput(dataTable, element);\n",
              "          const docLink = document.createElement('div');\n",
              "          docLink.innerHTML = docLinkHtml;\n",
              "          element.appendChild(docLink);\n",
              "        }\n",
              "      </script>\n",
              "    </div>\n",
              "  </div>\n",
              "  "
            ]
          },
          "metadata": {},
          "execution_count": 69
        }
      ]
    },
    {
      "cell_type": "code",
      "source": [
        "data_limpo = data_dropado.loc[data_dropado['autor'] != 'btgpactual']\n",
        "data_limpo"
      ],
      "metadata": {
        "id": "oQHIlkqGaDML",
        "colab": {
          "base_uri": "https://localhost:8080/",
          "height": 641
        },
        "outputId": "3193eff7-1345-4485-d2f1-41166c5d59d7"
      },
      "execution_count": null,
      "outputs": [
        {
          "output_type": "execute_result",
          "data": {
            "text/plain": [
              "               dataPublicada             autor  \\\n",
              "0      \"2022-03-04 09:38:00\"        v8_capital   \n",
              "1      \"2022-03-04 09:29:00\"     winthegame_of   \n",
              "2      \"2022-03-04 09:20:00\"        marta_bego   \n",
              "3      \"2022-03-04 08:36:00\"        lmviapiana   \n",
              "4      \"2022-03-03 21:10:00\"      vanilson_dos   \n",
              "...                      ...               ...   \n",
              "12350  \"2022-11-30 11:51:00\"       onixcapital   \n",
              "12351  \"2022-11-30 12:25:00\"  amgcapitalinvest   \n",
              "12352  \"2022-11-30 12:18:00\"     jayipacderota   \n",
              "12353  \"2022-11-30 12:50:00\"   moinho_cultural   \n",
              "12354  \"2022-11-30 14:27:00\"         bfmarilia   \n",
              "\n",
              "                                                   texto sentimento  \\\n",
              "0      Confira os resultados dos nossos fundos no mês...    NEUTRAL   \n",
              "1      A Alvarez & Marsal estará conosco no Sportainm...    NEUTRAL   \n",
              "2      #Repost btgpactual with make_repost ・・・ Entend...    NEUTRAL   \n",
              "3                                   Minuto touro de ouro   POSITIVE   \n",
              "4                                       @ricktolledo Sim    NEUTRAL   \n",
              "...                                                  ...        ...   \n",
              "12350  Uma noite de encontros e muito conhecimento on...    NEUTRAL   \n",
              "12351  Erros financeiros para eliminar antes dos 30 a...    NEUTRAL   \n",
              "12352  Estou muito grato por todo o esforço que você ...   POSITIVE   \n",
              "12353  \"👉GUADAKAN está chegando!!!!  A aula pública e...    NEUTRAL   \n",
              "12354  @btgpactual pq o morning call não está mais ap...   NEGATIVE   \n",
              "\n",
              "      tipoInteracao  \n",
              "0          marcação  \n",
              "1          marcação  \n",
              "2          marcação  \n",
              "3        comentário  \n",
              "4          resposta  \n",
              "...             ...  \n",
              "12350      marcação  \n",
              "12351      marcação  \n",
              "12352    comentário  \n",
              "12353      marcação  \n",
              "12354    comentário  \n",
              "\n",
              "[12193 rows x 5 columns]"
            ],
            "text/html": [
              "\n",
              "  <div id=\"df-39954cc9-754f-472a-859d-659b4c31231f\">\n",
              "    <div class=\"colab-df-container\">\n",
              "      <div>\n",
              "<style scoped>\n",
              "    .dataframe tbody tr th:only-of-type {\n",
              "        vertical-align: middle;\n",
              "    }\n",
              "\n",
              "    .dataframe tbody tr th {\n",
              "        vertical-align: top;\n",
              "    }\n",
              "\n",
              "    .dataframe thead th {\n",
              "        text-align: right;\n",
              "    }\n",
              "</style>\n",
              "<table border=\"1\" class=\"dataframe\">\n",
              "  <thead>\n",
              "    <tr style=\"text-align: right;\">\n",
              "      <th></th>\n",
              "      <th>dataPublicada</th>\n",
              "      <th>autor</th>\n",
              "      <th>texto</th>\n",
              "      <th>sentimento</th>\n",
              "      <th>tipoInteracao</th>\n",
              "    </tr>\n",
              "  </thead>\n",
              "  <tbody>\n",
              "    <tr>\n",
              "      <th>0</th>\n",
              "      <td>\"2022-03-04 09:38:00\"</td>\n",
              "      <td>v8_capital</td>\n",
              "      <td>Confira os resultados dos nossos fundos no mês...</td>\n",
              "      <td>NEUTRAL</td>\n",
              "      <td>marcação</td>\n",
              "    </tr>\n",
              "    <tr>\n",
              "      <th>1</th>\n",
              "      <td>\"2022-03-04 09:29:00\"</td>\n",
              "      <td>winthegame_of</td>\n",
              "      <td>A Alvarez &amp; Marsal estará conosco no Sportainm...</td>\n",
              "      <td>NEUTRAL</td>\n",
              "      <td>marcação</td>\n",
              "    </tr>\n",
              "    <tr>\n",
              "      <th>2</th>\n",
              "      <td>\"2022-03-04 09:20:00\"</td>\n",
              "      <td>marta_bego</td>\n",
              "      <td>#Repost btgpactual with make_repost ・・・ Entend...</td>\n",
              "      <td>NEUTRAL</td>\n",
              "      <td>marcação</td>\n",
              "    </tr>\n",
              "    <tr>\n",
              "      <th>3</th>\n",
              "      <td>\"2022-03-04 08:36:00\"</td>\n",
              "      <td>lmviapiana</td>\n",
              "      <td>Minuto touro de ouro</td>\n",
              "      <td>POSITIVE</td>\n",
              "      <td>comentário</td>\n",
              "    </tr>\n",
              "    <tr>\n",
              "      <th>4</th>\n",
              "      <td>\"2022-03-03 21:10:00\"</td>\n",
              "      <td>vanilson_dos</td>\n",
              "      <td>@ricktolledo Sim</td>\n",
              "      <td>NEUTRAL</td>\n",
              "      <td>resposta</td>\n",
              "    </tr>\n",
              "    <tr>\n",
              "      <th>...</th>\n",
              "      <td>...</td>\n",
              "      <td>...</td>\n",
              "      <td>...</td>\n",
              "      <td>...</td>\n",
              "      <td>...</td>\n",
              "    </tr>\n",
              "    <tr>\n",
              "      <th>12350</th>\n",
              "      <td>\"2022-11-30 11:51:00\"</td>\n",
              "      <td>onixcapital</td>\n",
              "      <td>Uma noite de encontros e muito conhecimento on...</td>\n",
              "      <td>NEUTRAL</td>\n",
              "      <td>marcação</td>\n",
              "    </tr>\n",
              "    <tr>\n",
              "      <th>12351</th>\n",
              "      <td>\"2022-11-30 12:25:00\"</td>\n",
              "      <td>amgcapitalinvest</td>\n",
              "      <td>Erros financeiros para eliminar antes dos 30 a...</td>\n",
              "      <td>NEUTRAL</td>\n",
              "      <td>marcação</td>\n",
              "    </tr>\n",
              "    <tr>\n",
              "      <th>12352</th>\n",
              "      <td>\"2022-11-30 12:18:00\"</td>\n",
              "      <td>jayipacderota</td>\n",
              "      <td>Estou muito grato por todo o esforço que você ...</td>\n",
              "      <td>POSITIVE</td>\n",
              "      <td>comentário</td>\n",
              "    </tr>\n",
              "    <tr>\n",
              "      <th>12353</th>\n",
              "      <td>\"2022-11-30 12:50:00\"</td>\n",
              "      <td>moinho_cultural</td>\n",
              "      <td>\"👉GUADAKAN está chegando!!!!  A aula pública e...</td>\n",
              "      <td>NEUTRAL</td>\n",
              "      <td>marcação</td>\n",
              "    </tr>\n",
              "    <tr>\n",
              "      <th>12354</th>\n",
              "      <td>\"2022-11-30 14:27:00\"</td>\n",
              "      <td>bfmarilia</td>\n",
              "      <td>@btgpactual pq o morning call não está mais ap...</td>\n",
              "      <td>NEGATIVE</td>\n",
              "      <td>comentário</td>\n",
              "    </tr>\n",
              "  </tbody>\n",
              "</table>\n",
              "<p>12193 rows × 5 columns</p>\n",
              "</div>\n",
              "      <button class=\"colab-df-convert\" onclick=\"convertToInteractive('df-39954cc9-754f-472a-859d-659b4c31231f')\"\n",
              "              title=\"Convert this dataframe to an interactive table.\"\n",
              "              style=\"display:none;\">\n",
              "        \n",
              "  <svg xmlns=\"http://www.w3.org/2000/svg\" height=\"24px\"viewBox=\"0 0 24 24\"\n",
              "       width=\"24px\">\n",
              "    <path d=\"M0 0h24v24H0V0z\" fill=\"none\"/>\n",
              "    <path d=\"M18.56 5.44l.94 2.06.94-2.06 2.06-.94-2.06-.94-.94-2.06-.94 2.06-2.06.94zm-11 1L8.5 8.5l.94-2.06 2.06-.94-2.06-.94L8.5 2.5l-.94 2.06-2.06.94zm10 10l.94 2.06.94-2.06 2.06-.94-2.06-.94-.94-2.06-.94 2.06-2.06.94z\"/><path d=\"M17.41 7.96l-1.37-1.37c-.4-.4-.92-.59-1.43-.59-.52 0-1.04.2-1.43.59L10.3 9.45l-7.72 7.72c-.78.78-.78 2.05 0 2.83L4 21.41c.39.39.9.59 1.41.59.51 0 1.02-.2 1.41-.59l7.78-7.78 2.81-2.81c.8-.78.8-2.07 0-2.86zM5.41 20L4 18.59l7.72-7.72 1.47 1.35L5.41 20z\"/>\n",
              "  </svg>\n",
              "      </button>\n",
              "      \n",
              "  <style>\n",
              "    .colab-df-container {\n",
              "      display:flex;\n",
              "      flex-wrap:wrap;\n",
              "      gap: 12px;\n",
              "    }\n",
              "\n",
              "    .colab-df-convert {\n",
              "      background-color: #E8F0FE;\n",
              "      border: none;\n",
              "      border-radius: 50%;\n",
              "      cursor: pointer;\n",
              "      display: none;\n",
              "      fill: #1967D2;\n",
              "      height: 32px;\n",
              "      padding: 0 0 0 0;\n",
              "      width: 32px;\n",
              "    }\n",
              "\n",
              "    .colab-df-convert:hover {\n",
              "      background-color: #E2EBFA;\n",
              "      box-shadow: 0px 1px 2px rgba(60, 64, 67, 0.3), 0px 1px 3px 1px rgba(60, 64, 67, 0.15);\n",
              "      fill: #174EA6;\n",
              "    }\n",
              "\n",
              "    [theme=dark] .colab-df-convert {\n",
              "      background-color: #3B4455;\n",
              "      fill: #D2E3FC;\n",
              "    }\n",
              "\n",
              "    [theme=dark] .colab-df-convert:hover {\n",
              "      background-color: #434B5C;\n",
              "      box-shadow: 0px 1px 3px 1px rgba(0, 0, 0, 0.15);\n",
              "      filter: drop-shadow(0px 1px 2px rgba(0, 0, 0, 0.3));\n",
              "      fill: #FFFFFF;\n",
              "    }\n",
              "  </style>\n",
              "\n",
              "      <script>\n",
              "        const buttonEl =\n",
              "          document.querySelector('#df-39954cc9-754f-472a-859d-659b4c31231f button.colab-df-convert');\n",
              "        buttonEl.style.display =\n",
              "          google.colab.kernel.accessAllowed ? 'block' : 'none';\n",
              "\n",
              "        async function convertToInteractive(key) {\n",
              "          const element = document.querySelector('#df-39954cc9-754f-472a-859d-659b4c31231f');\n",
              "          const dataTable =\n",
              "            await google.colab.kernel.invokeFunction('convertToInteractive',\n",
              "                                                     [key], {});\n",
              "          if (!dataTable) return;\n",
              "\n",
              "          const docLinkHtml = 'Like what you see? Visit the ' +\n",
              "            '<a target=\"_blank\" href=https://colab.research.google.com/notebooks/data_table.ipynb>data table notebook</a>'\n",
              "            + ' to learn more about interactive tables.';\n",
              "          element.innerHTML = '';\n",
              "          dataTable['output_type'] = 'display_data';\n",
              "          await google.colab.output.renderOutput(dataTable, element);\n",
              "          const docLink = document.createElement('div');\n",
              "          docLink.innerHTML = docLinkHtml;\n",
              "          element.appendChild(docLink);\n",
              "        }\n",
              "      </script>\n",
              "    </div>\n",
              "  </div>\n",
              "  "
            ]
          },
          "metadata": {},
          "execution_count": 70
        }
      ]
    },
    {
      "cell_type": "markdown",
      "source": [
        "# 3. Testes isolados\n",
        "\n"
      ],
      "metadata": {
        "id": "Gtc7uvYsoiLL"
      }
    },
    {
      "cell_type": "markdown",
      "source": [
        "Nesta seção, começamos a fazer testes isolados para demonstrar como é o funcionamento de alguns dos pré-processos que iremos utilizar no dataframe principal. O objetivo é dar um exemplo para visualizar como iremos utilizar antes de ser aplicado em outras funções. Os pré-processos são:\n",
        "- Tokenização\n",
        "- Remoção de Stopwords\n",
        "- Remoção de Alfanuméricos\n",
        "- Stemming"
      ],
      "metadata": {
        "id": "CU8h74JIy9Za"
      }
    },
    {
      "cell_type": "markdown",
      "source": [
        "#### 3.1 Tokenização"
      ],
      "metadata": {
        "id": "dWVR5pymo0lC"
      }
    },
    {
      "cell_type": "code",
      "source": [
        "# Comentar...\n",
        "\n",
        "text = \"Minuto touro de ouro! 👍\"\n",
        "\n",
        "words = tokenize.word_tokenize(text, language='portuguese')\n",
        "\n",
        "words"
      ],
      "metadata": {
        "colab": {
          "base_uri": "https://localhost:8080/"
        },
        "outputId": "be3dd94f-509e-4634-9926-e1d8d4c32ab5",
        "id": "aejPDGBEHcTZ"
      },
      "execution_count": null,
      "outputs": [
        {
          "output_type": "execute_result",
          "data": {
            "text/plain": [
              "['Minuto', 'touro', 'de', 'ouro', '!', '👍']"
            ]
          },
          "metadata": {},
          "execution_count": 71
        }
      ]
    },
    {
      "cell_type": "markdown",
      "source": [
        "#### 3.2 Tratamento de emoji"
      ],
      "metadata": {
        "id": "G5cCGuh4HfoV"
      }
    },
    {
      "cell_type": "code",
      "source": [
        "demojized = [emoji.demojize(word) if emoji.emoji_count(word) > 0 else word for word in words]\n",
        "demojized = [word.replace(\":\", \"\").replace(\"_\", \"\") if any(c in word for c in [\":\", \"_\"]) else word for word in demojized]\n",
        "\n",
        "demojized"
      ],
      "metadata": {
        "colab": {
          "base_uri": "https://localhost:8080/"
        },
        "id": "H5sjV5fzHiRB",
        "outputId": "6f44cc44-63f8-4de0-a060-956daafcd181"
      },
      "execution_count": null,
      "outputs": [
        {
          "output_type": "execute_result",
          "data": {
            "text/plain": [
              "['Minuto', 'touro', 'de', 'ouro', '!', 'thumbsup']"
            ]
          },
          "metadata": {},
          "execution_count": 72
        }
      ]
    },
    {
      "cell_type": "markdown",
      "source": [
        "#### 3.3 Remoção de stopwords"
      ],
      "metadata": {
        "id": "q4I_xuhKopPC"
      }
    },
    {
      "cell_type": "code",
      "source": [
        "stopwords = nltk.corpus.stopwords.words('portuguese')\n",
        "\n",
        "stopwords[:10]"
      ],
      "metadata": {
        "id": "sNN1ILXe7AFt",
        "colab": {
          "base_uri": "https://localhost:8080/"
        },
        "outputId": "384aea54-71ce-4c35-86ce-32188ed2eae2"
      },
      "execution_count": null,
      "outputs": [
        {
          "output_type": "execute_result",
          "data": {
            "text/plain": [
              "['a',\n",
              " 'à',\n",
              " 'ao',\n",
              " 'aos',\n",
              " 'aquela',\n",
              " 'aquelas',\n",
              " 'aquele',\n",
              " 'aqueles',\n",
              " 'aquilo',\n",
              " 'as']"
            ]
          },
          "metadata": {},
          "execution_count": 73
        }
      ]
    },
    {
      "cell_type": "code",
      "source": [
        "filtered_demojized = []\n",
        "\n",
        "for word in demojized:\n",
        "    if word not in stopwords:\n",
        "        filtered_demojized.append(word)\n",
        "\n",
        "filtered_demojized"
      ],
      "metadata": {
        "id": "VGVgEUQSbSkw",
        "colab": {
          "base_uri": "https://localhost:8080/"
        },
        "outputId": "8e863954-9e04-4f08-a399-0a7290b39cb6"
      },
      "execution_count": null,
      "outputs": [
        {
          "output_type": "execute_result",
          "data": {
            "text/plain": [
              "['Minuto', 'touro', 'ouro', '!', 'thumbsup']"
            ]
          },
          "metadata": {},
          "execution_count": 74
        }
      ]
    },
    {
      "cell_type": "markdown",
      "source": [
        "#### 3.4 Remoção de Alfanuméricos"
      ],
      "metadata": {
        "id": "-OusB6_u0IEA"
      }
    },
    {
      "cell_type": "code",
      "source": [
        "frasezinha = ' '.join(filtered_demojized)\n",
        "nova_frase = re.sub(r'[^\\w\\s]', '', frasezinha)\n",
        "frasezinha = nova_frase.strip()\n",
        "print(frasezinha)"
      ],
      "metadata": {
        "id": "0ryLJryW0EbI",
        "colab": {
          "base_uri": "https://localhost:8080/"
        },
        "outputId": "a96f8744-30d5-4c11-f0ce-4021f632728d"
      },
      "execution_count": null,
      "outputs": [
        {
          "output_type": "stream",
          "name": "stdout",
          "text": [
            "Minuto touro ouro  thumbsup\n"
          ]
        }
      ]
    },
    {
      "cell_type": "markdown",
      "source": [
        "#### 3.5 Lematização"
      ],
      "metadata": {
        "id": "RqpbbRfd0NF_"
      }
    },
    {
      "cell_type": "code",
      "source": [],
      "metadata": {
        "id": "0nAklhqKGG-T"
      },
      "execution_count": null,
      "outputs": []
    },
    {
      "cell_type": "markdown",
      "source": [
        "# 4. Definição de funções\n"
      ],
      "metadata": {
        "id": "NXXtTzX_otsa"
      }
    },
    {
      "cell_type": "markdown",
      "source": [
        "Aqui em definição de funções é onde iremos criar as funções referentes aos tratamentos que mostramos acima! Já que, dessa forma, poderemos chamar essas mesmas funções em qualquer momento para fazer o tratamento do conteúdo textual."
      ],
      "metadata": {
        "id": "QHHiUr7Ew3J2"
      }
    },
    {
      "cell_type": "markdown",
      "source": [
        "#### 4.1 Tokenização"
      ],
      "metadata": {
        "id": "sV1UiPN_Pwlz"
      }
    },
    {
      "cell_type": "code",
      "source": [
        "def tokenizer(comment):\n",
        "    if isinstance(comment, str):\n",
        "        tokens = nltk.word_tokenize(comment)\n",
        "        return tokens\n",
        "    else:\n",
        "        return []"
      ],
      "metadata": {
        "id": "siyaxN9Cpm4n"
      },
      "execution_count": null,
      "outputs": []
    },
    {
      "cell_type": "markdown",
      "source": [
        "#### 4.2 Tratamento de emoji"
      ],
      "metadata": {
        "id": "WBLY003NMHMa"
      }
    },
    {
      "cell_type": "code",
      "source": [],
      "metadata": {
        "id": "2ncHX3JaMN-V"
      },
      "execution_count": null,
      "outputs": []
    },
    {
      "cell_type": "markdown",
      "source": [
        "#### 4.3 Remoção de stopwords"
      ],
      "metadata": {
        "id": "8kdCwHvIN7t0"
      }
    },
    {
      "cell_type": "code",
      "source": [
        "def remove_stopwords(tokens):\n",
        "    if isinstance(tokens, list): \n",
        "        comments_filtered = []\n",
        "        for token in tokens:\n",
        "          tk = token.lower()\n",
        "          if tk not in stopwords:\n",
        "              comments_filtered.append(tk)\n",
        "        return comments_filtered\n",
        "    else:\n",
        "        return []"
      ],
      "metadata": {
        "id": "SmdolFoDOAWr"
      },
      "execution_count": null,
      "outputs": []
    },
    {
      "cell_type": "markdown",
      "source": [
        "#### 4.4 Remoção de acentos\n"
      ],
      "metadata": {
        "id": "wqN6xGQQGXku"
      }
    },
    {
      "cell_type": "code",
      "source": [
        "def remover_pontuacao(tokens):\n",
        "    tokens_sem_pontuacao = []\n",
        "    for token in tokens:\n",
        "        token_sem_pontuacao = re.sub(r'[^\\w\\s]', '', token)\n",
        "        if token_sem_pontuacao != '':\n",
        "            tokens_sem_pontuacao.append(token_sem_pontuacao)\n",
        "    return tokens_sem_pontuacao"
      ],
      "metadata": {
        "id": "iNv8p5FRGYHw"
      },
      "execution_count": null,
      "outputs": []
    },
    {
      "cell_type": "markdown",
      "source": [
        "#### 4.5 Lematização\n"
      ],
      "metadata": {
        "id": "aZPFr8nuEMk6"
      }
    },
    {
      "cell_type": "markdown",
      "source": [
        "Quando a biblioteca é utilizada sem especificar"
      ],
      "metadata": {
        "id": "5k7LYgYaPiwj"
      }
    },
    {
      "cell_type": "code",
      "source": [
        "def lemmatize_text(text_list):\n",
        "    # Carregar o modelo pré-treinado do SpaCy para o idioma português\n",
        "    nlp = spacy.load(\"pt_core_news_sm\")\n",
        "    \n",
        "    lemmatized_texts = []\n",
        "    \n",
        "    for text in text_list:\n",
        "        # Processar o texto com o modelo do SpaCy\n",
        "        doc = nlp(text)\n",
        "        \n",
        "        # Lemmatizar cada token no texto\n",
        "        lemmas = [token.lemma_ for token in doc]\n",
        "        \n",
        "        # Adicionar os lemas a uma lista de textos lematizados\n",
        "        lemmatized_texts.append(\" \".join(lemmas))\n",
        "    \n",
        "    return lemmatized_texts\n"
      ],
      "metadata": {
        "id": "SkPoPzB-ESk1"
      },
      "execution_count": null,
      "outputs": []
    },
    {
      "cell_type": "markdown",
      "source": [
        "# 5. Testes das funções"
      ],
      "metadata": {
        "id": "1iNulehkqlAK"
      }
    },
    {
      "cell_type": "markdown",
      "source": [
        "Aqui nos testes das funções, iremos aplicar casos específicos para visualizar como nossa função se comporta, para, logo depois, aplica-la no dataframe principal"
      ],
      "metadata": {
        "id": "5tzSHRlqxRII"
      }
    },
    {
      "cell_type": "code",
      "source": [
        "#nos testes das funções devemos colocar oq deu certo e oq deu errado (ex: tirar os emotes, não tirar palavras como 'pra', etc)"
      ],
      "metadata": {
        "id": "z2IkRo9crbkp"
      },
      "execution_count": null,
      "outputs": []
    },
    {
      "cell_type": "markdown",
      "source": [
        "#### 5.1 Tokenização\n",
        "- Para o processo de tokenização, é possível visualizar que em qualquer caso, a função consegue tokenizar todo e qualquer termo existente da frase."
      ],
      "metadata": {
        "id": "QO937alcN4JF"
      }
    },
    {
      "cell_type": "code",
      "source": [
        "teste_tokenizacao = \"Estamos fazendo um projeto pro BTG! Ele é muito interessante.\"\n",
        "teste_ja_tokenizado = tokenizer(teste_tokenizacao)\n",
        "print(teste_ja_tokenizado)"
      ],
      "metadata": {
        "id": "9wuZWCvsrdlF",
        "colab": {
          "base_uri": "https://localhost:8080/"
        },
        "outputId": "e0acd5a5-cf8c-4d69-b4a3-989fcf6dd6bc"
      },
      "execution_count": null,
      "outputs": [
        {
          "output_type": "stream",
          "name": "stdout",
          "text": [
            "['Estamos', 'fazendo', 'um', 'projeto', 'pro', 'BTG', '!', 'Ele', 'é', 'muito', 'interessante', '.']\n"
          ]
        }
      ]
    },
    {
      "cell_type": "code",
      "source": [
        "teste_tokenizacao2 = \"Estamos fazendo um projeto pro BTG! ! Ele é muito interessante.\"\n",
        "teste_ja_tokenizado2 = tokenizer(teste_tokenizacao2)\n",
        "print(teste_ja_tokenizado2)"
      ],
      "metadata": {
        "id": "QIIhZR_Cs9yl",
        "colab": {
          "base_uri": "https://localhost:8080/"
        },
        "outputId": "40dcb41b-7ead-484a-a306-fc73bfbb867c"
      },
      "execution_count": null,
      "outputs": [
        {
          "output_type": "stream",
          "name": "stdout",
          "text": [
            "['Estamos', 'fazendo', 'um', 'projeto', 'pro', 'BTG', '!', '!', 'Ele', 'é', 'muito', 'interessante', '.']\n"
          ]
        }
      ]
    },
    {
      "cell_type": "code",
      "source": [
        "teste_tokenizacao3 = \"Estamos fazendo um projeto pro BTG!! Ele é muito interessante.\"\n",
        "teste_ja_tokenizado3 = tokenizer(teste_tokenizacao3)\n",
        "print(teste_ja_tokenizado3)"
      ],
      "metadata": {
        "id": "QD7bL-EOtFiM",
        "colab": {
          "base_uri": "https://localhost:8080/"
        },
        "outputId": "680cb0d6-cb57-4d70-cafc-b192c98f93b9"
      },
      "execution_count": null,
      "outputs": [
        {
          "output_type": "stream",
          "name": "stdout",
          "text": [
            "['Estamos', 'fazendo', 'um', 'projeto', 'pro', 'BTG', '!', '!', 'Ele', 'é', 'muito', 'interessante', '.']\n"
          ]
        }
      ]
    },
    {
      "cell_type": "code",
      "source": [
        "teste_tokenizacao4 = \"!Estamos fazendo um projeto pro BTG! Ele é muito interessante.\"\n",
        "teste_ja_tokenizado4 = tokenizer(teste_tokenizacao4)\n",
        "print(teste_ja_tokenizado4)"
      ],
      "metadata": {
        "id": "7jn4pBJYtKgc",
        "colab": {
          "base_uri": "https://localhost:8080/"
        },
        "outputId": "8d6690ee-34a4-4b2f-dc6d-ed7abfc0af0e"
      },
      "execution_count": null,
      "outputs": [
        {
          "output_type": "stream",
          "name": "stdout",
          "text": [
            "['!', 'Estamos', 'fazendo', 'um', 'projeto', 'pro', 'BTG', '!', 'Ele', 'é', 'muito', 'interessante', '.']\n"
          ]
        }
      ]
    },
    {
      "cell_type": "markdown",
      "source": [
        "#### 5.2 Tratamento de emoji"
      ],
      "metadata": {
        "id": "GE-Pq-CyMSZk"
      }
    },
    {
      "cell_type": "code",
      "source": [],
      "metadata": {
        "id": "T1gWdLcBMXtx"
      },
      "execution_count": null,
      "outputs": []
    },
    {
      "cell_type": "markdown",
      "source": [
        "#### 5.3 Remoção de stopwords"
      ],
      "metadata": {
        "id": "1mONzt0cOJsg"
      }
    },
    {
      "cell_type": "code",
      "source": [
        "teste_sem_stop_words = remove_stopwords(teste_ja_tokenizado)\n",
        "print(teste_sem_stop_words)"
      ],
      "metadata": {
        "id": "pVawN0Rvs5ff",
        "colab": {
          "base_uri": "https://localhost:8080/"
        },
        "outputId": "6c66c183-ea81-4910-c696-943689a043b7"
      },
      "execution_count": null,
      "outputs": [
        {
          "output_type": "stream",
          "name": "stdout",
          "text": [
            "['fazendo', 'projeto', 'pro', 'btg', '!', 'interessante', '.']\n"
          ]
        }
      ]
    },
    {
      "cell_type": "code",
      "source": [
        "teste_sem_stop_words2 = remove_stopwords(teste_ja_tokenizado2)\n",
        "print(teste_sem_stop_words2)"
      ],
      "metadata": {
        "id": "9Btg5QgJyBOH",
        "colab": {
          "base_uri": "https://localhost:8080/"
        },
        "outputId": "61377730-e3cb-4039-ddd1-7fa36cd62dce"
      },
      "execution_count": null,
      "outputs": [
        {
          "output_type": "stream",
          "name": "stdout",
          "text": [
            "['fazendo', 'projeto', 'pro', 'btg', '!', '!', 'interessante', '.']\n"
          ]
        }
      ]
    },
    {
      "cell_type": "code",
      "source": [
        "teste_sem_stop_words3 = remove_stopwords(teste_ja_tokenizado3)\n",
        "print(teste_sem_stop_words3)"
      ],
      "metadata": {
        "id": "7Q1GTMDByBEY",
        "colab": {
          "base_uri": "https://localhost:8080/"
        },
        "outputId": "d9f58ffc-ab6d-457d-e6bb-002daba47036"
      },
      "execution_count": null,
      "outputs": [
        {
          "output_type": "stream",
          "name": "stdout",
          "text": [
            "['fazendo', 'projeto', 'pro', 'btg', '!', '!', 'interessante', '.']\n"
          ]
        }
      ]
    },
    {
      "cell_type": "code",
      "source": [
        "teste_sem_stop_words4 = remove_stopwords(teste_ja_tokenizado4)\n",
        "print(teste_sem_stop_words4)"
      ],
      "metadata": {
        "id": "9JURnyI3yA8I",
        "colab": {
          "base_uri": "https://localhost:8080/"
        },
        "outputId": "b8ccc909-7773-4c20-d9af-20c6e1b137e1"
      },
      "execution_count": null,
      "outputs": [
        {
          "output_type": "stream",
          "name": "stdout",
          "text": [
            "['!', 'fazendo', 'projeto', 'pro', 'btg', '!', 'interessante', '.']\n"
          ]
        }
      ]
    },
    {
      "cell_type": "markdown",
      "source": [
        "#### 5.4 Remoção de acentos\n"
      ],
      "metadata": {
        "id": "p1Qi3wnGGkHy"
      }
    },
    {
      "cell_type": "code",
      "source": [
        "teste_sem_acento = remover_pontuacao(teste_sem_stop_words)\n",
        "print(teste_sem_acento)"
      ],
      "metadata": {
        "id": "UvbwUkP7ut_E",
        "colab": {
          "base_uri": "https://localhost:8080/"
        },
        "outputId": "98ad1226-644a-41e5-de12-5e3851bf19f3"
      },
      "execution_count": null,
      "outputs": [
        {
          "output_type": "stream",
          "name": "stdout",
          "text": [
            "['fazendo', 'projeto', 'pro', 'btg', 'interessante']\n"
          ]
        }
      ]
    },
    {
      "cell_type": "markdown",
      "source": [
        "#### 5.5 Lematização\n"
      ],
      "metadata": {
        "id": "553LJRwhGAKx"
      }
    },
    {
      "cell_type": "code",
      "source": [
        "teste_com_lematizacao = ['meninas', 'elefantes', 'portugues', 'running']\n",
        "lemmatized_tokens = lemmatize_text(teste_com_lematizacao)\n",
        "print(lemmatized_tokens)"
      ],
      "metadata": {
        "id": "IbzwRS1RvF8X",
        "colab": {
          "base_uri": "https://localhost:8080/"
        },
        "outputId": "24c80f1a-2304-402c-c54c-e5d314e594df"
      },
      "execution_count": null,
      "outputs": [
        {
          "output_type": "stream",
          "name": "stdout",
          "text": [
            "['menina', 'elefante', 'portugue', 'running']\n"
          ]
        }
      ]
    },
    {
      "cell_type": "markdown",
      "source": [
        "# 6. Processamento / Demonstrações"
      ],
      "metadata": {
        "id": "JwdyKZ0apsPR"
      }
    },
    {
      "cell_type": "markdown",
      "source": [
        "Nessa seção de processamento, nós aplicamos as funções criadas anteriormente e aplicamos elas no dataframe, como forma de demonstrar os resultados efetivos.\n",
        "- tokenized = coluna tokenizada\n",
        "- no_stopwords = coluna tokenizada e sem stopwords\n",
        "- texto_processed = coluna tokenizada, sem stopwords e sem acentuações\n",
        "- stemmed = coluna tokenizada, sem stopwords, sem acentuações e com o stemming aplicado"
      ],
      "metadata": {
        "id": "yiNk3so04dGw"
      }
    },
    {
      "cell_type": "code",
      "source": [
        "data_limpo['tokenized'] = data_limpo['texto'].apply(tokenizer)\n",
        "data_limpo "
      ],
      "metadata": {
        "id": "FcY8EB6RORTO",
        "colab": {
          "base_uri": "https://localhost:8080/",
          "height": 817
        },
        "outputId": "ab15eb35-bdec-4cfb-85eb-0b460264734c"
      },
      "execution_count": null,
      "outputs": [
        {
          "output_type": "stream",
          "name": "stderr",
          "text": [
            "<ipython-input-91-ae72bb018440>:1: SettingWithCopyWarning: \n",
            "A value is trying to be set on a copy of a slice from a DataFrame.\n",
            "Try using .loc[row_indexer,col_indexer] = value instead\n",
            "\n",
            "See the caveats in the documentation: https://pandas.pydata.org/pandas-docs/stable/user_guide/indexing.html#returning-a-view-versus-a-copy\n",
            "  data_limpo['tokenized'] = data_limpo['texto'].apply(tokenizer)\n"
          ]
        },
        {
          "output_type": "execute_result",
          "data": {
            "text/plain": [
              "               dataPublicada             autor  \\\n",
              "0      \"2022-03-04 09:38:00\"        v8_capital   \n",
              "1      \"2022-03-04 09:29:00\"     winthegame_of   \n",
              "2      \"2022-03-04 09:20:00\"        marta_bego   \n",
              "3      \"2022-03-04 08:36:00\"        lmviapiana   \n",
              "4      \"2022-03-03 21:10:00\"      vanilson_dos   \n",
              "...                      ...               ...   \n",
              "12350  \"2022-11-30 11:51:00\"       onixcapital   \n",
              "12351  \"2022-11-30 12:25:00\"  amgcapitalinvest   \n",
              "12352  \"2022-11-30 12:18:00\"     jayipacderota   \n",
              "12353  \"2022-11-30 12:50:00\"   moinho_cultural   \n",
              "12354  \"2022-11-30 14:27:00\"         bfmarilia   \n",
              "\n",
              "                                                   texto sentimento  \\\n",
              "0      Confira os resultados dos nossos fundos no mês...    NEUTRAL   \n",
              "1      A Alvarez & Marsal estará conosco no Sportainm...    NEUTRAL   \n",
              "2      #Repost btgpactual with make_repost ・・・ Entend...    NEUTRAL   \n",
              "3                                   Minuto touro de ouro   POSITIVE   \n",
              "4                                       @ricktolledo Sim    NEUTRAL   \n",
              "...                                                  ...        ...   \n",
              "12350  Uma noite de encontros e muito conhecimento on...    NEUTRAL   \n",
              "12351  Erros financeiros para eliminar antes dos 30 a...    NEUTRAL   \n",
              "12352  Estou muito grato por todo o esforço que você ...   POSITIVE   \n",
              "12353  \"👉GUADAKAN está chegando!!!!  A aula pública e...    NEUTRAL   \n",
              "12354  @btgpactual pq o morning call não está mais ap...   NEGATIVE   \n",
              "\n",
              "      tipoInteracao                                          tokenized  \n",
              "0          marcação  [Confira, os, resultados, dos, nossos, fundos,...  \n",
              "1          marcação  [A, Alvarez, &, Marsal, estará, conosco, no, S...  \n",
              "2          marcação  [#, Repost, btgpactual, with, make_repost, ・・・...  \n",
              "3        comentário                          [Minuto, touro, de, ouro]  \n",
              "4          resposta                              [@, ricktolledo, Sim]  \n",
              "...             ...                                                ...  \n",
              "12350      marcação  [Uma, noite, de, encontros, e, muito, conhecim...  \n",
              "12351      marcação  [Erros, financeiros, para, eliminar, antes, do...  \n",
              "12352    comentário  [Estou, muito, grato, por, todo, o, esforço, q...  \n",
              "12353      marcação  [``, 👉GUADAKAN, está, chegando, !, !, !, !, A,...  \n",
              "12354    comentário  [@, btgpactual, pq, o, morning, call, não, est...  \n",
              "\n",
              "[12193 rows x 6 columns]"
            ],
            "text/html": [
              "\n",
              "  <div id=\"df-cad1baa8-e0d8-48a4-af4b-c911e35138c9\">\n",
              "    <div class=\"colab-df-container\">\n",
              "      <div>\n",
              "<style scoped>\n",
              "    .dataframe tbody tr th:only-of-type {\n",
              "        vertical-align: middle;\n",
              "    }\n",
              "\n",
              "    .dataframe tbody tr th {\n",
              "        vertical-align: top;\n",
              "    }\n",
              "\n",
              "    .dataframe thead th {\n",
              "        text-align: right;\n",
              "    }\n",
              "</style>\n",
              "<table border=\"1\" class=\"dataframe\">\n",
              "  <thead>\n",
              "    <tr style=\"text-align: right;\">\n",
              "      <th></th>\n",
              "      <th>dataPublicada</th>\n",
              "      <th>autor</th>\n",
              "      <th>texto</th>\n",
              "      <th>sentimento</th>\n",
              "      <th>tipoInteracao</th>\n",
              "      <th>tokenized</th>\n",
              "    </tr>\n",
              "  </thead>\n",
              "  <tbody>\n",
              "    <tr>\n",
              "      <th>0</th>\n",
              "      <td>\"2022-03-04 09:38:00\"</td>\n",
              "      <td>v8_capital</td>\n",
              "      <td>Confira os resultados dos nossos fundos no mês...</td>\n",
              "      <td>NEUTRAL</td>\n",
              "      <td>marcação</td>\n",
              "      <td>[Confira, os, resultados, dos, nossos, fundos,...</td>\n",
              "    </tr>\n",
              "    <tr>\n",
              "      <th>1</th>\n",
              "      <td>\"2022-03-04 09:29:00\"</td>\n",
              "      <td>winthegame_of</td>\n",
              "      <td>A Alvarez &amp; Marsal estará conosco no Sportainm...</td>\n",
              "      <td>NEUTRAL</td>\n",
              "      <td>marcação</td>\n",
              "      <td>[A, Alvarez, &amp;, Marsal, estará, conosco, no, S...</td>\n",
              "    </tr>\n",
              "    <tr>\n",
              "      <th>2</th>\n",
              "      <td>\"2022-03-04 09:20:00\"</td>\n",
              "      <td>marta_bego</td>\n",
              "      <td>#Repost btgpactual with make_repost ・・・ Entend...</td>\n",
              "      <td>NEUTRAL</td>\n",
              "      <td>marcação</td>\n",
              "      <td>[#, Repost, btgpactual, with, make_repost, ・・・...</td>\n",
              "    </tr>\n",
              "    <tr>\n",
              "      <th>3</th>\n",
              "      <td>\"2022-03-04 08:36:00\"</td>\n",
              "      <td>lmviapiana</td>\n",
              "      <td>Minuto touro de ouro</td>\n",
              "      <td>POSITIVE</td>\n",
              "      <td>comentário</td>\n",
              "      <td>[Minuto, touro, de, ouro]</td>\n",
              "    </tr>\n",
              "    <tr>\n",
              "      <th>4</th>\n",
              "      <td>\"2022-03-03 21:10:00\"</td>\n",
              "      <td>vanilson_dos</td>\n",
              "      <td>@ricktolledo Sim</td>\n",
              "      <td>NEUTRAL</td>\n",
              "      <td>resposta</td>\n",
              "      <td>[@, ricktolledo, Sim]</td>\n",
              "    </tr>\n",
              "    <tr>\n",
              "      <th>...</th>\n",
              "      <td>...</td>\n",
              "      <td>...</td>\n",
              "      <td>...</td>\n",
              "      <td>...</td>\n",
              "      <td>...</td>\n",
              "      <td>...</td>\n",
              "    </tr>\n",
              "    <tr>\n",
              "      <th>12350</th>\n",
              "      <td>\"2022-11-30 11:51:00\"</td>\n",
              "      <td>onixcapital</td>\n",
              "      <td>Uma noite de encontros e muito conhecimento on...</td>\n",
              "      <td>NEUTRAL</td>\n",
              "      <td>marcação</td>\n",
              "      <td>[Uma, noite, de, encontros, e, muito, conhecim...</td>\n",
              "    </tr>\n",
              "    <tr>\n",
              "      <th>12351</th>\n",
              "      <td>\"2022-11-30 12:25:00\"</td>\n",
              "      <td>amgcapitalinvest</td>\n",
              "      <td>Erros financeiros para eliminar antes dos 30 a...</td>\n",
              "      <td>NEUTRAL</td>\n",
              "      <td>marcação</td>\n",
              "      <td>[Erros, financeiros, para, eliminar, antes, do...</td>\n",
              "    </tr>\n",
              "    <tr>\n",
              "      <th>12352</th>\n",
              "      <td>\"2022-11-30 12:18:00\"</td>\n",
              "      <td>jayipacderota</td>\n",
              "      <td>Estou muito grato por todo o esforço que você ...</td>\n",
              "      <td>POSITIVE</td>\n",
              "      <td>comentário</td>\n",
              "      <td>[Estou, muito, grato, por, todo, o, esforço, q...</td>\n",
              "    </tr>\n",
              "    <tr>\n",
              "      <th>12353</th>\n",
              "      <td>\"2022-11-30 12:50:00\"</td>\n",
              "      <td>moinho_cultural</td>\n",
              "      <td>\"👉GUADAKAN está chegando!!!!  A aula pública e...</td>\n",
              "      <td>NEUTRAL</td>\n",
              "      <td>marcação</td>\n",
              "      <td>[``, 👉GUADAKAN, está, chegando, !, !, !, !, A,...</td>\n",
              "    </tr>\n",
              "    <tr>\n",
              "      <th>12354</th>\n",
              "      <td>\"2022-11-30 14:27:00\"</td>\n",
              "      <td>bfmarilia</td>\n",
              "      <td>@btgpactual pq o morning call não está mais ap...</td>\n",
              "      <td>NEGATIVE</td>\n",
              "      <td>comentário</td>\n",
              "      <td>[@, btgpactual, pq, o, morning, call, não, est...</td>\n",
              "    </tr>\n",
              "  </tbody>\n",
              "</table>\n",
              "<p>12193 rows × 6 columns</p>\n",
              "</div>\n",
              "      <button class=\"colab-df-convert\" onclick=\"convertToInteractive('df-cad1baa8-e0d8-48a4-af4b-c911e35138c9')\"\n",
              "              title=\"Convert this dataframe to an interactive table.\"\n",
              "              style=\"display:none;\">\n",
              "        \n",
              "  <svg xmlns=\"http://www.w3.org/2000/svg\" height=\"24px\"viewBox=\"0 0 24 24\"\n",
              "       width=\"24px\">\n",
              "    <path d=\"M0 0h24v24H0V0z\" fill=\"none\"/>\n",
              "    <path d=\"M18.56 5.44l.94 2.06.94-2.06 2.06-.94-2.06-.94-.94-2.06-.94 2.06-2.06.94zm-11 1L8.5 8.5l.94-2.06 2.06-.94-2.06-.94L8.5 2.5l-.94 2.06-2.06.94zm10 10l.94 2.06.94-2.06 2.06-.94-2.06-.94-.94-2.06-.94 2.06-2.06.94z\"/><path d=\"M17.41 7.96l-1.37-1.37c-.4-.4-.92-.59-1.43-.59-.52 0-1.04.2-1.43.59L10.3 9.45l-7.72 7.72c-.78.78-.78 2.05 0 2.83L4 21.41c.39.39.9.59 1.41.59.51 0 1.02-.2 1.41-.59l7.78-7.78 2.81-2.81c.8-.78.8-2.07 0-2.86zM5.41 20L4 18.59l7.72-7.72 1.47 1.35L5.41 20z\"/>\n",
              "  </svg>\n",
              "      </button>\n",
              "      \n",
              "  <style>\n",
              "    .colab-df-container {\n",
              "      display:flex;\n",
              "      flex-wrap:wrap;\n",
              "      gap: 12px;\n",
              "    }\n",
              "\n",
              "    .colab-df-convert {\n",
              "      background-color: #E8F0FE;\n",
              "      border: none;\n",
              "      border-radius: 50%;\n",
              "      cursor: pointer;\n",
              "      display: none;\n",
              "      fill: #1967D2;\n",
              "      height: 32px;\n",
              "      padding: 0 0 0 0;\n",
              "      width: 32px;\n",
              "    }\n",
              "\n",
              "    .colab-df-convert:hover {\n",
              "      background-color: #E2EBFA;\n",
              "      box-shadow: 0px 1px 2px rgba(60, 64, 67, 0.3), 0px 1px 3px 1px rgba(60, 64, 67, 0.15);\n",
              "      fill: #174EA6;\n",
              "    }\n",
              "\n",
              "    [theme=dark] .colab-df-convert {\n",
              "      background-color: #3B4455;\n",
              "      fill: #D2E3FC;\n",
              "    }\n",
              "\n",
              "    [theme=dark] .colab-df-convert:hover {\n",
              "      background-color: #434B5C;\n",
              "      box-shadow: 0px 1px 3px 1px rgba(0, 0, 0, 0.15);\n",
              "      filter: drop-shadow(0px 1px 2px rgba(0, 0, 0, 0.3));\n",
              "      fill: #FFFFFF;\n",
              "    }\n",
              "  </style>\n",
              "\n",
              "      <script>\n",
              "        const buttonEl =\n",
              "          document.querySelector('#df-cad1baa8-e0d8-48a4-af4b-c911e35138c9 button.colab-df-convert');\n",
              "        buttonEl.style.display =\n",
              "          google.colab.kernel.accessAllowed ? 'block' : 'none';\n",
              "\n",
              "        async function convertToInteractive(key) {\n",
              "          const element = document.querySelector('#df-cad1baa8-e0d8-48a4-af4b-c911e35138c9');\n",
              "          const dataTable =\n",
              "            await google.colab.kernel.invokeFunction('convertToInteractive',\n",
              "                                                     [key], {});\n",
              "          if (!dataTable) return;\n",
              "\n",
              "          const docLinkHtml = 'Like what you see? Visit the ' +\n",
              "            '<a target=\"_blank\" href=https://colab.research.google.com/notebooks/data_table.ipynb>data table notebook</a>'\n",
              "            + ' to learn more about interactive tables.';\n",
              "          element.innerHTML = '';\n",
              "          dataTable['output_type'] = 'display_data';\n",
              "          await google.colab.output.renderOutput(dataTable, element);\n",
              "          const docLink = document.createElement('div');\n",
              "          docLink.innerHTML = docLinkHtml;\n",
              "          element.appendChild(docLink);\n",
              "        }\n",
              "      </script>\n",
              "    </div>\n",
              "  </div>\n",
              "  "
            ]
          },
          "metadata": {},
          "execution_count": 91
        }
      ]
    },
    {
      "cell_type": "code",
      "source": [
        "data_limpo['no_stopwords'] = data_limpo['tokenized'].apply(remove_stopwords)\n",
        "data_limpo"
      ],
      "metadata": {
        "id": "CgGkVcC5qssr",
        "colab": {
          "base_uri": "https://localhost:8080/",
          "height": 1000
        },
        "outputId": "fdf30826-e341-4f42-cbe1-cc6cace8d07f"
      },
      "execution_count": null,
      "outputs": [
        {
          "output_type": "stream",
          "name": "stderr",
          "text": [
            "<ipython-input-92-2fab3eaca743>:1: SettingWithCopyWarning: \n",
            "A value is trying to be set on a copy of a slice from a DataFrame.\n",
            "Try using .loc[row_indexer,col_indexer] = value instead\n",
            "\n",
            "See the caveats in the documentation: https://pandas.pydata.org/pandas-docs/stable/user_guide/indexing.html#returning-a-view-versus-a-copy\n",
            "  data_limpo['no_stopwords'] = data_limpo['tokenized'].apply(remove_stopwords)\n"
          ]
        },
        {
          "output_type": "execute_result",
          "data": {
            "text/plain": [
              "               dataPublicada             autor  \\\n",
              "0      \"2022-03-04 09:38:00\"        v8_capital   \n",
              "1      \"2022-03-04 09:29:00\"     winthegame_of   \n",
              "2      \"2022-03-04 09:20:00\"        marta_bego   \n",
              "3      \"2022-03-04 08:36:00\"        lmviapiana   \n",
              "4      \"2022-03-03 21:10:00\"      vanilson_dos   \n",
              "...                      ...               ...   \n",
              "12350  \"2022-11-30 11:51:00\"       onixcapital   \n",
              "12351  \"2022-11-30 12:25:00\"  amgcapitalinvest   \n",
              "12352  \"2022-11-30 12:18:00\"     jayipacderota   \n",
              "12353  \"2022-11-30 12:50:00\"   moinho_cultural   \n",
              "12354  \"2022-11-30 14:27:00\"         bfmarilia   \n",
              "\n",
              "                                                   texto sentimento  \\\n",
              "0      Confira os resultados dos nossos fundos no mês...    NEUTRAL   \n",
              "1      A Alvarez & Marsal estará conosco no Sportainm...    NEUTRAL   \n",
              "2      #Repost btgpactual with make_repost ・・・ Entend...    NEUTRAL   \n",
              "3                                   Minuto touro de ouro   POSITIVE   \n",
              "4                                       @ricktolledo Sim    NEUTRAL   \n",
              "...                                                  ...        ...   \n",
              "12350  Uma noite de encontros e muito conhecimento on...    NEUTRAL   \n",
              "12351  Erros financeiros para eliminar antes dos 30 a...    NEUTRAL   \n",
              "12352  Estou muito grato por todo o esforço que você ...   POSITIVE   \n",
              "12353  \"👉GUADAKAN está chegando!!!!  A aula pública e...    NEUTRAL   \n",
              "12354  @btgpactual pq o morning call não está mais ap...   NEGATIVE   \n",
              "\n",
              "      tipoInteracao                                          tokenized  \\\n",
              "0          marcação  [Confira, os, resultados, dos, nossos, fundos,...   \n",
              "1          marcação  [A, Alvarez, &, Marsal, estará, conosco, no, S...   \n",
              "2          marcação  [#, Repost, btgpactual, with, make_repost, ・・・...   \n",
              "3        comentário                          [Minuto, touro, de, ouro]   \n",
              "4          resposta                              [@, ricktolledo, Sim]   \n",
              "...             ...                                                ...   \n",
              "12350      marcação  [Uma, noite, de, encontros, e, muito, conhecim...   \n",
              "12351      marcação  [Erros, financeiros, para, eliminar, antes, do...   \n",
              "12352    comentário  [Estou, muito, grato, por, todo, o, esforço, q...   \n",
              "12353      marcação  [``, 👉GUADAKAN, está, chegando, !, !, !, !, A,...   \n",
              "12354    comentário  [@, btgpactual, pq, o, morning, call, não, est...   \n",
              "\n",
              "                                            no_stopwords  \n",
              "0      [confira, resultados, fundos, mês, fevereiro/2...  \n",
              "1      [alvarez, &, marsal, estará, conosco, sportain...  \n",
              "2      [#, repost, btgpactual, with, make_repost, ・・・...  \n",
              "3                                  [minuto, touro, ouro]  \n",
              "4                                  [@, ricktolledo, sim]  \n",
              "...                                                  ...  \n",
              "12350  [noite, encontros, conhecimento, onde, cliente...  \n",
              "12351  [erros, financeiros, eliminar, antes, 30, anos...  \n",
              "12352  [grato, todo, esforço, rendeu, investimento, r...  \n",
              "12353  [``, 👉guadakan, chegando, !, !, !, !, aula, pú...  \n",
              "12354  [@, btgpactual, pq, morning, call, aparecendo,...  \n",
              "\n",
              "[12193 rows x 7 columns]"
            ],
            "text/html": [
              "\n",
              "  <div id=\"df-41d57478-c57a-4d71-af73-563b474fa8e9\">\n",
              "    <div class=\"colab-df-container\">\n",
              "      <div>\n",
              "<style scoped>\n",
              "    .dataframe tbody tr th:only-of-type {\n",
              "        vertical-align: middle;\n",
              "    }\n",
              "\n",
              "    .dataframe tbody tr th {\n",
              "        vertical-align: top;\n",
              "    }\n",
              "\n",
              "    .dataframe thead th {\n",
              "        text-align: right;\n",
              "    }\n",
              "</style>\n",
              "<table border=\"1\" class=\"dataframe\">\n",
              "  <thead>\n",
              "    <tr style=\"text-align: right;\">\n",
              "      <th></th>\n",
              "      <th>dataPublicada</th>\n",
              "      <th>autor</th>\n",
              "      <th>texto</th>\n",
              "      <th>sentimento</th>\n",
              "      <th>tipoInteracao</th>\n",
              "      <th>tokenized</th>\n",
              "      <th>no_stopwords</th>\n",
              "    </tr>\n",
              "  </thead>\n",
              "  <tbody>\n",
              "    <tr>\n",
              "      <th>0</th>\n",
              "      <td>\"2022-03-04 09:38:00\"</td>\n",
              "      <td>v8_capital</td>\n",
              "      <td>Confira os resultados dos nossos fundos no mês...</td>\n",
              "      <td>NEUTRAL</td>\n",
              "      <td>marcação</td>\n",
              "      <td>[Confira, os, resultados, dos, nossos, fundos,...</td>\n",
              "      <td>[confira, resultados, fundos, mês, fevereiro/2...</td>\n",
              "    </tr>\n",
              "    <tr>\n",
              "      <th>1</th>\n",
              "      <td>\"2022-03-04 09:29:00\"</td>\n",
              "      <td>winthegame_of</td>\n",
              "      <td>A Alvarez &amp; Marsal estará conosco no Sportainm...</td>\n",
              "      <td>NEUTRAL</td>\n",
              "      <td>marcação</td>\n",
              "      <td>[A, Alvarez, &amp;, Marsal, estará, conosco, no, S...</td>\n",
              "      <td>[alvarez, &amp;, marsal, estará, conosco, sportain...</td>\n",
              "    </tr>\n",
              "    <tr>\n",
              "      <th>2</th>\n",
              "      <td>\"2022-03-04 09:20:00\"</td>\n",
              "      <td>marta_bego</td>\n",
              "      <td>#Repost btgpactual with make_repost ・・・ Entend...</td>\n",
              "      <td>NEUTRAL</td>\n",
              "      <td>marcação</td>\n",
              "      <td>[#, Repost, btgpactual, with, make_repost, ・・・...</td>\n",
              "      <td>[#, repost, btgpactual, with, make_repost, ・・・...</td>\n",
              "    </tr>\n",
              "    <tr>\n",
              "      <th>3</th>\n",
              "      <td>\"2022-03-04 08:36:00\"</td>\n",
              "      <td>lmviapiana</td>\n",
              "      <td>Minuto touro de ouro</td>\n",
              "      <td>POSITIVE</td>\n",
              "      <td>comentário</td>\n",
              "      <td>[Minuto, touro, de, ouro]</td>\n",
              "      <td>[minuto, touro, ouro]</td>\n",
              "    </tr>\n",
              "    <tr>\n",
              "      <th>4</th>\n",
              "      <td>\"2022-03-03 21:10:00\"</td>\n",
              "      <td>vanilson_dos</td>\n",
              "      <td>@ricktolledo Sim</td>\n",
              "      <td>NEUTRAL</td>\n",
              "      <td>resposta</td>\n",
              "      <td>[@, ricktolledo, Sim]</td>\n",
              "      <td>[@, ricktolledo, sim]</td>\n",
              "    </tr>\n",
              "    <tr>\n",
              "      <th>...</th>\n",
              "      <td>...</td>\n",
              "      <td>...</td>\n",
              "      <td>...</td>\n",
              "      <td>...</td>\n",
              "      <td>...</td>\n",
              "      <td>...</td>\n",
              "      <td>...</td>\n",
              "    </tr>\n",
              "    <tr>\n",
              "      <th>12350</th>\n",
              "      <td>\"2022-11-30 11:51:00\"</td>\n",
              "      <td>onixcapital</td>\n",
              "      <td>Uma noite de encontros e muito conhecimento on...</td>\n",
              "      <td>NEUTRAL</td>\n",
              "      <td>marcação</td>\n",
              "      <td>[Uma, noite, de, encontros, e, muito, conhecim...</td>\n",
              "      <td>[noite, encontros, conhecimento, onde, cliente...</td>\n",
              "    </tr>\n",
              "    <tr>\n",
              "      <th>12351</th>\n",
              "      <td>\"2022-11-30 12:25:00\"</td>\n",
              "      <td>amgcapitalinvest</td>\n",
              "      <td>Erros financeiros para eliminar antes dos 30 a...</td>\n",
              "      <td>NEUTRAL</td>\n",
              "      <td>marcação</td>\n",
              "      <td>[Erros, financeiros, para, eliminar, antes, do...</td>\n",
              "      <td>[erros, financeiros, eliminar, antes, 30, anos...</td>\n",
              "    </tr>\n",
              "    <tr>\n",
              "      <th>12352</th>\n",
              "      <td>\"2022-11-30 12:18:00\"</td>\n",
              "      <td>jayipacderota</td>\n",
              "      <td>Estou muito grato por todo o esforço que você ...</td>\n",
              "      <td>POSITIVE</td>\n",
              "      <td>comentário</td>\n",
              "      <td>[Estou, muito, grato, por, todo, o, esforço, q...</td>\n",
              "      <td>[grato, todo, esforço, rendeu, investimento, r...</td>\n",
              "    </tr>\n",
              "    <tr>\n",
              "      <th>12353</th>\n",
              "      <td>\"2022-11-30 12:50:00\"</td>\n",
              "      <td>moinho_cultural</td>\n",
              "      <td>\"👉GUADAKAN está chegando!!!!  A aula pública e...</td>\n",
              "      <td>NEUTRAL</td>\n",
              "      <td>marcação</td>\n",
              "      <td>[``, 👉GUADAKAN, está, chegando, !, !, !, !, A,...</td>\n",
              "      <td>[``, 👉guadakan, chegando, !, !, !, !, aula, pú...</td>\n",
              "    </tr>\n",
              "    <tr>\n",
              "      <th>12354</th>\n",
              "      <td>\"2022-11-30 14:27:00\"</td>\n",
              "      <td>bfmarilia</td>\n",
              "      <td>@btgpactual pq o morning call não está mais ap...</td>\n",
              "      <td>NEGATIVE</td>\n",
              "      <td>comentário</td>\n",
              "      <td>[@, btgpactual, pq, o, morning, call, não, est...</td>\n",
              "      <td>[@, btgpactual, pq, morning, call, aparecendo,...</td>\n",
              "    </tr>\n",
              "  </tbody>\n",
              "</table>\n",
              "<p>12193 rows × 7 columns</p>\n",
              "</div>\n",
              "      <button class=\"colab-df-convert\" onclick=\"convertToInteractive('df-41d57478-c57a-4d71-af73-563b474fa8e9')\"\n",
              "              title=\"Convert this dataframe to an interactive table.\"\n",
              "              style=\"display:none;\">\n",
              "        \n",
              "  <svg xmlns=\"http://www.w3.org/2000/svg\" height=\"24px\"viewBox=\"0 0 24 24\"\n",
              "       width=\"24px\">\n",
              "    <path d=\"M0 0h24v24H0V0z\" fill=\"none\"/>\n",
              "    <path d=\"M18.56 5.44l.94 2.06.94-2.06 2.06-.94-2.06-.94-.94-2.06-.94 2.06-2.06.94zm-11 1L8.5 8.5l.94-2.06 2.06-.94-2.06-.94L8.5 2.5l-.94 2.06-2.06.94zm10 10l.94 2.06.94-2.06 2.06-.94-2.06-.94-.94-2.06-.94 2.06-2.06.94z\"/><path d=\"M17.41 7.96l-1.37-1.37c-.4-.4-.92-.59-1.43-.59-.52 0-1.04.2-1.43.59L10.3 9.45l-7.72 7.72c-.78.78-.78 2.05 0 2.83L4 21.41c.39.39.9.59 1.41.59.51 0 1.02-.2 1.41-.59l7.78-7.78 2.81-2.81c.8-.78.8-2.07 0-2.86zM5.41 20L4 18.59l7.72-7.72 1.47 1.35L5.41 20z\"/>\n",
              "  </svg>\n",
              "      </button>\n",
              "      \n",
              "  <style>\n",
              "    .colab-df-container {\n",
              "      display:flex;\n",
              "      flex-wrap:wrap;\n",
              "      gap: 12px;\n",
              "    }\n",
              "\n",
              "    .colab-df-convert {\n",
              "      background-color: #E8F0FE;\n",
              "      border: none;\n",
              "      border-radius: 50%;\n",
              "      cursor: pointer;\n",
              "      display: none;\n",
              "      fill: #1967D2;\n",
              "      height: 32px;\n",
              "      padding: 0 0 0 0;\n",
              "      width: 32px;\n",
              "    }\n",
              "\n",
              "    .colab-df-convert:hover {\n",
              "      background-color: #E2EBFA;\n",
              "      box-shadow: 0px 1px 2px rgba(60, 64, 67, 0.3), 0px 1px 3px 1px rgba(60, 64, 67, 0.15);\n",
              "      fill: #174EA6;\n",
              "    }\n",
              "\n",
              "    [theme=dark] .colab-df-convert {\n",
              "      background-color: #3B4455;\n",
              "      fill: #D2E3FC;\n",
              "    }\n",
              "\n",
              "    [theme=dark] .colab-df-convert:hover {\n",
              "      background-color: #434B5C;\n",
              "      box-shadow: 0px 1px 3px 1px rgba(0, 0, 0, 0.15);\n",
              "      filter: drop-shadow(0px 1px 2px rgba(0, 0, 0, 0.3));\n",
              "      fill: #FFFFFF;\n",
              "    }\n",
              "  </style>\n",
              "\n",
              "      <script>\n",
              "        const buttonEl =\n",
              "          document.querySelector('#df-41d57478-c57a-4d71-af73-563b474fa8e9 button.colab-df-convert');\n",
              "        buttonEl.style.display =\n",
              "          google.colab.kernel.accessAllowed ? 'block' : 'none';\n",
              "\n",
              "        async function convertToInteractive(key) {\n",
              "          const element = document.querySelector('#df-41d57478-c57a-4d71-af73-563b474fa8e9');\n",
              "          const dataTable =\n",
              "            await google.colab.kernel.invokeFunction('convertToInteractive',\n",
              "                                                     [key], {});\n",
              "          if (!dataTable) return;\n",
              "\n",
              "          const docLinkHtml = 'Like what you see? Visit the ' +\n",
              "            '<a target=\"_blank\" href=https://colab.research.google.com/notebooks/data_table.ipynb>data table notebook</a>'\n",
              "            + ' to learn more about interactive tables.';\n",
              "          element.innerHTML = '';\n",
              "          dataTable['output_type'] = 'display_data';\n",
              "          await google.colab.output.renderOutput(dataTable, element);\n",
              "          const docLink = document.createElement('div');\n",
              "          docLink.innerHTML = docLinkHtml;\n",
              "          element.appendChild(docLink);\n",
              "        }\n",
              "      </script>\n",
              "    </div>\n",
              "  </div>\n",
              "  "
            ]
          },
          "metadata": {},
          "execution_count": 92
        }
      ]
    },
    {
      "cell_type": "code",
      "source": [
        "data_limpo['texto_processed'] = data_limpo['no_stopwords'].apply(remover_pontuacao)\n",
        "data_limpo"
      ],
      "metadata": {
        "id": "hMeJW5__GkU7",
        "colab": {
          "base_uri": "https://localhost:8080/",
          "height": 1000
        },
        "outputId": "1fcc793f-0da4-4fea-b8e1-77da1a017a8f"
      },
      "execution_count": null,
      "outputs": [
        {
          "output_type": "stream",
          "name": "stderr",
          "text": [
            "<ipython-input-93-272a836fa121>:1: SettingWithCopyWarning: \n",
            "A value is trying to be set on a copy of a slice from a DataFrame.\n",
            "Try using .loc[row_indexer,col_indexer] = value instead\n",
            "\n",
            "See the caveats in the documentation: https://pandas.pydata.org/pandas-docs/stable/user_guide/indexing.html#returning-a-view-versus-a-copy\n",
            "  data_limpo['texto_processed'] = data_limpo['no_stopwords'].apply(remover_pontuacao)\n"
          ]
        },
        {
          "output_type": "execute_result",
          "data": {
            "text/plain": [
              "               dataPublicada             autor  \\\n",
              "0      \"2022-03-04 09:38:00\"        v8_capital   \n",
              "1      \"2022-03-04 09:29:00\"     winthegame_of   \n",
              "2      \"2022-03-04 09:20:00\"        marta_bego   \n",
              "3      \"2022-03-04 08:36:00\"        lmviapiana   \n",
              "4      \"2022-03-03 21:10:00\"      vanilson_dos   \n",
              "...                      ...               ...   \n",
              "12350  \"2022-11-30 11:51:00\"       onixcapital   \n",
              "12351  \"2022-11-30 12:25:00\"  amgcapitalinvest   \n",
              "12352  \"2022-11-30 12:18:00\"     jayipacderota   \n",
              "12353  \"2022-11-30 12:50:00\"   moinho_cultural   \n",
              "12354  \"2022-11-30 14:27:00\"         bfmarilia   \n",
              "\n",
              "                                                   texto sentimento  \\\n",
              "0      Confira os resultados dos nossos fundos no mês...    NEUTRAL   \n",
              "1      A Alvarez & Marsal estará conosco no Sportainm...    NEUTRAL   \n",
              "2      #Repost btgpactual with make_repost ・・・ Entend...    NEUTRAL   \n",
              "3                                   Minuto touro de ouro   POSITIVE   \n",
              "4                                       @ricktolledo Sim    NEUTRAL   \n",
              "...                                                  ...        ...   \n",
              "12350  Uma noite de encontros e muito conhecimento on...    NEUTRAL   \n",
              "12351  Erros financeiros para eliminar antes dos 30 a...    NEUTRAL   \n",
              "12352  Estou muito grato por todo o esforço que você ...   POSITIVE   \n",
              "12353  \"👉GUADAKAN está chegando!!!!  A aula pública e...    NEUTRAL   \n",
              "12354  @btgpactual pq o morning call não está mais ap...   NEGATIVE   \n",
              "\n",
              "      tipoInteracao                                          tokenized  \\\n",
              "0          marcação  [Confira, os, resultados, dos, nossos, fundos,...   \n",
              "1          marcação  [A, Alvarez, &, Marsal, estará, conosco, no, S...   \n",
              "2          marcação  [#, Repost, btgpactual, with, make_repost, ・・・...   \n",
              "3        comentário                          [Minuto, touro, de, ouro]   \n",
              "4          resposta                              [@, ricktolledo, Sim]   \n",
              "...             ...                                                ...   \n",
              "12350      marcação  [Uma, noite, de, encontros, e, muito, conhecim...   \n",
              "12351      marcação  [Erros, financeiros, para, eliminar, antes, do...   \n",
              "12352    comentário  [Estou, muito, grato, por, todo, o, esforço, q...   \n",
              "12353      marcação  [``, 👉GUADAKAN, está, chegando, !, !, !, !, A,...   \n",
              "12354    comentário  [@, btgpactual, pq, o, morning, call, não, est...   \n",
              "\n",
              "                                            no_stopwords  \\\n",
              "0      [confira, resultados, fundos, mês, fevereiro/2...   \n",
              "1      [alvarez, &, marsal, estará, conosco, sportain...   \n",
              "2      [#, repost, btgpactual, with, make_repost, ・・・...   \n",
              "3                                  [minuto, touro, ouro]   \n",
              "4                                  [@, ricktolledo, sim]   \n",
              "...                                                  ...   \n",
              "12350  [noite, encontros, conhecimento, onde, cliente...   \n",
              "12351  [erros, financeiros, eliminar, antes, 30, anos...   \n",
              "12352  [grato, todo, esforço, rendeu, investimento, r...   \n",
              "12353  [``, 👉guadakan, chegando, !, !, !, !, aula, pú...   \n",
              "12354  [@, btgpactual, pq, morning, call, aparecendo,...   \n",
              "\n",
              "                                         texto_processed  \n",
              "0      [confira, resultados, fundos, mês, fevereiro22...  \n",
              "1      [alvarez, marsal, estará, conosco, sportainmet...  \n",
              "2      [repost, btgpactual, with, make_repost, entend...  \n",
              "3                                  [minuto, touro, ouro]  \n",
              "4                                     [ricktolledo, sim]  \n",
              "...                                                  ...  \n",
              "12350  [noite, encontros, conhecimento, onde, cliente...  \n",
              "12351  [erros, financeiros, eliminar, antes, 30, anos...  \n",
              "12352  [grato, todo, esforço, rendeu, investimento, r...  \n",
              "12353  [guadakan, chegando, aula, pública, formato, e...  \n",
              "12354  [btgpactual, pq, morning, call, aparecendo, sp...  \n",
              "\n",
              "[12193 rows x 8 columns]"
            ],
            "text/html": [
              "\n",
              "  <div id=\"df-768b6b8b-be56-46be-8782-689dd54f934f\">\n",
              "    <div class=\"colab-df-container\">\n",
              "      <div>\n",
              "<style scoped>\n",
              "    .dataframe tbody tr th:only-of-type {\n",
              "        vertical-align: middle;\n",
              "    }\n",
              "\n",
              "    .dataframe tbody tr th {\n",
              "        vertical-align: top;\n",
              "    }\n",
              "\n",
              "    .dataframe thead th {\n",
              "        text-align: right;\n",
              "    }\n",
              "</style>\n",
              "<table border=\"1\" class=\"dataframe\">\n",
              "  <thead>\n",
              "    <tr style=\"text-align: right;\">\n",
              "      <th></th>\n",
              "      <th>dataPublicada</th>\n",
              "      <th>autor</th>\n",
              "      <th>texto</th>\n",
              "      <th>sentimento</th>\n",
              "      <th>tipoInteracao</th>\n",
              "      <th>tokenized</th>\n",
              "      <th>no_stopwords</th>\n",
              "      <th>texto_processed</th>\n",
              "    </tr>\n",
              "  </thead>\n",
              "  <tbody>\n",
              "    <tr>\n",
              "      <th>0</th>\n",
              "      <td>\"2022-03-04 09:38:00\"</td>\n",
              "      <td>v8_capital</td>\n",
              "      <td>Confira os resultados dos nossos fundos no mês...</td>\n",
              "      <td>NEUTRAL</td>\n",
              "      <td>marcação</td>\n",
              "      <td>[Confira, os, resultados, dos, nossos, fundos,...</td>\n",
              "      <td>[confira, resultados, fundos, mês, fevereiro/2...</td>\n",
              "      <td>[confira, resultados, fundos, mês, fevereiro22...</td>\n",
              "    </tr>\n",
              "    <tr>\n",
              "      <th>1</th>\n",
              "      <td>\"2022-03-04 09:29:00\"</td>\n",
              "      <td>winthegame_of</td>\n",
              "      <td>A Alvarez &amp; Marsal estará conosco no Sportainm...</td>\n",
              "      <td>NEUTRAL</td>\n",
              "      <td>marcação</td>\n",
              "      <td>[A, Alvarez, &amp;, Marsal, estará, conosco, no, S...</td>\n",
              "      <td>[alvarez, &amp;, marsal, estará, conosco, sportain...</td>\n",
              "      <td>[alvarez, marsal, estará, conosco, sportainmet...</td>\n",
              "    </tr>\n",
              "    <tr>\n",
              "      <th>2</th>\n",
              "      <td>\"2022-03-04 09:20:00\"</td>\n",
              "      <td>marta_bego</td>\n",
              "      <td>#Repost btgpactual with make_repost ・・・ Entend...</td>\n",
              "      <td>NEUTRAL</td>\n",
              "      <td>marcação</td>\n",
              "      <td>[#, Repost, btgpactual, with, make_repost, ・・・...</td>\n",
              "      <td>[#, repost, btgpactual, with, make_repost, ・・・...</td>\n",
              "      <td>[repost, btgpactual, with, make_repost, entend...</td>\n",
              "    </tr>\n",
              "    <tr>\n",
              "      <th>3</th>\n",
              "      <td>\"2022-03-04 08:36:00\"</td>\n",
              "      <td>lmviapiana</td>\n",
              "      <td>Minuto touro de ouro</td>\n",
              "      <td>POSITIVE</td>\n",
              "      <td>comentário</td>\n",
              "      <td>[Minuto, touro, de, ouro]</td>\n",
              "      <td>[minuto, touro, ouro]</td>\n",
              "      <td>[minuto, touro, ouro]</td>\n",
              "    </tr>\n",
              "    <tr>\n",
              "      <th>4</th>\n",
              "      <td>\"2022-03-03 21:10:00\"</td>\n",
              "      <td>vanilson_dos</td>\n",
              "      <td>@ricktolledo Sim</td>\n",
              "      <td>NEUTRAL</td>\n",
              "      <td>resposta</td>\n",
              "      <td>[@, ricktolledo, Sim]</td>\n",
              "      <td>[@, ricktolledo, sim]</td>\n",
              "      <td>[ricktolledo, sim]</td>\n",
              "    </tr>\n",
              "    <tr>\n",
              "      <th>...</th>\n",
              "      <td>...</td>\n",
              "      <td>...</td>\n",
              "      <td>...</td>\n",
              "      <td>...</td>\n",
              "      <td>...</td>\n",
              "      <td>...</td>\n",
              "      <td>...</td>\n",
              "      <td>...</td>\n",
              "    </tr>\n",
              "    <tr>\n",
              "      <th>12350</th>\n",
              "      <td>\"2022-11-30 11:51:00\"</td>\n",
              "      <td>onixcapital</td>\n",
              "      <td>Uma noite de encontros e muito conhecimento on...</td>\n",
              "      <td>NEUTRAL</td>\n",
              "      <td>marcação</td>\n",
              "      <td>[Uma, noite, de, encontros, e, muito, conhecim...</td>\n",
              "      <td>[noite, encontros, conhecimento, onde, cliente...</td>\n",
              "      <td>[noite, encontros, conhecimento, onde, cliente...</td>\n",
              "    </tr>\n",
              "    <tr>\n",
              "      <th>12351</th>\n",
              "      <td>\"2022-11-30 12:25:00\"</td>\n",
              "      <td>amgcapitalinvest</td>\n",
              "      <td>Erros financeiros para eliminar antes dos 30 a...</td>\n",
              "      <td>NEUTRAL</td>\n",
              "      <td>marcação</td>\n",
              "      <td>[Erros, financeiros, para, eliminar, antes, do...</td>\n",
              "      <td>[erros, financeiros, eliminar, antes, 30, anos...</td>\n",
              "      <td>[erros, financeiros, eliminar, antes, 30, anos...</td>\n",
              "    </tr>\n",
              "    <tr>\n",
              "      <th>12352</th>\n",
              "      <td>\"2022-11-30 12:18:00\"</td>\n",
              "      <td>jayipacderota</td>\n",
              "      <td>Estou muito grato por todo o esforço que você ...</td>\n",
              "      <td>POSITIVE</td>\n",
              "      <td>comentário</td>\n",
              "      <td>[Estou, muito, grato, por, todo, o, esforço, q...</td>\n",
              "      <td>[grato, todo, esforço, rendeu, investimento, r...</td>\n",
              "      <td>[grato, todo, esforço, rendeu, investimento, r...</td>\n",
              "    </tr>\n",
              "    <tr>\n",
              "      <th>12353</th>\n",
              "      <td>\"2022-11-30 12:50:00\"</td>\n",
              "      <td>moinho_cultural</td>\n",
              "      <td>\"👉GUADAKAN está chegando!!!!  A aula pública e...</td>\n",
              "      <td>NEUTRAL</td>\n",
              "      <td>marcação</td>\n",
              "      <td>[``, 👉GUADAKAN, está, chegando, !, !, !, !, A,...</td>\n",
              "      <td>[``, 👉guadakan, chegando, !, !, !, !, aula, pú...</td>\n",
              "      <td>[guadakan, chegando, aula, pública, formato, e...</td>\n",
              "    </tr>\n",
              "    <tr>\n",
              "      <th>12354</th>\n",
              "      <td>\"2022-11-30 14:27:00\"</td>\n",
              "      <td>bfmarilia</td>\n",
              "      <td>@btgpactual pq o morning call não está mais ap...</td>\n",
              "      <td>NEGATIVE</td>\n",
              "      <td>comentário</td>\n",
              "      <td>[@, btgpactual, pq, o, morning, call, não, est...</td>\n",
              "      <td>[@, btgpactual, pq, morning, call, aparecendo,...</td>\n",
              "      <td>[btgpactual, pq, morning, call, aparecendo, sp...</td>\n",
              "    </tr>\n",
              "  </tbody>\n",
              "</table>\n",
              "<p>12193 rows × 8 columns</p>\n",
              "</div>\n",
              "      <button class=\"colab-df-convert\" onclick=\"convertToInteractive('df-768b6b8b-be56-46be-8782-689dd54f934f')\"\n",
              "              title=\"Convert this dataframe to an interactive table.\"\n",
              "              style=\"display:none;\">\n",
              "        \n",
              "  <svg xmlns=\"http://www.w3.org/2000/svg\" height=\"24px\"viewBox=\"0 0 24 24\"\n",
              "       width=\"24px\">\n",
              "    <path d=\"M0 0h24v24H0V0z\" fill=\"none\"/>\n",
              "    <path d=\"M18.56 5.44l.94 2.06.94-2.06 2.06-.94-2.06-.94-.94-2.06-.94 2.06-2.06.94zm-11 1L8.5 8.5l.94-2.06 2.06-.94-2.06-.94L8.5 2.5l-.94 2.06-2.06.94zm10 10l.94 2.06.94-2.06 2.06-.94-2.06-.94-.94-2.06-.94 2.06-2.06.94z\"/><path d=\"M17.41 7.96l-1.37-1.37c-.4-.4-.92-.59-1.43-.59-.52 0-1.04.2-1.43.59L10.3 9.45l-7.72 7.72c-.78.78-.78 2.05 0 2.83L4 21.41c.39.39.9.59 1.41.59.51 0 1.02-.2 1.41-.59l7.78-7.78 2.81-2.81c.8-.78.8-2.07 0-2.86zM5.41 20L4 18.59l7.72-7.72 1.47 1.35L5.41 20z\"/>\n",
              "  </svg>\n",
              "      </button>\n",
              "      \n",
              "  <style>\n",
              "    .colab-df-container {\n",
              "      display:flex;\n",
              "      flex-wrap:wrap;\n",
              "      gap: 12px;\n",
              "    }\n",
              "\n",
              "    .colab-df-convert {\n",
              "      background-color: #E8F0FE;\n",
              "      border: none;\n",
              "      border-radius: 50%;\n",
              "      cursor: pointer;\n",
              "      display: none;\n",
              "      fill: #1967D2;\n",
              "      height: 32px;\n",
              "      padding: 0 0 0 0;\n",
              "      width: 32px;\n",
              "    }\n",
              "\n",
              "    .colab-df-convert:hover {\n",
              "      background-color: #E2EBFA;\n",
              "      box-shadow: 0px 1px 2px rgba(60, 64, 67, 0.3), 0px 1px 3px 1px rgba(60, 64, 67, 0.15);\n",
              "      fill: #174EA6;\n",
              "    }\n",
              "\n",
              "    [theme=dark] .colab-df-convert {\n",
              "      background-color: #3B4455;\n",
              "      fill: #D2E3FC;\n",
              "    }\n",
              "\n",
              "    [theme=dark] .colab-df-convert:hover {\n",
              "      background-color: #434B5C;\n",
              "      box-shadow: 0px 1px 3px 1px rgba(0, 0, 0, 0.15);\n",
              "      filter: drop-shadow(0px 1px 2px rgba(0, 0, 0, 0.3));\n",
              "      fill: #FFFFFF;\n",
              "    }\n",
              "  </style>\n",
              "\n",
              "      <script>\n",
              "        const buttonEl =\n",
              "          document.querySelector('#df-768b6b8b-be56-46be-8782-689dd54f934f button.colab-df-convert');\n",
              "        buttonEl.style.display =\n",
              "          google.colab.kernel.accessAllowed ? 'block' : 'none';\n",
              "\n",
              "        async function convertToInteractive(key) {\n",
              "          const element = document.querySelector('#df-768b6b8b-be56-46be-8782-689dd54f934f');\n",
              "          const dataTable =\n",
              "            await google.colab.kernel.invokeFunction('convertToInteractive',\n",
              "                                                     [key], {});\n",
              "          if (!dataTable) return;\n",
              "\n",
              "          const docLinkHtml = 'Like what you see? Visit the ' +\n",
              "            '<a target=\"_blank\" href=https://colab.research.google.com/notebooks/data_table.ipynb>data table notebook</a>'\n",
              "            + ' to learn more about interactive tables.';\n",
              "          element.innerHTML = '';\n",
              "          dataTable['output_type'] = 'display_data';\n",
              "          await google.colab.output.renderOutput(dataTable, element);\n",
              "          const docLink = document.createElement('div');\n",
              "          docLink.innerHTML = docLinkHtml;\n",
              "          element.appendChild(docLink);\n",
              "        }\n",
              "      </script>\n",
              "    </div>\n",
              "  </div>\n",
              "  "
            ]
          },
          "metadata": {},
          "execution_count": 93
        }
      ]
    },
    {
      "cell_type": "code",
      "source": [
        "# data_limpo['stemmed'] = data_limpo['texto_processed'].apply(stemming)\n",
        "# data_limpo"
      ],
      "metadata": {
        "id": "RjQDHmFLGAe1"
      },
      "execution_count": null,
      "outputs": []
    },
    {
      "cell_type": "markdown",
      "source": [
        "# 7. Pipeline simples de pré-processamento - **IMPORTANTE**"
      ],
      "metadata": {
        "id": "7-0pTgnAqb2j"
      }
    },
    {
      "cell_type": "markdown",
      "source": [
        "Essa seção é extremamente importante, pois nela criamos a função de pipeline com todas as outras funções que criamos anteriormente. Então, ela é feita para que seja possível de rodar somente ela e ter um resultado efetivo!"
      ],
      "metadata": {
        "id": "YIdlUVX55rGA"
      }
    },
    {
      "cell_type": "code",
      "source": [
        "data = pd.read_csv('/content/drive/MyDrive/Módulo 6/projeto/base_nova_csv.csv')"
      ],
      "metadata": {
        "id": "S2ZPWyTJjAnj",
        "colab": {
          "base_uri": "https://localhost:8080/",
          "height": 346
        },
        "outputId": "9670c097-8da9-42e5-8b2e-db841b7922b9"
      },
      "execution_count": null,
      "outputs": [
        {
          "output_type": "error",
          "ename": "FileNotFoundError",
          "evalue": "ignored",
          "traceback": [
            "\u001b[0;31m---------------------------------------------------------------------------\u001b[0m",
            "\u001b[0;31mFileNotFoundError\u001b[0m                         Traceback (most recent call last)",
            "\u001b[0;32m<ipython-input-96-f3c77fb625b8>\u001b[0m in \u001b[0;36m<cell line: 1>\u001b[0;34m()\u001b[0m\n\u001b[0;32m----> 1\u001b[0;31m \u001b[0mdata\u001b[0m \u001b[0;34m=\u001b[0m \u001b[0mpd\u001b[0m\u001b[0;34m.\u001b[0m\u001b[0mread_csv\u001b[0m\u001b[0;34m(\u001b[0m\u001b[0;34m'/content/drive/MyDrive/Módulo 6/projeto/base_nova_csv.csv'\u001b[0m\u001b[0;34m)\u001b[0m\u001b[0;34m\u001b[0m\u001b[0;34m\u001b[0m\u001b[0m\n\u001b[0m",
            "\u001b[0;32m/usr/local/lib/python3.10/dist-packages/pandas/util/_decorators.py\u001b[0m in \u001b[0;36mwrapper\u001b[0;34m(*args, **kwargs)\u001b[0m\n\u001b[1;32m    209\u001b[0m                 \u001b[0;32melse\u001b[0m\u001b[0;34m:\u001b[0m\u001b[0;34m\u001b[0m\u001b[0;34m\u001b[0m\u001b[0m\n\u001b[1;32m    210\u001b[0m                     \u001b[0mkwargs\u001b[0m\u001b[0;34m[\u001b[0m\u001b[0mnew_arg_name\u001b[0m\u001b[0;34m]\u001b[0m \u001b[0;34m=\u001b[0m \u001b[0mnew_arg_value\u001b[0m\u001b[0;34m\u001b[0m\u001b[0;34m\u001b[0m\u001b[0m\n\u001b[0;32m--> 211\u001b[0;31m             \u001b[0;32mreturn\u001b[0m \u001b[0mfunc\u001b[0m\u001b[0;34m(\u001b[0m\u001b[0;34m*\u001b[0m\u001b[0margs\u001b[0m\u001b[0;34m,\u001b[0m \u001b[0;34m**\u001b[0m\u001b[0mkwargs\u001b[0m\u001b[0;34m)\u001b[0m\u001b[0;34m\u001b[0m\u001b[0;34m\u001b[0m\u001b[0m\n\u001b[0m\u001b[1;32m    212\u001b[0m \u001b[0;34m\u001b[0m\u001b[0m\n\u001b[1;32m    213\u001b[0m         \u001b[0;32mreturn\u001b[0m \u001b[0mcast\u001b[0m\u001b[0;34m(\u001b[0m\u001b[0mF\u001b[0m\u001b[0;34m,\u001b[0m \u001b[0mwrapper\u001b[0m\u001b[0;34m)\u001b[0m\u001b[0;34m\u001b[0m\u001b[0;34m\u001b[0m\u001b[0m\n",
            "\u001b[0;32m/usr/local/lib/python3.10/dist-packages/pandas/util/_decorators.py\u001b[0m in \u001b[0;36mwrapper\u001b[0;34m(*args, **kwargs)\u001b[0m\n\u001b[1;32m    329\u001b[0m                     \u001b[0mstacklevel\u001b[0m\u001b[0;34m=\u001b[0m\u001b[0mfind_stack_level\u001b[0m\u001b[0;34m(\u001b[0m\u001b[0;34m)\u001b[0m\u001b[0;34m,\u001b[0m\u001b[0;34m\u001b[0m\u001b[0;34m\u001b[0m\u001b[0m\n\u001b[1;32m    330\u001b[0m                 )\n\u001b[0;32m--> 331\u001b[0;31m             \u001b[0;32mreturn\u001b[0m \u001b[0mfunc\u001b[0m\u001b[0;34m(\u001b[0m\u001b[0;34m*\u001b[0m\u001b[0margs\u001b[0m\u001b[0;34m,\u001b[0m \u001b[0;34m**\u001b[0m\u001b[0mkwargs\u001b[0m\u001b[0;34m)\u001b[0m\u001b[0;34m\u001b[0m\u001b[0;34m\u001b[0m\u001b[0m\n\u001b[0m\u001b[1;32m    332\u001b[0m \u001b[0;34m\u001b[0m\u001b[0m\n\u001b[1;32m    333\u001b[0m         \u001b[0;31m# error: \"Callable[[VarArg(Any), KwArg(Any)], Any]\" has no\u001b[0m\u001b[0;34m\u001b[0m\u001b[0;34m\u001b[0m\u001b[0m\n",
            "\u001b[0;32m/usr/local/lib/python3.10/dist-packages/pandas/io/parsers/readers.py\u001b[0m in \u001b[0;36mread_csv\u001b[0;34m(filepath_or_buffer, sep, delimiter, header, names, index_col, usecols, squeeze, prefix, mangle_dupe_cols, dtype, engine, converters, true_values, false_values, skipinitialspace, skiprows, skipfooter, nrows, na_values, keep_default_na, na_filter, verbose, skip_blank_lines, parse_dates, infer_datetime_format, keep_date_col, date_parser, dayfirst, cache_dates, iterator, chunksize, compression, thousands, decimal, lineterminator, quotechar, quoting, doublequote, escapechar, comment, encoding, encoding_errors, dialect, error_bad_lines, warn_bad_lines, on_bad_lines, delim_whitespace, low_memory, memory_map, float_precision, storage_options)\u001b[0m\n\u001b[1;32m    948\u001b[0m     \u001b[0mkwds\u001b[0m\u001b[0;34m.\u001b[0m\u001b[0mupdate\u001b[0m\u001b[0;34m(\u001b[0m\u001b[0mkwds_defaults\u001b[0m\u001b[0;34m)\u001b[0m\u001b[0;34m\u001b[0m\u001b[0;34m\u001b[0m\u001b[0m\n\u001b[1;32m    949\u001b[0m \u001b[0;34m\u001b[0m\u001b[0m\n\u001b[0;32m--> 950\u001b[0;31m     \u001b[0;32mreturn\u001b[0m \u001b[0m_read\u001b[0m\u001b[0;34m(\u001b[0m\u001b[0mfilepath_or_buffer\u001b[0m\u001b[0;34m,\u001b[0m \u001b[0mkwds\u001b[0m\u001b[0;34m)\u001b[0m\u001b[0;34m\u001b[0m\u001b[0;34m\u001b[0m\u001b[0m\n\u001b[0m\u001b[1;32m    951\u001b[0m \u001b[0;34m\u001b[0m\u001b[0m\n\u001b[1;32m    952\u001b[0m \u001b[0;34m\u001b[0m\u001b[0m\n",
            "\u001b[0;32m/usr/local/lib/python3.10/dist-packages/pandas/io/parsers/readers.py\u001b[0m in \u001b[0;36m_read\u001b[0;34m(filepath_or_buffer, kwds)\u001b[0m\n\u001b[1;32m    603\u001b[0m \u001b[0;34m\u001b[0m\u001b[0m\n\u001b[1;32m    604\u001b[0m     \u001b[0;31m# Create the parser.\u001b[0m\u001b[0;34m\u001b[0m\u001b[0;34m\u001b[0m\u001b[0m\n\u001b[0;32m--> 605\u001b[0;31m     \u001b[0mparser\u001b[0m \u001b[0;34m=\u001b[0m \u001b[0mTextFileReader\u001b[0m\u001b[0;34m(\u001b[0m\u001b[0mfilepath_or_buffer\u001b[0m\u001b[0;34m,\u001b[0m \u001b[0;34m**\u001b[0m\u001b[0mkwds\u001b[0m\u001b[0;34m)\u001b[0m\u001b[0;34m\u001b[0m\u001b[0;34m\u001b[0m\u001b[0m\n\u001b[0m\u001b[1;32m    606\u001b[0m \u001b[0;34m\u001b[0m\u001b[0m\n\u001b[1;32m    607\u001b[0m     \u001b[0;32mif\u001b[0m \u001b[0mchunksize\u001b[0m \u001b[0;32mor\u001b[0m \u001b[0miterator\u001b[0m\u001b[0;34m:\u001b[0m\u001b[0;34m\u001b[0m\u001b[0;34m\u001b[0m\u001b[0m\n",
            "\u001b[0;32m/usr/local/lib/python3.10/dist-packages/pandas/io/parsers/readers.py\u001b[0m in \u001b[0;36m__init__\u001b[0;34m(self, f, engine, **kwds)\u001b[0m\n\u001b[1;32m   1440\u001b[0m \u001b[0;34m\u001b[0m\u001b[0m\n\u001b[1;32m   1441\u001b[0m         \u001b[0mself\u001b[0m\u001b[0;34m.\u001b[0m\u001b[0mhandles\u001b[0m\u001b[0;34m:\u001b[0m \u001b[0mIOHandles\u001b[0m \u001b[0;34m|\u001b[0m \u001b[0;32mNone\u001b[0m \u001b[0;34m=\u001b[0m \u001b[0;32mNone\u001b[0m\u001b[0;34m\u001b[0m\u001b[0;34m\u001b[0m\u001b[0m\n\u001b[0;32m-> 1442\u001b[0;31m         \u001b[0mself\u001b[0m\u001b[0;34m.\u001b[0m\u001b[0m_engine\u001b[0m \u001b[0;34m=\u001b[0m \u001b[0mself\u001b[0m\u001b[0;34m.\u001b[0m\u001b[0m_make_engine\u001b[0m\u001b[0;34m(\u001b[0m\u001b[0mf\u001b[0m\u001b[0;34m,\u001b[0m \u001b[0mself\u001b[0m\u001b[0;34m.\u001b[0m\u001b[0mengine\u001b[0m\u001b[0;34m)\u001b[0m\u001b[0;34m\u001b[0m\u001b[0;34m\u001b[0m\u001b[0m\n\u001b[0m\u001b[1;32m   1443\u001b[0m \u001b[0;34m\u001b[0m\u001b[0m\n\u001b[1;32m   1444\u001b[0m     \u001b[0;32mdef\u001b[0m \u001b[0mclose\u001b[0m\u001b[0;34m(\u001b[0m\u001b[0mself\u001b[0m\u001b[0;34m)\u001b[0m \u001b[0;34m->\u001b[0m \u001b[0;32mNone\u001b[0m\u001b[0;34m:\u001b[0m\u001b[0;34m\u001b[0m\u001b[0;34m\u001b[0m\u001b[0m\n",
            "\u001b[0;32m/usr/local/lib/python3.10/dist-packages/pandas/io/parsers/readers.py\u001b[0m in \u001b[0;36m_make_engine\u001b[0;34m(self, f, engine)\u001b[0m\n\u001b[1;32m   1733\u001b[0m                 \u001b[0;32mif\u001b[0m \u001b[0;34m\"b\"\u001b[0m \u001b[0;32mnot\u001b[0m \u001b[0;32min\u001b[0m \u001b[0mmode\u001b[0m\u001b[0;34m:\u001b[0m\u001b[0;34m\u001b[0m\u001b[0;34m\u001b[0m\u001b[0m\n\u001b[1;32m   1734\u001b[0m                     \u001b[0mmode\u001b[0m \u001b[0;34m+=\u001b[0m \u001b[0;34m\"b\"\u001b[0m\u001b[0;34m\u001b[0m\u001b[0;34m\u001b[0m\u001b[0m\n\u001b[0;32m-> 1735\u001b[0;31m             self.handles = get_handle(\n\u001b[0m\u001b[1;32m   1736\u001b[0m                 \u001b[0mf\u001b[0m\u001b[0;34m,\u001b[0m\u001b[0;34m\u001b[0m\u001b[0;34m\u001b[0m\u001b[0m\n\u001b[1;32m   1737\u001b[0m                 \u001b[0mmode\u001b[0m\u001b[0;34m,\u001b[0m\u001b[0;34m\u001b[0m\u001b[0;34m\u001b[0m\u001b[0m\n",
            "\u001b[0;32m/usr/local/lib/python3.10/dist-packages/pandas/io/common.py\u001b[0m in \u001b[0;36mget_handle\u001b[0;34m(path_or_buf, mode, encoding, compression, memory_map, is_text, errors, storage_options)\u001b[0m\n\u001b[1;32m    854\u001b[0m         \u001b[0;32mif\u001b[0m \u001b[0mioargs\u001b[0m\u001b[0;34m.\u001b[0m\u001b[0mencoding\u001b[0m \u001b[0;32mand\u001b[0m \u001b[0;34m\"b\"\u001b[0m \u001b[0;32mnot\u001b[0m \u001b[0;32min\u001b[0m \u001b[0mioargs\u001b[0m\u001b[0;34m.\u001b[0m\u001b[0mmode\u001b[0m\u001b[0;34m:\u001b[0m\u001b[0;34m\u001b[0m\u001b[0;34m\u001b[0m\u001b[0m\n\u001b[1;32m    855\u001b[0m             \u001b[0;31m# Encoding\u001b[0m\u001b[0;34m\u001b[0m\u001b[0;34m\u001b[0m\u001b[0m\n\u001b[0;32m--> 856\u001b[0;31m             handle = open(\n\u001b[0m\u001b[1;32m    857\u001b[0m                 \u001b[0mhandle\u001b[0m\u001b[0;34m,\u001b[0m\u001b[0;34m\u001b[0m\u001b[0;34m\u001b[0m\u001b[0m\n\u001b[1;32m    858\u001b[0m                 \u001b[0mioargs\u001b[0m\u001b[0;34m.\u001b[0m\u001b[0mmode\u001b[0m\u001b[0;34m,\u001b[0m\u001b[0;34m\u001b[0m\u001b[0;34m\u001b[0m\u001b[0m\n",
            "\u001b[0;31mFileNotFoundError\u001b[0m: [Errno 2] No such file or directory: '/content/drive/MyDrive/Módulo 6/projeto/base_nova_csv.csv'"
          ]
        }
      ]
    },
    {
      "cell_type": "code",
      "source": [
        "data = data.rename(columns={'\"anomalia\"' : 'anomalia', '\"dataPublicada\"' : 'dataPublicada', '\"autor\"' : 'autor', '\"texto\"' : 'texto', '\"sentimento\"' : 'sentimento', '\"tipoInteracao\"' : 'tipoInteracao', '\"probabilidadeAnomalia\"' : 'probabilidadeAnomalia', '\"linkPost\"' : 'linkPost', '\"processado\"' : 'processado',  '\"contemHyperlink\"' : 'contemHyperlink' })"
      ],
      "metadata": {
        "id": "42uguheHjBQb"
      },
      "execution_count": null,
      "outputs": []
    },
    {
      "cell_type": "code",
      "source": [
        "data_dropado = data.drop(['processado', 'id', 'dataPublicada'], axis=1)"
      ],
      "metadata": {
        "id": "fNB4wv6ajNeq"
      },
      "execution_count": null,
      "outputs": []
    },
    {
      "cell_type": "code",
      "source": [
        "data_limpo = data_dropado.loc[data_dropado['autor'] != 'btgpactual']"
      ],
      "metadata": {
        "id": "BgHrGnbejcUz"
      },
      "execution_count": null,
      "outputs": []
    },
    {
      "cell_type": "code",
      "source": [
        "data_limpo"
      ],
      "metadata": {
        "id": "Itb_16phjeJy"
      },
      "execution_count": null,
      "outputs": []
    },
    {
      "cell_type": "markdown",
      "source": [
        "## 7.1 Definição de Função"
      ],
      "metadata": {
        "id": "Qel2ZDQTr-8S"
      }
    },
    {
      "cell_type": "code",
      "source": [
        "def tokenizer(comment):\n",
        "    if isinstance(comment, str):\n",
        "        tokens = nltk.word_tokenize(comment)\n",
        "        return tokens\n",
        "    else:\n",
        "        return []"
      ],
      "metadata": {
        "id": "mNXqQz-t6MKZ"
      },
      "execution_count": null,
      "outputs": []
    },
    {
      "cell_type": "code",
      "source": [
        "def remove_stopwords(tokens):\n",
        "    if isinstance(tokens, list): \n",
        "        comments_filtered = []\n",
        "        for token in tokens:\n",
        "          tk = token.lower()\n",
        "          if tk not in stopwords:\n",
        "              comments_filtered.append(tk)\n",
        "        return comments_filtered\n",
        "    else:\n",
        "        return []"
      ],
      "metadata": {
        "id": "Sqi28yJK6MBh"
      },
      "execution_count": null,
      "outputs": []
    },
    {
      "cell_type": "code",
      "source": [
        "def remover_pontuacao(tokens):\n",
        "    tokens_sem_pontuacao = []\n",
        "    for token in tokens:\n",
        "        token_sem_pontuacao = re.sub(r'[^\\w\\s]', '', token)\n",
        "        if token_sem_pontuacao != '':\n",
        "            tokens_sem_pontuacao.append(token_sem_pontuacao)\n",
        "    return tokens_sem_pontuacao"
      ],
      "metadata": {
        "id": "1Kmdu7C-6L3K"
      },
      "execution_count": null,
      "outputs": []
    },
    {
      "cell_type": "code",
      "source": [
        "sn_stemmer = SnowballStemmer('portuguese')\n",
        "\n",
        "def stemming(comments_no_accent):\n",
        "    if isinstance(comments_no_accent, list):\n",
        "        stem_list = []\n",
        "        for token in comments_no_accent: \n",
        "            stem_list.append(sn_stemmer.stem(token))\n",
        "        return stem_list\n",
        "    else:\n",
        "        return []"
      ],
      "metadata": {
        "id": "AaAsUf1J6Lyh"
      },
      "execution_count": null,
      "outputs": []
    },
    {
      "cell_type": "code",
      "source": [
        "def pipeline(comment):\n",
        "      # Tokenization\n",
        "      tokens = tokenizer(comment)\n",
        "      # Removal of stopwords\n",
        "      tokens_filtered = remove_stopwords(tokens)\n",
        "      # Removal of punctuation\n",
        "      tokens_no_punct = remover_pontuacao(tokens_filtered)\n",
        "      # Stemming\n",
        "      stemmed_tokens = stemming(tokens_no_punct)\n",
        "      return stemmed_tokens"
      ],
      "metadata": {
        "id": "g_h_ugTgQmAx"
      },
      "execution_count": null,
      "outputs": []
    },
    {
      "cell_type": "markdown",
      "source": [
        "## 7.2 Testes da Função"
      ],
      "metadata": {
        "id": "zh0IeO3IsYYE"
      }
    },
    {
      "cell_type": "code",
      "source": [
        "data_limpo['texto']"
      ],
      "metadata": {
        "id": "914Z-bfajx1k"
      },
      "execution_count": null,
      "outputs": []
    },
    {
      "cell_type": "markdown",
      "source": [
        "- Criação da nova coluna, somente com a função pipeline, que repassa todo o nosso pré-processamento."
      ],
      "metadata": {
        "id": "7a9vaZb86u3R"
      }
    },
    {
      "cell_type": "code",
      "source": [
        "data_limpo['texto_tratado'] = data_limpo['texto'].apply(pipeline)"
      ],
      "metadata": {
        "id": "k1JkauKSiYzT"
      },
      "execution_count": null,
      "outputs": []
    },
    {
      "cell_type": "code",
      "source": [
        "data_limpo"
      ],
      "metadata": {
        "id": "c2etSZdckDua"
      },
      "execution_count": null,
      "outputs": []
    },
    {
      "cell_type": "markdown",
      "source": [
        "---"
      ],
      "metadata": {
        "id": "-pVO34UW66ip"
      }
    },
    {
      "cell_type": "code",
      "source": [
        "comment = \"Estamos fazendo um projeto pro BTG!\"\n",
        "preprocessed_comment = pipeline(comment)\n",
        "print(preprocessed_comment)"
      ],
      "metadata": {
        "id": "_xCt6MkbQovq"
      },
      "execution_count": null,
      "outputs": []
    },
    {
      "cell_type": "markdown",
      "source": [
        "- Caso queira fazer o teste de como está o pré-processamento, digite uma frase!\n",
        "- Descomente a célula de código abaixo para testar!\n",
        "  - Selecione todo o conteúdo com seu cursor e clique 'CTRL + ; ' (ctrl + botão de ponto e vírgula)"
      ],
      "metadata": {
        "id": "9RzScORk7hJ4"
      }
    },
    {
      "cell_type": "code",
      "source": [
        "# comment = input(\"Digite uma frase da sua escolha e visualize o tratamento: \")\n",
        "# preprocessed_comment = pipeline(comment)\n",
        "# print(preprocessed_comment)"
      ],
      "metadata": {
        "id": "kokkYKY_7EDh"
      },
      "execution_count": null,
      "outputs": []
    },
    {
      "cell_type": "markdown",
      "source": [
        "# 8. Bag of Words (BoW)"
      ],
      "metadata": {
        "id": "_dFfxcKevnMP"
      }
    },
    {
      "cell_type": "markdown",
      "source": [
        "O modelo Bag of Words (BoW) é uma técnica utilizada em processamento de linguagem natural para representar um texto como um conjunto de palavras desordenadas, ignorando a ordem e a estrutura gramatical das frases. \n",
        "\n",
        "Nesse modelo, cada palavra única do texto é transformada em uma \"feature\" (característica), e a frequência de cada palavra no texto é usada como um valor numérico para a feature correspondente.\n",
        "\n",
        "Por exemplo, a frase \"O gato preto pulou o muro\" seria representada como um conjunto de palavras desordenadas: `'o', 'gato', 'preto', 'pulou', 'o', 'muro'`. A frequência de cada palavra seria contada, e o resultado seria um vetor numérico que representa a frequência de cada palavra na frase.\n"
      ],
      "metadata": {
        "id": "OF26utwj8qNY"
      }
    },
    {
      "cell_type": "code",
      "source": [
        "# Multiple documents\n",
        "text = [\"Estamos fazendo um projeto pro BTG!\", \"Somos alunos de Sistemas de Informação do Inteli\", \"O Renato é o nosso orientador\", \"O Hayashi é o nosso professor de programação\"] \n",
        "\n",
        "# create the transform\n",
        "vectorizer = CountVectorizer()\n",
        "\n",
        "# tokenize and build vocab\n",
        "vectorizer.fit(text)\n",
        "\n",
        "# summarize\n",
        "print(sorted(vectorizer.vocabulary_))\n",
        "\n",
        "# encode document\n",
        "vector = vectorizer.transform(text)\n",
        "\n",
        "# summarize encoded vector\n",
        "print(vector.shape)\n",
        "print(vector.toarray())"
      ],
      "metadata": {
        "id": "5wN384IQ1G9t"
      },
      "execution_count": null,
      "outputs": []
    },
    {
      "cell_type": "markdown",
      "source": [
        "**AVISO**:\n",
        "O modelo Bag of Words é uma técnica simples e eficiente para representar textos em formato vetorial, o que permite utilizá-los em algoritmos de aprendizado de máquina. \n",
        "\n",
        "No entanto, essa abordagem ignora informações importantes sobre a estrutura e o significado das frases, como a ordem das palavras e as relações sintáticas entre elas. Por isso, é comum utilizar técnicas mais avançadas, como a modelagem de tópicos (topic modeling) e as redes neurais, para lidar com textos mais complexos.\n",
        "\n",
        "Porém, para vieses acadêmicos, estamos implementando e aprendendo como é o funcionamento desse processo."
      ],
      "metadata": {
        "id": "90htO88z9v55"
      }
    },
    {
      "cell_type": "markdown",
      "source": [
        "## 8.1 Definição da Função\n"
      ],
      "metadata": {
        "id": "6u80ctpIY3Pe"
      }
    },
    {
      "cell_type": "code",
      "source": [
        "data_limpo['texto_tratado'] # chamando somente a coluna do dataframe, que ja foi tratada"
      ],
      "metadata": {
        "id": "-eY6TwQpA0Hy"
      },
      "execution_count": null,
      "outputs": []
    },
    {
      "cell_type": "code",
      "source": [
        "textos = data_limpo['texto_tratado']"
      ],
      "metadata": {
        "id": "rVXnuYPvwZXn"
      },
      "execution_count": null,
      "outputs": []
    },
    {
      "cell_type": "code",
      "source": [
        "# Criando a função de vetorização, a qual irá criar um DataFrame com todos os termos e suas contabilizações em cada comentário (representados pelo index)\n",
        "def bow(comentarios): \n",
        "     # Inicializa o CountVectorizer\n",
        "    vectorizer = CountVectorizer(analyzer=lambda x: x)\n",
        "    # Cria o modelo Bag of Words\n",
        "    bow_model = vectorizer.fit_transform(comentarios)\n",
        "    # Cria um dataframe com as palavras e suas frequências\n",
        "    bow_df = pd.DataFrame(bow_model.toarray(), columns=vectorizer.get_feature_names_out())\n",
        "    return bow_df"
      ],
      "metadata": {
        "id": "Qm1UFUY3_OE4"
      },
      "execution_count": null,
      "outputs": []
    },
    {
      "cell_type": "markdown",
      "source": [
        "---"
      ],
      "metadata": {
        "id": "PRLMFsRwB8hA"
      }
    },
    {
      "cell_type": "markdown",
      "source": [
        "## 8.2 Testes das funções\n"
      ],
      "metadata": {
        "id": "rEAJ7xaCtQUN"
      }
    },
    {
      "cell_type": "markdown",
      "source": [
        "Como é possível visualizar, temos uma tabela com todos os termos que foram considerados chaves para a análise."
      ],
      "metadata": {
        "id": "ZRAdqeRM-ms5"
      }
    },
    {
      "cell_type": "code",
      "source": [
        "df = bow(textos)\n",
        "df"
      ],
      "metadata": {
        "id": "ChVrgXNl_4Lw"
      },
      "execution_count": null,
      "outputs": []
    },
    {
      "cell_type": "markdown",
      "source": [
        "- Mostrando a primeira palavra, do primeiro comentário, e como ela se repete uma vez e duas vezes em cada um dos outros comentários"
      ],
      "metadata": {
        "id": "_o1hkW-H_3lg"
      }
    },
    {
      "cell_type": "code",
      "source": [
        "df['conf'].value_counts()"
      ],
      "metadata": {
        "id": "HkoJcivl_juI"
      },
      "execution_count": null,
      "outputs": []
    },
    {
      "cell_type": "code",
      "source": [
        "df[df['conf'] == 2]"
      ],
      "metadata": {
        "id": "wJzJt-87BciA"
      },
      "execution_count": null,
      "outputs": []
    },
    {
      "cell_type": "code",
      "source": [
        "word_counts = df.sum()\n",
        "top_words = word_counts.sort_values(ascending=False)\n",
        "top_10 = top_words.head(10)"
      ],
      "metadata": {
        "id": "spCM4fRIae4z"
      },
      "execution_count": null,
      "outputs": []
    },
    {
      "cell_type": "code",
      "source": [
        "top_10"
      ],
      "metadata": {
        "id": "lkt5xqnEatPb"
      },
      "execution_count": null,
      "outputs": []
    },
    {
      "cell_type": "code",
      "source": [
        "palavras = list(top_words.index)\n",
        "wordcloud = WordCloud(width=800, height=800, background_color='white').generate(' '.join(palavras))\n",
        "plt.figure(figsize=(8,8), facecolor=None)\n",
        "plt.imshow(wordcloud)\n",
        "plt.axis(\"off\")\n",
        "plt.tight_layout(pad=0)\n",
        "plt.show()"
      ],
      "metadata": {
        "id": "IKpvb_x8cV7c"
      },
      "execution_count": null,
      "outputs": []
    },
    {
      "cell_type": "markdown",
      "source": [
        "# 9. Plotagem de Gráficos"
      ],
      "metadata": {
        "id": "bnhSCLypktYQ"
      }
    },
    {
      "cell_type": "markdown",
      "source": [
        "## 9.1 Autores que mais comentam"
      ],
      "metadata": {
        "id": "Dw8_ucI6kydI"
      }
    },
    {
      "cell_type": "code",
      "source": [
        "# Contagem de palavras\n",
        "autor_counts = data_limpo['autor'].explode().value_counts()\n",
        "\n",
        "# Plotagem do gráfico de barras\n",
        "plt.figure(figsize=(10, 6))\n",
        "autor_counts.head(20).plot(kind='bar')\n",
        "plt.xlabel('Autores')\n",
        "plt.ylabel('Contagem')\n",
        "plt.title('Autores que mais comentam')\n",
        "plt.show()"
      ],
      "metadata": {
        "id": "Q7ZU9AEJkx8a"
      },
      "execution_count": null,
      "outputs": []
    },
    {
      "cell_type": "markdown",
      "source": [
        "## 9.2 Palavras mais frequentes"
      ],
      "metadata": {
        "id": "FzwrIBrbk3t1"
      }
    },
    {
      "cell_type": "code",
      "source": [
        "# Contagem de palavras\n",
        "word_counts = data_limpo['texto_tratado'].explode().value_counts()\n",
        "\n",
        "# Plotagem do gráfico de barras\n",
        "plt.figure(figsize=(10, 6))\n",
        "word_counts.head(20).plot(kind='bar')\n",
        "plt.xlabel('Palavra')\n",
        "plt.ylabel('Contagem')\n",
        "plt.title('Top 20 Palavras Mais Frequentes')\n",
        "plt.show()"
      ],
      "metadata": {
        "id": "QJb0xMr_k8af"
      },
      "execution_count": null,
      "outputs": []
    },
    {
      "cell_type": "markdown",
      "source": [
        "## 9.3 Tipo de interação"
      ],
      "metadata": {
        "id": "jOmQi_8lk8q-"
      }
    },
    {
      "cell_type": "code",
      "source": [
        "# Contar os tipos de interação\n",
        "count_interactions = data_limpo['tipoInteracao'].value_counts()\n",
        "# Criar o gráfico de pizza\n",
        "plt.figure(figsize=(8, 6))\n",
        "count_interactions.plot(kind='pie', autopct='%1.1f%%')\n",
        "plt.title('Tipos de Interação')\n",
        "plt.ylabel('')\n",
        "plt.show()"
      ],
      "metadata": {
        "id": "9JBxC-5jk_ww"
      },
      "execution_count": null,
      "outputs": []
    },
    {
      "cell_type": "markdown",
      "source": [
        "## 9.4 Classificação de sentimentos"
      ],
      "metadata": {
        "id": "1qDoN4Bzk_1E"
      }
    },
    {
      "cell_type": "code",
      "source": [
        "# Contar os tipos de sentimentos\n",
        "count_sentimentos = data_limpo['sentimento'].value_counts()\n",
        "# Criar o gráfico de pizza\n",
        "plt.figure(figsize=(8, 6))\n",
        "count_sentimentos.plot(kind='pie', autopct='%1.1f%%')\n",
        "plt.title('Tipos de Sentimento')\n",
        "plt.ylabel('')\n",
        "plt.show()"
      ],
      "metadata": {
        "id": "YCxBzR6dlEts"
      },
      "execution_count": null,
      "outputs": []
    },
    {
      "cell_type": "code",
      "source": [
        "# Contar os tipos de sentimentos\n",
        "count_sentimentos = data_limpo['sentimento'].value_counts()\n",
        "\n",
        "# Plotagem do gráfico de barras\n",
        "plt.figure(figsize=(10, 6))\n",
        "count_sentimentos.plot(kind='bar')\n",
        "plt.xlabel('Sentimentos')\n",
        "plt.ylabel('Contagem')\n",
        "plt.title('Tipos de Sentimento')\n",
        "plt.show()"
      ],
      "metadata": {
        "id": "ARmSmzc8UvlE"
      },
      "execution_count": null,
      "outputs": []
    },
    {
      "cell_type": "markdown",
      "source": [
        "# 10. Representação vetorial de textos"
      ],
      "metadata": {
        "id": "wJIwfsI0J14l"
      }
    },
    {
      "cell_type": "code",
      "source": [
        "data_limpo"
      ],
      "metadata": {
        "id": "IDF4F6NOKjs2"
      },
      "execution_count": null,
      "outputs": []
    },
    {
      "cell_type": "code",
      "source": [
        "import pandas as pd\n",
        "from gensim.utils import simple_preprocess\n",
        "# Acessar a coluna que contém o texto do corpus\n",
        "text_column = data_limpo['texto']  # Substitua 'nome_da_coluna_de_texto' pelo nome correto da coluna\n",
        "# Pré-processamento de cada documento do corpus\n",
        "corpus_preprocessed = []\n",
        "for doc in text_column:\n",
        "    corpus_preprocessed.append(simple_preprocess(doc, deacc=True, min_len=3))\n",
        "# Exemplo de visualização dos documentos pré-processados\n",
        "for i, doc in enumerate(corpus_preprocessed):\n",
        "    print(f\"Documento {i+1}: {doc}\")"
      ],
      "metadata": {
        "id": "N2TScchPKKEi"
      },
      "execution_count": null,
      "outputs": []
    },
    {
      "cell_type": "code",
      "source": [
        "# Exemplo 2 – Vocabulário criado a partir dos documentos tokenizados e tratados\n",
        "\n",
        "from gensim.corpora import Dictionary as corpDict\n",
        "# nova função importada\n",
        "\n",
        "vocab = corpDict(corpus_preprocessed)\n",
        "print(vocab)\n",
        "\n",
        "df2 = pd.DataFrame(vocab.values(), columns=['Palavra'])\n",
        "display(df2)"
      ],
      "metadata": {
        "id": "RMnXlH4MRF-h"
      },
      "execution_count": null,
      "outputs": []
    },
    {
      "cell_type": "code",
      "source": [
        "# Exemplo 3 – Treinamento de um modelo de word2vec\n",
        "\n",
        "from gensim.models import Word2Vec\n",
        "\n",
        "# Treina um modelo de Word2Vec\n",
        "model = Word2Vec(corpus_preprocessed, min_count=1, vector_size=10)\n",
        "\n",
        "# Exibe uma tabela com os vetores\n",
        "dic = {v: model.wv[v] for v in vocab.values()}\n",
        "\n",
        "df3 = pd.DataFrame(dic)\n",
        "display(df3)"
      ],
      "metadata": {
        "id": "rIFtesQRRiiT"
      },
      "execution_count": null,
      "outputs": []
    },
    {
      "cell_type": "code",
      "source": [
        "# Exemplo 4 – Armazenando um modelo de word2vec\n",
        "\n",
        "import gensim\n",
        "import nltk\n",
        "from gensim.models import Word2Vec\n",
        "\n",
        "model_btg3 = gensim.models.Word2Vec(corpus_preprocessed, min_count=1)\n",
        "\n",
        "model_btg3.save('modelo_btg3')"
      ],
      "metadata": {
        "id": "VnyzlgnFSpL0"
      },
      "execution_count": null,
      "outputs": []
    },
    {
      "cell_type": "code",
      "source": [
        "# Exemplo 5 – Carregando um modelo\n",
        "from gensim.models import Word2Vec\n",
        "\n",
        "model_carreg = Word2Vec.load('modelo_btg3')"
      ],
      "metadata": {
        "id": "-aj-BeMfSx99"
      },
      "execution_count": null,
      "outputs": []
    },
    {
      "cell_type": "code",
      "source": [
        "# Exemplo 6 – Carregando um modelo pré-treinado\n",
        "# import gensim.downloader as corpus_data\n",
        "\n",
        "# model = corpus_data.load('word2vec-google-news-300')"
      ],
      "metadata": {
        "id": "t3ZqhDdWS1yh"
      },
      "execution_count": null,
      "outputs": []
    },
    {
      "cell_type": "code",
      "source": [
        "# # Exemplo 7 – Palavras similares a car e house\n",
        "\n",
        "# dfC = pd.DataFrame(model_carreg.similar_by_word('beta', topn=10), columns=['Palavra', 'Similaridade'])\n",
        "# dfC = dfC.set_index('Palavra')\n",
        "# display(dfC)\n",
        "\n",
        "# dfH = pd.DataFrame(model_carreg.similar_by_word('btgpactual', topn=10), columns=['Palavra', 'Similaridade'])\n",
        "# dfH = dfH.set_index('Palavra')\n",
        "# display(dfH)"
      ],
      "metadata": {
        "id": "bGRNz0IgS5FP"
      },
      "execution_count": null,
      "outputs": []
    },
    {
      "cell_type": "code",
      "source": [
        "from gensim.models import Word2Vec\n",
        "import pandas as pd\n",
        "\n",
        "# Obtenha os tokens da coluna\n",
        "tokenized_data = [tokens for tokens in data_limpo['no_stopwords']]\n",
        "\n",
        "# Treine o modelo Word2Vec\n",
        "model1 = Word2Vec(tokenized_data, min_count=1)\n",
        "\n",
        "# Exemplo de uso do modelo treinado\n",
        "word_vector = model.wv['btgpactual']\n",
        "similar_words = model.wv.most_similar('btgpactual')\n",
        "\n",
        "# Exiba os resultados\n",
        "print(\"Vetor da palavra 'btgpactual':\", word_vector)\n",
        "print(\"Palavras similares a 'btgpactual':\", similar_words)\n"
      ],
      "metadata": {
        "id": "QQGGerXUW5lS"
      },
      "execution_count": null,
      "outputs": []
    },
    {
      "cell_type": "markdown",
      "source": [
        "# **Desenvolvido por todos os integrantes do grupo**\n",
        "- Daniel Barzilai\n",
        "- Larissa Carvalho\n",
        "- Maria Luisa Maia\n",
        "- Pedro Rezende\n",
        "- Rafael Moritz\n",
        "- Vitor Oliveira\n"
      ],
      "metadata": {
        "id": "JzmfItc3Bh5y"
      }
    }
  ]
}