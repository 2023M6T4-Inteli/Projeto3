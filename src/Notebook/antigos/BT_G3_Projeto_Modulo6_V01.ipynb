{
 "cells": [
  {
   "cell_type": "markdown",
   "metadata": {
    "id": "W6orTJnannWi",
    "jp-MarkdownHeadingCollapsed": true,
    "tags": []
   },
   "source": [
    "# Projeto Grupo BT-G3\n"
   ]
  },
  {
   "cell_type": "markdown",
   "metadata": {
    "id": "k0U6vMkgcCOc"
   },
   "source": [
    "<center><img src=\"https://www.inteli.edu.br/wp-content/uploads/2021/08/20172028/marca_1-2.png\" width=\"50%\" height=\"50%\"/></center>"
   ]
  },
  {
   "cell_type": "markdown",
   "metadata": {
    "id": "GntQpF9HcHF7",
    "jp-MarkdownHeadingCollapsed": true,
    "tags": []
   },
   "source": [
    "<h1 align='center'><b>IA para Marketing: Monitoramento de campanhas utilizando processamento de linguagem natural (PLN)<b></h1>"
   ]
  },
  {
   "cell_type": "markdown",
   "metadata": {
    "id": "geZEZyxccIwj"
   },
   "source": [
    "<center><img src=\"https://upload.wikimedia.org/wikipedia/commons/c/c2/Btg-logo-blue.svg\" width=\"50%\" height=\"50%\"/></center>"
   ]
  },
  {
   "cell_type": "markdown",
   "metadata": {
    "id": "GDi4jBLdcIoo"
   },
   "source": [
    "<h2 align='center'>O Banco BTG Pactual enfrenta um desafio na área de Marketing em entender as necessidades e demandas dos clientes de maneira fácil e rápida nas redes sociais. A solução proposta para esse problema foi o desenvolvimento de uma Inteligência Artificial utilizando processamento de linguagem natural (PLN), capaz de monitorar as campanhas de marketing, voltadas para o Instagram. O objetivo principal dessa solução é rastrear os dados em tempo real, analisar e interpretar as mensagens e comentários enviados pelos clientes na rede social, a fim de identificar as necessidades e demandas de forma precisa e eficiente.</h2>"
   ]
  },
  {
   "cell_type": "markdown",
   "metadata": {
    "id": "d9cjCQyEcPhI"
   },
   "source": [
    "---"
   ]
  },
  {
   "cell_type": "markdown",
   "metadata": {
    "id": "YsbJTy0IcTIt",
    "jp-MarkdownHeadingCollapsed": true,
    "tags": []
   },
   "source": [
    "# Sobre os dados"
   ]
  },
  {
   "cell_type": "markdown",
   "metadata": {
    "id": "3-s3rB_1cVPc"
   },
   "source": [
    "Esse projeto está utilizando dados coletados e tratados pela equipe de Automation do BTG Pactual, o qual disponibilizou o dataset. Com base nas informações dispostas nesse dataset, realizaremos insights a cerca dos comentários feitos nos posts do Instagram do próprio banco. Vale lembrar que os dados estão anonimizados e resguardados para manter a privacidade e ética com os usuários e com o banco."
   ]
  },
  {
   "cell_type": "markdown",
   "metadata": {
    "id": "jCzVQHGx6tux",
    "jp-MarkdownHeadingCollapsed": true,
    "tags": []
   },
   "source": [
    "# 1. Instalação / Setup"
   ]
  },
  {
   "cell_type": "markdown",
   "metadata": {
    "id": "-werU6i-qvLp"
   },
   "source": [
    "Para o início do projeto, fizemos o desenvolvimento no Google Colab, por isso temos uma célula de conexão com o Google Drive, para poder acessar os dados. Caso seja rodado no Jupyter Notebook, precisará do dataset baixado."
   ]
  },
  {
   "cell_type": "code",
   "execution_count": 85,
   "metadata": {
    "id": "ae8sAINTP6Lr"
   },
   "outputs": [],
   "source": [
    "#Conectar com o Google Drive\n",
    "\n",
    "# from google.colab import drive\n",
    "# drive.mount('/content/drive')\n",
    "\n",
    "#Conectando o ambiente ao Google Drive"
   ]
  },
  {
   "cell_type": "markdown",
   "metadata": {
    "id": "nuIt1T3cwjSu"
   },
   "source": [
    "Aqui nós fazemos as importações para tratamento, pré-processamento e modelamento do Bag of Words. "
   ]
  },
  {
   "cell_type": "code",
   "execution_count": 86,
   "metadata": {
    "colab": {
     "base_uri": "https://localhost:8080/"
    },
    "id": "_yCGHdTCbq0e",
    "outputId": "7f2cdcee-6c04-4547-801e-6306faf30b02"
   },
   "outputs": [
    {
     "name": "stdout",
     "output_type": "stream",
     "text": [
      "Looking in indexes: https://pypi.org/simple, https://us-python.pkg.dev/colab-wheels/public/simple/\n",
      "Requirement already satisfied: wordcloud in /usr/local/lib/python3.10/dist-packages (1.8.2.2)\n",
      "Requirement already satisfied: numpy>=1.6.1 in /usr/local/lib/python3.10/dist-packages (from wordcloud) (1.22.4)\n",
      "Requirement already satisfied: pillow in /usr/local/lib/python3.10/dist-packages (from wordcloud) (8.4.0)\n",
      "Requirement already satisfied: matplotlib in /usr/local/lib/python3.10/dist-packages (from wordcloud) (3.7.1)\n",
      "Requirement already satisfied: contourpy>=1.0.1 in /usr/local/lib/python3.10/dist-packages (from matplotlib->wordcloud) (1.0.7)\n",
      "Requirement already satisfied: cycler>=0.10 in /usr/local/lib/python3.10/dist-packages (from matplotlib->wordcloud) (0.11.0)\n",
      "Requirement already satisfied: fonttools>=4.22.0 in /usr/local/lib/python3.10/dist-packages (from matplotlib->wordcloud) (4.39.3)\n",
      "Requirement already satisfied: kiwisolver>=1.0.1 in /usr/local/lib/python3.10/dist-packages (from matplotlib->wordcloud) (1.4.4)\n",
      "Requirement already satisfied: packaging>=20.0 in /usr/local/lib/python3.10/dist-packages (from matplotlib->wordcloud) (23.1)\n",
      "Requirement already satisfied: pyparsing>=2.3.1 in /usr/local/lib/python3.10/dist-packages (from matplotlib->wordcloud) (3.0.9)\n",
      "Requirement already satisfied: python-dateutil>=2.7 in /usr/local/lib/python3.10/dist-packages (from matplotlib->wordcloud) (2.8.2)\n",
      "Requirement already satisfied: six>=1.5 in /usr/local/lib/python3.10/dist-packages (from python-dateutil>=2.7->matplotlib->wordcloud) (1.16.0)\n"
     ]
    }
   ],
   "source": [
    "!pip install wordcloud"
   ]
  },
  {
   "cell_type": "code",
   "execution_count": 87,
   "metadata": {
    "colab": {
     "base_uri": "https://localhost:8080/"
    },
    "id": "5INUqxN_NPZ9",
    "outputId": "75a068ab-7420-4f37-dae5-805b76e44c53"
   },
   "outputs": [
    {
     "name": "stderr",
     "output_type": "stream",
     "text": [
      "[nltk_data] Downloading package punkt to /root/nltk_data...\n",
      "[nltk_data]   Package punkt is already up-to-date!\n",
      "[nltk_data] Downloading package stopwords to /root/nltk_data...\n",
      "[nltk_data]   Package stopwords is already up-to-date!\n",
      "[nltk_data] Downloading package rslp to /root/nltk_data...\n",
      "[nltk_data]   Package rslp is already up-to-date!\n",
      "[nltk_data] Downloading package wordnet to /root/nltk_data...\n",
      "[nltk_data]   Package wordnet is already up-to-date!\n"
     ]
    }
   ],
   "source": [
    "import pandas as pd\n",
    "import numpy as np\n",
    "import matplotlib.pyplot as plt\n",
    "import ipywidgets as widgets\n",
    "from wordcloud import WordCloud\n",
    "\n",
    "import re\n",
    "import unicodedata\n",
    "\n",
    "from sklearn.feature_extraction.text import CountVectorizer\n",
    "\n",
    "from collections import Counter\n",
    "\n",
    "import nltk\n",
    "nltk.download('punkt')\n",
    "nltk.download('stopwords')\n",
    "nltk.download('rslp')\n",
    "nltk.download('wordnet')\n",
    "from nltk.stem.snowball import SnowballStemmer\n",
    "from nltk.corpus import PlaintextCorpusReader\n",
    "from nltk.stem import WordNetLemmatizer\n",
    "from nltk.tokenize import RegexpTokenizer\n",
    "from nltk.corpus import stopwords\n",
    "from nltk.stem import RSLPStemmer\n",
    "from nltk import tokenize\n",
    "from nltk import word_tokenize, pos_tag"
   ]
  },
  {
   "cell_type": "markdown",
   "metadata": {
    "id": "MgoZgBnOxFul"
   },
   "source": [
    "Rodando o dataset, para analisar seu conteúdo:"
   ]
  },
  {
   "cell_type": "code",
   "execution_count": 88,
   "metadata": {
    "colab": {
     "base_uri": "https://localhost:8080/",
     "height": 530
    },
    "id": "pvOhBRFWQFk_",
    "outputId": "cdb8eb16-4b76-410d-88d4-9beb89f6e5f2"
   },
   "outputs": [
    {
     "data": {
      "text/html": [
       "\n",
       "  <div id=\"df-6ebd73d4-1bab-4bc8-a49a-eaf91d1a53bb\">\n",
       "    <div class=\"colab-df-container\">\n",
       "      <div>\n",
       "<style scoped>\n",
       "    .dataframe tbody tr th:only-of-type {\n",
       "        vertical-align: middle;\n",
       "    }\n",
       "\n",
       "    .dataframe tbody tr th {\n",
       "        vertical-align: top;\n",
       "    }\n",
       "\n",
       "    .dataframe thead th {\n",
       "        text-align: right;\n",
       "    }\n",
       "</style>\n",
       "<table border=\"1\" class=\"dataframe\">\n",
       "  <thead>\n",
       "    <tr style=\"text-align: right;\">\n",
       "      <th></th>\n",
       "      <th>id</th>\n",
       "      <th>\"dataPublicada\"</th>\n",
       "      <th>\"autor\"</th>\n",
       "      <th>\"texto\"</th>\n",
       "      <th>\"sentimento\"</th>\n",
       "      <th>\"tipoInteracao\"</th>\n",
       "      <th>\"anomalia\"</th>\n",
       "      <th>\"probabilidadeAnomalia\"</th>\n",
       "      <th>\"linkPost\"</th>\n",
       "      <th>\"processado\"</th>\n",
       "      <th>\"contemHyperlink\"</th>\n",
       "    </tr>\n",
       "  </thead>\n",
       "  <tbody>\n",
       "    <tr>\n",
       "      <th>0</th>\n",
       "      <td>1</td>\n",
       "      <td>\"2022-03-04 09:38:00\"</td>\n",
       "      <td>v8_capital</td>\n",
       "      <td>Confira os resultados dos nossos fundos no mês...</td>\n",
       "      <td>NEUTRAL</td>\n",
       "      <td>marcação</td>\n",
       "      <td>1</td>\n",
       "      <td>52</td>\n",
       "      <td>https://www.instagram.com/p/CarqO6drRux/</td>\n",
       "      <td>0</td>\n",
       "      <td>0</td>\n",
       "    </tr>\n",
       "    <tr>\n",
       "      <th>1</th>\n",
       "      <td>2</td>\n",
       "      <td>\"2022-03-04 09:29:00\"</td>\n",
       "      <td>winthegame_of</td>\n",
       "      <td>A Alvarez &amp; Marsal estará conosco no Sportainm...</td>\n",
       "      <td>NEUTRAL</td>\n",
       "      <td>marcação</td>\n",
       "      <td>0</td>\n",
       "      <td>43</td>\n",
       "      <td>https://www.instagram.com/p/CarpQUluh7z/</td>\n",
       "      <td>0</td>\n",
       "      <td>0</td>\n",
       "    </tr>\n",
       "    <tr>\n",
       "      <th>2</th>\n",
       "      <td>3</td>\n",
       "      <td>\"2022-03-04 09:20:00\"</td>\n",
       "      <td>marta_bego</td>\n",
       "      <td>#Repost btgpactual with make_repost ・・・ Entend...</td>\n",
       "      <td>NEUTRAL</td>\n",
       "      <td>marcação</td>\n",
       "      <td>0</td>\n",
       "      <td>45</td>\n",
       "      <td>https://www.instagram.com/p/CaroK9Nu8tC/</td>\n",
       "      <td>0</td>\n",
       "      <td>0</td>\n",
       "    </tr>\n",
       "    <tr>\n",
       "      <th>3</th>\n",
       "      <td>4</td>\n",
       "      <td>\"2022-03-04 08:36:00\"</td>\n",
       "      <td>lmviapiana</td>\n",
       "      <td>Minuto touro de ouro</td>\n",
       "      <td>POSITIVE</td>\n",
       "      <td>comentário</td>\n",
       "      <td>0</td>\n",
       "      <td>38</td>\n",
       "      <td>https://www.instagram.com/p/CapXhB5Lvas/#17977...</td>\n",
       "      <td>0</td>\n",
       "      <td>0</td>\n",
       "    </tr>\n",
       "    <tr>\n",
       "      <th>4</th>\n",
       "      <td>5</td>\n",
       "      <td>\"2022-03-03 21:10:00\"</td>\n",
       "      <td>vanilson_dos</td>\n",
       "      <td>@ricktolledo Sim</td>\n",
       "      <td>NEUTRAL</td>\n",
       "      <td>resposta</td>\n",
       "      <td>0</td>\n",
       "      <td>17</td>\n",
       "      <td>https://www.instagram.com/p/CapXhB5Lvas/#17842...</td>\n",
       "      <td>0</td>\n",
       "      <td>0</td>\n",
       "    </tr>\n",
       "  </tbody>\n",
       "</table>\n",
       "</div>\n",
       "      <button class=\"colab-df-convert\" onclick=\"convertToInteractive('df-6ebd73d4-1bab-4bc8-a49a-eaf91d1a53bb')\"\n",
       "              title=\"Convert this dataframe to an interactive table.\"\n",
       "              style=\"display:none;\">\n",
       "        \n",
       "  <svg xmlns=\"http://www.w3.org/2000/svg\" height=\"24px\"viewBox=\"0 0 24 24\"\n",
       "       width=\"24px\">\n",
       "    <path d=\"M0 0h24v24H0V0z\" fill=\"none\"/>\n",
       "    <path d=\"M18.56 5.44l.94 2.06.94-2.06 2.06-.94-2.06-.94-.94-2.06-.94 2.06-2.06.94zm-11 1L8.5 8.5l.94-2.06 2.06-.94-2.06-.94L8.5 2.5l-.94 2.06-2.06.94zm10 10l.94 2.06.94-2.06 2.06-.94-2.06-.94-.94-2.06-.94 2.06-2.06.94z\"/><path d=\"M17.41 7.96l-1.37-1.37c-.4-.4-.92-.59-1.43-.59-.52 0-1.04.2-1.43.59L10.3 9.45l-7.72 7.72c-.78.78-.78 2.05 0 2.83L4 21.41c.39.39.9.59 1.41.59.51 0 1.02-.2 1.41-.59l7.78-7.78 2.81-2.81c.8-.78.8-2.07 0-2.86zM5.41 20L4 18.59l7.72-7.72 1.47 1.35L5.41 20z\"/>\n",
       "  </svg>\n",
       "      </button>\n",
       "      \n",
       "  <style>\n",
       "    .colab-df-container {\n",
       "      display:flex;\n",
       "      flex-wrap:wrap;\n",
       "      gap: 12px;\n",
       "    }\n",
       "\n",
       "    .colab-df-convert {\n",
       "      background-color: #E8F0FE;\n",
       "      border: none;\n",
       "      border-radius: 50%;\n",
       "      cursor: pointer;\n",
       "      display: none;\n",
       "      fill: #1967D2;\n",
       "      height: 32px;\n",
       "      padding: 0 0 0 0;\n",
       "      width: 32px;\n",
       "    }\n",
       "\n",
       "    .colab-df-convert:hover {\n",
       "      background-color: #E2EBFA;\n",
       "      box-shadow: 0px 1px 2px rgba(60, 64, 67, 0.3), 0px 1px 3px 1px rgba(60, 64, 67, 0.15);\n",
       "      fill: #174EA6;\n",
       "    }\n",
       "\n",
       "    [theme=dark] .colab-df-convert {\n",
       "      background-color: #3B4455;\n",
       "      fill: #D2E3FC;\n",
       "    }\n",
       "\n",
       "    [theme=dark] .colab-df-convert:hover {\n",
       "      background-color: #434B5C;\n",
       "      box-shadow: 0px 1px 3px 1px rgba(0, 0, 0, 0.15);\n",
       "      filter: drop-shadow(0px 1px 2px rgba(0, 0, 0, 0.3));\n",
       "      fill: #FFFFFF;\n",
       "    }\n",
       "  </style>\n",
       "\n",
       "      <script>\n",
       "        const buttonEl =\n",
       "          document.querySelector('#df-6ebd73d4-1bab-4bc8-a49a-eaf91d1a53bb button.colab-df-convert');\n",
       "        buttonEl.style.display =\n",
       "          google.colab.kernel.accessAllowed ? 'block' : 'none';\n",
       "\n",
       "        async function convertToInteractive(key) {\n",
       "          const element = document.querySelector('#df-6ebd73d4-1bab-4bc8-a49a-eaf91d1a53bb');\n",
       "          const dataTable =\n",
       "            await google.colab.kernel.invokeFunction('convertToInteractive',\n",
       "                                                     [key], {});\n",
       "          if (!dataTable) return;\n",
       "\n",
       "          const docLinkHtml = 'Like what you see? Visit the ' +\n",
       "            '<a target=\"_blank\" href=https://colab.research.google.com/notebooks/data_table.ipynb>data table notebook</a>'\n",
       "            + ' to learn more about interactive tables.';\n",
       "          element.innerHTML = '';\n",
       "          dataTable['output_type'] = 'display_data';\n",
       "          await google.colab.output.renderOutput(dataTable, element);\n",
       "          const docLink = document.createElement('div');\n",
       "          docLink.innerHTML = docLinkHtml;\n",
       "          element.appendChild(docLink);\n",
       "        }\n",
       "      </script>\n",
       "    </div>\n",
       "  </div>\n",
       "  "
      ],
      "text/plain": [
       "   id        \"dataPublicada\"        \"autor\"  \\\n",
       "0   1  \"2022-03-04 09:38:00\"     v8_capital   \n",
       "1   2  \"2022-03-04 09:29:00\"  winthegame_of   \n",
       "2   3  \"2022-03-04 09:20:00\"     marta_bego   \n",
       "3   4  \"2022-03-04 08:36:00\"     lmviapiana   \n",
       "4   5  \"2022-03-03 21:10:00\"   vanilson_dos   \n",
       "\n",
       "                                             \"texto\" \"sentimento\"  \\\n",
       "0  Confira os resultados dos nossos fundos no mês...      NEUTRAL   \n",
       "1  A Alvarez & Marsal estará conosco no Sportainm...      NEUTRAL   \n",
       "2  #Repost btgpactual with make_repost ・・・ Entend...      NEUTRAL   \n",
       "3                               Minuto touro de ouro     POSITIVE   \n",
       "4                                   @ricktolledo Sim      NEUTRAL   \n",
       "\n",
       "  \"tipoInteracao\"  \"anomalia\"  \"probabilidadeAnomalia\"  \\\n",
       "0        marcação           1                       52   \n",
       "1        marcação           0                       43   \n",
       "2        marcação           0                       45   \n",
       "3      comentário           0                       38   \n",
       "4        resposta           0                       17   \n",
       "\n",
       "                                          \"linkPost\"  \"processado\"  \\\n",
       "0           https://www.instagram.com/p/CarqO6drRux/             0   \n",
       "1           https://www.instagram.com/p/CarpQUluh7z/             0   \n",
       "2           https://www.instagram.com/p/CaroK9Nu8tC/             0   \n",
       "3  https://www.instagram.com/p/CapXhB5Lvas/#17977...             0   \n",
       "4  https://www.instagram.com/p/CapXhB5Lvas/#17842...             0   \n",
       "\n",
       "   \"contemHyperlink\"  \n",
       "0                  0  \n",
       "1                  0  \n",
       "2                  0  \n",
       "3                  0  \n",
       "4                  0  "
      ]
     },
     "execution_count": 88,
     "metadata": {},
     "output_type": "execute_result"
    }
   ],
   "source": [
    "data = pd.read_csv('/content/drive/MyDrive/Módulo 6/projeto/base_nova_csv.csv')\n",
    "data.head(5)"
   ]
  },
  {
   "cell_type": "markdown",
   "metadata": {
    "id": "dDAJ_PlDObbV",
    "jp-MarkdownHeadingCollapsed": true,
    "tags": []
   },
   "source": [
    "# 2. Tratamento dos Dados"
   ]
  },
  {
   "cell_type": "markdown",
   "metadata": {
    "id": "YXOQwanCPRv1"
   },
   "source": [
    "No tratamento de dados, nós analisamos o que podemos mudar no dataframe para fazer uma análise melhor de seus dados e alcançar o objetivo traçado. Dessa forma, é possível visualizar algumas etapas do tratamento abaixo, por exemplo:\n",
    "- Renomear as colunas para retirar aspas duplos;\n",
    "- Analisar as colunas com objetos que possam ser quantitativos;\n",
    "- Remover algumas colunas que não servirão para o desenvolvimento do projeto;\n",
    "- Filtro para analisar comentários que não tenham o 'btgpactual' como autor, para ter uma análise somente dos usuários."
   ]
  },
  {
   "cell_type": "code",
   "execution_count": 89,
   "metadata": {
    "id": "fx_xLrMifUmb"
   },
   "outputs": [],
   "source": [
    "data = data.rename(columns={'\"anomalia\"' : 'anomalia', '\"dataPublicada\"' : 'dataPublicada', '\"autor\"' : 'autor', '\"texto\"' : 'texto', '\"sentimento\"' : 'sentimento', '\"tipoInteracao\"' : 'tipoInteracao', '\"probabilidadeAnomalia\"' : 'probabilidadeAnomalia', '\"linkPost\"' : 'linkPost', '\"processado\"' : 'processado',  '\"contemHyperlink\"' : 'contemHyperlink' })"
   ]
  },
  {
   "cell_type": "code",
   "execution_count": 90,
   "metadata": {
    "colab": {
     "base_uri": "https://localhost:8080/",
     "height": 291
    },
    "id": "aLm49aNqY5iw",
    "outputId": "94daccfd-e27d-41ba-e25c-6c711f590a68"
   },
   "outputs": [
    {
     "data": {
      "text/html": [
       "\n",
       "  <div id=\"df-b9f9cb40-c00b-4378-80a8-4684954ca1a6\">\n",
       "    <div class=\"colab-df-container\">\n",
       "      <div>\n",
       "<style scoped>\n",
       "    .dataframe tbody tr th:only-of-type {\n",
       "        vertical-align: middle;\n",
       "    }\n",
       "\n",
       "    .dataframe tbody tr th {\n",
       "        vertical-align: top;\n",
       "    }\n",
       "\n",
       "    .dataframe thead th {\n",
       "        text-align: right;\n",
       "    }\n",
       "</style>\n",
       "<table border=\"1\" class=\"dataframe\">\n",
       "  <thead>\n",
       "    <tr style=\"text-align: right;\">\n",
       "      <th></th>\n",
       "      <th>id</th>\n",
       "      <th>dataPublicada</th>\n",
       "      <th>autor</th>\n",
       "      <th>texto</th>\n",
       "      <th>sentimento</th>\n",
       "      <th>tipoInteracao</th>\n",
       "      <th>anomalia</th>\n",
       "      <th>probabilidadeAnomalia</th>\n",
       "      <th>linkPost</th>\n",
       "      <th>processado</th>\n",
       "      <th>contemHyperlink</th>\n",
       "    </tr>\n",
       "  </thead>\n",
       "  <tbody>\n",
       "    <tr>\n",
       "      <th>0</th>\n",
       "      <td>1</td>\n",
       "      <td>\"2022-03-04 09:38:00\"</td>\n",
       "      <td>v8_capital</td>\n",
       "      <td>Confira os resultados dos nossos fundos no mês...</td>\n",
       "      <td>NEUTRAL</td>\n",
       "      <td>marcação</td>\n",
       "      <td>1</td>\n",
       "      <td>52</td>\n",
       "      <td>https://www.instagram.com/p/CarqO6drRux/</td>\n",
       "      <td>0</td>\n",
       "      <td>0</td>\n",
       "    </tr>\n",
       "    <tr>\n",
       "      <th>1</th>\n",
       "      <td>2</td>\n",
       "      <td>\"2022-03-04 09:29:00\"</td>\n",
       "      <td>winthegame_of</td>\n",
       "      <td>A Alvarez &amp; Marsal estará conosco no Sportainm...</td>\n",
       "      <td>NEUTRAL</td>\n",
       "      <td>marcação</td>\n",
       "      <td>0</td>\n",
       "      <td>43</td>\n",
       "      <td>https://www.instagram.com/p/CarpQUluh7z/</td>\n",
       "      <td>0</td>\n",
       "      <td>0</td>\n",
       "    </tr>\n",
       "    <tr>\n",
       "      <th>2</th>\n",
       "      <td>3</td>\n",
       "      <td>\"2022-03-04 09:20:00\"</td>\n",
       "      <td>marta_bego</td>\n",
       "      <td>#Repost btgpactual with make_repost ・・・ Entend...</td>\n",
       "      <td>NEUTRAL</td>\n",
       "      <td>marcação</td>\n",
       "      <td>0</td>\n",
       "      <td>45</td>\n",
       "      <td>https://www.instagram.com/p/CaroK9Nu8tC/</td>\n",
       "      <td>0</td>\n",
       "      <td>0</td>\n",
       "    </tr>\n",
       "  </tbody>\n",
       "</table>\n",
       "</div>\n",
       "      <button class=\"colab-df-convert\" onclick=\"convertToInteractive('df-b9f9cb40-c00b-4378-80a8-4684954ca1a6')\"\n",
       "              title=\"Convert this dataframe to an interactive table.\"\n",
       "              style=\"display:none;\">\n",
       "        \n",
       "  <svg xmlns=\"http://www.w3.org/2000/svg\" height=\"24px\"viewBox=\"0 0 24 24\"\n",
       "       width=\"24px\">\n",
       "    <path d=\"M0 0h24v24H0V0z\" fill=\"none\"/>\n",
       "    <path d=\"M18.56 5.44l.94 2.06.94-2.06 2.06-.94-2.06-.94-.94-2.06-.94 2.06-2.06.94zm-11 1L8.5 8.5l.94-2.06 2.06-.94-2.06-.94L8.5 2.5l-.94 2.06-2.06.94zm10 10l.94 2.06.94-2.06 2.06-.94-2.06-.94-.94-2.06-.94 2.06-2.06.94z\"/><path d=\"M17.41 7.96l-1.37-1.37c-.4-.4-.92-.59-1.43-.59-.52 0-1.04.2-1.43.59L10.3 9.45l-7.72 7.72c-.78.78-.78 2.05 0 2.83L4 21.41c.39.39.9.59 1.41.59.51 0 1.02-.2 1.41-.59l7.78-7.78 2.81-2.81c.8-.78.8-2.07 0-2.86zM5.41 20L4 18.59l7.72-7.72 1.47 1.35L5.41 20z\"/>\n",
       "  </svg>\n",
       "      </button>\n",
       "      \n",
       "  <style>\n",
       "    .colab-df-container {\n",
       "      display:flex;\n",
       "      flex-wrap:wrap;\n",
       "      gap: 12px;\n",
       "    }\n",
       "\n",
       "    .colab-df-convert {\n",
       "      background-color: #E8F0FE;\n",
       "      border: none;\n",
       "      border-radius: 50%;\n",
       "      cursor: pointer;\n",
       "      display: none;\n",
       "      fill: #1967D2;\n",
       "      height: 32px;\n",
       "      padding: 0 0 0 0;\n",
       "      width: 32px;\n",
       "    }\n",
       "\n",
       "    .colab-df-convert:hover {\n",
       "      background-color: #E2EBFA;\n",
       "      box-shadow: 0px 1px 2px rgba(60, 64, 67, 0.3), 0px 1px 3px 1px rgba(60, 64, 67, 0.15);\n",
       "      fill: #174EA6;\n",
       "    }\n",
       "\n",
       "    [theme=dark] .colab-df-convert {\n",
       "      background-color: #3B4455;\n",
       "      fill: #D2E3FC;\n",
       "    }\n",
       "\n",
       "    [theme=dark] .colab-df-convert:hover {\n",
       "      background-color: #434B5C;\n",
       "      box-shadow: 0px 1px 3px 1px rgba(0, 0, 0, 0.15);\n",
       "      filter: drop-shadow(0px 1px 2px rgba(0, 0, 0, 0.3));\n",
       "      fill: #FFFFFF;\n",
       "    }\n",
       "  </style>\n",
       "\n",
       "      <script>\n",
       "        const buttonEl =\n",
       "          document.querySelector('#df-b9f9cb40-c00b-4378-80a8-4684954ca1a6 button.colab-df-convert');\n",
       "        buttonEl.style.display =\n",
       "          google.colab.kernel.accessAllowed ? 'block' : 'none';\n",
       "\n",
       "        async function convertToInteractive(key) {\n",
       "          const element = document.querySelector('#df-b9f9cb40-c00b-4378-80a8-4684954ca1a6');\n",
       "          const dataTable =\n",
       "            await google.colab.kernel.invokeFunction('convertToInteractive',\n",
       "                                                     [key], {});\n",
       "          if (!dataTable) return;\n",
       "\n",
       "          const docLinkHtml = 'Like what you see? Visit the ' +\n",
       "            '<a target=\"_blank\" href=https://colab.research.google.com/notebooks/data_table.ipynb>data table notebook</a>'\n",
       "            + ' to learn more about interactive tables.';\n",
       "          element.innerHTML = '';\n",
       "          dataTable['output_type'] = 'display_data';\n",
       "          await google.colab.output.renderOutput(dataTable, element);\n",
       "          const docLink = document.createElement('div');\n",
       "          docLink.innerHTML = docLinkHtml;\n",
       "          element.appendChild(docLink);\n",
       "        }\n",
       "      </script>\n",
       "    </div>\n",
       "  </div>\n",
       "  "
      ],
      "text/plain": [
       "   id          dataPublicada          autor  \\\n",
       "0   1  \"2022-03-04 09:38:00\"     v8_capital   \n",
       "1   2  \"2022-03-04 09:29:00\"  winthegame_of   \n",
       "2   3  \"2022-03-04 09:20:00\"     marta_bego   \n",
       "\n",
       "                                               texto sentimento tipoInteracao  \\\n",
       "0  Confira os resultados dos nossos fundos no mês...    NEUTRAL      marcação   \n",
       "1  A Alvarez & Marsal estará conosco no Sportainm...    NEUTRAL      marcação   \n",
       "2  #Repost btgpactual with make_repost ・・・ Entend...    NEUTRAL      marcação   \n",
       "\n",
       "   anomalia  probabilidadeAnomalia                                  linkPost  \\\n",
       "0         1                     52  https://www.instagram.com/p/CarqO6drRux/   \n",
       "1         0                     43  https://www.instagram.com/p/CarpQUluh7z/   \n",
       "2         0                     45  https://www.instagram.com/p/CaroK9Nu8tC/   \n",
       "\n",
       "   processado  contemHyperlink  \n",
       "0           0                0  \n",
       "1           0                0  \n",
       "2           0                0  "
      ]
     },
     "execution_count": 90,
     "metadata": {},
     "output_type": "execute_result"
    }
   ],
   "source": [
    "data.head(3)"
   ]
  },
  {
   "cell_type": "code",
   "execution_count": 91,
   "metadata": {
    "colab": {
     "base_uri": "https://localhost:8080/",
     "height": 300
    },
    "id": "J5GWQzKeRFGd",
    "outputId": "32cd521a-bc21-45ef-8fb1-20758d56be4f"
   },
   "outputs": [
    {
     "data": {
      "text/html": [
       "\n",
       "  <div id=\"df-bfa4daaf-4946-401a-97b9-cc1f616260dc\">\n",
       "    <div class=\"colab-df-container\">\n",
       "      <div>\n",
       "<style scoped>\n",
       "    .dataframe tbody tr th:only-of-type {\n",
       "        vertical-align: middle;\n",
       "    }\n",
       "\n",
       "    .dataframe tbody tr th {\n",
       "        vertical-align: top;\n",
       "    }\n",
       "\n",
       "    .dataframe thead th {\n",
       "        text-align: right;\n",
       "    }\n",
       "</style>\n",
       "<table border=\"1\" class=\"dataframe\">\n",
       "  <thead>\n",
       "    <tr style=\"text-align: right;\">\n",
       "      <th></th>\n",
       "      <th>id</th>\n",
       "      <th>anomalia</th>\n",
       "      <th>probabilidadeAnomalia</th>\n",
       "      <th>processado</th>\n",
       "      <th>contemHyperlink</th>\n",
       "    </tr>\n",
       "  </thead>\n",
       "  <tbody>\n",
       "    <tr>\n",
       "      <th>count</th>\n",
       "      <td>1.235500e+04</td>\n",
       "      <td>12355.000000</td>\n",
       "      <td>12355.000000</td>\n",
       "      <td>12355.0</td>\n",
       "      <td>12355.000000</td>\n",
       "    </tr>\n",
       "    <tr>\n",
       "      <th>mean</th>\n",
       "      <td>1.757789e+06</td>\n",
       "      <td>0.222339</td>\n",
       "      <td>37.325698</td>\n",
       "      <td>0.0</td>\n",
       "      <td>0.005423</td>\n",
       "    </tr>\n",
       "    <tr>\n",
       "      <th>std</th>\n",
       "      <td>7.967971e+05</td>\n",
       "      <td>0.415835</td>\n",
       "      <td>16.374936</td>\n",
       "      <td>0.0</td>\n",
       "      <td>0.073443</td>\n",
       "    </tr>\n",
       "    <tr>\n",
       "      <th>min</th>\n",
       "      <td>1.000000e+00</td>\n",
       "      <td>0.000000</td>\n",
       "      <td>7.000000</td>\n",
       "      <td>0.0</td>\n",
       "      <td>0.000000</td>\n",
       "    </tr>\n",
       "    <tr>\n",
       "      <th>25%</th>\n",
       "      <td>1.314377e+06</td>\n",
       "      <td>0.000000</td>\n",
       "      <td>24.000000</td>\n",
       "      <td>0.0</td>\n",
       "      <td>0.000000</td>\n",
       "    </tr>\n",
       "    <tr>\n",
       "      <th>50%</th>\n",
       "      <td>1.783879e+06</td>\n",
       "      <td>0.000000</td>\n",
       "      <td>37.000000</td>\n",
       "      <td>0.0</td>\n",
       "      <td>0.000000</td>\n",
       "    </tr>\n",
       "    <tr>\n",
       "      <th>75%</th>\n",
       "      <td>2.388714e+06</td>\n",
       "      <td>0.000000</td>\n",
       "      <td>48.000000</td>\n",
       "      <td>0.0</td>\n",
       "      <td>0.000000</td>\n",
       "    </tr>\n",
       "    <tr>\n",
       "      <th>max</th>\n",
       "      <td>3.045012e+06</td>\n",
       "      <td>1.000000</td>\n",
       "      <td>100.000000</td>\n",
       "      <td>0.0</td>\n",
       "      <td>1.000000</td>\n",
       "    </tr>\n",
       "  </tbody>\n",
       "</table>\n",
       "</div>\n",
       "      <button class=\"colab-df-convert\" onclick=\"convertToInteractive('df-bfa4daaf-4946-401a-97b9-cc1f616260dc')\"\n",
       "              title=\"Convert this dataframe to an interactive table.\"\n",
       "              style=\"display:none;\">\n",
       "        \n",
       "  <svg xmlns=\"http://www.w3.org/2000/svg\" height=\"24px\"viewBox=\"0 0 24 24\"\n",
       "       width=\"24px\">\n",
       "    <path d=\"M0 0h24v24H0V0z\" fill=\"none\"/>\n",
       "    <path d=\"M18.56 5.44l.94 2.06.94-2.06 2.06-.94-2.06-.94-.94-2.06-.94 2.06-2.06.94zm-11 1L8.5 8.5l.94-2.06 2.06-.94-2.06-.94L8.5 2.5l-.94 2.06-2.06.94zm10 10l.94 2.06.94-2.06 2.06-.94-2.06-.94-.94-2.06-.94 2.06-2.06.94z\"/><path d=\"M17.41 7.96l-1.37-1.37c-.4-.4-.92-.59-1.43-.59-.52 0-1.04.2-1.43.59L10.3 9.45l-7.72 7.72c-.78.78-.78 2.05 0 2.83L4 21.41c.39.39.9.59 1.41.59.51 0 1.02-.2 1.41-.59l7.78-7.78 2.81-2.81c.8-.78.8-2.07 0-2.86zM5.41 20L4 18.59l7.72-7.72 1.47 1.35L5.41 20z\"/>\n",
       "  </svg>\n",
       "      </button>\n",
       "      \n",
       "  <style>\n",
       "    .colab-df-container {\n",
       "      display:flex;\n",
       "      flex-wrap:wrap;\n",
       "      gap: 12px;\n",
       "    }\n",
       "\n",
       "    .colab-df-convert {\n",
       "      background-color: #E8F0FE;\n",
       "      border: none;\n",
       "      border-radius: 50%;\n",
       "      cursor: pointer;\n",
       "      display: none;\n",
       "      fill: #1967D2;\n",
       "      height: 32px;\n",
       "      padding: 0 0 0 0;\n",
       "      width: 32px;\n",
       "    }\n",
       "\n",
       "    .colab-df-convert:hover {\n",
       "      background-color: #E2EBFA;\n",
       "      box-shadow: 0px 1px 2px rgba(60, 64, 67, 0.3), 0px 1px 3px 1px rgba(60, 64, 67, 0.15);\n",
       "      fill: #174EA6;\n",
       "    }\n",
       "\n",
       "    [theme=dark] .colab-df-convert {\n",
       "      background-color: #3B4455;\n",
       "      fill: #D2E3FC;\n",
       "    }\n",
       "\n",
       "    [theme=dark] .colab-df-convert:hover {\n",
       "      background-color: #434B5C;\n",
       "      box-shadow: 0px 1px 3px 1px rgba(0, 0, 0, 0.15);\n",
       "      filter: drop-shadow(0px 1px 2px rgba(0, 0, 0, 0.3));\n",
       "      fill: #FFFFFF;\n",
       "    }\n",
       "  </style>\n",
       "\n",
       "      <script>\n",
       "        const buttonEl =\n",
       "          document.querySelector('#df-bfa4daaf-4946-401a-97b9-cc1f616260dc button.colab-df-convert');\n",
       "        buttonEl.style.display =\n",
       "          google.colab.kernel.accessAllowed ? 'block' : 'none';\n",
       "\n",
       "        async function convertToInteractive(key) {\n",
       "          const element = document.querySelector('#df-bfa4daaf-4946-401a-97b9-cc1f616260dc');\n",
       "          const dataTable =\n",
       "            await google.colab.kernel.invokeFunction('convertToInteractive',\n",
       "                                                     [key], {});\n",
       "          if (!dataTable) return;\n",
       "\n",
       "          const docLinkHtml = 'Like what you see? Visit the ' +\n",
       "            '<a target=\"_blank\" href=https://colab.research.google.com/notebooks/data_table.ipynb>data table notebook</a>'\n",
       "            + ' to learn more about interactive tables.';\n",
       "          element.innerHTML = '';\n",
       "          dataTable['output_type'] = 'display_data';\n",
       "          await google.colab.output.renderOutput(dataTable, element);\n",
       "          const docLink = document.createElement('div');\n",
       "          docLink.innerHTML = docLinkHtml;\n",
       "          element.appendChild(docLink);\n",
       "        }\n",
       "      </script>\n",
       "    </div>\n",
       "  </div>\n",
       "  "
      ],
      "text/plain": [
       "                 id      anomalia  probabilidadeAnomalia  processado  \\\n",
       "count  1.235500e+04  12355.000000           12355.000000     12355.0   \n",
       "mean   1.757789e+06      0.222339              37.325698         0.0   \n",
       "std    7.967971e+05      0.415835              16.374936         0.0   \n",
       "min    1.000000e+00      0.000000               7.000000         0.0   \n",
       "25%    1.314377e+06      0.000000              24.000000         0.0   \n",
       "50%    1.783879e+06      0.000000              37.000000         0.0   \n",
       "75%    2.388714e+06      0.000000              48.000000         0.0   \n",
       "max    3.045012e+06      1.000000             100.000000         0.0   \n",
       "\n",
       "       contemHyperlink  \n",
       "count     12355.000000  \n",
       "mean          0.005423  \n",
       "std           0.073443  \n",
       "min           0.000000  \n",
       "25%           0.000000  \n",
       "50%           0.000000  \n",
       "75%           0.000000  \n",
       "max           1.000000  "
      ]
     },
     "execution_count": 91,
     "metadata": {},
     "output_type": "execute_result"
    }
   ],
   "source": [
    "data.describe()"
   ]
  },
  {
   "cell_type": "code",
   "execution_count": 92,
   "metadata": {
    "colab": {
     "base_uri": "https://localhost:8080/",
     "height": 143
    },
    "id": "SWFRdnQ2Vwob",
    "outputId": "cc55f79a-28c5-4f7d-98b9-52dcfc8b5d64"
   },
   "outputs": [
    {
     "data": {
      "text/html": [
       "\n",
       "  <div id=\"df-c63f0c48-9f61-46f9-a225-3b23568a033c\">\n",
       "    <div class=\"colab-df-container\">\n",
       "      <div>\n",
       "<style scoped>\n",
       "    .dataframe tbody tr th:only-of-type {\n",
       "        vertical-align: middle;\n",
       "    }\n",
       "\n",
       "    .dataframe tbody tr th {\n",
       "        vertical-align: top;\n",
       "    }\n",
       "\n",
       "    .dataframe thead th {\n",
       "        text-align: right;\n",
       "    }\n",
       "</style>\n",
       "<table border=\"1\" class=\"dataframe\">\n",
       "  <thead>\n",
       "    <tr style=\"text-align: right;\">\n",
       "      <th></th>\n",
       "      <th>autor</th>\n",
       "      <th>texto</th>\n",
       "      <th>sentimento</th>\n",
       "      <th>tipoInteracao</th>\n",
       "      <th>anomalia</th>\n",
       "      <th>probabilidadeAnomalia</th>\n",
       "      <th>linkPost</th>\n",
       "      <th>contemHyperlink</th>\n",
       "    </tr>\n",
       "  </thead>\n",
       "  <tbody>\n",
       "    <tr>\n",
       "      <th>0</th>\n",
       "      <td>v8_capital</td>\n",
       "      <td>Confira os resultados dos nossos fundos no mês...</td>\n",
       "      <td>NEUTRAL</td>\n",
       "      <td>marcação</td>\n",
       "      <td>1</td>\n",
       "      <td>52</td>\n",
       "      <td>https://www.instagram.com/p/CarqO6drRux/</td>\n",
       "      <td>0</td>\n",
       "    </tr>\n",
       "    <tr>\n",
       "      <th>1</th>\n",
       "      <td>winthegame_of</td>\n",
       "      <td>A Alvarez &amp; Marsal estará conosco no Sportainm...</td>\n",
       "      <td>NEUTRAL</td>\n",
       "      <td>marcação</td>\n",
       "      <td>0</td>\n",
       "      <td>43</td>\n",
       "      <td>https://www.instagram.com/p/CarpQUluh7z/</td>\n",
       "      <td>0</td>\n",
       "    </tr>\n",
       "    <tr>\n",
       "      <th>2</th>\n",
       "      <td>marta_bego</td>\n",
       "      <td>#Repost btgpactual with make_repost ・・・ Entend...</td>\n",
       "      <td>NEUTRAL</td>\n",
       "      <td>marcação</td>\n",
       "      <td>0</td>\n",
       "      <td>45</td>\n",
       "      <td>https://www.instagram.com/p/CaroK9Nu8tC/</td>\n",
       "      <td>0</td>\n",
       "    </tr>\n",
       "  </tbody>\n",
       "</table>\n",
       "</div>\n",
       "      <button class=\"colab-df-convert\" onclick=\"convertToInteractive('df-c63f0c48-9f61-46f9-a225-3b23568a033c')\"\n",
       "              title=\"Convert this dataframe to an interactive table.\"\n",
       "              style=\"display:none;\">\n",
       "        \n",
       "  <svg xmlns=\"http://www.w3.org/2000/svg\" height=\"24px\"viewBox=\"0 0 24 24\"\n",
       "       width=\"24px\">\n",
       "    <path d=\"M0 0h24v24H0V0z\" fill=\"none\"/>\n",
       "    <path d=\"M18.56 5.44l.94 2.06.94-2.06 2.06-.94-2.06-.94-.94-2.06-.94 2.06-2.06.94zm-11 1L8.5 8.5l.94-2.06 2.06-.94-2.06-.94L8.5 2.5l-.94 2.06-2.06.94zm10 10l.94 2.06.94-2.06 2.06-.94-2.06-.94-.94-2.06-.94 2.06-2.06.94z\"/><path d=\"M17.41 7.96l-1.37-1.37c-.4-.4-.92-.59-1.43-.59-.52 0-1.04.2-1.43.59L10.3 9.45l-7.72 7.72c-.78.78-.78 2.05 0 2.83L4 21.41c.39.39.9.59 1.41.59.51 0 1.02-.2 1.41-.59l7.78-7.78 2.81-2.81c.8-.78.8-2.07 0-2.86zM5.41 20L4 18.59l7.72-7.72 1.47 1.35L5.41 20z\"/>\n",
       "  </svg>\n",
       "      </button>\n",
       "      \n",
       "  <style>\n",
       "    .colab-df-container {\n",
       "      display:flex;\n",
       "      flex-wrap:wrap;\n",
       "      gap: 12px;\n",
       "    }\n",
       "\n",
       "    .colab-df-convert {\n",
       "      background-color: #E8F0FE;\n",
       "      border: none;\n",
       "      border-radius: 50%;\n",
       "      cursor: pointer;\n",
       "      display: none;\n",
       "      fill: #1967D2;\n",
       "      height: 32px;\n",
       "      padding: 0 0 0 0;\n",
       "      width: 32px;\n",
       "    }\n",
       "\n",
       "    .colab-df-convert:hover {\n",
       "      background-color: #E2EBFA;\n",
       "      box-shadow: 0px 1px 2px rgba(60, 64, 67, 0.3), 0px 1px 3px 1px rgba(60, 64, 67, 0.15);\n",
       "      fill: #174EA6;\n",
       "    }\n",
       "\n",
       "    [theme=dark] .colab-df-convert {\n",
       "      background-color: #3B4455;\n",
       "      fill: #D2E3FC;\n",
       "    }\n",
       "\n",
       "    [theme=dark] .colab-df-convert:hover {\n",
       "      background-color: #434B5C;\n",
       "      box-shadow: 0px 1px 3px 1px rgba(0, 0, 0, 0.15);\n",
       "      filter: drop-shadow(0px 1px 2px rgba(0, 0, 0, 0.3));\n",
       "      fill: #FFFFFF;\n",
       "    }\n",
       "  </style>\n",
       "\n",
       "      <script>\n",
       "        const buttonEl =\n",
       "          document.querySelector('#df-c63f0c48-9f61-46f9-a225-3b23568a033c button.colab-df-convert');\n",
       "        buttonEl.style.display =\n",
       "          google.colab.kernel.accessAllowed ? 'block' : 'none';\n",
       "\n",
       "        async function convertToInteractive(key) {\n",
       "          const element = document.querySelector('#df-c63f0c48-9f61-46f9-a225-3b23568a033c');\n",
       "          const dataTable =\n",
       "            await google.colab.kernel.invokeFunction('convertToInteractive',\n",
       "                                                     [key], {});\n",
       "          if (!dataTable) return;\n",
       "\n",
       "          const docLinkHtml = 'Like what you see? Visit the ' +\n",
       "            '<a target=\"_blank\" href=https://colab.research.google.com/notebooks/data_table.ipynb>data table notebook</a>'\n",
       "            + ' to learn more about interactive tables.';\n",
       "          element.innerHTML = '';\n",
       "          dataTable['output_type'] = 'display_data';\n",
       "          await google.colab.output.renderOutput(dataTable, element);\n",
       "          const docLink = document.createElement('div');\n",
       "          docLink.innerHTML = docLinkHtml;\n",
       "          element.appendChild(docLink);\n",
       "        }\n",
       "      </script>\n",
       "    </div>\n",
       "  </div>\n",
       "  "
      ],
      "text/plain": [
       "           autor                                              texto  \\\n",
       "0     v8_capital  Confira os resultados dos nossos fundos no mês...   \n",
       "1  winthegame_of  A Alvarez & Marsal estará conosco no Sportainm...   \n",
       "2     marta_bego  #Repost btgpactual with make_repost ・・・ Entend...   \n",
       "\n",
       "  sentimento tipoInteracao  anomalia  probabilidadeAnomalia  \\\n",
       "0    NEUTRAL      marcação         1                     52   \n",
       "1    NEUTRAL      marcação         0                     43   \n",
       "2    NEUTRAL      marcação         0                     45   \n",
       "\n",
       "                                   linkPost  contemHyperlink  \n",
       "0  https://www.instagram.com/p/CarqO6drRux/                0  \n",
       "1  https://www.instagram.com/p/CarpQUluh7z/                0  \n",
       "2  https://www.instagram.com/p/CaroK9Nu8tC/                0  "
      ]
     },
     "execution_count": 92,
     "metadata": {},
     "output_type": "execute_result"
    }
   ],
   "source": [
    "data_dropado = data.drop(['processado', 'id', 'dataPublicada'], axis=1)\n",
    "data_dropado.head(3)"
   ]
  },
  {
   "cell_type": "code",
   "execution_count": 93,
   "metadata": {
    "colab": {
     "base_uri": "https://localhost:8080/",
     "height": 606
    },
    "id": "oQHIlkqGaDML",
    "outputId": "d1a03262-b199-482b-8144-3bd51b04fb55"
   },
   "outputs": [
    {
     "data": {
      "text/html": [
       "\n",
       "  <div id=\"df-4a8e0f3c-0eeb-4921-8e4a-234df593e415\">\n",
       "    <div class=\"colab-df-container\">\n",
       "      <div>\n",
       "<style scoped>\n",
       "    .dataframe tbody tr th:only-of-type {\n",
       "        vertical-align: middle;\n",
       "    }\n",
       "\n",
       "    .dataframe tbody tr th {\n",
       "        vertical-align: top;\n",
       "    }\n",
       "\n",
       "    .dataframe thead th {\n",
       "        text-align: right;\n",
       "    }\n",
       "</style>\n",
       "<table border=\"1\" class=\"dataframe\">\n",
       "  <thead>\n",
       "    <tr style=\"text-align: right;\">\n",
       "      <th></th>\n",
       "      <th>autor</th>\n",
       "      <th>texto</th>\n",
       "      <th>sentimento</th>\n",
       "      <th>tipoInteracao</th>\n",
       "      <th>anomalia</th>\n",
       "      <th>probabilidadeAnomalia</th>\n",
       "      <th>linkPost</th>\n",
       "      <th>contemHyperlink</th>\n",
       "    </tr>\n",
       "  </thead>\n",
       "  <tbody>\n",
       "    <tr>\n",
       "      <th>0</th>\n",
       "      <td>v8_capital</td>\n",
       "      <td>Confira os resultados dos nossos fundos no mês...</td>\n",
       "      <td>NEUTRAL</td>\n",
       "      <td>marcação</td>\n",
       "      <td>1</td>\n",
       "      <td>52</td>\n",
       "      <td>https://www.instagram.com/p/CarqO6drRux/</td>\n",
       "      <td>0</td>\n",
       "    </tr>\n",
       "    <tr>\n",
       "      <th>1</th>\n",
       "      <td>winthegame_of</td>\n",
       "      <td>A Alvarez &amp; Marsal estará conosco no Sportainm...</td>\n",
       "      <td>NEUTRAL</td>\n",
       "      <td>marcação</td>\n",
       "      <td>0</td>\n",
       "      <td>43</td>\n",
       "      <td>https://www.instagram.com/p/CarpQUluh7z/</td>\n",
       "      <td>0</td>\n",
       "    </tr>\n",
       "    <tr>\n",
       "      <th>2</th>\n",
       "      <td>marta_bego</td>\n",
       "      <td>#Repost btgpactual with make_repost ・・・ Entend...</td>\n",
       "      <td>NEUTRAL</td>\n",
       "      <td>marcação</td>\n",
       "      <td>0</td>\n",
       "      <td>45</td>\n",
       "      <td>https://www.instagram.com/p/CaroK9Nu8tC/</td>\n",
       "      <td>0</td>\n",
       "    </tr>\n",
       "    <tr>\n",
       "      <th>3</th>\n",
       "      <td>lmviapiana</td>\n",
       "      <td>Minuto touro de ouro</td>\n",
       "      <td>POSITIVE</td>\n",
       "      <td>comentário</td>\n",
       "      <td>0</td>\n",
       "      <td>38</td>\n",
       "      <td>https://www.instagram.com/p/CapXhB5Lvas/#17977...</td>\n",
       "      <td>0</td>\n",
       "    </tr>\n",
       "    <tr>\n",
       "      <th>4</th>\n",
       "      <td>vanilson_dos</td>\n",
       "      <td>@ricktolledo Sim</td>\n",
       "      <td>NEUTRAL</td>\n",
       "      <td>resposta</td>\n",
       "      <td>0</td>\n",
       "      <td>17</td>\n",
       "      <td>https://www.instagram.com/p/CapXhB5Lvas/#17842...</td>\n",
       "      <td>0</td>\n",
       "    </tr>\n",
       "    <tr>\n",
       "      <th>...</th>\n",
       "      <td>...</td>\n",
       "      <td>...</td>\n",
       "      <td>...</td>\n",
       "      <td>...</td>\n",
       "      <td>...</td>\n",
       "      <td>...</td>\n",
       "      <td>...</td>\n",
       "      <td>...</td>\n",
       "    </tr>\n",
       "    <tr>\n",
       "      <th>12350</th>\n",
       "      <td>onixcapital</td>\n",
       "      <td>Uma noite de encontros e muito conhecimento on...</td>\n",
       "      <td>NEUTRAL</td>\n",
       "      <td>marcação</td>\n",
       "      <td>1</td>\n",
       "      <td>54</td>\n",
       "      <td>https://www.instagram.com/reel/CllsqI7goSC/</td>\n",
       "      <td>0</td>\n",
       "    </tr>\n",
       "    <tr>\n",
       "      <th>12351</th>\n",
       "      <td>amgcapitalinvest</td>\n",
       "      <td>Erros financeiros para eliminar antes dos 30 a...</td>\n",
       "      <td>NEUTRAL</td>\n",
       "      <td>marcação</td>\n",
       "      <td>0</td>\n",
       "      <td>39</td>\n",
       "      <td>https://www.instagram.com/p/Cllw0CmNGkX/</td>\n",
       "      <td>0</td>\n",
       "    </tr>\n",
       "    <tr>\n",
       "      <th>12352</th>\n",
       "      <td>jayipacderota</td>\n",
       "      <td>Estou muito grato por todo o esforço que você ...</td>\n",
       "      <td>POSITIVE</td>\n",
       "      <td>comentário</td>\n",
       "      <td>1</td>\n",
       "      <td>52</td>\n",
       "      <td>https://www.instagram.com/p/CllkSBOuKlJ/#17960...</td>\n",
       "      <td>0</td>\n",
       "    </tr>\n",
       "    <tr>\n",
       "      <th>12353</th>\n",
       "      <td>moinho_cultural</td>\n",
       "      <td>\"👉GUADAKAN está chegando!!!!  A aula pública e...</td>\n",
       "      <td>NEUTRAL</td>\n",
       "      <td>marcação</td>\n",
       "      <td>0</td>\n",
       "      <td>43</td>\n",
       "      <td>https://www.instagram.com/reel/ClluX-cAoaf/</td>\n",
       "      <td>0</td>\n",
       "    </tr>\n",
       "    <tr>\n",
       "      <th>12354</th>\n",
       "      <td>bfmarilia</td>\n",
       "      <td>@btgpactual pq o morning call não está mais ap...</td>\n",
       "      <td>NEGATIVE</td>\n",
       "      <td>comentário</td>\n",
       "      <td>0</td>\n",
       "      <td>28</td>\n",
       "      <td>https://www.instagram.com/p/CllkSBOuKlJ/#17975...</td>\n",
       "      <td>0</td>\n",
       "    </tr>\n",
       "  </tbody>\n",
       "</table>\n",
       "<p>12193 rows × 8 columns</p>\n",
       "</div>\n",
       "      <button class=\"colab-df-convert\" onclick=\"convertToInteractive('df-4a8e0f3c-0eeb-4921-8e4a-234df593e415')\"\n",
       "              title=\"Convert this dataframe to an interactive table.\"\n",
       "              style=\"display:none;\">\n",
       "        \n",
       "  <svg xmlns=\"http://www.w3.org/2000/svg\" height=\"24px\"viewBox=\"0 0 24 24\"\n",
       "       width=\"24px\">\n",
       "    <path d=\"M0 0h24v24H0V0z\" fill=\"none\"/>\n",
       "    <path d=\"M18.56 5.44l.94 2.06.94-2.06 2.06-.94-2.06-.94-.94-2.06-.94 2.06-2.06.94zm-11 1L8.5 8.5l.94-2.06 2.06-.94-2.06-.94L8.5 2.5l-.94 2.06-2.06.94zm10 10l.94 2.06.94-2.06 2.06-.94-2.06-.94-.94-2.06-.94 2.06-2.06.94z\"/><path d=\"M17.41 7.96l-1.37-1.37c-.4-.4-.92-.59-1.43-.59-.52 0-1.04.2-1.43.59L10.3 9.45l-7.72 7.72c-.78.78-.78 2.05 0 2.83L4 21.41c.39.39.9.59 1.41.59.51 0 1.02-.2 1.41-.59l7.78-7.78 2.81-2.81c.8-.78.8-2.07 0-2.86zM5.41 20L4 18.59l7.72-7.72 1.47 1.35L5.41 20z\"/>\n",
       "  </svg>\n",
       "      </button>\n",
       "      \n",
       "  <style>\n",
       "    .colab-df-container {\n",
       "      display:flex;\n",
       "      flex-wrap:wrap;\n",
       "      gap: 12px;\n",
       "    }\n",
       "\n",
       "    .colab-df-convert {\n",
       "      background-color: #E8F0FE;\n",
       "      border: none;\n",
       "      border-radius: 50%;\n",
       "      cursor: pointer;\n",
       "      display: none;\n",
       "      fill: #1967D2;\n",
       "      height: 32px;\n",
       "      padding: 0 0 0 0;\n",
       "      width: 32px;\n",
       "    }\n",
       "\n",
       "    .colab-df-convert:hover {\n",
       "      background-color: #E2EBFA;\n",
       "      box-shadow: 0px 1px 2px rgba(60, 64, 67, 0.3), 0px 1px 3px 1px rgba(60, 64, 67, 0.15);\n",
       "      fill: #174EA6;\n",
       "    }\n",
       "\n",
       "    [theme=dark] .colab-df-convert {\n",
       "      background-color: #3B4455;\n",
       "      fill: #D2E3FC;\n",
       "    }\n",
       "\n",
       "    [theme=dark] .colab-df-convert:hover {\n",
       "      background-color: #434B5C;\n",
       "      box-shadow: 0px 1px 3px 1px rgba(0, 0, 0, 0.15);\n",
       "      filter: drop-shadow(0px 1px 2px rgba(0, 0, 0, 0.3));\n",
       "      fill: #FFFFFF;\n",
       "    }\n",
       "  </style>\n",
       "\n",
       "      <script>\n",
       "        const buttonEl =\n",
       "          document.querySelector('#df-4a8e0f3c-0eeb-4921-8e4a-234df593e415 button.colab-df-convert');\n",
       "        buttonEl.style.display =\n",
       "          google.colab.kernel.accessAllowed ? 'block' : 'none';\n",
       "\n",
       "        async function convertToInteractive(key) {\n",
       "          const element = document.querySelector('#df-4a8e0f3c-0eeb-4921-8e4a-234df593e415');\n",
       "          const dataTable =\n",
       "            await google.colab.kernel.invokeFunction('convertToInteractive',\n",
       "                                                     [key], {});\n",
       "          if (!dataTable) return;\n",
       "\n",
       "          const docLinkHtml = 'Like what you see? Visit the ' +\n",
       "            '<a target=\"_blank\" href=https://colab.research.google.com/notebooks/data_table.ipynb>data table notebook</a>'\n",
       "            + ' to learn more about interactive tables.';\n",
       "          element.innerHTML = '';\n",
       "          dataTable['output_type'] = 'display_data';\n",
       "          await google.colab.output.renderOutput(dataTable, element);\n",
       "          const docLink = document.createElement('div');\n",
       "          docLink.innerHTML = docLinkHtml;\n",
       "          element.appendChild(docLink);\n",
       "        }\n",
       "      </script>\n",
       "    </div>\n",
       "  </div>\n",
       "  "
      ],
      "text/plain": [
       "                  autor                                              texto  \\\n",
       "0            v8_capital  Confira os resultados dos nossos fundos no mês...   \n",
       "1         winthegame_of  A Alvarez & Marsal estará conosco no Sportainm...   \n",
       "2            marta_bego  #Repost btgpactual with make_repost ・・・ Entend...   \n",
       "3            lmviapiana                               Minuto touro de ouro   \n",
       "4          vanilson_dos                                   @ricktolledo Sim   \n",
       "...                 ...                                                ...   \n",
       "12350       onixcapital  Uma noite de encontros e muito conhecimento on...   \n",
       "12351  amgcapitalinvest  Erros financeiros para eliminar antes dos 30 a...   \n",
       "12352     jayipacderota  Estou muito grato por todo o esforço que você ...   \n",
       "12353   moinho_cultural  \"👉GUADAKAN está chegando!!!!  A aula pública e...   \n",
       "12354         bfmarilia  @btgpactual pq o morning call não está mais ap...   \n",
       "\n",
       "      sentimento tipoInteracao  anomalia  probabilidadeAnomalia  \\\n",
       "0        NEUTRAL      marcação         1                     52   \n",
       "1        NEUTRAL      marcação         0                     43   \n",
       "2        NEUTRAL      marcação         0                     45   \n",
       "3       POSITIVE    comentário         0                     38   \n",
       "4        NEUTRAL      resposta         0                     17   \n",
       "...          ...           ...       ...                    ...   \n",
       "12350    NEUTRAL      marcação         1                     54   \n",
       "12351    NEUTRAL      marcação         0                     39   \n",
       "12352   POSITIVE    comentário         1                     52   \n",
       "12353    NEUTRAL      marcação         0                     43   \n",
       "12354   NEGATIVE    comentário         0                     28   \n",
       "\n",
       "                                                linkPost  contemHyperlink  \n",
       "0               https://www.instagram.com/p/CarqO6drRux/                0  \n",
       "1               https://www.instagram.com/p/CarpQUluh7z/                0  \n",
       "2               https://www.instagram.com/p/CaroK9Nu8tC/                0  \n",
       "3      https://www.instagram.com/p/CapXhB5Lvas/#17977...                0  \n",
       "4      https://www.instagram.com/p/CapXhB5Lvas/#17842...                0  \n",
       "...                                                  ...              ...  \n",
       "12350        https://www.instagram.com/reel/CllsqI7goSC/                0  \n",
       "12351           https://www.instagram.com/p/Cllw0CmNGkX/                0  \n",
       "12352  https://www.instagram.com/p/CllkSBOuKlJ/#17960...                0  \n",
       "12353        https://www.instagram.com/reel/ClluX-cAoaf/                0  \n",
       "12354  https://www.instagram.com/p/CllkSBOuKlJ/#17975...                0  \n",
       "\n",
       "[12193 rows x 8 columns]"
      ]
     },
     "execution_count": 93,
     "metadata": {},
     "output_type": "execute_result"
    }
   ],
   "source": [
    "data_limpo = data_dropado.loc[data_dropado['autor'] != 'btgpactual']\n",
    "data_limpo"
   ]
  },
  {
   "cell_type": "markdown",
   "metadata": {
    "id": "Gtc7uvYsoiLL",
    "jp-MarkdownHeadingCollapsed": true,
    "tags": []
   },
   "source": [
    "# 3. Testes isolados\n",
    "\n"
   ]
  },
  {
   "cell_type": "markdown",
   "metadata": {
    "id": "CU8h74JIy9Za"
   },
   "source": [
    "Nesta seção, começamos a fazer testes isolados para demonstrar como é o funcionamento de alguns dos pré-processos que iremos utilizar no dataframe principal. O objetivo é dar um exemplo para visualizar como iremos utilizar antes de ser aplicado em outras funções. Os pré-processos são:\n",
    "- Tokenização\n",
    "- Remoção de Stopwords\n",
    "- Remoção de Alfanuméricos\n",
    "- Stemming"
   ]
  },
  {
   "cell_type": "markdown",
   "metadata": {
    "id": "dWVR5pymo0lC"
   },
   "source": [
    "#### 3.1 Tokenização"
   ]
  },
  {
   "cell_type": "code",
   "execution_count": 94,
   "metadata": {
    "colab": {
     "base_uri": "https://localhost:8080/"
    },
    "id": "Zjj1rRDo7MRc",
    "outputId": "10565fcd-292d-4250-863b-0b74acc1707c"
   },
   "outputs": [
    {
     "data": {
      "text/plain": [
       "['Minuto', 'touro', 'de', 'ouro', '!']"
      ]
     },
     "execution_count": 94,
     "metadata": {},
     "output_type": "execute_result"
    }
   ],
   "source": [
    "# Comentar...\n",
    "\n",
    "text = \"Minuto touro de ouro!\"\n",
    "\n",
    "words = tokenize.word_tokenize(text, language='portuguese')  \n",
    "\n",
    "words"
   ]
  },
  {
   "cell_type": "markdown",
   "metadata": {
    "id": "q4I_xuhKopPC"
   },
   "source": [
    "#### 3.2 Remoção de stopwords"
   ]
  },
  {
   "cell_type": "code",
   "execution_count": 95,
   "metadata": {
    "colab": {
     "base_uri": "https://localhost:8080/"
    },
    "id": "sNN1ILXe7AFt",
    "outputId": "90e33c83-1b23-4f37-b51c-938e299a1250"
   },
   "outputs": [
    {
     "data": {
      "text/plain": [
       "['a',\n",
       " 'à',\n",
       " 'ao',\n",
       " 'aos',\n",
       " 'aquela',\n",
       " 'aquelas',\n",
       " 'aquele',\n",
       " 'aqueles',\n",
       " 'aquilo',\n",
       " 'as']"
      ]
     },
     "execution_count": 95,
     "metadata": {},
     "output_type": "execute_result"
    }
   ],
   "source": [
    "stopwords = nltk.corpus.stopwords.words('portuguese')\n",
    "\n",
    "stopwords[:10]"
   ]
  },
  {
   "cell_type": "code",
   "execution_count": 96,
   "metadata": {
    "colab": {
     "base_uri": "https://localhost:8080/"
    },
    "id": "VGVgEUQSbSkw",
    "outputId": "b7b45335-e30b-425d-e60d-41e77033b5c8"
   },
   "outputs": [
    {
     "data": {
      "text/plain": [
       "['Minuto', 'touro', 'ouro', '!']"
      ]
     },
     "execution_count": 96,
     "metadata": {},
     "output_type": "execute_result"
    }
   ],
   "source": [
    "words_filtered = []\n",
    "\n",
    "for word in words:\n",
    "    if word not in stopwords:\n",
    "        words_filtered.append(word)\n",
    "        \n",
    "words_filtered"
   ]
  },
  {
   "cell_type": "markdown",
   "metadata": {
    "id": "-OusB6_u0IEA"
   },
   "source": [
    "#### 3.3 Remoção de Alfanuméricos"
   ]
  },
  {
   "cell_type": "code",
   "execution_count": 97,
   "metadata": {
    "colab": {
     "base_uri": "https://localhost:8080/",
     "height": 36
    },
    "id": "0ryLJryW0EbI",
    "outputId": "ea7036b9-bfb7-4b85-a14c-678bca53fd16"
   },
   "outputs": [
    {
     "data": {
      "application/vnd.google.colaboratory.intrinsic+json": {
       "type": "string"
      },
      "text/plain": [
       "'Minuto touro de ouro '"
      ]
     },
     "execution_count": 97,
     "metadata": {},
     "output_type": "execute_result"
    }
   ],
   "source": [
    "for palavra in text:\n",
    "  frasezinha = re.sub((r'[^\\w\\s]'), ' ', text)\n",
    "\n",
    "frasezinha"
   ]
  },
  {
   "cell_type": "markdown",
   "metadata": {
    "id": "RqpbbRfd0NF_"
   },
   "source": [
    "#### 3.4 Stemming"
   ]
  },
  {
   "cell_type": "code",
   "execution_count": 98,
   "metadata": {
    "colab": {
     "base_uri": "https://localhost:8080/"
    },
    "id": "gA4Lf5mr1Yn9",
    "outputId": "0a94c9b8-b198-4835-cf82-08500111f469"
   },
   "outputs": [
    {
     "name": "stdout",
     "output_type": "stream",
     "text": [
      "['minut', 'tour', 'de', 'our', '!']\n"
     ]
    }
   ],
   "source": [
    "sn_stemmer = SnowballStemmer('portuguese')\n",
    "stemmed_words = []\n",
    "for palavra in words:\n",
    "  stemmed_words.append(sn_stemmer.stem(palavra))\n",
    "\n",
    "print(stemmed_words)"
   ]
  },
  {
   "cell_type": "markdown",
   "metadata": {
    "id": "NXXtTzX_otsa",
    "jp-MarkdownHeadingCollapsed": true,
    "tags": []
   },
   "source": [
    "# 4. Definição de funções\n"
   ]
  },
  {
   "cell_type": "markdown",
   "metadata": {
    "id": "QHHiUr7Ew3J2"
   },
   "source": [
    "Aqui em definição de funções é onde iremos criar as funções referentes aos tratamentos que mostramos acima! Já que, dessa forma, poderemos chamar essas mesmas funções em qualquer momento para fazer o tratamento do conteúdo textual."
   ]
  },
  {
   "cell_type": "markdown",
   "metadata": {
    "id": "sV1UiPN_Pwlz"
   },
   "source": [
    "#### 4.1 Tokenização"
   ]
  },
  {
   "cell_type": "code",
   "execution_count": 99,
   "metadata": {
    "id": "siyaxN9Cpm4n"
   },
   "outputs": [],
   "source": [
    "def tokenizer(comment):\n",
    "    if isinstance(comment, str):\n",
    "        tokens = nltk.word_tokenize(comment)\n",
    "        return tokens\n",
    "    else:\n",
    "        return []"
   ]
  },
  {
   "cell_type": "markdown",
   "metadata": {
    "id": "8kdCwHvIN7t0"
   },
   "source": [
    "#### 4.2 Remoção de stopwords"
   ]
  },
  {
   "cell_type": "code",
   "execution_count": 100,
   "metadata": {
    "id": "SmdolFoDOAWr"
   },
   "outputs": [],
   "source": [
    "def remove_stopwords(tokens):\n",
    "    if isinstance(tokens, list): \n",
    "        comments_filtered = []\n",
    "        for token in tokens:\n",
    "          tk = token.lower()\n",
    "          if tk not in stopwords:\n",
    "              comments_filtered.append(tk)\n",
    "        return comments_filtered\n",
    "    else:\n",
    "        return []"
   ]
  },
  {
   "cell_type": "markdown",
   "metadata": {
    "id": "wqN6xGQQGXku"
   },
   "source": [
    "#### 4.3 Remoção de acentos\n"
   ]
  },
  {
   "cell_type": "code",
   "execution_count": 101,
   "metadata": {
    "id": "iNv8p5FRGYHw"
   },
   "outputs": [],
   "source": [
    "def remover_pontuacao(tokens):\n",
    "    tokens_sem_pontuacao = []\n",
    "    for token in tokens:\n",
    "        token_sem_pontuacao = re.sub(r'[^\\w\\s]', '', token)\n",
    "        if token_sem_pontuacao != '':\n",
    "            tokens_sem_pontuacao.append(token_sem_pontuacao)\n",
    "    return tokens_sem_pontuacao"
   ]
  },
  {
   "cell_type": "markdown",
   "metadata": {
    "id": "aZPFr8nuEMk6"
   },
   "source": [
    "#### 4.4 Stemming\n"
   ]
  },
  {
   "cell_type": "code",
   "execution_count": 102,
   "metadata": {
    "id": "SkPoPzB-ESk1"
   },
   "outputs": [],
   "source": [
    "sn_stemmer = SnowballStemmer('portuguese')\n",
    "\n",
    "def stemming(comments_no_accent):\n",
    "    if isinstance(comments_no_accent, list):\n",
    "        stem_list = []\n",
    "        for token in comments_no_accent: \n",
    "            stem_list.append(sn_stemmer.stem(token))\n",
    "        return stem_list\n",
    "    else:\n",
    "        return []"
   ]
  },
  {
   "cell_type": "markdown",
   "metadata": {
    "id": "1iNulehkqlAK",
    "jp-MarkdownHeadingCollapsed": true,
    "tags": []
   },
   "source": [
    "# 5. Testes das funções"
   ]
  },
  {
   "cell_type": "markdown",
   "metadata": {
    "id": "5tzSHRlqxRII"
   },
   "source": [
    "Aqui nos testes das funções, iremos aplicar casos específicos para visualizar como nossa função se comporta, para, logo depois, aplica-la no dataframe principal"
   ]
  },
  {
   "cell_type": "code",
   "execution_count": 103,
   "metadata": {
    "id": "z2IkRo9crbkp"
   },
   "outputs": [],
   "source": [
    "#nos testes das funções devemos colocar oq deu certo e oq deu errado (ex: tirar os emotes, não tirar palavras como 'pra', etc)"
   ]
  },
  {
   "cell_type": "markdown",
   "metadata": {
    "id": "QO937alcN4JF"
   },
   "source": [
    "#### 5.1 Tokenização\n",
    "- Para o processo de tokenização, é possível visualizar que em qualquer caso, a função consegue tokenizar todo e qualquer termo existente da frase."
   ]
  },
  {
   "cell_type": "code",
   "execution_count": 104,
   "metadata": {
    "colab": {
     "base_uri": "https://localhost:8080/"
    },
    "id": "9wuZWCvsrdlF",
    "outputId": "3163f60b-2bab-4634-ee8c-3354dcc4ddb2"
   },
   "outputs": [
    {
     "name": "stdout",
     "output_type": "stream",
     "text": [
      "['Estamos', 'fazendo', 'um', 'projeto', 'pro', 'BTG', '!', 'Ele', 'é', 'muito', 'interessante', '.']\n"
     ]
    }
   ],
   "source": [
    "teste_tokenizacao = \"Estamos fazendo um projeto pro BTG! Ele é muito interessante.\"\n",
    "teste_ja_tokenizado = tokenizer(teste_tokenizacao)\n",
    "print(teste_ja_tokenizado)"
   ]
  },
  {
   "cell_type": "code",
   "execution_count": 105,
   "metadata": {
    "colab": {
     "base_uri": "https://localhost:8080/"
    },
    "id": "QIIhZR_Cs9yl",
    "outputId": "aaa9ca06-51c6-472f-8413-79c9c0a99bc4"
   },
   "outputs": [
    {
     "name": "stdout",
     "output_type": "stream",
     "text": [
      "['Estamos', 'fazendo', 'um', 'projeto', 'pro', 'BTG', '!', '!', 'Ele', 'é', 'muito', 'interessante', '.']\n"
     ]
    }
   ],
   "source": [
    "teste_tokenizacao2 = \"Estamos fazendo um projeto pro BTG! ! Ele é muito interessante.\"\n",
    "teste_ja_tokenizado2 = tokenizer(teste_tokenizacao2)\n",
    "print(teste_ja_tokenizado2)"
   ]
  },
  {
   "cell_type": "code",
   "execution_count": 106,
   "metadata": {
    "colab": {
     "base_uri": "https://localhost:8080/"
    },
    "id": "QD7bL-EOtFiM",
    "outputId": "c30d3090-0c8d-4175-9522-4e197b56e368"
   },
   "outputs": [
    {
     "name": "stdout",
     "output_type": "stream",
     "text": [
      "['Estamos', 'fazendo', 'um', 'projeto', 'pro', 'BTG', '!', '!', 'Ele', 'é', 'muito', 'interessante', '.']\n"
     ]
    }
   ],
   "source": [
    "teste_tokenizacao3 = \"Estamos fazendo um projeto pro BTG!! Ele é muito interessante.\"\n",
    "teste_ja_tokenizado3 = tokenizer(teste_tokenizacao3)\n",
    "print(teste_ja_tokenizado3)"
   ]
  },
  {
   "cell_type": "code",
   "execution_count": 107,
   "metadata": {
    "colab": {
     "base_uri": "https://localhost:8080/"
    },
    "id": "7jn4pBJYtKgc",
    "outputId": "c7bd56a2-4d3f-48ac-f6b0-be8e81bdc6f2"
   },
   "outputs": [
    {
     "name": "stdout",
     "output_type": "stream",
     "text": [
      "['!', 'Estamos', 'fazendo', 'um', 'projeto', 'pro', 'BTG', '!', 'Ele', 'é', 'muito', 'interessante', '.']\n"
     ]
    }
   ],
   "source": [
    "teste_tokenizacao4 = \"!Estamos fazendo um projeto pro BTG! Ele é muito interessante.\"\n",
    "teste_ja_tokenizado4 = tokenizer(teste_tokenizacao4)\n",
    "print(teste_ja_tokenizado4)"
   ]
  },
  {
   "cell_type": "markdown",
   "metadata": {
    "id": "1mONzt0cOJsg"
   },
   "source": [
    "#### 5.2 Remoção de stopwords"
   ]
  },
  {
   "cell_type": "code",
   "execution_count": 108,
   "metadata": {
    "colab": {
     "base_uri": "https://localhost:8080/"
    },
    "id": "pVawN0Rvs5ff",
    "outputId": "2dac9b7b-7d6b-4e9b-ae74-2fadb1ee5f28"
   },
   "outputs": [
    {
     "name": "stdout",
     "output_type": "stream",
     "text": [
      "['fazendo', 'projeto', 'pro', 'btg', '!', 'interessante', '.']\n"
     ]
    }
   ],
   "source": [
    "teste_sem_stop_words = remove_stopwords(teste_ja_tokenizado)\n",
    "print(teste_sem_stop_words)"
   ]
  },
  {
   "cell_type": "code",
   "execution_count": 109,
   "metadata": {
    "colab": {
     "base_uri": "https://localhost:8080/"
    },
    "id": "9Btg5QgJyBOH",
    "outputId": "f545ddc8-9830-480a-ca5f-27e6062e0641"
   },
   "outputs": [
    {
     "name": "stdout",
     "output_type": "stream",
     "text": [
      "['fazendo', 'projeto', 'pro', 'btg', '!', '!', 'interessante', '.']\n"
     ]
    }
   ],
   "source": [
    "teste_sem_stop_words2 = remove_stopwords(teste_ja_tokenizado2)\n",
    "print(teste_sem_stop_words2)"
   ]
  },
  {
   "cell_type": "code",
   "execution_count": 110,
   "metadata": {
    "colab": {
     "base_uri": "https://localhost:8080/"
    },
    "id": "7Q1GTMDByBEY",
    "outputId": "b1735388-d135-4659-905a-3a0bd8ef7701"
   },
   "outputs": [
    {
     "name": "stdout",
     "output_type": "stream",
     "text": [
      "['fazendo', 'projeto', 'pro', 'btg', '!', '!', 'interessante', '.']\n"
     ]
    }
   ],
   "source": [
    "teste_sem_stop_words3 = remove_stopwords(teste_ja_tokenizado3)\n",
    "print(teste_sem_stop_words3)"
   ]
  },
  {
   "cell_type": "code",
   "execution_count": 111,
   "metadata": {
    "colab": {
     "base_uri": "https://localhost:8080/"
    },
    "id": "9JURnyI3yA8I",
    "outputId": "cd0edbde-eb7f-4c34-f4a2-e824fe476d6f"
   },
   "outputs": [
    {
     "name": "stdout",
     "output_type": "stream",
     "text": [
      "['!', 'fazendo', 'projeto', 'pro', 'btg', '!', 'interessante', '.']\n"
     ]
    }
   ],
   "source": [
    "teste_sem_stop_words4 = remove_stopwords(teste_ja_tokenizado4)\n",
    "print(teste_sem_stop_words4)"
   ]
  },
  {
   "cell_type": "markdown",
   "metadata": {
    "id": "p1Qi3wnGGkHy"
   },
   "source": [
    "#### 5.3 Remoção de acentos\n"
   ]
  },
  {
   "cell_type": "code",
   "execution_count": 112,
   "metadata": {
    "colab": {
     "base_uri": "https://localhost:8080/"
    },
    "id": "UvbwUkP7ut_E",
    "outputId": "165fe6b4-5e44-47b8-92a8-c06a95ef22a5"
   },
   "outputs": [
    {
     "name": "stdout",
     "output_type": "stream",
     "text": [
      "['fazendo', 'projeto', 'pro', 'btg', 'interessante']\n"
     ]
    }
   ],
   "source": [
    "teste_sem_acento = remover_pontuacao(teste_sem_stop_words)\n",
    "print(teste_sem_acento)"
   ]
  },
  {
   "cell_type": "markdown",
   "metadata": {
    "id": "553LJRwhGAKx"
   },
   "source": [
    "#### 4.4 Stemming\n"
   ]
  },
  {
   "cell_type": "code",
   "execution_count": 113,
   "metadata": {
    "colab": {
     "base_uri": "https://localhost:8080/"
    },
    "id": "IbzwRS1RvF8X",
    "outputId": "8cbed696-ddbf-4061-b0ef-4a8a1d3ffa06"
   },
   "outputs": [
    {
     "name": "stdout",
     "output_type": "stream",
     "text": [
      "['faz', 'projet', 'pro', 'btg', 'interess']\n"
     ]
    }
   ],
   "source": [
    "teste_com_stemming = stemming(teste_sem_acento)\n",
    "print(teste_com_stemming)"
   ]
  },
  {
   "cell_type": "markdown",
   "metadata": {
    "id": "JwdyKZ0apsPR",
    "jp-MarkdownHeadingCollapsed": true,
    "tags": []
   },
   "source": [
    "# 6. Processamento / Demonstrações"
   ]
  },
  {
   "cell_type": "markdown",
   "metadata": {
    "id": "yiNk3so04dGw"
   },
   "source": [
    "Nessa seção de processamento, nós aplicamos as funções criadas anteriormente e aplicamos elas no dataframe, como forma de demonstrar os resultados efetivos.\n",
    "- tokenized = coluna tokenizada\n",
    "- no_stopwords = coluna tokenizada e sem stopwords\n",
    "- texto_processed = coluna tokenizada, sem stopwords e sem acentuações\n",
    "- stemmed = coluna tokenizada, sem stopwords, sem acentuações e com o stemming aplicado"
   ]
  },
  {
   "cell_type": "code",
   "execution_count": 114,
   "metadata": {
    "colab": {
     "base_uri": "https://localhost:8080/",
     "height": 884
    },
    "id": "FcY8EB6RORTO",
    "outputId": "cd8ad906-2975-4f93-bcb2-5c4136adc295"
   },
   "outputs": [
    {
     "name": "stderr",
     "output_type": "stream",
     "text": [
      "<ipython-input-114-ae72bb018440>:1: SettingWithCopyWarning: \n",
      "A value is trying to be set on a copy of a slice from a DataFrame.\n",
      "Try using .loc[row_indexer,col_indexer] = value instead\n",
      "\n",
      "See the caveats in the documentation: https://pandas.pydata.org/pandas-docs/stable/user_guide/indexing.html#returning-a-view-versus-a-copy\n",
      "  data_limpo['tokenized'] = data_limpo['texto'].apply(tokenizer)\n"
     ]
    },
    {
     "data": {
      "text/html": [
       "\n",
       "  <div id=\"df-d3c7d439-a930-4490-9ff3-a9ef60f7e8e8\">\n",
       "    <div class=\"colab-df-container\">\n",
       "      <div>\n",
       "<style scoped>\n",
       "    .dataframe tbody tr th:only-of-type {\n",
       "        vertical-align: middle;\n",
       "    }\n",
       "\n",
       "    .dataframe tbody tr th {\n",
       "        vertical-align: top;\n",
       "    }\n",
       "\n",
       "    .dataframe thead th {\n",
       "        text-align: right;\n",
       "    }\n",
       "</style>\n",
       "<table border=\"1\" class=\"dataframe\">\n",
       "  <thead>\n",
       "    <tr style=\"text-align: right;\">\n",
       "      <th></th>\n",
       "      <th>autor</th>\n",
       "      <th>texto</th>\n",
       "      <th>sentimento</th>\n",
       "      <th>tipoInteracao</th>\n",
       "      <th>anomalia</th>\n",
       "      <th>probabilidadeAnomalia</th>\n",
       "      <th>linkPost</th>\n",
       "      <th>contemHyperlink</th>\n",
       "      <th>tokenized</th>\n",
       "    </tr>\n",
       "  </thead>\n",
       "  <tbody>\n",
       "    <tr>\n",
       "      <th>0</th>\n",
       "      <td>v8_capital</td>\n",
       "      <td>Confira os resultados dos nossos fundos no mês...</td>\n",
       "      <td>NEUTRAL</td>\n",
       "      <td>marcação</td>\n",
       "      <td>1</td>\n",
       "      <td>52</td>\n",
       "      <td>https://www.instagram.com/p/CarqO6drRux/</td>\n",
       "      <td>0</td>\n",
       "      <td>[Confira, os, resultados, dos, nossos, fundos,...</td>\n",
       "    </tr>\n",
       "    <tr>\n",
       "      <th>1</th>\n",
       "      <td>winthegame_of</td>\n",
       "      <td>A Alvarez &amp; Marsal estará conosco no Sportainm...</td>\n",
       "      <td>NEUTRAL</td>\n",
       "      <td>marcação</td>\n",
       "      <td>0</td>\n",
       "      <td>43</td>\n",
       "      <td>https://www.instagram.com/p/CarpQUluh7z/</td>\n",
       "      <td>0</td>\n",
       "      <td>[A, Alvarez, &amp;, Marsal, estará, conosco, no, S...</td>\n",
       "    </tr>\n",
       "    <tr>\n",
       "      <th>2</th>\n",
       "      <td>marta_bego</td>\n",
       "      <td>#Repost btgpactual with make_repost ・・・ Entend...</td>\n",
       "      <td>NEUTRAL</td>\n",
       "      <td>marcação</td>\n",
       "      <td>0</td>\n",
       "      <td>45</td>\n",
       "      <td>https://www.instagram.com/p/CaroK9Nu8tC/</td>\n",
       "      <td>0</td>\n",
       "      <td>[#, Repost, btgpactual, with, make_repost, ・・・...</td>\n",
       "    </tr>\n",
       "    <tr>\n",
       "      <th>3</th>\n",
       "      <td>lmviapiana</td>\n",
       "      <td>Minuto touro de ouro</td>\n",
       "      <td>POSITIVE</td>\n",
       "      <td>comentário</td>\n",
       "      <td>0</td>\n",
       "      <td>38</td>\n",
       "      <td>https://www.instagram.com/p/CapXhB5Lvas/#17977...</td>\n",
       "      <td>0</td>\n",
       "      <td>[Minuto, touro, de, ouro]</td>\n",
       "    </tr>\n",
       "    <tr>\n",
       "      <th>4</th>\n",
       "      <td>vanilson_dos</td>\n",
       "      <td>@ricktolledo Sim</td>\n",
       "      <td>NEUTRAL</td>\n",
       "      <td>resposta</td>\n",
       "      <td>0</td>\n",
       "      <td>17</td>\n",
       "      <td>https://www.instagram.com/p/CapXhB5Lvas/#17842...</td>\n",
       "      <td>0</td>\n",
       "      <td>[@, ricktolledo, Sim]</td>\n",
       "    </tr>\n",
       "    <tr>\n",
       "      <th>...</th>\n",
       "      <td>...</td>\n",
       "      <td>...</td>\n",
       "      <td>...</td>\n",
       "      <td>...</td>\n",
       "      <td>...</td>\n",
       "      <td>...</td>\n",
       "      <td>...</td>\n",
       "      <td>...</td>\n",
       "      <td>...</td>\n",
       "    </tr>\n",
       "    <tr>\n",
       "      <th>12350</th>\n",
       "      <td>onixcapital</td>\n",
       "      <td>Uma noite de encontros e muito conhecimento on...</td>\n",
       "      <td>NEUTRAL</td>\n",
       "      <td>marcação</td>\n",
       "      <td>1</td>\n",
       "      <td>54</td>\n",
       "      <td>https://www.instagram.com/reel/CllsqI7goSC/</td>\n",
       "      <td>0</td>\n",
       "      <td>[Uma, noite, de, encontros, e, muito, conhecim...</td>\n",
       "    </tr>\n",
       "    <tr>\n",
       "      <th>12351</th>\n",
       "      <td>amgcapitalinvest</td>\n",
       "      <td>Erros financeiros para eliminar antes dos 30 a...</td>\n",
       "      <td>NEUTRAL</td>\n",
       "      <td>marcação</td>\n",
       "      <td>0</td>\n",
       "      <td>39</td>\n",
       "      <td>https://www.instagram.com/p/Cllw0CmNGkX/</td>\n",
       "      <td>0</td>\n",
       "      <td>[Erros, financeiros, para, eliminar, antes, do...</td>\n",
       "    </tr>\n",
       "    <tr>\n",
       "      <th>12352</th>\n",
       "      <td>jayipacderota</td>\n",
       "      <td>Estou muito grato por todo o esforço que você ...</td>\n",
       "      <td>POSITIVE</td>\n",
       "      <td>comentário</td>\n",
       "      <td>1</td>\n",
       "      <td>52</td>\n",
       "      <td>https://www.instagram.com/p/CllkSBOuKlJ/#17960...</td>\n",
       "      <td>0</td>\n",
       "      <td>[Estou, muito, grato, por, todo, o, esforço, q...</td>\n",
       "    </tr>\n",
       "    <tr>\n",
       "      <th>12353</th>\n",
       "      <td>moinho_cultural</td>\n",
       "      <td>\"👉GUADAKAN está chegando!!!!  A aula pública e...</td>\n",
       "      <td>NEUTRAL</td>\n",
       "      <td>marcação</td>\n",
       "      <td>0</td>\n",
       "      <td>43</td>\n",
       "      <td>https://www.instagram.com/reel/ClluX-cAoaf/</td>\n",
       "      <td>0</td>\n",
       "      <td>[``, 👉GUADAKAN, está, chegando, !, !, !, !, A,...</td>\n",
       "    </tr>\n",
       "    <tr>\n",
       "      <th>12354</th>\n",
       "      <td>bfmarilia</td>\n",
       "      <td>@btgpactual pq o morning call não está mais ap...</td>\n",
       "      <td>NEGATIVE</td>\n",
       "      <td>comentário</td>\n",
       "      <td>0</td>\n",
       "      <td>28</td>\n",
       "      <td>https://www.instagram.com/p/CllkSBOuKlJ/#17975...</td>\n",
       "      <td>0</td>\n",
       "      <td>[@, btgpactual, pq, o, morning, call, não, est...</td>\n",
       "    </tr>\n",
       "  </tbody>\n",
       "</table>\n",
       "<p>12193 rows × 9 columns</p>\n",
       "</div>\n",
       "      <button class=\"colab-df-convert\" onclick=\"convertToInteractive('df-d3c7d439-a930-4490-9ff3-a9ef60f7e8e8')\"\n",
       "              title=\"Convert this dataframe to an interactive table.\"\n",
       "              style=\"display:none;\">\n",
       "        \n",
       "  <svg xmlns=\"http://www.w3.org/2000/svg\" height=\"24px\"viewBox=\"0 0 24 24\"\n",
       "       width=\"24px\">\n",
       "    <path d=\"M0 0h24v24H0V0z\" fill=\"none\"/>\n",
       "    <path d=\"M18.56 5.44l.94 2.06.94-2.06 2.06-.94-2.06-.94-.94-2.06-.94 2.06-2.06.94zm-11 1L8.5 8.5l.94-2.06 2.06-.94-2.06-.94L8.5 2.5l-.94 2.06-2.06.94zm10 10l.94 2.06.94-2.06 2.06-.94-2.06-.94-.94-2.06-.94 2.06-2.06.94z\"/><path d=\"M17.41 7.96l-1.37-1.37c-.4-.4-.92-.59-1.43-.59-.52 0-1.04.2-1.43.59L10.3 9.45l-7.72 7.72c-.78.78-.78 2.05 0 2.83L4 21.41c.39.39.9.59 1.41.59.51 0 1.02-.2 1.41-.59l7.78-7.78 2.81-2.81c.8-.78.8-2.07 0-2.86zM5.41 20L4 18.59l7.72-7.72 1.47 1.35L5.41 20z\"/>\n",
       "  </svg>\n",
       "      </button>\n",
       "      \n",
       "  <style>\n",
       "    .colab-df-container {\n",
       "      display:flex;\n",
       "      flex-wrap:wrap;\n",
       "      gap: 12px;\n",
       "    }\n",
       "\n",
       "    .colab-df-convert {\n",
       "      background-color: #E8F0FE;\n",
       "      border: none;\n",
       "      border-radius: 50%;\n",
       "      cursor: pointer;\n",
       "      display: none;\n",
       "      fill: #1967D2;\n",
       "      height: 32px;\n",
       "      padding: 0 0 0 0;\n",
       "      width: 32px;\n",
       "    }\n",
       "\n",
       "    .colab-df-convert:hover {\n",
       "      background-color: #E2EBFA;\n",
       "      box-shadow: 0px 1px 2px rgba(60, 64, 67, 0.3), 0px 1px 3px 1px rgba(60, 64, 67, 0.15);\n",
       "      fill: #174EA6;\n",
       "    }\n",
       "\n",
       "    [theme=dark] .colab-df-convert {\n",
       "      background-color: #3B4455;\n",
       "      fill: #D2E3FC;\n",
       "    }\n",
       "\n",
       "    [theme=dark] .colab-df-convert:hover {\n",
       "      background-color: #434B5C;\n",
       "      box-shadow: 0px 1px 3px 1px rgba(0, 0, 0, 0.15);\n",
       "      filter: drop-shadow(0px 1px 2px rgba(0, 0, 0, 0.3));\n",
       "      fill: #FFFFFF;\n",
       "    }\n",
       "  </style>\n",
       "\n",
       "      <script>\n",
       "        const buttonEl =\n",
       "          document.querySelector('#df-d3c7d439-a930-4490-9ff3-a9ef60f7e8e8 button.colab-df-convert');\n",
       "        buttonEl.style.display =\n",
       "          google.colab.kernel.accessAllowed ? 'block' : 'none';\n",
       "\n",
       "        async function convertToInteractive(key) {\n",
       "          const element = document.querySelector('#df-d3c7d439-a930-4490-9ff3-a9ef60f7e8e8');\n",
       "          const dataTable =\n",
       "            await google.colab.kernel.invokeFunction('convertToInteractive',\n",
       "                                                     [key], {});\n",
       "          if (!dataTable) return;\n",
       "\n",
       "          const docLinkHtml = 'Like what you see? Visit the ' +\n",
       "            '<a target=\"_blank\" href=https://colab.research.google.com/notebooks/data_table.ipynb>data table notebook</a>'\n",
       "            + ' to learn more about interactive tables.';\n",
       "          element.innerHTML = '';\n",
       "          dataTable['output_type'] = 'display_data';\n",
       "          await google.colab.output.renderOutput(dataTable, element);\n",
       "          const docLink = document.createElement('div');\n",
       "          docLink.innerHTML = docLinkHtml;\n",
       "          element.appendChild(docLink);\n",
       "        }\n",
       "      </script>\n",
       "    </div>\n",
       "  </div>\n",
       "  "
      ],
      "text/plain": [
       "                  autor                                              texto  \\\n",
       "0            v8_capital  Confira os resultados dos nossos fundos no mês...   \n",
       "1         winthegame_of  A Alvarez & Marsal estará conosco no Sportainm...   \n",
       "2            marta_bego  #Repost btgpactual with make_repost ・・・ Entend...   \n",
       "3            lmviapiana                               Minuto touro de ouro   \n",
       "4          vanilson_dos                                   @ricktolledo Sim   \n",
       "...                 ...                                                ...   \n",
       "12350       onixcapital  Uma noite de encontros e muito conhecimento on...   \n",
       "12351  amgcapitalinvest  Erros financeiros para eliminar antes dos 30 a...   \n",
       "12352     jayipacderota  Estou muito grato por todo o esforço que você ...   \n",
       "12353   moinho_cultural  \"👉GUADAKAN está chegando!!!!  A aula pública e...   \n",
       "12354         bfmarilia  @btgpactual pq o morning call não está mais ap...   \n",
       "\n",
       "      sentimento tipoInteracao  anomalia  probabilidadeAnomalia  \\\n",
       "0        NEUTRAL      marcação         1                     52   \n",
       "1        NEUTRAL      marcação         0                     43   \n",
       "2        NEUTRAL      marcação         0                     45   \n",
       "3       POSITIVE    comentário         0                     38   \n",
       "4        NEUTRAL      resposta         0                     17   \n",
       "...          ...           ...       ...                    ...   \n",
       "12350    NEUTRAL      marcação         1                     54   \n",
       "12351    NEUTRAL      marcação         0                     39   \n",
       "12352   POSITIVE    comentário         1                     52   \n",
       "12353    NEUTRAL      marcação         0                     43   \n",
       "12354   NEGATIVE    comentário         0                     28   \n",
       "\n",
       "                                                linkPost  contemHyperlink  \\\n",
       "0               https://www.instagram.com/p/CarqO6drRux/                0   \n",
       "1               https://www.instagram.com/p/CarpQUluh7z/                0   \n",
       "2               https://www.instagram.com/p/CaroK9Nu8tC/                0   \n",
       "3      https://www.instagram.com/p/CapXhB5Lvas/#17977...                0   \n",
       "4      https://www.instagram.com/p/CapXhB5Lvas/#17842...                0   \n",
       "...                                                  ...              ...   \n",
       "12350        https://www.instagram.com/reel/CllsqI7goSC/                0   \n",
       "12351           https://www.instagram.com/p/Cllw0CmNGkX/                0   \n",
       "12352  https://www.instagram.com/p/CllkSBOuKlJ/#17960...                0   \n",
       "12353        https://www.instagram.com/reel/ClluX-cAoaf/                0   \n",
       "12354  https://www.instagram.com/p/CllkSBOuKlJ/#17975...                0   \n",
       "\n",
       "                                               tokenized  \n",
       "0      [Confira, os, resultados, dos, nossos, fundos,...  \n",
       "1      [A, Alvarez, &, Marsal, estará, conosco, no, S...  \n",
       "2      [#, Repost, btgpactual, with, make_repost, ・・・...  \n",
       "3                              [Minuto, touro, de, ouro]  \n",
       "4                                  [@, ricktolledo, Sim]  \n",
       "...                                                  ...  \n",
       "12350  [Uma, noite, de, encontros, e, muito, conhecim...  \n",
       "12351  [Erros, financeiros, para, eliminar, antes, do...  \n",
       "12352  [Estou, muito, grato, por, todo, o, esforço, q...  \n",
       "12353  [``, 👉GUADAKAN, está, chegando, !, !, !, !, A,...  \n",
       "12354  [@, btgpactual, pq, o, morning, call, não, est...  \n",
       "\n",
       "[12193 rows x 9 columns]"
      ]
     },
     "execution_count": 114,
     "metadata": {},
     "output_type": "execute_result"
    }
   ],
   "source": [
    "data_limpo['tokenized'] = data_limpo['texto'].apply(tokenizer)\n",
    "data_limpo "
   ]
  },
  {
   "cell_type": "code",
   "execution_count": 115,
   "metadata": {
    "colab": {
     "base_uri": "https://localhost:8080/",
     "height": 1000
    },
    "id": "CgGkVcC5qssr",
    "outputId": "9ab3d17c-df30-46f9-cc89-e94b6ac9db57"
   },
   "outputs": [
    {
     "name": "stderr",
     "output_type": "stream",
     "text": [
      "<ipython-input-115-2fab3eaca743>:1: SettingWithCopyWarning: \n",
      "A value is trying to be set on a copy of a slice from a DataFrame.\n",
      "Try using .loc[row_indexer,col_indexer] = value instead\n",
      "\n",
      "See the caveats in the documentation: https://pandas.pydata.org/pandas-docs/stable/user_guide/indexing.html#returning-a-view-versus-a-copy\n",
      "  data_limpo['no_stopwords'] = data_limpo['tokenized'].apply(remove_stopwords)\n"
     ]
    },
    {
     "data": {
      "text/html": [
       "\n",
       "  <div id=\"df-956421d1-e1fb-49ba-8876-2c78ad73b4ab\">\n",
       "    <div class=\"colab-df-container\">\n",
       "      <div>\n",
       "<style scoped>\n",
       "    .dataframe tbody tr th:only-of-type {\n",
       "        vertical-align: middle;\n",
       "    }\n",
       "\n",
       "    .dataframe tbody tr th {\n",
       "        vertical-align: top;\n",
       "    }\n",
       "\n",
       "    .dataframe thead th {\n",
       "        text-align: right;\n",
       "    }\n",
       "</style>\n",
       "<table border=\"1\" class=\"dataframe\">\n",
       "  <thead>\n",
       "    <tr style=\"text-align: right;\">\n",
       "      <th></th>\n",
       "      <th>autor</th>\n",
       "      <th>texto</th>\n",
       "      <th>sentimento</th>\n",
       "      <th>tipoInteracao</th>\n",
       "      <th>anomalia</th>\n",
       "      <th>probabilidadeAnomalia</th>\n",
       "      <th>linkPost</th>\n",
       "      <th>contemHyperlink</th>\n",
       "      <th>tokenized</th>\n",
       "      <th>no_stopwords</th>\n",
       "    </tr>\n",
       "  </thead>\n",
       "  <tbody>\n",
       "    <tr>\n",
       "      <th>0</th>\n",
       "      <td>v8_capital</td>\n",
       "      <td>Confira os resultados dos nossos fundos no mês...</td>\n",
       "      <td>NEUTRAL</td>\n",
       "      <td>marcação</td>\n",
       "      <td>1</td>\n",
       "      <td>52</td>\n",
       "      <td>https://www.instagram.com/p/CarqO6drRux/</td>\n",
       "      <td>0</td>\n",
       "      <td>[Confira, os, resultados, dos, nossos, fundos,...</td>\n",
       "      <td>[confira, resultados, fundos, mês, fevereiro/2...</td>\n",
       "    </tr>\n",
       "    <tr>\n",
       "      <th>1</th>\n",
       "      <td>winthegame_of</td>\n",
       "      <td>A Alvarez &amp; Marsal estará conosco no Sportainm...</td>\n",
       "      <td>NEUTRAL</td>\n",
       "      <td>marcação</td>\n",
       "      <td>0</td>\n",
       "      <td>43</td>\n",
       "      <td>https://www.instagram.com/p/CarpQUluh7z/</td>\n",
       "      <td>0</td>\n",
       "      <td>[A, Alvarez, &amp;, Marsal, estará, conosco, no, S...</td>\n",
       "      <td>[alvarez, &amp;, marsal, estará, conosco, sportain...</td>\n",
       "    </tr>\n",
       "    <tr>\n",
       "      <th>2</th>\n",
       "      <td>marta_bego</td>\n",
       "      <td>#Repost btgpactual with make_repost ・・・ Entend...</td>\n",
       "      <td>NEUTRAL</td>\n",
       "      <td>marcação</td>\n",
       "      <td>0</td>\n",
       "      <td>45</td>\n",
       "      <td>https://www.instagram.com/p/CaroK9Nu8tC/</td>\n",
       "      <td>0</td>\n",
       "      <td>[#, Repost, btgpactual, with, make_repost, ・・・...</td>\n",
       "      <td>[#, repost, btgpactual, with, make_repost, ・・・...</td>\n",
       "    </tr>\n",
       "    <tr>\n",
       "      <th>3</th>\n",
       "      <td>lmviapiana</td>\n",
       "      <td>Minuto touro de ouro</td>\n",
       "      <td>POSITIVE</td>\n",
       "      <td>comentário</td>\n",
       "      <td>0</td>\n",
       "      <td>38</td>\n",
       "      <td>https://www.instagram.com/p/CapXhB5Lvas/#17977...</td>\n",
       "      <td>0</td>\n",
       "      <td>[Minuto, touro, de, ouro]</td>\n",
       "      <td>[minuto, touro, ouro]</td>\n",
       "    </tr>\n",
       "    <tr>\n",
       "      <th>4</th>\n",
       "      <td>vanilson_dos</td>\n",
       "      <td>@ricktolledo Sim</td>\n",
       "      <td>NEUTRAL</td>\n",
       "      <td>resposta</td>\n",
       "      <td>0</td>\n",
       "      <td>17</td>\n",
       "      <td>https://www.instagram.com/p/CapXhB5Lvas/#17842...</td>\n",
       "      <td>0</td>\n",
       "      <td>[@, ricktolledo, Sim]</td>\n",
       "      <td>[@, ricktolledo, sim]</td>\n",
       "    </tr>\n",
       "    <tr>\n",
       "      <th>...</th>\n",
       "      <td>...</td>\n",
       "      <td>...</td>\n",
       "      <td>...</td>\n",
       "      <td>...</td>\n",
       "      <td>...</td>\n",
       "      <td>...</td>\n",
       "      <td>...</td>\n",
       "      <td>...</td>\n",
       "      <td>...</td>\n",
       "      <td>...</td>\n",
       "    </tr>\n",
       "    <tr>\n",
       "      <th>12350</th>\n",
       "      <td>onixcapital</td>\n",
       "      <td>Uma noite de encontros e muito conhecimento on...</td>\n",
       "      <td>NEUTRAL</td>\n",
       "      <td>marcação</td>\n",
       "      <td>1</td>\n",
       "      <td>54</td>\n",
       "      <td>https://www.instagram.com/reel/CllsqI7goSC/</td>\n",
       "      <td>0</td>\n",
       "      <td>[Uma, noite, de, encontros, e, muito, conhecim...</td>\n",
       "      <td>[noite, encontros, conhecimento, onde, cliente...</td>\n",
       "    </tr>\n",
       "    <tr>\n",
       "      <th>12351</th>\n",
       "      <td>amgcapitalinvest</td>\n",
       "      <td>Erros financeiros para eliminar antes dos 30 a...</td>\n",
       "      <td>NEUTRAL</td>\n",
       "      <td>marcação</td>\n",
       "      <td>0</td>\n",
       "      <td>39</td>\n",
       "      <td>https://www.instagram.com/p/Cllw0CmNGkX/</td>\n",
       "      <td>0</td>\n",
       "      <td>[Erros, financeiros, para, eliminar, antes, do...</td>\n",
       "      <td>[erros, financeiros, eliminar, antes, 30, anos...</td>\n",
       "    </tr>\n",
       "    <tr>\n",
       "      <th>12352</th>\n",
       "      <td>jayipacderota</td>\n",
       "      <td>Estou muito grato por todo o esforço que você ...</td>\n",
       "      <td>POSITIVE</td>\n",
       "      <td>comentário</td>\n",
       "      <td>1</td>\n",
       "      <td>52</td>\n",
       "      <td>https://www.instagram.com/p/CllkSBOuKlJ/#17960...</td>\n",
       "      <td>0</td>\n",
       "      <td>[Estou, muito, grato, por, todo, o, esforço, q...</td>\n",
       "      <td>[grato, todo, esforço, rendeu, investimento, r...</td>\n",
       "    </tr>\n",
       "    <tr>\n",
       "      <th>12353</th>\n",
       "      <td>moinho_cultural</td>\n",
       "      <td>\"👉GUADAKAN está chegando!!!!  A aula pública e...</td>\n",
       "      <td>NEUTRAL</td>\n",
       "      <td>marcação</td>\n",
       "      <td>0</td>\n",
       "      <td>43</td>\n",
       "      <td>https://www.instagram.com/reel/ClluX-cAoaf/</td>\n",
       "      <td>0</td>\n",
       "      <td>[``, 👉GUADAKAN, está, chegando, !, !, !, !, A,...</td>\n",
       "      <td>[``, 👉guadakan, chegando, !, !, !, !, aula, pú...</td>\n",
       "    </tr>\n",
       "    <tr>\n",
       "      <th>12354</th>\n",
       "      <td>bfmarilia</td>\n",
       "      <td>@btgpactual pq o morning call não está mais ap...</td>\n",
       "      <td>NEGATIVE</td>\n",
       "      <td>comentário</td>\n",
       "      <td>0</td>\n",
       "      <td>28</td>\n",
       "      <td>https://www.instagram.com/p/CllkSBOuKlJ/#17975...</td>\n",
       "      <td>0</td>\n",
       "      <td>[@, btgpactual, pq, o, morning, call, não, est...</td>\n",
       "      <td>[@, btgpactual, pq, morning, call, aparecendo,...</td>\n",
       "    </tr>\n",
       "  </tbody>\n",
       "</table>\n",
       "<p>12193 rows × 10 columns</p>\n",
       "</div>\n",
       "      <button class=\"colab-df-convert\" onclick=\"convertToInteractive('df-956421d1-e1fb-49ba-8876-2c78ad73b4ab')\"\n",
       "              title=\"Convert this dataframe to an interactive table.\"\n",
       "              style=\"display:none;\">\n",
       "        \n",
       "  <svg xmlns=\"http://www.w3.org/2000/svg\" height=\"24px\"viewBox=\"0 0 24 24\"\n",
       "       width=\"24px\">\n",
       "    <path d=\"M0 0h24v24H0V0z\" fill=\"none\"/>\n",
       "    <path d=\"M18.56 5.44l.94 2.06.94-2.06 2.06-.94-2.06-.94-.94-2.06-.94 2.06-2.06.94zm-11 1L8.5 8.5l.94-2.06 2.06-.94-2.06-.94L8.5 2.5l-.94 2.06-2.06.94zm10 10l.94 2.06.94-2.06 2.06-.94-2.06-.94-.94-2.06-.94 2.06-2.06.94z\"/><path d=\"M17.41 7.96l-1.37-1.37c-.4-.4-.92-.59-1.43-.59-.52 0-1.04.2-1.43.59L10.3 9.45l-7.72 7.72c-.78.78-.78 2.05 0 2.83L4 21.41c.39.39.9.59 1.41.59.51 0 1.02-.2 1.41-.59l7.78-7.78 2.81-2.81c.8-.78.8-2.07 0-2.86zM5.41 20L4 18.59l7.72-7.72 1.47 1.35L5.41 20z\"/>\n",
       "  </svg>\n",
       "      </button>\n",
       "      \n",
       "  <style>\n",
       "    .colab-df-container {\n",
       "      display:flex;\n",
       "      flex-wrap:wrap;\n",
       "      gap: 12px;\n",
       "    }\n",
       "\n",
       "    .colab-df-convert {\n",
       "      background-color: #E8F0FE;\n",
       "      border: none;\n",
       "      border-radius: 50%;\n",
       "      cursor: pointer;\n",
       "      display: none;\n",
       "      fill: #1967D2;\n",
       "      height: 32px;\n",
       "      padding: 0 0 0 0;\n",
       "      width: 32px;\n",
       "    }\n",
       "\n",
       "    .colab-df-convert:hover {\n",
       "      background-color: #E2EBFA;\n",
       "      box-shadow: 0px 1px 2px rgba(60, 64, 67, 0.3), 0px 1px 3px 1px rgba(60, 64, 67, 0.15);\n",
       "      fill: #174EA6;\n",
       "    }\n",
       "\n",
       "    [theme=dark] .colab-df-convert {\n",
       "      background-color: #3B4455;\n",
       "      fill: #D2E3FC;\n",
       "    }\n",
       "\n",
       "    [theme=dark] .colab-df-convert:hover {\n",
       "      background-color: #434B5C;\n",
       "      box-shadow: 0px 1px 3px 1px rgba(0, 0, 0, 0.15);\n",
       "      filter: drop-shadow(0px 1px 2px rgba(0, 0, 0, 0.3));\n",
       "      fill: #FFFFFF;\n",
       "    }\n",
       "  </style>\n",
       "\n",
       "      <script>\n",
       "        const buttonEl =\n",
       "          document.querySelector('#df-956421d1-e1fb-49ba-8876-2c78ad73b4ab button.colab-df-convert');\n",
       "        buttonEl.style.display =\n",
       "          google.colab.kernel.accessAllowed ? 'block' : 'none';\n",
       "\n",
       "        async function convertToInteractive(key) {\n",
       "          const element = document.querySelector('#df-956421d1-e1fb-49ba-8876-2c78ad73b4ab');\n",
       "          const dataTable =\n",
       "            await google.colab.kernel.invokeFunction('convertToInteractive',\n",
       "                                                     [key], {});\n",
       "          if (!dataTable) return;\n",
       "\n",
       "          const docLinkHtml = 'Like what you see? Visit the ' +\n",
       "            '<a target=\"_blank\" href=https://colab.research.google.com/notebooks/data_table.ipynb>data table notebook</a>'\n",
       "            + ' to learn more about interactive tables.';\n",
       "          element.innerHTML = '';\n",
       "          dataTable['output_type'] = 'display_data';\n",
       "          await google.colab.output.renderOutput(dataTable, element);\n",
       "          const docLink = document.createElement('div');\n",
       "          docLink.innerHTML = docLinkHtml;\n",
       "          element.appendChild(docLink);\n",
       "        }\n",
       "      </script>\n",
       "    </div>\n",
       "  </div>\n",
       "  "
      ],
      "text/plain": [
       "                  autor                                              texto  \\\n",
       "0            v8_capital  Confira os resultados dos nossos fundos no mês...   \n",
       "1         winthegame_of  A Alvarez & Marsal estará conosco no Sportainm...   \n",
       "2            marta_bego  #Repost btgpactual with make_repost ・・・ Entend...   \n",
       "3            lmviapiana                               Minuto touro de ouro   \n",
       "4          vanilson_dos                                   @ricktolledo Sim   \n",
       "...                 ...                                                ...   \n",
       "12350       onixcapital  Uma noite de encontros e muito conhecimento on...   \n",
       "12351  amgcapitalinvest  Erros financeiros para eliminar antes dos 30 a...   \n",
       "12352     jayipacderota  Estou muito grato por todo o esforço que você ...   \n",
       "12353   moinho_cultural  \"👉GUADAKAN está chegando!!!!  A aula pública e...   \n",
       "12354         bfmarilia  @btgpactual pq o morning call não está mais ap...   \n",
       "\n",
       "      sentimento tipoInteracao  anomalia  probabilidadeAnomalia  \\\n",
       "0        NEUTRAL      marcação         1                     52   \n",
       "1        NEUTRAL      marcação         0                     43   \n",
       "2        NEUTRAL      marcação         0                     45   \n",
       "3       POSITIVE    comentário         0                     38   \n",
       "4        NEUTRAL      resposta         0                     17   \n",
       "...          ...           ...       ...                    ...   \n",
       "12350    NEUTRAL      marcação         1                     54   \n",
       "12351    NEUTRAL      marcação         0                     39   \n",
       "12352   POSITIVE    comentário         1                     52   \n",
       "12353    NEUTRAL      marcação         0                     43   \n",
       "12354   NEGATIVE    comentário         0                     28   \n",
       "\n",
       "                                                linkPost  contemHyperlink  \\\n",
       "0               https://www.instagram.com/p/CarqO6drRux/                0   \n",
       "1               https://www.instagram.com/p/CarpQUluh7z/                0   \n",
       "2               https://www.instagram.com/p/CaroK9Nu8tC/                0   \n",
       "3      https://www.instagram.com/p/CapXhB5Lvas/#17977...                0   \n",
       "4      https://www.instagram.com/p/CapXhB5Lvas/#17842...                0   \n",
       "...                                                  ...              ...   \n",
       "12350        https://www.instagram.com/reel/CllsqI7goSC/                0   \n",
       "12351           https://www.instagram.com/p/Cllw0CmNGkX/                0   \n",
       "12352  https://www.instagram.com/p/CllkSBOuKlJ/#17960...                0   \n",
       "12353        https://www.instagram.com/reel/ClluX-cAoaf/                0   \n",
       "12354  https://www.instagram.com/p/CllkSBOuKlJ/#17975...                0   \n",
       "\n",
       "                                               tokenized  \\\n",
       "0      [Confira, os, resultados, dos, nossos, fundos,...   \n",
       "1      [A, Alvarez, &, Marsal, estará, conosco, no, S...   \n",
       "2      [#, Repost, btgpactual, with, make_repost, ・・・...   \n",
       "3                              [Minuto, touro, de, ouro]   \n",
       "4                                  [@, ricktolledo, Sim]   \n",
       "...                                                  ...   \n",
       "12350  [Uma, noite, de, encontros, e, muito, conhecim...   \n",
       "12351  [Erros, financeiros, para, eliminar, antes, do...   \n",
       "12352  [Estou, muito, grato, por, todo, o, esforço, q...   \n",
       "12353  [``, 👉GUADAKAN, está, chegando, !, !, !, !, A,...   \n",
       "12354  [@, btgpactual, pq, o, morning, call, não, est...   \n",
       "\n",
       "                                            no_stopwords  \n",
       "0      [confira, resultados, fundos, mês, fevereiro/2...  \n",
       "1      [alvarez, &, marsal, estará, conosco, sportain...  \n",
       "2      [#, repost, btgpactual, with, make_repost, ・・・...  \n",
       "3                                  [minuto, touro, ouro]  \n",
       "4                                  [@, ricktolledo, sim]  \n",
       "...                                                  ...  \n",
       "12350  [noite, encontros, conhecimento, onde, cliente...  \n",
       "12351  [erros, financeiros, eliminar, antes, 30, anos...  \n",
       "12352  [grato, todo, esforço, rendeu, investimento, r...  \n",
       "12353  [``, 👉guadakan, chegando, !, !, !, !, aula, pú...  \n",
       "12354  [@, btgpactual, pq, morning, call, aparecendo,...  \n",
       "\n",
       "[12193 rows x 10 columns]"
      ]
     },
     "execution_count": 115,
     "metadata": {},
     "output_type": "execute_result"
    }
   ],
   "source": [
    "data_limpo['no_stopwords'] = data_limpo['tokenized'].apply(remove_stopwords)\n",
    "data_limpo"
   ]
  },
  {
   "cell_type": "code",
   "execution_count": 116,
   "metadata": {
    "colab": {
     "base_uri": "https://localhost:8080/",
     "height": 1000
    },
    "id": "hMeJW5__GkU7",
    "outputId": "1d256452-7e49-4a66-f0ba-c28bf409041b"
   },
   "outputs": [
    {
     "name": "stderr",
     "output_type": "stream",
     "text": [
      "<ipython-input-116-272a836fa121>:1: SettingWithCopyWarning: \n",
      "A value is trying to be set on a copy of a slice from a DataFrame.\n",
      "Try using .loc[row_indexer,col_indexer] = value instead\n",
      "\n",
      "See the caveats in the documentation: https://pandas.pydata.org/pandas-docs/stable/user_guide/indexing.html#returning-a-view-versus-a-copy\n",
      "  data_limpo['texto_processed'] = data_limpo['no_stopwords'].apply(remover_pontuacao)\n"
     ]
    },
    {
     "data": {
      "text/html": [
       "\n",
       "  <div id=\"df-0f47e02a-f068-4260-a4c2-6f6486e27446\">\n",
       "    <div class=\"colab-df-container\">\n",
       "      <div>\n",
       "<style scoped>\n",
       "    .dataframe tbody tr th:only-of-type {\n",
       "        vertical-align: middle;\n",
       "    }\n",
       "\n",
       "    .dataframe tbody tr th {\n",
       "        vertical-align: top;\n",
       "    }\n",
       "\n",
       "    .dataframe thead th {\n",
       "        text-align: right;\n",
       "    }\n",
       "</style>\n",
       "<table border=\"1\" class=\"dataframe\">\n",
       "  <thead>\n",
       "    <tr style=\"text-align: right;\">\n",
       "      <th></th>\n",
       "      <th>autor</th>\n",
       "      <th>texto</th>\n",
       "      <th>sentimento</th>\n",
       "      <th>tipoInteracao</th>\n",
       "      <th>anomalia</th>\n",
       "      <th>probabilidadeAnomalia</th>\n",
       "      <th>linkPost</th>\n",
       "      <th>contemHyperlink</th>\n",
       "      <th>tokenized</th>\n",
       "      <th>no_stopwords</th>\n",
       "      <th>texto_processed</th>\n",
       "    </tr>\n",
       "  </thead>\n",
       "  <tbody>\n",
       "    <tr>\n",
       "      <th>0</th>\n",
       "      <td>v8_capital</td>\n",
       "      <td>Confira os resultados dos nossos fundos no mês...</td>\n",
       "      <td>NEUTRAL</td>\n",
       "      <td>marcação</td>\n",
       "      <td>1</td>\n",
       "      <td>52</td>\n",
       "      <td>https://www.instagram.com/p/CarqO6drRux/</td>\n",
       "      <td>0</td>\n",
       "      <td>[Confira, os, resultados, dos, nossos, fundos,...</td>\n",
       "      <td>[confira, resultados, fundos, mês, fevereiro/2...</td>\n",
       "      <td>[confira, resultados, fundos, mês, fevereiro22...</td>\n",
       "    </tr>\n",
       "    <tr>\n",
       "      <th>1</th>\n",
       "      <td>winthegame_of</td>\n",
       "      <td>A Alvarez &amp; Marsal estará conosco no Sportainm...</td>\n",
       "      <td>NEUTRAL</td>\n",
       "      <td>marcação</td>\n",
       "      <td>0</td>\n",
       "      <td>43</td>\n",
       "      <td>https://www.instagram.com/p/CarpQUluh7z/</td>\n",
       "      <td>0</td>\n",
       "      <td>[A, Alvarez, &amp;, Marsal, estará, conosco, no, S...</td>\n",
       "      <td>[alvarez, &amp;, marsal, estará, conosco, sportain...</td>\n",
       "      <td>[alvarez, marsal, estará, conosco, sportainmet...</td>\n",
       "    </tr>\n",
       "    <tr>\n",
       "      <th>2</th>\n",
       "      <td>marta_bego</td>\n",
       "      <td>#Repost btgpactual with make_repost ・・・ Entend...</td>\n",
       "      <td>NEUTRAL</td>\n",
       "      <td>marcação</td>\n",
       "      <td>0</td>\n",
       "      <td>45</td>\n",
       "      <td>https://www.instagram.com/p/CaroK9Nu8tC/</td>\n",
       "      <td>0</td>\n",
       "      <td>[#, Repost, btgpactual, with, make_repost, ・・・...</td>\n",
       "      <td>[#, repost, btgpactual, with, make_repost, ・・・...</td>\n",
       "      <td>[repost, btgpactual, with, make_repost, entend...</td>\n",
       "    </tr>\n",
       "    <tr>\n",
       "      <th>3</th>\n",
       "      <td>lmviapiana</td>\n",
       "      <td>Minuto touro de ouro</td>\n",
       "      <td>POSITIVE</td>\n",
       "      <td>comentário</td>\n",
       "      <td>0</td>\n",
       "      <td>38</td>\n",
       "      <td>https://www.instagram.com/p/CapXhB5Lvas/#17977...</td>\n",
       "      <td>0</td>\n",
       "      <td>[Minuto, touro, de, ouro]</td>\n",
       "      <td>[minuto, touro, ouro]</td>\n",
       "      <td>[minuto, touro, ouro]</td>\n",
       "    </tr>\n",
       "    <tr>\n",
       "      <th>4</th>\n",
       "      <td>vanilson_dos</td>\n",
       "      <td>@ricktolledo Sim</td>\n",
       "      <td>NEUTRAL</td>\n",
       "      <td>resposta</td>\n",
       "      <td>0</td>\n",
       "      <td>17</td>\n",
       "      <td>https://www.instagram.com/p/CapXhB5Lvas/#17842...</td>\n",
       "      <td>0</td>\n",
       "      <td>[@, ricktolledo, Sim]</td>\n",
       "      <td>[@, ricktolledo, sim]</td>\n",
       "      <td>[ricktolledo, sim]</td>\n",
       "    </tr>\n",
       "    <tr>\n",
       "      <th>...</th>\n",
       "      <td>...</td>\n",
       "      <td>...</td>\n",
       "      <td>...</td>\n",
       "      <td>...</td>\n",
       "      <td>...</td>\n",
       "      <td>...</td>\n",
       "      <td>...</td>\n",
       "      <td>...</td>\n",
       "      <td>...</td>\n",
       "      <td>...</td>\n",
       "      <td>...</td>\n",
       "    </tr>\n",
       "    <tr>\n",
       "      <th>12350</th>\n",
       "      <td>onixcapital</td>\n",
       "      <td>Uma noite de encontros e muito conhecimento on...</td>\n",
       "      <td>NEUTRAL</td>\n",
       "      <td>marcação</td>\n",
       "      <td>1</td>\n",
       "      <td>54</td>\n",
       "      <td>https://www.instagram.com/reel/CllsqI7goSC/</td>\n",
       "      <td>0</td>\n",
       "      <td>[Uma, noite, de, encontros, e, muito, conhecim...</td>\n",
       "      <td>[noite, encontros, conhecimento, onde, cliente...</td>\n",
       "      <td>[noite, encontros, conhecimento, onde, cliente...</td>\n",
       "    </tr>\n",
       "    <tr>\n",
       "      <th>12351</th>\n",
       "      <td>amgcapitalinvest</td>\n",
       "      <td>Erros financeiros para eliminar antes dos 30 a...</td>\n",
       "      <td>NEUTRAL</td>\n",
       "      <td>marcação</td>\n",
       "      <td>0</td>\n",
       "      <td>39</td>\n",
       "      <td>https://www.instagram.com/p/Cllw0CmNGkX/</td>\n",
       "      <td>0</td>\n",
       "      <td>[Erros, financeiros, para, eliminar, antes, do...</td>\n",
       "      <td>[erros, financeiros, eliminar, antes, 30, anos...</td>\n",
       "      <td>[erros, financeiros, eliminar, antes, 30, anos...</td>\n",
       "    </tr>\n",
       "    <tr>\n",
       "      <th>12352</th>\n",
       "      <td>jayipacderota</td>\n",
       "      <td>Estou muito grato por todo o esforço que você ...</td>\n",
       "      <td>POSITIVE</td>\n",
       "      <td>comentário</td>\n",
       "      <td>1</td>\n",
       "      <td>52</td>\n",
       "      <td>https://www.instagram.com/p/CllkSBOuKlJ/#17960...</td>\n",
       "      <td>0</td>\n",
       "      <td>[Estou, muito, grato, por, todo, o, esforço, q...</td>\n",
       "      <td>[grato, todo, esforço, rendeu, investimento, r...</td>\n",
       "      <td>[grato, todo, esforço, rendeu, investimento, r...</td>\n",
       "    </tr>\n",
       "    <tr>\n",
       "      <th>12353</th>\n",
       "      <td>moinho_cultural</td>\n",
       "      <td>\"👉GUADAKAN está chegando!!!!  A aula pública e...</td>\n",
       "      <td>NEUTRAL</td>\n",
       "      <td>marcação</td>\n",
       "      <td>0</td>\n",
       "      <td>43</td>\n",
       "      <td>https://www.instagram.com/reel/ClluX-cAoaf/</td>\n",
       "      <td>0</td>\n",
       "      <td>[``, 👉GUADAKAN, está, chegando, !, !, !, !, A,...</td>\n",
       "      <td>[``, 👉guadakan, chegando, !, !, !, !, aula, pú...</td>\n",
       "      <td>[guadakan, chegando, aula, pública, formato, e...</td>\n",
       "    </tr>\n",
       "    <tr>\n",
       "      <th>12354</th>\n",
       "      <td>bfmarilia</td>\n",
       "      <td>@btgpactual pq o morning call não está mais ap...</td>\n",
       "      <td>NEGATIVE</td>\n",
       "      <td>comentário</td>\n",
       "      <td>0</td>\n",
       "      <td>28</td>\n",
       "      <td>https://www.instagram.com/p/CllkSBOuKlJ/#17975...</td>\n",
       "      <td>0</td>\n",
       "      <td>[@, btgpactual, pq, o, morning, call, não, est...</td>\n",
       "      <td>[@, btgpactual, pq, morning, call, aparecendo,...</td>\n",
       "      <td>[btgpactual, pq, morning, call, aparecendo, sp...</td>\n",
       "    </tr>\n",
       "  </tbody>\n",
       "</table>\n",
       "<p>12193 rows × 11 columns</p>\n",
       "</div>\n",
       "      <button class=\"colab-df-convert\" onclick=\"convertToInteractive('df-0f47e02a-f068-4260-a4c2-6f6486e27446')\"\n",
       "              title=\"Convert this dataframe to an interactive table.\"\n",
       "              style=\"display:none;\">\n",
       "        \n",
       "  <svg xmlns=\"http://www.w3.org/2000/svg\" height=\"24px\"viewBox=\"0 0 24 24\"\n",
       "       width=\"24px\">\n",
       "    <path d=\"M0 0h24v24H0V0z\" fill=\"none\"/>\n",
       "    <path d=\"M18.56 5.44l.94 2.06.94-2.06 2.06-.94-2.06-.94-.94-2.06-.94 2.06-2.06.94zm-11 1L8.5 8.5l.94-2.06 2.06-.94-2.06-.94L8.5 2.5l-.94 2.06-2.06.94zm10 10l.94 2.06.94-2.06 2.06-.94-2.06-.94-.94-2.06-.94 2.06-2.06.94z\"/><path d=\"M17.41 7.96l-1.37-1.37c-.4-.4-.92-.59-1.43-.59-.52 0-1.04.2-1.43.59L10.3 9.45l-7.72 7.72c-.78.78-.78 2.05 0 2.83L4 21.41c.39.39.9.59 1.41.59.51 0 1.02-.2 1.41-.59l7.78-7.78 2.81-2.81c.8-.78.8-2.07 0-2.86zM5.41 20L4 18.59l7.72-7.72 1.47 1.35L5.41 20z\"/>\n",
       "  </svg>\n",
       "      </button>\n",
       "      \n",
       "  <style>\n",
       "    .colab-df-container {\n",
       "      display:flex;\n",
       "      flex-wrap:wrap;\n",
       "      gap: 12px;\n",
       "    }\n",
       "\n",
       "    .colab-df-convert {\n",
       "      background-color: #E8F0FE;\n",
       "      border: none;\n",
       "      border-radius: 50%;\n",
       "      cursor: pointer;\n",
       "      display: none;\n",
       "      fill: #1967D2;\n",
       "      height: 32px;\n",
       "      padding: 0 0 0 0;\n",
       "      width: 32px;\n",
       "    }\n",
       "\n",
       "    .colab-df-convert:hover {\n",
       "      background-color: #E2EBFA;\n",
       "      box-shadow: 0px 1px 2px rgba(60, 64, 67, 0.3), 0px 1px 3px 1px rgba(60, 64, 67, 0.15);\n",
       "      fill: #174EA6;\n",
       "    }\n",
       "\n",
       "    [theme=dark] .colab-df-convert {\n",
       "      background-color: #3B4455;\n",
       "      fill: #D2E3FC;\n",
       "    }\n",
       "\n",
       "    [theme=dark] .colab-df-convert:hover {\n",
       "      background-color: #434B5C;\n",
       "      box-shadow: 0px 1px 3px 1px rgba(0, 0, 0, 0.15);\n",
       "      filter: drop-shadow(0px 1px 2px rgba(0, 0, 0, 0.3));\n",
       "      fill: #FFFFFF;\n",
       "    }\n",
       "  </style>\n",
       "\n",
       "      <script>\n",
       "        const buttonEl =\n",
       "          document.querySelector('#df-0f47e02a-f068-4260-a4c2-6f6486e27446 button.colab-df-convert');\n",
       "        buttonEl.style.display =\n",
       "          google.colab.kernel.accessAllowed ? 'block' : 'none';\n",
       "\n",
       "        async function convertToInteractive(key) {\n",
       "          const element = document.querySelector('#df-0f47e02a-f068-4260-a4c2-6f6486e27446');\n",
       "          const dataTable =\n",
       "            await google.colab.kernel.invokeFunction('convertToInteractive',\n",
       "                                                     [key], {});\n",
       "          if (!dataTable) return;\n",
       "\n",
       "          const docLinkHtml = 'Like what you see? Visit the ' +\n",
       "            '<a target=\"_blank\" href=https://colab.research.google.com/notebooks/data_table.ipynb>data table notebook</a>'\n",
       "            + ' to learn more about interactive tables.';\n",
       "          element.innerHTML = '';\n",
       "          dataTable['output_type'] = 'display_data';\n",
       "          await google.colab.output.renderOutput(dataTable, element);\n",
       "          const docLink = document.createElement('div');\n",
       "          docLink.innerHTML = docLinkHtml;\n",
       "          element.appendChild(docLink);\n",
       "        }\n",
       "      </script>\n",
       "    </div>\n",
       "  </div>\n",
       "  "
      ],
      "text/plain": [
       "                  autor                                              texto  \\\n",
       "0            v8_capital  Confira os resultados dos nossos fundos no mês...   \n",
       "1         winthegame_of  A Alvarez & Marsal estará conosco no Sportainm...   \n",
       "2            marta_bego  #Repost btgpactual with make_repost ・・・ Entend...   \n",
       "3            lmviapiana                               Minuto touro de ouro   \n",
       "4          vanilson_dos                                   @ricktolledo Sim   \n",
       "...                 ...                                                ...   \n",
       "12350       onixcapital  Uma noite de encontros e muito conhecimento on...   \n",
       "12351  amgcapitalinvest  Erros financeiros para eliminar antes dos 30 a...   \n",
       "12352     jayipacderota  Estou muito grato por todo o esforço que você ...   \n",
       "12353   moinho_cultural  \"👉GUADAKAN está chegando!!!!  A aula pública e...   \n",
       "12354         bfmarilia  @btgpactual pq o morning call não está mais ap...   \n",
       "\n",
       "      sentimento tipoInteracao  anomalia  probabilidadeAnomalia  \\\n",
       "0        NEUTRAL      marcação         1                     52   \n",
       "1        NEUTRAL      marcação         0                     43   \n",
       "2        NEUTRAL      marcação         0                     45   \n",
       "3       POSITIVE    comentário         0                     38   \n",
       "4        NEUTRAL      resposta         0                     17   \n",
       "...          ...           ...       ...                    ...   \n",
       "12350    NEUTRAL      marcação         1                     54   \n",
       "12351    NEUTRAL      marcação         0                     39   \n",
       "12352   POSITIVE    comentário         1                     52   \n",
       "12353    NEUTRAL      marcação         0                     43   \n",
       "12354   NEGATIVE    comentário         0                     28   \n",
       "\n",
       "                                                linkPost  contemHyperlink  \\\n",
       "0               https://www.instagram.com/p/CarqO6drRux/                0   \n",
       "1               https://www.instagram.com/p/CarpQUluh7z/                0   \n",
       "2               https://www.instagram.com/p/CaroK9Nu8tC/                0   \n",
       "3      https://www.instagram.com/p/CapXhB5Lvas/#17977...                0   \n",
       "4      https://www.instagram.com/p/CapXhB5Lvas/#17842...                0   \n",
       "...                                                  ...              ...   \n",
       "12350        https://www.instagram.com/reel/CllsqI7goSC/                0   \n",
       "12351           https://www.instagram.com/p/Cllw0CmNGkX/                0   \n",
       "12352  https://www.instagram.com/p/CllkSBOuKlJ/#17960...                0   \n",
       "12353        https://www.instagram.com/reel/ClluX-cAoaf/                0   \n",
       "12354  https://www.instagram.com/p/CllkSBOuKlJ/#17975...                0   \n",
       "\n",
       "                                               tokenized  \\\n",
       "0      [Confira, os, resultados, dos, nossos, fundos,...   \n",
       "1      [A, Alvarez, &, Marsal, estará, conosco, no, S...   \n",
       "2      [#, Repost, btgpactual, with, make_repost, ・・・...   \n",
       "3                              [Minuto, touro, de, ouro]   \n",
       "4                                  [@, ricktolledo, Sim]   \n",
       "...                                                  ...   \n",
       "12350  [Uma, noite, de, encontros, e, muito, conhecim...   \n",
       "12351  [Erros, financeiros, para, eliminar, antes, do...   \n",
       "12352  [Estou, muito, grato, por, todo, o, esforço, q...   \n",
       "12353  [``, 👉GUADAKAN, está, chegando, !, !, !, !, A,...   \n",
       "12354  [@, btgpactual, pq, o, morning, call, não, est...   \n",
       "\n",
       "                                            no_stopwords  \\\n",
       "0      [confira, resultados, fundos, mês, fevereiro/2...   \n",
       "1      [alvarez, &, marsal, estará, conosco, sportain...   \n",
       "2      [#, repost, btgpactual, with, make_repost, ・・・...   \n",
       "3                                  [minuto, touro, ouro]   \n",
       "4                                  [@, ricktolledo, sim]   \n",
       "...                                                  ...   \n",
       "12350  [noite, encontros, conhecimento, onde, cliente...   \n",
       "12351  [erros, financeiros, eliminar, antes, 30, anos...   \n",
       "12352  [grato, todo, esforço, rendeu, investimento, r...   \n",
       "12353  [``, 👉guadakan, chegando, !, !, !, !, aula, pú...   \n",
       "12354  [@, btgpactual, pq, morning, call, aparecendo,...   \n",
       "\n",
       "                                         texto_processed  \n",
       "0      [confira, resultados, fundos, mês, fevereiro22...  \n",
       "1      [alvarez, marsal, estará, conosco, sportainmet...  \n",
       "2      [repost, btgpactual, with, make_repost, entend...  \n",
       "3                                  [minuto, touro, ouro]  \n",
       "4                                     [ricktolledo, sim]  \n",
       "...                                                  ...  \n",
       "12350  [noite, encontros, conhecimento, onde, cliente...  \n",
       "12351  [erros, financeiros, eliminar, antes, 30, anos...  \n",
       "12352  [grato, todo, esforço, rendeu, investimento, r...  \n",
       "12353  [guadakan, chegando, aula, pública, formato, e...  \n",
       "12354  [btgpactual, pq, morning, call, aparecendo, sp...  \n",
       "\n",
       "[12193 rows x 11 columns]"
      ]
     },
     "execution_count": 116,
     "metadata": {},
     "output_type": "execute_result"
    }
   ],
   "source": [
    "data_limpo['texto_processed'] = data_limpo['no_stopwords'].apply(remover_pontuacao)\n",
    "data_limpo"
   ]
  },
  {
   "cell_type": "code",
   "execution_count": 117,
   "metadata": {
    "colab": {
     "base_uri": "https://localhost:8080/",
     "height": 1000
    },
    "id": "RjQDHmFLGAe1",
    "outputId": "0a2840b4-2e7e-4bd9-e1bd-37d8d9407113"
   },
   "outputs": [
    {
     "name": "stderr",
     "output_type": "stream",
     "text": [
      "<ipython-input-117-166c546c13e9>:1: SettingWithCopyWarning: \n",
      "A value is trying to be set on a copy of a slice from a DataFrame.\n",
      "Try using .loc[row_indexer,col_indexer] = value instead\n",
      "\n",
      "See the caveats in the documentation: https://pandas.pydata.org/pandas-docs/stable/user_guide/indexing.html#returning-a-view-versus-a-copy\n",
      "  data_limpo['stemmed'] = data_limpo['texto_processed'].apply(stemming)\n"
     ]
    },
    {
     "data": {
      "text/html": [
       "\n",
       "  <div id=\"df-117ffa70-4285-45a2-ad7b-08356465f163\">\n",
       "    <div class=\"colab-df-container\">\n",
       "      <div>\n",
       "<style scoped>\n",
       "    .dataframe tbody tr th:only-of-type {\n",
       "        vertical-align: middle;\n",
       "    }\n",
       "\n",
       "    .dataframe tbody tr th {\n",
       "        vertical-align: top;\n",
       "    }\n",
       "\n",
       "    .dataframe thead th {\n",
       "        text-align: right;\n",
       "    }\n",
       "</style>\n",
       "<table border=\"1\" class=\"dataframe\">\n",
       "  <thead>\n",
       "    <tr style=\"text-align: right;\">\n",
       "      <th></th>\n",
       "      <th>autor</th>\n",
       "      <th>texto</th>\n",
       "      <th>sentimento</th>\n",
       "      <th>tipoInteracao</th>\n",
       "      <th>anomalia</th>\n",
       "      <th>probabilidadeAnomalia</th>\n",
       "      <th>linkPost</th>\n",
       "      <th>contemHyperlink</th>\n",
       "      <th>tokenized</th>\n",
       "      <th>no_stopwords</th>\n",
       "      <th>texto_processed</th>\n",
       "      <th>stemmed</th>\n",
       "    </tr>\n",
       "  </thead>\n",
       "  <tbody>\n",
       "    <tr>\n",
       "      <th>0</th>\n",
       "      <td>v8_capital</td>\n",
       "      <td>Confira os resultados dos nossos fundos no mês...</td>\n",
       "      <td>NEUTRAL</td>\n",
       "      <td>marcação</td>\n",
       "      <td>1</td>\n",
       "      <td>52</td>\n",
       "      <td>https://www.instagram.com/p/CarqO6drRux/</td>\n",
       "      <td>0</td>\n",
       "      <td>[Confira, os, resultados, dos, nossos, fundos,...</td>\n",
       "      <td>[confira, resultados, fundos, mês, fevereiro/2...</td>\n",
       "      <td>[confira, resultados, fundos, mês, fevereiro22...</td>\n",
       "      <td>[conf, result, fund, mês, fevereiro22, tod, in...</td>\n",
       "    </tr>\n",
       "    <tr>\n",
       "      <th>1</th>\n",
       "      <td>winthegame_of</td>\n",
       "      <td>A Alvarez &amp; Marsal estará conosco no Sportainm...</td>\n",
       "      <td>NEUTRAL</td>\n",
       "      <td>marcação</td>\n",
       "      <td>0</td>\n",
       "      <td>43</td>\n",
       "      <td>https://www.instagram.com/p/CarpQUluh7z/</td>\n",
       "      <td>0</td>\n",
       "      <td>[A, Alvarez, &amp;, Marsal, estará, conosco, no, S...</td>\n",
       "      <td>[alvarez, &amp;, marsal, estará, conosco, sportain...</td>\n",
       "      <td>[alvarez, marsal, estará, conosco, sportainmet...</td>\n",
       "      <td>[alvarez, marsal, estar, conosc, sportainmet, ...</td>\n",
       "    </tr>\n",
       "    <tr>\n",
       "      <th>2</th>\n",
       "      <td>marta_bego</td>\n",
       "      <td>#Repost btgpactual with make_repost ・・・ Entend...</td>\n",
       "      <td>NEUTRAL</td>\n",
       "      <td>marcação</td>\n",
       "      <td>0</td>\n",
       "      <td>45</td>\n",
       "      <td>https://www.instagram.com/p/CaroK9Nu8tC/</td>\n",
       "      <td>0</td>\n",
       "      <td>[#, Repost, btgpactual, with, make_repost, ・・・...</td>\n",
       "      <td>[#, repost, btgpactual, with, make_repost, ・・・...</td>\n",
       "      <td>[repost, btgpactual, with, make_repost, entend...</td>\n",
       "      <td>[repost, btgpactual, with, make_repost, entend...</td>\n",
       "    </tr>\n",
       "    <tr>\n",
       "      <th>3</th>\n",
       "      <td>lmviapiana</td>\n",
       "      <td>Minuto touro de ouro</td>\n",
       "      <td>POSITIVE</td>\n",
       "      <td>comentário</td>\n",
       "      <td>0</td>\n",
       "      <td>38</td>\n",
       "      <td>https://www.instagram.com/p/CapXhB5Lvas/#17977...</td>\n",
       "      <td>0</td>\n",
       "      <td>[Minuto, touro, de, ouro]</td>\n",
       "      <td>[minuto, touro, ouro]</td>\n",
       "      <td>[minuto, touro, ouro]</td>\n",
       "      <td>[minut, tour, our]</td>\n",
       "    </tr>\n",
       "    <tr>\n",
       "      <th>4</th>\n",
       "      <td>vanilson_dos</td>\n",
       "      <td>@ricktolledo Sim</td>\n",
       "      <td>NEUTRAL</td>\n",
       "      <td>resposta</td>\n",
       "      <td>0</td>\n",
       "      <td>17</td>\n",
       "      <td>https://www.instagram.com/p/CapXhB5Lvas/#17842...</td>\n",
       "      <td>0</td>\n",
       "      <td>[@, ricktolledo, Sim]</td>\n",
       "      <td>[@, ricktolledo, sim]</td>\n",
       "      <td>[ricktolledo, sim]</td>\n",
       "      <td>[ricktolled, sim]</td>\n",
       "    </tr>\n",
       "    <tr>\n",
       "      <th>...</th>\n",
       "      <td>...</td>\n",
       "      <td>...</td>\n",
       "      <td>...</td>\n",
       "      <td>...</td>\n",
       "      <td>...</td>\n",
       "      <td>...</td>\n",
       "      <td>...</td>\n",
       "      <td>...</td>\n",
       "      <td>...</td>\n",
       "      <td>...</td>\n",
       "      <td>...</td>\n",
       "      <td>...</td>\n",
       "    </tr>\n",
       "    <tr>\n",
       "      <th>12350</th>\n",
       "      <td>onixcapital</td>\n",
       "      <td>Uma noite de encontros e muito conhecimento on...</td>\n",
       "      <td>NEUTRAL</td>\n",
       "      <td>marcação</td>\n",
       "      <td>1</td>\n",
       "      <td>54</td>\n",
       "      <td>https://www.instagram.com/reel/CllsqI7goSC/</td>\n",
       "      <td>0</td>\n",
       "      <td>[Uma, noite, de, encontros, e, muito, conhecim...</td>\n",
       "      <td>[noite, encontros, conhecimento, onde, cliente...</td>\n",
       "      <td>[noite, encontros, conhecimento, onde, cliente...</td>\n",
       "      <td>[noit, encontr, conhec, onde, client, barreira...</td>\n",
       "    </tr>\n",
       "    <tr>\n",
       "      <th>12351</th>\n",
       "      <td>amgcapitalinvest</td>\n",
       "      <td>Erros financeiros para eliminar antes dos 30 a...</td>\n",
       "      <td>NEUTRAL</td>\n",
       "      <td>marcação</td>\n",
       "      <td>0</td>\n",
       "      <td>39</td>\n",
       "      <td>https://www.instagram.com/p/Cllw0CmNGkX/</td>\n",
       "      <td>0</td>\n",
       "      <td>[Erros, financeiros, para, eliminar, antes, do...</td>\n",
       "      <td>[erros, financeiros, eliminar, antes, 30, anos...</td>\n",
       "      <td>[erros, financeiros, eliminar, antes, 30, anos...</td>\n",
       "      <td>[erros, financeir, elimin, antes, 30, anos, 1,...</td>\n",
       "    </tr>\n",
       "    <tr>\n",
       "      <th>12352</th>\n",
       "      <td>jayipacderota</td>\n",
       "      <td>Estou muito grato por todo o esforço que você ...</td>\n",
       "      <td>POSITIVE</td>\n",
       "      <td>comentário</td>\n",
       "      <td>1</td>\n",
       "      <td>52</td>\n",
       "      <td>https://www.instagram.com/p/CllkSBOuKlJ/#17960...</td>\n",
       "      <td>0</td>\n",
       "      <td>[Estou, muito, grato, por, todo, o, esforço, q...</td>\n",
       "      <td>[grato, todo, esforço, rendeu, investimento, r...</td>\n",
       "      <td>[grato, todo, esforço, rendeu, investimento, r...</td>\n",
       "      <td>[grat, tod, esforc, rend, invest, r, 17000, al...</td>\n",
       "    </tr>\n",
       "    <tr>\n",
       "      <th>12353</th>\n",
       "      <td>moinho_cultural</td>\n",
       "      <td>\"👉GUADAKAN está chegando!!!!  A aula pública e...</td>\n",
       "      <td>NEUTRAL</td>\n",
       "      <td>marcação</td>\n",
       "      <td>0</td>\n",
       "      <td>43</td>\n",
       "      <td>https://www.instagram.com/reel/ClluX-cAoaf/</td>\n",
       "      <td>0</td>\n",
       "      <td>[``, 👉GUADAKAN, está, chegando, !, !, !, !, A,...</td>\n",
       "      <td>[``, 👉guadakan, chegando, !, !, !, !, aula, pú...</td>\n",
       "      <td>[guadakan, chegando, aula, pública, formato, e...</td>\n",
       "      <td>[guadakan, cheg, aul, públic, format, espetácu...</td>\n",
       "    </tr>\n",
       "    <tr>\n",
       "      <th>12354</th>\n",
       "      <td>bfmarilia</td>\n",
       "      <td>@btgpactual pq o morning call não está mais ap...</td>\n",
       "      <td>NEGATIVE</td>\n",
       "      <td>comentário</td>\n",
       "      <td>0</td>\n",
       "      <td>28</td>\n",
       "      <td>https://www.instagram.com/p/CllkSBOuKlJ/#17975...</td>\n",
       "      <td>0</td>\n",
       "      <td>[@, btgpactual, pq, o, morning, call, não, est...</td>\n",
       "      <td>[@, btgpactual, pq, morning, call, aparecendo,...</td>\n",
       "      <td>[btgpactual, pq, morning, call, aparecendo, sp...</td>\n",
       "      <td>[btgpactual, pq, morning, call, aparec, spotif...</td>\n",
       "    </tr>\n",
       "  </tbody>\n",
       "</table>\n",
       "<p>12193 rows × 12 columns</p>\n",
       "</div>\n",
       "      <button class=\"colab-df-convert\" onclick=\"convertToInteractive('df-117ffa70-4285-45a2-ad7b-08356465f163')\"\n",
       "              title=\"Convert this dataframe to an interactive table.\"\n",
       "              style=\"display:none;\">\n",
       "        \n",
       "  <svg xmlns=\"http://www.w3.org/2000/svg\" height=\"24px\"viewBox=\"0 0 24 24\"\n",
       "       width=\"24px\">\n",
       "    <path d=\"M0 0h24v24H0V0z\" fill=\"none\"/>\n",
       "    <path d=\"M18.56 5.44l.94 2.06.94-2.06 2.06-.94-2.06-.94-.94-2.06-.94 2.06-2.06.94zm-11 1L8.5 8.5l.94-2.06 2.06-.94-2.06-.94L8.5 2.5l-.94 2.06-2.06.94zm10 10l.94 2.06.94-2.06 2.06-.94-2.06-.94-.94-2.06-.94 2.06-2.06.94z\"/><path d=\"M17.41 7.96l-1.37-1.37c-.4-.4-.92-.59-1.43-.59-.52 0-1.04.2-1.43.59L10.3 9.45l-7.72 7.72c-.78.78-.78 2.05 0 2.83L4 21.41c.39.39.9.59 1.41.59.51 0 1.02-.2 1.41-.59l7.78-7.78 2.81-2.81c.8-.78.8-2.07 0-2.86zM5.41 20L4 18.59l7.72-7.72 1.47 1.35L5.41 20z\"/>\n",
       "  </svg>\n",
       "      </button>\n",
       "      \n",
       "  <style>\n",
       "    .colab-df-container {\n",
       "      display:flex;\n",
       "      flex-wrap:wrap;\n",
       "      gap: 12px;\n",
       "    }\n",
       "\n",
       "    .colab-df-convert {\n",
       "      background-color: #E8F0FE;\n",
       "      border: none;\n",
       "      border-radius: 50%;\n",
       "      cursor: pointer;\n",
       "      display: none;\n",
       "      fill: #1967D2;\n",
       "      height: 32px;\n",
       "      padding: 0 0 0 0;\n",
       "      width: 32px;\n",
       "    }\n",
       "\n",
       "    .colab-df-convert:hover {\n",
       "      background-color: #E2EBFA;\n",
       "      box-shadow: 0px 1px 2px rgba(60, 64, 67, 0.3), 0px 1px 3px 1px rgba(60, 64, 67, 0.15);\n",
       "      fill: #174EA6;\n",
       "    }\n",
       "\n",
       "    [theme=dark] .colab-df-convert {\n",
       "      background-color: #3B4455;\n",
       "      fill: #D2E3FC;\n",
       "    }\n",
       "\n",
       "    [theme=dark] .colab-df-convert:hover {\n",
       "      background-color: #434B5C;\n",
       "      box-shadow: 0px 1px 3px 1px rgba(0, 0, 0, 0.15);\n",
       "      filter: drop-shadow(0px 1px 2px rgba(0, 0, 0, 0.3));\n",
       "      fill: #FFFFFF;\n",
       "    }\n",
       "  </style>\n",
       "\n",
       "      <script>\n",
       "        const buttonEl =\n",
       "          document.querySelector('#df-117ffa70-4285-45a2-ad7b-08356465f163 button.colab-df-convert');\n",
       "        buttonEl.style.display =\n",
       "          google.colab.kernel.accessAllowed ? 'block' : 'none';\n",
       "\n",
       "        async function convertToInteractive(key) {\n",
       "          const element = document.querySelector('#df-117ffa70-4285-45a2-ad7b-08356465f163');\n",
       "          const dataTable =\n",
       "            await google.colab.kernel.invokeFunction('convertToInteractive',\n",
       "                                                     [key], {});\n",
       "          if (!dataTable) return;\n",
       "\n",
       "          const docLinkHtml = 'Like what you see? Visit the ' +\n",
       "            '<a target=\"_blank\" href=https://colab.research.google.com/notebooks/data_table.ipynb>data table notebook</a>'\n",
       "            + ' to learn more about interactive tables.';\n",
       "          element.innerHTML = '';\n",
       "          dataTable['output_type'] = 'display_data';\n",
       "          await google.colab.output.renderOutput(dataTable, element);\n",
       "          const docLink = document.createElement('div');\n",
       "          docLink.innerHTML = docLinkHtml;\n",
       "          element.appendChild(docLink);\n",
       "        }\n",
       "      </script>\n",
       "    </div>\n",
       "  </div>\n",
       "  "
      ],
      "text/plain": [
       "                  autor                                              texto  \\\n",
       "0            v8_capital  Confira os resultados dos nossos fundos no mês...   \n",
       "1         winthegame_of  A Alvarez & Marsal estará conosco no Sportainm...   \n",
       "2            marta_bego  #Repost btgpactual with make_repost ・・・ Entend...   \n",
       "3            lmviapiana                               Minuto touro de ouro   \n",
       "4          vanilson_dos                                   @ricktolledo Sim   \n",
       "...                 ...                                                ...   \n",
       "12350       onixcapital  Uma noite de encontros e muito conhecimento on...   \n",
       "12351  amgcapitalinvest  Erros financeiros para eliminar antes dos 30 a...   \n",
       "12352     jayipacderota  Estou muito grato por todo o esforço que você ...   \n",
       "12353   moinho_cultural  \"👉GUADAKAN está chegando!!!!  A aula pública e...   \n",
       "12354         bfmarilia  @btgpactual pq o morning call não está mais ap...   \n",
       "\n",
       "      sentimento tipoInteracao  anomalia  probabilidadeAnomalia  \\\n",
       "0        NEUTRAL      marcação         1                     52   \n",
       "1        NEUTRAL      marcação         0                     43   \n",
       "2        NEUTRAL      marcação         0                     45   \n",
       "3       POSITIVE    comentário         0                     38   \n",
       "4        NEUTRAL      resposta         0                     17   \n",
       "...          ...           ...       ...                    ...   \n",
       "12350    NEUTRAL      marcação         1                     54   \n",
       "12351    NEUTRAL      marcação         0                     39   \n",
       "12352   POSITIVE    comentário         1                     52   \n",
       "12353    NEUTRAL      marcação         0                     43   \n",
       "12354   NEGATIVE    comentário         0                     28   \n",
       "\n",
       "                                                linkPost  contemHyperlink  \\\n",
       "0               https://www.instagram.com/p/CarqO6drRux/                0   \n",
       "1               https://www.instagram.com/p/CarpQUluh7z/                0   \n",
       "2               https://www.instagram.com/p/CaroK9Nu8tC/                0   \n",
       "3      https://www.instagram.com/p/CapXhB5Lvas/#17977...                0   \n",
       "4      https://www.instagram.com/p/CapXhB5Lvas/#17842...                0   \n",
       "...                                                  ...              ...   \n",
       "12350        https://www.instagram.com/reel/CllsqI7goSC/                0   \n",
       "12351           https://www.instagram.com/p/Cllw0CmNGkX/                0   \n",
       "12352  https://www.instagram.com/p/CllkSBOuKlJ/#17960...                0   \n",
       "12353        https://www.instagram.com/reel/ClluX-cAoaf/                0   \n",
       "12354  https://www.instagram.com/p/CllkSBOuKlJ/#17975...                0   \n",
       "\n",
       "                                               tokenized  \\\n",
       "0      [Confira, os, resultados, dos, nossos, fundos,...   \n",
       "1      [A, Alvarez, &, Marsal, estará, conosco, no, S...   \n",
       "2      [#, Repost, btgpactual, with, make_repost, ・・・...   \n",
       "3                              [Minuto, touro, de, ouro]   \n",
       "4                                  [@, ricktolledo, Sim]   \n",
       "...                                                  ...   \n",
       "12350  [Uma, noite, de, encontros, e, muito, conhecim...   \n",
       "12351  [Erros, financeiros, para, eliminar, antes, do...   \n",
       "12352  [Estou, muito, grato, por, todo, o, esforço, q...   \n",
       "12353  [``, 👉GUADAKAN, está, chegando, !, !, !, !, A,...   \n",
       "12354  [@, btgpactual, pq, o, morning, call, não, est...   \n",
       "\n",
       "                                            no_stopwords  \\\n",
       "0      [confira, resultados, fundos, mês, fevereiro/2...   \n",
       "1      [alvarez, &, marsal, estará, conosco, sportain...   \n",
       "2      [#, repost, btgpactual, with, make_repost, ・・・...   \n",
       "3                                  [minuto, touro, ouro]   \n",
       "4                                  [@, ricktolledo, sim]   \n",
       "...                                                  ...   \n",
       "12350  [noite, encontros, conhecimento, onde, cliente...   \n",
       "12351  [erros, financeiros, eliminar, antes, 30, anos...   \n",
       "12352  [grato, todo, esforço, rendeu, investimento, r...   \n",
       "12353  [``, 👉guadakan, chegando, !, !, !, !, aula, pú...   \n",
       "12354  [@, btgpactual, pq, morning, call, aparecendo,...   \n",
       "\n",
       "                                         texto_processed  \\\n",
       "0      [confira, resultados, fundos, mês, fevereiro22...   \n",
       "1      [alvarez, marsal, estará, conosco, sportainmet...   \n",
       "2      [repost, btgpactual, with, make_repost, entend...   \n",
       "3                                  [minuto, touro, ouro]   \n",
       "4                                     [ricktolledo, sim]   \n",
       "...                                                  ...   \n",
       "12350  [noite, encontros, conhecimento, onde, cliente...   \n",
       "12351  [erros, financeiros, eliminar, antes, 30, anos...   \n",
       "12352  [grato, todo, esforço, rendeu, investimento, r...   \n",
       "12353  [guadakan, chegando, aula, pública, formato, e...   \n",
       "12354  [btgpactual, pq, morning, call, aparecendo, sp...   \n",
       "\n",
       "                                                 stemmed  \n",
       "0      [conf, result, fund, mês, fevereiro22, tod, in...  \n",
       "1      [alvarez, marsal, estar, conosc, sportainmet, ...  \n",
       "2      [repost, btgpactual, with, make_repost, entend...  \n",
       "3                                     [minut, tour, our]  \n",
       "4                                      [ricktolled, sim]  \n",
       "...                                                  ...  \n",
       "12350  [noit, encontr, conhec, onde, client, barreira...  \n",
       "12351  [erros, financeir, elimin, antes, 30, anos, 1,...  \n",
       "12352  [grat, tod, esforc, rend, invest, r, 17000, al...  \n",
       "12353  [guadakan, cheg, aul, públic, format, espetácu...  \n",
       "12354  [btgpactual, pq, morning, call, aparec, spotif...  \n",
       "\n",
       "[12193 rows x 12 columns]"
      ]
     },
     "execution_count": 117,
     "metadata": {},
     "output_type": "execute_result"
    }
   ],
   "source": [
    "data_limpo['stemmed'] = data_limpo['texto_processed'].apply(stemming)\n",
    "data_limpo"
   ]
  },
  {
   "cell_type": "markdown",
   "metadata": {
    "id": "7-0pTgnAqb2j",
    "jp-MarkdownHeadingCollapsed": true,
    "tags": []
   },
   "source": [
    "# 7. Pipeline simples de pré-processamento - **IMPORTANTE**"
   ]
  },
  {
   "cell_type": "markdown",
   "metadata": {
    "id": "YIdlUVX55rGA"
   },
   "source": [
    "Essa seção é extremamente importante, pois nela criamos a função de pipeline com todas as outras funções que criamos anteriormente. Então, ela é feita para que seja possível de rodar somente ela e ter um resultado efetivo!"
   ]
  },
  {
   "cell_type": "code",
   "execution_count": 119,
   "metadata": {
    "id": "S2ZPWyTJjAnj"
   },
   "outputs": [],
   "source": [
    "data = pd.read_csv('/content/drive/MyDrive/Módulo 6/projeto/base_nova_csv.csv')"
   ]
  },
  {
   "cell_type": "code",
   "execution_count": 120,
   "metadata": {
    "id": "42uguheHjBQb"
   },
   "outputs": [],
   "source": [
    "data = data.rename(columns={'\"anomalia\"' : 'anomalia', '\"dataPublicada\"' : 'dataPublicada', '\"autor\"' : 'autor', '\"texto\"' : 'texto', '\"sentimento\"' : 'sentimento', '\"tipoInteracao\"' : 'tipoInteracao', '\"probabilidadeAnomalia\"' : 'probabilidadeAnomalia', '\"linkPost\"' : 'linkPost', '\"processado\"' : 'processado',  '\"contemHyperlink\"' : 'contemHyperlink' })"
   ]
  },
  {
   "cell_type": "code",
   "execution_count": 121,
   "metadata": {
    "id": "fNB4wv6ajNeq"
   },
   "outputs": [],
   "source": [
    "data_dropado = data.drop(['processado', 'id', 'dataPublicada'], axis=1)"
   ]
  },
  {
   "cell_type": "code",
   "execution_count": 122,
   "metadata": {
    "id": "BgHrGnbejcUz"
   },
   "outputs": [],
   "source": [
    "data_limpo = data_dropado.loc[data_dropado['autor'] != 'btgpactual']"
   ]
  },
  {
   "cell_type": "code",
   "execution_count": 123,
   "metadata": {
    "colab": {
     "base_uri": "https://localhost:8080/",
     "height": 606
    },
    "id": "Itb_16phjeJy",
    "outputId": "8c3bcb02-61f9-4a76-bd22-2a3dc5164915"
   },
   "outputs": [
    {
     "data": {
      "text/html": [
       "\n",
       "  <div id=\"df-26a9ebc6-0af6-4e21-8cc3-b3e1c82d8411\">\n",
       "    <div class=\"colab-df-container\">\n",
       "      <div>\n",
       "<style scoped>\n",
       "    .dataframe tbody tr th:only-of-type {\n",
       "        vertical-align: middle;\n",
       "    }\n",
       "\n",
       "    .dataframe tbody tr th {\n",
       "        vertical-align: top;\n",
       "    }\n",
       "\n",
       "    .dataframe thead th {\n",
       "        text-align: right;\n",
       "    }\n",
       "</style>\n",
       "<table border=\"1\" class=\"dataframe\">\n",
       "  <thead>\n",
       "    <tr style=\"text-align: right;\">\n",
       "      <th></th>\n",
       "      <th>autor</th>\n",
       "      <th>texto</th>\n",
       "      <th>sentimento</th>\n",
       "      <th>tipoInteracao</th>\n",
       "      <th>anomalia</th>\n",
       "      <th>probabilidadeAnomalia</th>\n",
       "      <th>linkPost</th>\n",
       "      <th>contemHyperlink</th>\n",
       "    </tr>\n",
       "  </thead>\n",
       "  <tbody>\n",
       "    <tr>\n",
       "      <th>0</th>\n",
       "      <td>v8_capital</td>\n",
       "      <td>Confira os resultados dos nossos fundos no mês...</td>\n",
       "      <td>NEUTRAL</td>\n",
       "      <td>marcação</td>\n",
       "      <td>1</td>\n",
       "      <td>52</td>\n",
       "      <td>https://www.instagram.com/p/CarqO6drRux/</td>\n",
       "      <td>0</td>\n",
       "    </tr>\n",
       "    <tr>\n",
       "      <th>1</th>\n",
       "      <td>winthegame_of</td>\n",
       "      <td>A Alvarez &amp; Marsal estará conosco no Sportainm...</td>\n",
       "      <td>NEUTRAL</td>\n",
       "      <td>marcação</td>\n",
       "      <td>0</td>\n",
       "      <td>43</td>\n",
       "      <td>https://www.instagram.com/p/CarpQUluh7z/</td>\n",
       "      <td>0</td>\n",
       "    </tr>\n",
       "    <tr>\n",
       "      <th>2</th>\n",
       "      <td>marta_bego</td>\n",
       "      <td>#Repost btgpactual with make_repost ・・・ Entend...</td>\n",
       "      <td>NEUTRAL</td>\n",
       "      <td>marcação</td>\n",
       "      <td>0</td>\n",
       "      <td>45</td>\n",
       "      <td>https://www.instagram.com/p/CaroK9Nu8tC/</td>\n",
       "      <td>0</td>\n",
       "    </tr>\n",
       "    <tr>\n",
       "      <th>3</th>\n",
       "      <td>lmviapiana</td>\n",
       "      <td>Minuto touro de ouro</td>\n",
       "      <td>POSITIVE</td>\n",
       "      <td>comentário</td>\n",
       "      <td>0</td>\n",
       "      <td>38</td>\n",
       "      <td>https://www.instagram.com/p/CapXhB5Lvas/#17977...</td>\n",
       "      <td>0</td>\n",
       "    </tr>\n",
       "    <tr>\n",
       "      <th>4</th>\n",
       "      <td>vanilson_dos</td>\n",
       "      <td>@ricktolledo Sim</td>\n",
       "      <td>NEUTRAL</td>\n",
       "      <td>resposta</td>\n",
       "      <td>0</td>\n",
       "      <td>17</td>\n",
       "      <td>https://www.instagram.com/p/CapXhB5Lvas/#17842...</td>\n",
       "      <td>0</td>\n",
       "    </tr>\n",
       "    <tr>\n",
       "      <th>...</th>\n",
       "      <td>...</td>\n",
       "      <td>...</td>\n",
       "      <td>...</td>\n",
       "      <td>...</td>\n",
       "      <td>...</td>\n",
       "      <td>...</td>\n",
       "      <td>...</td>\n",
       "      <td>...</td>\n",
       "    </tr>\n",
       "    <tr>\n",
       "      <th>12350</th>\n",
       "      <td>onixcapital</td>\n",
       "      <td>Uma noite de encontros e muito conhecimento on...</td>\n",
       "      <td>NEUTRAL</td>\n",
       "      <td>marcação</td>\n",
       "      <td>1</td>\n",
       "      <td>54</td>\n",
       "      <td>https://www.instagram.com/reel/CllsqI7goSC/</td>\n",
       "      <td>0</td>\n",
       "    </tr>\n",
       "    <tr>\n",
       "      <th>12351</th>\n",
       "      <td>amgcapitalinvest</td>\n",
       "      <td>Erros financeiros para eliminar antes dos 30 a...</td>\n",
       "      <td>NEUTRAL</td>\n",
       "      <td>marcação</td>\n",
       "      <td>0</td>\n",
       "      <td>39</td>\n",
       "      <td>https://www.instagram.com/p/Cllw0CmNGkX/</td>\n",
       "      <td>0</td>\n",
       "    </tr>\n",
       "    <tr>\n",
       "      <th>12352</th>\n",
       "      <td>jayipacderota</td>\n",
       "      <td>Estou muito grato por todo o esforço que você ...</td>\n",
       "      <td>POSITIVE</td>\n",
       "      <td>comentário</td>\n",
       "      <td>1</td>\n",
       "      <td>52</td>\n",
       "      <td>https://www.instagram.com/p/CllkSBOuKlJ/#17960...</td>\n",
       "      <td>0</td>\n",
       "    </tr>\n",
       "    <tr>\n",
       "      <th>12353</th>\n",
       "      <td>moinho_cultural</td>\n",
       "      <td>\"👉GUADAKAN está chegando!!!!  A aula pública e...</td>\n",
       "      <td>NEUTRAL</td>\n",
       "      <td>marcação</td>\n",
       "      <td>0</td>\n",
       "      <td>43</td>\n",
       "      <td>https://www.instagram.com/reel/ClluX-cAoaf/</td>\n",
       "      <td>0</td>\n",
       "    </tr>\n",
       "    <tr>\n",
       "      <th>12354</th>\n",
       "      <td>bfmarilia</td>\n",
       "      <td>@btgpactual pq o morning call não está mais ap...</td>\n",
       "      <td>NEGATIVE</td>\n",
       "      <td>comentário</td>\n",
       "      <td>0</td>\n",
       "      <td>28</td>\n",
       "      <td>https://www.instagram.com/p/CllkSBOuKlJ/#17975...</td>\n",
       "      <td>0</td>\n",
       "    </tr>\n",
       "  </tbody>\n",
       "</table>\n",
       "<p>12193 rows × 8 columns</p>\n",
       "</div>\n",
       "      <button class=\"colab-df-convert\" onclick=\"convertToInteractive('df-26a9ebc6-0af6-4e21-8cc3-b3e1c82d8411')\"\n",
       "              title=\"Convert this dataframe to an interactive table.\"\n",
       "              style=\"display:none;\">\n",
       "        \n",
       "  <svg xmlns=\"http://www.w3.org/2000/svg\" height=\"24px\"viewBox=\"0 0 24 24\"\n",
       "       width=\"24px\">\n",
       "    <path d=\"M0 0h24v24H0V0z\" fill=\"none\"/>\n",
       "    <path d=\"M18.56 5.44l.94 2.06.94-2.06 2.06-.94-2.06-.94-.94-2.06-.94 2.06-2.06.94zm-11 1L8.5 8.5l.94-2.06 2.06-.94-2.06-.94L8.5 2.5l-.94 2.06-2.06.94zm10 10l.94 2.06.94-2.06 2.06-.94-2.06-.94-.94-2.06-.94 2.06-2.06.94z\"/><path d=\"M17.41 7.96l-1.37-1.37c-.4-.4-.92-.59-1.43-.59-.52 0-1.04.2-1.43.59L10.3 9.45l-7.72 7.72c-.78.78-.78 2.05 0 2.83L4 21.41c.39.39.9.59 1.41.59.51 0 1.02-.2 1.41-.59l7.78-7.78 2.81-2.81c.8-.78.8-2.07 0-2.86zM5.41 20L4 18.59l7.72-7.72 1.47 1.35L5.41 20z\"/>\n",
       "  </svg>\n",
       "      </button>\n",
       "      \n",
       "  <style>\n",
       "    .colab-df-container {\n",
       "      display:flex;\n",
       "      flex-wrap:wrap;\n",
       "      gap: 12px;\n",
       "    }\n",
       "\n",
       "    .colab-df-convert {\n",
       "      background-color: #E8F0FE;\n",
       "      border: none;\n",
       "      border-radius: 50%;\n",
       "      cursor: pointer;\n",
       "      display: none;\n",
       "      fill: #1967D2;\n",
       "      height: 32px;\n",
       "      padding: 0 0 0 0;\n",
       "      width: 32px;\n",
       "    }\n",
       "\n",
       "    .colab-df-convert:hover {\n",
       "      background-color: #E2EBFA;\n",
       "      box-shadow: 0px 1px 2px rgba(60, 64, 67, 0.3), 0px 1px 3px 1px rgba(60, 64, 67, 0.15);\n",
       "      fill: #174EA6;\n",
       "    }\n",
       "\n",
       "    [theme=dark] .colab-df-convert {\n",
       "      background-color: #3B4455;\n",
       "      fill: #D2E3FC;\n",
       "    }\n",
       "\n",
       "    [theme=dark] .colab-df-convert:hover {\n",
       "      background-color: #434B5C;\n",
       "      box-shadow: 0px 1px 3px 1px rgba(0, 0, 0, 0.15);\n",
       "      filter: drop-shadow(0px 1px 2px rgba(0, 0, 0, 0.3));\n",
       "      fill: #FFFFFF;\n",
       "    }\n",
       "  </style>\n",
       "\n",
       "      <script>\n",
       "        const buttonEl =\n",
       "          document.querySelector('#df-26a9ebc6-0af6-4e21-8cc3-b3e1c82d8411 button.colab-df-convert');\n",
       "        buttonEl.style.display =\n",
       "          google.colab.kernel.accessAllowed ? 'block' : 'none';\n",
       "\n",
       "        async function convertToInteractive(key) {\n",
       "          const element = document.querySelector('#df-26a9ebc6-0af6-4e21-8cc3-b3e1c82d8411');\n",
       "          const dataTable =\n",
       "            await google.colab.kernel.invokeFunction('convertToInteractive',\n",
       "                                                     [key], {});\n",
       "          if (!dataTable) return;\n",
       "\n",
       "          const docLinkHtml = 'Like what you see? Visit the ' +\n",
       "            '<a target=\"_blank\" href=https://colab.research.google.com/notebooks/data_table.ipynb>data table notebook</a>'\n",
       "            + ' to learn more about interactive tables.';\n",
       "          element.innerHTML = '';\n",
       "          dataTable['output_type'] = 'display_data';\n",
       "          await google.colab.output.renderOutput(dataTable, element);\n",
       "          const docLink = document.createElement('div');\n",
       "          docLink.innerHTML = docLinkHtml;\n",
       "          element.appendChild(docLink);\n",
       "        }\n",
       "      </script>\n",
       "    </div>\n",
       "  </div>\n",
       "  "
      ],
      "text/plain": [
       "                  autor                                              texto  \\\n",
       "0            v8_capital  Confira os resultados dos nossos fundos no mês...   \n",
       "1         winthegame_of  A Alvarez & Marsal estará conosco no Sportainm...   \n",
       "2            marta_bego  #Repost btgpactual with make_repost ・・・ Entend...   \n",
       "3            lmviapiana                               Minuto touro de ouro   \n",
       "4          vanilson_dos                                   @ricktolledo Sim   \n",
       "...                 ...                                                ...   \n",
       "12350       onixcapital  Uma noite de encontros e muito conhecimento on...   \n",
       "12351  amgcapitalinvest  Erros financeiros para eliminar antes dos 30 a...   \n",
       "12352     jayipacderota  Estou muito grato por todo o esforço que você ...   \n",
       "12353   moinho_cultural  \"👉GUADAKAN está chegando!!!!  A aula pública e...   \n",
       "12354         bfmarilia  @btgpactual pq o morning call não está mais ap...   \n",
       "\n",
       "      sentimento tipoInteracao  anomalia  probabilidadeAnomalia  \\\n",
       "0        NEUTRAL      marcação         1                     52   \n",
       "1        NEUTRAL      marcação         0                     43   \n",
       "2        NEUTRAL      marcação         0                     45   \n",
       "3       POSITIVE    comentário         0                     38   \n",
       "4        NEUTRAL      resposta         0                     17   \n",
       "...          ...           ...       ...                    ...   \n",
       "12350    NEUTRAL      marcação         1                     54   \n",
       "12351    NEUTRAL      marcação         0                     39   \n",
       "12352   POSITIVE    comentário         1                     52   \n",
       "12353    NEUTRAL      marcação         0                     43   \n",
       "12354   NEGATIVE    comentário         0                     28   \n",
       "\n",
       "                                                linkPost  contemHyperlink  \n",
       "0               https://www.instagram.com/p/CarqO6drRux/                0  \n",
       "1               https://www.instagram.com/p/CarpQUluh7z/                0  \n",
       "2               https://www.instagram.com/p/CaroK9Nu8tC/                0  \n",
       "3      https://www.instagram.com/p/CapXhB5Lvas/#17977...                0  \n",
       "4      https://www.instagram.com/p/CapXhB5Lvas/#17842...                0  \n",
       "...                                                  ...              ...  \n",
       "12350        https://www.instagram.com/reel/CllsqI7goSC/                0  \n",
       "12351           https://www.instagram.com/p/Cllw0CmNGkX/                0  \n",
       "12352  https://www.instagram.com/p/CllkSBOuKlJ/#17960...                0  \n",
       "12353        https://www.instagram.com/reel/ClluX-cAoaf/                0  \n",
       "12354  https://www.instagram.com/p/CllkSBOuKlJ/#17975...                0  \n",
       "\n",
       "[12193 rows x 8 columns]"
      ]
     },
     "execution_count": 123,
     "metadata": {},
     "output_type": "execute_result"
    }
   ],
   "source": [
    "data_limpo"
   ]
  },
  {
   "cell_type": "markdown",
   "metadata": {
    "id": "Qel2ZDQTr-8S",
    "jp-MarkdownHeadingCollapsed": true,
    "tags": []
   },
   "source": [
    "## 7.1 Definição de Função"
   ]
  },
  {
   "cell_type": "code",
   "execution_count": 124,
   "metadata": {
    "id": "mNXqQz-t6MKZ"
   },
   "outputs": [],
   "source": [
    "def tokenizer(comment):\n",
    "    if isinstance(comment, str):\n",
    "        tokens = nltk.word_tokenize(comment)\n",
    "        return tokens\n",
    "    else:\n",
    "        return []"
   ]
  },
  {
   "cell_type": "code",
   "execution_count": 125,
   "metadata": {
    "id": "Sqi28yJK6MBh"
   },
   "outputs": [],
   "source": [
    "def remove_stopwords(tokens):\n",
    "    if isinstance(tokens, list): \n",
    "        comments_filtered = []\n",
    "        for token in tokens:\n",
    "          tk = token.lower()\n",
    "          if tk not in stopwords:\n",
    "              comments_filtered.append(tk)\n",
    "        return comments_filtered\n",
    "    else:\n",
    "        return []"
   ]
  },
  {
   "cell_type": "code",
   "execution_count": 126,
   "metadata": {
    "id": "1Kmdu7C-6L3K"
   },
   "outputs": [],
   "source": [
    "def remover_pontuacao(tokens):\n",
    "    tokens_sem_pontuacao = []\n",
    "    for token in tokens:\n",
    "        token_sem_pontuacao = re.sub(r'[^\\w\\s]', '', token)\n",
    "        if token_sem_pontuacao != '':\n",
    "            tokens_sem_pontuacao.append(token_sem_pontuacao)\n",
    "    return tokens_sem_pontuacao"
   ]
  },
  {
   "cell_type": "code",
   "execution_count": 127,
   "metadata": {
    "id": "AaAsUf1J6Lyh"
   },
   "outputs": [],
   "source": [
    "sn_stemmer = SnowballStemmer('portuguese')\n",
    "\n",
    "def stemming(comments_no_accent):\n",
    "    if isinstance(comments_no_accent, list):\n",
    "        stem_list = []\n",
    "        for token in comments_no_accent: \n",
    "            stem_list.append(sn_stemmer.stem(token))\n",
    "        return stem_list\n",
    "    else:\n",
    "        return []"
   ]
  },
  {
   "cell_type": "code",
   "execution_count": 128,
   "metadata": {
    "id": "g_h_ugTgQmAx"
   },
   "outputs": [],
   "source": [
    "def pipeline(comment):\n",
    "      # Tokenization\n",
    "      tokens = tokenizer(comment)\n",
    "      # Removal of stopwords\n",
    "      tokens_filtered = remove_stopwords(tokens)\n",
    "      # Removal of punctuation\n",
    "      tokens_no_punct = remover_pontuacao(tokens_filtered)\n",
    "      # Stemming\n",
    "      stemmed_tokens = stemming(tokens_no_punct)\n",
    "      return stemmed_tokens"
   ]
  },
  {
   "cell_type": "markdown",
   "metadata": {
    "id": "zh0IeO3IsYYE"
   },
   "source": [
    "## 7.2 Testes da Função"
   ]
  },
  {
   "cell_type": "code",
   "execution_count": 129,
   "metadata": {
    "colab": {
     "base_uri": "https://localhost:8080/"
    },
    "id": "914Z-bfajx1k",
    "outputId": "8842b099-7917-4756-aabc-6dae7bc1e70a"
   },
   "outputs": [
    {
     "data": {
      "text/plain": [
       "0        Confira os resultados dos nossos fundos no mês...\n",
       "1        A Alvarez & Marsal estará conosco no Sportainm...\n",
       "2        #Repost btgpactual with make_repost ・・・ Entend...\n",
       "3                                     Minuto touro de ouro\n",
       "4                                         @ricktolledo Sim\n",
       "                               ...                        \n",
       "12350    Uma noite de encontros e muito conhecimento on...\n",
       "12351    Erros financeiros para eliminar antes dos 30 a...\n",
       "12352    Estou muito grato por todo o esforço que você ...\n",
       "12353    \"👉GUADAKAN está chegando!!!!  A aula pública e...\n",
       "12354    @btgpactual pq o morning call não está mais ap...\n",
       "Name: texto, Length: 12193, dtype: object"
      ]
     },
     "execution_count": 129,
     "metadata": {},
     "output_type": "execute_result"
    }
   ],
   "source": [
    "data_limpo['texto']"
   ]
  },
  {
   "cell_type": "markdown",
   "metadata": {
    "id": "7a9vaZb86u3R"
   },
   "source": [
    "- Criação da nova coluna, somente com a função pipeline, que repassa todo o nosso pré-processamento."
   ]
  },
  {
   "cell_type": "code",
   "execution_count": 130,
   "metadata": {
    "colab": {
     "base_uri": "https://localhost:8080/"
    },
    "id": "k1JkauKSiYzT",
    "outputId": "82c42ce5-895e-44bf-c4fe-5c0e0ab421c1"
   },
   "outputs": [
    {
     "name": "stderr",
     "output_type": "stream",
     "text": [
      "<ipython-input-130-ab1ab5f02404>:1: SettingWithCopyWarning: \n",
      "A value is trying to be set on a copy of a slice from a DataFrame.\n",
      "Try using .loc[row_indexer,col_indexer] = value instead\n",
      "\n",
      "See the caveats in the documentation: https://pandas.pydata.org/pandas-docs/stable/user_guide/indexing.html#returning-a-view-versus-a-copy\n",
      "  data_limpo['texto_tratado'] = data_limpo['texto'].apply(pipeline)\n"
     ]
    }
   ],
   "source": [
    "data_limpo['texto_tratado'] = data_limpo['texto'].apply(pipeline)"
   ]
  },
  {
   "cell_type": "code",
   "execution_count": 131,
   "metadata": {
    "colab": {
     "base_uri": "https://localhost:8080/",
     "height": 0
    },
    "id": "c2etSZdckDua",
    "outputId": "ff5eb40f-1af9-4b8b-83a5-a0015617f441"
   },
   "outputs": [
    {
     "data": {
      "text/html": [
       "\n",
       "  <div id=\"df-c01054b5-3dd6-49f0-a7f6-e2f25f4b386b\">\n",
       "    <div class=\"colab-df-container\">\n",
       "      <div>\n",
       "<style scoped>\n",
       "    .dataframe tbody tr th:only-of-type {\n",
       "        vertical-align: middle;\n",
       "    }\n",
       "\n",
       "    .dataframe tbody tr th {\n",
       "        vertical-align: top;\n",
       "    }\n",
       "\n",
       "    .dataframe thead th {\n",
       "        text-align: right;\n",
       "    }\n",
       "</style>\n",
       "<table border=\"1\" class=\"dataframe\">\n",
       "  <thead>\n",
       "    <tr style=\"text-align: right;\">\n",
       "      <th></th>\n",
       "      <th>autor</th>\n",
       "      <th>texto</th>\n",
       "      <th>sentimento</th>\n",
       "      <th>tipoInteracao</th>\n",
       "      <th>anomalia</th>\n",
       "      <th>probabilidadeAnomalia</th>\n",
       "      <th>linkPost</th>\n",
       "      <th>contemHyperlink</th>\n",
       "      <th>texto_tratado</th>\n",
       "    </tr>\n",
       "  </thead>\n",
       "  <tbody>\n",
       "    <tr>\n",
       "      <th>0</th>\n",
       "      <td>v8_capital</td>\n",
       "      <td>Confira os resultados dos nossos fundos no mês...</td>\n",
       "      <td>NEUTRAL</td>\n",
       "      <td>marcação</td>\n",
       "      <td>1</td>\n",
       "      <td>52</td>\n",
       "      <td>https://www.instagram.com/p/CarqO6drRux/</td>\n",
       "      <td>0</td>\n",
       "      <td>[conf, result, fund, mês, fevereiro22, tod, in...</td>\n",
       "    </tr>\n",
       "    <tr>\n",
       "      <th>1</th>\n",
       "      <td>winthegame_of</td>\n",
       "      <td>A Alvarez &amp; Marsal estará conosco no Sportainm...</td>\n",
       "      <td>NEUTRAL</td>\n",
       "      <td>marcação</td>\n",
       "      <td>0</td>\n",
       "      <td>43</td>\n",
       "      <td>https://www.instagram.com/p/CarpQUluh7z/</td>\n",
       "      <td>0</td>\n",
       "      <td>[alvarez, marsal, estar, conosc, sportainmet, ...</td>\n",
       "    </tr>\n",
       "    <tr>\n",
       "      <th>2</th>\n",
       "      <td>marta_bego</td>\n",
       "      <td>#Repost btgpactual with make_repost ・・・ Entend...</td>\n",
       "      <td>NEUTRAL</td>\n",
       "      <td>marcação</td>\n",
       "      <td>0</td>\n",
       "      <td>45</td>\n",
       "      <td>https://www.instagram.com/p/CaroK9Nu8tC/</td>\n",
       "      <td>0</td>\n",
       "      <td>[repost, btgpactual, with, make_repost, entend...</td>\n",
       "    </tr>\n",
       "    <tr>\n",
       "      <th>3</th>\n",
       "      <td>lmviapiana</td>\n",
       "      <td>Minuto touro de ouro</td>\n",
       "      <td>POSITIVE</td>\n",
       "      <td>comentário</td>\n",
       "      <td>0</td>\n",
       "      <td>38</td>\n",
       "      <td>https://www.instagram.com/p/CapXhB5Lvas/#17977...</td>\n",
       "      <td>0</td>\n",
       "      <td>[minut, tour, our]</td>\n",
       "    </tr>\n",
       "    <tr>\n",
       "      <th>4</th>\n",
       "      <td>vanilson_dos</td>\n",
       "      <td>@ricktolledo Sim</td>\n",
       "      <td>NEUTRAL</td>\n",
       "      <td>resposta</td>\n",
       "      <td>0</td>\n",
       "      <td>17</td>\n",
       "      <td>https://www.instagram.com/p/CapXhB5Lvas/#17842...</td>\n",
       "      <td>0</td>\n",
       "      <td>[ricktolled, sim]</td>\n",
       "    </tr>\n",
       "    <tr>\n",
       "      <th>...</th>\n",
       "      <td>...</td>\n",
       "      <td>...</td>\n",
       "      <td>...</td>\n",
       "      <td>...</td>\n",
       "      <td>...</td>\n",
       "      <td>...</td>\n",
       "      <td>...</td>\n",
       "      <td>...</td>\n",
       "      <td>...</td>\n",
       "    </tr>\n",
       "    <tr>\n",
       "      <th>12350</th>\n",
       "      <td>onixcapital</td>\n",
       "      <td>Uma noite de encontros e muito conhecimento on...</td>\n",
       "      <td>NEUTRAL</td>\n",
       "      <td>marcação</td>\n",
       "      <td>1</td>\n",
       "      <td>54</td>\n",
       "      <td>https://www.instagram.com/reel/CllsqI7goSC/</td>\n",
       "      <td>0</td>\n",
       "      <td>[noit, encontr, conhec, onde, client, barreira...</td>\n",
       "    </tr>\n",
       "    <tr>\n",
       "      <th>12351</th>\n",
       "      <td>amgcapitalinvest</td>\n",
       "      <td>Erros financeiros para eliminar antes dos 30 a...</td>\n",
       "      <td>NEUTRAL</td>\n",
       "      <td>marcação</td>\n",
       "      <td>0</td>\n",
       "      <td>39</td>\n",
       "      <td>https://www.instagram.com/p/Cllw0CmNGkX/</td>\n",
       "      <td>0</td>\n",
       "      <td>[erros, financeir, elimin, antes, 30, anos, 1,...</td>\n",
       "    </tr>\n",
       "    <tr>\n",
       "      <th>12352</th>\n",
       "      <td>jayipacderota</td>\n",
       "      <td>Estou muito grato por todo o esforço que você ...</td>\n",
       "      <td>POSITIVE</td>\n",
       "      <td>comentário</td>\n",
       "      <td>1</td>\n",
       "      <td>52</td>\n",
       "      <td>https://www.instagram.com/p/CllkSBOuKlJ/#17960...</td>\n",
       "      <td>0</td>\n",
       "      <td>[grat, tod, esforc, rend, invest, r, 17000, al...</td>\n",
       "    </tr>\n",
       "    <tr>\n",
       "      <th>12353</th>\n",
       "      <td>moinho_cultural</td>\n",
       "      <td>\"👉GUADAKAN está chegando!!!!  A aula pública e...</td>\n",
       "      <td>NEUTRAL</td>\n",
       "      <td>marcação</td>\n",
       "      <td>0</td>\n",
       "      <td>43</td>\n",
       "      <td>https://www.instagram.com/reel/ClluX-cAoaf/</td>\n",
       "      <td>0</td>\n",
       "      <td>[guadakan, cheg, aul, públic, format, espetácu...</td>\n",
       "    </tr>\n",
       "    <tr>\n",
       "      <th>12354</th>\n",
       "      <td>bfmarilia</td>\n",
       "      <td>@btgpactual pq o morning call não está mais ap...</td>\n",
       "      <td>NEGATIVE</td>\n",
       "      <td>comentário</td>\n",
       "      <td>0</td>\n",
       "      <td>28</td>\n",
       "      <td>https://www.instagram.com/p/CllkSBOuKlJ/#17975...</td>\n",
       "      <td>0</td>\n",
       "      <td>[btgpactual, pq, morning, call, aparec, spotif...</td>\n",
       "    </tr>\n",
       "  </tbody>\n",
       "</table>\n",
       "<p>12193 rows × 9 columns</p>\n",
       "</div>\n",
       "      <button class=\"colab-df-convert\" onclick=\"convertToInteractive('df-c01054b5-3dd6-49f0-a7f6-e2f25f4b386b')\"\n",
       "              title=\"Convert this dataframe to an interactive table.\"\n",
       "              style=\"display:none;\">\n",
       "        \n",
       "  <svg xmlns=\"http://www.w3.org/2000/svg\" height=\"24px\"viewBox=\"0 0 24 24\"\n",
       "       width=\"24px\">\n",
       "    <path d=\"M0 0h24v24H0V0z\" fill=\"none\"/>\n",
       "    <path d=\"M18.56 5.44l.94 2.06.94-2.06 2.06-.94-2.06-.94-.94-2.06-.94 2.06-2.06.94zm-11 1L8.5 8.5l.94-2.06 2.06-.94-2.06-.94L8.5 2.5l-.94 2.06-2.06.94zm10 10l.94 2.06.94-2.06 2.06-.94-2.06-.94-.94-2.06-.94 2.06-2.06.94z\"/><path d=\"M17.41 7.96l-1.37-1.37c-.4-.4-.92-.59-1.43-.59-.52 0-1.04.2-1.43.59L10.3 9.45l-7.72 7.72c-.78.78-.78 2.05 0 2.83L4 21.41c.39.39.9.59 1.41.59.51 0 1.02-.2 1.41-.59l7.78-7.78 2.81-2.81c.8-.78.8-2.07 0-2.86zM5.41 20L4 18.59l7.72-7.72 1.47 1.35L5.41 20z\"/>\n",
       "  </svg>\n",
       "      </button>\n",
       "      \n",
       "  <style>\n",
       "    .colab-df-container {\n",
       "      display:flex;\n",
       "      flex-wrap:wrap;\n",
       "      gap: 12px;\n",
       "    }\n",
       "\n",
       "    .colab-df-convert {\n",
       "      background-color: #E8F0FE;\n",
       "      border: none;\n",
       "      border-radius: 50%;\n",
       "      cursor: pointer;\n",
       "      display: none;\n",
       "      fill: #1967D2;\n",
       "      height: 32px;\n",
       "      padding: 0 0 0 0;\n",
       "      width: 32px;\n",
       "    }\n",
       "\n",
       "    .colab-df-convert:hover {\n",
       "      background-color: #E2EBFA;\n",
       "      box-shadow: 0px 1px 2px rgba(60, 64, 67, 0.3), 0px 1px 3px 1px rgba(60, 64, 67, 0.15);\n",
       "      fill: #174EA6;\n",
       "    }\n",
       "\n",
       "    [theme=dark] .colab-df-convert {\n",
       "      background-color: #3B4455;\n",
       "      fill: #D2E3FC;\n",
       "    }\n",
       "\n",
       "    [theme=dark] .colab-df-convert:hover {\n",
       "      background-color: #434B5C;\n",
       "      box-shadow: 0px 1px 3px 1px rgba(0, 0, 0, 0.15);\n",
       "      filter: drop-shadow(0px 1px 2px rgba(0, 0, 0, 0.3));\n",
       "      fill: #FFFFFF;\n",
       "    }\n",
       "  </style>\n",
       "\n",
       "      <script>\n",
       "        const buttonEl =\n",
       "          document.querySelector('#df-c01054b5-3dd6-49f0-a7f6-e2f25f4b386b button.colab-df-convert');\n",
       "        buttonEl.style.display =\n",
       "          google.colab.kernel.accessAllowed ? 'block' : 'none';\n",
       "\n",
       "        async function convertToInteractive(key) {\n",
       "          const element = document.querySelector('#df-c01054b5-3dd6-49f0-a7f6-e2f25f4b386b');\n",
       "          const dataTable =\n",
       "            await google.colab.kernel.invokeFunction('convertToInteractive',\n",
       "                                                     [key], {});\n",
       "          if (!dataTable) return;\n",
       "\n",
       "          const docLinkHtml = 'Like what you see? Visit the ' +\n",
       "            '<a target=\"_blank\" href=https://colab.research.google.com/notebooks/data_table.ipynb>data table notebook</a>'\n",
       "            + ' to learn more about interactive tables.';\n",
       "          element.innerHTML = '';\n",
       "          dataTable['output_type'] = 'display_data';\n",
       "          await google.colab.output.renderOutput(dataTable, element);\n",
       "          const docLink = document.createElement('div');\n",
       "          docLink.innerHTML = docLinkHtml;\n",
       "          element.appendChild(docLink);\n",
       "        }\n",
       "      </script>\n",
       "    </div>\n",
       "  </div>\n",
       "  "
      ],
      "text/plain": [
       "                  autor                                              texto  \\\n",
       "0            v8_capital  Confira os resultados dos nossos fundos no mês...   \n",
       "1         winthegame_of  A Alvarez & Marsal estará conosco no Sportainm...   \n",
       "2            marta_bego  #Repost btgpactual with make_repost ・・・ Entend...   \n",
       "3            lmviapiana                               Minuto touro de ouro   \n",
       "4          vanilson_dos                                   @ricktolledo Sim   \n",
       "...                 ...                                                ...   \n",
       "12350       onixcapital  Uma noite de encontros e muito conhecimento on...   \n",
       "12351  amgcapitalinvest  Erros financeiros para eliminar antes dos 30 a...   \n",
       "12352     jayipacderota  Estou muito grato por todo o esforço que você ...   \n",
       "12353   moinho_cultural  \"👉GUADAKAN está chegando!!!!  A aula pública e...   \n",
       "12354         bfmarilia  @btgpactual pq o morning call não está mais ap...   \n",
       "\n",
       "      sentimento tipoInteracao  anomalia  probabilidadeAnomalia  \\\n",
       "0        NEUTRAL      marcação         1                     52   \n",
       "1        NEUTRAL      marcação         0                     43   \n",
       "2        NEUTRAL      marcação         0                     45   \n",
       "3       POSITIVE    comentário         0                     38   \n",
       "4        NEUTRAL      resposta         0                     17   \n",
       "...          ...           ...       ...                    ...   \n",
       "12350    NEUTRAL      marcação         1                     54   \n",
       "12351    NEUTRAL      marcação         0                     39   \n",
       "12352   POSITIVE    comentário         1                     52   \n",
       "12353    NEUTRAL      marcação         0                     43   \n",
       "12354   NEGATIVE    comentário         0                     28   \n",
       "\n",
       "                                                linkPost  contemHyperlink  \\\n",
       "0               https://www.instagram.com/p/CarqO6drRux/                0   \n",
       "1               https://www.instagram.com/p/CarpQUluh7z/                0   \n",
       "2               https://www.instagram.com/p/CaroK9Nu8tC/                0   \n",
       "3      https://www.instagram.com/p/CapXhB5Lvas/#17977...                0   \n",
       "4      https://www.instagram.com/p/CapXhB5Lvas/#17842...                0   \n",
       "...                                                  ...              ...   \n",
       "12350        https://www.instagram.com/reel/CllsqI7goSC/                0   \n",
       "12351           https://www.instagram.com/p/Cllw0CmNGkX/                0   \n",
       "12352  https://www.instagram.com/p/CllkSBOuKlJ/#17960...                0   \n",
       "12353        https://www.instagram.com/reel/ClluX-cAoaf/                0   \n",
       "12354  https://www.instagram.com/p/CllkSBOuKlJ/#17975...                0   \n",
       "\n",
       "                                           texto_tratado  \n",
       "0      [conf, result, fund, mês, fevereiro22, tod, in...  \n",
       "1      [alvarez, marsal, estar, conosc, sportainmet, ...  \n",
       "2      [repost, btgpactual, with, make_repost, entend...  \n",
       "3                                     [minut, tour, our]  \n",
       "4                                      [ricktolled, sim]  \n",
       "...                                                  ...  \n",
       "12350  [noit, encontr, conhec, onde, client, barreira...  \n",
       "12351  [erros, financeir, elimin, antes, 30, anos, 1,...  \n",
       "12352  [grat, tod, esforc, rend, invest, r, 17000, al...  \n",
       "12353  [guadakan, cheg, aul, públic, format, espetácu...  \n",
       "12354  [btgpactual, pq, morning, call, aparec, spotif...  \n",
       "\n",
       "[12193 rows x 9 columns]"
      ]
     },
     "execution_count": 131,
     "metadata": {},
     "output_type": "execute_result"
    }
   ],
   "source": [
    "data_limpo"
   ]
  },
  {
   "cell_type": "markdown",
   "metadata": {
    "id": "-pVO34UW66ip"
   },
   "source": [
    "---"
   ]
  },
  {
   "cell_type": "code",
   "execution_count": 132,
   "metadata": {
    "colab": {
     "base_uri": "https://localhost:8080/"
    },
    "id": "_xCt6MkbQovq",
    "outputId": "5e969e8b-57d6-447f-d5b7-c20145288655"
   },
   "outputs": [
    {
     "name": "stdout",
     "output_type": "stream",
     "text": [
      "['faz', 'projet', 'pro', 'btg']\n"
     ]
    }
   ],
   "source": [
    "comment = \"Estamos fazendo um projeto pro BTG!\"\n",
    "preprocessed_comment = pipeline(comment)\n",
    "print(preprocessed_comment)"
   ]
  },
  {
   "cell_type": "markdown",
   "metadata": {
    "id": "9RzScORk7hJ4"
   },
   "source": [
    "- Caso queira fazer o teste de como está o pré-processamento, digite uma frase!\n",
    "- Descomente a célula de código abaixo para testar!\n",
    "  - Selecione todo o conteúdo com seu cursor e clique 'CTRL + ; ' (ctrl + botão de ponto e vírgula)"
   ]
  },
  {
   "cell_type": "code",
   "execution_count": 133,
   "metadata": {
    "id": "kokkYKY_7EDh"
   },
   "outputs": [],
   "source": [
    "# comment = input(\"Digite uma frase da sua escolha e visualize o tratamento: \")\n",
    "# preprocessed_comment = pipeline(comment)\n",
    "# print(preprocessed_comment)"
   ]
  },
  {
   "cell_type": "markdown",
   "metadata": {
    "id": "_dFfxcKevnMP",
    "jp-MarkdownHeadingCollapsed": true,
    "tags": []
   },
   "source": [
    "# 8. Bag of Words (BoW)"
   ]
  },
  {
   "cell_type": "markdown",
   "metadata": {
    "id": "OF26utwj8qNY"
   },
   "source": [
    "O modelo Bag of Words (BoW) é uma técnica utilizada em processamento de linguagem natural para representar um texto como um conjunto de palavras desordenadas, ignorando a ordem e a estrutura gramatical das frases. \n",
    "\n",
    "Nesse modelo, cada palavra única do texto é transformada em uma \"feature\" (característica), e a frequência de cada palavra no texto é usada como um valor numérico para a feature correspondente.\n",
    "\n",
    "Por exemplo, a frase \"O gato preto pulou o muro\" seria representada como um conjunto de palavras desordenadas: `'o', 'gato', 'preto', 'pulou', 'o', 'muro'`. A frequência de cada palavra seria contada, e o resultado seria um vetor numérico que representa a frequência de cada palavra na frase.\n"
   ]
  },
  {
   "cell_type": "code",
   "execution_count": 134,
   "metadata": {
    "colab": {
     "base_uri": "https://localhost:8080/"
    },
    "id": "5wN384IQ1G9t",
    "outputId": "8b3e1314-d038-4f94-b446-65abf363a571"
   },
   "outputs": [
    {
     "name": "stdout",
     "output_type": "stream",
     "text": [
      "['alunos', 'btg', 'de', 'do', 'estamos', 'fazendo', 'hayashi', 'informação', 'inteli', 'nosso', 'orientador', 'pro', 'professor', 'programação', 'projeto', 'renato', 'sistemas', 'somos', 'um']\n",
      "(4, 19)\n",
      "[[0 1 0 0 1 1 0 0 0 0 0 1 0 0 1 0 0 0 1]\n",
      " [1 0 2 1 0 0 0 1 1 0 0 0 0 0 0 0 1 1 0]\n",
      " [0 0 0 0 0 0 0 0 0 1 1 0 0 0 0 1 0 0 0]\n",
      " [0 0 1 0 0 0 1 0 0 1 0 0 1 1 0 0 0 0 0]]\n"
     ]
    }
   ],
   "source": [
    "# Multiple documents\n",
    "text = [\"Estamos fazendo um projeto pro BTG!\", \"Somos alunos de Sistemas de Informação do Inteli\", \"O Renato é o nosso orientador\", \"O Hayashi é o nosso professor de programação\"] \n",
    "\n",
    "# create the transform\n",
    "vectorizer = CountVectorizer()\n",
    "\n",
    "# tokenize and build vocab\n",
    "vectorizer.fit(text)\n",
    "\n",
    "# summarize\n",
    "print(sorted(vectorizer.vocabulary_))\n",
    "\n",
    "# encode document\n",
    "vector = vectorizer.transform(text)\n",
    "\n",
    "# summarize encoded vector\n",
    "print(vector.shape)\n",
    "print(vector.toarray())"
   ]
  },
  {
   "cell_type": "markdown",
   "metadata": {
    "id": "90htO88z9v55"
   },
   "source": [
    "**AVISO**:\n",
    "O modelo Bag of Words é uma técnica simples e eficiente para representar textos em formato vetorial, o que permite utilizá-los em algoritmos de aprendizado de máquina. \n",
    "\n",
    "No entanto, essa abordagem ignora informações importantes sobre a estrutura e o significado das frases, como a ordem das palavras e as relações sintáticas entre elas. Por isso, é comum utilizar técnicas mais avançadas, como a modelagem de tópicos (topic modeling) e as redes neurais, para lidar com textos mais complexos.\n",
    "\n",
    "Porém, para vieses acadêmicos, estamos implementando e aprendendo como é o funcionamento desse processo."
   ]
  },
  {
   "cell_type": "markdown",
   "metadata": {
    "id": "6u80ctpIY3Pe"
   },
   "source": [
    "## 8.1 Definição da Função\n"
   ]
  },
  {
   "cell_type": "code",
   "execution_count": 135,
   "metadata": {
    "colab": {
     "base_uri": "https://localhost:8080/"
    },
    "id": "-eY6TwQpA0Hy",
    "outputId": "fe44f930-1aec-417f-bbdf-d2024f52a532"
   },
   "outputs": [
    {
     "data": {
      "text/plain": [
       "0        [conf, result, fund, mês, fevereiro22, tod, in...\n",
       "1        [alvarez, marsal, estar, conosc, sportainmet, ...\n",
       "2        [repost, btgpactual, with, make_repost, entend...\n",
       "3                                       [minut, tour, our]\n",
       "4                                        [ricktolled, sim]\n",
       "                               ...                        \n",
       "12350    [noit, encontr, conhec, onde, client, barreira...\n",
       "12351    [erros, financeir, elimin, antes, 30, anos, 1,...\n",
       "12352    [grat, tod, esforc, rend, invest, r, 17000, al...\n",
       "12353    [guadakan, cheg, aul, públic, format, espetácu...\n",
       "12354    [btgpactual, pq, morning, call, aparec, spotif...\n",
       "Name: texto_tratado, Length: 12193, dtype: object"
      ]
     },
     "execution_count": 135,
     "metadata": {},
     "output_type": "execute_result"
    }
   ],
   "source": [
    "data_limpo['texto_tratado'] # chamando somente a coluna do dataframe, que ja foi tratada"
   ]
  },
  {
   "cell_type": "code",
   "execution_count": 136,
   "metadata": {
    "id": "rVXnuYPvwZXn"
   },
   "outputs": [],
   "source": [
    "textos = data_limpo['texto_tratado']"
   ]
  },
  {
   "cell_type": "code",
   "execution_count": 137,
   "metadata": {
    "id": "Qm1UFUY3_OE4"
   },
   "outputs": [],
   "source": [
    "# Criando a função de vetorização, a qual irá criar um DataFrame com todos os termos e suas contabilizações em cada comentário (representados pelo index)\n",
    "def bow(comentarios): \n",
    "     # Inicializa o CountVectorizer\n",
    "    vectorizer = CountVectorizer(analyzer=lambda x: x)\n",
    "    # Cria o modelo Bag of Words\n",
    "    bow_model = vectorizer.fit_transform(comentarios)\n",
    "    # Cria um dataframe com as palavras e suas frequências\n",
    "    bow_df = pd.DataFrame(bow_model.toarray(), columns=vectorizer.get_feature_names_out())\n",
    "    return bow_df"
   ]
  },
  {
   "cell_type": "markdown",
   "metadata": {
    "id": "PRLMFsRwB8hA"
   },
   "source": [
    "---"
   ]
  },
  {
   "cell_type": "markdown",
   "metadata": {
    "id": "rEAJ7xaCtQUN"
   },
   "source": [
    "## 8.2 Testes das funções\n"
   ]
  },
  {
   "cell_type": "markdown",
   "metadata": {
    "id": "ZRAdqeRM-ms5"
   },
   "source": [
    "Como é possível visualizar, temos uma tabela com todos os termos que foram considerados chaves para a análise."
   ]
  },
  {
   "cell_type": "code",
   "execution_count": 138,
   "metadata": {
    "colab": {
     "base_uri": "https://localhost:8080/",
     "height": 0
    },
    "id": "ChVrgXNl_4Lw",
    "outputId": "2ab2ab9f-e939-4a04-c7a8-d52665899bcb"
   },
   "outputs": [
    {
     "data": {
      "text/html": [
       "\n",
       "  <div id=\"df-2cc8efdc-e05d-4b81-bff1-4a44fd4ba507\">\n",
       "    <div class=\"colab-df-container\">\n",
       "      <div>\n",
       "<style scoped>\n",
       "    .dataframe tbody tr th:only-of-type {\n",
       "        vertical-align: middle;\n",
       "    }\n",
       "\n",
       "    .dataframe tbody tr th {\n",
       "        vertical-align: top;\n",
       "    }\n",
       "\n",
       "    .dataframe thead th {\n",
       "        text-align: right;\n",
       "    }\n",
       "</style>\n",
       "<table border=\"1\" class=\"dataframe\">\n",
       "  <thead>\n",
       "    <tr style=\"text-align: right;\">\n",
       "      <th></th>\n",
       "      <th>0</th>\n",
       "      <th>000</th>\n",
       "      <th>00000</th>\n",
       "      <th>0000000</th>\n",
       "      <th>0001</th>\n",
       "      <th>001</th>\n",
       "      <th>002</th>\n",
       "      <th>004</th>\n",
       "      <th>005</th>\n",
       "      <th>0050</th>\n",
       "      <th>...</th>\n",
       "      <th>𝚝𝚞𝚍𝚘</th>\n",
       "      <th>𝚞𝚖𝚊</th>\n",
       "      <th>𝚟𝚊𝚒</th>\n",
       "      <th>𝚟𝚊𝚕𝚘𝚛𝚎𝚜</th>\n",
       "      <th>𝚟𝚊𝚛𝚒𝚊𝚜</th>\n",
       "      <th>𝚟𝚘𝚕𝚊𝚝𝚒𝚕𝚒𝚍𝚊𝚍𝚎</th>\n",
       "      <th>𝟭𝟮𝟬</th>\n",
       "      <th>𝟮</th>\n",
       "      <th>𝟮𝟬</th>\n",
       "      <th>𝟯𝟬</th>\n",
       "    </tr>\n",
       "  </thead>\n",
       "  <tbody>\n",
       "    <tr>\n",
       "      <th>0</th>\n",
       "      <td>0</td>\n",
       "      <td>0</td>\n",
       "      <td>0</td>\n",
       "      <td>0</td>\n",
       "      <td>0</td>\n",
       "      <td>0</td>\n",
       "      <td>0</td>\n",
       "      <td>0</td>\n",
       "      <td>0</td>\n",
       "      <td>0</td>\n",
       "      <td>...</td>\n",
       "      <td>0</td>\n",
       "      <td>0</td>\n",
       "      <td>0</td>\n",
       "      <td>0</td>\n",
       "      <td>0</td>\n",
       "      <td>0</td>\n",
       "      <td>0</td>\n",
       "      <td>0</td>\n",
       "      <td>0</td>\n",
       "      <td>0</td>\n",
       "    </tr>\n",
       "    <tr>\n",
       "      <th>1</th>\n",
       "      <td>0</td>\n",
       "      <td>0</td>\n",
       "      <td>0</td>\n",
       "      <td>0</td>\n",
       "      <td>0</td>\n",
       "      <td>0</td>\n",
       "      <td>0</td>\n",
       "      <td>0</td>\n",
       "      <td>0</td>\n",
       "      <td>0</td>\n",
       "      <td>...</td>\n",
       "      <td>0</td>\n",
       "      <td>0</td>\n",
       "      <td>0</td>\n",
       "      <td>0</td>\n",
       "      <td>0</td>\n",
       "      <td>0</td>\n",
       "      <td>0</td>\n",
       "      <td>0</td>\n",
       "      <td>0</td>\n",
       "      <td>0</td>\n",
       "    </tr>\n",
       "    <tr>\n",
       "      <th>2</th>\n",
       "      <td>0</td>\n",
       "      <td>0</td>\n",
       "      <td>0</td>\n",
       "      <td>0</td>\n",
       "      <td>0</td>\n",
       "      <td>0</td>\n",
       "      <td>0</td>\n",
       "      <td>0</td>\n",
       "      <td>0</td>\n",
       "      <td>0</td>\n",
       "      <td>...</td>\n",
       "      <td>0</td>\n",
       "      <td>0</td>\n",
       "      <td>0</td>\n",
       "      <td>0</td>\n",
       "      <td>0</td>\n",
       "      <td>0</td>\n",
       "      <td>0</td>\n",
       "      <td>0</td>\n",
       "      <td>0</td>\n",
       "      <td>0</td>\n",
       "    </tr>\n",
       "    <tr>\n",
       "      <th>3</th>\n",
       "      <td>0</td>\n",
       "      <td>0</td>\n",
       "      <td>0</td>\n",
       "      <td>0</td>\n",
       "      <td>0</td>\n",
       "      <td>0</td>\n",
       "      <td>0</td>\n",
       "      <td>0</td>\n",
       "      <td>0</td>\n",
       "      <td>0</td>\n",
       "      <td>...</td>\n",
       "      <td>0</td>\n",
       "      <td>0</td>\n",
       "      <td>0</td>\n",
       "      <td>0</td>\n",
       "      <td>0</td>\n",
       "      <td>0</td>\n",
       "      <td>0</td>\n",
       "      <td>0</td>\n",
       "      <td>0</td>\n",
       "      <td>0</td>\n",
       "    </tr>\n",
       "    <tr>\n",
       "      <th>4</th>\n",
       "      <td>0</td>\n",
       "      <td>0</td>\n",
       "      <td>0</td>\n",
       "      <td>0</td>\n",
       "      <td>0</td>\n",
       "      <td>0</td>\n",
       "      <td>0</td>\n",
       "      <td>0</td>\n",
       "      <td>0</td>\n",
       "      <td>0</td>\n",
       "      <td>...</td>\n",
       "      <td>0</td>\n",
       "      <td>0</td>\n",
       "      <td>0</td>\n",
       "      <td>0</td>\n",
       "      <td>0</td>\n",
       "      <td>0</td>\n",
       "      <td>0</td>\n",
       "      <td>0</td>\n",
       "      <td>0</td>\n",
       "      <td>0</td>\n",
       "    </tr>\n",
       "    <tr>\n",
       "      <th>...</th>\n",
       "      <td>...</td>\n",
       "      <td>...</td>\n",
       "      <td>...</td>\n",
       "      <td>...</td>\n",
       "      <td>...</td>\n",
       "      <td>...</td>\n",
       "      <td>...</td>\n",
       "      <td>...</td>\n",
       "      <td>...</td>\n",
       "      <td>...</td>\n",
       "      <td>...</td>\n",
       "      <td>...</td>\n",
       "      <td>...</td>\n",
       "      <td>...</td>\n",
       "      <td>...</td>\n",
       "      <td>...</td>\n",
       "      <td>...</td>\n",
       "      <td>...</td>\n",
       "      <td>...</td>\n",
       "      <td>...</td>\n",
       "      <td>...</td>\n",
       "    </tr>\n",
       "    <tr>\n",
       "      <th>12188</th>\n",
       "      <td>0</td>\n",
       "      <td>0</td>\n",
       "      <td>0</td>\n",
       "      <td>0</td>\n",
       "      <td>0</td>\n",
       "      <td>0</td>\n",
       "      <td>0</td>\n",
       "      <td>0</td>\n",
       "      <td>0</td>\n",
       "      <td>0</td>\n",
       "      <td>...</td>\n",
       "      <td>0</td>\n",
       "      <td>0</td>\n",
       "      <td>0</td>\n",
       "      <td>0</td>\n",
       "      <td>0</td>\n",
       "      <td>0</td>\n",
       "      <td>0</td>\n",
       "      <td>0</td>\n",
       "      <td>0</td>\n",
       "      <td>0</td>\n",
       "    </tr>\n",
       "    <tr>\n",
       "      <th>12189</th>\n",
       "      <td>0</td>\n",
       "      <td>0</td>\n",
       "      <td>0</td>\n",
       "      <td>0</td>\n",
       "      <td>0</td>\n",
       "      <td>0</td>\n",
       "      <td>0</td>\n",
       "      <td>0</td>\n",
       "      <td>0</td>\n",
       "      <td>0</td>\n",
       "      <td>...</td>\n",
       "      <td>0</td>\n",
       "      <td>0</td>\n",
       "      <td>0</td>\n",
       "      <td>0</td>\n",
       "      <td>0</td>\n",
       "      <td>0</td>\n",
       "      <td>0</td>\n",
       "      <td>0</td>\n",
       "      <td>0</td>\n",
       "      <td>0</td>\n",
       "    </tr>\n",
       "    <tr>\n",
       "      <th>12190</th>\n",
       "      <td>0</td>\n",
       "      <td>0</td>\n",
       "      <td>0</td>\n",
       "      <td>0</td>\n",
       "      <td>0</td>\n",
       "      <td>0</td>\n",
       "      <td>0</td>\n",
       "      <td>0</td>\n",
       "      <td>0</td>\n",
       "      <td>0</td>\n",
       "      <td>...</td>\n",
       "      <td>0</td>\n",
       "      <td>0</td>\n",
       "      <td>0</td>\n",
       "      <td>0</td>\n",
       "      <td>0</td>\n",
       "      <td>0</td>\n",
       "      <td>0</td>\n",
       "      <td>0</td>\n",
       "      <td>0</td>\n",
       "      <td>0</td>\n",
       "    </tr>\n",
       "    <tr>\n",
       "      <th>12191</th>\n",
       "      <td>0</td>\n",
       "      <td>0</td>\n",
       "      <td>0</td>\n",
       "      <td>0</td>\n",
       "      <td>0</td>\n",
       "      <td>0</td>\n",
       "      <td>0</td>\n",
       "      <td>0</td>\n",
       "      <td>0</td>\n",
       "      <td>0</td>\n",
       "      <td>...</td>\n",
       "      <td>0</td>\n",
       "      <td>0</td>\n",
       "      <td>0</td>\n",
       "      <td>0</td>\n",
       "      <td>0</td>\n",
       "      <td>0</td>\n",
       "      <td>0</td>\n",
       "      <td>0</td>\n",
       "      <td>0</td>\n",
       "      <td>0</td>\n",
       "    </tr>\n",
       "    <tr>\n",
       "      <th>12192</th>\n",
       "      <td>0</td>\n",
       "      <td>0</td>\n",
       "      <td>0</td>\n",
       "      <td>0</td>\n",
       "      <td>0</td>\n",
       "      <td>0</td>\n",
       "      <td>0</td>\n",
       "      <td>0</td>\n",
       "      <td>0</td>\n",
       "      <td>0</td>\n",
       "      <td>...</td>\n",
       "      <td>0</td>\n",
       "      <td>0</td>\n",
       "      <td>0</td>\n",
       "      <td>0</td>\n",
       "      <td>0</td>\n",
       "      <td>0</td>\n",
       "      <td>0</td>\n",
       "      <td>0</td>\n",
       "      <td>0</td>\n",
       "      <td>0</td>\n",
       "    </tr>\n",
       "  </tbody>\n",
       "</table>\n",
       "<p>12193 rows × 24331 columns</p>\n",
       "</div>\n",
       "      <button class=\"colab-df-convert\" onclick=\"convertToInteractive('df-2cc8efdc-e05d-4b81-bff1-4a44fd4ba507')\"\n",
       "              title=\"Convert this dataframe to an interactive table.\"\n",
       "              style=\"display:none;\">\n",
       "        \n",
       "  <svg xmlns=\"http://www.w3.org/2000/svg\" height=\"24px\"viewBox=\"0 0 24 24\"\n",
       "       width=\"24px\">\n",
       "    <path d=\"M0 0h24v24H0V0z\" fill=\"none\"/>\n",
       "    <path d=\"M18.56 5.44l.94 2.06.94-2.06 2.06-.94-2.06-.94-.94-2.06-.94 2.06-2.06.94zm-11 1L8.5 8.5l.94-2.06 2.06-.94-2.06-.94L8.5 2.5l-.94 2.06-2.06.94zm10 10l.94 2.06.94-2.06 2.06-.94-2.06-.94-.94-2.06-.94 2.06-2.06.94z\"/><path d=\"M17.41 7.96l-1.37-1.37c-.4-.4-.92-.59-1.43-.59-.52 0-1.04.2-1.43.59L10.3 9.45l-7.72 7.72c-.78.78-.78 2.05 0 2.83L4 21.41c.39.39.9.59 1.41.59.51 0 1.02-.2 1.41-.59l7.78-7.78 2.81-2.81c.8-.78.8-2.07 0-2.86zM5.41 20L4 18.59l7.72-7.72 1.47 1.35L5.41 20z\"/>\n",
       "  </svg>\n",
       "      </button>\n",
       "      \n",
       "  <style>\n",
       "    .colab-df-container {\n",
       "      display:flex;\n",
       "      flex-wrap:wrap;\n",
       "      gap: 12px;\n",
       "    }\n",
       "\n",
       "    .colab-df-convert {\n",
       "      background-color: #E8F0FE;\n",
       "      border: none;\n",
       "      border-radius: 50%;\n",
       "      cursor: pointer;\n",
       "      display: none;\n",
       "      fill: #1967D2;\n",
       "      height: 32px;\n",
       "      padding: 0 0 0 0;\n",
       "      width: 32px;\n",
       "    }\n",
       "\n",
       "    .colab-df-convert:hover {\n",
       "      background-color: #E2EBFA;\n",
       "      box-shadow: 0px 1px 2px rgba(60, 64, 67, 0.3), 0px 1px 3px 1px rgba(60, 64, 67, 0.15);\n",
       "      fill: #174EA6;\n",
       "    }\n",
       "\n",
       "    [theme=dark] .colab-df-convert {\n",
       "      background-color: #3B4455;\n",
       "      fill: #D2E3FC;\n",
       "    }\n",
       "\n",
       "    [theme=dark] .colab-df-convert:hover {\n",
       "      background-color: #434B5C;\n",
       "      box-shadow: 0px 1px 3px 1px rgba(0, 0, 0, 0.15);\n",
       "      filter: drop-shadow(0px 1px 2px rgba(0, 0, 0, 0.3));\n",
       "      fill: #FFFFFF;\n",
       "    }\n",
       "  </style>\n",
       "\n",
       "      <script>\n",
       "        const buttonEl =\n",
       "          document.querySelector('#df-2cc8efdc-e05d-4b81-bff1-4a44fd4ba507 button.colab-df-convert');\n",
       "        buttonEl.style.display =\n",
       "          google.colab.kernel.accessAllowed ? 'block' : 'none';\n",
       "\n",
       "        async function convertToInteractive(key) {\n",
       "          const element = document.querySelector('#df-2cc8efdc-e05d-4b81-bff1-4a44fd4ba507');\n",
       "          const dataTable =\n",
       "            await google.colab.kernel.invokeFunction('convertToInteractive',\n",
       "                                                     [key], {});\n",
       "          if (!dataTable) return;\n",
       "\n",
       "          const docLinkHtml = 'Like what you see? Visit the ' +\n",
       "            '<a target=\"_blank\" href=https://colab.research.google.com/notebooks/data_table.ipynb>data table notebook</a>'\n",
       "            + ' to learn more about interactive tables.';\n",
       "          element.innerHTML = '';\n",
       "          dataTable['output_type'] = 'display_data';\n",
       "          await google.colab.output.renderOutput(dataTable, element);\n",
       "          const docLink = document.createElement('div');\n",
       "          docLink.innerHTML = docLinkHtml;\n",
       "          element.appendChild(docLink);\n",
       "        }\n",
       "      </script>\n",
       "    </div>\n",
       "  </div>\n",
       "  "
      ],
      "text/plain": [
       "       0  000  00000  0000000  0001  001  002  004  005  0050  ...  𝚝𝚞𝚍𝚘  𝚞𝚖𝚊  \\\n",
       "0      0    0      0        0     0    0    0    0    0     0  ...     0    0   \n",
       "1      0    0      0        0     0    0    0    0    0     0  ...     0    0   \n",
       "2      0    0      0        0     0    0    0    0    0     0  ...     0    0   \n",
       "3      0    0      0        0     0    0    0    0    0     0  ...     0    0   \n",
       "4      0    0      0        0     0    0    0    0    0     0  ...     0    0   \n",
       "...   ..  ...    ...      ...   ...  ...  ...  ...  ...   ...  ...   ...  ...   \n",
       "12188  0    0      0        0     0    0    0    0    0     0  ...     0    0   \n",
       "12189  0    0      0        0     0    0    0    0    0     0  ...     0    0   \n",
       "12190  0    0      0        0     0    0    0    0    0     0  ...     0    0   \n",
       "12191  0    0      0        0     0    0    0    0    0     0  ...     0    0   \n",
       "12192  0    0      0        0     0    0    0    0    0     0  ...     0    0   \n",
       "\n",
       "       𝚟𝚊𝚒  𝚟𝚊𝚕𝚘𝚛𝚎𝚜  𝚟𝚊𝚛𝚒𝚊𝚜  𝚟𝚘𝚕𝚊𝚝𝚒𝚕𝚒𝚍𝚊𝚍𝚎  𝟭𝟮𝟬  𝟮  𝟮𝟬  𝟯𝟬  \n",
       "0        0        0       0             0    0  0   0   0  \n",
       "1        0        0       0             0    0  0   0   0  \n",
       "2        0        0       0             0    0  0   0   0  \n",
       "3        0        0       0             0    0  0   0   0  \n",
       "4        0        0       0             0    0  0   0   0  \n",
       "...    ...      ...     ...           ...  ... ..  ..  ..  \n",
       "12188    0        0       0             0    0  0   0   0  \n",
       "12189    0        0       0             0    0  0   0   0  \n",
       "12190    0        0       0             0    0  0   0   0  \n",
       "12191    0        0       0             0    0  0   0   0  \n",
       "12192    0        0       0             0    0  0   0   0  \n",
       "\n",
       "[12193 rows x 24331 columns]"
      ]
     },
     "execution_count": 138,
     "metadata": {},
     "output_type": "execute_result"
    }
   ],
   "source": [
    "df = bow(textos)\n",
    "df"
   ]
  },
  {
   "cell_type": "markdown",
   "metadata": {
    "id": "_o1hkW-H_3lg"
   },
   "source": [
    "- Mostrando a primeira palavra, do primeiro comentário, e como ela se repete uma vez e duas vezes em cada um dos outros comentários"
   ]
  },
  {
   "cell_type": "code",
   "execution_count": 139,
   "metadata": {
    "colab": {
     "base_uri": "https://localhost:8080/"
    },
    "id": "HkoJcivl_juI",
    "outputId": "051aab76-fe03-4593-faeb-c546483155fb"
   },
   "outputs": [
    {
     "data": {
      "text/plain": [
       "0    11795\n",
       "1      396\n",
       "2        2\n",
       "Name: conf, dtype: int64"
      ]
     },
     "execution_count": 139,
     "metadata": {},
     "output_type": "execute_result"
    }
   ],
   "source": [
    "df['conf'].value_counts()"
   ]
  },
  {
   "cell_type": "code",
   "execution_count": 140,
   "metadata": {
    "colab": {
     "base_uri": "https://localhost:8080/",
     "height": 0
    },
    "id": "wJzJt-87BciA",
    "outputId": "b623cf18-1420-481e-c173-59c9267c0466"
   },
   "outputs": [
    {
     "data": {
      "text/html": [
       "\n",
       "  <div id=\"df-6c5895a4-963d-4043-b0d2-f888f31275b9\">\n",
       "    <div class=\"colab-df-container\">\n",
       "      <div>\n",
       "<style scoped>\n",
       "    .dataframe tbody tr th:only-of-type {\n",
       "        vertical-align: middle;\n",
       "    }\n",
       "\n",
       "    .dataframe tbody tr th {\n",
       "        vertical-align: top;\n",
       "    }\n",
       "\n",
       "    .dataframe thead th {\n",
       "        text-align: right;\n",
       "    }\n",
       "</style>\n",
       "<table border=\"1\" class=\"dataframe\">\n",
       "  <thead>\n",
       "    <tr style=\"text-align: right;\">\n",
       "      <th></th>\n",
       "      <th>0</th>\n",
       "      <th>000</th>\n",
       "      <th>00000</th>\n",
       "      <th>0000000</th>\n",
       "      <th>0001</th>\n",
       "      <th>001</th>\n",
       "      <th>002</th>\n",
       "      <th>004</th>\n",
       "      <th>005</th>\n",
       "      <th>0050</th>\n",
       "      <th>...</th>\n",
       "      <th>𝚝𝚞𝚍𝚘</th>\n",
       "      <th>𝚞𝚖𝚊</th>\n",
       "      <th>𝚟𝚊𝚒</th>\n",
       "      <th>𝚟𝚊𝚕𝚘𝚛𝚎𝚜</th>\n",
       "      <th>𝚟𝚊𝚛𝚒𝚊𝚜</th>\n",
       "      <th>𝚟𝚘𝚕𝚊𝚝𝚒𝚕𝚒𝚍𝚊𝚍𝚎</th>\n",
       "      <th>𝟭𝟮𝟬</th>\n",
       "      <th>𝟮</th>\n",
       "      <th>𝟮𝟬</th>\n",
       "      <th>𝟯𝟬</th>\n",
       "    </tr>\n",
       "  </thead>\n",
       "  <tbody>\n",
       "    <tr>\n",
       "      <th>8540</th>\n",
       "      <td>0</td>\n",
       "      <td>0</td>\n",
       "      <td>0</td>\n",
       "      <td>0</td>\n",
       "      <td>0</td>\n",
       "      <td>0</td>\n",
       "      <td>0</td>\n",
       "      <td>0</td>\n",
       "      <td>0</td>\n",
       "      <td>0</td>\n",
       "      <td>...</td>\n",
       "      <td>0</td>\n",
       "      <td>0</td>\n",
       "      <td>0</td>\n",
       "      <td>0</td>\n",
       "      <td>0</td>\n",
       "      <td>0</td>\n",
       "      <td>0</td>\n",
       "      <td>0</td>\n",
       "      <td>0</td>\n",
       "      <td>0</td>\n",
       "    </tr>\n",
       "    <tr>\n",
       "      <th>9967</th>\n",
       "      <td>0</td>\n",
       "      <td>0</td>\n",
       "      <td>0</td>\n",
       "      <td>0</td>\n",
       "      <td>0</td>\n",
       "      <td>0</td>\n",
       "      <td>0</td>\n",
       "      <td>0</td>\n",
       "      <td>0</td>\n",
       "      <td>0</td>\n",
       "      <td>...</td>\n",
       "      <td>0</td>\n",
       "      <td>0</td>\n",
       "      <td>0</td>\n",
       "      <td>0</td>\n",
       "      <td>0</td>\n",
       "      <td>0</td>\n",
       "      <td>0</td>\n",
       "      <td>0</td>\n",
       "      <td>0</td>\n",
       "      <td>0</td>\n",
       "    </tr>\n",
       "  </tbody>\n",
       "</table>\n",
       "<p>2 rows × 24331 columns</p>\n",
       "</div>\n",
       "      <button class=\"colab-df-convert\" onclick=\"convertToInteractive('df-6c5895a4-963d-4043-b0d2-f888f31275b9')\"\n",
       "              title=\"Convert this dataframe to an interactive table.\"\n",
       "              style=\"display:none;\">\n",
       "        \n",
       "  <svg xmlns=\"http://www.w3.org/2000/svg\" height=\"24px\"viewBox=\"0 0 24 24\"\n",
       "       width=\"24px\">\n",
       "    <path d=\"M0 0h24v24H0V0z\" fill=\"none\"/>\n",
       "    <path d=\"M18.56 5.44l.94 2.06.94-2.06 2.06-.94-2.06-.94-.94-2.06-.94 2.06-2.06.94zm-11 1L8.5 8.5l.94-2.06 2.06-.94-2.06-.94L8.5 2.5l-.94 2.06-2.06.94zm10 10l.94 2.06.94-2.06 2.06-.94-2.06-.94-.94-2.06-.94 2.06-2.06.94z\"/><path d=\"M17.41 7.96l-1.37-1.37c-.4-.4-.92-.59-1.43-.59-.52 0-1.04.2-1.43.59L10.3 9.45l-7.72 7.72c-.78.78-.78 2.05 0 2.83L4 21.41c.39.39.9.59 1.41.59.51 0 1.02-.2 1.41-.59l7.78-7.78 2.81-2.81c.8-.78.8-2.07 0-2.86zM5.41 20L4 18.59l7.72-7.72 1.47 1.35L5.41 20z\"/>\n",
       "  </svg>\n",
       "      </button>\n",
       "      \n",
       "  <style>\n",
       "    .colab-df-container {\n",
       "      display:flex;\n",
       "      flex-wrap:wrap;\n",
       "      gap: 12px;\n",
       "    }\n",
       "\n",
       "    .colab-df-convert {\n",
       "      background-color: #E8F0FE;\n",
       "      border: none;\n",
       "      border-radius: 50%;\n",
       "      cursor: pointer;\n",
       "      display: none;\n",
       "      fill: #1967D2;\n",
       "      height: 32px;\n",
       "      padding: 0 0 0 0;\n",
       "      width: 32px;\n",
       "    }\n",
       "\n",
       "    .colab-df-convert:hover {\n",
       "      background-color: #E2EBFA;\n",
       "      box-shadow: 0px 1px 2px rgba(60, 64, 67, 0.3), 0px 1px 3px 1px rgba(60, 64, 67, 0.15);\n",
       "      fill: #174EA6;\n",
       "    }\n",
       "\n",
       "    [theme=dark] .colab-df-convert {\n",
       "      background-color: #3B4455;\n",
       "      fill: #D2E3FC;\n",
       "    }\n",
       "\n",
       "    [theme=dark] .colab-df-convert:hover {\n",
       "      background-color: #434B5C;\n",
       "      box-shadow: 0px 1px 3px 1px rgba(0, 0, 0, 0.15);\n",
       "      filter: drop-shadow(0px 1px 2px rgba(0, 0, 0, 0.3));\n",
       "      fill: #FFFFFF;\n",
       "    }\n",
       "  </style>\n",
       "\n",
       "      <script>\n",
       "        const buttonEl =\n",
       "          document.querySelector('#df-6c5895a4-963d-4043-b0d2-f888f31275b9 button.colab-df-convert');\n",
       "        buttonEl.style.display =\n",
       "          google.colab.kernel.accessAllowed ? 'block' : 'none';\n",
       "\n",
       "        async function convertToInteractive(key) {\n",
       "          const element = document.querySelector('#df-6c5895a4-963d-4043-b0d2-f888f31275b9');\n",
       "          const dataTable =\n",
       "            await google.colab.kernel.invokeFunction('convertToInteractive',\n",
       "                                                     [key], {});\n",
       "          if (!dataTable) return;\n",
       "\n",
       "          const docLinkHtml = 'Like what you see? Visit the ' +\n",
       "            '<a target=\"_blank\" href=https://colab.research.google.com/notebooks/data_table.ipynb>data table notebook</a>'\n",
       "            + ' to learn more about interactive tables.';\n",
       "          element.innerHTML = '';\n",
       "          dataTable['output_type'] = 'display_data';\n",
       "          await google.colab.output.renderOutput(dataTable, element);\n",
       "          const docLink = document.createElement('div');\n",
       "          docLink.innerHTML = docLinkHtml;\n",
       "          element.appendChild(docLink);\n",
       "        }\n",
       "      </script>\n",
       "    </div>\n",
       "  </div>\n",
       "  "
      ],
      "text/plain": [
       "      0  000  00000  0000000  0001  001  002  004  005  0050  ...  𝚝𝚞𝚍𝚘  𝚞𝚖𝚊  \\\n",
       "8540  0    0      0        0     0    0    0    0    0     0  ...     0    0   \n",
       "9967  0    0      0        0     0    0    0    0    0     0  ...     0    0   \n",
       "\n",
       "      𝚟𝚊𝚒  𝚟𝚊𝚕𝚘𝚛𝚎𝚜  𝚟𝚊𝚛𝚒𝚊𝚜  𝚟𝚘𝚕𝚊𝚝𝚒𝚕𝚒𝚍𝚊𝚍𝚎  𝟭𝟮𝟬  𝟮  𝟮𝟬  𝟯𝟬  \n",
       "8540    0        0       0             0    0  0   0   0  \n",
       "9967    0        0       0             0    0  0   0   0  \n",
       "\n",
       "[2 rows x 24331 columns]"
      ]
     },
     "execution_count": 140,
     "metadata": {},
     "output_type": "execute_result"
    }
   ],
   "source": [
    "df[df['conf'] == 2]"
   ]
  },
  {
   "cell_type": "code",
   "execution_count": 141,
   "metadata": {
    "id": "spCM4fRIae4z"
   },
   "outputs": [],
   "source": [
    "word_counts = df.sum()\n",
    "top_words = word_counts.sort_values(ascending=False)\n",
    "top_10 = top_words.head(10)"
   ]
  },
  {
   "cell_type": "code",
   "execution_count": 142,
   "metadata": {
    "colab": {
     "base_uri": "https://localhost:8080/"
    },
    "id": "lkt5xqnEatPb",
    "outputId": "c89db830-f850-4ba2-ba77-7b2e14f0852a"
   },
   "outputs": [
    {
     "data": {
      "text/plain": [
       "btgpactual    6489\n",
       "invest        4014\n",
       "btg           2822\n",
       "tod           1783\n",
       "banc          1771\n",
       "sobr          1364\n",
       "melhor        1363\n",
       "cont          1332\n",
       "merc          1305\n",
       "financeir     1303\n",
       "dtype: int64"
      ]
     },
     "execution_count": 142,
     "metadata": {},
     "output_type": "execute_result"
    }
   ],
   "source": [
    "top_10"
   ]
  },
  {
   "cell_type": "code",
   "execution_count": 143,
   "metadata": {
    "colab": {
     "base_uri": "https://localhost:8080/",
     "height": 0
    },
    "id": "IKpvb_x8cV7c",
    "outputId": "dbd4c14a-1c5b-46fb-a2fb-2d32f09bad81"
   },
   "outputs": [
    {
     "data": {
      "image/png": "[encoded data removed]",
      "text/plain": [
       "<Figure size 800x800 with 1 Axes>"
      ]
     },
     "metadata": {},
     "output_type": "display_data"
    }
   ],
   "source": [
    "palavras = list(top_words.index)\n",
    "wordcloud = WordCloud(width=800, height=800, background_color='white').generate(' '.join(palavras))\n",
    "plt.figure(figsize=(8,8), facecolor=None)\n",
    "plt.imshow(wordcloud)\n",
    "plt.axis(\"off\")\n",
    "plt.tight_layout(pad=0)\n",
    "plt.show()"
   ]
  },
  {
   "cell_type": "markdown",
   "metadata": {
    "id": "bnhSCLypktYQ",
    "jp-MarkdownHeadingCollapsed": true,
    "tags": []
   },
   "source": [
    "# 9. Plotagem de Gráficos"
   ]
  },
  {
   "cell_type": "markdown",
   "metadata": {
    "id": "Dw8_ucI6kydI"
   },
   "source": [
    "## Autores que mais comentam"
   ]
  },
  {
   "cell_type": "code",
   "execution_count": 144,
   "metadata": {
    "colab": {
     "base_uri": "https://localhost:8080/",
     "height": 0
    },
    "id": "Q7ZU9AEJkx8a",
    "outputId": "dad7072d-c582-4d8a-9f7c-e2a9de847cca"
   },
   "outputs": [
    {
     "data": {
      "image/png": "[encoded data removed]",
      "text/plain": [
       "<Figure size 1000x600 with 1 Axes>"
      ]
     },
     "metadata": {},
     "output_type": "display_data"
    }
   ],
   "source": [
    "# Contagem de palavras\n",
    "autor_counts = data_limpo['autor'].explode().value_counts()\n",
    "\n",
    "# Plotagem do gráfico de barras\n",
    "plt.figure(figsize=(10, 6))\n",
    "autor_counts.head(20).plot(kind='bar')\n",
    "plt.xlabel('Autores')\n",
    "plt.ylabel('Contagem')\n",
    "plt.title('Autores que mais comentam')\n",
    "plt.show()"
   ]
  },
  {
   "cell_type": "markdown",
   "metadata": {
    "id": "FzwrIBrbk3t1"
   },
   "source": [
    "## Palavras mais frequentes"
   ]
  },
  {
   "cell_type": "code",
   "execution_count": 145,
   "metadata": {
    "colab": {
     "base_uri": "https://localhost:8080/",
     "height": 0
    },
    "id": "QJb0xMr_k8af",
    "outputId": "019cd831-6105-4da2-bc50-98b3a3711245"
   },
   "outputs": [
    {
     "data": {
      "image/png": "[encoded data removed]",
      "text/plain": [
       "<Figure size 1000x600 with 1 Axes>"
      ]
     },
     "metadata": {},
     "output_type": "display_data"
    }
   ],
   "source": [
    "# Contagem de palavras\n",
    "word_counts = data_limpo['texto_tratado'].explode().value_counts()\n",
    "\n",
    "# Plotagem do gráfico de barras\n",
    "plt.figure(figsize=(10, 6))\n",
    "word_counts.head(20).plot(kind='bar')\n",
    "plt.xlabel('Palavra')\n",
    "plt.ylabel('Contagem')\n",
    "plt.title('Top 20 Palavras Mais Frequentes')\n",
    "plt.show()"
   ]
  },
  {
   "cell_type": "markdown",
   "metadata": {
    "id": "jOmQi_8lk8q-"
   },
   "source": [
    "## Tipo de interação"
   ]
  },
  {
   "cell_type": "code",
   "execution_count": 146,
   "metadata": {
    "colab": {
     "base_uri": "https://localhost:8080/",
     "height": 0
    },
    "id": "9JBxC-5jk_ww",
    "outputId": "aa7e1cb6-aff1-4ca9-d30f-68a715d21a9c"
   },
   "outputs": [
    {
     "data": {
      "image/png": "[encoded data removed]",
      "text/plain": [
       "<Figure size 800x600 with 1 Axes>"
      ]
     },
     "metadata": {},
     "output_type": "display_data"
    }
   ],
   "source": [
    "# Contar os tipos de interação\n",
    "count_interactions = data_limpo['tipoInteracao'].value_counts()\n",
    "# Criar o gráfico de pizza\n",
    "plt.figure(figsize=(8, 6))\n",
    "count_interactions.plot(kind='pie', autopct='%1.1f%%')\n",
    "plt.title('Tipos de Interação')\n",
    "plt.ylabel('')\n",
    "plt.show()"
   ]
  },
  {
   "cell_type": "markdown",
   "metadata": {
    "id": "1qDoN4Bzk_1E"
   },
   "source": [
    "## Classificação de sentimentos"
   ]
  },
  {
   "cell_type": "code",
   "execution_count": 147,
   "metadata": {
    "colab": {
     "base_uri": "https://localhost:8080/",
     "height": 0
    },
    "id": "YCxBzR6dlEts",
    "outputId": "60fe9817-2af3-4b2c-c28c-45ce8a9ac2e7"
   },
   "outputs": [
    {
     "data": {
      "image/png": "[encoded data removed]",
      "text/plain": [
       "<Figure size 800x600 with 1 Axes>"
      ]
     },
     "metadata": {},
     "output_type": "display_data"
    }
   ],
   "source": [
    "# Contar os tipos de sentimentos\n",
    "count_sentimentos = data_limpo['sentimento'].value_counts()\n",
    "# Criar o gráfico de pizza\n",
    "plt.figure(figsize=(8, 6))\n",
    "count_sentimentos.plot(kind='pie', autopct='%1.1f%%')\n",
    "plt.title('Tipos de Sentimento')\n",
    "plt.ylabel('')\n",
    "plt.show()"
   ]
  },
  {
   "cell_type": "code",
   "execution_count": 148,
   "metadata": {
    "colab": {
     "base_uri": "https://localhost:8080/",
     "height": 0
    },
    "id": "ARmSmzc8UvlE",
    "outputId": "b3d819dd-034f-4aec-c491-7aad1d84f5ec"
   },
   "outputs": [
    {
     "data": {
      "image/png": "[encoded data removed]",
      "text/plain": [
       "<Figure size 1000x600 with 1 Axes>"
      ]
     },
     "metadata": {},
     "output_type": "display_data"
    }
   ],
   "source": [
    "# Contar os tipos de sentimentos\n",
    "count_sentimentos = data_limpo['sentimento'].value_counts()\n",
    "\n",
    "# Plotagem do gráfico de barras\n",
    "plt.figure(figsize=(10, 6))\n",
    "count_sentimentos.plot(kind='bar')\n",
    "plt.xlabel('Sentimentos')\n",
    "plt.ylabel('Contagem')\n",
    "plt.title('Tipos de Sentimento')\n",
    "plt.show()"
   ]
  },
  {
   "cell_type": "markdown",
   "metadata": {
    "id": "JzmfItc3Bh5y"
   },
   "source": [
    "# **Desenvolvido por todos os integrantes do grupo**\n",
    "- Daniel Barzilai\n",
    "- Larissa Carvalho\n",
    "- Maria Luisa Maia\n",
    "- Pedro Rezende\n",
    "- Rafael Moritz\n",
    "- Vitor Oliveira\n"
   ]
  }
 ],
 "metadata": {
  "colab": {
   "provenance": []
  },
  "kernelspec": {
   "display_name": "Python 3 (ipykernel)",
   "language": "python",
   "name": "python3"
  },
  "language_info": {
   "codemirror_mode": {
    "name": "ipython",
    "version": 3
   },
   "file_extension": ".py",
   "mimetype": "text/x-python",
   "name": "python",
   "nbconvert_exporter": "python",
   "pygments_lexer": "ipython3",
   "version": "3.11.0"
  }
 },
 "nbformat": 4,
 "nbformat_minor": 4
}
