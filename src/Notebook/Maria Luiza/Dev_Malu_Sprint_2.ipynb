{
  "nbformat": 4,
  "nbformat_minor": 0,
  "metadata": {
    "colab": {
      "provenance": [],
      "toc_visible": true
    },
    "kernelspec": {
      "name": "python3",
      "display_name": "Python 3"
    },
    "language_info": {
      "name": "python"
    }
  },
  "cells": [
    {
      "cell_type": "markdown",
      "source": [
        "Esse notebook foi feito para fins acadêmicos, então eu retirei insights e funções dos colabs feitos pelo Hayashi, além disso ele foi feito no Google Colab."
      ],
      "metadata": {
        "id": "5MK0fSKdhbQ1"
      }
    },
    {
      "cell_type": "markdown",
      "source": [
        "# Instalação das bibliotecas"
      ],
      "metadata": {
        "id": "Py6uuNDcg41a"
      }
    },
    {
      "cell_type": "markdown",
      "source": [
        "Abaixo foram rodadas todas as bibliotecas utilizadas nesse Colab\n"
      ],
      "metadata": {
        "id": "UTxmJsBFg_VJ"
      }
    },
    {
      "cell_type": "code",
      "execution_count": null,
      "metadata": {
        "colab": {
          "base_uri": "https://localhost:8080/"
        },
        "id": "HlPdyNm-G8X7",
        "outputId": "cf279b8a-7ee9-4d68-b534-4cd2ba22e499"
      },
      "outputs": [
        {
          "output_type": "stream",
          "name": "stdout",
          "text": [
            "Drive already mounted at /content/drive; to attempt to forcibly remount, call drive.mount(\"/content/drive\", force_remount=True).\n"
          ]
        },
        {
          "output_type": "stream",
          "name": "stderr",
          "text": [
            "[nltk_data] Downloading package punkt to /root/nltk_data...\n",
            "[nltk_data]   Package punkt is already up-to-date!\n",
            "[nltk_data] Downloading package rslp to /root/nltk_data...\n",
            "[nltk_data]   Package rslp is already up-to-date!\n"
          ]
        },
        {
          "output_type": "execute_result",
          "data": {
            "text/plain": [
              "True"
            ]
          },
          "metadata": {},
          "execution_count": 1
        }
      ],
      "source": [
        "import pandas as pd #utilizada para o banco de dados\n",
        "import nltk # usada para o pre processamento de PLN\n",
        "from nltk.corpus import stopwords \n",
        "from nltk import tokenize\n",
        "from nltk.tokenize import RegexpTokenizer\n",
        "from nltk import word_tokenize\n",
        "from nltk.stem import SnowballStemmer\n",
        "import matplotlib.pyplot as plt #usada para gráficos\n",
        "from google.colab import drive #conectar com o drive\n",
        "drive.mount('/content/drive')\n",
        "import re\n",
        "\n",
        "\n",
        "\n",
        "nltk.download('punkt')\n",
        "\n",
        "from nltk.stem import PorterStemmer\n",
        "\n",
        "stemmer = PorterStemmer()\n",
        "nltk.download('rslp')"
      ]
    },
    {
      "cell_type": "markdown",
      "source": [
        "# Tratamento de dados"
      ],
      "metadata": {
        "id": "j1oCELgOhsnS"
      }
    },
    {
      "cell_type": "markdown",
      "source": [
        "No tratamento de dados foram retiradas algumas colunas que achei que não faria sentido para o modelo e eliminei os comentários feitos pelo BTG"
      ],
      "metadata": {
        "id": "yq7CUbgRhvca"
      }
    },
    {
      "cell_type": "code",
      "source": [
        "dados = pd.read_csv('/content/drive/MyDrive/Módulo 6/1.Base Inicial - Sheet1.csv')"
      ],
      "metadata": {
        "id": "uTGPxuW5G_6l"
      },
      "execution_count": null,
      "outputs": []
    },
    {
      "cell_type": "code",
      "source": [
        "dados"
      ],
      "metadata": {
        "colab": {
          "base_uri": "https://localhost:8080/",
          "height": 713
        },
        "id": "tVdE0R0zHVE4",
        "outputId": "dd22cd73-dd33-4dff-dfbc-1e87cc5e3723"
      },
      "execution_count": null,
      "outputs": [
        {
          "output_type": "execute_result",
          "data": {
            "text/plain": [
              "      Column1       id           autor  \\\n",
              "0           0        1      btgpactual   \n",
              "1           1        2      btgpactual   \n",
              "2           2        3      btgpactual   \n",
              "3           3        4      btgpactual   \n",
              "4           4        5      btgpactual   \n",
              "...       ...      ...             ...   \n",
              "4544     4544  3028308   caioaugustofr   \n",
              "4545     4545  3028501      btgpactual   \n",
              "4546     4546  3028580      btgpactual   \n",
              "4547     4547  3029097  je_mascarenhas   \n",
              "4548     4548  3029149       linequer_   \n",
              "\n",
              "                                                  texto    shortCode  \\\n",
              "0     Olá, Ana Paula! Como vai?\\n\\nSentimos muito pe...  CkG9KXjpY2B   \n",
              "1     Olá, Rosana! Tudo bem?\\n\\nPara te orientarmos ...  CkG9KXjpY2B   \n",
              "2                          @luizantoniojovinodossan 🚀 💙  CkG9KXjpY2B   \n",
              "3     @ronialencar Boa tarde! Tudo bem?\\n\\nLamentamo...  CkG9KXjpY2B   \n",
              "4     Oi, Nelson! Tudo bem?\\n\\nPossuímos soluções co...  CkG9KXjpY2B   \n",
              "...                                                 ...          ...   \n",
              "4544  Estão contratando muitos blogueiros, mas eu fi...  Cn4bcg7LM4t   \n",
              "4545                                          @xubs._ 💙  Cn4bcg7LM4t   \n",
              "4546                      Agradecemos o seu feedback! 💙  CnzSr6ltH74   \n",
              "4547                         Arrasa Micaaa 💙✨🙏🏼👏🏼👏🏼👏🏼👏🏼  Cn4bcg7LM4t   \n",
              "4548                                      Excelência! 👏  CnzSr6ltH74   \n",
              "\n",
              "     tipoInteracao tipoMidia        idInteracao              idPai  \\\n",
              "0            reply     REELS  17949834317264462  17988010663613927   \n",
              "1            reply     REELS  17968362370910874  17955765434145877   \n",
              "2            reply     REELS  17968676113804345  17868806699792839   \n",
              "3            reply     REELS  18045922528372377  18327741553009776   \n",
              "4            reply     REELS  17864851241797946  18159475801266342   \n",
              "...            ...       ...                ...                ...   \n",
              "4544       comment     REELS  17965800242039792                  -   \n",
              "4545         reply     REELS  18340331500020596  18014457793513467   \n",
              "4546         reply     REELS  18004216693521888  17957000375356996   \n",
              "4547       comment     REELS  17969884580114389                  -   \n",
              "4548       comment     REELS  17992357330670534                  -   \n",
              "\n",
              "                                                    URL        dataPublicada  \\\n",
              "0     https://www.instagram.com/p/CkG9KXjpY2B/c/1798...  2022-10-25 15:35:24   \n",
              "1     https://www.instagram.com/p/CkG9KXjpY2B/c/1795...  2022-10-25 12:08:06   \n",
              "2     https://www.instagram.com/p/CkG9KXjpY2B/c/1786...  2022-10-25 08:16:15   \n",
              "3     https://www.instagram.com/p/CkG9KXjpY2B/c/1832...  2022-10-25 09:39:32   \n",
              "4     https://www.instagram.com/p/CkG9KXjpY2B/c/1815...  2022-10-25 09:38:38   \n",
              "...                                                 ...                  ...   \n",
              "4544  https://www.instagram.com/p/Cn4bcg7LM4t/c/1796...  2023-01-26 18:41:35   \n",
              "4545  https://www.instagram.com/p/Cn4bcg7LM4t/c/1801...  2023-01-26 18:44:27   \n",
              "4546  https://www.instagram.com/p/CnzSr6ltH74/c/1795...  2023-01-26 18:45:13   \n",
              "4547  https://www.instagram.com/p/Cn4bcg7LM4t/c/1796...  2023-01-26 19:26:41   \n",
              "4548  https://www.instagram.com/p/CnzSr6ltH74/c/1799...  2023-01-26 19:28:33   \n",
              "\n",
              "             dataInsercao  anomalia  probabilidadeAnomalia  processado  \\\n",
              "0     2022-10-25 21:52:54      -1.0                    0.0         0.0   \n",
              "1     2022-10-25 21:52:54      -1.0                    0.0         0.0   \n",
              "2     2022-10-25 21:52:54      -1.0                    0.0         0.0   \n",
              "3     2022-10-25 21:52:55      -1.0                    0.0         0.0   \n",
              "4     2022-10-25 21:52:55      -1.0                    0.0         0.0   \n",
              "...                   ...       ...                    ...         ...   \n",
              "4544  2023-01-26 19:01:29      -1.0                    0.0         0.0   \n",
              "4545  2023-01-26 19:02:16      -1.0                    0.0         0.0   \n",
              "4546  2023-01-26 19:02:35      -1.0                    0.0         0.0   \n",
              "4547  2023-01-26 19:31:45      -1.0                    0.0         0.0   \n",
              "4548  2023-01-26 19:31:58      -1.0                    0.0         0.0   \n",
              "\n",
              "      contemHyperlink  \n",
              "0                -1.0  \n",
              "1                -1.0  \n",
              "2                -1.0  \n",
              "3                -1.0  \n",
              "4                -1.0  \n",
              "...               ...  \n",
              "4544             -1.0  \n",
              "4545             -1.0  \n",
              "4546             -1.0  \n",
              "4547             -1.0  \n",
              "4548             -1.0  \n",
              "\n",
              "[4549 rows x 16 columns]"
            ],
            "text/html": [
              "\n",
              "  <div id=\"df-ec357758-970e-426a-95e9-ad19c0f7fe32\">\n",
              "    <div class=\"colab-df-container\">\n",
              "      <div>\n",
              "<style scoped>\n",
              "    .dataframe tbody tr th:only-of-type {\n",
              "        vertical-align: middle;\n",
              "    }\n",
              "\n",
              "    .dataframe tbody tr th {\n",
              "        vertical-align: top;\n",
              "    }\n",
              "\n",
              "    .dataframe thead th {\n",
              "        text-align: right;\n",
              "    }\n",
              "</style>\n",
              "<table border=\"1\" class=\"dataframe\">\n",
              "  <thead>\n",
              "    <tr style=\"text-align: right;\">\n",
              "      <th></th>\n",
              "      <th>Column1</th>\n",
              "      <th>id</th>\n",
              "      <th>autor</th>\n",
              "      <th>texto</th>\n",
              "      <th>shortCode</th>\n",
              "      <th>tipoInteracao</th>\n",
              "      <th>tipoMidia</th>\n",
              "      <th>idInteracao</th>\n",
              "      <th>idPai</th>\n",
              "      <th>URL</th>\n",
              "      <th>dataPublicada</th>\n",
              "      <th>dataInsercao</th>\n",
              "      <th>anomalia</th>\n",
              "      <th>probabilidadeAnomalia</th>\n",
              "      <th>processado</th>\n",
              "      <th>contemHyperlink</th>\n",
              "    </tr>\n",
              "  </thead>\n",
              "  <tbody>\n",
              "    <tr>\n",
              "      <th>0</th>\n",
              "      <td>0</td>\n",
              "      <td>1</td>\n",
              "      <td>btgpactual</td>\n",
              "      <td>Olá, Ana Paula! Como vai?\\n\\nSentimos muito pe...</td>\n",
              "      <td>CkG9KXjpY2B</td>\n",
              "      <td>reply</td>\n",
              "      <td>REELS</td>\n",
              "      <td>17949834317264462</td>\n",
              "      <td>17988010663613927</td>\n",
              "      <td>https://www.instagram.com/p/CkG9KXjpY2B/c/1798...</td>\n",
              "      <td>2022-10-25 15:35:24</td>\n",
              "      <td>2022-10-25 21:52:54</td>\n",
              "      <td>-1.0</td>\n",
              "      <td>0.0</td>\n",
              "      <td>0.0</td>\n",
              "      <td>-1.0</td>\n",
              "    </tr>\n",
              "    <tr>\n",
              "      <th>1</th>\n",
              "      <td>1</td>\n",
              "      <td>2</td>\n",
              "      <td>btgpactual</td>\n",
              "      <td>Olá, Rosana! Tudo bem?\\n\\nPara te orientarmos ...</td>\n",
              "      <td>CkG9KXjpY2B</td>\n",
              "      <td>reply</td>\n",
              "      <td>REELS</td>\n",
              "      <td>17968362370910874</td>\n",
              "      <td>17955765434145877</td>\n",
              "      <td>https://www.instagram.com/p/CkG9KXjpY2B/c/1795...</td>\n",
              "      <td>2022-10-25 12:08:06</td>\n",
              "      <td>2022-10-25 21:52:54</td>\n",
              "      <td>-1.0</td>\n",
              "      <td>0.0</td>\n",
              "      <td>0.0</td>\n",
              "      <td>-1.0</td>\n",
              "    </tr>\n",
              "    <tr>\n",
              "      <th>2</th>\n",
              "      <td>2</td>\n",
              "      <td>3</td>\n",
              "      <td>btgpactual</td>\n",
              "      <td>@luizantoniojovinodossan 🚀 💙</td>\n",
              "      <td>CkG9KXjpY2B</td>\n",
              "      <td>reply</td>\n",
              "      <td>REELS</td>\n",
              "      <td>17968676113804345</td>\n",
              "      <td>17868806699792839</td>\n",
              "      <td>https://www.instagram.com/p/CkG9KXjpY2B/c/1786...</td>\n",
              "      <td>2022-10-25 08:16:15</td>\n",
              "      <td>2022-10-25 21:52:54</td>\n",
              "      <td>-1.0</td>\n",
              "      <td>0.0</td>\n",
              "      <td>0.0</td>\n",
              "      <td>-1.0</td>\n",
              "    </tr>\n",
              "    <tr>\n",
              "      <th>3</th>\n",
              "      <td>3</td>\n",
              "      <td>4</td>\n",
              "      <td>btgpactual</td>\n",
              "      <td>@ronialencar Boa tarde! Tudo bem?\\n\\nLamentamo...</td>\n",
              "      <td>CkG9KXjpY2B</td>\n",
              "      <td>reply</td>\n",
              "      <td>REELS</td>\n",
              "      <td>18045922528372377</td>\n",
              "      <td>18327741553009776</td>\n",
              "      <td>https://www.instagram.com/p/CkG9KXjpY2B/c/1832...</td>\n",
              "      <td>2022-10-25 09:39:32</td>\n",
              "      <td>2022-10-25 21:52:55</td>\n",
              "      <td>-1.0</td>\n",
              "      <td>0.0</td>\n",
              "      <td>0.0</td>\n",
              "      <td>-1.0</td>\n",
              "    </tr>\n",
              "    <tr>\n",
              "      <th>4</th>\n",
              "      <td>4</td>\n",
              "      <td>5</td>\n",
              "      <td>btgpactual</td>\n",
              "      <td>Oi, Nelson! Tudo bem?\\n\\nPossuímos soluções co...</td>\n",
              "      <td>CkG9KXjpY2B</td>\n",
              "      <td>reply</td>\n",
              "      <td>REELS</td>\n",
              "      <td>17864851241797946</td>\n",
              "      <td>18159475801266342</td>\n",
              "      <td>https://www.instagram.com/p/CkG9KXjpY2B/c/1815...</td>\n",
              "      <td>2022-10-25 09:38:38</td>\n",
              "      <td>2022-10-25 21:52:55</td>\n",
              "      <td>-1.0</td>\n",
              "      <td>0.0</td>\n",
              "      <td>0.0</td>\n",
              "      <td>-1.0</td>\n",
              "    </tr>\n",
              "    <tr>\n",
              "      <th>...</th>\n",
              "      <td>...</td>\n",
              "      <td>...</td>\n",
              "      <td>...</td>\n",
              "      <td>...</td>\n",
              "      <td>...</td>\n",
              "      <td>...</td>\n",
              "      <td>...</td>\n",
              "      <td>...</td>\n",
              "      <td>...</td>\n",
              "      <td>...</td>\n",
              "      <td>...</td>\n",
              "      <td>...</td>\n",
              "      <td>...</td>\n",
              "      <td>...</td>\n",
              "      <td>...</td>\n",
              "      <td>...</td>\n",
              "    </tr>\n",
              "    <tr>\n",
              "      <th>4544</th>\n",
              "      <td>4544</td>\n",
              "      <td>3028308</td>\n",
              "      <td>caioaugustofr</td>\n",
              "      <td>Estão contratando muitos blogueiros, mas eu fi...</td>\n",
              "      <td>Cn4bcg7LM4t</td>\n",
              "      <td>comment</td>\n",
              "      <td>REELS</td>\n",
              "      <td>17965800242039792</td>\n",
              "      <td>-</td>\n",
              "      <td>https://www.instagram.com/p/Cn4bcg7LM4t/c/1796...</td>\n",
              "      <td>2023-01-26 18:41:35</td>\n",
              "      <td>2023-01-26 19:01:29</td>\n",
              "      <td>-1.0</td>\n",
              "      <td>0.0</td>\n",
              "      <td>0.0</td>\n",
              "      <td>-1.0</td>\n",
              "    </tr>\n",
              "    <tr>\n",
              "      <th>4545</th>\n",
              "      <td>4545</td>\n",
              "      <td>3028501</td>\n",
              "      <td>btgpactual</td>\n",
              "      <td>@xubs._ 💙</td>\n",
              "      <td>Cn4bcg7LM4t</td>\n",
              "      <td>reply</td>\n",
              "      <td>REELS</td>\n",
              "      <td>18340331500020596</td>\n",
              "      <td>18014457793513467</td>\n",
              "      <td>https://www.instagram.com/p/Cn4bcg7LM4t/c/1801...</td>\n",
              "      <td>2023-01-26 18:44:27</td>\n",
              "      <td>2023-01-26 19:02:16</td>\n",
              "      <td>-1.0</td>\n",
              "      <td>0.0</td>\n",
              "      <td>0.0</td>\n",
              "      <td>-1.0</td>\n",
              "    </tr>\n",
              "    <tr>\n",
              "      <th>4546</th>\n",
              "      <td>4546</td>\n",
              "      <td>3028580</td>\n",
              "      <td>btgpactual</td>\n",
              "      <td>Agradecemos o seu feedback! 💙</td>\n",
              "      <td>CnzSr6ltH74</td>\n",
              "      <td>reply</td>\n",
              "      <td>REELS</td>\n",
              "      <td>18004216693521888</td>\n",
              "      <td>17957000375356996</td>\n",
              "      <td>https://www.instagram.com/p/CnzSr6ltH74/c/1795...</td>\n",
              "      <td>2023-01-26 18:45:13</td>\n",
              "      <td>2023-01-26 19:02:35</td>\n",
              "      <td>-1.0</td>\n",
              "      <td>0.0</td>\n",
              "      <td>0.0</td>\n",
              "      <td>-1.0</td>\n",
              "    </tr>\n",
              "    <tr>\n",
              "      <th>4547</th>\n",
              "      <td>4547</td>\n",
              "      <td>3029097</td>\n",
              "      <td>je_mascarenhas</td>\n",
              "      <td>Arrasa Micaaa 💙✨🙏🏼👏🏼👏🏼👏🏼👏🏼</td>\n",
              "      <td>Cn4bcg7LM4t</td>\n",
              "      <td>comment</td>\n",
              "      <td>REELS</td>\n",
              "      <td>17969884580114389</td>\n",
              "      <td>-</td>\n",
              "      <td>https://www.instagram.com/p/Cn4bcg7LM4t/c/1796...</td>\n",
              "      <td>2023-01-26 19:26:41</td>\n",
              "      <td>2023-01-26 19:31:45</td>\n",
              "      <td>-1.0</td>\n",
              "      <td>0.0</td>\n",
              "      <td>0.0</td>\n",
              "      <td>-1.0</td>\n",
              "    </tr>\n",
              "    <tr>\n",
              "      <th>4548</th>\n",
              "      <td>4548</td>\n",
              "      <td>3029149</td>\n",
              "      <td>linequer_</td>\n",
              "      <td>Excelência! 👏</td>\n",
              "      <td>CnzSr6ltH74</td>\n",
              "      <td>comment</td>\n",
              "      <td>REELS</td>\n",
              "      <td>17992357330670534</td>\n",
              "      <td>-</td>\n",
              "      <td>https://www.instagram.com/p/CnzSr6ltH74/c/1799...</td>\n",
              "      <td>2023-01-26 19:28:33</td>\n",
              "      <td>2023-01-26 19:31:58</td>\n",
              "      <td>-1.0</td>\n",
              "      <td>0.0</td>\n",
              "      <td>0.0</td>\n",
              "      <td>-1.0</td>\n",
              "    </tr>\n",
              "  </tbody>\n",
              "</table>\n",
              "<p>4549 rows × 16 columns</p>\n",
              "</div>\n",
              "      <button class=\"colab-df-convert\" onclick=\"convertToInteractive('df-ec357758-970e-426a-95e9-ad19c0f7fe32')\"\n",
              "              title=\"Convert this dataframe to an interactive table.\"\n",
              "              style=\"display:none;\">\n",
              "        \n",
              "  <svg xmlns=\"http://www.w3.org/2000/svg\" height=\"24px\"viewBox=\"0 0 24 24\"\n",
              "       width=\"24px\">\n",
              "    <path d=\"M0 0h24v24H0V0z\" fill=\"none\"/>\n",
              "    <path d=\"M18.56 5.44l.94 2.06.94-2.06 2.06-.94-2.06-.94-.94-2.06-.94 2.06-2.06.94zm-11 1L8.5 8.5l.94-2.06 2.06-.94-2.06-.94L8.5 2.5l-.94 2.06-2.06.94zm10 10l.94 2.06.94-2.06 2.06-.94-2.06-.94-.94-2.06-.94 2.06-2.06.94z\"/><path d=\"M17.41 7.96l-1.37-1.37c-.4-.4-.92-.59-1.43-.59-.52 0-1.04.2-1.43.59L10.3 9.45l-7.72 7.72c-.78.78-.78 2.05 0 2.83L4 21.41c.39.39.9.59 1.41.59.51 0 1.02-.2 1.41-.59l7.78-7.78 2.81-2.81c.8-.78.8-2.07 0-2.86zM5.41 20L4 18.59l7.72-7.72 1.47 1.35L5.41 20z\"/>\n",
              "  </svg>\n",
              "      </button>\n",
              "      \n",
              "  <style>\n",
              "    .colab-df-container {\n",
              "      display:flex;\n",
              "      flex-wrap:wrap;\n",
              "      gap: 12px;\n",
              "    }\n",
              "\n",
              "    .colab-df-convert {\n",
              "      background-color: #E8F0FE;\n",
              "      border: none;\n",
              "      border-radius: 50%;\n",
              "      cursor: pointer;\n",
              "      display: none;\n",
              "      fill: #1967D2;\n",
              "      height: 32px;\n",
              "      padding: 0 0 0 0;\n",
              "      width: 32px;\n",
              "    }\n",
              "\n",
              "    .colab-df-convert:hover {\n",
              "      background-color: #E2EBFA;\n",
              "      box-shadow: 0px 1px 2px rgba(60, 64, 67, 0.3), 0px 1px 3px 1px rgba(60, 64, 67, 0.15);\n",
              "      fill: #174EA6;\n",
              "    }\n",
              "\n",
              "    [theme=dark] .colab-df-convert {\n",
              "      background-color: #3B4455;\n",
              "      fill: #D2E3FC;\n",
              "    }\n",
              "\n",
              "    [theme=dark] .colab-df-convert:hover {\n",
              "      background-color: #434B5C;\n",
              "      box-shadow: 0px 1px 3px 1px rgba(0, 0, 0, 0.15);\n",
              "      filter: drop-shadow(0px 1px 2px rgba(0, 0, 0, 0.3));\n",
              "      fill: #FFFFFF;\n",
              "    }\n",
              "  </style>\n",
              "\n",
              "      <script>\n",
              "        const buttonEl =\n",
              "          document.querySelector('#df-ec357758-970e-426a-95e9-ad19c0f7fe32 button.colab-df-convert');\n",
              "        buttonEl.style.display =\n",
              "          google.colab.kernel.accessAllowed ? 'block' : 'none';\n",
              "\n",
              "        async function convertToInteractive(key) {\n",
              "          const element = document.querySelector('#df-ec357758-970e-426a-95e9-ad19c0f7fe32');\n",
              "          const dataTable =\n",
              "            await google.colab.kernel.invokeFunction('convertToInteractive',\n",
              "                                                     [key], {});\n",
              "          if (!dataTable) return;\n",
              "\n",
              "          const docLinkHtml = 'Like what you see? Visit the ' +\n",
              "            '<a target=\"_blank\" href=https://colab.research.google.com/notebooks/data_table.ipynb>data table notebook</a>'\n",
              "            + ' to learn more about interactive tables.';\n",
              "          element.innerHTML = '';\n",
              "          dataTable['output_type'] = 'display_data';\n",
              "          await google.colab.output.renderOutput(dataTable, element);\n",
              "          const docLink = document.createElement('div');\n",
              "          docLink.innerHTML = docLinkHtml;\n",
              "          element.appendChild(docLink);\n",
              "        }\n",
              "      </script>\n",
              "    </div>\n",
              "  </div>\n",
              "  "
            ]
          },
          "metadata": {},
          "execution_count": 3
        }
      ]
    },
    {
      "cell_type": "code",
      "source": [
        "dados_filtrados = dados.loc[dados['autor'] != 'btgpactual']\n",
        "dados_filtrados"
      ],
      "metadata": {
        "colab": {
          "base_uri": "https://localhost:8080/",
          "height": 783
        },
        "id": "9WISwgZ0HVmR",
        "outputId": "46ea43db-868d-40a4-a41a-ca5ae3edfbf3"
      },
      "execution_count": null,
      "outputs": [
        {
          "output_type": "execute_result",
          "data": {
            "text/plain": [
              "      Column1       id                    autor  \\\n",
              "10         10       11    matheusriosortodontia   \n",
              "13         13       14             erikacoimbra   \n",
              "14         14       15           anapaulanakade   \n",
              "15         15       16             rosanakassar   \n",
              "16         16       17  luizantoniojovinodossan   \n",
              "...       ...      ...                      ...   \n",
              "4542     4542  3028275              gui.decicco   \n",
              "4543     4543  3028307               giballiana   \n",
              "4544     4544  3028308            caioaugustofr   \n",
              "4547     4547  3029097           je_mascarenhas   \n",
              "4548     4548  3029149                linequer_   \n",
              "\n",
              "                                                  texto    shortCode  \\\n",
              "10    @gustavopaulinno Realmente. Ja rodei por aí e ...  CkG9KXjpY2B   \n",
              "13                                                  👏👏👏  CkG9KXjpY2B   \n",
              "14    O app está travando desde ontem, está em manut...  CkG9KXjpY2B   \n",
              "15    Abri uma conta, mas achei muito complicado inv...  CkG9KXjpY2B   \n",
              "16                                                    👏  CkG9KXjpY2B   \n",
              "...                                                 ...          ...   \n",
              "4542  Participe da conferência econômica mais import...  Cn5MCVvP1H3   \n",
              "4543                              A melhor que temos 🥰🥰  Cn4bcg7LM4t   \n",
              "4544  Estão contratando muitos blogueiros, mas eu fi...  Cn4bcg7LM4t   \n",
              "4547                         Arrasa Micaaa 💙✨🙏🏼👏🏼👏🏼👏🏼👏🏼  Cn4bcg7LM4t   \n",
              "4548                                      Excelência! 👏  CnzSr6ltH74   \n",
              "\n",
              "     tipoInteracao       tipoMidia        idInteracao              idPai  \\\n",
              "10           reply           REELS  17961352247055161  17983688287717831   \n",
              "13         comment           REELS  17943066782219685                  -   \n",
              "14         comment           REELS  17988010663613927                  -   \n",
              "15         comment           REELS  17955765434145877                  -   \n",
              "16         comment           REELS  17868806699792839                  -   \n",
              "...            ...             ...                ...                ...   \n",
              "4542       mention  CAROUSEL_ALBUM  17989315081750052                  -   \n",
              "4543       comment           REELS  17913917285610958                  -   \n",
              "4544       comment           REELS  17965800242039792                  -   \n",
              "4547       comment           REELS  17969884580114389                  -   \n",
              "4548       comment           REELS  17992357330670534                  -   \n",
              "\n",
              "                                                    URL        dataPublicada  \\\n",
              "10    https://www.instagram.com/p/CkG9KXjpY2B/c/1798...  2022-10-24 17:40:49   \n",
              "13    https://www.instagram.com/p/CkG9KXjpY2B/c/1794...  2022-10-25 19:13:45   \n",
              "14    https://www.instagram.com/p/CkG9KXjpY2B/c/1798...  2022-10-25 12:54:54   \n",
              "15    https://www.instagram.com/p/CkG9KXjpY2B/c/1795...  2022-10-25 12:03:51   \n",
              "16    https://www.instagram.com/p/CkG9KXjpY2B/c/1786...  2022-10-25 00:30:31   \n",
              "...                                                 ...                  ...   \n",
              "4542           https://www.instagram.com/p/Cn5MCVvP1H3/  2023-01-26 18:31:44   \n",
              "4543  https://www.instagram.com/p/Cn4bcg7LM4t/c/1791...  2023-01-26 18:47:19   \n",
              "4544  https://www.instagram.com/p/Cn4bcg7LM4t/c/1796...  2023-01-26 18:41:35   \n",
              "4547  https://www.instagram.com/p/Cn4bcg7LM4t/c/1796...  2023-01-26 19:26:41   \n",
              "4548  https://www.instagram.com/p/CnzSr6ltH74/c/1799...  2023-01-26 19:28:33   \n",
              "\n",
              "             dataInsercao  anomalia  probabilidadeAnomalia  processado  \\\n",
              "10    2022-10-25 21:52:56      -1.0                    0.0         0.0   \n",
              "13    2022-10-25 21:52:57      -1.0                    0.0         0.0   \n",
              "14    2022-10-25 21:52:57      -1.0                    0.0         0.0   \n",
              "15    2022-10-25 21:52:58      -1.0                    0.0         0.0   \n",
              "16    2022-10-25 21:52:58      -1.0                    0.0         0.0   \n",
              "...                   ...       ...                    ...         ...   \n",
              "4542  2023-01-26 18:35:02      -1.0                    0.0         0.0   \n",
              "4543  2023-01-26 19:01:29      -1.0                    0.0         0.0   \n",
              "4544  2023-01-26 19:01:29      -1.0                    0.0         0.0   \n",
              "4547  2023-01-26 19:31:45      -1.0                    0.0         0.0   \n",
              "4548  2023-01-26 19:31:58      -1.0                    0.0         0.0   \n",
              "\n",
              "      contemHyperlink  \n",
              "10               -1.0  \n",
              "13               -1.0  \n",
              "14               -1.0  \n",
              "15               -1.0  \n",
              "16               -1.0  \n",
              "...               ...  \n",
              "4542             -1.0  \n",
              "4543             -1.0  \n",
              "4544             -1.0  \n",
              "4547             -1.0  \n",
              "4548             -1.0  \n",
              "\n",
              "[3653 rows x 16 columns]"
            ],
            "text/html": [
              "\n",
              "  <div id=\"df-a6c2d92e-864b-4ef2-bb72-2a8169484595\">\n",
              "    <div class=\"colab-df-container\">\n",
              "      <div>\n",
              "<style scoped>\n",
              "    .dataframe tbody tr th:only-of-type {\n",
              "        vertical-align: middle;\n",
              "    }\n",
              "\n",
              "    .dataframe tbody tr th {\n",
              "        vertical-align: top;\n",
              "    }\n",
              "\n",
              "    .dataframe thead th {\n",
              "        text-align: right;\n",
              "    }\n",
              "</style>\n",
              "<table border=\"1\" class=\"dataframe\">\n",
              "  <thead>\n",
              "    <tr style=\"text-align: right;\">\n",
              "      <th></th>\n",
              "      <th>Column1</th>\n",
              "      <th>id</th>\n",
              "      <th>autor</th>\n",
              "      <th>texto</th>\n",
              "      <th>shortCode</th>\n",
              "      <th>tipoInteracao</th>\n",
              "      <th>tipoMidia</th>\n",
              "      <th>idInteracao</th>\n",
              "      <th>idPai</th>\n",
              "      <th>URL</th>\n",
              "      <th>dataPublicada</th>\n",
              "      <th>dataInsercao</th>\n",
              "      <th>anomalia</th>\n",
              "      <th>probabilidadeAnomalia</th>\n",
              "      <th>processado</th>\n",
              "      <th>contemHyperlink</th>\n",
              "    </tr>\n",
              "  </thead>\n",
              "  <tbody>\n",
              "    <tr>\n",
              "      <th>10</th>\n",
              "      <td>10</td>\n",
              "      <td>11</td>\n",
              "      <td>matheusriosortodontia</td>\n",
              "      <td>@gustavopaulinno Realmente. Ja rodei por aí e ...</td>\n",
              "      <td>CkG9KXjpY2B</td>\n",
              "      <td>reply</td>\n",
              "      <td>REELS</td>\n",
              "      <td>17961352247055161</td>\n",
              "      <td>17983688287717831</td>\n",
              "      <td>https://www.instagram.com/p/CkG9KXjpY2B/c/1798...</td>\n",
              "      <td>2022-10-24 17:40:49</td>\n",
              "      <td>2022-10-25 21:52:56</td>\n",
              "      <td>-1.0</td>\n",
              "      <td>0.0</td>\n",
              "      <td>0.0</td>\n",
              "      <td>-1.0</td>\n",
              "    </tr>\n",
              "    <tr>\n",
              "      <th>13</th>\n",
              "      <td>13</td>\n",
              "      <td>14</td>\n",
              "      <td>erikacoimbra</td>\n",
              "      <td>👏👏👏</td>\n",
              "      <td>CkG9KXjpY2B</td>\n",
              "      <td>comment</td>\n",
              "      <td>REELS</td>\n",
              "      <td>17943066782219685</td>\n",
              "      <td>-</td>\n",
              "      <td>https://www.instagram.com/p/CkG9KXjpY2B/c/1794...</td>\n",
              "      <td>2022-10-25 19:13:45</td>\n",
              "      <td>2022-10-25 21:52:57</td>\n",
              "      <td>-1.0</td>\n",
              "      <td>0.0</td>\n",
              "      <td>0.0</td>\n",
              "      <td>-1.0</td>\n",
              "    </tr>\n",
              "    <tr>\n",
              "      <th>14</th>\n",
              "      <td>14</td>\n",
              "      <td>15</td>\n",
              "      <td>anapaulanakade</td>\n",
              "      <td>O app está travando desde ontem, está em manut...</td>\n",
              "      <td>CkG9KXjpY2B</td>\n",
              "      <td>comment</td>\n",
              "      <td>REELS</td>\n",
              "      <td>17988010663613927</td>\n",
              "      <td>-</td>\n",
              "      <td>https://www.instagram.com/p/CkG9KXjpY2B/c/1798...</td>\n",
              "      <td>2022-10-25 12:54:54</td>\n",
              "      <td>2022-10-25 21:52:57</td>\n",
              "      <td>-1.0</td>\n",
              "      <td>0.0</td>\n",
              "      <td>0.0</td>\n",
              "      <td>-1.0</td>\n",
              "    </tr>\n",
              "    <tr>\n",
              "      <th>15</th>\n",
              "      <td>15</td>\n",
              "      <td>16</td>\n",
              "      <td>rosanakassar</td>\n",
              "      <td>Abri uma conta, mas achei muito complicado inv...</td>\n",
              "      <td>CkG9KXjpY2B</td>\n",
              "      <td>comment</td>\n",
              "      <td>REELS</td>\n",
              "      <td>17955765434145877</td>\n",
              "      <td>-</td>\n",
              "      <td>https://www.instagram.com/p/CkG9KXjpY2B/c/1795...</td>\n",
              "      <td>2022-10-25 12:03:51</td>\n",
              "      <td>2022-10-25 21:52:58</td>\n",
              "      <td>-1.0</td>\n",
              "      <td>0.0</td>\n",
              "      <td>0.0</td>\n",
              "      <td>-1.0</td>\n",
              "    </tr>\n",
              "    <tr>\n",
              "      <th>16</th>\n",
              "      <td>16</td>\n",
              "      <td>17</td>\n",
              "      <td>luizantoniojovinodossan</td>\n",
              "      <td>👏</td>\n",
              "      <td>CkG9KXjpY2B</td>\n",
              "      <td>comment</td>\n",
              "      <td>REELS</td>\n",
              "      <td>17868806699792839</td>\n",
              "      <td>-</td>\n",
              "      <td>https://www.instagram.com/p/CkG9KXjpY2B/c/1786...</td>\n",
              "      <td>2022-10-25 00:30:31</td>\n",
              "      <td>2022-10-25 21:52:58</td>\n",
              "      <td>-1.0</td>\n",
              "      <td>0.0</td>\n",
              "      <td>0.0</td>\n",
              "      <td>-1.0</td>\n",
              "    </tr>\n",
              "    <tr>\n",
              "      <th>...</th>\n",
              "      <td>...</td>\n",
              "      <td>...</td>\n",
              "      <td>...</td>\n",
              "      <td>...</td>\n",
              "      <td>...</td>\n",
              "      <td>...</td>\n",
              "      <td>...</td>\n",
              "      <td>...</td>\n",
              "      <td>...</td>\n",
              "      <td>...</td>\n",
              "      <td>...</td>\n",
              "      <td>...</td>\n",
              "      <td>...</td>\n",
              "      <td>...</td>\n",
              "      <td>...</td>\n",
              "      <td>...</td>\n",
              "    </tr>\n",
              "    <tr>\n",
              "      <th>4542</th>\n",
              "      <td>4542</td>\n",
              "      <td>3028275</td>\n",
              "      <td>gui.decicco</td>\n",
              "      <td>Participe da conferência econômica mais import...</td>\n",
              "      <td>Cn5MCVvP1H3</td>\n",
              "      <td>mention</td>\n",
              "      <td>CAROUSEL_ALBUM</td>\n",
              "      <td>17989315081750052</td>\n",
              "      <td>-</td>\n",
              "      <td>https://www.instagram.com/p/Cn5MCVvP1H3/</td>\n",
              "      <td>2023-01-26 18:31:44</td>\n",
              "      <td>2023-01-26 18:35:02</td>\n",
              "      <td>-1.0</td>\n",
              "      <td>0.0</td>\n",
              "      <td>0.0</td>\n",
              "      <td>-1.0</td>\n",
              "    </tr>\n",
              "    <tr>\n",
              "      <th>4543</th>\n",
              "      <td>4543</td>\n",
              "      <td>3028307</td>\n",
              "      <td>giballiana</td>\n",
              "      <td>A melhor que temos 🥰🥰</td>\n",
              "      <td>Cn4bcg7LM4t</td>\n",
              "      <td>comment</td>\n",
              "      <td>REELS</td>\n",
              "      <td>17913917285610958</td>\n",
              "      <td>-</td>\n",
              "      <td>https://www.instagram.com/p/Cn4bcg7LM4t/c/1791...</td>\n",
              "      <td>2023-01-26 18:47:19</td>\n",
              "      <td>2023-01-26 19:01:29</td>\n",
              "      <td>-1.0</td>\n",
              "      <td>0.0</td>\n",
              "      <td>0.0</td>\n",
              "      <td>-1.0</td>\n",
              "    </tr>\n",
              "    <tr>\n",
              "      <th>4544</th>\n",
              "      <td>4544</td>\n",
              "      <td>3028308</td>\n",
              "      <td>caioaugustofr</td>\n",
              "      <td>Estão contratando muitos blogueiros, mas eu fi...</td>\n",
              "      <td>Cn4bcg7LM4t</td>\n",
              "      <td>comment</td>\n",
              "      <td>REELS</td>\n",
              "      <td>17965800242039792</td>\n",
              "      <td>-</td>\n",
              "      <td>https://www.instagram.com/p/Cn4bcg7LM4t/c/1796...</td>\n",
              "      <td>2023-01-26 18:41:35</td>\n",
              "      <td>2023-01-26 19:01:29</td>\n",
              "      <td>-1.0</td>\n",
              "      <td>0.0</td>\n",
              "      <td>0.0</td>\n",
              "      <td>-1.0</td>\n",
              "    </tr>\n",
              "    <tr>\n",
              "      <th>4547</th>\n",
              "      <td>4547</td>\n",
              "      <td>3029097</td>\n",
              "      <td>je_mascarenhas</td>\n",
              "      <td>Arrasa Micaaa 💙✨🙏🏼👏🏼👏🏼👏🏼👏🏼</td>\n",
              "      <td>Cn4bcg7LM4t</td>\n",
              "      <td>comment</td>\n",
              "      <td>REELS</td>\n",
              "      <td>17969884580114389</td>\n",
              "      <td>-</td>\n",
              "      <td>https://www.instagram.com/p/Cn4bcg7LM4t/c/1796...</td>\n",
              "      <td>2023-01-26 19:26:41</td>\n",
              "      <td>2023-01-26 19:31:45</td>\n",
              "      <td>-1.0</td>\n",
              "      <td>0.0</td>\n",
              "      <td>0.0</td>\n",
              "      <td>-1.0</td>\n",
              "    </tr>\n",
              "    <tr>\n",
              "      <th>4548</th>\n",
              "      <td>4548</td>\n",
              "      <td>3029149</td>\n",
              "      <td>linequer_</td>\n",
              "      <td>Excelência! 👏</td>\n",
              "      <td>CnzSr6ltH74</td>\n",
              "      <td>comment</td>\n",
              "      <td>REELS</td>\n",
              "      <td>17992357330670534</td>\n",
              "      <td>-</td>\n",
              "      <td>https://www.instagram.com/p/CnzSr6ltH74/c/1799...</td>\n",
              "      <td>2023-01-26 19:28:33</td>\n",
              "      <td>2023-01-26 19:31:58</td>\n",
              "      <td>-1.0</td>\n",
              "      <td>0.0</td>\n",
              "      <td>0.0</td>\n",
              "      <td>-1.0</td>\n",
              "    </tr>\n",
              "  </tbody>\n",
              "</table>\n",
              "<p>3653 rows × 16 columns</p>\n",
              "</div>\n",
              "      <button class=\"colab-df-convert\" onclick=\"convertToInteractive('df-a6c2d92e-864b-4ef2-bb72-2a8169484595')\"\n",
              "              title=\"Convert this dataframe to an interactive table.\"\n",
              "              style=\"display:none;\">\n",
              "        \n",
              "  <svg xmlns=\"http://www.w3.org/2000/svg\" height=\"24px\"viewBox=\"0 0 24 24\"\n",
              "       width=\"24px\">\n",
              "    <path d=\"M0 0h24v24H0V0z\" fill=\"none\"/>\n",
              "    <path d=\"M18.56 5.44l.94 2.06.94-2.06 2.06-.94-2.06-.94-.94-2.06-.94 2.06-2.06.94zm-11 1L8.5 8.5l.94-2.06 2.06-.94-2.06-.94L8.5 2.5l-.94 2.06-2.06.94zm10 10l.94 2.06.94-2.06 2.06-.94-2.06-.94-.94-2.06-.94 2.06-2.06.94z\"/><path d=\"M17.41 7.96l-1.37-1.37c-.4-.4-.92-.59-1.43-.59-.52 0-1.04.2-1.43.59L10.3 9.45l-7.72 7.72c-.78.78-.78 2.05 0 2.83L4 21.41c.39.39.9.59 1.41.59.51 0 1.02-.2 1.41-.59l7.78-7.78 2.81-2.81c.8-.78.8-2.07 0-2.86zM5.41 20L4 18.59l7.72-7.72 1.47 1.35L5.41 20z\"/>\n",
              "  </svg>\n",
              "      </button>\n",
              "      \n",
              "  <style>\n",
              "    .colab-df-container {\n",
              "      display:flex;\n",
              "      flex-wrap:wrap;\n",
              "      gap: 12px;\n",
              "    }\n",
              "\n",
              "    .colab-df-convert {\n",
              "      background-color: #E8F0FE;\n",
              "      border: none;\n",
              "      border-radius: 50%;\n",
              "      cursor: pointer;\n",
              "      display: none;\n",
              "      fill: #1967D2;\n",
              "      height: 32px;\n",
              "      padding: 0 0 0 0;\n",
              "      width: 32px;\n",
              "    }\n",
              "\n",
              "    .colab-df-convert:hover {\n",
              "      background-color: #E2EBFA;\n",
              "      box-shadow: 0px 1px 2px rgba(60, 64, 67, 0.3), 0px 1px 3px 1px rgba(60, 64, 67, 0.15);\n",
              "      fill: #174EA6;\n",
              "    }\n",
              "\n",
              "    [theme=dark] .colab-df-convert {\n",
              "      background-color: #3B4455;\n",
              "      fill: #D2E3FC;\n",
              "    }\n",
              "\n",
              "    [theme=dark] .colab-df-convert:hover {\n",
              "      background-color: #434B5C;\n",
              "      box-shadow: 0px 1px 3px 1px rgba(0, 0, 0, 0.15);\n",
              "      filter: drop-shadow(0px 1px 2px rgba(0, 0, 0, 0.3));\n",
              "      fill: #FFFFFF;\n",
              "    }\n",
              "  </style>\n",
              "\n",
              "      <script>\n",
              "        const buttonEl =\n",
              "          document.querySelector('#df-a6c2d92e-864b-4ef2-bb72-2a8169484595 button.colab-df-convert');\n",
              "        buttonEl.style.display =\n",
              "          google.colab.kernel.accessAllowed ? 'block' : 'none';\n",
              "\n",
              "        async function convertToInteractive(key) {\n",
              "          const element = document.querySelector('#df-a6c2d92e-864b-4ef2-bb72-2a8169484595');\n",
              "          const dataTable =\n",
              "            await google.colab.kernel.invokeFunction('convertToInteractive',\n",
              "                                                     [key], {});\n",
              "          if (!dataTable) return;\n",
              "\n",
              "          const docLinkHtml = 'Like what you see? Visit the ' +\n",
              "            '<a target=\"_blank\" href=https://colab.research.google.com/notebooks/data_table.ipynb>data table notebook</a>'\n",
              "            + ' to learn more about interactive tables.';\n",
              "          element.innerHTML = '';\n",
              "          dataTable['output_type'] = 'display_data';\n",
              "          await google.colab.output.renderOutput(dataTable, element);\n",
              "          const docLink = document.createElement('div');\n",
              "          docLink.innerHTML = docLinkHtml;\n",
              "          element.appendChild(docLink);\n",
              "        }\n",
              "      </script>\n",
              "    </div>\n",
              "  </div>\n",
              "  "
            ]
          },
          "metadata": {},
          "execution_count": 4
        }
      ]
    },
    {
      "cell_type": "markdown",
      "source": [
        "## Testes para verificar a importância ou não da retirada de colunas"
      ],
      "metadata": {
        "id": "jdBfRDmNh8bT"
      }
    },
    {
      "cell_type": "code",
      "source": [
        "dados_filtrados['tipoMidia'].value_counts()"
      ],
      "metadata": {
        "colab": {
          "base_uri": "https://localhost:8080/"
        },
        "id": "LZ0kfGMg0pqB",
        "outputId": "63d86826-0358-4d60-d258-18c6e1bc979b"
      },
      "execution_count": null,
      "outputs": [
        {
          "output_type": "execute_result",
          "data": {
            "text/plain": [
              "REELS                1525\n",
              "FEED                 1376\n",
              "IMAGE                 215\n",
              "VIDEO                 201\n",
              "CAROUSEL_ALBUM        184\n",
              "-                      24\n",
              "18015162967458592       1\n",
              "18008430814504778       1\n",
              "17869519748783145       1\n",
              "18171016729261171       1\n",
              "Name: tipoMidia, dtype: int64"
            ]
          },
          "metadata": {},
          "execution_count": 5
        }
      ]
    },
    {
      "cell_type": "code",
      "source": [
        "dados_filtrados['probabilidadeAnomalia'].value_counts()"
      ],
      "metadata": {
        "colab": {
          "base_uri": "https://localhost:8080/"
        },
        "id": "jIZ-YU9-4tOG",
        "outputId": "bc181c15-b6e4-460b-ce0c-b31e7691459c"
      },
      "execution_count": null,
      "outputs": [
        {
          "output_type": "execute_result",
          "data": {
            "text/plain": [
              " 0.0    3501\n",
              "-1.0      28\n",
              "Name: probabilidadeAnomalia, dtype: int64"
            ]
          },
          "metadata": {},
          "execution_count": 6
        }
      ]
    },
    {
      "cell_type": "code",
      "source": [
        "dados_filtrados['anomalia'].value_counts()"
      ],
      "metadata": {
        "colab": {
          "base_uri": "https://localhost:8080/"
        },
        "id": "5UnHVfch4xkv",
        "outputId": "d65502ac-2d8e-4b3d-835d-2b879ea7d54f"
      },
      "execution_count": null,
      "outputs": [
        {
          "output_type": "execute_result",
          "data": {
            "text/plain": [
              "-1.0    3501\n",
              " 0.0      28\n",
              "Name: anomalia, dtype: int64"
            ]
          },
          "metadata": {},
          "execution_count": 7
        }
      ]
    },
    {
      "cell_type": "code",
      "source": [
        "dados_filtrados['processado'].value_counts()"
      ],
      "metadata": {
        "colab": {
          "base_uri": "https://localhost:8080/"
        },
        "id": "dfClNmOd4yCP",
        "outputId": "031c3e07-0b2c-48d0-cc47-066ad425b950"
      },
      "execution_count": null,
      "outputs": [
        {
          "output_type": "execute_result",
          "data": {
            "text/plain": [
              "0.0    3501\n",
              "Name: processado, dtype: int64"
            ]
          },
          "metadata": {},
          "execution_count": 8
        }
      ]
    },
    {
      "cell_type": "code",
      "source": [
        "dados_filtrados['contemHyperlink'].value_counts()"
      ],
      "metadata": {
        "colab": {
          "base_uri": "https://localhost:8080/"
        },
        "id": "130ZDX7x4yhd",
        "outputId": "ee50d5c2-866b-4e3a-b82b-b52229ec11c8"
      },
      "execution_count": null,
      "outputs": [
        {
          "output_type": "execute_result",
          "data": {
            "text/plain": [
              "-1.0    3501\n",
              "Name: contemHyperlink, dtype: int64"
            ]
          },
          "metadata": {},
          "execution_count": 9
        }
      ]
    },
    {
      "cell_type": "markdown",
      "source": [
        "## Retirada das colunas"
      ],
      "metadata": {
        "id": "-Aq6RsaJiGB2"
      }
    },
    {
      "cell_type": "code",
      "source": [
        "dados_filtrados_limpo = dados_filtrados.drop(['Column1', 'URL', 'processado', 'id'], axis=1)\n",
        "dados_filtrados_limpo"
      ],
      "metadata": {
        "colab": {
          "base_uri": "https://localhost:8080/",
          "height": 783
        },
        "id": "P7ROfUIO46fk",
        "outputId": "22a3ec78-aa81-47f7-a4e9-8c76a928106e"
      },
      "execution_count": null,
      "outputs": [
        {
          "output_type": "execute_result",
          "data": {
            "text/plain": [
              "                        autor  \\\n",
              "10      matheusriosortodontia   \n",
              "13               erikacoimbra   \n",
              "14             anapaulanakade   \n",
              "15               rosanakassar   \n",
              "16    luizantoniojovinodossan   \n",
              "...                       ...   \n",
              "4542              gui.decicco   \n",
              "4543               giballiana   \n",
              "4544            caioaugustofr   \n",
              "4547           je_mascarenhas   \n",
              "4548                linequer_   \n",
              "\n",
              "                                                  texto    shortCode  \\\n",
              "10    @gustavopaulinno Realmente. Ja rodei por aí e ...  CkG9KXjpY2B   \n",
              "13                                                  👏👏👏  CkG9KXjpY2B   \n",
              "14    O app está travando desde ontem, está em manut...  CkG9KXjpY2B   \n",
              "15    Abri uma conta, mas achei muito complicado inv...  CkG9KXjpY2B   \n",
              "16                                                    👏  CkG9KXjpY2B   \n",
              "...                                                 ...          ...   \n",
              "4542  Participe da conferência econômica mais import...  Cn5MCVvP1H3   \n",
              "4543                              A melhor que temos 🥰🥰  Cn4bcg7LM4t   \n",
              "4544  Estão contratando muitos blogueiros, mas eu fi...  Cn4bcg7LM4t   \n",
              "4547                         Arrasa Micaaa 💙✨🙏🏼👏🏼👏🏼👏🏼👏🏼  Cn4bcg7LM4t   \n",
              "4548                                      Excelência! 👏  CnzSr6ltH74   \n",
              "\n",
              "     tipoInteracao       tipoMidia        idInteracao              idPai  \\\n",
              "10           reply           REELS  17961352247055161  17983688287717831   \n",
              "13         comment           REELS  17943066782219685                  -   \n",
              "14         comment           REELS  17988010663613927                  -   \n",
              "15         comment           REELS  17955765434145877                  -   \n",
              "16         comment           REELS  17868806699792839                  -   \n",
              "...            ...             ...                ...                ...   \n",
              "4542       mention  CAROUSEL_ALBUM  17989315081750052                  -   \n",
              "4543       comment           REELS  17913917285610958                  -   \n",
              "4544       comment           REELS  17965800242039792                  -   \n",
              "4547       comment           REELS  17969884580114389                  -   \n",
              "4548       comment           REELS  17992357330670534                  -   \n",
              "\n",
              "            dataPublicada         dataInsercao  anomalia  \\\n",
              "10    2022-10-24 17:40:49  2022-10-25 21:52:56      -1.0   \n",
              "13    2022-10-25 19:13:45  2022-10-25 21:52:57      -1.0   \n",
              "14    2022-10-25 12:54:54  2022-10-25 21:52:57      -1.0   \n",
              "15    2022-10-25 12:03:51  2022-10-25 21:52:58      -1.0   \n",
              "16    2022-10-25 00:30:31  2022-10-25 21:52:58      -1.0   \n",
              "...                   ...                  ...       ...   \n",
              "4542  2023-01-26 18:31:44  2023-01-26 18:35:02      -1.0   \n",
              "4543  2023-01-26 18:47:19  2023-01-26 19:01:29      -1.0   \n",
              "4544  2023-01-26 18:41:35  2023-01-26 19:01:29      -1.0   \n",
              "4547  2023-01-26 19:26:41  2023-01-26 19:31:45      -1.0   \n",
              "4548  2023-01-26 19:28:33  2023-01-26 19:31:58      -1.0   \n",
              "\n",
              "      probabilidadeAnomalia  contemHyperlink  \n",
              "10                      0.0             -1.0  \n",
              "13                      0.0             -1.0  \n",
              "14                      0.0             -1.0  \n",
              "15                      0.0             -1.0  \n",
              "16                      0.0             -1.0  \n",
              "...                     ...              ...  \n",
              "4542                    0.0             -1.0  \n",
              "4543                    0.0             -1.0  \n",
              "4544                    0.0             -1.0  \n",
              "4547                    0.0             -1.0  \n",
              "4548                    0.0             -1.0  \n",
              "\n",
              "[3653 rows x 12 columns]"
            ],
            "text/html": [
              "\n",
              "  <div id=\"df-63e1d5e4-5179-4690-ac25-9c3f4f68f100\">\n",
              "    <div class=\"colab-df-container\">\n",
              "      <div>\n",
              "<style scoped>\n",
              "    .dataframe tbody tr th:only-of-type {\n",
              "        vertical-align: middle;\n",
              "    }\n",
              "\n",
              "    .dataframe tbody tr th {\n",
              "        vertical-align: top;\n",
              "    }\n",
              "\n",
              "    .dataframe thead th {\n",
              "        text-align: right;\n",
              "    }\n",
              "</style>\n",
              "<table border=\"1\" class=\"dataframe\">\n",
              "  <thead>\n",
              "    <tr style=\"text-align: right;\">\n",
              "      <th></th>\n",
              "      <th>autor</th>\n",
              "      <th>texto</th>\n",
              "      <th>shortCode</th>\n",
              "      <th>tipoInteracao</th>\n",
              "      <th>tipoMidia</th>\n",
              "      <th>idInteracao</th>\n",
              "      <th>idPai</th>\n",
              "      <th>dataPublicada</th>\n",
              "      <th>dataInsercao</th>\n",
              "      <th>anomalia</th>\n",
              "      <th>probabilidadeAnomalia</th>\n",
              "      <th>contemHyperlink</th>\n",
              "    </tr>\n",
              "  </thead>\n",
              "  <tbody>\n",
              "    <tr>\n",
              "      <th>10</th>\n",
              "      <td>matheusriosortodontia</td>\n",
              "      <td>@gustavopaulinno Realmente. Ja rodei por aí e ...</td>\n",
              "      <td>CkG9KXjpY2B</td>\n",
              "      <td>reply</td>\n",
              "      <td>REELS</td>\n",
              "      <td>17961352247055161</td>\n",
              "      <td>17983688287717831</td>\n",
              "      <td>2022-10-24 17:40:49</td>\n",
              "      <td>2022-10-25 21:52:56</td>\n",
              "      <td>-1.0</td>\n",
              "      <td>0.0</td>\n",
              "      <td>-1.0</td>\n",
              "    </tr>\n",
              "    <tr>\n",
              "      <th>13</th>\n",
              "      <td>erikacoimbra</td>\n",
              "      <td>👏👏👏</td>\n",
              "      <td>CkG9KXjpY2B</td>\n",
              "      <td>comment</td>\n",
              "      <td>REELS</td>\n",
              "      <td>17943066782219685</td>\n",
              "      <td>-</td>\n",
              "      <td>2022-10-25 19:13:45</td>\n",
              "      <td>2022-10-25 21:52:57</td>\n",
              "      <td>-1.0</td>\n",
              "      <td>0.0</td>\n",
              "      <td>-1.0</td>\n",
              "    </tr>\n",
              "    <tr>\n",
              "      <th>14</th>\n",
              "      <td>anapaulanakade</td>\n",
              "      <td>O app está travando desde ontem, está em manut...</td>\n",
              "      <td>CkG9KXjpY2B</td>\n",
              "      <td>comment</td>\n",
              "      <td>REELS</td>\n",
              "      <td>17988010663613927</td>\n",
              "      <td>-</td>\n",
              "      <td>2022-10-25 12:54:54</td>\n",
              "      <td>2022-10-25 21:52:57</td>\n",
              "      <td>-1.0</td>\n",
              "      <td>0.0</td>\n",
              "      <td>-1.0</td>\n",
              "    </tr>\n",
              "    <tr>\n",
              "      <th>15</th>\n",
              "      <td>rosanakassar</td>\n",
              "      <td>Abri uma conta, mas achei muito complicado inv...</td>\n",
              "      <td>CkG9KXjpY2B</td>\n",
              "      <td>comment</td>\n",
              "      <td>REELS</td>\n",
              "      <td>17955765434145877</td>\n",
              "      <td>-</td>\n",
              "      <td>2022-10-25 12:03:51</td>\n",
              "      <td>2022-10-25 21:52:58</td>\n",
              "      <td>-1.0</td>\n",
              "      <td>0.0</td>\n",
              "      <td>-1.0</td>\n",
              "    </tr>\n",
              "    <tr>\n",
              "      <th>16</th>\n",
              "      <td>luizantoniojovinodossan</td>\n",
              "      <td>👏</td>\n",
              "      <td>CkG9KXjpY2B</td>\n",
              "      <td>comment</td>\n",
              "      <td>REELS</td>\n",
              "      <td>17868806699792839</td>\n",
              "      <td>-</td>\n",
              "      <td>2022-10-25 00:30:31</td>\n",
              "      <td>2022-10-25 21:52:58</td>\n",
              "      <td>-1.0</td>\n",
              "      <td>0.0</td>\n",
              "      <td>-1.0</td>\n",
              "    </tr>\n",
              "    <tr>\n",
              "      <th>...</th>\n",
              "      <td>...</td>\n",
              "      <td>...</td>\n",
              "      <td>...</td>\n",
              "      <td>...</td>\n",
              "      <td>...</td>\n",
              "      <td>...</td>\n",
              "      <td>...</td>\n",
              "      <td>...</td>\n",
              "      <td>...</td>\n",
              "      <td>...</td>\n",
              "      <td>...</td>\n",
              "      <td>...</td>\n",
              "    </tr>\n",
              "    <tr>\n",
              "      <th>4542</th>\n",
              "      <td>gui.decicco</td>\n",
              "      <td>Participe da conferência econômica mais import...</td>\n",
              "      <td>Cn5MCVvP1H3</td>\n",
              "      <td>mention</td>\n",
              "      <td>CAROUSEL_ALBUM</td>\n",
              "      <td>17989315081750052</td>\n",
              "      <td>-</td>\n",
              "      <td>2023-01-26 18:31:44</td>\n",
              "      <td>2023-01-26 18:35:02</td>\n",
              "      <td>-1.0</td>\n",
              "      <td>0.0</td>\n",
              "      <td>-1.0</td>\n",
              "    </tr>\n",
              "    <tr>\n",
              "      <th>4543</th>\n",
              "      <td>giballiana</td>\n",
              "      <td>A melhor que temos 🥰🥰</td>\n",
              "      <td>Cn4bcg7LM4t</td>\n",
              "      <td>comment</td>\n",
              "      <td>REELS</td>\n",
              "      <td>17913917285610958</td>\n",
              "      <td>-</td>\n",
              "      <td>2023-01-26 18:47:19</td>\n",
              "      <td>2023-01-26 19:01:29</td>\n",
              "      <td>-1.0</td>\n",
              "      <td>0.0</td>\n",
              "      <td>-1.0</td>\n",
              "    </tr>\n",
              "    <tr>\n",
              "      <th>4544</th>\n",
              "      <td>caioaugustofr</td>\n",
              "      <td>Estão contratando muitos blogueiros, mas eu fi...</td>\n",
              "      <td>Cn4bcg7LM4t</td>\n",
              "      <td>comment</td>\n",
              "      <td>REELS</td>\n",
              "      <td>17965800242039792</td>\n",
              "      <td>-</td>\n",
              "      <td>2023-01-26 18:41:35</td>\n",
              "      <td>2023-01-26 19:01:29</td>\n",
              "      <td>-1.0</td>\n",
              "      <td>0.0</td>\n",
              "      <td>-1.0</td>\n",
              "    </tr>\n",
              "    <tr>\n",
              "      <th>4547</th>\n",
              "      <td>je_mascarenhas</td>\n",
              "      <td>Arrasa Micaaa 💙✨🙏🏼👏🏼👏🏼👏🏼👏🏼</td>\n",
              "      <td>Cn4bcg7LM4t</td>\n",
              "      <td>comment</td>\n",
              "      <td>REELS</td>\n",
              "      <td>17969884580114389</td>\n",
              "      <td>-</td>\n",
              "      <td>2023-01-26 19:26:41</td>\n",
              "      <td>2023-01-26 19:31:45</td>\n",
              "      <td>-1.0</td>\n",
              "      <td>0.0</td>\n",
              "      <td>-1.0</td>\n",
              "    </tr>\n",
              "    <tr>\n",
              "      <th>4548</th>\n",
              "      <td>linequer_</td>\n",
              "      <td>Excelência! 👏</td>\n",
              "      <td>CnzSr6ltH74</td>\n",
              "      <td>comment</td>\n",
              "      <td>REELS</td>\n",
              "      <td>17992357330670534</td>\n",
              "      <td>-</td>\n",
              "      <td>2023-01-26 19:28:33</td>\n",
              "      <td>2023-01-26 19:31:58</td>\n",
              "      <td>-1.0</td>\n",
              "      <td>0.0</td>\n",
              "      <td>-1.0</td>\n",
              "    </tr>\n",
              "  </tbody>\n",
              "</table>\n",
              "<p>3653 rows × 12 columns</p>\n",
              "</div>\n",
              "      <button class=\"colab-df-convert\" onclick=\"convertToInteractive('df-63e1d5e4-5179-4690-ac25-9c3f4f68f100')\"\n",
              "              title=\"Convert this dataframe to an interactive table.\"\n",
              "              style=\"display:none;\">\n",
              "        \n",
              "  <svg xmlns=\"http://www.w3.org/2000/svg\" height=\"24px\"viewBox=\"0 0 24 24\"\n",
              "       width=\"24px\">\n",
              "    <path d=\"M0 0h24v24H0V0z\" fill=\"none\"/>\n",
              "    <path d=\"M18.56 5.44l.94 2.06.94-2.06 2.06-.94-2.06-.94-.94-2.06-.94 2.06-2.06.94zm-11 1L8.5 8.5l.94-2.06 2.06-.94-2.06-.94L8.5 2.5l-.94 2.06-2.06.94zm10 10l.94 2.06.94-2.06 2.06-.94-2.06-.94-.94-2.06-.94 2.06-2.06.94z\"/><path d=\"M17.41 7.96l-1.37-1.37c-.4-.4-.92-.59-1.43-.59-.52 0-1.04.2-1.43.59L10.3 9.45l-7.72 7.72c-.78.78-.78 2.05 0 2.83L4 21.41c.39.39.9.59 1.41.59.51 0 1.02-.2 1.41-.59l7.78-7.78 2.81-2.81c.8-.78.8-2.07 0-2.86zM5.41 20L4 18.59l7.72-7.72 1.47 1.35L5.41 20z\"/>\n",
              "  </svg>\n",
              "      </button>\n",
              "      \n",
              "  <style>\n",
              "    .colab-df-container {\n",
              "      display:flex;\n",
              "      flex-wrap:wrap;\n",
              "      gap: 12px;\n",
              "    }\n",
              "\n",
              "    .colab-df-convert {\n",
              "      background-color: #E8F0FE;\n",
              "      border: none;\n",
              "      border-radius: 50%;\n",
              "      cursor: pointer;\n",
              "      display: none;\n",
              "      fill: #1967D2;\n",
              "      height: 32px;\n",
              "      padding: 0 0 0 0;\n",
              "      width: 32px;\n",
              "    }\n",
              "\n",
              "    .colab-df-convert:hover {\n",
              "      background-color: #E2EBFA;\n",
              "      box-shadow: 0px 1px 2px rgba(60, 64, 67, 0.3), 0px 1px 3px 1px rgba(60, 64, 67, 0.15);\n",
              "      fill: #174EA6;\n",
              "    }\n",
              "\n",
              "    [theme=dark] .colab-df-convert {\n",
              "      background-color: #3B4455;\n",
              "      fill: #D2E3FC;\n",
              "    }\n",
              "\n",
              "    [theme=dark] .colab-df-convert:hover {\n",
              "      background-color: #434B5C;\n",
              "      box-shadow: 0px 1px 3px 1px rgba(0, 0, 0, 0.15);\n",
              "      filter: drop-shadow(0px 1px 2px rgba(0, 0, 0, 0.3));\n",
              "      fill: #FFFFFF;\n",
              "    }\n",
              "  </style>\n",
              "\n",
              "      <script>\n",
              "        const buttonEl =\n",
              "          document.querySelector('#df-63e1d5e4-5179-4690-ac25-9c3f4f68f100 button.colab-df-convert');\n",
              "        buttonEl.style.display =\n",
              "          google.colab.kernel.accessAllowed ? 'block' : 'none';\n",
              "\n",
              "        async function convertToInteractive(key) {\n",
              "          const element = document.querySelector('#df-63e1d5e4-5179-4690-ac25-9c3f4f68f100');\n",
              "          const dataTable =\n",
              "            await google.colab.kernel.invokeFunction('convertToInteractive',\n",
              "                                                     [key], {});\n",
              "          if (!dataTable) return;\n",
              "\n",
              "          const docLinkHtml = 'Like what you see? Visit the ' +\n",
              "            '<a target=\"_blank\" href=https://colab.research.google.com/notebooks/data_table.ipynb>data table notebook</a>'\n",
              "            + ' to learn more about interactive tables.';\n",
              "          element.innerHTML = '';\n",
              "          dataTable['output_type'] = 'display_data';\n",
              "          await google.colab.output.renderOutput(dataTable, element);\n",
              "          const docLink = document.createElement('div');\n",
              "          docLink.innerHTML = docLinkHtml;\n",
              "          element.appendChild(docLink);\n",
              "        }\n",
              "      </script>\n",
              "    </div>\n",
              "  </div>\n",
              "  "
            ]
          },
          "metadata": {},
          "execution_count": 10
        }
      ]
    },
    {
      "cell_type": "code",
      "source": [
        "dados_filtrados_limpo['texto']"
      ],
      "metadata": {
        "colab": {
          "base_uri": "https://localhost:8080/"
        },
        "id": "hV7tlRXc5Ate",
        "outputId": "b23242a9-df4f-40cd-ce34-c59d2d9a6bfd"
      },
      "execution_count": null,
      "outputs": [
        {
          "output_type": "execute_result",
          "data": {
            "text/plain": [
              "10      @gustavopaulinno Realmente. Ja rodei por aí e ...\n",
              "13                                                    👏👏👏\n",
              "14      O app está travando desde ontem, está em manut...\n",
              "15      Abri uma conta, mas achei muito complicado inv...\n",
              "16                                                      👏\n",
              "                              ...                        \n",
              "4542    Participe da conferência econômica mais import...\n",
              "4543                                A melhor que temos 🥰🥰\n",
              "4544    Estão contratando muitos blogueiros, mas eu fi...\n",
              "4547                           Arrasa Micaaa 💙✨🙏🏼👏🏼👏🏼👏🏼👏🏼\n",
              "4548                                        Excelência! 👏\n",
              "Name: texto, Length: 3653, dtype: object"
            ]
          },
          "metadata": {},
          "execution_count": 11
        }
      ]
    },
    {
      "cell_type": "markdown",
      "source": [
        "# Testes isolados usando a biblioteca\n"
      ],
      "metadata": {
        "id": "oJxqz7fPiP6t"
      }
    },
    {
      "cell_type": "markdown",
      "source": [
        "Abaixo eu fiz os testes isolados de acordo com a atividade ponderada da semana 2 "
      ],
      "metadata": {
        "id": "yrWNwGSSlYZN"
      }
    },
    {
      "cell_type": "markdown",
      "source": [
        "## Tokenização"
      ],
      "metadata": {
        "id": "v5op7VLMi8qV"
      }
    },
    {
      "cell_type": "code",
      "source": [
        "#Aqui estou utilizando a biblioteca do próprio nltk para tokenizar os post, e especifico no final que é para ser na língua portuguesa\n",
        "\n",
        "texto_teste = \"Sou do grupo BTG3, no curso de Sistemas de Informação!\"\n",
        "\n",
        "texto_tokenizado = tokenize.word_tokenize(texto_teste, language='portuguese')  \n",
        "texto_tokenizado"
      ],
      "metadata": {
        "colab": {
          "base_uri": "https://localhost:8080/"
        },
        "id": "WltXL8AKiTzY",
        "outputId": "a42c2914-c9fc-42ee-f954-3f935a9786c1"
      },
      "execution_count": null,
      "outputs": [
        {
          "output_type": "execute_result",
          "data": {
            "text/plain": [
              "['Sou',\n",
              " 'do',\n",
              " 'grupo',\n",
              " 'BTG3',\n",
              " ',',\n",
              " 'no',\n",
              " 'curso',\n",
              " 'de',\n",
              " 'Sistemas',\n",
              " 'de',\n",
              " 'Informação',\n",
              " '!']"
            ]
          },
          "metadata": {},
          "execution_count": 12
        }
      ]
    },
    {
      "cell_type": "markdown",
      "source": [
        "## Remoção de stop words\n"
      ],
      "metadata": {
        "id": "Z54uUs-VkRuf"
      }
    },
    {
      "cell_type": "code",
      "source": [
        "#para não utilizar a biblioteca eu criei uma lista de stopwords (peguei a lista do github) e adicionei algumas que nos post estão com letras maisculas para serem removidas\n",
        "\n",
        "stopwords = [\n",
        "'A', 'É', 'Para', 'As', 'Os', 'Por', 'E',\n",
        "'de', 'a',\n",
        "'o', 'que', 'e', \n",
        "'do', 'da', 'em', \n",
        "'um', 'para', 'é', \n",
        "'com', 'não', 'uma', \n",
        "'os', 'no', 'se', 'na', \n",
        "'por', 'mais', 'as', 'dos', \n",
        "'como', 'mas', 'foi', 'ao',\n",
        " 'ele', 'das', 'tem ','à',\n",
        "'seu','sua','ou' ,\n",
        "'ser' ,'quando', \n",
        "'muito' ,'há' ,\n",
        "'nos' ,'já' ,\n",
        "'está','eu' ,\n",
        "'também','só' ,\n",
        "'pelo', 'pela' ,\n",
        "'até' ,'isso' ,\n",
        "'ela' ,'entre', \n",
        "'era' ,'depois', \n",
        "'sem','mesmo', \n",
        "'aos' ,'ter' ,\n",
        "'seus' ,'quem' ,\n",
        "'nas' ,'me' ,\n",
        "'esse','eles' ,\n",
        "'estão','você' ,\n",
        "'tinha' ,'foram' ,\n",
        "'essa' ,'num',\n",
        "'nem' ,'suas' ,\n",
        "'meu' ,'às' ,\n",
        "'minha','têm' ,\n",
        "'numa' ,'pelos' ,\n",
        "'elas' ,'havia' ,\n",
        "'seja' ,'qual' ,\n",
        "'será' ,'nós' ,\n",
        "'tenho','lhe' ,\n",
        "'deles','essas' ,\n",
        "'esses' ,'pelas' ,\n",
        "'este' ,'fosse' ,\n",
        "'dele' ,'tu' ,\n",
        "'te' ,'vocês' ,\n",
        "'vos','lhes',\n",
        "'meus','minhas',\n",
        "'teu' ,'tua',\n",
        "'teus','tuas',\n",
        "'nosso','nossa',\n",
        "'nossos','nossas',\n",
        "'dela','delas',\n",
        "'esta','estes',\n",
        "'estas','aquele',\n",
        "'aquela','aqueles',\n",
        "'aquelas','isto','aquilo']\n"
      ],
      "metadata": {
        "id": "kfJiUiqikcqV"
      },
      "execution_count": null,
      "outputs": []
    },
    {
      "cell_type": "code",
      "source": [
        "texto_tokenizado_stopwords = [] # aqui eu defino uma lista para dar o print depois\n",
        "\n",
        "for word in texto_tokenizado:\n",
        "    if word not in stopwords:\n",
        "        texto_tokenizado_stopwords.append(word)\n",
        "# acima eu defino que caso dentro daquela frase tenha uma das stopwords que está na lista, tem que ser removida\n",
        "texto_tokenizado_stopwords"
      ],
      "metadata": {
        "colab": {
          "base_uri": "https://localhost:8080/"
        },
        "id": "YzImjRKlkX6r",
        "outputId": "06fc0ec9-95a6-4651-890c-2ead3e07d774"
      },
      "execution_count": null,
      "outputs": [
        {
          "output_type": "execute_result",
          "data": {
            "text/plain": [
              "['Sou', 'grupo', 'BTG3', ',', 'curso', 'Sistemas', 'Informação', '!']"
            ]
          },
          "metadata": {},
          "execution_count": 14
        }
      ]
    },
    {
      "cell_type": "markdown",
      "source": [
        "## Stemming\n"
      ],
      "metadata": {
        "id": "bBmjuj4jkVOl"
      }
    },
    {
      "cell_type": "code",
      "source": [
        "texto_tokenizado_stopwords_stemming = [] # aqui eu defino uma lista para dar o print depois\n",
        "\n",
        "for word in texto_tokenizado_stopwords:\n",
        "    texto_tokenizado_stopwords_stemming.append([stemmer.stem(word)])\n",
        "#acima eu defino que as palavras devem voltar a sua raiz\n",
        "\n",
        "texto_tokenizado_stopwords_stemming"
      ],
      "metadata": {
        "colab": {
          "base_uri": "https://localhost:8080/"
        },
        "id": "6qSsLgPsk6GF",
        "outputId": "86555d61-22dd-4438-9223-d200e046c753"
      },
      "execution_count": null,
      "outputs": [
        {
          "output_type": "execute_result",
          "data": {
            "text/plain": [
              "[['sou'],\n",
              " ['grupo'],\n",
              " ['btg3'],\n",
              " [','],\n",
              " ['curso'],\n",
              " ['sistema'],\n",
              " ['informação'],\n",
              " ['!']]"
            ]
          },
          "metadata": {},
          "execution_count": 15
        }
      ]
    },
    {
      "cell_type": "markdown",
      "source": [
        "# Definição de funções"
      ],
      "metadata": {
        "id": "vobRAFWkiKyl"
      }
    },
    {
      "cell_type": "code",
      "source": [
        "def tokenizar(texto):\n",
        "  if isinstance(texto, str):\n",
        "      tokens = nltk.word_tokenize(texto)\n",
        "      return tokens\n",
        "  else:\n",
        "      return []"
      ],
      "metadata": {
        "id": "hj5Xkfppl1oG"
      },
      "execution_count": null,
      "outputs": []
    },
    {
      "cell_type": "code",
      "source": [
        "def remover_stop_words(tokens):\n",
        "    tokens_stopwords = []\n",
        "    for word in tokens:\n",
        "        if word not in stopwords:\n",
        "            tokens_stopwords.append(word)\n",
        "    return tokens_stopwords"
      ],
      "metadata": {
        "id": "NStQ3mEjl4HA"
      },
      "execution_count": null,
      "outputs": []
    },
    {
      "cell_type": "code",
      "source": [
        "def remover_pontuacao(tokens_stopwords):\n",
        "    tokens_sem_pontuacao = []\n",
        "    for token in tokens_stopwords:\n",
        "        token_sem_pontuacao = re.sub(r'[^\\w\\s]', '', token)\n",
        "        if token_sem_pontuacao != '':\n",
        "            tokens_sem_pontuacao.append(token_sem_pontuacao)\n",
        "    return tokens_sem_pontuacao"
      ],
      "metadata": {
        "id": "a8TBDduBl5wM"
      },
      "execution_count": null,
      "outputs": []
    },
    {
      "cell_type": "markdown",
      "source": [
        "# Testes das funções\n"
      ],
      "metadata": {
        "id": "RaIEV3cHnrhX"
      }
    },
    {
      "cell_type": "code",
      "source": [
        "teste_tokens = \"Sou do grupo BTG3, no curso de Sistemas de Informação!\"\n",
        "teste_tokens_feito = tokenizar(teste_tokens)\n",
        "print(teste_tokens_feito)"
      ],
      "metadata": {
        "colab": {
          "base_uri": "https://localhost:8080/"
        },
        "id": "XMwxkKA1nrSf",
        "outputId": "be57ab08-c5e8-4a0c-ab80-e10718beadd7"
      },
      "execution_count": null,
      "outputs": [
        {
          "output_type": "stream",
          "name": "stdout",
          "text": [
            "['Sou', 'do', 'grupo', 'BTG3', ',', 'no', 'curso', 'de', 'Sistemas', 'de', 'Informação', '!']\n"
          ]
        }
      ]
    },
    {
      "cell_type": "code",
      "source": [
        "teste_tokens_stopwords = remover_stop_words(teste_tokens_feito)\n",
        "print(teste_tokens_stopwords)"
      ],
      "metadata": {
        "colab": {
          "base_uri": "https://localhost:8080/"
        },
        "id": "Mvlsg-Fll8O8",
        "outputId": "26a4658e-704a-4988-e522-2bace233f16f"
      },
      "execution_count": null,
      "outputs": [
        {
          "output_type": "stream",
          "name": "stdout",
          "text": [
            "['Sou', 'grupo', 'BTG3', ',', 'curso', 'Sistemas', 'Informação', '!']\n"
          ]
        }
      ]
    },
    {
      "cell_type": "code",
      "source": [
        "teste_tokens_stopwords_pontuacao = remover_pontuacao(teste_tokens_stopwords)\n",
        "print(teste_tokens_stopwords_pontuacao)"
      ],
      "metadata": {
        "colab": {
          "base_uri": "https://localhost:8080/"
        },
        "id": "sj9z-bz4qGB0",
        "outputId": "cae13314-dbea-45ae-b166-4d93d29b6af9"
      },
      "execution_count": null,
      "outputs": [
        {
          "output_type": "stream",
          "name": "stdout",
          "text": [
            "['Sou', 'grupo', 'BTG3', 'curso', 'Sistemas', 'Informação']\n"
          ]
        }
      ]
    },
    {
      "cell_type": "markdown",
      "source": [
        "# Pipeline"
      ],
      "metadata": {
        "id": "a8Ujljkzq_sw"
      }
    },
    {
      "cell_type": "code",
      "source": [
        "def pipeline(comentario):\n",
        "      tokens_pipeline = tokenizar(comentario)\n",
        "      tokens_stopwords_pipeline = remover_stop_words(tokens_pipeline)\n",
        "      tokens_stopwords_pontuacao_pipeline = remover_pontuacao(tokens_stopwords_pipeline)\n",
        "      return tokens_stopwords_pontuacao_pipeline"
      ],
      "metadata": {
        "id": "j06APLzTrHyn"
      },
      "execution_count": null,
      "outputs": []
    },
    {
      "cell_type": "markdown",
      "source": [
        "# Gráficos"
      ],
      "metadata": {
        "id": "AINxEipluZqY"
      }
    },
    {
      "cell_type": "markdown",
      "source": [
        "## Criação de colunas para os gráficos"
      ],
      "metadata": {
        "id": "qahBu-YFvGfS"
      }
    },
    {
      "cell_type": "code",
      "source": [
        "dados_filtrados_limpo['texto_tokenizado'] = dados_filtrados_limpo['texto'].apply(tokenizar)\n",
        "dados_filtrados_limpo"
      ],
      "metadata": {
        "id": "tgmGQB0KuPAd"
      },
      "execution_count": null,
      "outputs": []
    },
    {
      "cell_type": "code",
      "source": [
        "dados_filtrados_limpo['texto_stop_words'] = dados_filtrados_limpo['texto_tokenizado'].apply(remover_stop_words)\n",
        "dados_filtrados_limpo"
      ],
      "metadata": {
        "id": "7hhNH5uoulgZ"
      },
      "execution_count": null,
      "outputs": []
    },
    {
      "cell_type": "code",
      "source": [
        "dados_filtrados_limpo['texto_pontuacao'] = dados_filtrados_limpo['texto_stop_words'].apply(remover_pontuacao)\n",
        "dados_filtrados_limpo"
      ],
      "metadata": {
        "id": "Ldbm-fHoul62"
      },
      "execution_count": null,
      "outputs": []
    },
    {
      "cell_type": "markdown",
      "source": [
        "## Plotagem de gráficos"
      ],
      "metadata": {
        "id": "-1iFn0W2vKeD"
      }
    },
    {
      "cell_type": "code",
      "source": [
        "# Criação de uma lista com todas as palavras\n",
        "all_words = [word for tokens in dados_filtrados_limpo['texto_pontuacao'] for word in tokens]\n",
        "\n",
        "# Plotagem do gráfico de dispersão\n",
        "plt.figure(figsize=(10, 6))\n",
        "nltk.FreqDist(all_words).plot(30)\n",
        "plt.xlabel('Palavra')\n",
        "plt.ylabel('Frequência')\n",
        "plt.title('Gráfico de Dispersão das Palavras')\n",
        "plt.show()\n"
      ],
      "metadata": {
        "colab": {
          "base_uri": "https://localhost:8080/",
          "height": 1000
        },
        "id": "cfkxqasXIx_z",
        "outputId": "30a6ffe1-bf87-4118-813e-00d23dc3cf17"
      },
      "execution_count": null,
      "outputs": [
        {
          "output_type": "display_data",
          "data": {
            "text/plain": [
              "<Figure size 1000x600 with 1 Axes>"
            ],
            "image/png": "[encoded data removed]"
          },
          "metadata": {}
        },
        {
          "output_type": "display_data",
          "data": {
            "text/plain": [
              "<Figure size 640x480 with 1 Axes>"
            ],
            "image/png": "[encoded data removed]"
          },
          "metadata": {}
        }
      ]
    },
    {
      "cell_type": "code",
      "source": [
        "# Contagem de palavras\n",
        "word_counts = dados_filtrados_limpo['texto_pontuacao'].explode().value_counts()\n",
        "\n",
        "# Plotagem do gráfico de barras\n",
        "plt.figure(figsize=(10, 6))\n",
        "word_counts.head(20).plot(kind='bar')\n",
        "plt.xlabel('Palavra')\n",
        "plt.ylabel('Contagem')\n",
        "plt.title('Top 20 Palavras Mais Frequentes')\n",
        "plt.show()\n"
      ],
      "metadata": {
        "colab": {
          "base_uri": "https://localhost:8080/",
          "height": 648
        },
        "id": "OcEgFvfg6UjH",
        "outputId": "a5b1f6f7-3a34-4271-a395-4d1caeb76345"
      },
      "execution_count": null,
      "outputs": [
        {
          "output_type": "display_data",
          "data": {
            "text/plain": [
              "<Figure size 1000x600 with 1 Axes>"
            ],
            "image/png": "[encoded data removed]"
          },
          "metadata": {}
        }
      ]
    },
    {
      "cell_type": "code",
      "source": [
        "# Contagem de palavras\n",
        "interacao_counts = dados_filtrados_limpo['tipoInteracao'].explode().value_counts()\n",
        "\n",
        "# Plotagem do gráfico de barras\n",
        "plt.figure(figsize=(10, 6))\n",
        "interacao_counts.head(3).plot(kind='bar')\n",
        "plt.xlabel('Interação')\n",
        "plt.ylabel('Contagem')\n",
        "plt.title('Interações')\n",
        "plt.show()"
      ],
      "metadata": {
        "colab": {
          "base_uri": "https://localhost:8080/",
          "height": 616
        },
        "id": "_e7OccSV5qnS",
        "outputId": "000276be-8d12-41ec-9dd6-439374c79f3b"
      },
      "execution_count": null,
      "outputs": [
        {
          "output_type": "display_data",
          "data": {
            "text/plain": [
              "<Figure size 1000x600 with 1 Axes>"
            ],
            "image/png": "[encoded data removed]"
          },
          "metadata": {}
        }
      ]
    },
    {
      "cell_type": "code",
      "source": [
        "# Contagem de palavras\n",
        "autor_counts = dados_filtrados_limpo['autor'].explode().value_counts()\n",
        "\n",
        "# Plotagem do gráfico de barras\n",
        "plt.figure(figsize=(10, 6))\n",
        "autor_counts.head(20).plot(kind='bar')\n",
        "plt.xlabel('Autores')\n",
        "plt.ylabel('Contagem')\n",
        "plt.title('Autores que mais comentam')\n",
        "plt.show()"
      ],
      "metadata": {
        "colab": {
          "base_uri": "https://localhost:8080/",
          "height": 717
        },
        "id": "CRdpzstH-QsN",
        "outputId": "4464e1aa-b8b0-4eef-9035-9c745fd0bd8e"
      },
      "execution_count": null,
      "outputs": [
        {
          "output_type": "display_data",
          "data": {
            "text/plain": [
              "<Figure size 1000x600 with 1 Axes>"
            ],
            "image/png": "[encoded data removed]"
          },
          "metadata": {}
        }
      ]
    },
    {
      "cell_type": "code",
      "source": [
        "# Contagem de palavras\n",
        "midia_counts = dados_filtrados_limpo['tipoMidia'].explode().value_counts()\n",
        "\n",
        "# Plotagem do gráfico de barras\n",
        "plt.figure(figsize=(10, 6))\n",
        "midia_counts.head(20).plot(kind='bar')\n",
        "plt.xlabel('Midia')\n",
        "plt.ylabel('Contagem')\n",
        "plt.title('Midias mais utilizadas')\n",
        "plt.show()"
      ],
      "metadata": {
        "colab": {
          "base_uri": "https://localhost:8080/",
          "height": 700
        },
        "id": "VIF6CuXk-fVI",
        "outputId": "5ba67d42-0d5c-4993-84b3-e0ea04cd8b2d"
      },
      "execution_count": null,
      "outputs": [
        {
          "output_type": "display_data",
          "data": {
            "text/plain": [
              "<Figure size 1000x600 with 1 Axes>"
            ],
            "image/png": "[encoded data removed]"
          },
          "metadata": {}
        }
      ]
    },
    {
      "cell_type": "code",
      "source": [],
      "metadata": {
        "id": "o2AmSfG4vVeF"
      },
      "execution_count": null,
      "outputs": []
    }
  ]
}