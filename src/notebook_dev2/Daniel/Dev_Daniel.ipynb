{
  "nbformat": 4,
  "nbformat_minor": 0,
  "metadata": {
    "colab": {
      "provenance": []
    },
    "kernelspec": {
      "name": "python3",
      "display_name": "Python 3"
    },
    "language_info": {
      "name": "python"
    }
  },
  "cells": [
    {
      "cell_type": "markdown",
      "source": [
        "# **Conexão com o Google Drive**"
      ],
      "metadata": {
        "id": "TLLPwSjdWDbz"
      }
    },
    {
      "cell_type": "code",
      "execution_count": null,
      "metadata": {
        "colab": {
          "base_uri": "https://localhost:8080/"
        },
        "id": "C0_5QefkEdFC",
        "outputId": "8b99b266-a2e2-444f-d0d9-7b1635ab7597"
      },
      "outputs": [
        {
          "output_type": "stream",
          "name": "stdout",
          "text": [
            "Drive already mounted at /content/drive; to attempt to forcibly remount, call drive.mount(\"/content/drive\", force_remount=True).\n"
          ]
        }
      ],
      "source": [
        "#Conectar com o Google Drive\n",
        "\n",
        "from google.colab import drive\n",
        "drive.mount('/content/drive')\n",
        "\n",
        "#Conectando o ambiente ao Google Drive"
      ]
    },
    {
      "cell_type": "markdown",
      "source": [
        "# **Instalação das bibliotecas**"
      ],
      "metadata": {
        "id": "UJqQfDBUWULn"
      }
    },
    {
      "cell_type": "code",
      "source": [
        "!pip install pandas\n",
        "!pip install matplotlib\n",
        "!pip install scikit-learn\n",
        "!pip install nltk\n",
        "!pip install unidecode\n",
        "import nltk\n",
        "nltk.download('stopwords')\n",
        "nltk.download('rslp')\n",
        "nltk.download('punkt')\n",
        "\n",
        "from nltk.corpus import stopwords\n",
        "from nltk.stem import RSLPStemmer\n",
        "from nltk.tokenize import word_tokenize"
      ],
      "metadata": {
        "colab": {
          "base_uri": "https://localhost:8080/"
        },
        "id": "FQO-VYf1WT1j",
        "outputId": "f1d2889f-74ff-46fb-f563-5bb115427c18"
      },
      "execution_count": null,
      "outputs": [
        {
          "output_type": "stream",
          "name": "stdout",
          "text": [
            "Looking in indexes: https://pypi.org/simple, https://us-python.pkg.dev/colab-wheels/public/simple/\n",
            "Requirement already satisfied: pandas in /usr/local/lib/python3.10/dist-packages (1.5.3)\n",
            "Requirement already satisfied: python-dateutil>=2.8.1 in /usr/local/lib/python3.10/dist-packages (from pandas) (2.8.2)\n",
            "Requirement already satisfied: pytz>=2020.1 in /usr/local/lib/python3.10/dist-packages (from pandas) (2022.7.1)\n",
            "Requirement already satisfied: numpy>=1.21.0 in /usr/local/lib/python3.10/dist-packages (from pandas) (1.22.4)\n",
            "Requirement already satisfied: six>=1.5 in /usr/local/lib/python3.10/dist-packages (from python-dateutil>=2.8.1->pandas) (1.16.0)\n",
            "Looking in indexes: https://pypi.org/simple, https://us-python.pkg.dev/colab-wheels/public/simple/\n",
            "Requirement already satisfied: matplotlib in /usr/local/lib/python3.10/dist-packages (3.7.1)\n",
            "Requirement already satisfied: contourpy>=1.0.1 in /usr/local/lib/python3.10/dist-packages (from matplotlib) (1.0.7)\n",
            "Requirement already satisfied: cycler>=0.10 in /usr/local/lib/python3.10/dist-packages (from matplotlib) (0.11.0)\n",
            "Requirement already satisfied: fonttools>=4.22.0 in /usr/local/lib/python3.10/dist-packages (from matplotlib) (4.39.3)\n",
            "Requirement already satisfied: kiwisolver>=1.0.1 in /usr/local/lib/python3.10/dist-packages (from matplotlib) (1.4.4)\n",
            "Requirement already satisfied: numpy>=1.20 in /usr/local/lib/python3.10/dist-packages (from matplotlib) (1.22.4)\n",
            "Requirement already satisfied: packaging>=20.0 in /usr/local/lib/python3.10/dist-packages (from matplotlib) (23.1)\n",
            "Requirement already satisfied: pillow>=6.2.0 in /usr/local/lib/python3.10/dist-packages (from matplotlib) (8.4.0)\n",
            "Requirement already satisfied: pyparsing>=2.3.1 in /usr/local/lib/python3.10/dist-packages (from matplotlib) (3.0.9)\n",
            "Requirement already satisfied: python-dateutil>=2.7 in /usr/local/lib/python3.10/dist-packages (from matplotlib) (2.8.2)\n",
            "Requirement already satisfied: six>=1.5 in /usr/local/lib/python3.10/dist-packages (from python-dateutil>=2.7->matplotlib) (1.16.0)\n",
            "Looking in indexes: https://pypi.org/simple, https://us-python.pkg.dev/colab-wheels/public/simple/\n",
            "Requirement already satisfied: scikit-learn in /usr/local/lib/python3.10/dist-packages (1.2.2)\n",
            "Requirement already satisfied: numpy>=1.17.3 in /usr/local/lib/python3.10/dist-packages (from scikit-learn) (1.22.4)\n",
            "Requirement already satisfied: scipy>=1.3.2 in /usr/local/lib/python3.10/dist-packages (from scikit-learn) (1.10.1)\n",
            "Requirement already satisfied: joblib>=1.1.1 in /usr/local/lib/python3.10/dist-packages (from scikit-learn) (1.2.0)\n",
            "Requirement already satisfied: threadpoolctl>=2.0.0 in /usr/local/lib/python3.10/dist-packages (from scikit-learn) (3.1.0)\n",
            "Looking in indexes: https://pypi.org/simple, https://us-python.pkg.dev/colab-wheels/public/simple/\n",
            "Requirement already satisfied: nltk in /usr/local/lib/python3.10/dist-packages (3.8.1)\n",
            "Requirement already satisfied: click in /usr/local/lib/python3.10/dist-packages (from nltk) (8.1.3)\n",
            "Requirement already satisfied: joblib in /usr/local/lib/python3.10/dist-packages (from nltk) (1.2.0)\n",
            "Requirement already satisfied: regex>=2021.8.3 in /usr/local/lib/python3.10/dist-packages (from nltk) (2022.10.31)\n",
            "Requirement already satisfied: tqdm in /usr/local/lib/python3.10/dist-packages (from nltk) (4.65.0)\n",
            "Looking in indexes: https://pypi.org/simple, https://us-python.pkg.dev/colab-wheels/public/simple/\n",
            "Requirement already satisfied: unidecode in /usr/local/lib/python3.10/dist-packages (1.3.6)\n"
          ]
        },
        {
          "output_type": "stream",
          "name": "stderr",
          "text": [
            "[nltk_data] Downloading package stopwords to /root/nltk_data...\n",
            "[nltk_data]   Package stopwords is already up-to-date!\n",
            "[nltk_data] Downloading package rslp to /root/nltk_data...\n",
            "[nltk_data]   Package rslp is already up-to-date!\n",
            "[nltk_data] Downloading package punkt to /root/nltk_data...\n",
            "[nltk_data]   Package punkt is already up-to-date!\n"
          ]
        }
      ]
    },
    {
      "cell_type": "markdown",
      "source": [
        "# **importação de bibliotecas**"
      ],
      "metadata": {
        "id": "ZB0w7nnFWdWh"
      }
    },
    {
      "cell_type": "code",
      "source": [
        "import pandas as pd\n",
        "from sklearn.feature_extraction.text import CountVectorizer, TfidfVectorizer\n",
        "from sklearn.naive_bayes import MultinomialNB\n",
        "from sklearn.metrics import accuracy_score, classification_report, confusion_matrix\n",
        "from nltk.corpus import stopwords\n",
        "from nltk.tokenize import word_tokenize"
      ],
      "metadata": {
        "id": "REU8Tzx5Wdi6"
      },
      "execution_count": null,
      "outputs": []
    },
    {
      "cell_type": "markdown",
      "source": [
        "# **Testes Isolados**"
      ],
      "metadata": {
        "id": "1pILHODzWree"
      }
    },
    {
      "cell_type": "code",
      "source": [
        "df = pd.read_excel('1.Base Inicial (1).xlsx')\n",
        "df.head(10)"
      ],
      "metadata": {
        "colab": {
          "base_uri": "https://localhost:8080/",
          "height": 722
        },
        "id": "jtWv6SPhWrvc",
        "outputId": "aaa0ea6a-b7db-4688-fa09-67ac2d8c803c"
      },
      "execution_count": null,
      "outputs": [
        {
          "output_type": "execute_result",
          "data": {
            "text/plain": [
              "   Column1  id       autor                                              texto  \\\n",
              "0        0   1  btgpactual  Olá, Ana Paula! Como vai?\\n\\nSentimos muito pe...   \n",
              "1        1   2  btgpactual  Olá, Rosana! Tudo bem?\\n\\nPara te orientarmos ...   \n",
              "2        2   3  btgpactual                       @luizantoniojovinodossan 🚀 💙   \n",
              "3        3   4  btgpactual  @ronialencar Boa tarde! Tudo bem?\\n\\nLamentamo...   \n",
              "4        4   5  btgpactual  Oi, Nelson! Tudo bem?\\n\\nPossuímos soluções co...   \n",
              "5        5   6  btgpactual  @bastosroberio Olá,tudo bem?\\n\\nHoje cobramos ...   \n",
              "6        6   7  btgpactual  @drmilior Olá! Tudo bem? \\n\\nTem sim! Você pod...   \n",
              "7        7   8  btgpactual  @galdino.runner, agradecemos o seu feedback! C...   \n",
              "8        8   9  btgpactual  Olá, Roni! Tudo bem?\\n\\nHoje cobramos uma corr...   \n",
              "9        9  10  btgpactual                                 @thlimaoficial 💙 🚀   \n",
              "\n",
              "     shortCode tipoInteracao tipoMidia        idInteracao              idPai  \\\n",
              "0  CkG9KXjpY2B         reply     REELS  17949834317264462  17988010663613927   \n",
              "1  CkG9KXjpY2B         reply     REELS  17968362370910874  17955765434145877   \n",
              "2  CkG9KXjpY2B         reply     REELS  17968676113804345  17868806699792839   \n",
              "3  CkG9KXjpY2B         reply     REELS  18045922528372377  18327741553009776   \n",
              "4  CkG9KXjpY2B         reply     REELS  17864851241797946  18159475801266342   \n",
              "5  CkG9KXjpY2B         reply     REELS  17936864405329104  17922908603504906   \n",
              "6  CkG9KXjpY2B         reply     REELS  18016933294444436  17988361012608637   \n",
              "7  CkG9KXjpY2B         reply     REELS  17951026520271188  18005904001497494   \n",
              "8  CkG9KXjpY2B         reply     REELS  17872872965780335  17845248896858599   \n",
              "9  CkG9KXjpY2B         reply     REELS  18160982416248106  18000409306478035   \n",
              "\n",
              "                                                 URL        dataPublicada  \\\n",
              "0  https://www.instagram.com/p/CkG9KXjpY2B/c/1798...  2022-10-25 15:35:24   \n",
              "1  https://www.instagram.com/p/CkG9KXjpY2B/c/1795...  2022-10-25 12:08:06   \n",
              "2  https://www.instagram.com/p/CkG9KXjpY2B/c/1786...  2022-10-25 08:16:15   \n",
              "3  https://www.instagram.com/p/CkG9KXjpY2B/c/1832...  2022-10-25 09:39:32   \n",
              "4  https://www.instagram.com/p/CkG9KXjpY2B/c/1815...  2022-10-25 09:38:38   \n",
              "5  https://www.instagram.com/p/CkG9KXjpY2B/c/1792...  2022-10-25 09:40:35   \n",
              "6  https://www.instagram.com/p/CkG9KXjpY2B/c/1798...  2022-10-25 09:37:43   \n",
              "7  https://www.instagram.com/p/CkG9KXjpY2B/c/1800...  2022-10-24 18:04:21   \n",
              "8  https://www.instagram.com/p/CkG9KXjpY2B/c/1784...  2022-10-24 18:03:21   \n",
              "9  https://www.instagram.com/p/CkG9KXjpY2B/c/1800...  2022-10-24 17:12:00   \n",
              "\n",
              "          dataInsercao  anomalia  probabilidadeAnomalia  processado  \\\n",
              "0  2022-10-25 21:52:54      -1.0                    0.0         0.0   \n",
              "1  2022-10-25 21:52:54      -1.0                    0.0         0.0   \n",
              "2  2022-10-25 21:52:54      -1.0                    0.0         0.0   \n",
              "3  2022-10-25 21:52:55      -1.0                    0.0         0.0   \n",
              "4  2022-10-25 21:52:55      -1.0                    0.0         0.0   \n",
              "5  2022-10-25 21:52:55      -1.0                    0.0         0.0   \n",
              "6  2022-10-25 21:52:55      -1.0                    0.0         0.0   \n",
              "7  2022-10-25 21:52:56      -1.0                    0.0         0.0   \n",
              "8  2022-10-25 21:52:56      -1.0                    0.0         0.0   \n",
              "9  2022-10-25 21:52:56      -1.0                    0.0         0.0   \n",
              "\n",
              "   contemHyperlink  \n",
              "0             -1.0  \n",
              "1             -1.0  \n",
              "2             -1.0  \n",
              "3             -1.0  \n",
              "4             -1.0  \n",
              "5             -1.0  \n",
              "6             -1.0  \n",
              "7             -1.0  \n",
              "8             -1.0  \n",
              "9             -1.0  "
            ],
            "text/html": [
              "\n",
              "  <div id=\"df-81c80f42-8160-4655-b966-5c0a142cb36e\">\n",
              "    <div class=\"colab-df-container\">\n",
              "      <div>\n",
              "<style scoped>\n",
              "    .dataframe tbody tr th:only-of-type {\n",
              "        vertical-align: middle;\n",
              "    }\n",
              "\n",
              "    .dataframe tbody tr th {\n",
              "        vertical-align: top;\n",
              "    }\n",
              "\n",
              "    .dataframe thead th {\n",
              "        text-align: right;\n",
              "    }\n",
              "</style>\n",
              "<table border=\"1\" class=\"dataframe\">\n",
              "  <thead>\n",
              "    <tr style=\"text-align: right;\">\n",
              "      <th></th>\n",
              "      <th>Column1</th>\n",
              "      <th>id</th>\n",
              "      <th>autor</th>\n",
              "      <th>texto</th>\n",
              "      <th>shortCode</th>\n",
              "      <th>tipoInteracao</th>\n",
              "      <th>tipoMidia</th>\n",
              "      <th>idInteracao</th>\n",
              "      <th>idPai</th>\n",
              "      <th>URL</th>\n",
              "      <th>dataPublicada</th>\n",
              "      <th>dataInsercao</th>\n",
              "      <th>anomalia</th>\n",
              "      <th>probabilidadeAnomalia</th>\n",
              "      <th>processado</th>\n",
              "      <th>contemHyperlink</th>\n",
              "    </tr>\n",
              "  </thead>\n",
              "  <tbody>\n",
              "    <tr>\n",
              "      <th>0</th>\n",
              "      <td>0</td>\n",
              "      <td>1</td>\n",
              "      <td>btgpactual</td>\n",
              "      <td>Olá, Ana Paula! Como vai?\\n\\nSentimos muito pe...</td>\n",
              "      <td>CkG9KXjpY2B</td>\n",
              "      <td>reply</td>\n",
              "      <td>REELS</td>\n",
              "      <td>17949834317264462</td>\n",
              "      <td>17988010663613927</td>\n",
              "      <td>https://www.instagram.com/p/CkG9KXjpY2B/c/1798...</td>\n",
              "      <td>2022-10-25 15:35:24</td>\n",
              "      <td>2022-10-25 21:52:54</td>\n",
              "      <td>-1.0</td>\n",
              "      <td>0.0</td>\n",
              "      <td>0.0</td>\n",
              "      <td>-1.0</td>\n",
              "    </tr>\n",
              "    <tr>\n",
              "      <th>1</th>\n",
              "      <td>1</td>\n",
              "      <td>2</td>\n",
              "      <td>btgpactual</td>\n",
              "      <td>Olá, Rosana! Tudo bem?\\n\\nPara te orientarmos ...</td>\n",
              "      <td>CkG9KXjpY2B</td>\n",
              "      <td>reply</td>\n",
              "      <td>REELS</td>\n",
              "      <td>17968362370910874</td>\n",
              "      <td>17955765434145877</td>\n",
              "      <td>https://www.instagram.com/p/CkG9KXjpY2B/c/1795...</td>\n",
              "      <td>2022-10-25 12:08:06</td>\n",
              "      <td>2022-10-25 21:52:54</td>\n",
              "      <td>-1.0</td>\n",
              "      <td>0.0</td>\n",
              "      <td>0.0</td>\n",
              "      <td>-1.0</td>\n",
              "    </tr>\n",
              "    <tr>\n",
              "      <th>2</th>\n",
              "      <td>2</td>\n",
              "      <td>3</td>\n",
              "      <td>btgpactual</td>\n",
              "      <td>@luizantoniojovinodossan 🚀 💙</td>\n",
              "      <td>CkG9KXjpY2B</td>\n",
              "      <td>reply</td>\n",
              "      <td>REELS</td>\n",
              "      <td>17968676113804345</td>\n",
              "      <td>17868806699792839</td>\n",
              "      <td>https://www.instagram.com/p/CkG9KXjpY2B/c/1786...</td>\n",
              "      <td>2022-10-25 08:16:15</td>\n",
              "      <td>2022-10-25 21:52:54</td>\n",
              "      <td>-1.0</td>\n",
              "      <td>0.0</td>\n",
              "      <td>0.0</td>\n",
              "      <td>-1.0</td>\n",
              "    </tr>\n",
              "    <tr>\n",
              "      <th>3</th>\n",
              "      <td>3</td>\n",
              "      <td>4</td>\n",
              "      <td>btgpactual</td>\n",
              "      <td>@ronialencar Boa tarde! Tudo bem?\\n\\nLamentamo...</td>\n",
              "      <td>CkG9KXjpY2B</td>\n",
              "      <td>reply</td>\n",
              "      <td>REELS</td>\n",
              "      <td>18045922528372377</td>\n",
              "      <td>18327741553009776</td>\n",
              "      <td>https://www.instagram.com/p/CkG9KXjpY2B/c/1832...</td>\n",
              "      <td>2022-10-25 09:39:32</td>\n",
              "      <td>2022-10-25 21:52:55</td>\n",
              "      <td>-1.0</td>\n",
              "      <td>0.0</td>\n",
              "      <td>0.0</td>\n",
              "      <td>-1.0</td>\n",
              "    </tr>\n",
              "    <tr>\n",
              "      <th>4</th>\n",
              "      <td>4</td>\n",
              "      <td>5</td>\n",
              "      <td>btgpactual</td>\n",
              "      <td>Oi, Nelson! Tudo bem?\\n\\nPossuímos soluções co...</td>\n",
              "      <td>CkG9KXjpY2B</td>\n",
              "      <td>reply</td>\n",
              "      <td>REELS</td>\n",
              "      <td>17864851241797946</td>\n",
              "      <td>18159475801266342</td>\n",
              "      <td>https://www.instagram.com/p/CkG9KXjpY2B/c/1815...</td>\n",
              "      <td>2022-10-25 09:38:38</td>\n",
              "      <td>2022-10-25 21:52:55</td>\n",
              "      <td>-1.0</td>\n",
              "      <td>0.0</td>\n",
              "      <td>0.0</td>\n",
              "      <td>-1.0</td>\n",
              "    </tr>\n",
              "    <tr>\n",
              "      <th>5</th>\n",
              "      <td>5</td>\n",
              "      <td>6</td>\n",
              "      <td>btgpactual</td>\n",
              "      <td>@bastosroberio Olá,tudo bem?\\n\\nHoje cobramos ...</td>\n",
              "      <td>CkG9KXjpY2B</td>\n",
              "      <td>reply</td>\n",
              "      <td>REELS</td>\n",
              "      <td>17936864405329104</td>\n",
              "      <td>17922908603504906</td>\n",
              "      <td>https://www.instagram.com/p/CkG9KXjpY2B/c/1792...</td>\n",
              "      <td>2022-10-25 09:40:35</td>\n",
              "      <td>2022-10-25 21:52:55</td>\n",
              "      <td>-1.0</td>\n",
              "      <td>0.0</td>\n",
              "      <td>0.0</td>\n",
              "      <td>-1.0</td>\n",
              "    </tr>\n",
              "    <tr>\n",
              "      <th>6</th>\n",
              "      <td>6</td>\n",
              "      <td>7</td>\n",
              "      <td>btgpactual</td>\n",
              "      <td>@drmilior Olá! Tudo bem? \\n\\nTem sim! Você pod...</td>\n",
              "      <td>CkG9KXjpY2B</td>\n",
              "      <td>reply</td>\n",
              "      <td>REELS</td>\n",
              "      <td>18016933294444436</td>\n",
              "      <td>17988361012608637</td>\n",
              "      <td>https://www.instagram.com/p/CkG9KXjpY2B/c/1798...</td>\n",
              "      <td>2022-10-25 09:37:43</td>\n",
              "      <td>2022-10-25 21:52:55</td>\n",
              "      <td>-1.0</td>\n",
              "      <td>0.0</td>\n",
              "      <td>0.0</td>\n",
              "      <td>-1.0</td>\n",
              "    </tr>\n",
              "    <tr>\n",
              "      <th>7</th>\n",
              "      <td>7</td>\n",
              "      <td>8</td>\n",
              "      <td>btgpactual</td>\n",
              "      <td>@galdino.runner, agradecemos o seu feedback! C...</td>\n",
              "      <td>CkG9KXjpY2B</td>\n",
              "      <td>reply</td>\n",
              "      <td>REELS</td>\n",
              "      <td>17951026520271188</td>\n",
              "      <td>18005904001497494</td>\n",
              "      <td>https://www.instagram.com/p/CkG9KXjpY2B/c/1800...</td>\n",
              "      <td>2022-10-24 18:04:21</td>\n",
              "      <td>2022-10-25 21:52:56</td>\n",
              "      <td>-1.0</td>\n",
              "      <td>0.0</td>\n",
              "      <td>0.0</td>\n",
              "      <td>-1.0</td>\n",
              "    </tr>\n",
              "    <tr>\n",
              "      <th>8</th>\n",
              "      <td>8</td>\n",
              "      <td>9</td>\n",
              "      <td>btgpactual</td>\n",
              "      <td>Olá, Roni! Tudo bem?\\n\\nHoje cobramos uma corr...</td>\n",
              "      <td>CkG9KXjpY2B</td>\n",
              "      <td>reply</td>\n",
              "      <td>REELS</td>\n",
              "      <td>17872872965780335</td>\n",
              "      <td>17845248896858599</td>\n",
              "      <td>https://www.instagram.com/p/CkG9KXjpY2B/c/1784...</td>\n",
              "      <td>2022-10-24 18:03:21</td>\n",
              "      <td>2022-10-25 21:52:56</td>\n",
              "      <td>-1.0</td>\n",
              "      <td>0.0</td>\n",
              "      <td>0.0</td>\n",
              "      <td>-1.0</td>\n",
              "    </tr>\n",
              "    <tr>\n",
              "      <th>9</th>\n",
              "      <td>9</td>\n",
              "      <td>10</td>\n",
              "      <td>btgpactual</td>\n",
              "      <td>@thlimaoficial 💙 🚀</td>\n",
              "      <td>CkG9KXjpY2B</td>\n",
              "      <td>reply</td>\n",
              "      <td>REELS</td>\n",
              "      <td>18160982416248106</td>\n",
              "      <td>18000409306478035</td>\n",
              "      <td>https://www.instagram.com/p/CkG9KXjpY2B/c/1800...</td>\n",
              "      <td>2022-10-24 17:12:00</td>\n",
              "      <td>2022-10-25 21:52:56</td>\n",
              "      <td>-1.0</td>\n",
              "      <td>0.0</td>\n",
              "      <td>0.0</td>\n",
              "      <td>-1.0</td>\n",
              "    </tr>\n",
              "  </tbody>\n",
              "</table>\n",
              "</div>\n",
              "      <button class=\"colab-df-convert\" onclick=\"convertToInteractive('df-81c80f42-8160-4655-b966-5c0a142cb36e')\"\n",
              "              title=\"Convert this dataframe to an interactive table.\"\n",
              "              style=\"display:none;\">\n",
              "        \n",
              "  <svg xmlns=\"http://www.w3.org/2000/svg\" height=\"24px\"viewBox=\"0 0 24 24\"\n",
              "       width=\"24px\">\n",
              "    <path d=\"M0 0h24v24H0V0z\" fill=\"none\"/>\n",
              "    <path d=\"M18.56 5.44l.94 2.06.94-2.06 2.06-.94-2.06-.94-.94-2.06-.94 2.06-2.06.94zm-11 1L8.5 8.5l.94-2.06 2.06-.94-2.06-.94L8.5 2.5l-.94 2.06-2.06.94zm10 10l.94 2.06.94-2.06 2.06-.94-2.06-.94-.94-2.06-.94 2.06-2.06.94z\"/><path d=\"M17.41 7.96l-1.37-1.37c-.4-.4-.92-.59-1.43-.59-.52 0-1.04.2-1.43.59L10.3 9.45l-7.72 7.72c-.78.78-.78 2.05 0 2.83L4 21.41c.39.39.9.59 1.41.59.51 0 1.02-.2 1.41-.59l7.78-7.78 2.81-2.81c.8-.78.8-2.07 0-2.86zM5.41 20L4 18.59l7.72-7.72 1.47 1.35L5.41 20z\"/>\n",
              "  </svg>\n",
              "      </button>\n",
              "      \n",
              "  <style>\n",
              "    .colab-df-container {\n",
              "      display:flex;\n",
              "      flex-wrap:wrap;\n",
              "      gap: 12px;\n",
              "    }\n",
              "\n",
              "    .colab-df-convert {\n",
              "      background-color: #E8F0FE;\n",
              "      border: none;\n",
              "      border-radius: 50%;\n",
              "      cursor: pointer;\n",
              "      display: none;\n",
              "      fill: #1967D2;\n",
              "      height: 32px;\n",
              "      padding: 0 0 0 0;\n",
              "      width: 32px;\n",
              "    }\n",
              "\n",
              "    .colab-df-convert:hover {\n",
              "      background-color: #E2EBFA;\n",
              "      box-shadow: 0px 1px 2px rgba(60, 64, 67, 0.3), 0px 1px 3px 1px rgba(60, 64, 67, 0.15);\n",
              "      fill: #174EA6;\n",
              "    }\n",
              "\n",
              "    [theme=dark] .colab-df-convert {\n",
              "      background-color: #3B4455;\n",
              "      fill: #D2E3FC;\n",
              "    }\n",
              "\n",
              "    [theme=dark] .colab-df-convert:hover {\n",
              "      background-color: #434B5C;\n",
              "      box-shadow: 0px 1px 3px 1px rgba(0, 0, 0, 0.15);\n",
              "      filter: drop-shadow(0px 1px 2px rgba(0, 0, 0, 0.3));\n",
              "      fill: #FFFFFF;\n",
              "    }\n",
              "  </style>\n",
              "\n",
              "      <script>\n",
              "        const buttonEl =\n",
              "          document.querySelector('#df-81c80f42-8160-4655-b966-5c0a142cb36e button.colab-df-convert');\n",
              "        buttonEl.style.display =\n",
              "          google.colab.kernel.accessAllowed ? 'block' : 'none';\n",
              "\n",
              "        async function convertToInteractive(key) {\n",
              "          const element = document.querySelector('#df-81c80f42-8160-4655-b966-5c0a142cb36e');\n",
              "          const dataTable =\n",
              "            await google.colab.kernel.invokeFunction('convertToInteractive',\n",
              "                                                     [key], {});\n",
              "          if (!dataTable) return;\n",
              "\n",
              "          const docLinkHtml = 'Like what you see? Visit the ' +\n",
              "            '<a target=\"_blank\" href=https://colab.research.google.com/notebooks/data_table.ipynb>data table notebook</a>'\n",
              "            + ' to learn more about interactive tables.';\n",
              "          element.innerHTML = '';\n",
              "          dataTable['output_type'] = 'display_data';\n",
              "          await google.colab.output.renderOutput(dataTable, element);\n",
              "          const docLink = document.createElement('div');\n",
              "          docLink.innerHTML = docLinkHtml;\n",
              "          element.appendChild(docLink);\n",
              "        }\n",
              "      </script>\n",
              "    </div>\n",
              "  </div>\n",
              "  "
            ]
          },
          "metadata": {},
          "execution_count": 9
        }
      ]
    },
    {
      "cell_type": "code",
      "source": [
        "#pega apenas a coluna 'texto'\n",
        "texto = df['texto']\n",
        "print(texto)"
      ],
      "metadata": {
        "colab": {
          "base_uri": "https://localhost:8080/"
        },
        "id": "xGG71l3_1Iwr",
        "outputId": "651eceeb-8f85-4d36-e8d4-f13b23bd70e6"
      },
      "execution_count": null,
      "outputs": [
        {
          "output_type": "stream",
          "name": "stdout",
          "text": [
            "0       Olá, Ana Paula! Como vai?\\n\\nSentimos muito pe...\n",
            "1       Olá, Rosana! Tudo bem?\\n\\nPara te orientarmos ...\n",
            "2                            @luizantoniojovinodossan 🚀 💙\n",
            "3       @ronialencar Boa tarde! Tudo bem?\\n\\nLamentamo...\n",
            "4       Oi, Nelson! Tudo bem?\\n\\nPossuímos soluções co...\n",
            "                              ...                        \n",
            "4544    Estão contratando muitos blogueiros, mas eu fi...\n",
            "4545                                            @xubs._ 💙\n",
            "4546                        Agradecemos o seu feedback! 💙\n",
            "4547                           Arrasa Micaaa 💙✨🙏🏼👏🏼👏🏼👏🏼👏🏼\n",
            "4548                                        Excelência! 👏\n",
            "Name: texto, Length: 4549, dtype: object\n"
          ]
        }
      ]
    },
    {
      "cell_type": "code",
      "source": [
        "autor = df['autor'].count()\n",
        "autor"
      ],
      "metadata": {
        "colab": {
          "base_uri": "https://localhost:8080/"
        },
        "id": "j8cRAaGr16e5",
        "outputId": "c20139bb-3d70-4eb0-80a5-46d22b8a3589"
      },
      "execution_count": null,
      "outputs": [
        {
          "output_type": "execute_result",
          "data": {
            "text/plain": [
              "4449"
            ]
          },
          "metadata": {},
          "execution_count": 11
        }
      ]
    },
    {
      "cell_type": "code",
      "source": [
        "df_filtered = df.loc[df['autor'] != 'btgpactual']\n",
        "df_filtered"
      ],
      "metadata": {
        "colab": {
          "base_uri": "https://localhost:8080/",
          "height": 783
        },
        "id": "ovdGyQhY1-HY",
        "outputId": "941d83f1-dd11-4bfb-a395-25835a6d34d0"
      },
      "execution_count": null,
      "outputs": [
        {
          "output_type": "execute_result",
          "data": {
            "text/plain": [
              "      Column1       id                    autor  \\\n",
              "10         10       11    matheusriosortodontia   \n",
              "13         13       14             erikacoimbra   \n",
              "14         14       15           anapaulanakade   \n",
              "15         15       16             rosanakassar   \n",
              "16         16       17  luizantoniojovinodossan   \n",
              "...       ...      ...                      ...   \n",
              "4542     4542  3028275              gui.decicco   \n",
              "4543     4543  3028307               giballiana   \n",
              "4544     4544  3028308            caioaugustofr   \n",
              "4547     4547  3029097           je_mascarenhas   \n",
              "4548     4548  3029149                linequer_   \n",
              "\n",
              "                                                  texto    shortCode  \\\n",
              "10    @gustavopaulinno Realmente. Ja rodei por aí e ...  CkG9KXjpY2B   \n",
              "13                                                  👏👏👏  CkG9KXjpY2B   \n",
              "14    O app está travando desde ontem, está em manut...  CkG9KXjpY2B   \n",
              "15    Abri uma conta, mas achei muito complicado inv...  CkG9KXjpY2B   \n",
              "16                                                    👏  CkG9KXjpY2B   \n",
              "...                                                 ...          ...   \n",
              "4542  Participe da conferência econômica mais import...  Cn5MCVvP1H3   \n",
              "4543                              A melhor que temos 🥰🥰  Cn4bcg7LM4t   \n",
              "4544  Estão contratando muitos blogueiros, mas eu fi...  Cn4bcg7LM4t   \n",
              "4547                         Arrasa Micaaa 💙✨🙏🏼👏🏼👏🏼👏🏼👏🏼  Cn4bcg7LM4t   \n",
              "4548                                      Excelência! 👏  CnzSr6ltH74   \n",
              "\n",
              "     tipoInteracao       tipoMidia        idInteracao              idPai  \\\n",
              "10           reply           REELS  17961352247055161  17983688287717831   \n",
              "13         comment           REELS  17943066782219685                  -   \n",
              "14         comment           REELS  17988010663613927                  -   \n",
              "15         comment           REELS  17955765434145877                  -   \n",
              "16         comment           REELS  17868806699792839                  -   \n",
              "...            ...             ...                ...                ...   \n",
              "4542       mention  CAROUSEL_ALBUM  17989315081750052                  -   \n",
              "4543       comment           REELS  17913917285610958                  -   \n",
              "4544       comment           REELS  17965800242039792                  -   \n",
              "4547       comment           REELS  17969884580114389                  -   \n",
              "4548       comment           REELS  17992357330670534                  -   \n",
              "\n",
              "                                                    URL        dataPublicada  \\\n",
              "10    https://www.instagram.com/p/CkG9KXjpY2B/c/1798...  2022-10-24 17:40:49   \n",
              "13    https://www.instagram.com/p/CkG9KXjpY2B/c/1794...  2022-10-25 19:13:45   \n",
              "14    https://www.instagram.com/p/CkG9KXjpY2B/c/1798...  2022-10-25 12:54:54   \n",
              "15    https://www.instagram.com/p/CkG9KXjpY2B/c/1795...  2022-10-25 12:03:51   \n",
              "16    https://www.instagram.com/p/CkG9KXjpY2B/c/1786...  2022-10-25 00:30:31   \n",
              "...                                                 ...                  ...   \n",
              "4542           https://www.instagram.com/p/Cn5MCVvP1H3/  2023-01-26 18:31:44   \n",
              "4543  https://www.instagram.com/p/Cn4bcg7LM4t/c/1791...  2023-01-26 18:47:19   \n",
              "4544  https://www.instagram.com/p/Cn4bcg7LM4t/c/1796...  2023-01-26 18:41:35   \n",
              "4547  https://www.instagram.com/p/Cn4bcg7LM4t/c/1796...  2023-01-26 19:26:41   \n",
              "4548  https://www.instagram.com/p/CnzSr6ltH74/c/1799...  2023-01-26 19:28:33   \n",
              "\n",
              "             dataInsercao  anomalia  probabilidadeAnomalia  processado  \\\n",
              "10    2022-10-25 21:52:56      -1.0                    0.0         0.0   \n",
              "13    2022-10-25 21:52:57      -1.0                    0.0         0.0   \n",
              "14    2022-10-25 21:52:57      -1.0                    0.0         0.0   \n",
              "15    2022-10-25 21:52:58      -1.0                    0.0         0.0   \n",
              "16    2022-10-25 21:52:58      -1.0                    0.0         0.0   \n",
              "...                   ...       ...                    ...         ...   \n",
              "4542  2023-01-26 18:35:02      -1.0                    0.0         0.0   \n",
              "4543  2023-01-26 19:01:29      -1.0                    0.0         0.0   \n",
              "4544  2023-01-26 19:01:29      -1.0                    0.0         0.0   \n",
              "4547  2023-01-26 19:31:45      -1.0                    0.0         0.0   \n",
              "4548  2023-01-26 19:31:58      -1.0                    0.0         0.0   \n",
              "\n",
              "      contemHyperlink  \n",
              "10               -1.0  \n",
              "13               -1.0  \n",
              "14               -1.0  \n",
              "15               -1.0  \n",
              "16               -1.0  \n",
              "...               ...  \n",
              "4542             -1.0  \n",
              "4543             -1.0  \n",
              "4544             -1.0  \n",
              "4547             -1.0  \n",
              "4548             -1.0  \n",
              "\n",
              "[3653 rows x 16 columns]"
            ],
            "text/html": [
              "\n",
              "  <div id=\"df-df4c664e-fa74-48ef-b0bd-c9ff1f95f626\">\n",
              "    <div class=\"colab-df-container\">\n",
              "      <div>\n",
              "<style scoped>\n",
              "    .dataframe tbody tr th:only-of-type {\n",
              "        vertical-align: middle;\n",
              "    }\n",
              "\n",
              "    .dataframe tbody tr th {\n",
              "        vertical-align: top;\n",
              "    }\n",
              "\n",
              "    .dataframe thead th {\n",
              "        text-align: right;\n",
              "    }\n",
              "</style>\n",
              "<table border=\"1\" class=\"dataframe\">\n",
              "  <thead>\n",
              "    <tr style=\"text-align: right;\">\n",
              "      <th></th>\n",
              "      <th>Column1</th>\n",
              "      <th>id</th>\n",
              "      <th>autor</th>\n",
              "      <th>texto</th>\n",
              "      <th>shortCode</th>\n",
              "      <th>tipoInteracao</th>\n",
              "      <th>tipoMidia</th>\n",
              "      <th>idInteracao</th>\n",
              "      <th>idPai</th>\n",
              "      <th>URL</th>\n",
              "      <th>dataPublicada</th>\n",
              "      <th>dataInsercao</th>\n",
              "      <th>anomalia</th>\n",
              "      <th>probabilidadeAnomalia</th>\n",
              "      <th>processado</th>\n",
              "      <th>contemHyperlink</th>\n",
              "    </tr>\n",
              "  </thead>\n",
              "  <tbody>\n",
              "    <tr>\n",
              "      <th>10</th>\n",
              "      <td>10</td>\n",
              "      <td>11</td>\n",
              "      <td>matheusriosortodontia</td>\n",
              "      <td>@gustavopaulinno Realmente. Ja rodei por aí e ...</td>\n",
              "      <td>CkG9KXjpY2B</td>\n",
              "      <td>reply</td>\n",
              "      <td>REELS</td>\n",
              "      <td>17961352247055161</td>\n",
              "      <td>17983688287717831</td>\n",
              "      <td>https://www.instagram.com/p/CkG9KXjpY2B/c/1798...</td>\n",
              "      <td>2022-10-24 17:40:49</td>\n",
              "      <td>2022-10-25 21:52:56</td>\n",
              "      <td>-1.0</td>\n",
              "      <td>0.0</td>\n",
              "      <td>0.0</td>\n",
              "      <td>-1.0</td>\n",
              "    </tr>\n",
              "    <tr>\n",
              "      <th>13</th>\n",
              "      <td>13</td>\n",
              "      <td>14</td>\n",
              "      <td>erikacoimbra</td>\n",
              "      <td>👏👏👏</td>\n",
              "      <td>CkG9KXjpY2B</td>\n",
              "      <td>comment</td>\n",
              "      <td>REELS</td>\n",
              "      <td>17943066782219685</td>\n",
              "      <td>-</td>\n",
              "      <td>https://www.instagram.com/p/CkG9KXjpY2B/c/1794...</td>\n",
              "      <td>2022-10-25 19:13:45</td>\n",
              "      <td>2022-10-25 21:52:57</td>\n",
              "      <td>-1.0</td>\n",
              "      <td>0.0</td>\n",
              "      <td>0.0</td>\n",
              "      <td>-1.0</td>\n",
              "    </tr>\n",
              "    <tr>\n",
              "      <th>14</th>\n",
              "      <td>14</td>\n",
              "      <td>15</td>\n",
              "      <td>anapaulanakade</td>\n",
              "      <td>O app está travando desde ontem, está em manut...</td>\n",
              "      <td>CkG9KXjpY2B</td>\n",
              "      <td>comment</td>\n",
              "      <td>REELS</td>\n",
              "      <td>17988010663613927</td>\n",
              "      <td>-</td>\n",
              "      <td>https://www.instagram.com/p/CkG9KXjpY2B/c/1798...</td>\n",
              "      <td>2022-10-25 12:54:54</td>\n",
              "      <td>2022-10-25 21:52:57</td>\n",
              "      <td>-1.0</td>\n",
              "      <td>0.0</td>\n",
              "      <td>0.0</td>\n",
              "      <td>-1.0</td>\n",
              "    </tr>\n",
              "    <tr>\n",
              "      <th>15</th>\n",
              "      <td>15</td>\n",
              "      <td>16</td>\n",
              "      <td>rosanakassar</td>\n",
              "      <td>Abri uma conta, mas achei muito complicado inv...</td>\n",
              "      <td>CkG9KXjpY2B</td>\n",
              "      <td>comment</td>\n",
              "      <td>REELS</td>\n",
              "      <td>17955765434145877</td>\n",
              "      <td>-</td>\n",
              "      <td>https://www.instagram.com/p/CkG9KXjpY2B/c/1795...</td>\n",
              "      <td>2022-10-25 12:03:51</td>\n",
              "      <td>2022-10-25 21:52:58</td>\n",
              "      <td>-1.0</td>\n",
              "      <td>0.0</td>\n",
              "      <td>0.0</td>\n",
              "      <td>-1.0</td>\n",
              "    </tr>\n",
              "    <tr>\n",
              "      <th>16</th>\n",
              "      <td>16</td>\n",
              "      <td>17</td>\n",
              "      <td>luizantoniojovinodossan</td>\n",
              "      <td>👏</td>\n",
              "      <td>CkG9KXjpY2B</td>\n",
              "      <td>comment</td>\n",
              "      <td>REELS</td>\n",
              "      <td>17868806699792839</td>\n",
              "      <td>-</td>\n",
              "      <td>https://www.instagram.com/p/CkG9KXjpY2B/c/1786...</td>\n",
              "      <td>2022-10-25 00:30:31</td>\n",
              "      <td>2022-10-25 21:52:58</td>\n",
              "      <td>-1.0</td>\n",
              "      <td>0.0</td>\n",
              "      <td>0.0</td>\n",
              "      <td>-1.0</td>\n",
              "    </tr>\n",
              "    <tr>\n",
              "      <th>...</th>\n",
              "      <td>...</td>\n",
              "      <td>...</td>\n",
              "      <td>...</td>\n",
              "      <td>...</td>\n",
              "      <td>...</td>\n",
              "      <td>...</td>\n",
              "      <td>...</td>\n",
              "      <td>...</td>\n",
              "      <td>...</td>\n",
              "      <td>...</td>\n",
              "      <td>...</td>\n",
              "      <td>...</td>\n",
              "      <td>...</td>\n",
              "      <td>...</td>\n",
              "      <td>...</td>\n",
              "      <td>...</td>\n",
              "    </tr>\n",
              "    <tr>\n",
              "      <th>4542</th>\n",
              "      <td>4542</td>\n",
              "      <td>3028275</td>\n",
              "      <td>gui.decicco</td>\n",
              "      <td>Participe da conferência econômica mais import...</td>\n",
              "      <td>Cn5MCVvP1H3</td>\n",
              "      <td>mention</td>\n",
              "      <td>CAROUSEL_ALBUM</td>\n",
              "      <td>17989315081750052</td>\n",
              "      <td>-</td>\n",
              "      <td>https://www.instagram.com/p/Cn5MCVvP1H3/</td>\n",
              "      <td>2023-01-26 18:31:44</td>\n",
              "      <td>2023-01-26 18:35:02</td>\n",
              "      <td>-1.0</td>\n",
              "      <td>0.0</td>\n",
              "      <td>0.0</td>\n",
              "      <td>-1.0</td>\n",
              "    </tr>\n",
              "    <tr>\n",
              "      <th>4543</th>\n",
              "      <td>4543</td>\n",
              "      <td>3028307</td>\n",
              "      <td>giballiana</td>\n",
              "      <td>A melhor que temos 🥰🥰</td>\n",
              "      <td>Cn4bcg7LM4t</td>\n",
              "      <td>comment</td>\n",
              "      <td>REELS</td>\n",
              "      <td>17913917285610958</td>\n",
              "      <td>-</td>\n",
              "      <td>https://www.instagram.com/p/Cn4bcg7LM4t/c/1791...</td>\n",
              "      <td>2023-01-26 18:47:19</td>\n",
              "      <td>2023-01-26 19:01:29</td>\n",
              "      <td>-1.0</td>\n",
              "      <td>0.0</td>\n",
              "      <td>0.0</td>\n",
              "      <td>-1.0</td>\n",
              "    </tr>\n",
              "    <tr>\n",
              "      <th>4544</th>\n",
              "      <td>4544</td>\n",
              "      <td>3028308</td>\n",
              "      <td>caioaugustofr</td>\n",
              "      <td>Estão contratando muitos blogueiros, mas eu fi...</td>\n",
              "      <td>Cn4bcg7LM4t</td>\n",
              "      <td>comment</td>\n",
              "      <td>REELS</td>\n",
              "      <td>17965800242039792</td>\n",
              "      <td>-</td>\n",
              "      <td>https://www.instagram.com/p/Cn4bcg7LM4t/c/1796...</td>\n",
              "      <td>2023-01-26 18:41:35</td>\n",
              "      <td>2023-01-26 19:01:29</td>\n",
              "      <td>-1.0</td>\n",
              "      <td>0.0</td>\n",
              "      <td>0.0</td>\n",
              "      <td>-1.0</td>\n",
              "    </tr>\n",
              "    <tr>\n",
              "      <th>4547</th>\n",
              "      <td>4547</td>\n",
              "      <td>3029097</td>\n",
              "      <td>je_mascarenhas</td>\n",
              "      <td>Arrasa Micaaa 💙✨🙏🏼👏🏼👏🏼👏🏼👏🏼</td>\n",
              "      <td>Cn4bcg7LM4t</td>\n",
              "      <td>comment</td>\n",
              "      <td>REELS</td>\n",
              "      <td>17969884580114389</td>\n",
              "      <td>-</td>\n",
              "      <td>https://www.instagram.com/p/Cn4bcg7LM4t/c/1796...</td>\n",
              "      <td>2023-01-26 19:26:41</td>\n",
              "      <td>2023-01-26 19:31:45</td>\n",
              "      <td>-1.0</td>\n",
              "      <td>0.0</td>\n",
              "      <td>0.0</td>\n",
              "      <td>-1.0</td>\n",
              "    </tr>\n",
              "    <tr>\n",
              "      <th>4548</th>\n",
              "      <td>4548</td>\n",
              "      <td>3029149</td>\n",
              "      <td>linequer_</td>\n",
              "      <td>Excelência! 👏</td>\n",
              "      <td>CnzSr6ltH74</td>\n",
              "      <td>comment</td>\n",
              "      <td>REELS</td>\n",
              "      <td>17992357330670534</td>\n",
              "      <td>-</td>\n",
              "      <td>https://www.instagram.com/p/CnzSr6ltH74/c/1799...</td>\n",
              "      <td>2023-01-26 19:28:33</td>\n",
              "      <td>2023-01-26 19:31:58</td>\n",
              "      <td>-1.0</td>\n",
              "      <td>0.0</td>\n",
              "      <td>0.0</td>\n",
              "      <td>-1.0</td>\n",
              "    </tr>\n",
              "  </tbody>\n",
              "</table>\n",
              "<p>3653 rows × 16 columns</p>\n",
              "</div>\n",
              "      <button class=\"colab-df-convert\" onclick=\"convertToInteractive('df-df4c664e-fa74-48ef-b0bd-c9ff1f95f626')\"\n",
              "              title=\"Convert this dataframe to an interactive table.\"\n",
              "              style=\"display:none;\">\n",
              "        \n",
              "  <svg xmlns=\"http://www.w3.org/2000/svg\" height=\"24px\"viewBox=\"0 0 24 24\"\n",
              "       width=\"24px\">\n",
              "    <path d=\"M0 0h24v24H0V0z\" fill=\"none\"/>\n",
              "    <path d=\"M18.56 5.44l.94 2.06.94-2.06 2.06-.94-2.06-.94-.94-2.06-.94 2.06-2.06.94zm-11 1L8.5 8.5l.94-2.06 2.06-.94-2.06-.94L8.5 2.5l-.94 2.06-2.06.94zm10 10l.94 2.06.94-2.06 2.06-.94-2.06-.94-.94-2.06-.94 2.06-2.06.94z\"/><path d=\"M17.41 7.96l-1.37-1.37c-.4-.4-.92-.59-1.43-.59-.52 0-1.04.2-1.43.59L10.3 9.45l-7.72 7.72c-.78.78-.78 2.05 0 2.83L4 21.41c.39.39.9.59 1.41.59.51 0 1.02-.2 1.41-.59l7.78-7.78 2.81-2.81c.8-.78.8-2.07 0-2.86zM5.41 20L4 18.59l7.72-7.72 1.47 1.35L5.41 20z\"/>\n",
              "  </svg>\n",
              "      </button>\n",
              "      \n",
              "  <style>\n",
              "    .colab-df-container {\n",
              "      display:flex;\n",
              "      flex-wrap:wrap;\n",
              "      gap: 12px;\n",
              "    }\n",
              "\n",
              "    .colab-df-convert {\n",
              "      background-color: #E8F0FE;\n",
              "      border: none;\n",
              "      border-radius: 50%;\n",
              "      cursor: pointer;\n",
              "      display: none;\n",
              "      fill: #1967D2;\n",
              "      height: 32px;\n",
              "      padding: 0 0 0 0;\n",
              "      width: 32px;\n",
              "    }\n",
              "\n",
              "    .colab-df-convert:hover {\n",
              "      background-color: #E2EBFA;\n",
              "      box-shadow: 0px 1px 2px rgba(60, 64, 67, 0.3), 0px 1px 3px 1px rgba(60, 64, 67, 0.15);\n",
              "      fill: #174EA6;\n",
              "    }\n",
              "\n",
              "    [theme=dark] .colab-df-convert {\n",
              "      background-color: #3B4455;\n",
              "      fill: #D2E3FC;\n",
              "    }\n",
              "\n",
              "    [theme=dark] .colab-df-convert:hover {\n",
              "      background-color: #434B5C;\n",
              "      box-shadow: 0px 1px 3px 1px rgba(0, 0, 0, 0.15);\n",
              "      filter: drop-shadow(0px 1px 2px rgba(0, 0, 0, 0.3));\n",
              "      fill: #FFFFFF;\n",
              "    }\n",
              "  </style>\n",
              "\n",
              "      <script>\n",
              "        const buttonEl =\n",
              "          document.querySelector('#df-df4c664e-fa74-48ef-b0bd-c9ff1f95f626 button.colab-df-convert');\n",
              "        buttonEl.style.display =\n",
              "          google.colab.kernel.accessAllowed ? 'block' : 'none';\n",
              "\n",
              "        async function convertToInteractive(key) {\n",
              "          const element = document.querySelector('#df-df4c664e-fa74-48ef-b0bd-c9ff1f95f626');\n",
              "          const dataTable =\n",
              "            await google.colab.kernel.invokeFunction('convertToInteractive',\n",
              "                                                     [key], {});\n",
              "          if (!dataTable) return;\n",
              "\n",
              "          const docLinkHtml = 'Like what you see? Visit the ' +\n",
              "            '<a target=\"_blank\" href=https://colab.research.google.com/notebooks/data_table.ipynb>data table notebook</a>'\n",
              "            + ' to learn more about interactive tables.';\n",
              "          element.innerHTML = '';\n",
              "          dataTable['output_type'] = 'display_data';\n",
              "          await google.colab.output.renderOutput(dataTable, element);\n",
              "          const docLink = document.createElement('div');\n",
              "          docLink.innerHTML = docLinkHtml;\n",
              "          element.appendChild(docLink);\n",
              "        }\n",
              "      </script>\n",
              "    </div>\n",
              "  </div>\n",
              "  "
            ]
          },
          "metadata": {},
          "execution_count": 12
        }
      ]
    },
    {
      "cell_type": "code",
      "source": [
        "df['tipoInteracao'].value_counts()"
      ],
      "metadata": {
        "colab": {
          "base_uri": "https://localhost:8080/"
        },
        "id": "aIk3tngZ23NT",
        "outputId": "a07d07b0-b57b-4d2d-82f6-c3b4e82f4832"
      },
      "execution_count": null,
      "outputs": [
        {
          "output_type": "execute_result",
          "data": {
            "text/plain": [
              "comment              2585\n",
              "reply                1208\n",
              "mention               600\n",
              "17989148149644662       1\n",
              "17941425488528299       1\n",
              "17940168110581080       1\n",
              "18029962657439794       1\n",
              "17892130889753631       1\n",
              "17959643528485936       1\n",
              "17956093724502556       1\n",
              "17955500384497942       1\n",
              "17953032530489386       1\n",
              "17936406785531503       1\n",
              "18079494631320397       1\n",
              "17947308392256542       1\n",
              "17959562249183697       1\n",
              "17972701729819821       1\n",
              "17984662891640337       1\n",
              "17996365177604135       1\n",
              "17934517190439239       1\n",
              "17962619965952420       1\n",
              "17986664653725147       1\n",
              "17989225051630664       1\n",
              "18186008719240695       1\n",
              "17969932015944037       1\n",
              "18002867089480998       1\n",
              "17960657227952465       1\n",
              "17963686748049432       1\n",
              "18060774460321501       1\n",
              "17989677946559344       1\n",
              "17991378589686392       1\n",
              "Name: tipoInteracao, dtype: int64"
            ]
          },
          "metadata": {},
          "execution_count": 13
        }
      ]
    },
    {
      "cell_type": "code",
      "source": [
        "#Calcula a quantidade de publicacoes em diferentes tipos de midia\n",
        "df['tipoMidia'].value_counts()"
      ],
      "metadata": {
        "colab": {
          "base_uri": "https://localhost:8080/"
        },
        "id": "iXHQqjRd3Dk8",
        "outputId": "db33e22c-577c-4422-aa08-c9d110ec7624"
      },
      "execution_count": null,
      "outputs": [
        {
          "output_type": "execute_result",
          "data": {
            "text/plain": [
              "REELS                2016\n",
              "FEED                 1777\n",
              "IMAGE                 215\n",
              "VIDEO                 201\n",
              "CAROUSEL_ALBUM        184\n",
              "-                      24\n",
              "18015162967458592       1\n",
              "18008430814504778       1\n",
              "17869519748783145       1\n",
              "18171016729261171       1\n",
              "Name: tipoMidia, dtype: int64"
            ]
          },
          "metadata": {},
          "execution_count": 14
        }
      ]
    },
    {
      "cell_type": "markdown",
      "source": [
        "# Funções"
      ],
      "metadata": {
        "id": "rqUkSX97Wa_i"
      }
    },
    {
      "cell_type": "markdown",
      "source": [
        "1) Stopwords, Tokenização e Pontuação"
      ],
      "metadata": {
        "id": "rOSE7H2bWlxy"
      }
    },
    {
      "cell_type": "code",
      "source": [
        "stop_words = set(stopwords.words('portuguese'))\n",
        "\n",
        "def tokenize_text(text):\n",
        "    if isinstance(text, str):\n",
        "        tokens = word_tokenize(text.lower())\n",
        "        tokens = [token for token in tokens if token.isalpha() and token not in stop_words]\n",
        "    else:\n",
        "        tokens = []\n",
        "    return tokens\n",
        "\n",
        "df['tokenized_text'] = df['texto'].apply(tokenize_text)\n",
        "print(df['tokenized_text'][0])"
      ],
      "metadata": {
        "colab": {
          "base_uri": "https://localhost:8080/"
        },
        "id": "6gLxrN7VWfj0",
        "outputId": "4e726d55-8b39-4a56-d183-aa868bdee123"
      },
      "execution_count": null,
      "outputs": [
        {
          "output_type": "stream",
          "name": "stdout",
          "text": [
            "['olá', 'ana', 'paula', 'vai', 'sentimos', 'ocorrrido', 'enviamos', 'mensagem', 'privada', 'ajudar', 'assertividade']\n"
          ]
        }
      ]
    },
    {
      "cell_type": "markdown",
      "source": [
        "2)Tokenização"
      ],
      "metadata": {
        "id": "91LB94-tXmnI"
      }
    },
    {
      "cell_type": "code",
      "source": [
        "def tokenize_text(text):\n",
        "    if isinstance(text, str):\n",
        "        tokens = word_tokenize(text)\n",
        "    else:\n",
        "        tokens = []\n",
        "    return tokens\n",
        "df['tokenized_text'] = df['texto'].apply(tokenize_text)\n",
        "print(df['tokenized_text'][0])"
      ],
      "metadata": {
        "colab": {
          "base_uri": "https://localhost:8080/"
        },
        "id": "qPaOAk4jX3Wh",
        "outputId": "3f6b44c3-1f9c-45c3-8157-d2fcda3cce1b"
      },
      "execution_count": null,
      "outputs": [
        {
          "output_type": "stream",
          "name": "stdout",
          "text": [
            "['Olá', ',', 'Ana', 'Paula', '!', 'Como', 'vai', '?', 'Sentimos', 'muito', 'pelo', 'ocorrrido', '.', 'Te', 'enviamos', 'uma', 'mensagem', 'privada', 'para', 'te', 'ajudar', 'com', 'mais', 'assertividade', '!']\n"
          ]
        }
      ]
    },
    {
      "cell_type": "markdown",
      "source": [
        "3)Steeming"
      ],
      "metadata": {
        "id": "gzBPIYFfX-eN"
      }
    },
    {
      "cell_type": "code",
      "source": [
        "import unicodedata\n",
        "from nltk.stem.snowball import SnowballStemmer\n",
        "\n",
        "def preprocess_text(text):\n",
        "    if isinstance(text, str):\n",
        "        text = ''.join(c for c in unicodedata.normalize('NFKD', text) if unicodedata.category(c) != 'Mn')\n",
        "        text = text.lower()\n",
        "    \n",
        "        stemmer = SnowballStemmer('portuguese')\n",
        "        words = text.split()\n",
        "        words = [stemmer.stem(word) for word in words]\n",
        "        text = ' '.join(words)\n",
        "        return text\n",
        "    else:\n",
        "        return text\n",
        "df['processed_text'] = df['texto'].apply(preprocess_text)\n",
        "print(df['processed_text'][0])"
      ],
      "metadata": {
        "colab": {
          "base_uri": "https://localhost:8080/"
        },
        "id": "gqYXPVWZX-qt",
        "outputId": "5e0d132a-d491-434d-c6cc-c1758267ba5a"
      },
      "execution_count": null,
      "outputs": [
        {
          "output_type": "stream",
          "name": "stdout",
          "text": [
            "ola, ana paula! com vai? sent muit pel ocorrrido. te envi uma mensag priv par te ajud com mais assertividade!\n"
          ]
        }
      ]
    },
    {
      "cell_type": "code",
      "source": [
        "import string\n",
        "import unicodedata\n",
        "from nltk.stem.snowball import SnowballStemmer\n",
        "from nltk.corpus import stopwords\n",
        "from nltk.tokenize import word_tokenize\n",
        "\n",
        "stopwords_list = stopwords.words('portuguese')\n",
        "\n",
        "def stemming_text(text):\n",
        "    if isinstance(text, str):\n",
        "        # remove pontuacao\n",
        "        text = text.translate(str.maketrans('', '', string.punctuation))\n",
        "\n",
        "        # remove acentos e coloca tudo em minusculo\n",
        "        text = ''.join(c for c in unicodedata.normalize('NFKD', text) if unicodedata.category(c) != 'Mn')\n",
        "        text = text.lower()\n",
        "\n",
        "        # tokeniza o texto\n",
        "        tokens = word_tokenize(text)\n",
        "\n",
        "        # remove as stopwords\n",
        "        tokens = [token for token in tokens if token not in stopwords_list]\n",
        "\n",
        "        stemmer = SnowballStemmer('portuguese')\n",
        "        tokens = [stemmer.stem(token) for token in tokens]\n",
        "        text = ' '.join(tokens)\n",
        "        return text\n",
        "    else:\n",
        "        return text\n",
        "\n",
        "df_filtered['processed_text'] = df['texto'].apply(stemming_text)\n",
        "print(df['processed_text'][0])"
      ],
      "metadata": {
        "colab": {
          "base_uri": "https://localhost:8080/"
        },
        "id": "XgsD7HOOZB76",
        "outputId": "e1de43f4-6d46-4f68-c8da-d86b3fd0eee4"
      },
      "execution_count": null,
      "outputs": [
        {
          "output_type": "stream",
          "name": "stdout",
          "text": [
            "ola, ana paula! com vai? sent muit pel ocorrrido. te envi uma mensag priv par te ajud com mais assertividade!\n"
          ]
        },
        {
          "output_type": "stream",
          "name": "stderr",
          "text": [
            "<ipython-input-18-809be43f20e3>:31: SettingWithCopyWarning: \n",
            "A value is trying to be set on a copy of a slice from a DataFrame.\n",
            "Try using .loc[row_indexer,col_indexer] = value instead\n",
            "\n",
            "See the caveats in the documentation: https://pandas.pydata.org/pandas-docs/stable/user_guide/indexing.html#returning-a-view-versus-a-copy\n",
            "  df_filtered['processed_text'] = df['texto'].apply(stemming_text)\n"
          ]
        }
      ]
    },
    {
      "cell_type": "markdown",
      "source": [
        "4)Remove os acentos"
      ],
      "metadata": {
        "id": "DIBueMrtZu9j"
      }
    },
    {
      "cell_type": "code",
      "source": [
        "import unicodedata\n",
        "\n",
        "# define a funcao pra remove os acentos e deixar tudo em letra minuscula\n",
        "def remove_accents_and_lowercase(text):\n",
        "    if isinstance(text, str):\n",
        "        text = ''.join(c for c in unicodedata.normalize('NFKD', text) if unicodedata.category(c) != 'Mn')\n",
        "        return text.lower()\n",
        "    else:\n",
        "        return text\n",
        "\n",
        "df['texto_processed'] = df['texto'].apply(remove_accents_and_lowercase)\n",
        "print(df['texto_processed'][0:5])"
      ],
      "metadata": {
        "colab": {
          "base_uri": "https://localhost:8080/"
        },
        "id": "Tcz6I6HzZ2lU",
        "outputId": "6f64fdaf-6798-449e-a94c-21325a0d0e23"
      },
      "execution_count": null,
      "outputs": [
        {
          "output_type": "stream",
          "name": "stdout",
          "text": [
            "0    ola, ana paula! como vai?\\n\\nsentimos muito pe...\n",
            "1    ola, rosana! tudo bem?\\n\\npara te orientarmos ...\n",
            "2                         @luizantoniojovinodossan 🚀 💙\n",
            "3    @ronialencar boa tarde! tudo bem?\\n\\nlamentamo...\n",
            "4    oi, nelson! tudo bem?\\n\\npossuimos solucoes co...\n",
            "Name: texto_processed, dtype: object\n"
          ]
        }
      ]
    },
    {
      "cell_type": "markdown",
      "source": [
        "# Implementação dos graficos"
      ],
      "metadata": {
        "id": "Ay4AjnBFNZXN"
      }
    },
    {
      "cell_type": "code",
      "source": [
        "import matplotlib.pyplot as plt\n",
        "plt.figure(figsize=(5, 3))\n",
        "#importacao do grafico de tipo de midia\n",
        "tipo_midia_counts = df['tipoMidia'].value_counts().head(5)\n",
        "plt.title('Tipos de Mídia')\n",
        "plt.bar(tipo_midia_counts.index, tipo_midia_counts.values)\n",
        "plt.xlabel('tipoMidia')\n",
        "plt.ylabel('Contagem')\n",
        "plt.show()"
      ],
      "metadata": {
        "colab": {
          "base_uri": "https://localhost:8080/",
          "height": 334
        },
        "id": "0Kvuaapl4xv2",
        "outputId": "cc28443f-0a60-4f3a-ea79-91575cccfedb"
      },
      "execution_count": null,
      "outputs": [
        {
          "output_type": "display_data",
          "data": {
            "text/plain": [
              "<Figure size 500x300 with 1 Axes>"
            ],
            "image/png": "[encoded data removed]"
          },
          "metadata": {}
        }
      ]
    },
    {
      "cell_type": "code",
      "source": [
        "top_mediatypes = df.groupby(['tipoInteracao']).size().reset_index(name='counts').sort_values('counts', ascending=False).head(3)\n",
        "plt.pie(top_mediatypes['counts'], labels=top_mediatypes['tipoInteracao'])\n",
        "plt.title('Os tipos de Interação')\n",
        "plt.show()"
      ],
      "metadata": {
        "colab": {
          "base_uri": "https://localhost:8080/",
          "height": 428
        },
        "id": "k9i3JHpDAceB",
        "outputId": "c65d20cd-ad02-4d88-fabe-841a2f2465d9"
      },
      "execution_count": null,
      "outputs": [
        {
          "output_type": "display_data",
          "data": {
            "text/plain": [
              "<Figure size 640x480 with 1 Axes>"
            ],
            "image/png": "[encoded data removed]"
          },
          "metadata": {}
        }
      ]
    },
    {
      "cell_type": "code",
      "source": [
        "top_mediatypes = df.groupby(['autor']).size().reset_index(name='counts').sort_values('counts', ascending=False).head(10)\n",
        "plt.pie(top_mediatypes['counts'], labels=top_mediatypes['autor'])\n",
        "plt.title('Autores dos comentarios')\n",
        "plt.show()"
      ],
      "metadata": {
        "colab": {
          "base_uri": "https://localhost:8080/",
          "height": 428
        },
        "id": "Eo4wHeJMCiib",
        "outputId": "d499e074-1dd2-4fd4-b24f-13d5190c4a26"
      },
      "execution_count": null,
      "outputs": [
        {
          "output_type": "display_data",
          "data": {
            "text/plain": [
              "<Figure size 640x480 with 1 Axes>"
            ],
            "image/png": "[encoded data removed]"
          },
          "metadata": {}
        }
      ]
    },
    {
      "cell_type": "code",
      "source": [
        "#tamanho maior\n",
        "plt.figure(figsize=(16, 5))\n",
        "\n",
        "#importacao do grafico de tipo de midia\n",
        "tipo_midia_counts = df['autor'].value_counts().head(10)\n",
        "plt.title('Autores dos comentarios')\n",
        "plt.bar(tipo_midia_counts.index, tipo_midia_counts.values)\n",
        "plt.xlabel('autor')\n",
        "plt.ylabel('Contagem')\n",
        "# mostra o gráfico\n",
        "plt.show()"
      ],
      "metadata": {
        "colab": {
          "base_uri": "https://localhost:8080/",
          "height": 487
        },
        "id": "s-_qR1kMGCsJ",
        "outputId": "72163caa-c3bc-4d31-a82d-5f5f7680fee4"
      },
      "execution_count": null,
      "outputs": [
        {
          "output_type": "display_data",
          "data": {
            "text/plain": [
              "<Figure size 1600x500 with 1 Axes>"
            ],
            "image/png": "[encoded data removed]"
          },
          "metadata": {}
        }
      ]
    }
  ]
}