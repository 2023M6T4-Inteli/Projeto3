{
  "nbformat": 4,
  "nbformat_minor": 0,
  "metadata": {
    "colab": {
      "provenance": [],
      "collapsed_sections": [
        "W6orTJnannWi",
        "dDAJ_PlDObbV",
        "TyuQCxliZjcN"
      ],
      "toc_visible": true
    },
    "kernelspec": {
      "name": "python3",
      "display_name": "Python 3"
    },
    "language_info": {
      "name": "python"
    }
  },
  "cells": [
    {
      "cell_type": "markdown",
      "source": [
        "# Projeto Grupo BT-G3\n"
      ],
      "metadata": {
        "id": "W6orTJnannWi"
      }
    },
    {
      "cell_type": "markdown",
      "source": [
        "## **Integrantes do grupo**\n",
        "- Daniel Barzilai\n",
        "- Larissa Carvalho\n",
        "- Maria Luisa Maia\n",
        "- Pedro Rezende\n",
        "- Rafael Moritz\n",
        "- Vitor Oliveira"
      ],
      "metadata": {
        "id": "wnoVqdIxSmPS"
      }
    },
    {
      "cell_type": "markdown",
      "source": [
        "<center><img src=\"https://www.inteli.edu.br/wp-content/uploads/2021/08/20172028/marca_1-2.png\" width=\"50%\" height=\"50%\"/></center>"
      ],
      "metadata": {
        "id": "k0U6vMkgcCOc"
      }
    },
    {
      "cell_type": "markdown",
      "source": [
        "<h1 align='center'><b>IA para Marketing: Monitoramento de campanhas utilizando processamento de linguagem natural (PLN)<b></h1>"
      ],
      "metadata": {
        "id": "GntQpF9HcHF7"
      }
    },
    {
      "cell_type": "markdown",
      "source": [
        "<center><img src=\"https://upload.wikimedia.org/wikipedia/commons/c/c2/Btg-logo-blue.svg\" width=\"50%\" height=\"50%\"/></center>"
      ],
      "metadata": {
        "id": "geZEZyxccIwj"
      }
    },
    {
      "cell_type": "markdown",
      "source": [
        "<h2 align='center'>O Banco BTG Pactual enfrenta um desafio na área de Marketing em entender as necessidades e demandas dos clientes de maneira fácil e rápida nas redes sociais. A solução proposta para esse problema foi o desenvolvimento de uma Inteligência Artificial utilizando processamento de linguagem natural (PLN), capaz de monitorar as campanhas de marketing, voltadas para o Instagram. O objetivo principal dessa solução é rastrear os dados em tempo real, analisar e interpretar as mensagens e comentários enviados pelos clientes na rede social, a fim de identificar as necessidades e demandas de forma precisa e eficiente.</h2>"
      ],
      "metadata": {
        "id": "GDi4jBLdcIoo"
      }
    },
    {
      "cell_type": "markdown",
      "source": [
        "---"
      ],
      "metadata": {
        "id": "d9cjCQyEcPhI"
      }
    },
    {
      "cell_type": "markdown",
      "source": [
        "# Sobre os dados"
      ],
      "metadata": {
        "id": "YsbJTy0IcTIt"
      }
    },
    {
      "cell_type": "markdown",
      "source": [
        "Esse projeto está utilizando dados coletados e tratados pela equipe de Automation do BTG Pactual, o qual disponibilizou o dataset. Com base nas informações dispostas nesse dataset, realizaremos insights a cerca dos comentários feitos nos posts do Instagram do próprio banco. Vale lembrar que os dados estão anonimizados e resguardados para manter a privacidade e ética com os usuários e com o banco."
      ],
      "metadata": {
        "id": "3-s3rB_1cVPc"
      }
    },
    {
      "cell_type": "markdown",
      "source": [
        "# 1. Instalação / Setup"
      ],
      "metadata": {
        "id": "jCzVQHGx6tux"
      }
    },
    {
      "cell_type": "markdown",
      "source": [
        "Para o início do projeto, fizemos o desenvolvimento no Google Colab, por isso temos uma célula de conexão com o Google Drive, para poder acessar os dados. Caso seja rodado no Jupyter Notebook, precisará do dataset baixado."
      ],
      "metadata": {
        "id": "-werU6i-qvLp"
      }
    },
    {
      "cell_type": "code",
      "source": [
        "#Conectar com o Google Drive\n",
        "\n",
        "from google.colab import drive\n",
        "drive.mount('/content/drive')\n",
        "\n",
        "#Conectando o ambiente ao Google Drive"
      ],
      "metadata": {
        "id": "ae8sAINTP6Lr",
        "colab": {
          "base_uri": "https://localhost:8080/"
        },
        "outputId": "2dcce9e8-2ebb-42fa-be11-ada313213032"
      },
      "execution_count": 1,
      "outputs": [
        {
          "output_type": "stream",
          "name": "stdout",
          "text": [
            "Mounted at /content/drive\n"
          ]
        }
      ]
    },
    {
      "cell_type": "markdown",
      "source": [
        "Aqui nós fazemos as importações para tratamento dos dados, pré-processamento dos dados e modelamento do Bag of Words. "
      ],
      "metadata": {
        "id": "nuIt1T3cwjSu"
      }
    },
    {
      "cell_type": "code",
      "source": [
        "!pip install unidecode"
      ],
      "metadata": {
        "colab": {
          "base_uri": "https://localhost:8080/"
        },
        "id": "_yCGHdTCbq0e",
        "outputId": "3992bc63-b172-400d-91e3-b82591e259d3"
      },
      "execution_count": 2,
      "outputs": [
        {
          "output_type": "stream",
          "name": "stdout",
          "text": [
            "Looking in indexes: https://pypi.org/simple, https://us-python.pkg.dev/colab-wheels/public/simple/\n",
            "Collecting unidecode\n",
            "  Downloading Unidecode-1.3.6-py3-none-any.whl (235 kB)\n",
            "\u001b[2K     \u001b[90m━━━━━━━━━━━━━━━━━━━━━━━━━━━━━━━━━━━━━━\u001b[0m \u001b[32m235.9/235.9 kB\u001b[0m \u001b[31m11.7 MB/s\u001b[0m eta \u001b[36m0:00:00\u001b[0m\n",
            "\u001b[?25hInstalling collected packages: unidecode\n",
            "Successfully installed unidecode-1.3.6\n"
          ]
        }
      ]
    },
    {
      "cell_type": "code",
      "source": [
        "!pip install -U emoji\n",
        "!pip install emoji --upgrade"
      ],
      "metadata": {
        "colab": {
          "base_uri": "https://localhost:8080/"
        },
        "id": "c-1DoogcTTpr",
        "outputId": "a77efa49-fc09-4f5d-c1a7-d769813e6e2b"
      },
      "execution_count": 3,
      "outputs": [
        {
          "output_type": "stream",
          "name": "stdout",
          "text": [
            "Looking in indexes: https://pypi.org/simple, https://us-python.pkg.dev/colab-wheels/public/simple/\n",
            "Collecting emoji\n",
            "  Downloading emoji-2.4.0.tar.gz (353 kB)\n",
            "\u001b[2K     \u001b[90m━━━━━━━━━━━━━━━━━━━━━━━━━━━━━━━━━━━━━━\u001b[0m \u001b[32m353.7/353.7 kB\u001b[0m \u001b[31m12.2 MB/s\u001b[0m eta \u001b[36m0:00:00\u001b[0m\n",
            "\u001b[?25h  Preparing metadata (setup.py) ... \u001b[?25l\u001b[?25hdone\n",
            "Building wheels for collected packages: emoji\n",
            "  Building wheel for emoji (setup.py) ... \u001b[?25l\u001b[?25hdone\n",
            "  Created wheel for emoji: filename=emoji-2.4.0-py2.py3-none-any.whl size=350809 sha256=439387b39ef1e346cd9583be1345be2721a4f2b9de938d72ad084dca8ab375b8\n",
            "  Stored in directory: /root/.cache/pip/wheels/79/29/1c/234cae4632803c2ba4a76a71a679eb1383cf590775714e2a21\n",
            "Successfully built emoji\n",
            "Installing collected packages: emoji\n",
            "Successfully installed emoji-2.4.0\n",
            "Looking in indexes: https://pypi.org/simple, https://us-python.pkg.dev/colab-wheels/public/simple/\n",
            "Requirement already satisfied: emoji in /usr/local/lib/python3.10/dist-packages (2.4.0)\n"
          ]
        }
      ]
    },
    {
      "cell_type": "code",
      "source": [
        "!pip install enelvo"
      ],
      "metadata": {
        "colab": {
          "base_uri": "https://localhost:8080/"
        },
        "id": "VeIWdicvTkPS",
        "outputId": "9eba8749-8268-4399-eff7-e84852e15ee8"
      },
      "execution_count": 4,
      "outputs": [
        {
          "output_type": "stream",
          "name": "stdout",
          "text": [
            "Looking in indexes: https://pypi.org/simple, https://us-python.pkg.dev/colab-wheels/public/simple/\n",
            "Collecting enelvo\n",
            "  Downloading enelvo-0.15-py3-none-any.whl (27.5 MB)\n",
            "\u001b[2K     \u001b[90m━━━━━━━━━━━━━━━━━━━━━━━━━━━━━━━━━━━━━━━━\u001b[0m \u001b[32m27.5/27.5 MB\u001b[0m \u001b[31m51.8 MB/s\u001b[0m eta \u001b[36m0:00:00\u001b[0m\n",
            "\u001b[?25hRequirement already satisfied: editdistance>=0.6.0 in /usr/local/lib/python3.10/dist-packages (from enelvo) (0.6.2)\n",
            "Collecting emoji==2.2.0 (from enelvo)\n",
            "  Downloading emoji-2.2.0.tar.gz (240 kB)\n",
            "\u001b[2K     \u001b[90m━━━━━━━━━━━━━━━━━━━━━━━━━━━━━━━━━━━━━━\u001b[0m \u001b[32m240.9/240.9 kB\u001b[0m \u001b[31m23.0 MB/s\u001b[0m eta \u001b[36m0:00:00\u001b[0m\n",
            "\u001b[?25h  Preparing metadata (setup.py) ... \u001b[?25l\u001b[?25hdone\n",
            "Requirement already satisfied: gensim>=4.1.2 in /usr/local/lib/python3.10/dist-packages (from enelvo) (4.3.1)\n",
            "Requirement already satisfied: numpy>=1.19.5 in /usr/local/lib/python3.10/dist-packages (from enelvo) (1.22.4)\n",
            "Requirement already satisfied: tabulate>=0.8.9 in /usr/local/lib/python3.10/dist-packages (from enelvo) (0.8.10)\n",
            "Requirement already satisfied: scipy>=1.7.0 in /usr/local/lib/python3.10/dist-packages (from gensim>=4.1.2->enelvo) (1.10.1)\n",
            "Requirement already satisfied: smart-open>=1.8.1 in /usr/local/lib/python3.10/dist-packages (from gensim>=4.1.2->enelvo) (6.3.0)\n",
            "Building wheels for collected packages: emoji\n",
            "  Building wheel for emoji (setup.py) ... \u001b[?25l\u001b[?25hdone\n",
            "  Created wheel for emoji: filename=emoji-2.2.0-py3-none-any.whl size=234911 sha256=63cb3ec9f138a2be5ddc80f85ad4644bd4256fedc74193c413334b727b8b88f2\n",
            "  Stored in directory: /root/.cache/pip/wheels/02/3d/88/51a592b9ad17e7899126563698b4e3961983ebe85747228ba6\n",
            "Successfully built emoji\n",
            "Installing collected packages: emoji, enelvo\n",
            "  Attempting uninstall: emoji\n",
            "    Found existing installation: emoji 2.4.0\n",
            "    Uninstalling emoji-2.4.0:\n",
            "      Successfully uninstalled emoji-2.4.0\n",
            "Successfully installed emoji-2.2.0 enelvo-0.15\n"
          ]
        }
      ]
    },
    {
      "cell_type": "code",
      "source": [
        "!pip install -U spacy\n",
        "!python -m spacy download pt_core_news_sm"
      ],
      "metadata": {
        "colab": {
          "base_uri": "https://localhost:8080/"
        },
        "id": "FNoqph3MTSbS",
        "outputId": "dd8c66fd-1a39-4969-bbde-413a620d34c9"
      },
      "execution_count": 5,
      "outputs": [
        {
          "output_type": "stream",
          "name": "stdout",
          "text": [
            "Looking in indexes: https://pypi.org/simple, https://us-python.pkg.dev/colab-wheels/public/simple/\n",
            "Requirement already satisfied: spacy in /usr/local/lib/python3.10/dist-packages (3.5.2)\n",
            "Collecting spacy\n",
            "  Downloading spacy-3.5.3-cp310-cp310-manylinux_2_17_x86_64.manylinux2014_x86_64.whl (6.6 MB)\n",
            "\u001b[2K     \u001b[90m━━━━━━━━━━━━━━━━━━━━━━━━━━━━━━━━━━━━━━━━\u001b[0m \u001b[32m6.6/6.6 MB\u001b[0m \u001b[31m58.5 MB/s\u001b[0m eta \u001b[36m0:00:00\u001b[0m\n",
            "\u001b[?25hRequirement already satisfied: spacy-legacy<3.1.0,>=3.0.11 in /usr/local/lib/python3.10/dist-packages (from spacy) (3.0.12)\n",
            "Requirement already satisfied: spacy-loggers<2.0.0,>=1.0.0 in /usr/local/lib/python3.10/dist-packages (from spacy) (1.0.4)\n",
            "Requirement already satisfied: murmurhash<1.1.0,>=0.28.0 in /usr/local/lib/python3.10/dist-packages (from spacy) (1.0.9)\n",
            "Requirement already satisfied: cymem<2.1.0,>=2.0.2 in /usr/local/lib/python3.10/dist-packages (from spacy) (2.0.7)\n",
            "Requirement already satisfied: preshed<3.1.0,>=3.0.2 in /usr/local/lib/python3.10/dist-packages (from spacy) (3.0.8)\n",
            "Requirement already satisfied: thinc<8.2.0,>=8.1.8 in /usr/local/lib/python3.10/dist-packages (from spacy) (8.1.9)\n",
            "Requirement already satisfied: wasabi<1.2.0,>=0.9.1 in /usr/local/lib/python3.10/dist-packages (from spacy) (1.1.1)\n",
            "Requirement already satisfied: srsly<3.0.0,>=2.4.3 in /usr/local/lib/python3.10/dist-packages (from spacy) (2.4.6)\n",
            "Requirement already satisfied: catalogue<2.1.0,>=2.0.6 in /usr/local/lib/python3.10/dist-packages (from spacy) (2.0.8)\n",
            "Requirement already satisfied: typer<0.8.0,>=0.3.0 in /usr/local/lib/python3.10/dist-packages (from spacy) (0.7.0)\n",
            "Requirement already satisfied: pathy>=0.10.0 in /usr/local/lib/python3.10/dist-packages (from spacy) (0.10.1)\n",
            "Requirement already satisfied: smart-open<7.0.0,>=5.2.1 in /usr/local/lib/python3.10/dist-packages (from spacy) (6.3.0)\n",
            "Requirement already satisfied: tqdm<5.0.0,>=4.38.0 in /usr/local/lib/python3.10/dist-packages (from spacy) (4.65.0)\n",
            "Requirement already satisfied: numpy>=1.15.0 in /usr/local/lib/python3.10/dist-packages (from spacy) (1.22.4)\n",
            "Requirement already satisfied: requests<3.0.0,>=2.13.0 in /usr/local/lib/python3.10/dist-packages (from spacy) (2.27.1)\n",
            "Requirement already satisfied: pydantic!=1.8,!=1.8.1,<1.11.0,>=1.7.4 in /usr/local/lib/python3.10/dist-packages (from spacy) (1.10.7)\n",
            "Requirement already satisfied: jinja2 in /usr/local/lib/python3.10/dist-packages (from spacy) (3.1.2)\n",
            "Requirement already satisfied: setuptools in /usr/local/lib/python3.10/dist-packages (from spacy) (67.7.2)\n",
            "Requirement already satisfied: packaging>=20.0 in /usr/local/lib/python3.10/dist-packages (from spacy) (23.1)\n",
            "Requirement already satisfied: langcodes<4.0.0,>=3.2.0 in /usr/local/lib/python3.10/dist-packages (from spacy) (3.3.0)\n",
            "Requirement already satisfied: typing-extensions>=4.2.0 in /usr/local/lib/python3.10/dist-packages (from pydantic!=1.8,!=1.8.1,<1.11.0,>=1.7.4->spacy) (4.5.0)\n",
            "Requirement already satisfied: urllib3<1.27,>=1.21.1 in /usr/local/lib/python3.10/dist-packages (from requests<3.0.0,>=2.13.0->spacy) (1.26.15)\n",
            "Requirement already satisfied: certifi>=2017.4.17 in /usr/local/lib/python3.10/dist-packages (from requests<3.0.0,>=2.13.0->spacy) (2022.12.7)\n",
            "Requirement already satisfied: charset-normalizer~=2.0.0 in /usr/local/lib/python3.10/dist-packages (from requests<3.0.0,>=2.13.0->spacy) (2.0.12)\n",
            "Requirement already satisfied: idna<4,>=2.5 in /usr/local/lib/python3.10/dist-packages (from requests<3.0.0,>=2.13.0->spacy) (3.4)\n",
            "Requirement already satisfied: blis<0.8.0,>=0.7.8 in /usr/local/lib/python3.10/dist-packages (from thinc<8.2.0,>=8.1.8->spacy) (0.7.9)\n",
            "Requirement already satisfied: confection<1.0.0,>=0.0.1 in /usr/local/lib/python3.10/dist-packages (from thinc<8.2.0,>=8.1.8->spacy) (0.0.4)\n",
            "Requirement already satisfied: click<9.0.0,>=7.1.1 in /usr/local/lib/python3.10/dist-packages (from typer<0.8.0,>=0.3.0->spacy) (8.1.3)\n",
            "Requirement already satisfied: MarkupSafe>=2.0 in /usr/local/lib/python3.10/dist-packages (from jinja2->spacy) (2.1.2)\n",
            "Installing collected packages: spacy\n",
            "  Attempting uninstall: spacy\n",
            "    Found existing installation: spacy 3.5.2\n",
            "    Uninstalling spacy-3.5.2:\n",
            "      Successfully uninstalled spacy-3.5.2\n",
            "Successfully installed spacy-3.5.3\n",
            "2023-05-25 18:01:14.395536: I tensorflow/core/platform/cpu_feature_guard.cc:182] This TensorFlow binary is optimized to use available CPU instructions in performance-critical operations.\n",
            "To enable the following instructions: AVX2 FMA, in other operations, rebuild TensorFlow with the appropriate compiler flags.\n",
            "2023-05-25 18:01:16.880735: W tensorflow/compiler/tf2tensorrt/utils/py_utils.cc:38] TF-TRT Warning: Could not find TensorRT\n",
            "Looking in indexes: https://pypi.org/simple, https://us-python.pkg.dev/colab-wheels/public/simple/\n",
            "Collecting pt-core-news-sm==3.5.0\n",
            "  Downloading https://github.com/explosion/spacy-models/releases/download/pt_core_news_sm-3.5.0/pt_core_news_sm-3.5.0-py3-none-any.whl (13.0 MB)\n",
            "\u001b[2K     \u001b[90m━━━━━━━━━━━━━━━━━━━━━━━━━━━━━━━━━━━━━━━━\u001b[0m \u001b[32m13.0/13.0 MB\u001b[0m \u001b[31m30.6 MB/s\u001b[0m eta \u001b[36m0:00:00\u001b[0m\n",
            "\u001b[?25hRequirement already satisfied: spacy<3.6.0,>=3.5.0 in /usr/local/lib/python3.10/dist-packages (from pt-core-news-sm==3.5.0) (3.5.3)\n",
            "Requirement already satisfied: spacy-legacy<3.1.0,>=3.0.11 in /usr/local/lib/python3.10/dist-packages (from spacy<3.6.0,>=3.5.0->pt-core-news-sm==3.5.0) (3.0.12)\n",
            "Requirement already satisfied: spacy-loggers<2.0.0,>=1.0.0 in /usr/local/lib/python3.10/dist-packages (from spacy<3.6.0,>=3.5.0->pt-core-news-sm==3.5.0) (1.0.4)\n",
            "Requirement already satisfied: murmurhash<1.1.0,>=0.28.0 in /usr/local/lib/python3.10/dist-packages (from spacy<3.6.0,>=3.5.0->pt-core-news-sm==3.5.0) (1.0.9)\n",
            "Requirement already satisfied: cymem<2.1.0,>=2.0.2 in /usr/local/lib/python3.10/dist-packages (from spacy<3.6.0,>=3.5.0->pt-core-news-sm==3.5.0) (2.0.7)\n",
            "Requirement already satisfied: preshed<3.1.0,>=3.0.2 in /usr/local/lib/python3.10/dist-packages (from spacy<3.6.0,>=3.5.0->pt-core-news-sm==3.5.0) (3.0.8)\n",
            "Requirement already satisfied: thinc<8.2.0,>=8.1.8 in /usr/local/lib/python3.10/dist-packages (from spacy<3.6.0,>=3.5.0->pt-core-news-sm==3.5.0) (8.1.9)\n",
            "Requirement already satisfied: wasabi<1.2.0,>=0.9.1 in /usr/local/lib/python3.10/dist-packages (from spacy<3.6.0,>=3.5.0->pt-core-news-sm==3.5.0) (1.1.1)\n",
            "Requirement already satisfied: srsly<3.0.0,>=2.4.3 in /usr/local/lib/python3.10/dist-packages (from spacy<3.6.0,>=3.5.0->pt-core-news-sm==3.5.0) (2.4.6)\n",
            "Requirement already satisfied: catalogue<2.1.0,>=2.0.6 in /usr/local/lib/python3.10/dist-packages (from spacy<3.6.0,>=3.5.0->pt-core-news-sm==3.5.0) (2.0.8)\n",
            "Requirement already satisfied: typer<0.8.0,>=0.3.0 in /usr/local/lib/python3.10/dist-packages (from spacy<3.6.0,>=3.5.0->pt-core-news-sm==3.5.0) (0.7.0)\n",
            "Requirement already satisfied: pathy>=0.10.0 in /usr/local/lib/python3.10/dist-packages (from spacy<3.6.0,>=3.5.0->pt-core-news-sm==3.5.0) (0.10.1)\n",
            "Requirement already satisfied: smart-open<7.0.0,>=5.2.1 in /usr/local/lib/python3.10/dist-packages (from spacy<3.6.0,>=3.5.0->pt-core-news-sm==3.5.0) (6.3.0)\n",
            "Requirement already satisfied: tqdm<5.0.0,>=4.38.0 in /usr/local/lib/python3.10/dist-packages (from spacy<3.6.0,>=3.5.0->pt-core-news-sm==3.5.0) (4.65.0)\n",
            "Requirement already satisfied: numpy>=1.15.0 in /usr/local/lib/python3.10/dist-packages (from spacy<3.6.0,>=3.5.0->pt-core-news-sm==3.5.0) (1.22.4)\n",
            "Requirement already satisfied: requests<3.0.0,>=2.13.0 in /usr/local/lib/python3.10/dist-packages (from spacy<3.6.0,>=3.5.0->pt-core-news-sm==3.5.0) (2.27.1)\n",
            "Requirement already satisfied: pydantic!=1.8,!=1.8.1,<1.11.0,>=1.7.4 in /usr/local/lib/python3.10/dist-packages (from spacy<3.6.0,>=3.5.0->pt-core-news-sm==3.5.0) (1.10.7)\n",
            "Requirement already satisfied: jinja2 in /usr/local/lib/python3.10/dist-packages (from spacy<3.6.0,>=3.5.0->pt-core-news-sm==3.5.0) (3.1.2)\n",
            "Requirement already satisfied: setuptools in /usr/local/lib/python3.10/dist-packages (from spacy<3.6.0,>=3.5.0->pt-core-news-sm==3.5.0) (67.7.2)\n",
            "Requirement already satisfied: packaging>=20.0 in /usr/local/lib/python3.10/dist-packages (from spacy<3.6.0,>=3.5.0->pt-core-news-sm==3.5.0) (23.1)\n",
            "Requirement already satisfied: langcodes<4.0.0,>=3.2.0 in /usr/local/lib/python3.10/dist-packages (from spacy<3.6.0,>=3.5.0->pt-core-news-sm==3.5.0) (3.3.0)\n",
            "Requirement already satisfied: typing-extensions>=4.2.0 in /usr/local/lib/python3.10/dist-packages (from pydantic!=1.8,!=1.8.1,<1.11.0,>=1.7.4->spacy<3.6.0,>=3.5.0->pt-core-news-sm==3.5.0) (4.5.0)\n",
            "Requirement already satisfied: urllib3<1.27,>=1.21.1 in /usr/local/lib/python3.10/dist-packages (from requests<3.0.0,>=2.13.0->spacy<3.6.0,>=3.5.0->pt-core-news-sm==3.5.0) (1.26.15)\n",
            "Requirement already satisfied: certifi>=2017.4.17 in /usr/local/lib/python3.10/dist-packages (from requests<3.0.0,>=2.13.0->spacy<3.6.0,>=3.5.0->pt-core-news-sm==3.5.0) (2022.12.7)\n",
            "Requirement already satisfied: charset-normalizer~=2.0.0 in /usr/local/lib/python3.10/dist-packages (from requests<3.0.0,>=2.13.0->spacy<3.6.0,>=3.5.0->pt-core-news-sm==3.5.0) (2.0.12)\n",
            "Requirement already satisfied: idna<4,>=2.5 in /usr/local/lib/python3.10/dist-packages (from requests<3.0.0,>=2.13.0->spacy<3.6.0,>=3.5.0->pt-core-news-sm==3.5.0) (3.4)\n",
            "Requirement already satisfied: blis<0.8.0,>=0.7.8 in /usr/local/lib/python3.10/dist-packages (from thinc<8.2.0,>=8.1.8->spacy<3.6.0,>=3.5.0->pt-core-news-sm==3.5.0) (0.7.9)\n",
            "Requirement already satisfied: confection<1.0.0,>=0.0.1 in /usr/local/lib/python3.10/dist-packages (from thinc<8.2.0,>=8.1.8->spacy<3.6.0,>=3.5.0->pt-core-news-sm==3.5.0) (0.0.4)\n",
            "Requirement already satisfied: click<9.0.0,>=7.1.1 in /usr/local/lib/python3.10/dist-packages (from typer<0.8.0,>=0.3.0->spacy<3.6.0,>=3.5.0->pt-core-news-sm==3.5.0) (8.1.3)\n",
            "Requirement already satisfied: MarkupSafe>=2.0 in /usr/local/lib/python3.10/dist-packages (from jinja2->spacy<3.6.0,>=3.5.0->pt-core-news-sm==3.5.0) (2.1.2)\n",
            "Installing collected packages: pt-core-news-sm\n",
            "Successfully installed pt-core-news-sm-3.5.0\n",
            "\u001b[38;5;2m✔ Download and installation successful\u001b[0m\n",
            "You can now load the package via spacy.load('pt_core_news_sm')\n"
          ]
        }
      ]
    },
    {
      "cell_type": "code",
      "source": [
        "!pip install wordcloud"
      ],
      "metadata": {
        "colab": {
          "base_uri": "https://localhost:8080/"
        },
        "id": "teLWG2aVTlgx",
        "outputId": "a5245710-bea4-47d0-cc4e-7deaf4fafc27"
      },
      "execution_count": 6,
      "outputs": [
        {
          "output_type": "stream",
          "name": "stdout",
          "text": [
            "Looking in indexes: https://pypi.org/simple, https://us-python.pkg.dev/colab-wheels/public/simple/\n",
            "Requirement already satisfied: wordcloud in /usr/local/lib/python3.10/dist-packages (1.8.2.2)\n",
            "Requirement already satisfied: numpy>=1.6.1 in /usr/local/lib/python3.10/dist-packages (from wordcloud) (1.22.4)\n",
            "Requirement already satisfied: pillow in /usr/local/lib/python3.10/dist-packages (from wordcloud) (8.4.0)\n",
            "Requirement already satisfied: matplotlib in /usr/local/lib/python3.10/dist-packages (from wordcloud) (3.7.1)\n",
            "Requirement already satisfied: contourpy>=1.0.1 in /usr/local/lib/python3.10/dist-packages (from matplotlib->wordcloud) (1.0.7)\n",
            "Requirement already satisfied: cycler>=0.10 in /usr/local/lib/python3.10/dist-packages (from matplotlib->wordcloud) (0.11.0)\n",
            "Requirement already satisfied: fonttools>=4.22.0 in /usr/local/lib/python3.10/dist-packages (from matplotlib->wordcloud) (4.39.3)\n",
            "Requirement already satisfied: kiwisolver>=1.0.1 in /usr/local/lib/python3.10/dist-packages (from matplotlib->wordcloud) (1.4.4)\n",
            "Requirement already satisfied: packaging>=20.0 in /usr/local/lib/python3.10/dist-packages (from matplotlib->wordcloud) (23.1)\n",
            "Requirement already satisfied: pyparsing>=2.3.1 in /usr/local/lib/python3.10/dist-packages (from matplotlib->wordcloud) (3.0.9)\n",
            "Requirement already satisfied: python-dateutil>=2.7 in /usr/local/lib/python3.10/dist-packages (from matplotlib->wordcloud) (2.8.2)\n",
            "Requirement already satisfied: six>=1.5 in /usr/local/lib/python3.10/dist-packages (from python-dateutil>=2.7->matplotlib->wordcloud) (1.16.0)\n"
          ]
        }
      ]
    },
    {
      "cell_type": "code",
      "source": [
        "import pandas as pd\n",
        "import numpy as np\n",
        "import matplotlib.pyplot as plt\n",
        "from wordcloud import WordCloud\n",
        "import re\n",
        "import unidecode\n",
        "from enelvo.normaliser import Normaliser\n",
        "\n",
        "from sklearn.feature_extraction.text import CountVectorizer\n",
        "from keras.preprocessing.text import Tokenizer\n",
        "\n",
        "import nltk\n",
        "\n",
        "nltk.download('punkt')\n",
        "from nltk import tokenize\n",
        "from nltk.tokenize import TweetTokenizer\n",
        "from nltk import word_tokenize, pos_tag\n",
        "\n",
        "nltk.download('stopwords')\n",
        "from nltk.corpus import stopwords\n",
        "\n",
        "nltk.download('rslp')\n",
        "from nltk.tokenize import RegexpTokenizer\n",
        "\n",
        "nltk.download('wordnet')\n",
        "from nltk.stem.snowball import SnowballStemmer\n",
        "from nltk.corpus import PlaintextCorpusReader\n",
        "from nltk.stem import WordNetLemmatizer\n",
        "from textblob import TextBlob\n",
        "\n",
        "import emoji\n",
        "import spacy"
      ],
      "metadata": {
        "colab": {
          "base_uri": "https://localhost:8080/"
        },
        "id": "5INUqxN_NPZ9",
        "outputId": "325c4d05-87a3-41a0-99a7-f2171e9d3d03"
      },
      "execution_count": 82,
      "outputs": [
        {
          "output_type": "stream",
          "name": "stderr",
          "text": [
            "[nltk_data] Downloading package punkt to /root/nltk_data...\n",
            "[nltk_data]   Package punkt is already up-to-date!\n",
            "[nltk_data] Downloading package stopwords to /root/nltk_data...\n",
            "[nltk_data]   Package stopwords is already up-to-date!\n",
            "[nltk_data] Downloading package rslp to /root/nltk_data...\n",
            "[nltk_data]   Package rslp is already up-to-date!\n",
            "[nltk_data] Downloading package wordnet to /root/nltk_data...\n",
            "[nltk_data]   Package wordnet is already up-to-date!\n"
          ]
        }
      ]
    },
    {
      "cell_type": "markdown",
      "source": [
        "Rodando o dataset, para analisar seu conteúdo:"
      ],
      "metadata": {
        "id": "MgoZgBnOxFul"
      }
    },
    {
      "cell_type": "code",
      "source": [
        "data = pd.read_csv('/content/drive/MyDrive/Módulo 6/projeto/base_nova_csv.csv')\n",
        "data.head(5)"
      ],
      "metadata": {
        "id": "pvOhBRFWQFk_",
        "colab": {
          "base_uri": "https://localhost:8080/",
          "height": 530
        },
        "outputId": "a2cf75c9-d93c-45de-98e0-4b5fe335df96"
      },
      "execution_count": 62,
      "outputs": [
        {
          "output_type": "execute_result",
          "data": {
            "text/plain": [
              "   id        \"dataPublicada\"        \"autor\"  \\\n",
              "0   1  \"2022-03-04 09:38:00\"     v8_capital   \n",
              "1   2  \"2022-03-04 09:29:00\"  winthegame_of   \n",
              "2   3  \"2022-03-04 09:20:00\"     marta_bego   \n",
              "3   4  \"2022-03-04 08:36:00\"     lmviapiana   \n",
              "4   5  \"2022-03-03 21:10:00\"   vanilson_dos   \n",
              "\n",
              "                                             \"texto\" \"sentimento\"  \\\n",
              "0  Confira os resultados dos nossos fundos no mês...      NEUTRAL   \n",
              "1  A Alvarez & Marsal estará conosco no Sportainm...      NEUTRAL   \n",
              "2  #Repost btgpactual with make_repost ・・・ Entend...      NEUTRAL   \n",
              "3                               Minuto touro de ouro     POSITIVE   \n",
              "4                                   @ricktolledo Sim      NEUTRAL   \n",
              "\n",
              "  \"tipoInteracao\"  \"anomalia\"  \"probabilidadeAnomalia\"  \\\n",
              "0        marcação           1                       52   \n",
              "1        marcação           0                       43   \n",
              "2        marcação           0                       45   \n",
              "3      comentário           0                       38   \n",
              "4        resposta           0                       17   \n",
              "\n",
              "                                          \"linkPost\"  \"processado\"  \\\n",
              "0           https://www.instagram.com/p/CarqO6drRux/             0   \n",
              "1           https://www.instagram.com/p/CarpQUluh7z/             0   \n",
              "2           https://www.instagram.com/p/CaroK9Nu8tC/             0   \n",
              "3  https://www.instagram.com/p/CapXhB5Lvas/#17977...             0   \n",
              "4  https://www.instagram.com/p/CapXhB5Lvas/#17842...             0   \n",
              "\n",
              "   \"contemHyperlink\"  \n",
              "0                  0  \n",
              "1                  0  \n",
              "2                  0  \n",
              "3                  0  \n",
              "4                  0  "
            ],
            "text/html": [
              "\n",
              "  <div id=\"df-8e91ab81-f538-4784-a8ec-1b3149d0a845\">\n",
              "    <div class=\"colab-df-container\">\n",
              "      <div>\n",
              "<style scoped>\n",
              "    .dataframe tbody tr th:only-of-type {\n",
              "        vertical-align: middle;\n",
              "    }\n",
              "\n",
              "    .dataframe tbody tr th {\n",
              "        vertical-align: top;\n",
              "    }\n",
              "\n",
              "    .dataframe thead th {\n",
              "        text-align: right;\n",
              "    }\n",
              "</style>\n",
              "<table border=\"1\" class=\"dataframe\">\n",
              "  <thead>\n",
              "    <tr style=\"text-align: right;\">\n",
              "      <th></th>\n",
              "      <th>id</th>\n",
              "      <th>\"dataPublicada\"</th>\n",
              "      <th>\"autor\"</th>\n",
              "      <th>\"texto\"</th>\n",
              "      <th>\"sentimento\"</th>\n",
              "      <th>\"tipoInteracao\"</th>\n",
              "      <th>\"anomalia\"</th>\n",
              "      <th>\"probabilidadeAnomalia\"</th>\n",
              "      <th>\"linkPost\"</th>\n",
              "      <th>\"processado\"</th>\n",
              "      <th>\"contemHyperlink\"</th>\n",
              "    </tr>\n",
              "  </thead>\n",
              "  <tbody>\n",
              "    <tr>\n",
              "      <th>0</th>\n",
              "      <td>1</td>\n",
              "      <td>\"2022-03-04 09:38:00\"</td>\n",
              "      <td>v8_capital</td>\n",
              "      <td>Confira os resultados dos nossos fundos no mês...</td>\n",
              "      <td>NEUTRAL</td>\n",
              "      <td>marcação</td>\n",
              "      <td>1</td>\n",
              "      <td>52</td>\n",
              "      <td>https://www.instagram.com/p/CarqO6drRux/</td>\n",
              "      <td>0</td>\n",
              "      <td>0</td>\n",
              "    </tr>\n",
              "    <tr>\n",
              "      <th>1</th>\n",
              "      <td>2</td>\n",
              "      <td>\"2022-03-04 09:29:00\"</td>\n",
              "      <td>winthegame_of</td>\n",
              "      <td>A Alvarez &amp; Marsal estará conosco no Sportainm...</td>\n",
              "      <td>NEUTRAL</td>\n",
              "      <td>marcação</td>\n",
              "      <td>0</td>\n",
              "      <td>43</td>\n",
              "      <td>https://www.instagram.com/p/CarpQUluh7z/</td>\n",
              "      <td>0</td>\n",
              "      <td>0</td>\n",
              "    </tr>\n",
              "    <tr>\n",
              "      <th>2</th>\n",
              "      <td>3</td>\n",
              "      <td>\"2022-03-04 09:20:00\"</td>\n",
              "      <td>marta_bego</td>\n",
              "      <td>#Repost btgpactual with make_repost ・・・ Entend...</td>\n",
              "      <td>NEUTRAL</td>\n",
              "      <td>marcação</td>\n",
              "      <td>0</td>\n",
              "      <td>45</td>\n",
              "      <td>https://www.instagram.com/p/CaroK9Nu8tC/</td>\n",
              "      <td>0</td>\n",
              "      <td>0</td>\n",
              "    </tr>\n",
              "    <tr>\n",
              "      <th>3</th>\n",
              "      <td>4</td>\n",
              "      <td>\"2022-03-04 08:36:00\"</td>\n",
              "      <td>lmviapiana</td>\n",
              "      <td>Minuto touro de ouro</td>\n",
              "      <td>POSITIVE</td>\n",
              "      <td>comentário</td>\n",
              "      <td>0</td>\n",
              "      <td>38</td>\n",
              "      <td>https://www.instagram.com/p/CapXhB5Lvas/#17977...</td>\n",
              "      <td>0</td>\n",
              "      <td>0</td>\n",
              "    </tr>\n",
              "    <tr>\n",
              "      <th>4</th>\n",
              "      <td>5</td>\n",
              "      <td>\"2022-03-03 21:10:00\"</td>\n",
              "      <td>vanilson_dos</td>\n",
              "      <td>@ricktolledo Sim</td>\n",
              "      <td>NEUTRAL</td>\n",
              "      <td>resposta</td>\n",
              "      <td>0</td>\n",
              "      <td>17</td>\n",
              "      <td>https://www.instagram.com/p/CapXhB5Lvas/#17842...</td>\n",
              "      <td>0</td>\n",
              "      <td>0</td>\n",
              "    </tr>\n",
              "  </tbody>\n",
              "</table>\n",
              "</div>\n",
              "      <button class=\"colab-df-convert\" onclick=\"convertToInteractive('df-8e91ab81-f538-4784-a8ec-1b3149d0a845')\"\n",
              "              title=\"Convert this dataframe to an interactive table.\"\n",
              "              style=\"display:none;\">\n",
              "        \n",
              "  <svg xmlns=\"http://www.w3.org/2000/svg\" height=\"24px\"viewBox=\"0 0 24 24\"\n",
              "       width=\"24px\">\n",
              "    <path d=\"M0 0h24v24H0V0z\" fill=\"none\"/>\n",
              "    <path d=\"M18.56 5.44l.94 2.06.94-2.06 2.06-.94-2.06-.94-.94-2.06-.94 2.06-2.06.94zm-11 1L8.5 8.5l.94-2.06 2.06-.94-2.06-.94L8.5 2.5l-.94 2.06-2.06.94zm10 10l.94 2.06.94-2.06 2.06-.94-2.06-.94-.94-2.06-.94 2.06-2.06.94z\"/><path d=\"M17.41 7.96l-1.37-1.37c-.4-.4-.92-.59-1.43-.59-.52 0-1.04.2-1.43.59L10.3 9.45l-7.72 7.72c-.78.78-.78 2.05 0 2.83L4 21.41c.39.39.9.59 1.41.59.51 0 1.02-.2 1.41-.59l7.78-7.78 2.81-2.81c.8-.78.8-2.07 0-2.86zM5.41 20L4 18.59l7.72-7.72 1.47 1.35L5.41 20z\"/>\n",
              "  </svg>\n",
              "      </button>\n",
              "      \n",
              "  <style>\n",
              "    .colab-df-container {\n",
              "      display:flex;\n",
              "      flex-wrap:wrap;\n",
              "      gap: 12px;\n",
              "    }\n",
              "\n",
              "    .colab-df-convert {\n",
              "      background-color: #E8F0FE;\n",
              "      border: none;\n",
              "      border-radius: 50%;\n",
              "      cursor: pointer;\n",
              "      display: none;\n",
              "      fill: #1967D2;\n",
              "      height: 32px;\n",
              "      padding: 0 0 0 0;\n",
              "      width: 32px;\n",
              "    }\n",
              "\n",
              "    .colab-df-convert:hover {\n",
              "      background-color: #E2EBFA;\n",
              "      box-shadow: 0px 1px 2px rgba(60, 64, 67, 0.3), 0px 1px 3px 1px rgba(60, 64, 67, 0.15);\n",
              "      fill: #174EA6;\n",
              "    }\n",
              "\n",
              "    [theme=dark] .colab-df-convert {\n",
              "      background-color: #3B4455;\n",
              "      fill: #D2E3FC;\n",
              "    }\n",
              "\n",
              "    [theme=dark] .colab-df-convert:hover {\n",
              "      background-color: #434B5C;\n",
              "      box-shadow: 0px 1px 3px 1px rgba(0, 0, 0, 0.15);\n",
              "      filter: drop-shadow(0px 1px 2px rgba(0, 0, 0, 0.3));\n",
              "      fill: #FFFFFF;\n",
              "    }\n",
              "  </style>\n",
              "\n",
              "      <script>\n",
              "        const buttonEl =\n",
              "          document.querySelector('#df-8e91ab81-f538-4784-a8ec-1b3149d0a845 button.colab-df-convert');\n",
              "        buttonEl.style.display =\n",
              "          google.colab.kernel.accessAllowed ? 'block' : 'none';\n",
              "\n",
              "        async function convertToInteractive(key) {\n",
              "          const element = document.querySelector('#df-8e91ab81-f538-4784-a8ec-1b3149d0a845');\n",
              "          const dataTable =\n",
              "            await google.colab.kernel.invokeFunction('convertToInteractive',\n",
              "                                                     [key], {});\n",
              "          if (!dataTable) return;\n",
              "\n",
              "          const docLinkHtml = 'Like what you see? Visit the ' +\n",
              "            '<a target=\"_blank\" href=https://colab.research.google.com/notebooks/data_table.ipynb>data table notebook</a>'\n",
              "            + ' to learn more about interactive tables.';\n",
              "          element.innerHTML = '';\n",
              "          dataTable['output_type'] = 'display_data';\n",
              "          await google.colab.output.renderOutput(dataTable, element);\n",
              "          const docLink = document.createElement('div');\n",
              "          docLink.innerHTML = docLinkHtml;\n",
              "          element.appendChild(docLink);\n",
              "        }\n",
              "      </script>\n",
              "    </div>\n",
              "  </div>\n",
              "  "
            ]
          },
          "metadata": {},
          "execution_count": 62
        }
      ]
    },
    {
      "cell_type": "markdown",
      "source": [
        "# 2. Entendimento e Tratamento dos Dados"
      ],
      "metadata": {
        "id": "dDAJ_PlDObbV"
      }
    },
    {
      "cell_type": "markdown",
      "source": [
        "No tratamento de dados, nós analisamos o que podemos mudar no dataframe para fazer uma análise melhor de seus dados e alcançar o objetivo traçado. Dessa forma, é possível visualizar algumas etapas do tratamento abaixo, por exemplo:\n",
        "- Renomear as colunas para retirar aspas duplos;\n",
        "- Analisar as colunas com objetos que possam ser quantitativos;\n",
        "- Remover algumas colunas que não servirão para o desenvolvimento do projeto;\n",
        "- Filtro para analisar comentários que não tenham o 'btgpactual' como autor, para ter uma análise somente dos usuários."
      ],
      "metadata": {
        "id": "YXOQwanCPRv1"
      }
    },
    {
      "cell_type": "code",
      "source": [
        "data = data.rename(columns={'\"anomalia\"' : 'anomalia', '\"dataPublicada\"' : 'dataPublicada', '\"autor\"' : 'autor', '\"texto\"' : 'texto', '\"sentimento\"' : 'sentimento', '\"tipoInteracao\"' : 'tipoInteracao', '\"probabilidadeAnomalia\"' : 'probabilidadeAnomalia', '\"linkPost\"' : 'linkPost', '\"processado\"' : 'processado',  '\"contemHyperlink\"' : 'contemHyperlink' })"
      ],
      "metadata": {
        "id": "fx_xLrMifUmb"
      },
      "execution_count": 63,
      "outputs": []
    },
    {
      "cell_type": "code",
      "source": [
        "data.head(3)"
      ],
      "metadata": {
        "id": "aLm49aNqY5iw",
        "colab": {
          "base_uri": "https://localhost:8080/",
          "height": 0
        },
        "outputId": "ce1a6716-7eae-40a7-98c0-5139443c8856"
      },
      "execution_count": 64,
      "outputs": [
        {
          "output_type": "execute_result",
          "data": {
            "text/plain": [
              "   id          dataPublicada          autor  \\\n",
              "0   1  \"2022-03-04 09:38:00\"     v8_capital   \n",
              "1   2  \"2022-03-04 09:29:00\"  winthegame_of   \n",
              "2   3  \"2022-03-04 09:20:00\"     marta_bego   \n",
              "\n",
              "                                               texto sentimento tipoInteracao  \\\n",
              "0  Confira os resultados dos nossos fundos no mês...    NEUTRAL      marcação   \n",
              "1  A Alvarez & Marsal estará conosco no Sportainm...    NEUTRAL      marcação   \n",
              "2  #Repost btgpactual with make_repost ・・・ Entend...    NEUTRAL      marcação   \n",
              "\n",
              "   anomalia  probabilidadeAnomalia                                  linkPost  \\\n",
              "0         1                     52  https://www.instagram.com/p/CarqO6drRux/   \n",
              "1         0                     43  https://www.instagram.com/p/CarpQUluh7z/   \n",
              "2         0                     45  https://www.instagram.com/p/CaroK9Nu8tC/   \n",
              "\n",
              "   processado  contemHyperlink  \n",
              "0           0                0  \n",
              "1           0                0  \n",
              "2           0                0  "
            ],
            "text/html": [
              "\n",
              "  <div id=\"df-3a555424-6f31-4952-adb1-9563e5dbc16c\">\n",
              "    <div class=\"colab-df-container\">\n",
              "      <div>\n",
              "<style scoped>\n",
              "    .dataframe tbody tr th:only-of-type {\n",
              "        vertical-align: middle;\n",
              "    }\n",
              "\n",
              "    .dataframe tbody tr th {\n",
              "        vertical-align: top;\n",
              "    }\n",
              "\n",
              "    .dataframe thead th {\n",
              "        text-align: right;\n",
              "    }\n",
              "</style>\n",
              "<table border=\"1\" class=\"dataframe\">\n",
              "  <thead>\n",
              "    <tr style=\"text-align: right;\">\n",
              "      <th></th>\n",
              "      <th>id</th>\n",
              "      <th>dataPublicada</th>\n",
              "      <th>autor</th>\n",
              "      <th>texto</th>\n",
              "      <th>sentimento</th>\n",
              "      <th>tipoInteracao</th>\n",
              "      <th>anomalia</th>\n",
              "      <th>probabilidadeAnomalia</th>\n",
              "      <th>linkPost</th>\n",
              "      <th>processado</th>\n",
              "      <th>contemHyperlink</th>\n",
              "    </tr>\n",
              "  </thead>\n",
              "  <tbody>\n",
              "    <tr>\n",
              "      <th>0</th>\n",
              "      <td>1</td>\n",
              "      <td>\"2022-03-04 09:38:00\"</td>\n",
              "      <td>v8_capital</td>\n",
              "      <td>Confira os resultados dos nossos fundos no mês...</td>\n",
              "      <td>NEUTRAL</td>\n",
              "      <td>marcação</td>\n",
              "      <td>1</td>\n",
              "      <td>52</td>\n",
              "      <td>https://www.instagram.com/p/CarqO6drRux/</td>\n",
              "      <td>0</td>\n",
              "      <td>0</td>\n",
              "    </tr>\n",
              "    <tr>\n",
              "      <th>1</th>\n",
              "      <td>2</td>\n",
              "      <td>\"2022-03-04 09:29:00\"</td>\n",
              "      <td>winthegame_of</td>\n",
              "      <td>A Alvarez &amp; Marsal estará conosco no Sportainm...</td>\n",
              "      <td>NEUTRAL</td>\n",
              "      <td>marcação</td>\n",
              "      <td>0</td>\n",
              "      <td>43</td>\n",
              "      <td>https://www.instagram.com/p/CarpQUluh7z/</td>\n",
              "      <td>0</td>\n",
              "      <td>0</td>\n",
              "    </tr>\n",
              "    <tr>\n",
              "      <th>2</th>\n",
              "      <td>3</td>\n",
              "      <td>\"2022-03-04 09:20:00\"</td>\n",
              "      <td>marta_bego</td>\n",
              "      <td>#Repost btgpactual with make_repost ・・・ Entend...</td>\n",
              "      <td>NEUTRAL</td>\n",
              "      <td>marcação</td>\n",
              "      <td>0</td>\n",
              "      <td>45</td>\n",
              "      <td>https://www.instagram.com/p/CaroK9Nu8tC/</td>\n",
              "      <td>0</td>\n",
              "      <td>0</td>\n",
              "    </tr>\n",
              "  </tbody>\n",
              "</table>\n",
              "</div>\n",
              "      <button class=\"colab-df-convert\" onclick=\"convertToInteractive('df-3a555424-6f31-4952-adb1-9563e5dbc16c')\"\n",
              "              title=\"Convert this dataframe to an interactive table.\"\n",
              "              style=\"display:none;\">\n",
              "        \n",
              "  <svg xmlns=\"http://www.w3.org/2000/svg\" height=\"24px\"viewBox=\"0 0 24 24\"\n",
              "       width=\"24px\">\n",
              "    <path d=\"M0 0h24v24H0V0z\" fill=\"none\"/>\n",
              "    <path d=\"M18.56 5.44l.94 2.06.94-2.06 2.06-.94-2.06-.94-.94-2.06-.94 2.06-2.06.94zm-11 1L8.5 8.5l.94-2.06 2.06-.94-2.06-.94L8.5 2.5l-.94 2.06-2.06.94zm10 10l.94 2.06.94-2.06 2.06-.94-2.06-.94-.94-2.06-.94 2.06-2.06.94z\"/><path d=\"M17.41 7.96l-1.37-1.37c-.4-.4-.92-.59-1.43-.59-.52 0-1.04.2-1.43.59L10.3 9.45l-7.72 7.72c-.78.78-.78 2.05 0 2.83L4 21.41c.39.39.9.59 1.41.59.51 0 1.02-.2 1.41-.59l7.78-7.78 2.81-2.81c.8-.78.8-2.07 0-2.86zM5.41 20L4 18.59l7.72-7.72 1.47 1.35L5.41 20z\"/>\n",
              "  </svg>\n",
              "      </button>\n",
              "      \n",
              "  <style>\n",
              "    .colab-df-container {\n",
              "      display:flex;\n",
              "      flex-wrap:wrap;\n",
              "      gap: 12px;\n",
              "    }\n",
              "\n",
              "    .colab-df-convert {\n",
              "      background-color: #E8F0FE;\n",
              "      border: none;\n",
              "      border-radius: 50%;\n",
              "      cursor: pointer;\n",
              "      display: none;\n",
              "      fill: #1967D2;\n",
              "      height: 32px;\n",
              "      padding: 0 0 0 0;\n",
              "      width: 32px;\n",
              "    }\n",
              "\n",
              "    .colab-df-convert:hover {\n",
              "      background-color: #E2EBFA;\n",
              "      box-shadow: 0px 1px 2px rgba(60, 64, 67, 0.3), 0px 1px 3px 1px rgba(60, 64, 67, 0.15);\n",
              "      fill: #174EA6;\n",
              "    }\n",
              "\n",
              "    [theme=dark] .colab-df-convert {\n",
              "      background-color: #3B4455;\n",
              "      fill: #D2E3FC;\n",
              "    }\n",
              "\n",
              "    [theme=dark] .colab-df-convert:hover {\n",
              "      background-color: #434B5C;\n",
              "      box-shadow: 0px 1px 3px 1px rgba(0, 0, 0, 0.15);\n",
              "      filter: drop-shadow(0px 1px 2px rgba(0, 0, 0, 0.3));\n",
              "      fill: #FFFFFF;\n",
              "    }\n",
              "  </style>\n",
              "\n",
              "      <script>\n",
              "        const buttonEl =\n",
              "          document.querySelector('#df-3a555424-6f31-4952-adb1-9563e5dbc16c button.colab-df-convert');\n",
              "        buttonEl.style.display =\n",
              "          google.colab.kernel.accessAllowed ? 'block' : 'none';\n",
              "\n",
              "        async function convertToInteractive(key) {\n",
              "          const element = document.querySelector('#df-3a555424-6f31-4952-adb1-9563e5dbc16c');\n",
              "          const dataTable =\n",
              "            await google.colab.kernel.invokeFunction('convertToInteractive',\n",
              "                                                     [key], {});\n",
              "          if (!dataTable) return;\n",
              "\n",
              "          const docLinkHtml = 'Like what you see? Visit the ' +\n",
              "            '<a target=\"_blank\" href=https://colab.research.google.com/notebooks/data_table.ipynb>data table notebook</a>'\n",
              "            + ' to learn more about interactive tables.';\n",
              "          element.innerHTML = '';\n",
              "          dataTable['output_type'] = 'display_data';\n",
              "          await google.colab.output.renderOutput(dataTable, element);\n",
              "          const docLink = document.createElement('div');\n",
              "          docLink.innerHTML = docLinkHtml;\n",
              "          element.appendChild(docLink);\n",
              "        }\n",
              "      </script>\n",
              "    </div>\n",
              "  </div>\n",
              "  "
            ]
          },
          "metadata": {},
          "execution_count": 64
        }
      ]
    },
    {
      "cell_type": "code",
      "source": [
        "data.columns"
      ],
      "metadata": {
        "id": "J5GWQzKeRFGd",
        "colab": {
          "base_uri": "https://localhost:8080/"
        },
        "outputId": "76aed5c6-0e7c-4470-8e2a-42e2f2bbe93e"
      },
      "execution_count": 65,
      "outputs": [
        {
          "output_type": "execute_result",
          "data": {
            "text/plain": [
              "Index(['id', 'dataPublicada', 'autor', 'texto', 'sentimento', 'tipoInteracao',\n",
              "       'anomalia', 'probabilidadeAnomalia', 'linkPost', 'processado',\n",
              "       'contemHyperlink'],\n",
              "      dtype='object')"
            ]
          },
          "metadata": {},
          "execution_count": 65
        }
      ]
    },
    {
      "cell_type": "code",
      "source": [
        "data.dtypes"
      ],
      "metadata": {
        "colab": {
          "base_uri": "https://localhost:8080/"
        },
        "id": "rrz3gdZ3Vdry",
        "outputId": "9cedd0a9-9538-454c-dcd7-74728a188f8c"
      },
      "execution_count": 66,
      "outputs": [
        {
          "output_type": "execute_result",
          "data": {
            "text/plain": [
              "id                        int64\n",
              "dataPublicada            object\n",
              "autor                    object\n",
              "texto                    object\n",
              "sentimento               object\n",
              "tipoInteracao            object\n",
              "anomalia                  int64\n",
              "probabilidadeAnomalia     int64\n",
              "linkPost                 object\n",
              "processado                int64\n",
              "contemHyperlink           int64\n",
              "dtype: object"
            ]
          },
          "metadata": {},
          "execution_count": 66
        }
      ]
    },
    {
      "cell_type": "markdown",
      "source": [
        "- Droppando algumas colunas, pois elas não serão necessárias para a nossa análise e desenvolvimento da IA"
      ],
      "metadata": {
        "id": "Ufskd5GIV_4T"
      }
    },
    {
      "cell_type": "code",
      "source": [
        "data_dropado = data.drop(['id', 'dataPublicada', 'anomalia', 'probabilidadeAnomalia', 'linkPost', 'processado', 'contemHyperlink'], axis=1)\n",
        "data_dropado.head(3)"
      ],
      "metadata": {
        "id": "SWFRdnQ2Vwob",
        "colab": {
          "base_uri": "https://localhost:8080/",
          "height": 0
        },
        "outputId": "db90fc54-d7de-474b-ce26-3c538e4ada6e"
      },
      "execution_count": 67,
      "outputs": [
        {
          "output_type": "execute_result",
          "data": {
            "text/plain": [
              "           autor                                              texto  \\\n",
              "0     v8_capital  Confira os resultados dos nossos fundos no mês...   \n",
              "1  winthegame_of  A Alvarez & Marsal estará conosco no Sportainm...   \n",
              "2     marta_bego  #Repost btgpactual with make_repost ・・・ Entend...   \n",
              "\n",
              "  sentimento tipoInteracao  \n",
              "0    NEUTRAL      marcação  \n",
              "1    NEUTRAL      marcação  \n",
              "2    NEUTRAL      marcação  "
            ],
            "text/html": [
              "\n",
              "  <div id=\"df-15567ffa-ef60-4018-838d-91734493469f\">\n",
              "    <div class=\"colab-df-container\">\n",
              "      <div>\n",
              "<style scoped>\n",
              "    .dataframe tbody tr th:only-of-type {\n",
              "        vertical-align: middle;\n",
              "    }\n",
              "\n",
              "    .dataframe tbody tr th {\n",
              "        vertical-align: top;\n",
              "    }\n",
              "\n",
              "    .dataframe thead th {\n",
              "        text-align: right;\n",
              "    }\n",
              "</style>\n",
              "<table border=\"1\" class=\"dataframe\">\n",
              "  <thead>\n",
              "    <tr style=\"text-align: right;\">\n",
              "      <th></th>\n",
              "      <th>autor</th>\n",
              "      <th>texto</th>\n",
              "      <th>sentimento</th>\n",
              "      <th>tipoInteracao</th>\n",
              "    </tr>\n",
              "  </thead>\n",
              "  <tbody>\n",
              "    <tr>\n",
              "      <th>0</th>\n",
              "      <td>v8_capital</td>\n",
              "      <td>Confira os resultados dos nossos fundos no mês...</td>\n",
              "      <td>NEUTRAL</td>\n",
              "      <td>marcação</td>\n",
              "    </tr>\n",
              "    <tr>\n",
              "      <th>1</th>\n",
              "      <td>winthegame_of</td>\n",
              "      <td>A Alvarez &amp; Marsal estará conosco no Sportainm...</td>\n",
              "      <td>NEUTRAL</td>\n",
              "      <td>marcação</td>\n",
              "    </tr>\n",
              "    <tr>\n",
              "      <th>2</th>\n",
              "      <td>marta_bego</td>\n",
              "      <td>#Repost btgpactual with make_repost ・・・ Entend...</td>\n",
              "      <td>NEUTRAL</td>\n",
              "      <td>marcação</td>\n",
              "    </tr>\n",
              "  </tbody>\n",
              "</table>\n",
              "</div>\n",
              "      <button class=\"colab-df-convert\" onclick=\"convertToInteractive('df-15567ffa-ef60-4018-838d-91734493469f')\"\n",
              "              title=\"Convert this dataframe to an interactive table.\"\n",
              "              style=\"display:none;\">\n",
              "        \n",
              "  <svg xmlns=\"http://www.w3.org/2000/svg\" height=\"24px\"viewBox=\"0 0 24 24\"\n",
              "       width=\"24px\">\n",
              "    <path d=\"M0 0h24v24H0V0z\" fill=\"none\"/>\n",
              "    <path d=\"M18.56 5.44l.94 2.06.94-2.06 2.06-.94-2.06-.94-.94-2.06-.94 2.06-2.06.94zm-11 1L8.5 8.5l.94-2.06 2.06-.94-2.06-.94L8.5 2.5l-.94 2.06-2.06.94zm10 10l.94 2.06.94-2.06 2.06-.94-2.06-.94-.94-2.06-.94 2.06-2.06.94z\"/><path d=\"M17.41 7.96l-1.37-1.37c-.4-.4-.92-.59-1.43-.59-.52 0-1.04.2-1.43.59L10.3 9.45l-7.72 7.72c-.78.78-.78 2.05 0 2.83L4 21.41c.39.39.9.59 1.41.59.51 0 1.02-.2 1.41-.59l7.78-7.78 2.81-2.81c.8-.78.8-2.07 0-2.86zM5.41 20L4 18.59l7.72-7.72 1.47 1.35L5.41 20z\"/>\n",
              "  </svg>\n",
              "      </button>\n",
              "      \n",
              "  <style>\n",
              "    .colab-df-container {\n",
              "      display:flex;\n",
              "      flex-wrap:wrap;\n",
              "      gap: 12px;\n",
              "    }\n",
              "\n",
              "    .colab-df-convert {\n",
              "      background-color: #E8F0FE;\n",
              "      border: none;\n",
              "      border-radius: 50%;\n",
              "      cursor: pointer;\n",
              "      display: none;\n",
              "      fill: #1967D2;\n",
              "      height: 32px;\n",
              "      padding: 0 0 0 0;\n",
              "      width: 32px;\n",
              "    }\n",
              "\n",
              "    .colab-df-convert:hover {\n",
              "      background-color: #E2EBFA;\n",
              "      box-shadow: 0px 1px 2px rgba(60, 64, 67, 0.3), 0px 1px 3px 1px rgba(60, 64, 67, 0.15);\n",
              "      fill: #174EA6;\n",
              "    }\n",
              "\n",
              "    [theme=dark] .colab-df-convert {\n",
              "      background-color: #3B4455;\n",
              "      fill: #D2E3FC;\n",
              "    }\n",
              "\n",
              "    [theme=dark] .colab-df-convert:hover {\n",
              "      background-color: #434B5C;\n",
              "      box-shadow: 0px 1px 3px 1px rgba(0, 0, 0, 0.15);\n",
              "      filter: drop-shadow(0px 1px 2px rgba(0, 0, 0, 0.3));\n",
              "      fill: #FFFFFF;\n",
              "    }\n",
              "  </style>\n",
              "\n",
              "      <script>\n",
              "        const buttonEl =\n",
              "          document.querySelector('#df-15567ffa-ef60-4018-838d-91734493469f button.colab-df-convert');\n",
              "        buttonEl.style.display =\n",
              "          google.colab.kernel.accessAllowed ? 'block' : 'none';\n",
              "\n",
              "        async function convertToInteractive(key) {\n",
              "          const element = document.querySelector('#df-15567ffa-ef60-4018-838d-91734493469f');\n",
              "          const dataTable =\n",
              "            await google.colab.kernel.invokeFunction('convertToInteractive',\n",
              "                                                     [key], {});\n",
              "          if (!dataTable) return;\n",
              "\n",
              "          const docLinkHtml = 'Like what you see? Visit the ' +\n",
              "            '<a target=\"_blank\" href=https://colab.research.google.com/notebooks/data_table.ipynb>data table notebook</a>'\n",
              "            + ' to learn more about interactive tables.';\n",
              "          element.innerHTML = '';\n",
              "          dataTable['output_type'] = 'display_data';\n",
              "          await google.colab.output.renderOutput(dataTable, element);\n",
              "          const docLink = document.createElement('div');\n",
              "          docLink.innerHTML = docLinkHtml;\n",
              "          element.appendChild(docLink);\n",
              "        }\n",
              "      </script>\n",
              "    </div>\n",
              "  </div>\n",
              "  "
            ]
          },
          "metadata": {},
          "execution_count": 67
        }
      ]
    },
    {
      "cell_type": "markdown",
      "source": [
        "- Retirando todas as mensagens relacionadas ao 'btgpactual', pois não queremos fazer a análise de conteúdo que é feito por eles mesmos (que é o nosso cliente), mas sim dos usuários que dão um feedback."
      ],
      "metadata": {
        "id": "sSIj4WJCWHXz"
      }
    },
    {
      "cell_type": "code",
      "source": [
        "data_limpo = data_dropado.loc[data_dropado['autor'] != 'btgpactual']\n",
        "data_limpo"
      ],
      "metadata": {
        "id": "oQHIlkqGaDML",
        "colab": {
          "base_uri": "https://localhost:8080/",
          "height": 0
        },
        "outputId": "2f438ae1-f19b-433e-b507-182040ab5ffd"
      },
      "execution_count": 68,
      "outputs": [
        {
          "output_type": "execute_result",
          "data": {
            "text/plain": [
              "                  autor                                              texto  \\\n",
              "0            v8_capital  Confira os resultados dos nossos fundos no mês...   \n",
              "1         winthegame_of  A Alvarez & Marsal estará conosco no Sportainm...   \n",
              "2            marta_bego  #Repost btgpactual with make_repost ・・・ Entend...   \n",
              "3            lmviapiana                               Minuto touro de ouro   \n",
              "4          vanilson_dos                                   @ricktolledo Sim   \n",
              "...                 ...                                                ...   \n",
              "12350       onixcapital  Uma noite de encontros e muito conhecimento on...   \n",
              "12351  amgcapitalinvest  Erros financeiros para eliminar antes dos 30 a...   \n",
              "12352     jayipacderota  Estou muito grato por todo o esforço que você ...   \n",
              "12353   moinho_cultural  \"👉GUADAKAN está chegando!!!!  A aula pública e...   \n",
              "12354         bfmarilia  @btgpactual pq o morning call não está mais ap...   \n",
              "\n",
              "      sentimento tipoInteracao  \n",
              "0        NEUTRAL      marcação  \n",
              "1        NEUTRAL      marcação  \n",
              "2        NEUTRAL      marcação  \n",
              "3       POSITIVE    comentário  \n",
              "4        NEUTRAL      resposta  \n",
              "...          ...           ...  \n",
              "12350    NEUTRAL      marcação  \n",
              "12351    NEUTRAL      marcação  \n",
              "12352   POSITIVE    comentário  \n",
              "12353    NEUTRAL      marcação  \n",
              "12354   NEGATIVE    comentário  \n",
              "\n",
              "[12193 rows x 4 columns]"
            ],
            "text/html": [
              "\n",
              "  <div id=\"df-800ce789-3b13-4e53-9af1-618ff48f96da\">\n",
              "    <div class=\"colab-df-container\">\n",
              "      <div>\n",
              "<style scoped>\n",
              "    .dataframe tbody tr th:only-of-type {\n",
              "        vertical-align: middle;\n",
              "    }\n",
              "\n",
              "    .dataframe tbody tr th {\n",
              "        vertical-align: top;\n",
              "    }\n",
              "\n",
              "    .dataframe thead th {\n",
              "        text-align: right;\n",
              "    }\n",
              "</style>\n",
              "<table border=\"1\" class=\"dataframe\">\n",
              "  <thead>\n",
              "    <tr style=\"text-align: right;\">\n",
              "      <th></th>\n",
              "      <th>autor</th>\n",
              "      <th>texto</th>\n",
              "      <th>sentimento</th>\n",
              "      <th>tipoInteracao</th>\n",
              "    </tr>\n",
              "  </thead>\n",
              "  <tbody>\n",
              "    <tr>\n",
              "      <th>0</th>\n",
              "      <td>v8_capital</td>\n",
              "      <td>Confira os resultados dos nossos fundos no mês...</td>\n",
              "      <td>NEUTRAL</td>\n",
              "      <td>marcação</td>\n",
              "    </tr>\n",
              "    <tr>\n",
              "      <th>1</th>\n",
              "      <td>winthegame_of</td>\n",
              "      <td>A Alvarez &amp; Marsal estará conosco no Sportainm...</td>\n",
              "      <td>NEUTRAL</td>\n",
              "      <td>marcação</td>\n",
              "    </tr>\n",
              "    <tr>\n",
              "      <th>2</th>\n",
              "      <td>marta_bego</td>\n",
              "      <td>#Repost btgpactual with make_repost ・・・ Entend...</td>\n",
              "      <td>NEUTRAL</td>\n",
              "      <td>marcação</td>\n",
              "    </tr>\n",
              "    <tr>\n",
              "      <th>3</th>\n",
              "      <td>lmviapiana</td>\n",
              "      <td>Minuto touro de ouro</td>\n",
              "      <td>POSITIVE</td>\n",
              "      <td>comentário</td>\n",
              "    </tr>\n",
              "    <tr>\n",
              "      <th>4</th>\n",
              "      <td>vanilson_dos</td>\n",
              "      <td>@ricktolledo Sim</td>\n",
              "      <td>NEUTRAL</td>\n",
              "      <td>resposta</td>\n",
              "    </tr>\n",
              "    <tr>\n",
              "      <th>...</th>\n",
              "      <td>...</td>\n",
              "      <td>...</td>\n",
              "      <td>...</td>\n",
              "      <td>...</td>\n",
              "    </tr>\n",
              "    <tr>\n",
              "      <th>12350</th>\n",
              "      <td>onixcapital</td>\n",
              "      <td>Uma noite de encontros e muito conhecimento on...</td>\n",
              "      <td>NEUTRAL</td>\n",
              "      <td>marcação</td>\n",
              "    </tr>\n",
              "    <tr>\n",
              "      <th>12351</th>\n",
              "      <td>amgcapitalinvest</td>\n",
              "      <td>Erros financeiros para eliminar antes dos 30 a...</td>\n",
              "      <td>NEUTRAL</td>\n",
              "      <td>marcação</td>\n",
              "    </tr>\n",
              "    <tr>\n",
              "      <th>12352</th>\n",
              "      <td>jayipacderota</td>\n",
              "      <td>Estou muito grato por todo o esforço que você ...</td>\n",
              "      <td>POSITIVE</td>\n",
              "      <td>comentário</td>\n",
              "    </tr>\n",
              "    <tr>\n",
              "      <th>12353</th>\n",
              "      <td>moinho_cultural</td>\n",
              "      <td>\"👉GUADAKAN está chegando!!!!  A aula pública e...</td>\n",
              "      <td>NEUTRAL</td>\n",
              "      <td>marcação</td>\n",
              "    </tr>\n",
              "    <tr>\n",
              "      <th>12354</th>\n",
              "      <td>bfmarilia</td>\n",
              "      <td>@btgpactual pq o morning call não está mais ap...</td>\n",
              "      <td>NEGATIVE</td>\n",
              "      <td>comentário</td>\n",
              "    </tr>\n",
              "  </tbody>\n",
              "</table>\n",
              "<p>12193 rows × 4 columns</p>\n",
              "</div>\n",
              "      <button class=\"colab-df-convert\" onclick=\"convertToInteractive('df-800ce789-3b13-4e53-9af1-618ff48f96da')\"\n",
              "              title=\"Convert this dataframe to an interactive table.\"\n",
              "              style=\"display:none;\">\n",
              "        \n",
              "  <svg xmlns=\"http://www.w3.org/2000/svg\" height=\"24px\"viewBox=\"0 0 24 24\"\n",
              "       width=\"24px\">\n",
              "    <path d=\"M0 0h24v24H0V0z\" fill=\"none\"/>\n",
              "    <path d=\"M18.56 5.44l.94 2.06.94-2.06 2.06-.94-2.06-.94-.94-2.06-.94 2.06-2.06.94zm-11 1L8.5 8.5l.94-2.06 2.06-.94-2.06-.94L8.5 2.5l-.94 2.06-2.06.94zm10 10l.94 2.06.94-2.06 2.06-.94-2.06-.94-.94-2.06-.94 2.06-2.06.94z\"/><path d=\"M17.41 7.96l-1.37-1.37c-.4-.4-.92-.59-1.43-.59-.52 0-1.04.2-1.43.59L10.3 9.45l-7.72 7.72c-.78.78-.78 2.05 0 2.83L4 21.41c.39.39.9.59 1.41.59.51 0 1.02-.2 1.41-.59l7.78-7.78 2.81-2.81c.8-.78.8-2.07 0-2.86zM5.41 20L4 18.59l7.72-7.72 1.47 1.35L5.41 20z\"/>\n",
              "  </svg>\n",
              "      </button>\n",
              "      \n",
              "  <style>\n",
              "    .colab-df-container {\n",
              "      display:flex;\n",
              "      flex-wrap:wrap;\n",
              "      gap: 12px;\n",
              "    }\n",
              "\n",
              "    .colab-df-convert {\n",
              "      background-color: #E8F0FE;\n",
              "      border: none;\n",
              "      border-radius: 50%;\n",
              "      cursor: pointer;\n",
              "      display: none;\n",
              "      fill: #1967D2;\n",
              "      height: 32px;\n",
              "      padding: 0 0 0 0;\n",
              "      width: 32px;\n",
              "    }\n",
              "\n",
              "    .colab-df-convert:hover {\n",
              "      background-color: #E2EBFA;\n",
              "      box-shadow: 0px 1px 2px rgba(60, 64, 67, 0.3), 0px 1px 3px 1px rgba(60, 64, 67, 0.15);\n",
              "      fill: #174EA6;\n",
              "    }\n",
              "\n",
              "    [theme=dark] .colab-df-convert {\n",
              "      background-color: #3B4455;\n",
              "      fill: #D2E3FC;\n",
              "    }\n",
              "\n",
              "    [theme=dark] .colab-df-convert:hover {\n",
              "      background-color: #434B5C;\n",
              "      box-shadow: 0px 1px 3px 1px rgba(0, 0, 0, 0.15);\n",
              "      filter: drop-shadow(0px 1px 2px rgba(0, 0, 0, 0.3));\n",
              "      fill: #FFFFFF;\n",
              "    }\n",
              "  </style>\n",
              "\n",
              "      <script>\n",
              "        const buttonEl =\n",
              "          document.querySelector('#df-800ce789-3b13-4e53-9af1-618ff48f96da button.colab-df-convert');\n",
              "        buttonEl.style.display =\n",
              "          google.colab.kernel.accessAllowed ? 'block' : 'none';\n",
              "\n",
              "        async function convertToInteractive(key) {\n",
              "          const element = document.querySelector('#df-800ce789-3b13-4e53-9af1-618ff48f96da');\n",
              "          const dataTable =\n",
              "            await google.colab.kernel.invokeFunction('convertToInteractive',\n",
              "                                                     [key], {});\n",
              "          if (!dataTable) return;\n",
              "\n",
              "          const docLinkHtml = 'Like what you see? Visit the ' +\n",
              "            '<a target=\"_blank\" href=https://colab.research.google.com/notebooks/data_table.ipynb>data table notebook</a>'\n",
              "            + ' to learn more about interactive tables.';\n",
              "          element.innerHTML = '';\n",
              "          dataTable['output_type'] = 'display_data';\n",
              "          await google.colab.output.renderOutput(dataTable, element);\n",
              "          const docLink = document.createElement('div');\n",
              "          docLink.innerHTML = docLinkHtml;\n",
              "          element.appendChild(docLink);\n",
              "        }\n",
              "      </script>\n",
              "    </div>\n",
              "  </div>\n",
              "  "
            ]
          },
          "metadata": {},
          "execution_count": 68
        }
      ]
    },
    {
      "cell_type": "markdown",
      "source": [
        "- Confirmação de não nulos dentro da coluna texto"
      ],
      "metadata": {
        "id": "wViz-iODZ8Ho"
      }
    },
    {
      "cell_type": "code",
      "source": [
        "df = data_limpo.dropna(subset = ['texto'])\n",
        "df"
      ],
      "metadata": {
        "colab": {
          "base_uri": "https://localhost:8080/",
          "height": 0
        },
        "id": "ouY_u0mcYStX",
        "outputId": "eecf6ee9-555b-4f8a-ec84-e26072b00f12"
      },
      "execution_count": 69,
      "outputs": [
        {
          "output_type": "execute_result",
          "data": {
            "text/plain": [
              "                  autor                                              texto  \\\n",
              "0            v8_capital  Confira os resultados dos nossos fundos no mês...   \n",
              "1         winthegame_of  A Alvarez & Marsal estará conosco no Sportainm...   \n",
              "2            marta_bego  #Repost btgpactual with make_repost ・・・ Entend...   \n",
              "3            lmviapiana                               Minuto touro de ouro   \n",
              "4          vanilson_dos                                   @ricktolledo Sim   \n",
              "...                 ...                                                ...   \n",
              "12350       onixcapital  Uma noite de encontros e muito conhecimento on...   \n",
              "12351  amgcapitalinvest  Erros financeiros para eliminar antes dos 30 a...   \n",
              "12352     jayipacderota  Estou muito grato por todo o esforço que você ...   \n",
              "12353   moinho_cultural  \"👉GUADAKAN está chegando!!!!  A aula pública e...   \n",
              "12354         bfmarilia  @btgpactual pq o morning call não está mais ap...   \n",
              "\n",
              "      sentimento tipoInteracao  \n",
              "0        NEUTRAL      marcação  \n",
              "1        NEUTRAL      marcação  \n",
              "2        NEUTRAL      marcação  \n",
              "3       POSITIVE    comentário  \n",
              "4        NEUTRAL      resposta  \n",
              "...          ...           ...  \n",
              "12350    NEUTRAL      marcação  \n",
              "12351    NEUTRAL      marcação  \n",
              "12352   POSITIVE    comentário  \n",
              "12353    NEUTRAL      marcação  \n",
              "12354   NEGATIVE    comentário  \n",
              "\n",
              "[12193 rows x 4 columns]"
            ],
            "text/html": [
              "\n",
              "  <div id=\"df-4b296947-baca-44fe-ba37-ea63a857afce\">\n",
              "    <div class=\"colab-df-container\">\n",
              "      <div>\n",
              "<style scoped>\n",
              "    .dataframe tbody tr th:only-of-type {\n",
              "        vertical-align: middle;\n",
              "    }\n",
              "\n",
              "    .dataframe tbody tr th {\n",
              "        vertical-align: top;\n",
              "    }\n",
              "\n",
              "    .dataframe thead th {\n",
              "        text-align: right;\n",
              "    }\n",
              "</style>\n",
              "<table border=\"1\" class=\"dataframe\">\n",
              "  <thead>\n",
              "    <tr style=\"text-align: right;\">\n",
              "      <th></th>\n",
              "      <th>autor</th>\n",
              "      <th>texto</th>\n",
              "      <th>sentimento</th>\n",
              "      <th>tipoInteracao</th>\n",
              "    </tr>\n",
              "  </thead>\n",
              "  <tbody>\n",
              "    <tr>\n",
              "      <th>0</th>\n",
              "      <td>v8_capital</td>\n",
              "      <td>Confira os resultados dos nossos fundos no mês...</td>\n",
              "      <td>NEUTRAL</td>\n",
              "      <td>marcação</td>\n",
              "    </tr>\n",
              "    <tr>\n",
              "      <th>1</th>\n",
              "      <td>winthegame_of</td>\n",
              "      <td>A Alvarez &amp; Marsal estará conosco no Sportainm...</td>\n",
              "      <td>NEUTRAL</td>\n",
              "      <td>marcação</td>\n",
              "    </tr>\n",
              "    <tr>\n",
              "      <th>2</th>\n",
              "      <td>marta_bego</td>\n",
              "      <td>#Repost btgpactual with make_repost ・・・ Entend...</td>\n",
              "      <td>NEUTRAL</td>\n",
              "      <td>marcação</td>\n",
              "    </tr>\n",
              "    <tr>\n",
              "      <th>3</th>\n",
              "      <td>lmviapiana</td>\n",
              "      <td>Minuto touro de ouro</td>\n",
              "      <td>POSITIVE</td>\n",
              "      <td>comentário</td>\n",
              "    </tr>\n",
              "    <tr>\n",
              "      <th>4</th>\n",
              "      <td>vanilson_dos</td>\n",
              "      <td>@ricktolledo Sim</td>\n",
              "      <td>NEUTRAL</td>\n",
              "      <td>resposta</td>\n",
              "    </tr>\n",
              "    <tr>\n",
              "      <th>...</th>\n",
              "      <td>...</td>\n",
              "      <td>...</td>\n",
              "      <td>...</td>\n",
              "      <td>...</td>\n",
              "    </tr>\n",
              "    <tr>\n",
              "      <th>12350</th>\n",
              "      <td>onixcapital</td>\n",
              "      <td>Uma noite de encontros e muito conhecimento on...</td>\n",
              "      <td>NEUTRAL</td>\n",
              "      <td>marcação</td>\n",
              "    </tr>\n",
              "    <tr>\n",
              "      <th>12351</th>\n",
              "      <td>amgcapitalinvest</td>\n",
              "      <td>Erros financeiros para eliminar antes dos 30 a...</td>\n",
              "      <td>NEUTRAL</td>\n",
              "      <td>marcação</td>\n",
              "    </tr>\n",
              "    <tr>\n",
              "      <th>12352</th>\n",
              "      <td>jayipacderota</td>\n",
              "      <td>Estou muito grato por todo o esforço que você ...</td>\n",
              "      <td>POSITIVE</td>\n",
              "      <td>comentário</td>\n",
              "    </tr>\n",
              "    <tr>\n",
              "      <th>12353</th>\n",
              "      <td>moinho_cultural</td>\n",
              "      <td>\"👉GUADAKAN está chegando!!!!  A aula pública e...</td>\n",
              "      <td>NEUTRAL</td>\n",
              "      <td>marcação</td>\n",
              "    </tr>\n",
              "    <tr>\n",
              "      <th>12354</th>\n",
              "      <td>bfmarilia</td>\n",
              "      <td>@btgpactual pq o morning call não está mais ap...</td>\n",
              "      <td>NEGATIVE</td>\n",
              "      <td>comentário</td>\n",
              "    </tr>\n",
              "  </tbody>\n",
              "</table>\n",
              "<p>12193 rows × 4 columns</p>\n",
              "</div>\n",
              "      <button class=\"colab-df-convert\" onclick=\"convertToInteractive('df-4b296947-baca-44fe-ba37-ea63a857afce')\"\n",
              "              title=\"Convert this dataframe to an interactive table.\"\n",
              "              style=\"display:none;\">\n",
              "        \n",
              "  <svg xmlns=\"http://www.w3.org/2000/svg\" height=\"24px\"viewBox=\"0 0 24 24\"\n",
              "       width=\"24px\">\n",
              "    <path d=\"M0 0h24v24H0V0z\" fill=\"none\"/>\n",
              "    <path d=\"M18.56 5.44l.94 2.06.94-2.06 2.06-.94-2.06-.94-.94-2.06-.94 2.06-2.06.94zm-11 1L8.5 8.5l.94-2.06 2.06-.94-2.06-.94L8.5 2.5l-.94 2.06-2.06.94zm10 10l.94 2.06.94-2.06 2.06-.94-2.06-.94-.94-2.06-.94 2.06-2.06.94z\"/><path d=\"M17.41 7.96l-1.37-1.37c-.4-.4-.92-.59-1.43-.59-.52 0-1.04.2-1.43.59L10.3 9.45l-7.72 7.72c-.78.78-.78 2.05 0 2.83L4 21.41c.39.39.9.59 1.41.59.51 0 1.02-.2 1.41-.59l7.78-7.78 2.81-2.81c.8-.78.8-2.07 0-2.86zM5.41 20L4 18.59l7.72-7.72 1.47 1.35L5.41 20z\"/>\n",
              "  </svg>\n",
              "      </button>\n",
              "      \n",
              "  <style>\n",
              "    .colab-df-container {\n",
              "      display:flex;\n",
              "      flex-wrap:wrap;\n",
              "      gap: 12px;\n",
              "    }\n",
              "\n",
              "    .colab-df-convert {\n",
              "      background-color: #E8F0FE;\n",
              "      border: none;\n",
              "      border-radius: 50%;\n",
              "      cursor: pointer;\n",
              "      display: none;\n",
              "      fill: #1967D2;\n",
              "      height: 32px;\n",
              "      padding: 0 0 0 0;\n",
              "      width: 32px;\n",
              "    }\n",
              "\n",
              "    .colab-df-convert:hover {\n",
              "      background-color: #E2EBFA;\n",
              "      box-shadow: 0px 1px 2px rgba(60, 64, 67, 0.3), 0px 1px 3px 1px rgba(60, 64, 67, 0.15);\n",
              "      fill: #174EA6;\n",
              "    }\n",
              "\n",
              "    [theme=dark] .colab-df-convert {\n",
              "      background-color: #3B4455;\n",
              "      fill: #D2E3FC;\n",
              "    }\n",
              "\n",
              "    [theme=dark] .colab-df-convert:hover {\n",
              "      background-color: #434B5C;\n",
              "      box-shadow: 0px 1px 3px 1px rgba(0, 0, 0, 0.15);\n",
              "      filter: drop-shadow(0px 1px 2px rgba(0, 0, 0, 0.3));\n",
              "      fill: #FFFFFF;\n",
              "    }\n",
              "  </style>\n",
              "\n",
              "      <script>\n",
              "        const buttonEl =\n",
              "          document.querySelector('#df-4b296947-baca-44fe-ba37-ea63a857afce button.colab-df-convert');\n",
              "        buttonEl.style.display =\n",
              "          google.colab.kernel.accessAllowed ? 'block' : 'none';\n",
              "\n",
              "        async function convertToInteractive(key) {\n",
              "          const element = document.querySelector('#df-4b296947-baca-44fe-ba37-ea63a857afce');\n",
              "          const dataTable =\n",
              "            await google.colab.kernel.invokeFunction('convertToInteractive',\n",
              "                                                     [key], {});\n",
              "          if (!dataTable) return;\n",
              "\n",
              "          const docLinkHtml = 'Like what you see? Visit the ' +\n",
              "            '<a target=\"_blank\" href=https://colab.research.google.com/notebooks/data_table.ipynb>data table notebook</a>'\n",
              "            + ' to learn more about interactive tables.';\n",
              "          element.innerHTML = '';\n",
              "          dataTable['output_type'] = 'display_data';\n",
              "          await google.colab.output.renderOutput(dataTable, element);\n",
              "          const docLink = document.createElement('div');\n",
              "          docLink.innerHTML = docLinkHtml;\n",
              "          element.appendChild(docLink);\n",
              "        }\n",
              "      </script>\n",
              "    </div>\n",
              "  </div>\n",
              "  "
            ]
          },
          "metadata": {},
          "execution_count": 69
        }
      ]
    },
    {
      "cell_type": "markdown",
      "source": [
        "## 2.1 Visualização dos dados"
      ],
      "metadata": {
        "id": "TyuQCxliZjcN"
      }
    },
    {
      "cell_type": "markdown",
      "source": [
        "### Autores que mais comentam"
      ],
      "metadata": {
        "id": "MKTbXtdzZpjz"
      }
    },
    {
      "cell_type": "code",
      "source": [
        "# Contagem de palavras\n",
        "autor_counts = df['autor'].explode().value_counts()\n",
        "\n",
        "# Plotagem do gráfico de barras\n",
        "plt.figure(figsize=(10, 6))\n",
        "autor_counts.head(15).plot(kind='bar')\n",
        "plt.xlabel('Autores')\n",
        "plt.ylabel('Contagem')\n",
        "plt.title('Autores que mais comentam')\n",
        "plt.show()"
      ],
      "metadata": {
        "colab": {
          "base_uri": "https://localhost:8080/",
          "height": 0
        },
        "id": "WNrQYNFiZnpb",
        "outputId": "c8e1f020-3c53-4dff-e113-e4e66330a7b7"
      },
      "execution_count": 70,
      "outputs": [
        {
          "output_type": "display_data",
          "data": {
            "text/plain": [
              "<Figure size 1000x600 with 1 Axes>"
            ],
            "image/png": "[encoded data removed]"
          },
          "metadata": {}
        }
      ]
    },
    {
      "cell_type": "markdown",
      "source": [
        "### Os tipos de interações mais frequentes"
      ],
      "metadata": {
        "id": "sYGeiaQHaZNz"
      }
    },
    {
      "cell_type": "code",
      "source": [
        "# Contar os tipos de interação\n",
        "count_interactions = df['tipoInteracao'].value_counts()\n",
        "# Criar o gráfico de pizza\n",
        "plt.figure(figsize=(8, 6))\n",
        "count_interactions.plot(kind='pie', autopct='%1.1f%%')\n",
        "plt.title('Tipos de Interação')\n",
        "plt.ylabel('')\n",
        "plt.show()"
      ],
      "metadata": {
        "colab": {
          "base_uri": "https://localhost:8080/",
          "height": 0
        },
        "id": "H2Vp5PhIaUIL",
        "outputId": "93b0e8eb-da83-4428-c25f-9fb5cc97c83a"
      },
      "execution_count": 71,
      "outputs": [
        {
          "output_type": "display_data",
          "data": {
            "text/plain": [
              "<Figure size 800x600 with 1 Axes>"
            ],
            "image/png": "[encoded data removed]"
          },
          "metadata": {}
        }
      ]
    },
    {
      "cell_type": "markdown",
      "source": [
        "### Tipos de sentimentos mais frequentes"
      ],
      "metadata": {
        "id": "rDXwuuTPauDz"
      }
    },
    {
      "cell_type": "code",
      "source": [
        "# Contar os tipos de sentimentos\n",
        "count_sentimentos = df['sentimento'].value_counts()\n",
        "\n",
        "# Plotagem do gráfico de barras\n",
        "plt.figure(figsize=(10, 6))\n",
        "count_sentimentos.plot(kind='bar')\n",
        "plt.xlabel('Sentimentos')\n",
        "plt.ylabel('Contagem')\n",
        "plt.title('Tipos de Sentimento')\n",
        "plt.show()"
      ],
      "metadata": {
        "colab": {
          "base_uri": "https://localhost:8080/",
          "height": 0
        },
        "id": "ZDR12KgFa1W0",
        "outputId": "f5cfe4d2-ba27-4f30-9153-e90f415c2636"
      },
      "execution_count": 72,
      "outputs": [
        {
          "output_type": "display_data",
          "data": {
            "text/plain": [
              "<Figure size 1000x600 with 1 Axes>"
            ],
            "image/png": "[encoded data removed]"
          },
          "metadata": {}
        }
      ]
    },
    {
      "cell_type": "markdown",
      "source": [
        "### Frequência dos sentimentos por tipo de Interação"
      ],
      "metadata": {
        "id": "HRvWyNBvbiPL"
      }
    },
    {
      "cell_type": "code",
      "source": [
        "# Contar os tipos de sentimentos por Interação\n",
        "contagem = df.groupby(['tipoInteracao', 'sentimento']).size().unstack(fill_value=0)\n",
        "\n",
        "# Plotagem do gráfico de barras\n",
        "plt.figure(figsize=(10, 6))\n",
        "contagem.plot(kind='bar', stacked=True)\n",
        "plt.xlabel('Sentimentos por Interação')\n",
        "plt.ylabel('Contagem')\n",
        "plt.title('Tipos de Sentimento')\n",
        "plt.show()"
      ],
      "metadata": {
        "colab": {
          "base_uri": "https://localhost:8080/",
          "height": 0
        },
        "id": "pA0OE1_5bmf0",
        "outputId": "8bdbabd3-13f1-47c3-ca4f-cf55e7361f7f"
      },
      "execution_count": 73,
      "outputs": [
        {
          "output_type": "display_data",
          "data": {
            "text/plain": [
              "<Figure size 1000x600 with 0 Axes>"
            ]
          },
          "metadata": {}
        },
        {
          "output_type": "display_data",
          "data": {
            "text/plain": [
              "<Figure size 640x480 with 1 Axes>"
            ],
            "image/png": "[encoded data removed]"
          },
          "metadata": {}
        }
      ]
    },
    {
      "cell_type": "markdown",
      "source": [
        "# 3. Testes isolados\n",
        "\n"
      ],
      "metadata": {
        "id": "Gtc7uvYsoiLL"
      }
    },
    {
      "cell_type": "markdown",
      "source": [
        "Nesta seção, começamos a fazer testes isolados para demonstrar como é o funcionamento de alguns dos pré-processos que iremos utilizar no dataframe principal. O objetivo é dar um exemplo para visualizar como iremos utilizar antes de ser aplicado em outras funções. Os pré-processos são:\n",
        "- Tokenização\n",
        "- Tratamento de emojis\n",
        "- Tratamento de abreviações\n",
        "- Remoção de Stopwords\n",
        "- Remoção de Alfanuméricos\n",
        "- Lematização"
      ],
      "metadata": {
        "id": "CU8h74JIy9Za"
      }
    },
    {
      "cell_type": "markdown",
      "source": [
        "#### 3.1 Tokenização"
      ],
      "metadata": {
        "id": "dWVR5pymo0lC"
      }
    },
    {
      "cell_type": "markdown",
      "source": [
        "Aqui estamos pegando a frase e separando ela em suas diversas palavras e componentes."
      ],
      "metadata": {
        "id": "j1ENR_Z2lPUU"
      }
    },
    {
      "cell_type": "code",
      "source": [
        "text = \"@btgpacutal https://linkd.in/AQwasd Pessoal, vcs sabiam que esse é o melhor banco da América Latina?!😍 #teste123\"\n",
        "\n",
        "tk = TweetTokenizer()\n",
        "words = tk.tokenize(text)  \n",
        "\n",
        "words"
      ],
      "metadata": {
        "id": "Zjj1rRDo7MRc",
        "colab": {
          "base_uri": "https://localhost:8080/"
        },
        "outputId": "cfed8026-34b0-41a6-a8ab-654d919cdb48"
      },
      "execution_count": 86,
      "outputs": [
        {
          "output_type": "execute_result",
          "data": {
            "text/plain": [
              "['@btgpacutal',\n",
              " 'https://linkd.in/AQwasd',\n",
              " 'Pessoal',\n",
              " ',',\n",
              " 'vcs',\n",
              " 'sabiam',\n",
              " 'que',\n",
              " 'esse',\n",
              " 'é',\n",
              " 'o',\n",
              " 'melhor',\n",
              " 'banco',\n",
              " 'da',\n",
              " 'América',\n",
              " 'Latina',\n",
              " '?',\n",
              " '!',\n",
              " '😍',\n",
              " '#teste123']"
            ]
          },
          "metadata": {},
          "execution_count": 86
        }
      ]
    },
    {
      "cell_type": "markdown",
      "source": [
        "#### 3.2 Tratamento de emoji"
      ],
      "metadata": {
        "id": "YXTO6TFClsbD"
      }
    },
    {
      "cell_type": "markdown",
      "source": [
        "Aqui fazemos o tratamento do emoji que foi visto na frase anterior.\n",
        "\n",
        "Passamos de um valor \"visual\" para um valor \"textual\""
      ],
      "metadata": {
        "id": "S38KnBugl_ot"
      }
    },
    {
      "cell_type": "code",
      "source": [
        "demojized = [emoji.demojize(word) if emoji.emoji_count(word) > 0 else word for word in words]\n",
        "demojized = [word.replace(\":\", \"\").replace(\"_\", \"\") if any(c in word for c in [\":\", \"_\"]) else word for word in demojized]\n",
        "demojized = [word.replace(\"-\", \"_\") if \"-\" in word else word for word in demojized]\n",
        "\n",
        "demojized"
      ],
      "metadata": {
        "colab": {
          "base_uri": "https://localhost:8080/"
        },
        "id": "BAJwlpPDlw3l",
        "outputId": "04e020b9-39c5-4c2f-8730-a2234b4d1673"
      },
      "execution_count": 89,
      "outputs": [
        {
          "output_type": "execute_result",
          "data": {
            "text/plain": [
              "['@btgpacutal',\n",
              " 'https//linkd.in/AQwasd',\n",
              " 'Pessoal',\n",
              " ',',\n",
              " 'vcs',\n",
              " 'sabiam',\n",
              " 'que',\n",
              " 'esse',\n",
              " 'é',\n",
              " 'o',\n",
              " 'melhor',\n",
              " 'banco',\n",
              " 'da',\n",
              " 'América',\n",
              " 'Latina',\n",
              " '?',\n",
              " '!',\n",
              " 'smilingfacewithheart_eyes',\n",
              " '#teste123']"
            ]
          },
          "metadata": {},
          "execution_count": 89
        }
      ]
    },
    {
      "cell_type": "markdown",
      "source": [
        "#### 3.3 Remoção de Alfanuméricos"
      ],
      "metadata": {
        "id": "-OusB6_u0IEA"
      }
    },
    {
      "cell_type": "code",
      "source": [
        "output_list = []\n",
        "for word in demojized:\n",
        "    if word.strip(): \n",
        "        palavra_sem_marcacao = re.sub((r'@\\w*'), '', word)\n",
        "        palavra_sem_hashtag = re.sub((r'#\\w*'), '', palavra_sem_marcacao)\n",
        "        palavra_sem_hyperlink = re.sub(r'https\\S*', '', palavra_sem_hashtag)\n",
        "        output_list.extend(re.findall(r'\\w+', palavra_sem_hyperlink)) # analisar se não é melhor usar o append em vez de extend\n",
        "\n",
        "output_list"
      ],
      "metadata": {
        "colab": {
          "base_uri": "https://localhost:8080/"
        },
        "id": "2ARnziKEnKyM",
        "outputId": "983d482b-531d-4198-c33d-5095b3ba7e61"
      },
      "execution_count": 96,
      "outputs": [
        {
          "output_type": "execute_result",
          "data": {
            "text/plain": [
              "['Pessoal',\n",
              " 'vcs',\n",
              " 'sabiam',\n",
              " 'que',\n",
              " 'esse',\n",
              " 'é',\n",
              " 'o',\n",
              " 'melhor',\n",
              " 'banco',\n",
              " 'da',\n",
              " 'América',\n",
              " 'Latina',\n",
              " 'smilingfacewithheart_eyes']"
            ]
          },
          "metadata": {},
          "execution_count": 96
        }
      ]
    },
    {
      "cell_type": "markdown",
      "source": [
        "#### 3.3 Tratamento de abreviações"
      ],
      "metadata": {
        "id": "bADS_AWBaorC"
      }
    },
    {
      "cell_type": "code",
      "source": [
        "norm = Normaliser(tokenizer='readable')\n",
        "palavras_normalizadas = []\n",
        "\n",
        "for palavra in demojized:\n",
        "  normalizacao = norm.normalise(palavra)\n",
        "  palavras_normalizadas.append(normalizacao)\n",
        "\n",
        "# Verificando se alguma palavra normalizada contém '_'\n",
        "palavras_tratadas = []\n",
        "for palavra in palavras_normalizadas:\n",
        "    if '_' in palavra:\n",
        "        tratado = palavra.replace(' ', '')\n",
        "        palavras_tratadas.append(tratado)\n",
        "    else:\n",
        "        palavras_tratadas.append(palavra)\n",
        "\n",
        "print(palavras_tratadas)"
      ],
      "metadata": {
        "colab": {
          "base_uri": "https://localhost:8080/"
        },
        "id": "hxBAIUB3aoTp",
        "outputId": "201b5059-dc55-493d-ab42-32476a1bd9cc"
      },
      "execution_count": 88,
      "outputs": [
        {
          "output_type": "stream",
          "name": "stdout",
          "text": [
            "['@btgpacutal', 'tops / / link . in / abas', 'pessoal', ',', 'vocês', 'sabiam', 'que', 'esse', 'é', 'o', 'melhor', 'banco', 'da', 'américa', 'latina', '?', '!', 'smilingfacewithheart_eyes', '#teste123']\n"
          ]
        }
      ]
    },
    {
      "cell_type": "markdown",
      "source": [
        "#### 3.4 Remoção de stopwords"
      ],
      "metadata": {
        "id": "q4I_xuhKopPC"
      }
    },
    {
      "cell_type": "markdown",
      "source": [
        "Aqui nós iremos remover palavras que consideramos \"desnecessárias\" para a análise de sentimentos.\n",
        "\n",
        "Iremos demonstrar uma lista de quais palavras podem ser essas."
      ],
      "metadata": {
        "id": "zeqhAtOqlY41"
      }
    },
    {
      "cell_type": "code",
      "source": [
        "stopwords = nltk.corpus.stopwords.words('portuguese')\n",
        "\n",
        "stopwords[:10] # exemplo de até 10 palavras, mas podem ser usadas mais que isso"
      ],
      "metadata": {
        "id": "sNN1ILXe7AFt",
        "colab": {
          "base_uri": "https://localhost:8080/"
        },
        "outputId": "f01de6b1-7470-4c6b-ab1c-961e9cffe07f"
      },
      "execution_count": 77,
      "outputs": [
        {
          "output_type": "execute_result",
          "data": {
            "text/plain": [
              "['a',\n",
              " 'à',\n",
              " 'ao',\n",
              " 'aos',\n",
              " 'aquela',\n",
              " 'aquelas',\n",
              " 'aquele',\n",
              " 'aqueles',\n",
              " 'aquilo',\n",
              " 'as']"
            ]
          },
          "metadata": {},
          "execution_count": 77
        }
      ]
    },
    {
      "cell_type": "code",
      "source": [
        "filtered_demojized = []\n",
        "\n",
        "for palavra in palavras_tratadas:\n",
        "    if palavra not in stopwords:\n",
        "        filtered_demojized.append(palavra)\n",
        "\n",
        "filtered_demojized"
      ],
      "metadata": {
        "id": "VGVgEUQSbSkw",
        "colab": {
          "base_uri": "https://localhost:8080/"
        },
        "outputId": "f42805ea-8141-4175-8928-99fda65e4252"
      },
      "execution_count": 78,
      "outputs": [
        {
          "output_type": "execute_result",
          "data": {
            "text/plain": [
              "['@',\n",
              " 'btgpacutal',\n",
              " 'tops',\n",
              " '',\n",
              " '/ / link . in / abas',\n",
              " 'pessoal',\n",
              " ',',\n",
              " 'sabiam',\n",
              " 'melhor',\n",
              " 'banco',\n",
              " 'américa',\n",
              " 'latina',\n",
              " '?',\n",
              " '!',\n",
              " 'smilingfacewithheart_eyes',\n",
              " '',\n",
              " 'teste123']"
            ]
          },
          "metadata": {},
          "execution_count": 78
        }
      ]
    },
    {
      "cell_type": "markdown",
      "source": [
        "#### 3.6 Lematização\n"
      ],
      "metadata": {
        "id": "RqpbbRfd0NF_"
      }
    },
    {
      "cell_type": "markdown",
      "source": [
        "O modelo pt_core_news_sm do SpaCy para o português, que estamos utilizando, utiliza uma estratégia de lematização baseada em regras e dicionário. No entanto, o modelo pode não conseguir lematizar corretamente algumas palavras, especialmente quando se trata de casos irregulares."
      ],
      "metadata": {
        "id": "ogyIp6BPucP0"
      }
    },
    {
      "cell_type": "code",
      "source": [
        "nlp = spacy.load(\"pt_core_news_sm\")\n",
        "\n",
        "lista = []\n",
        "\n",
        "for palavra in output_list:\n",
        "  doc = nlp(palavra)\n",
        "  for token in doc:\n",
        "    if token.lemma_ != '-PRON-':  # Ignorar pronomes pessoais\n",
        "      if token.pos_ == 'VERB':  # Verificando se é um verbo\n",
        "          lema = token.lemma_\n",
        "          break\n",
        "      else:\n",
        "          lema = token.lemma_  # Usar o lema do token atual\n",
        "  lista.append(lema)\n",
        "\n",
        "print(lista)"
      ],
      "metadata": {
        "colab": {
          "base_uri": "https://localhost:8080/"
        },
        "id": "gA4Lf5mr1Yn9",
        "outputId": "5aaf0eee-e259-4106-e8a0-b3b9882f28ae"
      },
      "execution_count": 80,
      "outputs": [
        {
          "output_type": "stream",
          "name": "stdout",
          "text": [
            "['btgpacutal', 'top', 'linkr', 'in', 'aba', 'pessoal', 'sab', 'bom', 'Banco', 'américar', 'latino', 'smilingfacewithheart_eyes', 'Teste123']\n"
          ]
        }
      ]
    },
    {
      "cell_type": "markdown",
      "source": [
        "# 4. Definição de funções\n"
      ],
      "metadata": {
        "id": "NXXtTzX_otsa"
      }
    },
    {
      "cell_type": "markdown",
      "source": [
        "Aqui em definição de funções é onde iremos criar as funções referentes aos tratamentos que mostramos acima! Já que, dessa forma, poderemos chamar essas mesmas funções em qualquer momento para fazer o tratamento do conteúdo textual.\n",
        "- Tokenização\n",
        "- Tratamento de emojis\n",
        "- Tratamento de abreviações\n",
        "- Remoção de Stopwords\n",
        "- Remoção de Alfanuméricos\n",
        "- Lematização"
      ],
      "metadata": {
        "id": "QHHiUr7Ew3J2"
      }
    },
    {
      "cell_type": "markdown",
      "source": [
        "#### 4.1 Tokenização"
      ],
      "metadata": {
        "id": "sV1UiPN_Pwlz"
      }
    },
    {
      "cell_type": "code",
      "source": [
        "def tokenizer(comentarios):\n",
        "  comentarios_tokenizados = []\n",
        "  for comentario in comentarios:\n",
        "    palavras = nltk.word_tokenize(comentario.lower())\n",
        "    comentarios_tokenizados.append(palavras)\n",
        "  return comentarios_tokenizados"
      ],
      "metadata": {
        "id": "K-ZGEMf9iuXU"
      },
      "execution_count": 27,
      "outputs": []
    },
    {
      "cell_type": "markdown",
      "source": [
        "#### 4.2 Tratamento de abreviações \n"
      ],
      "metadata": {
        "id": "2wBghyWbkti5"
      }
    },
    {
      "cell_type": "code",
      "source": [
        "# Dicionário de gírias e abreviações para normalização\n",
        "dicionario_girias = {\n",
        "    'vc': 'você',\n",
        "    'vcs':'você',\n",
        "    'Vc': 'você',\n",
        "    'pq': 'porque',\n",
        "    'Pq': 'porque',\n",
        "    'tbm': 'também',\n",
        "    'q': 'que',\n",
        "    'td': 'tudo',\n",
        "    'blz': 'beleza',\n",
        "    'flw': 'falou',\n",
        "    'kd': 'cadê',\n",
        "    'Gnt ': 'gente',\n",
        "    'gnt ': 'gente',\n",
        "    'to': 'estou',\n",
        "    'mt': 'muito',\n",
        "    'cmg': 'comigo',\n",
        "    'ctz': 'certeza',\n",
        "    'jah': 'já',\n",
        "    'naum': 'não',\n",
        "    'ta': 'está',\n",
        "    'eh': 'é',\n",
        "    'vdd': 'verdade',\n",
        "    'vlw': 'valeu',\n",
        "    'p': 'para',\n",
        "    'sdds': 'saudades',\n",
        "    'qnd': 'quando',\n",
        "    'msm': 'mesmo',\n",
        "    'fzr': 'fazer',\n",
        "    'ss': 'sim',\n",
        "    'Ss': 'sim',\n",
        "    'pdc': 'pode crer',\n",
        "    'nn': 'não',\n",
        "    'Nn': 'não',\n",
        "    'pls': 'please',\n",
        "    'obg': 'obrigado',\n",
        "    'agr': 'agora'\n",
        "}"
      ],
      "metadata": {
        "id": "54wEHn8Vl0QU"
      },
      "execution_count": 28,
      "outputs": []
    },
    {
      "cell_type": "code",
      "source": [
        "palavras_desconsideradas = {\n",
        "    \"warrenbrasil\", \"bicharaemotta\", \"sportainment\", \"sportainmet\", \"sportainmetâ\", \"sportainmentâ\", \"roundpushpin\",\n",
        "    \"hubstage\", \"kaletsky\", \"scandiuzzi\", \"futofmoney\", \"ricktolledo\", \"thaotinhasbfc\", \"winthegame\", \"romulofialdini\",\n",
        "    \"disclaimer\", \"astraoficialbr\", \"furnasenergia\", \"alelobrasil\", \"bancodaycoval\", \"grupohagana\", \"robertoljustus\",\n",
        "    \"steinwaybrasil\", \"joseavillez\", \"dianaroth\", \"beachtennis\", \"alliancejjteam\", \"fabiogurgel\", \"blackrocks\",\n",
        "    \"masterjacare\", \"gigipaivabjj\", \"clubefiinews\", \"mouratoglou\", \"octocapitalbr\", \"oficinadofraja\" \"blackintech\"}"
      ],
      "metadata": {
        "id": "u9zKsEjR0Kxj"
      },
      "execution_count": 29,
      "outputs": []
    },
    {
      "cell_type": "code",
      "source": [
        "def comentarios_normalizados(tokens, dicionario_girias, palavras_desconsideradas):\n",
        "  tokens_normalizados = []\n",
        "\n",
        "  for sentence in tokens:\n",
        "    treated = []\n",
        "\n",
        "    for palavra in sentence:\n",
        "        if palavra in palavras_desconsideradas:\n",
        "            treated.append(palavra)\n",
        "        else:\n",
        "            if palavra in dicionario_girias:\n",
        "                palavra_normalizada = dicionario_girias.get(palavra, palavra)\n",
        "                treated.append(palavra_normalizada)\n",
        "            else:\n",
        "                treated.append(palavra)\n",
        "\n",
        "    treated = [palavra.replace(' ', '') if '_' in palavra else palavra for palavra in treated]\n",
        "    tokens_normalizados.append(treated)\n",
        "\n",
        "  return tokens_normalizados"
      ],
      "metadata": {
        "id": "OH4pUnbvHE8R"
      },
      "execution_count": 30,
      "outputs": []
    },
    {
      "cell_type": "code",
      "source": [
        "texto_teste = df['texto'][:2]\n",
        "texto_teste"
      ],
      "metadata": {
        "colab": {
          "base_uri": "https://localhost:8080/"
        },
        "id": "hoGqCc-TPSyp",
        "outputId": "1c4a3df5-40f5-4445-a720-4eb2fadaacb8"
      },
      "execution_count": 58,
      "outputs": [
        {
          "output_type": "execute_result",
          "data": {
            "text/plain": [
              "0    Confira os resultados dos nossos fundos no mês...\n",
              "1    A Alvarez & Marsal estará conosco no Sportainm...\n",
              "Name: texto, dtype: object"
            ]
          },
          "metadata": {},
          "execution_count": 58
        }
      ]
    },
    {
      "cell_type": "code",
      "source": [
        "for sentence in texto_teste:\n",
        "    for word in sentence:\n",
        "        print(word)\n",
        "        break"
      ],
      "metadata": {
        "colab": {
          "base_uri": "https://localhost:8080/"
        },
        "id": "bfKe7Y6GPkEn",
        "outputId": "5a306d54-135a-4f2c-e8d2-65ffd42223ec"
      },
      "execution_count": 61,
      "outputs": [
        {
          "output_type": "stream",
          "name": "stdout",
          "text": [
            "C\n",
            "A\n"
          ]
        }
      ]
    },
    {
      "cell_type": "markdown",
      "source": [
        "#### 4.3 Tratamento de emoji"
      ],
      "metadata": {
        "id": "GaJO3yi3zZ03"
      }
    },
    {
      "cell_type": "code",
      "source": [
        "def demojize_tokens(tokens):\n",
        "  demojized_tokens = []\n",
        "  for termo in tokens:\n",
        "    demojized = [emoji.demojize(palavra) if emoji.emoji_count(palavra) > 0 else palavra for palavra in termo]\n",
        "    demojized = [palavra.replace(\":\", \"\").replace(\"_\", \"\") if any(c in palavra for c in [\":\", \"_\"]) else palavra for palavra in demojized]\n",
        "    demojized = [palavra.replace(\"-\", \"_\") if \"-\" in palavra else palavra for palavra in demojized]\n",
        "    demojized_tokens.append(demojized)\n",
        "  return demojized_tokens"
      ],
      "metadata": {
        "id": "vKbwBOnnju86"
      },
      "execution_count": 31,
      "outputs": []
    },
    {
      "cell_type": "markdown",
      "source": [
        "#### 4.4 Remoção de stopwords"
      ],
      "metadata": {
        "id": "8kdCwHvIN7t0"
      }
    },
    {
      "cell_type": "code",
      "source": [
        "def remove_stopwords(tokens):\n",
        "  stopwords = nltk.corpus.stopwords.words('portuguese')\n",
        "  filtered_tokens = []\n",
        "  for sentence in tokens:\n",
        "      filtered = [palavra for palavra in sentence if palavra not in stopwords]\n",
        "      filtered_tokens.append(filtered)\n",
        "  return filtered_tokens"
      ],
      "metadata": {
        "id": "dBSKFxAkove1"
      },
      "execution_count": 32,
      "outputs": []
    },
    {
      "cell_type": "markdown",
      "source": [
        "#### 4.5 Remoção de Alfanuméricos\n"
      ],
      "metadata": {
        "id": "wqN6xGQQGXku"
      }
    },
    {
      "cell_type": "code",
      "source": [
        "def removendo_alfanumericos(tokens):\n",
        "  output_tokens = []\n",
        "  for sentence in tokens:\n",
        "      output_list = []\n",
        "      for palavra in sentence:\n",
        "          if palavra.strip(): # Verifica se a palavra não é uma string vazia\n",
        "                palavra_sem_marcacao = re.sub((r'@\\w*'), '', palavra)\n",
        "                palavra_sem_hyperlink = re.sub(r'http\\s*|www.\\s*', '', palavra_sem_marcacao)\n",
        "                output_list.extend(re.findall(r'\\w+', palavra_sem_hyperlink)) # analisar se não é melhor usar o append em vez de extend\n",
        "      output_tokens.append(output_list)\n",
        "  return output_tokens"
      ],
      "metadata": {
        "id": "iUMW1oqQpGoL"
      },
      "execution_count": 49,
      "outputs": []
    },
    {
      "cell_type": "markdown",
      "source": [
        "#### 4.6 Lematização\n"
      ],
      "metadata": {
        "id": "aZPFr8nuEMk6"
      }
    },
    {
      "cell_type": "code",
      "source": [
        "def lematizacao(tokens):\n",
        "  # Carregar o modelo pré-treinado do SpaCy para o idioma português\n",
        "  nlp = spacy.load(\"pt_core_news_sm\")\n",
        "  lemmatized_tokens = []\n",
        "\n",
        "  for sentence in tokens:\n",
        "    lemma_list = []\n",
        "    doc = nlp(\" \".join(sentence))  # Unir as palavras da frase em uma única string\n",
        "\n",
        "    for token in doc:\n",
        "      if token.lemma_ != '-PRON-':\n",
        "        if token.pos_ == 'VERB':\n",
        "          palavra_lematizada = token.lemma_\n",
        "        else:\n",
        "          palavra_lematizada = token.lemma_\n",
        "\n",
        "        if palavra_lematizada:\n",
        "          lemma_list.append(palavra_lematizada)\n",
        "\n",
        "    lemmatized_tokens.append(lemma_list)\n",
        "    \n",
        "  # Converter todas as palavras para minúsculas\n",
        "  lemmatized_tokens_lower = []\n",
        "  for sentence in lemmatized_tokens:\n",
        "    sentence_lower = [palavra.lower() for palavra in sentence]\n",
        "    lemmatized_tokens_lower.append(sentence_lower)\n",
        "  \n",
        "  return lemmatized_tokens_lower"
      ],
      "metadata": {
        "id": "VEVaQQqBWe8C"
      },
      "execution_count": 34,
      "outputs": []
    },
    {
      "cell_type": "markdown",
      "source": [
        "#### 4.7 Processamento de texto"
      ],
      "metadata": {
        "id": "TLY8gThPA5JD"
      }
    },
    {
      "cell_type": "code",
      "source": [
        "def processarTexto(normTexto):\n",
        "  tokens_processados = normTexto.map(lematizacao)\n",
        "  return tokens_processados"
      ],
      "metadata": {
        "id": "vh79nSPGA37L"
      },
      "execution_count": 35,
      "outputs": []
    },
    {
      "cell_type": "markdown",
      "source": [
        "# 5. Testes das funções"
      ],
      "metadata": {
        "id": "1iNulehkqlAK"
      }
    },
    {
      "cell_type": "markdown",
      "source": [
        "#### Selecionando algumas frases para fazer testes"
      ],
      "metadata": {
        "id": "d4CNTG8oJt-o"
      }
    },
    {
      "cell_type": "code",
      "source": [
        "df"
      ],
      "metadata": {
        "colab": {
          "base_uri": "https://localhost:8080/",
          "height": 423
        },
        "id": "lPMB4OCCrBpM",
        "outputId": "850a32b4-7a18-46d3-aa4a-4b175c751d30"
      },
      "execution_count": 36,
      "outputs": [
        {
          "output_type": "execute_result",
          "data": {
            "text/plain": [
              "                  autor                                              texto  \\\n",
              "0            v8_capital  Confira os resultados dos nossos fundos no mês...   \n",
              "1         winthegame_of  A Alvarez & Marsal estará conosco no Sportainm...   \n",
              "2            marta_bego  #Repost btgpactual with make_repost ・・・ Entend...   \n",
              "3            lmviapiana                               Minuto touro de ouro   \n",
              "4          vanilson_dos                                   @ricktolledo Sim   \n",
              "...                 ...                                                ...   \n",
              "12350       onixcapital  Uma noite de encontros e muito conhecimento on...   \n",
              "12351  amgcapitalinvest  Erros financeiros para eliminar antes dos 30 a...   \n",
              "12352     jayipacderota  Estou muito grato por todo o esforço que você ...   \n",
              "12353   moinho_cultural  \"👉GUADAKAN está chegando!!!!  A aula pública e...   \n",
              "12354         bfmarilia  @btgpactual pq o morning call não está mais ap...   \n",
              "\n",
              "      sentimento tipoInteracao  \n",
              "0        NEUTRAL      marcação  \n",
              "1        NEUTRAL      marcação  \n",
              "2        NEUTRAL      marcação  \n",
              "3       POSITIVE    comentário  \n",
              "4        NEUTRAL      resposta  \n",
              "...          ...           ...  \n",
              "12350    NEUTRAL      marcação  \n",
              "12351    NEUTRAL      marcação  \n",
              "12352   POSITIVE    comentário  \n",
              "12353    NEUTRAL      marcação  \n",
              "12354   NEGATIVE    comentário  \n",
              "\n",
              "[12193 rows x 4 columns]"
            ],
            "text/html": [
              "\n",
              "  <div id=\"df-f070bc39-332f-4ada-8f95-34e621487ddb\">\n",
              "    <div class=\"colab-df-container\">\n",
              "      <div>\n",
              "<style scoped>\n",
              "    .dataframe tbody tr th:only-of-type {\n",
              "        vertical-align: middle;\n",
              "    }\n",
              "\n",
              "    .dataframe tbody tr th {\n",
              "        vertical-align: top;\n",
              "    }\n",
              "\n",
              "    .dataframe thead th {\n",
              "        text-align: right;\n",
              "    }\n",
              "</style>\n",
              "<table border=\"1\" class=\"dataframe\">\n",
              "  <thead>\n",
              "    <tr style=\"text-align: right;\">\n",
              "      <th></th>\n",
              "      <th>autor</th>\n",
              "      <th>texto</th>\n",
              "      <th>sentimento</th>\n",
              "      <th>tipoInteracao</th>\n",
              "    </tr>\n",
              "  </thead>\n",
              "  <tbody>\n",
              "    <tr>\n",
              "      <th>0</th>\n",
              "      <td>v8_capital</td>\n",
              "      <td>Confira os resultados dos nossos fundos no mês...</td>\n",
              "      <td>NEUTRAL</td>\n",
              "      <td>marcação</td>\n",
              "    </tr>\n",
              "    <tr>\n",
              "      <th>1</th>\n",
              "      <td>winthegame_of</td>\n",
              "      <td>A Alvarez &amp; Marsal estará conosco no Sportainm...</td>\n",
              "      <td>NEUTRAL</td>\n",
              "      <td>marcação</td>\n",
              "    </tr>\n",
              "    <tr>\n",
              "      <th>2</th>\n",
              "      <td>marta_bego</td>\n",
              "      <td>#Repost btgpactual with make_repost ・・・ Entend...</td>\n",
              "      <td>NEUTRAL</td>\n",
              "      <td>marcação</td>\n",
              "    </tr>\n",
              "    <tr>\n",
              "      <th>3</th>\n",
              "      <td>lmviapiana</td>\n",
              "      <td>Minuto touro de ouro</td>\n",
              "      <td>POSITIVE</td>\n",
              "      <td>comentário</td>\n",
              "    </tr>\n",
              "    <tr>\n",
              "      <th>4</th>\n",
              "      <td>vanilson_dos</td>\n",
              "      <td>@ricktolledo Sim</td>\n",
              "      <td>NEUTRAL</td>\n",
              "      <td>resposta</td>\n",
              "    </tr>\n",
              "    <tr>\n",
              "      <th>...</th>\n",
              "      <td>...</td>\n",
              "      <td>...</td>\n",
              "      <td>...</td>\n",
              "      <td>...</td>\n",
              "    </tr>\n",
              "    <tr>\n",
              "      <th>12350</th>\n",
              "      <td>onixcapital</td>\n",
              "      <td>Uma noite de encontros e muito conhecimento on...</td>\n",
              "      <td>NEUTRAL</td>\n",
              "      <td>marcação</td>\n",
              "    </tr>\n",
              "    <tr>\n",
              "      <th>12351</th>\n",
              "      <td>amgcapitalinvest</td>\n",
              "      <td>Erros financeiros para eliminar antes dos 30 a...</td>\n",
              "      <td>NEUTRAL</td>\n",
              "      <td>marcação</td>\n",
              "    </tr>\n",
              "    <tr>\n",
              "      <th>12352</th>\n",
              "      <td>jayipacderota</td>\n",
              "      <td>Estou muito grato por todo o esforço que você ...</td>\n",
              "      <td>POSITIVE</td>\n",
              "      <td>comentário</td>\n",
              "    </tr>\n",
              "    <tr>\n",
              "      <th>12353</th>\n",
              "      <td>moinho_cultural</td>\n",
              "      <td>\"👉GUADAKAN está chegando!!!!  A aula pública e...</td>\n",
              "      <td>NEUTRAL</td>\n",
              "      <td>marcação</td>\n",
              "    </tr>\n",
              "    <tr>\n",
              "      <th>12354</th>\n",
              "      <td>bfmarilia</td>\n",
              "      <td>@btgpactual pq o morning call não está mais ap...</td>\n",
              "      <td>NEGATIVE</td>\n",
              "      <td>comentário</td>\n",
              "    </tr>\n",
              "  </tbody>\n",
              "</table>\n",
              "<p>12193 rows × 4 columns</p>\n",
              "</div>\n",
              "      <button class=\"colab-df-convert\" onclick=\"convertToInteractive('df-f070bc39-332f-4ada-8f95-34e621487ddb')\"\n",
              "              title=\"Convert this dataframe to an interactive table.\"\n",
              "              style=\"display:none;\">\n",
              "        \n",
              "  <svg xmlns=\"http://www.w3.org/2000/svg\" height=\"24px\"viewBox=\"0 0 24 24\"\n",
              "       width=\"24px\">\n",
              "    <path d=\"M0 0h24v24H0V0z\" fill=\"none\"/>\n",
              "    <path d=\"M18.56 5.44l.94 2.06.94-2.06 2.06-.94-2.06-.94-.94-2.06-.94 2.06-2.06.94zm-11 1L8.5 8.5l.94-2.06 2.06-.94-2.06-.94L8.5 2.5l-.94 2.06-2.06.94zm10 10l.94 2.06.94-2.06 2.06-.94-2.06-.94-.94-2.06-.94 2.06-2.06.94z\"/><path d=\"M17.41 7.96l-1.37-1.37c-.4-.4-.92-.59-1.43-.59-.52 0-1.04.2-1.43.59L10.3 9.45l-7.72 7.72c-.78.78-.78 2.05 0 2.83L4 21.41c.39.39.9.59 1.41.59.51 0 1.02-.2 1.41-.59l7.78-7.78 2.81-2.81c.8-.78.8-2.07 0-2.86zM5.41 20L4 18.59l7.72-7.72 1.47 1.35L5.41 20z\"/>\n",
              "  </svg>\n",
              "      </button>\n",
              "      \n",
              "  <style>\n",
              "    .colab-df-container {\n",
              "      display:flex;\n",
              "      flex-wrap:wrap;\n",
              "      gap: 12px;\n",
              "    }\n",
              "\n",
              "    .colab-df-convert {\n",
              "      background-color: #E8F0FE;\n",
              "      border: none;\n",
              "      border-radius: 50%;\n",
              "      cursor: pointer;\n",
              "      display: none;\n",
              "      fill: #1967D2;\n",
              "      height: 32px;\n",
              "      padding: 0 0 0 0;\n",
              "      width: 32px;\n",
              "    }\n",
              "\n",
              "    .colab-df-convert:hover {\n",
              "      background-color: #E2EBFA;\n",
              "      box-shadow: 0px 1px 2px rgba(60, 64, 67, 0.3), 0px 1px 3px 1px rgba(60, 64, 67, 0.15);\n",
              "      fill: #174EA6;\n",
              "    }\n",
              "\n",
              "    [theme=dark] .colab-df-convert {\n",
              "      background-color: #3B4455;\n",
              "      fill: #D2E3FC;\n",
              "    }\n",
              "\n",
              "    [theme=dark] .colab-df-convert:hover {\n",
              "      background-color: #434B5C;\n",
              "      box-shadow: 0px 1px 3px 1px rgba(0, 0, 0, 0.15);\n",
              "      filter: drop-shadow(0px 1px 2px rgba(0, 0, 0, 0.3));\n",
              "      fill: #FFFFFF;\n",
              "    }\n",
              "  </style>\n",
              "\n",
              "      <script>\n",
              "        const buttonEl =\n",
              "          document.querySelector('#df-f070bc39-332f-4ada-8f95-34e621487ddb button.colab-df-convert');\n",
              "        buttonEl.style.display =\n",
              "          google.colab.kernel.accessAllowed ? 'block' : 'none';\n",
              "\n",
              "        async function convertToInteractive(key) {\n",
              "          const element = document.querySelector('#df-f070bc39-332f-4ada-8f95-34e621487ddb');\n",
              "          const dataTable =\n",
              "            await google.colab.kernel.invokeFunction('convertToInteractive',\n",
              "                                                     [key], {});\n",
              "          if (!dataTable) return;\n",
              "\n",
              "          const docLinkHtml = 'Like what you see? Visit the ' +\n",
              "            '<a target=\"_blank\" href=https://colab.research.google.com/notebooks/data_table.ipynb>data table notebook</a>'\n",
              "            + ' to learn more about interactive tables.';\n",
              "          element.innerHTML = '';\n",
              "          dataTable['output_type'] = 'display_data';\n",
              "          await google.colab.output.renderOutput(dataTable, element);\n",
              "          const docLink = document.createElement('div');\n",
              "          docLink.innerHTML = docLinkHtml;\n",
              "          element.appendChild(docLink);\n",
              "        }\n",
              "      </script>\n",
              "    </div>\n",
              "  </div>\n",
              "  "
            ]
          },
          "metadata": {},
          "execution_count": 36
        }
      ]
    },
    {
      "cell_type": "code",
      "source": [
        "print(df['texto'].iloc[113])"
      ],
      "metadata": {
        "colab": {
          "base_uri": "https://localhost:8080/"
        },
        "id": "ePeIP06vrYRV",
        "outputId": "a84cb4c5-2350-48ad-82ca-f44a3592e21e"
      },
      "execution_count": 37,
      "outputs": [
        {
          "output_type": "stream",
          "name": "stdout",
          "text": [
            "Esse convite é para você que é mulher e que curte tecnologia 🤩  O BTG Pactual, maior banco de Investimentos da América Latina, está convidando você para participar do BTG Faz Tech.  ➡️ Será um encontro virtual feito por mulheres e para mulheres. Nele você terá a oportunidade de conhecer melhor o time de mulheres da área de tech do banco e aprender com cases de sucesso.   Para se inscrever basta preencher o formulário no link da nossa bio. Te esperamos lá 🚀  #tecnologia #mulheresnatecnologia #btgpactual #mercadofinanceiro #tech #btgfaztech #estagio\n"
          ]
        }
      ]
    },
    {
      "cell_type": "code",
      "source": [
        "print(df['texto'].iloc[126])"
      ],
      "metadata": {
        "colab": {
          "base_uri": "https://localhost:8080/"
        },
        "id": "TAhyGUqWsOZ0",
        "outputId": "775332fb-6b61-45ad-9be3-3711cff02b5a"
      },
      "execution_count": 38,
      "outputs": [
        {
          "output_type": "stream",
          "name": "stdout",
          "text": [
            "Palmeiras vcs querem fazer uma liga de futebol com o @btgpactual sem o @botafogo? o forte futebol também parece que excluiu o botafogo? aí querem arrumar 1 bilhão? Kkkkkkkkk, o John Textor assim vai comprar, vamos subir o sarrafo srs, liga não é pra ninguém mandar em ninguém foi assim q começou a falência do futebol brasileiro, querer ser o dono, o flamengo tem muito essa mania, inclua o botafogo aí fazendo o favor, vai por mim. 🔥\n"
          ]
        }
      ]
    },
    {
      "cell_type": "markdown",
      "source": [
        "#### 5.1 Tokenização\n",
        "- Para o processo de tokenização, é possível visualizar que em qualquer caso, a função consegue tokenizar todo e qualquer termo existente da frase."
      ],
      "metadata": {
        "id": "QO937alcN4JF"
      }
    },
    {
      "cell_type": "code",
      "source": [
        "tokenized_data = tokenizer(df['texto'])\n",
        "print(tokenized_data[126])"
      ],
      "metadata": {
        "id": "9wuZWCvsrdlF",
        "colab": {
          "base_uri": "https://localhost:8080/"
        },
        "outputId": "f5cfd8bc-8b18-4ec6-b942-26b8f5123519"
      },
      "execution_count": 39,
      "outputs": [
        {
          "output_type": "stream",
          "name": "stdout",
          "text": [
            "['palmeiras', 'vcs', 'querem', 'fazer', 'uma', 'liga', 'de', 'futebol', 'com', 'o', '@', 'btgpactual', 'sem', 'o', '@', 'botafogo', '?', 'o', 'forte', 'futebol', 'também', 'parece', 'que', 'excluiu', 'o', 'botafogo', '?', 'aí', 'querem', 'arrumar', '1', 'bilhão', '?', 'kkkkkkkkk', ',', 'o', 'john', 'textor', 'assim', 'vai', 'comprar', ',', 'vamos', 'subir', 'o', 'sarrafo', 'srs', ',', 'liga', 'não', 'é', 'pra', 'ninguém', 'mandar', 'em', 'ninguém', 'foi', 'assim', 'q', 'começou', 'a', 'falência', 'do', 'futebol', 'brasileiro', ',', 'querer', 'ser', 'o', 'dono', ',', 'o', 'flamengo', 'tem', 'muito', 'essa', 'mania', ',', 'inclua', 'o', 'botafogo', 'aí', 'fazendo', 'o', 'favor', ',', 'vai', 'por', 'mim', '.', '🔥']\n"
          ]
        }
      ]
    },
    {
      "cell_type": "code",
      "source": [
        "print(tokenized_data[4])"
      ],
      "metadata": {
        "colab": {
          "base_uri": "https://localhost:8080/"
        },
        "id": "B0FoThZxMwew",
        "outputId": "eed26b73-e892-4187-fb7e-ebaab8a909ea"
      },
      "execution_count": 51,
      "outputs": [
        {
          "output_type": "stream",
          "name": "stdout",
          "text": [
            "['@', 'ricktolledo', 'sim']\n"
          ]
        }
      ]
    },
    {
      "cell_type": "code",
      "source": [
        "print(tokenized_data[0])"
      ],
      "metadata": {
        "colab": {
          "base_uri": "https://localhost:8080/"
        },
        "id": "u9iuK0YCM2bb",
        "outputId": "8903a346-8216-4027-aba7-889c09e52f1d"
      },
      "execution_count": 52,
      "outputs": [
        {
          "output_type": "stream",
          "name": "stdout",
          "text": [
            "['confira', 'os', 'resultados', 'dos', 'nossos', 'fundos', 'no', 'mês', 'de', 'fevereiro/22', '.', 'todas', 'as', 'informações', ',', 'documentações', 'e', 'materiais', 'técnicos', 'dos', 'fundos', 'podem', 'ser', 'acessados', 'pelos', 'links', 'abaixo', ':', '>', 'v8', 'cash', 'fi', 'renda', 'fixa', 'cp', ':', 'https', ':', '//lnkd.in/dusc2jmn', '>', 'v8', 'vanquish', 'termo', 'fi', 'renda', 'fixa', ':', 'https', ':', '//lnkd.in/d3pngjuu', '>', 'v8', 'veyron', 'smart', 'beta', 'fi', 'ações', ':', 'https', ':', '//lnkd.in/djnjw4pp', '>', 'v8', 'elva', 'deb', '.', 'incentivadas', 'fic', 'fim', 'cp', ':', 'https', ':', '//lnkd.in/dap-37vv', '>', 'v8', 'challenger', 'fim', 'cp', ':', 'https', ':', '//lnkd.in/d5bnhzqj', '>', 'v8', 'anf', 'luxbridge', 'global', 'real', 'estate', 'fim', 'ie', ':', 'https', ':', '//lnkd.in/dxzcatpp', 'onde', 'você', 'encontra', 'nossos', 'fundos', ':', 'modalmais', 'oramainvestimentos', 'warrenbrasil', 'terrainvestimentosoficial', 'ativainvestimentos', 'novafuturainvestimentos', 'nubank', 'nectoninvestimentos', 'miraeassetcorretora', 'toroinvestimentos', 'rbinvestimentos', 'guideinvestimentos', 'btgpactual', 'xpinvestimentos', 'simpaulinvestimentos', '#', 'v8capital', '#', 'investir', '#', 'investimentos', '#', 'mercadofinanceiro', '#', 'ibovespa', '#', 'cdi', '#', 'rendafixa', '#', 'multimercado', '#', 'ações']\n"
          ]
        }
      ]
    },
    {
      "cell_type": "code",
      "source": [
        "df['texto'][0]"
      ],
      "metadata": {
        "colab": {
          "base_uri": "https://localhost:8080/",
          "height": 140
        },
        "id": "Jbrh9UlVNMK_",
        "outputId": "d67c15c4-6dbf-4bec-e59f-6cc4edc37fad"
      },
      "execution_count": 54,
      "outputs": [
        {
          "output_type": "execute_result",
          "data": {
            "text/plain": [
              "'Confira os resultados dos nossos fundos no mês de fevereiro/22. Todas as informações, documentações e materiais técnicos dos fundos podem ser acessados pelos links abaixo:  > V8 Cash FI Renda Fixa CP: https://lnkd.in/dusC2Jmn > V8 Vanquish Termo FI Renda Fixa: https://lnkd.in/d3PnGJUu > V8 Veyron Smart Beta FI Ações: https://lnkd.in/dJnJW4PP > V8 Elva Deb. Incentivadas FIC FIM CP: https://lnkd.in/dap-37vV > V8 Challenger FIM CP: https://lnkd.in/d5bNHZQJ > V8 ANF Luxbridge Global Real Estate FIM IE: https://lnkd.in/dXZcaTpp  Onde você encontra nossos fundos: modalmais oramainvestimentos warrenbrasil terrainvestimentosoficial ativainvestimentos novafuturainvestimentos nubank nectoninvestimentos miraeassetcorretora toroinvestimentos rbinvestimentos guideinvestimentos btgpactual xpinvestimentos simpaulinvestimentos   #v8capital #investir #investimentos #mercadofinanceiro #ibovespa #cdi #rendafixa #multimercado #ações'"
            ],
            "application/vnd.google.colaboratory.intrinsic+json": {
              "type": "string"
            }
          },
          "metadata": {},
          "execution_count": 54
        }
      ]
    },
    {
      "cell_type": "markdown",
      "source": [
        "#### 5.2 Tratamento de abreviações \n"
      ],
      "metadata": {
        "id": "88dD-mmuq2-D"
      }
    },
    {
      "cell_type": "code",
      "source": [
        "normalizacao_data = comentarios_normalizados(tokenized_data, dicionario_girias, palavras_desconsideradas)\n",
        "print(normalizacao_data[126])"
      ],
      "metadata": {
        "colab": {
          "base_uri": "https://localhost:8080/"
        },
        "id": "6zXI193aq2zS",
        "outputId": "7b037388-7464-4b26-a17b-3410fd109c15"
      },
      "execution_count": 40,
      "outputs": [
        {
          "output_type": "stream",
          "name": "stdout",
          "text": [
            "['palmeiras', 'você', 'querem', 'fazer', 'uma', 'liga', 'de', 'futebol', 'com', 'o', '@', 'btgpactual', 'sem', 'o', '@', 'botafogo', '?', 'o', 'forte', 'futebol', 'também', 'parece', 'que', 'excluiu', 'o', 'botafogo', '?', 'aí', 'querem', 'arrumar', '1', 'bilhão', '?', 'kkkkkkkkk', ',', 'o', 'john', 'textor', 'assim', 'vai', 'comprar', ',', 'vamos', 'subir', 'o', 'sarrafo', 'srs', ',', 'liga', 'não', 'é', 'pra', 'ninguém', 'mandar', 'em', 'ninguém', 'foi', 'assim', 'que', 'começou', 'a', 'falência', 'do', 'futebol', 'brasileiro', ',', 'querer', 'ser', 'o', 'dono', ',', 'o', 'flamengo', 'tem', 'muito', 'essa', 'mania', ',', 'inclua', 'o', 'botafogo', 'aí', 'fazendo', 'o', 'favor', ',', 'vai', 'por', 'mim', '.', '🔥']\n"
          ]
        }
      ]
    },
    {
      "cell_type": "markdown",
      "source": [
        "#### 5.3 Tratamento de emoji"
      ],
      "metadata": {
        "id": "TmfooJJtKqcs"
      }
    },
    {
      "cell_type": "code",
      "source": [
        "demojized_data = demojize_tokens(normalizacao_data)\n",
        "print(demojized_data[126])"
      ],
      "metadata": {
        "colab": {
          "base_uri": "https://localhost:8080/"
        },
        "id": "L8XkjMe7KvNi",
        "outputId": "628261bb-d3fb-429d-e8d3-2342355ee30b"
      },
      "execution_count": 41,
      "outputs": [
        {
          "output_type": "stream",
          "name": "stdout",
          "text": [
            "['palmeiras', 'você', 'querem', 'fazer', 'uma', 'liga', 'de', 'futebol', 'com', 'o', '@', 'btgpactual', 'sem', 'o', '@', 'botafogo', '?', 'o', 'forte', 'futebol', 'também', 'parece', 'que', 'excluiu', 'o', 'botafogo', '?', 'aí', 'querem', 'arrumar', '1', 'bilhão', '?', 'kkkkkkkkk', ',', 'o', 'john', 'textor', 'assim', 'vai', 'comprar', ',', 'vamos', 'subir', 'o', 'sarrafo', 'srs', ',', 'liga', 'não', 'é', 'pra', 'ninguém', 'mandar', 'em', 'ninguém', 'foi', 'assim', 'que', 'começou', 'a', 'falência', 'do', 'futebol', 'brasileiro', ',', 'querer', 'ser', 'o', 'dono', ',', 'o', 'flamengo', 'tem', 'muito', 'essa', 'mania', ',', 'inclua', 'o', 'botafogo', 'aí', 'fazendo', 'o', 'favor', ',', 'vai', 'por', 'mim', '.', 'fire']\n"
          ]
        }
      ]
    },
    {
      "cell_type": "markdown",
      "source": [
        "#### 5.4 Remoção de stopwords"
      ],
      "metadata": {
        "id": "1mONzt0cOJsg"
      }
    },
    {
      "cell_type": "code",
      "source": [
        "stopwords_data = remove_stopwords(demojized_data)\n",
        "print(stopwords_data[126])"
      ],
      "metadata": {
        "id": "pVawN0Rvs5ff",
        "colab": {
          "base_uri": "https://localhost:8080/"
        },
        "outputId": "6610edde-4191-4ce2-e3d5-48a973e66c24"
      },
      "execution_count": 42,
      "outputs": [
        {
          "output_type": "stream",
          "name": "stdout",
          "text": [
            "['palmeiras', 'querem', 'fazer', 'liga', 'futebol', '@', 'btgpactual', '@', 'botafogo', '?', 'forte', 'futebol', 'parece', 'excluiu', 'botafogo', '?', 'aí', 'querem', 'arrumar', '1', 'bilhão', '?', 'kkkkkkkkk', ',', 'john', 'textor', 'assim', 'vai', 'comprar', ',', 'vamos', 'subir', 'sarrafo', 'srs', ',', 'liga', 'pra', 'ninguém', 'mandar', 'ninguém', 'assim', 'começou', 'falência', 'futebol', 'brasileiro', ',', 'querer', 'dono', ',', 'flamengo', 'mania', ',', 'inclua', 'botafogo', 'aí', 'fazendo', 'favor', ',', 'vai', 'mim', '.', 'fire']\n"
          ]
        }
      ]
    },
    {
      "cell_type": "markdown",
      "source": [
        "#### 5.5 Remoção de alfanuméricos\n"
      ],
      "metadata": {
        "id": "p1Qi3wnGGkHy"
      }
    },
    {
      "cell_type": "code",
      "source": [
        "alfanumericos_data = removendo_alfanumericos(stopwords_data)\n",
        "print(alfanumericos_data[0])"
      ],
      "metadata": {
        "id": "UvbwUkP7ut_E",
        "colab": {
          "base_uri": "https://localhost:8080/"
        },
        "outputId": "f7ec83f9-5624-46d2-c977-bff4f04fe393"
      },
      "execution_count": 50,
      "outputs": [
        {
          "output_type": "stream",
          "name": "stdout",
          "text": [
            "['confira', 'resultados', 'fundos', 'mês', 'fevereiro', '22', 'todas', 'informações', 'documentações', 'materiais', 'técnicos', 'fundos', 'podem', 'acessados', 'links', 'abaixo', 'v8', 'cash', 'fi', 'renda', 'fixa', 'cp', 's', 'lnkd', 'in', 'dusc2jmn', 'v8', 'vanquish', 'termo', 'fi', 'renda', 'fixa', 's', 'lnkd', 'in', 'd3pngjuu', 'v8', 'veyron', 'smart', 'beta', 'fi', 'ações', 's', 'lnkd', 'in', 'djnjw4pp', 'v8', 'elva', 'deb', 'incentivadas', 'fic', 'fim', 'cp', 's', 'lnkd', 'in', 'dap_37vv', 'v8', 'challenger', 'fim', 'cp', 's', 'lnkd', 'in', 'd5bnhzqj', 'v8', 'anf', 'luxbridge', 'global', 'real', 'estate', 'fim', 'ie', 's', 'lnkd', 'in', 'dxzcatpp', 'onde', 'encontra', 'fundos', 'modalmais', 'oramainvestimentos', 'warrenbrasil', 'terrainvestimentosoficial', 'ativainvestimentos', 'novafuturainvestimentos', 'nubank', 'nectoninvestimentos', 'miraeassetcorretora', 'toroinvestimentos', 'rbinvestimentos', 'guideinvestimentos', 'btgpactual', 'xpinvestimentos', 'simpaulinvestimentos', 'v8capital', 'investir', 'investimentos', 'mercadofinanceiro', 'ibovespa', 'cdi', 'rendafixa', 'multimercado', 'ações']\n"
          ]
        }
      ]
    },
    {
      "cell_type": "markdown",
      "source": [
        "#### 5.6 Lematização\n"
      ],
      "metadata": {
        "id": "553LJRwhGAKx"
      }
    },
    {
      "cell_type": "code",
      "source": [
        "lematizacao_data = lematizacao(alfanumericos_data)\n",
        "print(lematizacao_data[126])"
      ],
      "metadata": {
        "id": "IbzwRS1RvF8X",
        "colab": {
          "base_uri": "https://localhost:8080/"
        },
        "outputId": "cc660550-a860-4ea6-d09f-bea232ba0b38"
      },
      "execution_count": 44,
      "outputs": [
        {
          "output_type": "stream",
          "name": "stdout",
          "text": [
            "['palmeira', 'querer', 'fazer', 'liga', 'futebol', 'btgpactual', 'botafogo', 'forte', 'futebol', 'parecer', 'excluir', 'botafogo', 'aí', 'querer', 'arrumar', '1', 'bilhão', 'kkkkkkkkk', 'john', 'textor', 'assim', 'ir', 'comprar', 'ir', 'subir', 'sarrafo', 'srs', 'liga', 'pra', 'ninguém', 'mandar', 'ninguém', 'assim', 'começar', 'falência', 'futebol', 'brasileiro', 'querer', 'dono', 'flamengo', 'mania', 'incluar', 'botafogo', 'aí', 'fazer', 'favor', 'ir', 'eu', 'fire']\n"
          ]
        }
      ]
    },
    {
      "cell_type": "markdown",
      "source": [
        "#### 5.7 Processamento de texto"
      ],
      "metadata": {
        "id": "PlJ2gmucBZHE"
      }
    },
    {
      "cell_type": "code",
      "source": [
        "data_processada = processarTexto(lematizacao_data)\n",
        "print(data_processada[126])"
      ],
      "metadata": {
        "colab": {
          "base_uri": "https://localhost:8080/",
          "height": 270
        },
        "id": "TvHeerZqBdow",
        "outputId": "770d5eb8-05fb-49d6-c2aa-bc1cc93ee3a3"
      },
      "execution_count": 45,
      "outputs": [
        {
          "output_type": "error",
          "ename": "AttributeError",
          "evalue": "ignored",
          "traceback": [
            "\u001b[0;31m---------------------------------------------------------------------------\u001b[0m",
            "\u001b[0;31mAttributeError\u001b[0m                            Traceback (most recent call last)",
            "\u001b[0;32m<ipython-input-45-6a028d0266c2>\u001b[0m in \u001b[0;36m<cell line: 1>\u001b[0;34m()\u001b[0m\n\u001b[0;32m----> 1\u001b[0;31m \u001b[0mdata_processada\u001b[0m \u001b[0;34m=\u001b[0m \u001b[0mprocessarTexto\u001b[0m\u001b[0;34m(\u001b[0m\u001b[0mlematizacao_data\u001b[0m\u001b[0;34m)\u001b[0m\u001b[0;34m\u001b[0m\u001b[0;34m\u001b[0m\u001b[0m\n\u001b[0m\u001b[1;32m      2\u001b[0m \u001b[0mprint\u001b[0m\u001b[0;34m(\u001b[0m\u001b[0mdata_processada\u001b[0m\u001b[0;34m[\u001b[0m\u001b[0;36m126\u001b[0m\u001b[0;34m]\u001b[0m\u001b[0;34m)\u001b[0m\u001b[0;34m\u001b[0m\u001b[0;34m\u001b[0m\u001b[0m\n",
            "\u001b[0;32m<ipython-input-35-e1c0b5ad2f47>\u001b[0m in \u001b[0;36mprocessarTexto\u001b[0;34m(normTexto)\u001b[0m\n\u001b[1;32m      1\u001b[0m \u001b[0;32mdef\u001b[0m \u001b[0mprocessarTexto\u001b[0m\u001b[0;34m(\u001b[0m\u001b[0mnormTexto\u001b[0m\u001b[0;34m)\u001b[0m\u001b[0;34m:\u001b[0m\u001b[0;34m\u001b[0m\u001b[0;34m\u001b[0m\u001b[0m\n\u001b[0;32m----> 2\u001b[0;31m   \u001b[0mtokens_processados\u001b[0m \u001b[0;34m=\u001b[0m \u001b[0mnormTexto\u001b[0m\u001b[0;34m.\u001b[0m\u001b[0mmap\u001b[0m\u001b[0;34m(\u001b[0m\u001b[0mlematizacao\u001b[0m\u001b[0;34m)\u001b[0m\u001b[0;34m\u001b[0m\u001b[0;34m\u001b[0m\u001b[0m\n\u001b[0m\u001b[1;32m      3\u001b[0m   \u001b[0;32mreturn\u001b[0m \u001b[0mtokens_processados\u001b[0m\u001b[0;34m\u001b[0m\u001b[0;34m\u001b[0m\u001b[0m\n",
            "\u001b[0;31mAttributeError\u001b[0m: 'list' object has no attribute 'map'"
          ]
        }
      ]
    },
    {
      "cell_type": "markdown",
      "source": [
        "# 6. Processamento / Demonstrações"
      ],
      "metadata": {
        "id": "JwdyKZ0apsPR"
      }
    },
    {
      "cell_type": "markdown",
      "source": [
        "Nessa seção de processamento, nós aplicamos as funções criadas anteriormente e aplicamos elas no dataframe, como forma de demonstrar os resultados efetivos.\n",
        "- tokenized = coluna tokenizada\n",
        "- no_stopwords = coluna tokenizada e sem stopwords\n",
        "- texto_processed = coluna tokenizada, sem stopwords e sem acentuações\n",
        "- stemmed = coluna tokenizada, sem stopwords, sem acentuações e com o stemming aplicado"
      ],
      "metadata": {
        "id": "yiNk3so04dGw"
      }
    },
    {
      "cell_type": "code",
      "source": [
        "df"
      ],
      "metadata": {
        "id": "H_suGRAAisKz"
      },
      "execution_count": null,
      "outputs": []
    },
    {
      "cell_type": "code",
      "source": [
        "df['tokenized'] = df['texto'].apply(tokenizer)\n",
        "df.head(10)"
      ],
      "metadata": {
        "id": "FcY8EB6RORTO"
      },
      "execution_count": null,
      "outputs": []
    },
    {
      "cell_type": "markdown",
      "source": [
        "### Fatores que tem que corrigir"
      ],
      "metadata": {
        "id": "kw84rAAHnZ5s"
      }
    },
    {
      "cell_type": "code",
      "source": [
        "df['sem_abreviacoes'] = df['tokenized'].apply(comentarios_normalizados) # tem que ver como passar como argumento o dicionário de abreviação e a lista de excluir palavras\n",
        "df.head(10)"
      ],
      "metadata": {
        "id": "RVg5hNrGj0M4"
      },
      "execution_count": null,
      "outputs": []
    },
    {
      "cell_type": "code",
      "source": [
        "df['emojis_tratados'] = df['sem_abreviacoes'].apply(demojize_tokens)\n",
        "df.head(10)"
      ],
      "metadata": {
        "id": "e2Qe9MN0j0Jr"
      },
      "execution_count": null,
      "outputs": []
    },
    {
      "cell_type": "code",
      "source": [
        "df['no_stopwords'] = df['emojis_tratados'].apply(remove_stopwords)\n",
        "df.head(10)"
      ],
      "metadata": {
        "id": "CgGkVcC5qssr"
      },
      "execution_count": null,
      "outputs": []
    },
    {
      "cell_type": "code",
      "source": [
        "df['sem_alfanumerico'] = df['no_stopwords'].apply(removendo_alfanumericos)\n",
        "df.head(10)"
      ],
      "metadata": {
        "id": "hMeJW5__GkU7"
      },
      "execution_count": null,
      "outputs": []
    },
    {
      "cell_type": "code",
      "source": [
        "df['lematizado'] = df['sem_alfanumerico'].apply(lematizacao)\n",
        "df.head(10)"
      ],
      "metadata": {
        "id": "RjQDHmFLGAe1"
      },
      "execution_count": null,
      "outputs": []
    },
    {
      "cell_type": "markdown",
      "source": [
        "# 7. Pipeline simples de pré-processamento - **IMPORTANTE**/**TERMINAR**"
      ],
      "metadata": {
        "id": "7-0pTgnAqb2j"
      }
    },
    {
      "cell_type": "markdown",
      "source": [
        "Essa seção é extremamente importante, pois nela criamos a função de pipeline com todas as outras funções que criamos anteriormente. Então, ela é feita para que seja possível de rodar somente ela e ter um resultado efetivo!"
      ],
      "metadata": {
        "id": "YIdlUVX55rGA"
      }
    },
    {
      "cell_type": "code",
      "source": [
        "data = pd.read_csv('/content/drive/MyDrive/Módulo 6/projeto/base_nova_csv.csv')\n",
        "data = data.rename(columns={'\"anomalia\"' : 'anomalia', '\"dataPublicada\"' : 'dataPublicada', '\"autor\"' : 'autor', '\"texto\"' : 'texto', '\"sentimento\"' : 'sentimento', '\"tipoInteracao\"' : 'tipoInteracao', '\"probabilidadeAnomalia\"' : 'probabilidadeAnomalia', '\"linkPost\"' : 'linkPost', '\"processado\"' : 'processado',  '\"contemHyperlink\"' : 'contemHyperlink' })\n",
        "data_dropado = data.drop(['id', 'dataPublicada', 'anomalia', 'probabilidadeAnomalia', 'linkPost', 'processado', 'contemHyperlink'], axis=1)\n",
        "df = data_dropado.loc[data_dropado['autor'] != 'btgpactual']"
      ],
      "metadata": {
        "id": "S2ZPWyTJjAnj"
      },
      "execution_count": null,
      "outputs": []
    },
    {
      "cell_type": "code",
      "source": [
        "df"
      ],
      "metadata": {
        "id": "Itb_16phjeJy"
      },
      "execution_count": null,
      "outputs": []
    },
    {
      "cell_type": "markdown",
      "source": [
        "## 7.1 Definição de Função"
      ],
      "metadata": {
        "id": "Qel2ZDQTr-8S"
      }
    },
    {
      "cell_type": "code",
      "source": [
        "def pipeline(comment):\n",
        "      # Tokenização\n",
        "      tokens = tokenizer(comment)\n",
        "      # Normalização das abreviações\n",
        "      normalizado = comentarios_normalizados(tokens, dicionario_girias, palavras_desconsideradas)\n",
        "      # Tratamento de Emojis\n",
        "      demojized = demojize_tokens(normalizado)\n",
        "      # Remoção das stopwords\n",
        "      no_stopwords = remove_stopwords(tokens)\n",
        "      # Remoção dos alfanuméricos\n",
        "      no_alfanumericos = removendo_alfanumericos(no_stopwords)\n",
        "      # lematização\n",
        "      tratados = lematizacao(no_alfanumericos)\n",
        "      return tratados"
      ],
      "metadata": {
        "id": "g_h_ugTgQmAx"
      },
      "execution_count": null,
      "outputs": []
    },
    {
      "cell_type": "code",
      "source": [
        "def join_tokens(tokens):\n",
        "    joined_tokens = []\n",
        "    for sublist in tokens:\n",
        "        joined_tokens.append(' '.join(sublist))\n",
        "    return [joined_tokens]"
      ],
      "metadata": {
        "id": "XfK-fbUGbbKd"
      },
      "execution_count": null,
      "outputs": []
    },
    {
      "cell_type": "markdown",
      "source": [
        "## 7.2 Testes da Função"
      ],
      "metadata": {
        "id": "zh0IeO3IsYYE"
      }
    },
    {
      "cell_type": "markdown",
      "source": [
        "- Criação da nova coluna, somente com a função pipeline, que repassa todo o nosso pré-processamento."
      ],
      "metadata": {
        "id": "7a9vaZb86u3R"
      }
    },
    {
      "cell_type": "code",
      "source": [
        "# df['pós_tratamento'] = df['texto'].apply(pipeline)\n",
        "# df.head(10)"
      ],
      "metadata": {
        "id": "914Z-bfajx1k"
      },
      "execution_count": null,
      "outputs": []
    },
    {
      "cell_type": "code",
      "source": [
        "df = df['texto'].head(1000)\n",
        "df"
      ],
      "metadata": {
        "id": "RZAGJtcaPGOY"
      },
      "execution_count": null,
      "outputs": []
    },
    {
      "cell_type": "code",
      "source": [
        "df[1]"
      ],
      "metadata": {
        "id": "uVjVIAgQd0x0"
      },
      "execution_count": null,
      "outputs": []
    },
    {
      "cell_type": "code",
      "source": [
        "pipeline(df)"
      ],
      "metadata": {
        "id": "Zer_L-yHPT1c"
      },
      "execution_count": null,
      "outputs": []
    },
    {
      "cell_type": "code",
      "source": [
        "tratados = pipeline(df)\n",
        "frases_tratadas = join_tokens(tratados)\n",
        "frases_tratadas"
      ],
      "metadata": {
        "id": "Bil3IH4KaaOI"
      },
      "execution_count": null,
      "outputs": []
    },
    {
      "cell_type": "markdown",
      "source": [
        "# 8. Bag of Words (BoW)"
      ],
      "metadata": {
        "id": "_dFfxcKevnMP"
      }
    },
    {
      "cell_type": "markdown",
      "source": [
        "O modelo Bag of Words (BoW) é uma técnica utilizada em processamento de linguagem natural para representar um texto como um conjunto de palavras desordenadas, ignorando a ordem e a estrutura gramatical das frases. \n",
        "\n",
        "Nesse modelo, cada palavra única do texto é transformada em uma \"feature\" (característica), e a frequência de cada palavra no texto é usada como um valor numérico para a feature correspondente.\n",
        "\n",
        "Por exemplo, a frase \"O gato preto pulou o muro\" seria representada como um conjunto de palavras desordenadas: `'o', 'gato', 'preto', 'pulou', 'o', 'muro'`. A frequência de cada palavra seria contada, e o resultado seria um vetor numérico que representa a frequência de cada palavra na frase.\n"
      ],
      "metadata": {
        "id": "OF26utwj8qNY"
      }
    },
    {
      "cell_type": "markdown",
      "source": [
        "## 8.1 Teste isolado"
      ],
      "metadata": {
        "id": "Kw_zdxqu_NvK"
      }
    },
    {
      "cell_type": "code",
      "source": [
        "# Multiple documents\n",
        "text = [\"Estamos fazendo um projeto pro BTG!\", \"Somos alunos de Sistemas de Informação do Inteli\", \"O Renato é o nosso orientador\", \"O Hayashi é o nosso professor de programação\"] \n",
        "\n",
        "# create the transform\n",
        "vectorizer = CountVectorizer()\n",
        "\n",
        "# tokenize and build vocab\n",
        "vectorizer.fit(text)\n",
        "\n",
        "# summarize\n",
        "print(sorted(vectorizer.vocabulary_))\n",
        "\n",
        "# encode document\n",
        "vector = vectorizer.transform(text)\n",
        "\n",
        "# summarize encoded vector\n",
        "print(vector.shape)\n",
        "print(vector.toarray())"
      ],
      "metadata": {
        "id": "5wN384IQ1G9t"
      },
      "execution_count": null,
      "outputs": []
    },
    {
      "cell_type": "markdown",
      "source": [
        "**AVISO**:\n",
        "O modelo Bag of Words é uma técnica simples e eficiente para representar textos em formato vetorial, o que permite utilizá-los em algoritmos de aprendizado de máquina. \n",
        "\n",
        "No entanto, essa abordagem ignora informações importantes sobre a estrutura e o significado das frases, como a ordem das palavras e as relações sintáticas entre elas. Por isso, é comum utilizar técnicas mais avançadas, como a modelagem de tópicos (topic modeling) e as redes neurais, para lidar com textos mais complexos.\n",
        "\n",
        "Porém, para vieses acadêmicos, estamos implementando e aprendendo como é o funcionamento desse processo."
      ],
      "metadata": {
        "id": "90htO88z9v55"
      }
    },
    {
      "cell_type": "markdown",
      "source": [
        "## 8.2 Definição da Função\n"
      ],
      "metadata": {
        "id": "6u80ctpIY3Pe"
      }
    },
    {
      "cell_type": "code",
      "source": [
        "df"
      ],
      "metadata": {
        "id": "4LkWLbegZdYE"
      },
      "execution_count": null,
      "outputs": []
    },
    {
      "cell_type": "code",
      "source": [
        "def bag_of_words(frases):\n",
        "    # Inicializa o CountVectorizer\n",
        "    vectorizer = CountVectorizer()\n",
        "\n",
        "    # Concatena os tokens de cada frase em uma única string\n",
        "    frases_concatenadas = [' '.join(tokens) for tokens in frases]\n",
        "\n",
        "    # Cria o modelo Bag of Words\n",
        "    bow_model = vectorizer.fit_transform(frases_concatenadas)\n",
        "\n",
        "    # Dicionário de palavras\n",
        "    dicionario = vectorizer.vocabulary_\n",
        "\n",
        "    return bow_model, dicionario\n",
        "\n",
        "# Definição da frase de entrada\n",
        "palavras = tokens_processados\n",
        "\n",
        "# Aplicar a função de Bag of Words\n",
        "bow_model, dicionario = bag_of_words(palavras)"
      ],
      "metadata": {
        "id": "Pnama7NU_dFa"
      },
      "execution_count": null,
      "outputs": []
    },
    {
      "cell_type": "code",
      "source": [
        "# Criando a função de vetorização, a qual irá criar um DataFrame com todos os termos e suas contabilizações em cada comentário (representados pelo index)\n",
        "def bow(comentarios): \n",
        "     # Inicializa o CountVectorizer\n",
        "    vectorizer = CountVectorizer(analyzer=lambda x: x)\n",
        "    # Cria o modelo Bag of Words\n",
        "    bow_model = vectorizer.fit_transform(comentarios)\n",
        "    # Cria um dataframe com as palavras e suas frequências\n",
        "    bow_df = pd.DataFrame(bow_model.toarray(), columns=vectorizer.get_feature_names_out())\n",
        "    return bow_df"
      ],
      "metadata": {
        "id": "Qm1UFUY3_OE4"
      },
      "execution_count": null,
      "outputs": []
    },
    {
      "cell_type": "markdown",
      "source": [
        "---"
      ],
      "metadata": {
        "id": "PRLMFsRwB8hA"
      }
    },
    {
      "cell_type": "markdown",
      "source": [
        "## 8.2 Testes das funções\n"
      ],
      "metadata": {
        "id": "rEAJ7xaCtQUN"
      }
    },
    {
      "cell_type": "markdown",
      "source": [
        "Como é possível visualizar, temos uma tabela com todos os termos que foram considerados chaves para a análise."
      ],
      "metadata": {
        "id": "ZRAdqeRM-ms5"
      }
    },
    {
      "cell_type": "code",
      "source": [
        "df = bow(textos)\n",
        "df"
      ],
      "metadata": {
        "id": "ChVrgXNl_4Lw"
      },
      "execution_count": null,
      "outputs": []
    },
    {
      "cell_type": "markdown",
      "source": [
        "- Mostrando a primeira palavra, do primeiro comentário, e como ela se repete uma vez e duas vezes em cada um dos outros comentários"
      ],
      "metadata": {
        "id": "_o1hkW-H_3lg"
      }
    },
    {
      "cell_type": "code",
      "source": [
        "df['conf'].value_counts()"
      ],
      "metadata": {
        "id": "HkoJcivl_juI"
      },
      "execution_count": null,
      "outputs": []
    },
    {
      "cell_type": "code",
      "source": [
        "df[df['conf'] == 2]"
      ],
      "metadata": {
        "id": "wJzJt-87BciA"
      },
      "execution_count": null,
      "outputs": []
    },
    {
      "cell_type": "code",
      "source": [
        "word_counts = df.sum()\n",
        "top_words = word_counts.sort_values(ascending=False)\n",
        "top_10 = top_words.head(10)"
      ],
      "metadata": {
        "id": "spCM4fRIae4z"
      },
      "execution_count": null,
      "outputs": []
    },
    {
      "cell_type": "code",
      "source": [
        "top_10 "
      ],
      "metadata": {
        "id": "lkt5xqnEatPb"
      },
      "execution_count": null,
      "outputs": []
    },
    {
      "cell_type": "code",
      "source": [
        "palavras = list(top_words.index)\n",
        "wordcloud = WordCloud(width=800, height=800, background_color='white').generate(' '.join(palavras))\n",
        "plt.figure(figsize=(8,8), facecolor=None)\n",
        "plt.imshow(wordcloud)\n",
        "plt.axis(\"off\")\n",
        "plt.tight_layout(pad=0)\n",
        "plt.show()"
      ],
      "metadata": {
        "id": "IKpvb_x8cV7c"
      },
      "execution_count": null,
      "outputs": []
    },
    {
      "cell_type": "markdown",
      "source": [
        "# 9. Plotagem de Gráficos"
      ],
      "metadata": {
        "id": "bnhSCLypktYQ"
      }
    },
    {
      "cell_type": "markdown",
      "source": [
        "## Palavras mais frequentes"
      ],
      "metadata": {
        "id": "FzwrIBrbk3t1"
      }
    },
    {
      "cell_type": "code",
      "source": [
        "# Contagem de palavras\n",
        "word_counts = data_limpo['texto_tratado'].explode().value_counts()\n",
        "\n",
        "# Plotagem do gráfico de barras\n",
        "plt.figure(figsize=(10, 6))\n",
        "word_counts.head(20).plot(kind='bar')\n",
        "plt.xlabel('Palavra')\n",
        "plt.ylabel('Contagem')\n",
        "plt.title('Top 20 Palavras Mais Frequentes')\n",
        "plt.show()"
      ],
      "metadata": {
        "id": "QJb0xMr_k8af"
      },
      "execution_count": null,
      "outputs": []
    },
    {
      "cell_type": "markdown",
      "source": [
        "# 10. Word2Vec"
      ],
      "metadata": {
        "id": "y4KhJVXLK7W8"
      }
    },
    {
      "cell_type": "code",
      "source": [],
      "metadata": {
        "id": "dgxQlJajLDF6"
      },
      "execution_count": null,
      "outputs": []
    }
  ]
}