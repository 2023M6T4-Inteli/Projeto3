{
 "cells": [
  {
   "cell_type": "markdown",
   "id": "96287861",
   "metadata": {},
   "source": [
    "<center><img src=\"https://www.inteli.edu.br/wp-content/uploads/2021/08/20172028/marca_1-2.png\" width=\"50%\" height=\"50%\"/></center>\n",
    "\n",
    "<h1 align='center'><b>IA para Marketing: Monitoramento de campanhas utilizando processamento de linguagem natural (PLN)<b></h1>\n",
    "\n",
    "<center><img src=\"https://upload.wikimedia.org/wikipedia/commons/c/c2/Btg-logo-blue.svg\" width=\"50%\" height=\"50%\"/></center>\n",
    "\n",
    "<h2 align='center'>O Banco BTG Pactual enfrenta um desafio na área de Marketing em entender as necessidades e demandas dos clientes de maneira fácil e rápida nas redes sociais. A solução proposta para esse problema foi o desenvolvimento de uma Inteligência Artificial utilizando processamento de linguagem natural (PLN), capaz de monitorar as campanhas de marketing, voltadas para o Instagram. O objetivo principal dessa solução é rastrear os dados em tempo real, analisar e interpretar as mensagens e comentários enviados pelos clientes na rede social, a fim de identificar as necessidades e demandas de forma precisa e eficiente.</h2>\n",
    "\n",
    "---\n",
    "\n",
    "# Sobre os dados\n",
    "\n",
    "Esse projeto estará utilizando dados coletados e tratados pela equipe de Automation do BTG Pactual, o qual disponibilizou o dataset. Com base nas informações dispostas nesse dataset, realizaremos insights a cerca dos comentários feitos nos posts do Instagram do próprio banco. Vale lembrar que os dados estão anonimizados e resguardados para manter a privacidade e ética com os usuários e com o banco."
   ]
  },
  {
   "cell_type": "markdown",
   "id": "8e7ba1e8",
   "metadata": {},
   "source": [
    "# Preparação do ambiente"
   ]
  },
  {
   "cell_type": "code",
   "execution_count": 12,
   "id": "88944f4e",
   "metadata": {
    "scrolled": true
   },
   "outputs": [
    {
     "name": "stdout",
     "output_type": "stream",
     "text": [
      "Requirement already satisfied: nltk in c:\\users\\vitor\\appdata\\local\\packages\\pythonsoftwarefoundation.python.3.10_qbz5n2kfra8p0\\localcache\\local-packages\\python310\\site-packages (3.8.1)\n",
      "Requirement already satisfied: regex>=2021.8.3 in c:\\users\\vitor\\appdata\\local\\packages\\pythonsoftwarefoundation.python.3.10_qbz5n2kfra8p0\\localcache\\local-packages\\python310\\site-packages (from nltk) (2023.3.23)\n",
      "Requirement already satisfied: joblib in c:\\users\\vitor\\appdata\\local\\packages\\pythonsoftwarefoundation.python.3.10_qbz5n2kfra8p0\\localcache\\local-packages\\python310\\site-packages (from nltk) (1.2.0)\n",
      "Requirement already satisfied: click in c:\\users\\vitor\\appdata\\local\\packages\\pythonsoftwarefoundation.python.3.10_qbz5n2kfra8p0\\localcache\\local-packages\\python310\\site-packages (from nltk) (8.1.3)\n",
      "Requirement already satisfied: tqdm in c:\\users\\vitor\\appdata\\local\\packages\\pythonsoftwarefoundation.python.3.10_qbz5n2kfra8p0\\localcache\\local-packages\\python310\\site-packages (from nltk) (4.65.0)\n",
      "Requirement already satisfied: colorama in c:\\users\\vitor\\appdata\\local\\packages\\pythonsoftwarefoundation.python.3.10_qbz5n2kfra8p0\\localcache\\local-packages\\python310\\site-packages (from click->nltk) (0.4.5)\n"
     ]
    },
    {
     "name": "stderr",
     "output_type": "stream",
     "text": [
      "\n",
      "[notice] A new release of pip is available: 23.0.1 -> 23.1.2\n",
      "[notice] To update, run: C:\\Users\\vitor\\AppData\\Local\\Microsoft\\WindowsApps\\PythonSoftwareFoundation.Python.3.10_qbz5n2kfra8p0\\python.exe -m pip install --upgrade pip\n"
     ]
    }
   ],
   "source": [
    "!pip install nltk"
   ]
  },
  {
   "cell_type": "code",
   "execution_count": 13,
   "id": "ac9af849",
   "metadata": {},
   "outputs": [
    {
     "name": "stdout",
     "output_type": "stream",
     "text": [
      "Requirement already satisfied: openpyxl in c:\\users\\vitor\\appdata\\local\\packages\\pythonsoftwarefoundation.python.3.10_qbz5n2kfra8p0\\localcache\\local-packages\\python310\\site-packages (3.1.2)\n",
      "Requirement already satisfied: et-xmlfile in c:\\users\\vitor\\appdata\\local\\packages\\pythonsoftwarefoundation.python.3.10_qbz5n2kfra8p0\\localcache\\local-packages\\python310\\site-packages (from openpyxl) (1.1.0)\n"
     ]
    },
    {
     "name": "stderr",
     "output_type": "stream",
     "text": [
      "\n",
      "[notice] A new release of pip is available: 23.0.1 -> 23.1.2\n",
      "[notice] To update, run: C:\\Users\\vitor\\AppData\\Local\\Microsoft\\WindowsApps\\PythonSoftwareFoundation.Python.3.10_qbz5n2kfra8p0\\python.exe -m pip install --upgrade pip\n"
     ]
    }
   ],
   "source": [
    "!pip install openpyxl"
   ]
  },
  {
   "cell_type": "code",
   "execution_count": 14,
   "id": "1bcd99a5",
   "metadata": {},
   "outputs": [
    {
     "name": "stdout",
     "output_type": "stream",
     "text": [
      "Requirement already satisfied: plotly.express in c:\\users\\vitor\\appdata\\local\\packages\\pythonsoftwarefoundation.python.3.10_qbz5n2kfra8p0\\localcache\\local-packages\\python310\\site-packages (0.4.1)\n",
      "Requirement already satisfied: plotly>=4.1.0 in c:\\users\\vitor\\appdata\\local\\packages\\pythonsoftwarefoundation.python.3.10_qbz5n2kfra8p0\\localcache\\local-packages\\python310\\site-packages (from plotly.express) (5.14.1)\n",
      "Requirement already satisfied: statsmodels>=0.9.0 in c:\\users\\vitor\\appdata\\local\\packages\\pythonsoftwarefoundation.python.3.10_qbz5n2kfra8p0\\localcache\\local-packages\\python310\\site-packages (from plotly.express) (0.14.0)\n",
      "Requirement already satisfied: scipy>=0.18 in c:\\users\\vitor\\appdata\\local\\packages\\pythonsoftwarefoundation.python.3.10_qbz5n2kfra8p0\\localcache\\local-packages\\python310\\site-packages (from plotly.express) (1.9.1)\n",
      "Requirement already satisfied: pandas>=0.20.0 in c:\\users\\vitor\\appdata\\local\\packages\\pythonsoftwarefoundation.python.3.10_qbz5n2kfra8p0\\localcache\\local-packages\\python310\\site-packages (from plotly.express) (1.5.0)\n",
      "Requirement already satisfied: numpy>=1.11 in c:\\users\\vitor\\appdata\\local\\packages\\pythonsoftwarefoundation.python.3.10_qbz5n2kfra8p0\\localcache\\local-packages\\python310\\site-packages (from plotly.express) (1.23.3)\n",
      "Requirement already satisfied: patsy>=0.5 in c:\\users\\vitor\\appdata\\local\\packages\\pythonsoftwarefoundation.python.3.10_qbz5n2kfra8p0\\localcache\\local-packages\\python310\\site-packages (from plotly.express) (0.5.3)\n",
      "Requirement already satisfied: pytz>=2020.1 in c:\\users\\vitor\\appdata\\local\\packages\\pythonsoftwarefoundation.python.3.10_qbz5n2kfra8p0\\localcache\\local-packages\\python310\\site-packages (from pandas>=0.20.0->plotly.express) (2022.2.1)\n",
      "Requirement already satisfied: python-dateutil>=2.8.1 in c:\\users\\vitor\\appdata\\local\\packages\\pythonsoftwarefoundation.python.3.10_qbz5n2kfra8p0\\localcache\\local-packages\\python310\\site-packages (from pandas>=0.20.0->plotly.express) (2.8.2)\n",
      "Requirement already satisfied: six in c:\\users\\vitor\\appdata\\local\\packages\\pythonsoftwarefoundation.python.3.10_qbz5n2kfra8p0\\localcache\\local-packages\\python310\\site-packages (from patsy>=0.5->plotly.express) (1.16.0)\n",
      "Requirement already satisfied: tenacity>=6.2.0 in c:\\users\\vitor\\appdata\\local\\packages\\pythonsoftwarefoundation.python.3.10_qbz5n2kfra8p0\\localcache\\local-packages\\python310\\site-packages (from plotly>=4.1.0->plotly.express) (8.2.2)\n",
      "Requirement already satisfied: packaging in c:\\users\\vitor\\appdata\\local\\packages\\pythonsoftwarefoundation.python.3.10_qbz5n2kfra8p0\\localcache\\local-packages\\python310\\site-packages (from plotly>=4.1.0->plotly.express) (23.1)\n"
     ]
    },
    {
     "name": "stderr",
     "output_type": "stream",
     "text": [
      "\n",
      "[notice] A new release of pip is available: 23.0.1 -> 23.1.2\n",
      "[notice] To update, run: C:\\Users\\vitor\\AppData\\Local\\Microsoft\\WindowsApps\\PythonSoftwareFoundation.Python.3.10_qbz5n2kfra8p0\\python.exe -m pip install --upgrade pip\n"
     ]
    }
   ],
   "source": [
    "!pip install plotly.express"
   ]
  },
  {
   "cell_type": "code",
   "execution_count": 15,
   "id": "97cca5d2",
   "metadata": {
    "scrolled": true
   },
   "outputs": [
    {
     "name": "stderr",
     "output_type": "stream",
     "text": [
      "[nltk_data] Downloading package punkt to\n",
      "[nltk_data]     C:\\Users\\vitor\\AppData\\Roaming\\nltk_data...\n",
      "[nltk_data]   Package punkt is already up-to-date!\n",
      "[nltk_data] Downloading package stopwords to\n",
      "[nltk_data]     C:\\Users\\vitor\\AppData\\Roaming\\nltk_data...\n",
      "[nltk_data]   Package stopwords is already up-to-date!\n"
     ]
    }
   ],
   "source": [
    "# import re\n",
    "# import plotly.express as px\n",
    "# import matplotlib as plt\n",
    "import pandas as pd\n",
    "\n",
    "import nltk\n",
    "nltk.download('punkt')\n",
    "from nltk.stem.snowball import SnowballStemmer\n",
    "nltk.download('stopwords')\n",
    "from nltk.corpus import stopwords\n",
    "\n",
    "from sklearn.feature_extraction.text import CountVectorizer"
   ]
  },
  {
   "cell_type": "code",
   "execution_count": 16,
   "id": "f79e8510",
   "metadata": {},
   "outputs": [],
   "source": [
    "import re\n",
    "import plotly.express as px\n",
    "# import matplotlib as plt"
   ]
  },
  {
   "cell_type": "code",
   "execution_count": 17,
   "id": "cda12182",
   "metadata": {},
   "outputs": [
    {
     "data": {
      "text/html": [
       "<div>\n",
       "<style scoped>\n",
       "    .dataframe tbody tr th:only-of-type {\n",
       "        vertical-align: middle;\n",
       "    }\n",
       "\n",
       "    .dataframe tbody tr th {\n",
       "        vertical-align: top;\n",
       "    }\n",
       "\n",
       "    .dataframe thead th {\n",
       "        text-align: right;\n",
       "    }\n",
       "</style>\n",
       "<table border=\"1\" class=\"dataframe\">\n",
       "  <thead>\n",
       "    <tr style=\"text-align: right;\">\n",
       "      <th></th>\n",
       "      <th>id</th>\n",
       "      <th>\"dataPublicada\"</th>\n",
       "      <th>\"autor\"</th>\n",
       "      <th>\"texto\"</th>\n",
       "      <th>\"sentimento\"</th>\n",
       "      <th>\"tipoInteracao\"</th>\n",
       "      <th>\"anomalia\"</th>\n",
       "      <th>\"probabilidadeAnomalia\"</th>\n",
       "      <th>\"linkPost\"</th>\n",
       "      <th>\"processado\"</th>\n",
       "      <th>\"contemHyperlink\"</th>\n",
       "    </tr>\n",
       "  </thead>\n",
       "  <tbody>\n",
       "    <tr>\n",
       "      <th>0</th>\n",
       "      <td>1</td>\n",
       "      <td>\"2022-03-04 09:38:00\"</td>\n",
       "      <td>v8_capital</td>\n",
       "      <td>Confira os resultados dos nossos fundos no mês...</td>\n",
       "      <td>NEUTRAL</td>\n",
       "      <td>marcação</td>\n",
       "      <td>1</td>\n",
       "      <td>52</td>\n",
       "      <td>https://www.instagram.com/p/CarqO6drRux/</td>\n",
       "      <td>0</td>\n",
       "      <td>0</td>\n",
       "    </tr>\n",
       "    <tr>\n",
       "      <th>1</th>\n",
       "      <td>2</td>\n",
       "      <td>\"2022-03-04 09:29:00\"</td>\n",
       "      <td>winthegame_of</td>\n",
       "      <td>A Alvarez &amp; Marsal estará conosco no Sportainm...</td>\n",
       "      <td>NEUTRAL</td>\n",
       "      <td>marcação</td>\n",
       "      <td>0</td>\n",
       "      <td>43</td>\n",
       "      <td>https://www.instagram.com/p/CarpQUluh7z/</td>\n",
       "      <td>0</td>\n",
       "      <td>0</td>\n",
       "    </tr>\n",
       "    <tr>\n",
       "      <th>2</th>\n",
       "      <td>3</td>\n",
       "      <td>\"2022-03-04 09:20:00\"</td>\n",
       "      <td>marta_bego</td>\n",
       "      <td>#Repost btgpactual with make_repost ・・・ Entend...</td>\n",
       "      <td>NEUTRAL</td>\n",
       "      <td>marcação</td>\n",
       "      <td>0</td>\n",
       "      <td>45</td>\n",
       "      <td>https://www.instagram.com/p/CaroK9Nu8tC/</td>\n",
       "      <td>0</td>\n",
       "      <td>0</td>\n",
       "    </tr>\n",
       "    <tr>\n",
       "      <th>3</th>\n",
       "      <td>4</td>\n",
       "      <td>\"2022-03-04 08:36:00\"</td>\n",
       "      <td>lmviapiana</td>\n",
       "      <td>Minuto touro de ouro</td>\n",
       "      <td>POSITIVE</td>\n",
       "      <td>comentário</td>\n",
       "      <td>0</td>\n",
       "      <td>38</td>\n",
       "      <td>https://www.instagram.com/p/CapXhB5Lvas/#17977...</td>\n",
       "      <td>0</td>\n",
       "      <td>0</td>\n",
       "    </tr>\n",
       "    <tr>\n",
       "      <th>4</th>\n",
       "      <td>5</td>\n",
       "      <td>\"2022-03-03 21:10:00\"</td>\n",
       "      <td>vanilson_dos</td>\n",
       "      <td>@ricktolledo Sim</td>\n",
       "      <td>NEUTRAL</td>\n",
       "      <td>resposta</td>\n",
       "      <td>0</td>\n",
       "      <td>17</td>\n",
       "      <td>https://www.instagram.com/p/CapXhB5Lvas/#17842...</td>\n",
       "      <td>0</td>\n",
       "      <td>0</td>\n",
       "    </tr>\n",
       "  </tbody>\n",
       "</table>\n",
       "</div>"
      ],
      "text/plain": [
       "   id        \"dataPublicada\"        \"autor\"  \\\n",
       "0   1  \"2022-03-04 09:38:00\"     v8_capital   \n",
       "1   2  \"2022-03-04 09:29:00\"  winthegame_of   \n",
       "2   3  \"2022-03-04 09:20:00\"     marta_bego   \n",
       "3   4  \"2022-03-04 08:36:00\"     lmviapiana   \n",
       "4   5  \"2022-03-03 21:10:00\"   vanilson_dos   \n",
       "\n",
       "                                             \"texto\" \"sentimento\"  \\\n",
       "0  Confira os resultados dos nossos fundos no mês...      NEUTRAL   \n",
       "1  A Alvarez & Marsal estará conosco no Sportainm...      NEUTRAL   \n",
       "2  #Repost btgpactual with make_repost ・・・ Entend...      NEUTRAL   \n",
       "3                               Minuto touro de ouro     POSITIVE   \n",
       "4                                   @ricktolledo Sim      NEUTRAL   \n",
       "\n",
       "  \"tipoInteracao\"  \"anomalia\"  \"probabilidadeAnomalia\"  \\\n",
       "0        marcação           1                       52   \n",
       "1        marcação           0                       43   \n",
       "2        marcação           0                       45   \n",
       "3      comentário           0                       38   \n",
       "4        resposta           0                       17   \n",
       "\n",
       "                                          \"linkPost\"  \"processado\"  \\\n",
       "0           https://www.instagram.com/p/CarqO6drRux/             0   \n",
       "1           https://www.instagram.com/p/CarpQUluh7z/             0   \n",
       "2           https://www.instagram.com/p/CaroK9Nu8tC/             0   \n",
       "3  https://www.instagram.com/p/CapXhB5Lvas/#17977...             0   \n",
       "4  https://www.instagram.com/p/CapXhB5Lvas/#17842...             0   \n",
       "\n",
       "   \"contemHyperlink\"  \n",
       "0                  0  \n",
       "1                  0  \n",
       "2                  0  \n",
       "3                  0  \n",
       "4                  0  "
      ]
     },
     "execution_count": 17,
     "metadata": {},
     "output_type": "execute_result"
    }
   ],
   "source": [
    "df = pd.read_csv('../Base/2-base_10052023.xlsx - Sheet1.csv')\n",
    "df.head()"
   ]
  },
  {
   "cell_type": "code",
   "execution_count": 18,
   "id": "28d3dcef",
   "metadata": {},
   "outputs": [],
   "source": [
    "df = df.rename(columns={'\"anomalia\"' : 'anomalia', '\"dataPublicada\"' : 'dataPublicada', '\"autor\"' : 'autor', '\"texto\"' : 'texto', '\"sentimento\"' : 'sentimento', '\"tipoInteracao\"' : 'tipoInteracao', '\"probabilidadeAnomalia\"' : 'probabilidadeAnomalia', '\"linkPost\"' : 'linkPost', '\"processado\"' : 'processado',  '\"contemHyperlink\"' : 'contemHyperlink' })"
   ]
  },
  {
   "cell_type": "markdown",
   "id": "cb362cef",
   "metadata": {},
   "source": [
    "# 1.0 Análise exploratória"
   ]
  },
  {
   "cell_type": "code",
   "execution_count": 19,
   "id": "d56c6976",
   "metadata": {},
   "outputs": [],
   "source": [
    "sentimento_counts = df['sentimento'].value_counts()"
   ]
  },
  {
   "cell_type": "code",
   "execution_count": 20,
   "id": "32d929ad",
   "metadata": {},
   "outputs": [
    {
     "data": {
      "application/vnd.plotly.v1+json": {
       "config": {
        "plotlyServerURL": "https://plot.ly"
       },
       "data": [
        {
         "alignmentgroup": "True",
         "hovertemplate": "index=%{x}<br>Contagem=%{y}<extra></extra>",
         "legendgroup": "",
         "marker": {
          "color": "#636efa",
          "pattern": {
           "shape": ""
          }
         },
         "name": "",
         "offsetgroup": "",
         "orientation": "v",
         "showlegend": false,
         "textposition": "auto",
         "type": "bar",
         "x": [
          "NEUTRAL",
          "POSITIVE",
          "NEGATIVE"
         ],
         "xaxis": "x",
         "y": [
          5344,
          4487,
          2524
         ],
         "yaxis": "y"
        }
       ],
       "layout": {
        "barmode": "relative",
        "legend": {
         "tracegroupgap": 0
        },
        "template": {
         "data": {
          "bar": [
           {
            "error_x": {
             "color": "#2a3f5f"
            },
            "error_y": {
             "color": "#2a3f5f"
            },
            "marker": {
             "line": {
              "color": "#E5ECF6",
              "width": 0.5
             },
             "pattern": {
              "fillmode": "overlay",
              "size": 10,
              "solidity": 0.2
             }
            },
            "type": "bar"
           }
          ],
          "barpolar": [
           {
            "marker": {
             "line": {
              "color": "#E5ECF6",
              "width": 0.5
             },
             "pattern": {
              "fillmode": "overlay",
              "size": 10,
              "solidity": 0.2
             }
            },
            "type": "barpolar"
           }
          ],
          "carpet": [
           {
            "aaxis": {
             "endlinecolor": "#2a3f5f",
             "gridcolor": "white",
             "linecolor": "white",
             "minorgridcolor": "white",
             "startlinecolor": "#2a3f5f"
            },
            "baxis": {
             "endlinecolor": "#2a3f5f",
             "gridcolor": "white",
             "linecolor": "white",
             "minorgridcolor": "white",
             "startlinecolor": "#2a3f5f"
            },
            "type": "carpet"
           }
          ],
          "choropleth": [
           {
            "colorbar": {
             "outlinewidth": 0,
             "ticks": ""
            },
            "type": "choropleth"
           }
          ],
          "contour": [
           {
            "colorbar": {
             "outlinewidth": 0,
             "ticks": ""
            },
            "colorscale": [
             [
              0,
              "#0d0887"
             ],
             [
              0.1111111111111111,
              "#46039f"
             ],
             [
              0.2222222222222222,
              "#7201a8"
             ],
             [
              0.3333333333333333,
              "#9c179e"
             ],
             [
              0.4444444444444444,
              "#bd3786"
             ],
             [
              0.5555555555555556,
              "#d8576b"
             ],
             [
              0.6666666666666666,
              "#ed7953"
             ],
             [
              0.7777777777777778,
              "#fb9f3a"
             ],
             [
              0.8888888888888888,
              "#fdca26"
             ],
             [
              1,
              "#f0f921"
             ]
            ],
            "type": "contour"
           }
          ],
          "contourcarpet": [
           {
            "colorbar": {
             "outlinewidth": 0,
             "ticks": ""
            },
            "type": "contourcarpet"
           }
          ],
          "heatmap": [
           {
            "colorbar": {
             "outlinewidth": 0,
             "ticks": ""
            },
            "colorscale": [
             [
              0,
              "#0d0887"
             ],
             [
              0.1111111111111111,
              "#46039f"
             ],
             [
              0.2222222222222222,
              "#7201a8"
             ],
             [
              0.3333333333333333,
              "#9c179e"
             ],
             [
              0.4444444444444444,
              "#bd3786"
             ],
             [
              0.5555555555555556,
              "#d8576b"
             ],
             [
              0.6666666666666666,
              "#ed7953"
             ],
             [
              0.7777777777777778,
              "#fb9f3a"
             ],
             [
              0.8888888888888888,
              "#fdca26"
             ],
             [
              1,
              "#f0f921"
             ]
            ],
            "type": "heatmap"
           }
          ],
          "heatmapgl": [
           {
            "colorbar": {
             "outlinewidth": 0,
             "ticks": ""
            },
            "colorscale": [
             [
              0,
              "#0d0887"
             ],
             [
              0.1111111111111111,
              "#46039f"
             ],
             [
              0.2222222222222222,
              "#7201a8"
             ],
             [
              0.3333333333333333,
              "#9c179e"
             ],
             [
              0.4444444444444444,
              "#bd3786"
             ],
             [
              0.5555555555555556,
              "#d8576b"
             ],
             [
              0.6666666666666666,
              "#ed7953"
             ],
             [
              0.7777777777777778,
              "#fb9f3a"
             ],
             [
              0.8888888888888888,
              "#fdca26"
             ],
             [
              1,
              "#f0f921"
             ]
            ],
            "type": "heatmapgl"
           }
          ],
          "histogram": [
           {
            "marker": {
             "pattern": {
              "fillmode": "overlay",
              "size": 10,
              "solidity": 0.2
             }
            },
            "type": "histogram"
           }
          ],
          "histogram2d": [
           {
            "colorbar": {
             "outlinewidth": 0,
             "ticks": ""
            },
            "colorscale": [
             [
              0,
              "#0d0887"
             ],
             [
              0.1111111111111111,
              "#46039f"
             ],
             [
              0.2222222222222222,
              "#7201a8"
             ],
             [
              0.3333333333333333,
              "#9c179e"
             ],
             [
              0.4444444444444444,
              "#bd3786"
             ],
             [
              0.5555555555555556,
              "#d8576b"
             ],
             [
              0.6666666666666666,
              "#ed7953"
             ],
             [
              0.7777777777777778,
              "#fb9f3a"
             ],
             [
              0.8888888888888888,
              "#fdca26"
             ],
             [
              1,
              "#f0f921"
             ]
            ],
            "type": "histogram2d"
           }
          ],
          "histogram2dcontour": [
           {
            "colorbar": {
             "outlinewidth": 0,
             "ticks": ""
            },
            "colorscale": [
             [
              0,
              "#0d0887"
             ],
             [
              0.1111111111111111,
              "#46039f"
             ],
             [
              0.2222222222222222,
              "#7201a8"
             ],
             [
              0.3333333333333333,
              "#9c179e"
             ],
             [
              0.4444444444444444,
              "#bd3786"
             ],
             [
              0.5555555555555556,
              "#d8576b"
             ],
             [
              0.6666666666666666,
              "#ed7953"
             ],
             [
              0.7777777777777778,
              "#fb9f3a"
             ],
             [
              0.8888888888888888,
              "#fdca26"
             ],
             [
              1,
              "#f0f921"
             ]
            ],
            "type": "histogram2dcontour"
           }
          ],
          "mesh3d": [
           {
            "colorbar": {
             "outlinewidth": 0,
             "ticks": ""
            },
            "type": "mesh3d"
           }
          ],
          "parcoords": [
           {
            "line": {
             "colorbar": {
              "outlinewidth": 0,
              "ticks": ""
             }
            },
            "type": "parcoords"
           }
          ],
          "pie": [
           {
            "automargin": true,
            "type": "pie"
           }
          ],
          "scatter": [
           {
            "fillpattern": {
             "fillmode": "overlay",
             "size": 10,
             "solidity": 0.2
            },
            "type": "scatter"
           }
          ],
          "scatter3d": [
           {
            "line": {
             "colorbar": {
              "outlinewidth": 0,
              "ticks": ""
             }
            },
            "marker": {
             "colorbar": {
              "outlinewidth": 0,
              "ticks": ""
             }
            },
            "type": "scatter3d"
           }
          ],
          "scattercarpet": [
           {
            "marker": {
             "colorbar": {
              "outlinewidth": 0,
              "ticks": ""
             }
            },
            "type": "scattercarpet"
           }
          ],
          "scattergeo": [
           {
            "marker": {
             "colorbar": {
              "outlinewidth": 0,
              "ticks": ""
             }
            },
            "type": "scattergeo"
           }
          ],
          "scattergl": [
           {
            "marker": {
             "colorbar": {
              "outlinewidth": 0,
              "ticks": ""
             }
            },
            "type": "scattergl"
           }
          ],
          "scattermapbox": [
           {
            "marker": {
             "colorbar": {
              "outlinewidth": 0,
              "ticks": ""
             }
            },
            "type": "scattermapbox"
           }
          ],
          "scatterpolar": [
           {
            "marker": {
             "colorbar": {
              "outlinewidth": 0,
              "ticks": ""
             }
            },
            "type": "scatterpolar"
           }
          ],
          "scatterpolargl": [
           {
            "marker": {
             "colorbar": {
              "outlinewidth": 0,
              "ticks": ""
             }
            },
            "type": "scatterpolargl"
           }
          ],
          "scatterternary": [
           {
            "marker": {
             "colorbar": {
              "outlinewidth": 0,
              "ticks": ""
             }
            },
            "type": "scatterternary"
           }
          ],
          "surface": [
           {
            "colorbar": {
             "outlinewidth": 0,
             "ticks": ""
            },
            "colorscale": [
             [
              0,
              "#0d0887"
             ],
             [
              0.1111111111111111,
              "#46039f"
             ],
             [
              0.2222222222222222,
              "#7201a8"
             ],
             [
              0.3333333333333333,
              "#9c179e"
             ],
             [
              0.4444444444444444,
              "#bd3786"
             ],
             [
              0.5555555555555556,
              "#d8576b"
             ],
             [
              0.6666666666666666,
              "#ed7953"
             ],
             [
              0.7777777777777778,
              "#fb9f3a"
             ],
             [
              0.8888888888888888,
              "#fdca26"
             ],
             [
              1,
              "#f0f921"
             ]
            ],
            "type": "surface"
           }
          ],
          "table": [
           {
            "cells": {
             "fill": {
              "color": "#EBF0F8"
             },
             "line": {
              "color": "white"
             }
            },
            "header": {
             "fill": {
              "color": "#C8D4E3"
             },
             "line": {
              "color": "white"
             }
            },
            "type": "table"
           }
          ]
         },
         "layout": {
          "annotationdefaults": {
           "arrowcolor": "#2a3f5f",
           "arrowhead": 0,
           "arrowwidth": 1
          },
          "autotypenumbers": "strict",
          "coloraxis": {
           "colorbar": {
            "outlinewidth": 0,
            "ticks": ""
           }
          },
          "colorscale": {
           "diverging": [
            [
             0,
             "#8e0152"
            ],
            [
             0.1,
             "#c51b7d"
            ],
            [
             0.2,
             "#de77ae"
            ],
            [
             0.3,
             "#f1b6da"
            ],
            [
             0.4,
             "#fde0ef"
            ],
            [
             0.5,
             "#f7f7f7"
            ],
            [
             0.6,
             "#e6f5d0"
            ],
            [
             0.7,
             "#b8e186"
            ],
            [
             0.8,
             "#7fbc41"
            ],
            [
             0.9,
             "#4d9221"
            ],
            [
             1,
             "#276419"
            ]
           ],
           "sequential": [
            [
             0,
             "#0d0887"
            ],
            [
             0.1111111111111111,
             "#46039f"
            ],
            [
             0.2222222222222222,
             "#7201a8"
            ],
            [
             0.3333333333333333,
             "#9c179e"
            ],
            [
             0.4444444444444444,
             "#bd3786"
            ],
            [
             0.5555555555555556,
             "#d8576b"
            ],
            [
             0.6666666666666666,
             "#ed7953"
            ],
            [
             0.7777777777777778,
             "#fb9f3a"
            ],
            [
             0.8888888888888888,
             "#fdca26"
            ],
            [
             1,
             "#f0f921"
            ]
           ],
           "sequentialminus": [
            [
             0,
             "#0d0887"
            ],
            [
             0.1111111111111111,
             "#46039f"
            ],
            [
             0.2222222222222222,
             "#7201a8"
            ],
            [
             0.3333333333333333,
             "#9c179e"
            ],
            [
             0.4444444444444444,
             "#bd3786"
            ],
            [
             0.5555555555555556,
             "#d8576b"
            ],
            [
             0.6666666666666666,
             "#ed7953"
            ],
            [
             0.7777777777777778,
             "#fb9f3a"
            ],
            [
             0.8888888888888888,
             "#fdca26"
            ],
            [
             1,
             "#f0f921"
            ]
           ]
          },
          "colorway": [
           "#636efa",
           "#EF553B",
           "#00cc96",
           "#ab63fa",
           "#FFA15A",
           "#19d3f3",
           "#FF6692",
           "#B6E880",
           "#FF97FF",
           "#FECB52"
          ],
          "font": {
           "color": "#2a3f5f"
          },
          "geo": {
           "bgcolor": "white",
           "lakecolor": "white",
           "landcolor": "#E5ECF6",
           "showlakes": true,
           "showland": true,
           "subunitcolor": "white"
          },
          "hoverlabel": {
           "align": "left"
          },
          "hovermode": "closest",
          "mapbox": {
           "style": "light"
          },
          "paper_bgcolor": "white",
          "plot_bgcolor": "#E5ECF6",
          "polar": {
           "angularaxis": {
            "gridcolor": "white",
            "linecolor": "white",
            "ticks": ""
           },
           "bgcolor": "#E5ECF6",
           "radialaxis": {
            "gridcolor": "white",
            "linecolor": "white",
            "ticks": ""
           }
          },
          "scene": {
           "xaxis": {
            "backgroundcolor": "#E5ECF6",
            "gridcolor": "white",
            "gridwidth": 2,
            "linecolor": "white",
            "showbackground": true,
            "ticks": "",
            "zerolinecolor": "white"
           },
           "yaxis": {
            "backgroundcolor": "#E5ECF6",
            "gridcolor": "white",
            "gridwidth": 2,
            "linecolor": "white",
            "showbackground": true,
            "ticks": "",
            "zerolinecolor": "white"
           },
           "zaxis": {
            "backgroundcolor": "#E5ECF6",
            "gridcolor": "white",
            "gridwidth": 2,
            "linecolor": "white",
            "showbackground": true,
            "ticks": "",
            "zerolinecolor": "white"
           }
          },
          "shapedefaults": {
           "line": {
            "color": "#2a3f5f"
           }
          },
          "ternary": {
           "aaxis": {
            "gridcolor": "white",
            "linecolor": "white",
            "ticks": ""
           },
           "baxis": {
            "gridcolor": "white",
            "linecolor": "white",
            "ticks": ""
           },
           "bgcolor": "#E5ECF6",
           "caxis": {
            "gridcolor": "white",
            "linecolor": "white",
            "ticks": ""
           }
          },
          "title": {
           "x": 0.05
          },
          "xaxis": {
           "automargin": true,
           "gridcolor": "white",
           "linecolor": "white",
           "ticks": "",
           "title": {
            "standoff": 15
           },
           "zerolinecolor": "white",
           "zerolinewidth": 2
          },
          "yaxis": {
           "automargin": true,
           "gridcolor": "white",
           "linecolor": "white",
           "ticks": "",
           "title": {
            "standoff": 15
           },
           "zerolinecolor": "white",
           "zerolinewidth": 2
          }
         }
        },
        "title": {
         "text": "sentimentos distribuídos"
        },
        "xaxis": {
         "anchor": "y",
         "domain": [
          0,
          1
         ],
         "title": {
          "text": "index"
         }
        },
        "yaxis": {
         "anchor": "x",
         "domain": [
          0,
          1
         ],
         "title": {
          "text": "Contagem"
         }
        }
       }
      },
      "text/html": [
       "<div>                            <div id=\"68e6f22e-5fe4-410d-ae72-842b21452701\" class=\"plotly-graph-div\" style=\"height:525px; width:100%;\"></div>            <script type=\"text/javascript\">                require([\"plotly\"], function(Plotly) {                    window.PLOTLYENV=window.PLOTLYENV || {};                                    if (document.getElementById(\"68e6f22e-5fe4-410d-ae72-842b21452701\")) {                    Plotly.newPlot(                        \"68e6f22e-5fe4-410d-ae72-842b21452701\",                        [{\"alignmentgroup\":\"True\",\"hovertemplate\":\"index=%{x}<br>Contagem=%{y}<extra></extra>\",\"legendgroup\":\"\",\"marker\":{\"color\":\"#636efa\",\"pattern\":{\"shape\":\"\"}},\"name\":\"\",\"offsetgroup\":\"\",\"orientation\":\"v\",\"showlegend\":false,\"textposition\":\"auto\",\"x\":[\"NEUTRAL\",\"POSITIVE\",\"NEGATIVE\"],\"xaxis\":\"x\",\"y\":[5344,4487,2524],\"yaxis\":\"y\",\"type\":\"bar\"}],                        {\"template\":{\"data\":{\"histogram2dcontour\":[{\"type\":\"histogram2dcontour\",\"colorbar\":{\"outlinewidth\":0,\"ticks\":\"\"},\"colorscale\":[[0.0,\"#0d0887\"],[0.1111111111111111,\"#46039f\"],[0.2222222222222222,\"#7201a8\"],[0.3333333333333333,\"#9c179e\"],[0.4444444444444444,\"#bd3786\"],[0.5555555555555556,\"#d8576b\"],[0.6666666666666666,\"#ed7953\"],[0.7777777777777778,\"#fb9f3a\"],[0.8888888888888888,\"#fdca26\"],[1.0,\"#f0f921\"]]}],\"choropleth\":[{\"type\":\"choropleth\",\"colorbar\":{\"outlinewidth\":0,\"ticks\":\"\"}}],\"histogram2d\":[{\"type\":\"histogram2d\",\"colorbar\":{\"outlinewidth\":0,\"ticks\":\"\"},\"colorscale\":[[0.0,\"#0d0887\"],[0.1111111111111111,\"#46039f\"],[0.2222222222222222,\"#7201a8\"],[0.3333333333333333,\"#9c179e\"],[0.4444444444444444,\"#bd3786\"],[0.5555555555555556,\"#d8576b\"],[0.6666666666666666,\"#ed7953\"],[0.7777777777777778,\"#fb9f3a\"],[0.8888888888888888,\"#fdca26\"],[1.0,\"#f0f921\"]]}],\"heatmap\":[{\"type\":\"heatmap\",\"colorbar\":{\"outlinewidth\":0,\"ticks\":\"\"},\"colorscale\":[[0.0,\"#0d0887\"],[0.1111111111111111,\"#46039f\"],[0.2222222222222222,\"#7201a8\"],[0.3333333333333333,\"#9c179e\"],[0.4444444444444444,\"#bd3786\"],[0.5555555555555556,\"#d8576b\"],[0.6666666666666666,\"#ed7953\"],[0.7777777777777778,\"#fb9f3a\"],[0.8888888888888888,\"#fdca26\"],[1.0,\"#f0f921\"]]}],\"heatmapgl\":[{\"type\":\"heatmapgl\",\"colorbar\":{\"outlinewidth\":0,\"ticks\":\"\"},\"colorscale\":[[0.0,\"#0d0887\"],[0.1111111111111111,\"#46039f\"],[0.2222222222222222,\"#7201a8\"],[0.3333333333333333,\"#9c179e\"],[0.4444444444444444,\"#bd3786\"],[0.5555555555555556,\"#d8576b\"],[0.6666666666666666,\"#ed7953\"],[0.7777777777777778,\"#fb9f3a\"],[0.8888888888888888,\"#fdca26\"],[1.0,\"#f0f921\"]]}],\"contourcarpet\":[{\"type\":\"contourcarpet\",\"colorbar\":{\"outlinewidth\":0,\"ticks\":\"\"}}],\"contour\":[{\"type\":\"contour\",\"colorbar\":{\"outlinewidth\":0,\"ticks\":\"\"},\"colorscale\":[[0.0,\"#0d0887\"],[0.1111111111111111,\"#46039f\"],[0.2222222222222222,\"#7201a8\"],[0.3333333333333333,\"#9c179e\"],[0.4444444444444444,\"#bd3786\"],[0.5555555555555556,\"#d8576b\"],[0.6666666666666666,\"#ed7953\"],[0.7777777777777778,\"#fb9f3a\"],[0.8888888888888888,\"#fdca26\"],[1.0,\"#f0f921\"]]}],\"surface\":[{\"type\":\"surface\",\"colorbar\":{\"outlinewidth\":0,\"ticks\":\"\"},\"colorscale\":[[0.0,\"#0d0887\"],[0.1111111111111111,\"#46039f\"],[0.2222222222222222,\"#7201a8\"],[0.3333333333333333,\"#9c179e\"],[0.4444444444444444,\"#bd3786\"],[0.5555555555555556,\"#d8576b\"],[0.6666666666666666,\"#ed7953\"],[0.7777777777777778,\"#fb9f3a\"],[0.8888888888888888,\"#fdca26\"],[1.0,\"#f0f921\"]]}],\"mesh3d\":[{\"type\":\"mesh3d\",\"colorbar\":{\"outlinewidth\":0,\"ticks\":\"\"}}],\"scatter\":[{\"fillpattern\":{\"fillmode\":\"overlay\",\"size\":10,\"solidity\":0.2},\"type\":\"scatter\"}],\"parcoords\":[{\"type\":\"parcoords\",\"line\":{\"colorbar\":{\"outlinewidth\":0,\"ticks\":\"\"}}}],\"scatterpolargl\":[{\"type\":\"scatterpolargl\",\"marker\":{\"colorbar\":{\"outlinewidth\":0,\"ticks\":\"\"}}}],\"bar\":[{\"error_x\":{\"color\":\"#2a3f5f\"},\"error_y\":{\"color\":\"#2a3f5f\"},\"marker\":{\"line\":{\"color\":\"#E5ECF6\",\"width\":0.5},\"pattern\":{\"fillmode\":\"overlay\",\"size\":10,\"solidity\":0.2}},\"type\":\"bar\"}],\"scattergeo\":[{\"type\":\"scattergeo\",\"marker\":{\"colorbar\":{\"outlinewidth\":0,\"ticks\":\"\"}}}],\"scatterpolar\":[{\"type\":\"scatterpolar\",\"marker\":{\"colorbar\":{\"outlinewidth\":0,\"ticks\":\"\"}}}],\"histogram\":[{\"marker\":{\"pattern\":{\"fillmode\":\"overlay\",\"size\":10,\"solidity\":0.2}},\"type\":\"histogram\"}],\"scattergl\":[{\"type\":\"scattergl\",\"marker\":{\"colorbar\":{\"outlinewidth\":0,\"ticks\":\"\"}}}],\"scatter3d\":[{\"type\":\"scatter3d\",\"line\":{\"colorbar\":{\"outlinewidth\":0,\"ticks\":\"\"}},\"marker\":{\"colorbar\":{\"outlinewidth\":0,\"ticks\":\"\"}}}],\"scattermapbox\":[{\"type\":\"scattermapbox\",\"marker\":{\"colorbar\":{\"outlinewidth\":0,\"ticks\":\"\"}}}],\"scatterternary\":[{\"type\":\"scatterternary\",\"marker\":{\"colorbar\":{\"outlinewidth\":0,\"ticks\":\"\"}}}],\"scattercarpet\":[{\"type\":\"scattercarpet\",\"marker\":{\"colorbar\":{\"outlinewidth\":0,\"ticks\":\"\"}}}],\"carpet\":[{\"aaxis\":{\"endlinecolor\":\"#2a3f5f\",\"gridcolor\":\"white\",\"linecolor\":\"white\",\"minorgridcolor\":\"white\",\"startlinecolor\":\"#2a3f5f\"},\"baxis\":{\"endlinecolor\":\"#2a3f5f\",\"gridcolor\":\"white\",\"linecolor\":\"white\",\"minorgridcolor\":\"white\",\"startlinecolor\":\"#2a3f5f\"},\"type\":\"carpet\"}],\"table\":[{\"cells\":{\"fill\":{\"color\":\"#EBF0F8\"},\"line\":{\"color\":\"white\"}},\"header\":{\"fill\":{\"color\":\"#C8D4E3\"},\"line\":{\"color\":\"white\"}},\"type\":\"table\"}],\"barpolar\":[{\"marker\":{\"line\":{\"color\":\"#E5ECF6\",\"width\":0.5},\"pattern\":{\"fillmode\":\"overlay\",\"size\":10,\"solidity\":0.2}},\"type\":\"barpolar\"}],\"pie\":[{\"automargin\":true,\"type\":\"pie\"}]},\"layout\":{\"autotypenumbers\":\"strict\",\"colorway\":[\"#636efa\",\"#EF553B\",\"#00cc96\",\"#ab63fa\",\"#FFA15A\",\"#19d3f3\",\"#FF6692\",\"#B6E880\",\"#FF97FF\",\"#FECB52\"],\"font\":{\"color\":\"#2a3f5f\"},\"hovermode\":\"closest\",\"hoverlabel\":{\"align\":\"left\"},\"paper_bgcolor\":\"white\",\"plot_bgcolor\":\"#E5ECF6\",\"polar\":{\"bgcolor\":\"#E5ECF6\",\"angularaxis\":{\"gridcolor\":\"white\",\"linecolor\":\"white\",\"ticks\":\"\"},\"radialaxis\":{\"gridcolor\":\"white\",\"linecolor\":\"white\",\"ticks\":\"\"}},\"ternary\":{\"bgcolor\":\"#E5ECF6\",\"aaxis\":{\"gridcolor\":\"white\",\"linecolor\":\"white\",\"ticks\":\"\"},\"baxis\":{\"gridcolor\":\"white\",\"linecolor\":\"white\",\"ticks\":\"\"},\"caxis\":{\"gridcolor\":\"white\",\"linecolor\":\"white\",\"ticks\":\"\"}},\"coloraxis\":{\"colorbar\":{\"outlinewidth\":0,\"ticks\":\"\"}},\"colorscale\":{\"sequential\":[[0.0,\"#0d0887\"],[0.1111111111111111,\"#46039f\"],[0.2222222222222222,\"#7201a8\"],[0.3333333333333333,\"#9c179e\"],[0.4444444444444444,\"#bd3786\"],[0.5555555555555556,\"#d8576b\"],[0.6666666666666666,\"#ed7953\"],[0.7777777777777778,\"#fb9f3a\"],[0.8888888888888888,\"#fdca26\"],[1.0,\"#f0f921\"]],\"sequentialminus\":[[0.0,\"#0d0887\"],[0.1111111111111111,\"#46039f\"],[0.2222222222222222,\"#7201a8\"],[0.3333333333333333,\"#9c179e\"],[0.4444444444444444,\"#bd3786\"],[0.5555555555555556,\"#d8576b\"],[0.6666666666666666,\"#ed7953\"],[0.7777777777777778,\"#fb9f3a\"],[0.8888888888888888,\"#fdca26\"],[1.0,\"#f0f921\"]],\"diverging\":[[0,\"#8e0152\"],[0.1,\"#c51b7d\"],[0.2,\"#de77ae\"],[0.3,\"#f1b6da\"],[0.4,\"#fde0ef\"],[0.5,\"#f7f7f7\"],[0.6,\"#e6f5d0\"],[0.7,\"#b8e186\"],[0.8,\"#7fbc41\"],[0.9,\"#4d9221\"],[1,\"#276419\"]]},\"xaxis\":{\"gridcolor\":\"white\",\"linecolor\":\"white\",\"ticks\":\"\",\"title\":{\"standoff\":15},\"zerolinecolor\":\"white\",\"automargin\":true,\"zerolinewidth\":2},\"yaxis\":{\"gridcolor\":\"white\",\"linecolor\":\"white\",\"ticks\":\"\",\"title\":{\"standoff\":15},\"zerolinecolor\":\"white\",\"automargin\":true,\"zerolinewidth\":2},\"scene\":{\"xaxis\":{\"backgroundcolor\":\"#E5ECF6\",\"gridcolor\":\"white\",\"linecolor\":\"white\",\"showbackground\":true,\"ticks\":\"\",\"zerolinecolor\":\"white\",\"gridwidth\":2},\"yaxis\":{\"backgroundcolor\":\"#E5ECF6\",\"gridcolor\":\"white\",\"linecolor\":\"white\",\"showbackground\":true,\"ticks\":\"\",\"zerolinecolor\":\"white\",\"gridwidth\":2},\"zaxis\":{\"backgroundcolor\":\"#E5ECF6\",\"gridcolor\":\"white\",\"linecolor\":\"white\",\"showbackground\":true,\"ticks\":\"\",\"zerolinecolor\":\"white\",\"gridwidth\":2}},\"shapedefaults\":{\"line\":{\"color\":\"#2a3f5f\"}},\"annotationdefaults\":{\"arrowcolor\":\"#2a3f5f\",\"arrowhead\":0,\"arrowwidth\":1},\"geo\":{\"bgcolor\":\"white\",\"landcolor\":\"#E5ECF6\",\"subunitcolor\":\"white\",\"showland\":true,\"showlakes\":true,\"lakecolor\":\"white\"},\"title\":{\"x\":0.05},\"mapbox\":{\"style\":\"light\"}}},\"xaxis\":{\"anchor\":\"y\",\"domain\":[0.0,1.0],\"title\":{\"text\":\"index\"}},\"yaxis\":{\"anchor\":\"x\",\"domain\":[0.0,1.0],\"title\":{\"text\":\"Contagem\"}},\"legend\":{\"tracegroupgap\":0},\"title\":{\"text\":\"sentimentos distribu\\u00eddos\"},\"barmode\":\"relative\"},                        {\"responsive\": true}                    ).then(function(){\n",
       "                            \n",
       "var gd = document.getElementById('68e6f22e-5fe4-410d-ae72-842b21452701');\n",
       "var x = new MutationObserver(function (mutations, observer) {{\n",
       "        var display = window.getComputedStyle(gd).display;\n",
       "        if (!display || display === 'none') {{\n",
       "            console.log([gd, 'removed!']);\n",
       "            Plotly.purge(gd);\n",
       "            observer.disconnect();\n",
       "        }}\n",
       "}});\n",
       "\n",
       "// Listen for the removal of the full notebook cells\n",
       "var notebookContainer = gd.closest('#notebook-container');\n",
       "if (notebookContainer) {{\n",
       "    x.observe(notebookContainer, {childList: true});\n",
       "}}\n",
       "\n",
       "// Listen for the clearing of the current output cell\n",
       "var outputEl = gd.closest('.output');\n",
       "if (outputEl) {{\n",
       "    x.observe(outputEl, {childList: true});\n",
       "}}\n",
       "\n",
       "                        })                };                });            </script>        </div>"
      ]
     },
     "metadata": {},
     "output_type": "display_data"
    }
   ],
   "source": [
    "fig = px.bar(sentimento_counts, x=sentimento_counts.index, y='sentimento',\n",
    "             labels={'sentimento': 'Contagem', 'x': 'sentimento'},\n",
    "             title='sentimentos distribuídos')\n",
    "fig.show()"
   ]
  },
  {
   "cell_type": "markdown",
   "id": "5411ca6d",
   "metadata": {},
   "source": [
    "# 1.0 Processamento dos dados"
   ]
  },
  {
   "cell_type": "code",
   "execution_count": 21,
   "id": "2bfed1bd",
   "metadata": {},
   "outputs": [],
   "source": [
    "df = df.loc[df['autor'] != 'btgpactual'] #Remoção de replies do BTG"
   ]
  },
  {
   "cell_type": "code",
   "execution_count": 22,
   "id": "8205aa87",
   "metadata": {
    "scrolled": true
   },
   "outputs": [
    {
     "data": {
      "text/html": [
       "<div>\n",
       "<style scoped>\n",
       "    .dataframe tbody tr th:only-of-type {\n",
       "        vertical-align: middle;\n",
       "    }\n",
       "\n",
       "    .dataframe tbody tr th {\n",
       "        vertical-align: top;\n",
       "    }\n",
       "\n",
       "    .dataframe thead th {\n",
       "        text-align: right;\n",
       "    }\n",
       "</style>\n",
       "<table border=\"1\" class=\"dataframe\">\n",
       "  <thead>\n",
       "    <tr style=\"text-align: right;\">\n",
       "      <th></th>\n",
       "      <th>id</th>\n",
       "      <th>dataPublicada</th>\n",
       "      <th>autor</th>\n",
       "      <th>texto</th>\n",
       "      <th>sentimento</th>\n",
       "      <th>tipoInteracao</th>\n",
       "      <th>anomalia</th>\n",
       "      <th>probabilidadeAnomalia</th>\n",
       "      <th>linkPost</th>\n",
       "      <th>processado</th>\n",
       "      <th>contemHyperlink</th>\n",
       "    </tr>\n",
       "  </thead>\n",
       "  <tbody>\n",
       "    <tr>\n",
       "      <th>0</th>\n",
       "      <td>1</td>\n",
       "      <td>\"2022-03-04 09:38:00\"</td>\n",
       "      <td>v8_capital</td>\n",
       "      <td>Confira os resultados dos nossos fundos no mês...</td>\n",
       "      <td>NEUTRAL</td>\n",
       "      <td>marcação</td>\n",
       "      <td>1</td>\n",
       "      <td>52</td>\n",
       "      <td>https://www.instagram.com/p/CarqO6drRux/</td>\n",
       "      <td>0</td>\n",
       "      <td>0</td>\n",
       "    </tr>\n",
       "    <tr>\n",
       "      <th>1</th>\n",
       "      <td>2</td>\n",
       "      <td>\"2022-03-04 09:29:00\"</td>\n",
       "      <td>winthegame_of</td>\n",
       "      <td>A Alvarez &amp; Marsal estará conosco no Sportainm...</td>\n",
       "      <td>NEUTRAL</td>\n",
       "      <td>marcação</td>\n",
       "      <td>0</td>\n",
       "      <td>43</td>\n",
       "      <td>https://www.instagram.com/p/CarpQUluh7z/</td>\n",
       "      <td>0</td>\n",
       "      <td>0</td>\n",
       "    </tr>\n",
       "    <tr>\n",
       "      <th>2</th>\n",
       "      <td>3</td>\n",
       "      <td>\"2022-03-04 09:20:00\"</td>\n",
       "      <td>marta_bego</td>\n",
       "      <td>#Repost btgpactual with make_repost ・・・ Entend...</td>\n",
       "      <td>NEUTRAL</td>\n",
       "      <td>marcação</td>\n",
       "      <td>0</td>\n",
       "      <td>45</td>\n",
       "      <td>https://www.instagram.com/p/CaroK9Nu8tC/</td>\n",
       "      <td>0</td>\n",
       "      <td>0</td>\n",
       "    </tr>\n",
       "    <tr>\n",
       "      <th>3</th>\n",
       "      <td>4</td>\n",
       "      <td>\"2022-03-04 08:36:00\"</td>\n",
       "      <td>lmviapiana</td>\n",
       "      <td>Minuto touro de ouro</td>\n",
       "      <td>POSITIVE</td>\n",
       "      <td>comentário</td>\n",
       "      <td>0</td>\n",
       "      <td>38</td>\n",
       "      <td>https://www.instagram.com/p/CapXhB5Lvas/#17977...</td>\n",
       "      <td>0</td>\n",
       "      <td>0</td>\n",
       "    </tr>\n",
       "    <tr>\n",
       "      <th>4</th>\n",
       "      <td>5</td>\n",
       "      <td>\"2022-03-03 21:10:00\"</td>\n",
       "      <td>vanilson_dos</td>\n",
       "      <td>@ricktolledo Sim</td>\n",
       "      <td>NEUTRAL</td>\n",
       "      <td>resposta</td>\n",
       "      <td>0</td>\n",
       "      <td>17</td>\n",
       "      <td>https://www.instagram.com/p/CapXhB5Lvas/#17842...</td>\n",
       "      <td>0</td>\n",
       "      <td>0</td>\n",
       "    </tr>\n",
       "  </tbody>\n",
       "</table>\n",
       "</div>"
      ],
      "text/plain": [
       "   id          dataPublicada          autor  \\\n",
       "0   1  \"2022-03-04 09:38:00\"     v8_capital   \n",
       "1   2  \"2022-03-04 09:29:00\"  winthegame_of   \n",
       "2   3  \"2022-03-04 09:20:00\"     marta_bego   \n",
       "3   4  \"2022-03-04 08:36:00\"     lmviapiana   \n",
       "4   5  \"2022-03-03 21:10:00\"   vanilson_dos   \n",
       "\n",
       "                                               texto sentimento tipoInteracao  \\\n",
       "0  Confira os resultados dos nossos fundos no mês...    NEUTRAL      marcação   \n",
       "1  A Alvarez & Marsal estará conosco no Sportainm...    NEUTRAL      marcação   \n",
       "2  #Repost btgpactual with make_repost ・・・ Entend...    NEUTRAL      marcação   \n",
       "3                               Minuto touro de ouro   POSITIVE    comentário   \n",
       "4                                   @ricktolledo Sim    NEUTRAL      resposta   \n",
       "\n",
       "   anomalia  probabilidadeAnomalia  \\\n",
       "0         1                     52   \n",
       "1         0                     43   \n",
       "2         0                     45   \n",
       "3         0                     38   \n",
       "4         0                     17   \n",
       "\n",
       "                                            linkPost  processado  \\\n",
       "0           https://www.instagram.com/p/CarqO6drRux/           0   \n",
       "1           https://www.instagram.com/p/CarpQUluh7z/           0   \n",
       "2           https://www.instagram.com/p/CaroK9Nu8tC/           0   \n",
       "3  https://www.instagram.com/p/CapXhB5Lvas/#17977...           0   \n",
       "4  https://www.instagram.com/p/CapXhB5Lvas/#17842...           0   \n",
       "\n",
       "   contemHyperlink  \n",
       "0                0  \n",
       "1                0  \n",
       "2                0  \n",
       "3                0  \n",
       "4                0  "
      ]
     },
     "execution_count": 22,
     "metadata": {},
     "output_type": "execute_result"
    }
   ],
   "source": [
    "df.head()"
   ]
  },
  {
   "cell_type": "markdown",
   "id": "f693574a",
   "metadata": {},
   "source": [
    "## 1.1.0 Pré-processamento de texto"
   ]
  },
  {
   "cell_type": "markdown",
   "id": "6511abe4",
   "metadata": {},
   "source": [
    "### 1.2.0 Definição de funções"
   ]
  },
  {
   "cell_type": "markdown",
   "id": "803a6877",
   "metadata": {},
   "source": [
    "### 1.2.1 Tokenização"
   ]
  },
  {
   "cell_type": "code",
   "execution_count": 23,
   "id": "3490ed01",
   "metadata": {},
   "outputs": [],
   "source": [
    "def tokenizer(comment):\n",
    "    if isinstance(comment, str): # verifica se é um comentário do tipo string\n",
    "        tokens = nltk.word_tokenize(comment)\n",
    "        return tokens\n",
    "    else:\n",
    "        return []"
   ]
  },
  {
   "cell_type": "code",
   "execution_count": 24,
   "id": "d4375d59",
   "metadata": {},
   "outputs": [
    {
     "data": {
      "text/html": [
       "<div>\n",
       "<style scoped>\n",
       "    .dataframe tbody tr th:only-of-type {\n",
       "        vertical-align: middle;\n",
       "    }\n",
       "\n",
       "    .dataframe tbody tr th {\n",
       "        vertical-align: top;\n",
       "    }\n",
       "\n",
       "    .dataframe thead th {\n",
       "        text-align: right;\n",
       "    }\n",
       "</style>\n",
       "<table border=\"1\" class=\"dataframe\">\n",
       "  <thead>\n",
       "    <tr style=\"text-align: right;\">\n",
       "      <th></th>\n",
       "      <th>id</th>\n",
       "      <th>dataPublicada</th>\n",
       "      <th>autor</th>\n",
       "      <th>texto</th>\n",
       "      <th>sentimento</th>\n",
       "      <th>tipoInteracao</th>\n",
       "      <th>anomalia</th>\n",
       "      <th>probabilidadeAnomalia</th>\n",
       "      <th>linkPost</th>\n",
       "      <th>processado</th>\n",
       "      <th>contemHyperlink</th>\n",
       "      <th>tokenized</th>\n",
       "    </tr>\n",
       "  </thead>\n",
       "  <tbody>\n",
       "    <tr>\n",
       "      <th>0</th>\n",
       "      <td>1</td>\n",
       "      <td>\"2022-03-04 09:38:00\"</td>\n",
       "      <td>v8_capital</td>\n",
       "      <td>Confira os resultados dos nossos fundos no mês...</td>\n",
       "      <td>NEUTRAL</td>\n",
       "      <td>marcação</td>\n",
       "      <td>1</td>\n",
       "      <td>52</td>\n",
       "      <td>https://www.instagram.com/p/CarqO6drRux/</td>\n",
       "      <td>0</td>\n",
       "      <td>0</td>\n",
       "      <td>[Confira, os, resultados, dos, nossos, fundos,...</td>\n",
       "    </tr>\n",
       "    <tr>\n",
       "      <th>1</th>\n",
       "      <td>2</td>\n",
       "      <td>\"2022-03-04 09:29:00\"</td>\n",
       "      <td>winthegame_of</td>\n",
       "      <td>A Alvarez &amp; Marsal estará conosco no Sportainm...</td>\n",
       "      <td>NEUTRAL</td>\n",
       "      <td>marcação</td>\n",
       "      <td>0</td>\n",
       "      <td>43</td>\n",
       "      <td>https://www.instagram.com/p/CarpQUluh7z/</td>\n",
       "      <td>0</td>\n",
       "      <td>0</td>\n",
       "      <td>[A, Alvarez, &amp;, Marsal, estará, conosco, no, S...</td>\n",
       "    </tr>\n",
       "    <tr>\n",
       "      <th>2</th>\n",
       "      <td>3</td>\n",
       "      <td>\"2022-03-04 09:20:00\"</td>\n",
       "      <td>marta_bego</td>\n",
       "      <td>#Repost btgpactual with make_repost ・・・ Entend...</td>\n",
       "      <td>NEUTRAL</td>\n",
       "      <td>marcação</td>\n",
       "      <td>0</td>\n",
       "      <td>45</td>\n",
       "      <td>https://www.instagram.com/p/CaroK9Nu8tC/</td>\n",
       "      <td>0</td>\n",
       "      <td>0</td>\n",
       "      <td>[#, Repost, btgpactual, with, make_repost, ・・・...</td>\n",
       "    </tr>\n",
       "    <tr>\n",
       "      <th>3</th>\n",
       "      <td>4</td>\n",
       "      <td>\"2022-03-04 08:36:00\"</td>\n",
       "      <td>lmviapiana</td>\n",
       "      <td>Minuto touro de ouro</td>\n",
       "      <td>POSITIVE</td>\n",
       "      <td>comentário</td>\n",
       "      <td>0</td>\n",
       "      <td>38</td>\n",
       "      <td>https://www.instagram.com/p/CapXhB5Lvas/#17977...</td>\n",
       "      <td>0</td>\n",
       "      <td>0</td>\n",
       "      <td>[Minuto, touro, de, ouro]</td>\n",
       "    </tr>\n",
       "    <tr>\n",
       "      <th>4</th>\n",
       "      <td>5</td>\n",
       "      <td>\"2022-03-03 21:10:00\"</td>\n",
       "      <td>vanilson_dos</td>\n",
       "      <td>@ricktolledo Sim</td>\n",
       "      <td>NEUTRAL</td>\n",
       "      <td>resposta</td>\n",
       "      <td>0</td>\n",
       "      <td>17</td>\n",
       "      <td>https://www.instagram.com/p/CapXhB5Lvas/#17842...</td>\n",
       "      <td>0</td>\n",
       "      <td>0</td>\n",
       "      <td>[@, ricktolledo, Sim]</td>\n",
       "    </tr>\n",
       "    <tr>\n",
       "      <th>...</th>\n",
       "      <td>...</td>\n",
       "      <td>...</td>\n",
       "      <td>...</td>\n",
       "      <td>...</td>\n",
       "      <td>...</td>\n",
       "      <td>...</td>\n",
       "      <td>...</td>\n",
       "      <td>...</td>\n",
       "      <td>...</td>\n",
       "      <td>...</td>\n",
       "      <td>...</td>\n",
       "      <td>...</td>\n",
       "    </tr>\n",
       "    <tr>\n",
       "      <th>12350</th>\n",
       "      <td>3044013</td>\n",
       "      <td>\"2022-11-30 11:51:00\"</td>\n",
       "      <td>onixcapital</td>\n",
       "      <td>Uma noite de encontros e muito conhecimento on...</td>\n",
       "      <td>NEUTRAL</td>\n",
       "      <td>marcação</td>\n",
       "      <td>1</td>\n",
       "      <td>54</td>\n",
       "      <td>https://www.instagram.com/reel/CllsqI7goSC/</td>\n",
       "      <td>0</td>\n",
       "      <td>0</td>\n",
       "      <td>[Uma, noite, de, encontros, e, muito, conhecim...</td>\n",
       "    </tr>\n",
       "    <tr>\n",
       "      <th>12351</th>\n",
       "      <td>3044212</td>\n",
       "      <td>\"2022-11-30 12:25:00\"</td>\n",
       "      <td>amgcapitalinvest</td>\n",
       "      <td>Erros financeiros para eliminar antes dos 30 a...</td>\n",
       "      <td>NEUTRAL</td>\n",
       "      <td>marcação</td>\n",
       "      <td>0</td>\n",
       "      <td>39</td>\n",
       "      <td>https://www.instagram.com/p/Cllw0CmNGkX/</td>\n",
       "      <td>0</td>\n",
       "      <td>0</td>\n",
       "      <td>[Erros, financeiros, para, eliminar, antes, do...</td>\n",
       "    </tr>\n",
       "    <tr>\n",
       "      <th>12352</th>\n",
       "      <td>3044213</td>\n",
       "      <td>\"2022-11-30 12:18:00\"</td>\n",
       "      <td>jayipacderota</td>\n",
       "      <td>Estou muito grato por todo o esforço que você ...</td>\n",
       "      <td>POSITIVE</td>\n",
       "      <td>comentário</td>\n",
       "      <td>1</td>\n",
       "      <td>52</td>\n",
       "      <td>https://www.instagram.com/p/CllkSBOuKlJ/#17960...</td>\n",
       "      <td>0</td>\n",
       "      <td>0</td>\n",
       "      <td>[Estou, muito, grato, por, todo, o, esforço, q...</td>\n",
       "    </tr>\n",
       "    <tr>\n",
       "      <th>12353</th>\n",
       "      <td>3044412</td>\n",
       "      <td>\"2022-11-30 12:50:00\"</td>\n",
       "      <td>moinho_cultural</td>\n",
       "      <td>\"👉GUADAKAN está chegando!!!!  A aula pública e...</td>\n",
       "      <td>NEUTRAL</td>\n",
       "      <td>marcação</td>\n",
       "      <td>0</td>\n",
       "      <td>43</td>\n",
       "      <td>https://www.instagram.com/reel/ClluX-cAoaf/</td>\n",
       "      <td>0</td>\n",
       "      <td>0</td>\n",
       "      <td>[``, 👉GUADAKAN, está, chegando, !, !, !, !, A,...</td>\n",
       "    </tr>\n",
       "    <tr>\n",
       "      <th>12354</th>\n",
       "      <td>3045012</td>\n",
       "      <td>\"2022-11-30 14:27:00\"</td>\n",
       "      <td>bfmarilia</td>\n",
       "      <td>@btgpactual pq o morning call não está mais ap...</td>\n",
       "      <td>NEGATIVE</td>\n",
       "      <td>comentário</td>\n",
       "      <td>0</td>\n",
       "      <td>28</td>\n",
       "      <td>https://www.instagram.com/p/CllkSBOuKlJ/#17975...</td>\n",
       "      <td>0</td>\n",
       "      <td>0</td>\n",
       "      <td>[@, btgpactual, pq, o, morning, call, não, est...</td>\n",
       "    </tr>\n",
       "  </tbody>\n",
       "</table>\n",
       "<p>12193 rows × 12 columns</p>\n",
       "</div>"
      ],
      "text/plain": [
       "            id          dataPublicada             autor  \\\n",
       "0            1  \"2022-03-04 09:38:00\"        v8_capital   \n",
       "1            2  \"2022-03-04 09:29:00\"     winthegame_of   \n",
       "2            3  \"2022-03-04 09:20:00\"        marta_bego   \n",
       "3            4  \"2022-03-04 08:36:00\"        lmviapiana   \n",
       "4            5  \"2022-03-03 21:10:00\"      vanilson_dos   \n",
       "...        ...                    ...               ...   \n",
       "12350  3044013  \"2022-11-30 11:51:00\"       onixcapital   \n",
       "12351  3044212  \"2022-11-30 12:25:00\"  amgcapitalinvest   \n",
       "12352  3044213  \"2022-11-30 12:18:00\"     jayipacderota   \n",
       "12353  3044412  \"2022-11-30 12:50:00\"   moinho_cultural   \n",
       "12354  3045012  \"2022-11-30 14:27:00\"         bfmarilia   \n",
       "\n",
       "                                                   texto sentimento  \\\n",
       "0      Confira os resultados dos nossos fundos no mês...    NEUTRAL   \n",
       "1      A Alvarez & Marsal estará conosco no Sportainm...    NEUTRAL   \n",
       "2      #Repost btgpactual with make_repost ・・・ Entend...    NEUTRAL   \n",
       "3                                   Minuto touro de ouro   POSITIVE   \n",
       "4                                       @ricktolledo Sim    NEUTRAL   \n",
       "...                                                  ...        ...   \n",
       "12350  Uma noite de encontros e muito conhecimento on...    NEUTRAL   \n",
       "12351  Erros financeiros para eliminar antes dos 30 a...    NEUTRAL   \n",
       "12352  Estou muito grato por todo o esforço que você ...   POSITIVE   \n",
       "12353  \"👉GUADAKAN está chegando!!!!  A aula pública e...    NEUTRAL   \n",
       "12354  @btgpactual pq o morning call não está mais ap...   NEGATIVE   \n",
       "\n",
       "      tipoInteracao  anomalia  probabilidadeAnomalia  \\\n",
       "0          marcação         1                     52   \n",
       "1          marcação         0                     43   \n",
       "2          marcação         0                     45   \n",
       "3        comentário         0                     38   \n",
       "4          resposta         0                     17   \n",
       "...             ...       ...                    ...   \n",
       "12350      marcação         1                     54   \n",
       "12351      marcação         0                     39   \n",
       "12352    comentário         1                     52   \n",
       "12353      marcação         0                     43   \n",
       "12354    comentário         0                     28   \n",
       "\n",
       "                                                linkPost  processado  \\\n",
       "0               https://www.instagram.com/p/CarqO6drRux/           0   \n",
       "1               https://www.instagram.com/p/CarpQUluh7z/           0   \n",
       "2               https://www.instagram.com/p/CaroK9Nu8tC/           0   \n",
       "3      https://www.instagram.com/p/CapXhB5Lvas/#17977...           0   \n",
       "4      https://www.instagram.com/p/CapXhB5Lvas/#17842...           0   \n",
       "...                                                  ...         ...   \n",
       "12350        https://www.instagram.com/reel/CllsqI7goSC/           0   \n",
       "12351           https://www.instagram.com/p/Cllw0CmNGkX/           0   \n",
       "12352  https://www.instagram.com/p/CllkSBOuKlJ/#17960...           0   \n",
       "12353        https://www.instagram.com/reel/ClluX-cAoaf/           0   \n",
       "12354  https://www.instagram.com/p/CllkSBOuKlJ/#17975...           0   \n",
       "\n",
       "       contemHyperlink                                          tokenized  \n",
       "0                    0  [Confira, os, resultados, dos, nossos, fundos,...  \n",
       "1                    0  [A, Alvarez, &, Marsal, estará, conosco, no, S...  \n",
       "2                    0  [#, Repost, btgpactual, with, make_repost, ・・・...  \n",
       "3                    0                          [Minuto, touro, de, ouro]  \n",
       "4                    0                              [@, ricktolledo, Sim]  \n",
       "...                ...                                                ...  \n",
       "12350                0  [Uma, noite, de, encontros, e, muito, conhecim...  \n",
       "12351                0  [Erros, financeiros, para, eliminar, antes, do...  \n",
       "12352                0  [Estou, muito, grato, por, todo, o, esforço, q...  \n",
       "12353                0  [``, 👉GUADAKAN, está, chegando, !, !, !, !, A,...  \n",
       "12354                0  [@, btgpactual, pq, o, morning, call, não, est...  \n",
       "\n",
       "[12193 rows x 12 columns]"
      ]
     },
     "execution_count": 24,
     "metadata": {},
     "output_type": "execute_result"
    }
   ],
   "source": [
    "df['tokenized'] = df['texto'].apply(tokenizer)\n",
    "df"
   ]
  },
  {
   "cell_type": "code",
   "execution_count": 25,
   "id": "31604610",
   "metadata": {},
   "outputs": [
    {
     "data": {
      "text/plain": [
       "0    [Confira, os, resultados, dos, nossos, fundos,...\n",
       "1    [A, Alvarez, &, Marsal, estará, conosco, no, S...\n",
       "2    [#, Repost, btgpactual, with, make_repost, ・・・...\n",
       "3                            [Minuto, touro, de, ouro]\n",
       "4                                [@, ricktolledo, Sim]\n",
       "Name: tokenized, dtype: object"
      ]
     },
     "execution_count": 25,
     "metadata": {},
     "output_type": "execute_result"
    }
   ],
   "source": [
    "df['tokenized'].head()"
   ]
  },
  {
   "cell_type": "markdown",
   "id": "b01fabd9",
   "metadata": {},
   "source": [
    "### 1.2.2 Remoção de stopwords\n"
   ]
  },
  {
   "cell_type": "code",
   "execution_count": 26,
   "id": "2c167879",
   "metadata": {},
   "outputs": [],
   "source": [
    "stop_words = set(stopwords.words('portuguese'))"
   ]
  },
  {
   "cell_type": "code",
   "execution_count": 27,
   "id": "a6270482",
   "metadata": {},
   "outputs": [],
   "source": [
    "def remove_stopwords(tokens):\n",
    "    if isinstance(tokens, list): # verifica se é um comentário do tipo string\n",
    "        comments_filtered = []\n",
    "        for token in tokens:\n",
    "            if token.lower() not in stop_words:\n",
    "                comments_filtered.append(token)\n",
    "        return comments_filtered\n",
    "    else:\n",
    "        return []"
   ]
  },
  {
   "cell_type": "code",
   "execution_count": 28,
   "id": "db2bcf8e",
   "metadata": {},
   "outputs": [
    {
     "data": {
      "text/html": [
       "<div>\n",
       "<style scoped>\n",
       "    .dataframe tbody tr th:only-of-type {\n",
       "        vertical-align: middle;\n",
       "    }\n",
       "\n",
       "    .dataframe tbody tr th {\n",
       "        vertical-align: top;\n",
       "    }\n",
       "\n",
       "    .dataframe thead th {\n",
       "        text-align: right;\n",
       "    }\n",
       "</style>\n",
       "<table border=\"1\" class=\"dataframe\">\n",
       "  <thead>\n",
       "    <tr style=\"text-align: right;\">\n",
       "      <th></th>\n",
       "      <th>id</th>\n",
       "      <th>dataPublicada</th>\n",
       "      <th>autor</th>\n",
       "      <th>texto</th>\n",
       "      <th>sentimento</th>\n",
       "      <th>tipoInteracao</th>\n",
       "      <th>anomalia</th>\n",
       "      <th>probabilidadeAnomalia</th>\n",
       "      <th>linkPost</th>\n",
       "      <th>processado</th>\n",
       "      <th>contemHyperlink</th>\n",
       "      <th>tokenized</th>\n",
       "      <th>no_stopwords</th>\n",
       "    </tr>\n",
       "  </thead>\n",
       "  <tbody>\n",
       "    <tr>\n",
       "      <th>0</th>\n",
       "      <td>1</td>\n",
       "      <td>\"2022-03-04 09:38:00\"</td>\n",
       "      <td>v8_capital</td>\n",
       "      <td>Confira os resultados dos nossos fundos no mês...</td>\n",
       "      <td>NEUTRAL</td>\n",
       "      <td>marcação</td>\n",
       "      <td>1</td>\n",
       "      <td>52</td>\n",
       "      <td>https://www.instagram.com/p/CarqO6drRux/</td>\n",
       "      <td>0</td>\n",
       "      <td>0</td>\n",
       "      <td>[Confira, os, resultados, dos, nossos, fundos,...</td>\n",
       "      <td>[Confira, resultados, fundos, mês, fevereiro/2...</td>\n",
       "    </tr>\n",
       "    <tr>\n",
       "      <th>1</th>\n",
       "      <td>2</td>\n",
       "      <td>\"2022-03-04 09:29:00\"</td>\n",
       "      <td>winthegame_of</td>\n",
       "      <td>A Alvarez &amp; Marsal estará conosco no Sportainm...</td>\n",
       "      <td>NEUTRAL</td>\n",
       "      <td>marcação</td>\n",
       "      <td>0</td>\n",
       "      <td>43</td>\n",
       "      <td>https://www.instagram.com/p/CarpQUluh7z/</td>\n",
       "      <td>0</td>\n",
       "      <td>0</td>\n",
       "      <td>[A, Alvarez, &amp;, Marsal, estará, conosco, no, S...</td>\n",
       "      <td>[Alvarez, &amp;, Marsal, estará, conosco, Sportain...</td>\n",
       "    </tr>\n",
       "    <tr>\n",
       "      <th>2</th>\n",
       "      <td>3</td>\n",
       "      <td>\"2022-03-04 09:20:00\"</td>\n",
       "      <td>marta_bego</td>\n",
       "      <td>#Repost btgpactual with make_repost ・・・ Entend...</td>\n",
       "      <td>NEUTRAL</td>\n",
       "      <td>marcação</td>\n",
       "      <td>0</td>\n",
       "      <td>45</td>\n",
       "      <td>https://www.instagram.com/p/CaroK9Nu8tC/</td>\n",
       "      <td>0</td>\n",
       "      <td>0</td>\n",
       "      <td>[#, Repost, btgpactual, with, make_repost, ・・・...</td>\n",
       "      <td>[#, Repost, btgpactual, with, make_repost, ・・・...</td>\n",
       "    </tr>\n",
       "    <tr>\n",
       "      <th>3</th>\n",
       "      <td>4</td>\n",
       "      <td>\"2022-03-04 08:36:00\"</td>\n",
       "      <td>lmviapiana</td>\n",
       "      <td>Minuto touro de ouro</td>\n",
       "      <td>POSITIVE</td>\n",
       "      <td>comentário</td>\n",
       "      <td>0</td>\n",
       "      <td>38</td>\n",
       "      <td>https://www.instagram.com/p/CapXhB5Lvas/#17977...</td>\n",
       "      <td>0</td>\n",
       "      <td>0</td>\n",
       "      <td>[Minuto, touro, de, ouro]</td>\n",
       "      <td>[Minuto, touro, ouro]</td>\n",
       "    </tr>\n",
       "    <tr>\n",
       "      <th>4</th>\n",
       "      <td>5</td>\n",
       "      <td>\"2022-03-03 21:10:00\"</td>\n",
       "      <td>vanilson_dos</td>\n",
       "      <td>@ricktolledo Sim</td>\n",
       "      <td>NEUTRAL</td>\n",
       "      <td>resposta</td>\n",
       "      <td>0</td>\n",
       "      <td>17</td>\n",
       "      <td>https://www.instagram.com/p/CapXhB5Lvas/#17842...</td>\n",
       "      <td>0</td>\n",
       "      <td>0</td>\n",
       "      <td>[@, ricktolledo, Sim]</td>\n",
       "      <td>[@, ricktolledo, Sim]</td>\n",
       "    </tr>\n",
       "    <tr>\n",
       "      <th>...</th>\n",
       "      <td>...</td>\n",
       "      <td>...</td>\n",
       "      <td>...</td>\n",
       "      <td>...</td>\n",
       "      <td>...</td>\n",
       "      <td>...</td>\n",
       "      <td>...</td>\n",
       "      <td>...</td>\n",
       "      <td>...</td>\n",
       "      <td>...</td>\n",
       "      <td>...</td>\n",
       "      <td>...</td>\n",
       "      <td>...</td>\n",
       "    </tr>\n",
       "    <tr>\n",
       "      <th>12350</th>\n",
       "      <td>3044013</td>\n",
       "      <td>\"2022-11-30 11:51:00\"</td>\n",
       "      <td>onixcapital</td>\n",
       "      <td>Uma noite de encontros e muito conhecimento on...</td>\n",
       "      <td>NEUTRAL</td>\n",
       "      <td>marcação</td>\n",
       "      <td>1</td>\n",
       "      <td>54</td>\n",
       "      <td>https://www.instagram.com/reel/CllsqI7goSC/</td>\n",
       "      <td>0</td>\n",
       "      <td>0</td>\n",
       "      <td>[Uma, noite, de, encontros, e, muito, conhecim...</td>\n",
       "      <td>[noite, encontros, conhecimento, onde, cliente...</td>\n",
       "    </tr>\n",
       "    <tr>\n",
       "      <th>12351</th>\n",
       "      <td>3044212</td>\n",
       "      <td>\"2022-11-30 12:25:00\"</td>\n",
       "      <td>amgcapitalinvest</td>\n",
       "      <td>Erros financeiros para eliminar antes dos 30 a...</td>\n",
       "      <td>NEUTRAL</td>\n",
       "      <td>marcação</td>\n",
       "      <td>0</td>\n",
       "      <td>39</td>\n",
       "      <td>https://www.instagram.com/p/Cllw0CmNGkX/</td>\n",
       "      <td>0</td>\n",
       "      <td>0</td>\n",
       "      <td>[Erros, financeiros, para, eliminar, antes, do...</td>\n",
       "      <td>[Erros, financeiros, eliminar, antes, 30, anos...</td>\n",
       "    </tr>\n",
       "    <tr>\n",
       "      <th>12352</th>\n",
       "      <td>3044213</td>\n",
       "      <td>\"2022-11-30 12:18:00\"</td>\n",
       "      <td>jayipacderota</td>\n",
       "      <td>Estou muito grato por todo o esforço que você ...</td>\n",
       "      <td>POSITIVE</td>\n",
       "      <td>comentário</td>\n",
       "      <td>1</td>\n",
       "      <td>52</td>\n",
       "      <td>https://www.instagram.com/p/CllkSBOuKlJ/#17960...</td>\n",
       "      <td>0</td>\n",
       "      <td>0</td>\n",
       "      <td>[Estou, muito, grato, por, todo, o, esforço, q...</td>\n",
       "      <td>[grato, todo, esforço, rendeu, investimento, R...</td>\n",
       "    </tr>\n",
       "    <tr>\n",
       "      <th>12353</th>\n",
       "      <td>3044412</td>\n",
       "      <td>\"2022-11-30 12:50:00\"</td>\n",
       "      <td>moinho_cultural</td>\n",
       "      <td>\"👉GUADAKAN está chegando!!!!  A aula pública e...</td>\n",
       "      <td>NEUTRAL</td>\n",
       "      <td>marcação</td>\n",
       "      <td>0</td>\n",
       "      <td>43</td>\n",
       "      <td>https://www.instagram.com/reel/ClluX-cAoaf/</td>\n",
       "      <td>0</td>\n",
       "      <td>0</td>\n",
       "      <td>[``, 👉GUADAKAN, está, chegando, !, !, !, !, A,...</td>\n",
       "      <td>[``, 👉GUADAKAN, chegando, !, !, !, !, aula, pú...</td>\n",
       "    </tr>\n",
       "    <tr>\n",
       "      <th>12354</th>\n",
       "      <td>3045012</td>\n",
       "      <td>\"2022-11-30 14:27:00\"</td>\n",
       "      <td>bfmarilia</td>\n",
       "      <td>@btgpactual pq o morning call não está mais ap...</td>\n",
       "      <td>NEGATIVE</td>\n",
       "      <td>comentário</td>\n",
       "      <td>0</td>\n",
       "      <td>28</td>\n",
       "      <td>https://www.instagram.com/p/CllkSBOuKlJ/#17975...</td>\n",
       "      <td>0</td>\n",
       "      <td>0</td>\n",
       "      <td>[@, btgpactual, pq, o, morning, call, não, est...</td>\n",
       "      <td>[@, btgpactual, pq, morning, call, aparecendo,...</td>\n",
       "    </tr>\n",
       "  </tbody>\n",
       "</table>\n",
       "<p>12193 rows × 13 columns</p>\n",
       "</div>"
      ],
      "text/plain": [
       "            id          dataPublicada             autor  \\\n",
       "0            1  \"2022-03-04 09:38:00\"        v8_capital   \n",
       "1            2  \"2022-03-04 09:29:00\"     winthegame_of   \n",
       "2            3  \"2022-03-04 09:20:00\"        marta_bego   \n",
       "3            4  \"2022-03-04 08:36:00\"        lmviapiana   \n",
       "4            5  \"2022-03-03 21:10:00\"      vanilson_dos   \n",
       "...        ...                    ...               ...   \n",
       "12350  3044013  \"2022-11-30 11:51:00\"       onixcapital   \n",
       "12351  3044212  \"2022-11-30 12:25:00\"  amgcapitalinvest   \n",
       "12352  3044213  \"2022-11-30 12:18:00\"     jayipacderota   \n",
       "12353  3044412  \"2022-11-30 12:50:00\"   moinho_cultural   \n",
       "12354  3045012  \"2022-11-30 14:27:00\"         bfmarilia   \n",
       "\n",
       "                                                   texto sentimento  \\\n",
       "0      Confira os resultados dos nossos fundos no mês...    NEUTRAL   \n",
       "1      A Alvarez & Marsal estará conosco no Sportainm...    NEUTRAL   \n",
       "2      #Repost btgpactual with make_repost ・・・ Entend...    NEUTRAL   \n",
       "3                                   Minuto touro de ouro   POSITIVE   \n",
       "4                                       @ricktolledo Sim    NEUTRAL   \n",
       "...                                                  ...        ...   \n",
       "12350  Uma noite de encontros e muito conhecimento on...    NEUTRAL   \n",
       "12351  Erros financeiros para eliminar antes dos 30 a...    NEUTRAL   \n",
       "12352  Estou muito grato por todo o esforço que você ...   POSITIVE   \n",
       "12353  \"👉GUADAKAN está chegando!!!!  A aula pública e...    NEUTRAL   \n",
       "12354  @btgpactual pq o morning call não está mais ap...   NEGATIVE   \n",
       "\n",
       "      tipoInteracao  anomalia  probabilidadeAnomalia  \\\n",
       "0          marcação         1                     52   \n",
       "1          marcação         0                     43   \n",
       "2          marcação         0                     45   \n",
       "3        comentário         0                     38   \n",
       "4          resposta         0                     17   \n",
       "...             ...       ...                    ...   \n",
       "12350      marcação         1                     54   \n",
       "12351      marcação         0                     39   \n",
       "12352    comentário         1                     52   \n",
       "12353      marcação         0                     43   \n",
       "12354    comentário         0                     28   \n",
       "\n",
       "                                                linkPost  processado  \\\n",
       "0               https://www.instagram.com/p/CarqO6drRux/           0   \n",
       "1               https://www.instagram.com/p/CarpQUluh7z/           0   \n",
       "2               https://www.instagram.com/p/CaroK9Nu8tC/           0   \n",
       "3      https://www.instagram.com/p/CapXhB5Lvas/#17977...           0   \n",
       "4      https://www.instagram.com/p/CapXhB5Lvas/#17842...           0   \n",
       "...                                                  ...         ...   \n",
       "12350        https://www.instagram.com/reel/CllsqI7goSC/           0   \n",
       "12351           https://www.instagram.com/p/Cllw0CmNGkX/           0   \n",
       "12352  https://www.instagram.com/p/CllkSBOuKlJ/#17960...           0   \n",
       "12353        https://www.instagram.com/reel/ClluX-cAoaf/           0   \n",
       "12354  https://www.instagram.com/p/CllkSBOuKlJ/#17975...           0   \n",
       "\n",
       "       contemHyperlink                                          tokenized  \\\n",
       "0                    0  [Confira, os, resultados, dos, nossos, fundos,...   \n",
       "1                    0  [A, Alvarez, &, Marsal, estará, conosco, no, S...   \n",
       "2                    0  [#, Repost, btgpactual, with, make_repost, ・・・...   \n",
       "3                    0                          [Minuto, touro, de, ouro]   \n",
       "4                    0                              [@, ricktolledo, Sim]   \n",
       "...                ...                                                ...   \n",
       "12350                0  [Uma, noite, de, encontros, e, muito, conhecim...   \n",
       "12351                0  [Erros, financeiros, para, eliminar, antes, do...   \n",
       "12352                0  [Estou, muito, grato, por, todo, o, esforço, q...   \n",
       "12353                0  [``, 👉GUADAKAN, está, chegando, !, !, !, !, A,...   \n",
       "12354                0  [@, btgpactual, pq, o, morning, call, não, est...   \n",
       "\n",
       "                                            no_stopwords  \n",
       "0      [Confira, resultados, fundos, mês, fevereiro/2...  \n",
       "1      [Alvarez, &, Marsal, estará, conosco, Sportain...  \n",
       "2      [#, Repost, btgpactual, with, make_repost, ・・・...  \n",
       "3                                  [Minuto, touro, ouro]  \n",
       "4                                  [@, ricktolledo, Sim]  \n",
       "...                                                  ...  \n",
       "12350  [noite, encontros, conhecimento, onde, cliente...  \n",
       "12351  [Erros, financeiros, eliminar, antes, 30, anos...  \n",
       "12352  [grato, todo, esforço, rendeu, investimento, R...  \n",
       "12353  [``, 👉GUADAKAN, chegando, !, !, !, !, aula, pú...  \n",
       "12354  [@, btgpactual, pq, morning, call, aparecendo,...  \n",
       "\n",
       "[12193 rows x 13 columns]"
      ]
     },
     "execution_count": 28,
     "metadata": {},
     "output_type": "execute_result"
    }
   ],
   "source": [
    "df['no_stopwords'] = df['tokenized'].apply(remove_stopwords)\n",
    "df"
   ]
  },
  {
   "cell_type": "markdown",
   "id": "6a42cd76",
   "metadata": {},
   "source": [
    "### 1.2.3 Stemming"
   ]
  },
  {
   "cell_type": "code",
   "execution_count": 29,
   "id": "75fdfabd",
   "metadata": {},
   "outputs": [],
   "source": [
    "sn_stemmer = SnowballStemmer('portuguese')"
   ]
  },
  {
   "cell_type": "code",
   "execution_count": 30,
   "id": "adaa1fd1",
   "metadata": {},
   "outputs": [],
   "source": [
    "def stemming(tokens):\n",
    "    if isinstance(tokens, list): # verifica se é um comentário do tipo string\n",
    "        stem_list = []\n",
    "        for token in tokens: \n",
    "            stem_list.append(sn_stemmer.stem(token))\n",
    "        return stem_list\n",
    "    else:\n",
    "        return []"
   ]
  },
  {
   "cell_type": "code",
   "execution_count": 31,
   "id": "47e25ed6",
   "metadata": {},
   "outputs": [
    {
     "data": {
      "text/html": [
       "<div>\n",
       "<style scoped>\n",
       "    .dataframe tbody tr th:only-of-type {\n",
       "        vertical-align: middle;\n",
       "    }\n",
       "\n",
       "    .dataframe tbody tr th {\n",
       "        vertical-align: top;\n",
       "    }\n",
       "\n",
       "    .dataframe thead th {\n",
       "        text-align: right;\n",
       "    }\n",
       "</style>\n",
       "<table border=\"1\" class=\"dataframe\">\n",
       "  <thead>\n",
       "    <tr style=\"text-align: right;\">\n",
       "      <th></th>\n",
       "      <th>id</th>\n",
       "      <th>dataPublicada</th>\n",
       "      <th>autor</th>\n",
       "      <th>texto</th>\n",
       "      <th>sentimento</th>\n",
       "      <th>tipoInteracao</th>\n",
       "      <th>anomalia</th>\n",
       "      <th>probabilidadeAnomalia</th>\n",
       "      <th>linkPost</th>\n",
       "      <th>processado</th>\n",
       "      <th>contemHyperlink</th>\n",
       "      <th>tokenized</th>\n",
       "      <th>no_stopwords</th>\n",
       "      <th>stemmed</th>\n",
       "    </tr>\n",
       "  </thead>\n",
       "  <tbody>\n",
       "    <tr>\n",
       "      <th>0</th>\n",
       "      <td>1</td>\n",
       "      <td>\"2022-03-04 09:38:00\"</td>\n",
       "      <td>v8_capital</td>\n",
       "      <td>Confira os resultados dos nossos fundos no mês...</td>\n",
       "      <td>NEUTRAL</td>\n",
       "      <td>marcação</td>\n",
       "      <td>1</td>\n",
       "      <td>52</td>\n",
       "      <td>https://www.instagram.com/p/CarqO6drRux/</td>\n",
       "      <td>0</td>\n",
       "      <td>0</td>\n",
       "      <td>[Confira, os, resultados, dos, nossos, fundos,...</td>\n",
       "      <td>[Confira, resultados, fundos, mês, fevereiro/2...</td>\n",
       "      <td>[conf, result, fund, mês, fevereiro/22, ., tod...</td>\n",
       "    </tr>\n",
       "    <tr>\n",
       "      <th>1</th>\n",
       "      <td>2</td>\n",
       "      <td>\"2022-03-04 09:29:00\"</td>\n",
       "      <td>winthegame_of</td>\n",
       "      <td>A Alvarez &amp; Marsal estará conosco no Sportainm...</td>\n",
       "      <td>NEUTRAL</td>\n",
       "      <td>marcação</td>\n",
       "      <td>0</td>\n",
       "      <td>43</td>\n",
       "      <td>https://www.instagram.com/p/CarpQUluh7z/</td>\n",
       "      <td>0</td>\n",
       "      <td>0</td>\n",
       "      <td>[A, Alvarez, &amp;, Marsal, estará, conosco, no, S...</td>\n",
       "      <td>[Alvarez, &amp;, Marsal, estará, conosco, Sportain...</td>\n",
       "      <td>[alvarez, &amp;, marsal, estar, conosc, sportainme...</td>\n",
       "    </tr>\n",
       "    <tr>\n",
       "      <th>2</th>\n",
       "      <td>3</td>\n",
       "      <td>\"2022-03-04 09:20:00\"</td>\n",
       "      <td>marta_bego</td>\n",
       "      <td>#Repost btgpactual with make_repost ・・・ Entend...</td>\n",
       "      <td>NEUTRAL</td>\n",
       "      <td>marcação</td>\n",
       "      <td>0</td>\n",
       "      <td>45</td>\n",
       "      <td>https://www.instagram.com/p/CaroK9Nu8tC/</td>\n",
       "      <td>0</td>\n",
       "      <td>0</td>\n",
       "      <td>[#, Repost, btgpactual, with, make_repost, ・・・...</td>\n",
       "      <td>[#, Repost, btgpactual, with, make_repost, ・・・...</td>\n",
       "      <td>[#, repost, btgpactual, with, make_repost, ・・・...</td>\n",
       "    </tr>\n",
       "    <tr>\n",
       "      <th>3</th>\n",
       "      <td>4</td>\n",
       "      <td>\"2022-03-04 08:36:00\"</td>\n",
       "      <td>lmviapiana</td>\n",
       "      <td>Minuto touro de ouro</td>\n",
       "      <td>POSITIVE</td>\n",
       "      <td>comentário</td>\n",
       "      <td>0</td>\n",
       "      <td>38</td>\n",
       "      <td>https://www.instagram.com/p/CapXhB5Lvas/#17977...</td>\n",
       "      <td>0</td>\n",
       "      <td>0</td>\n",
       "      <td>[Minuto, touro, de, ouro]</td>\n",
       "      <td>[Minuto, touro, ouro]</td>\n",
       "      <td>[minut, tour, our]</td>\n",
       "    </tr>\n",
       "    <tr>\n",
       "      <th>4</th>\n",
       "      <td>5</td>\n",
       "      <td>\"2022-03-03 21:10:00\"</td>\n",
       "      <td>vanilson_dos</td>\n",
       "      <td>@ricktolledo Sim</td>\n",
       "      <td>NEUTRAL</td>\n",
       "      <td>resposta</td>\n",
       "      <td>0</td>\n",
       "      <td>17</td>\n",
       "      <td>https://www.instagram.com/p/CapXhB5Lvas/#17842...</td>\n",
       "      <td>0</td>\n",
       "      <td>0</td>\n",
       "      <td>[@, ricktolledo, Sim]</td>\n",
       "      <td>[@, ricktolledo, Sim]</td>\n",
       "      <td>[@, ricktolled, sim]</td>\n",
       "    </tr>\n",
       "    <tr>\n",
       "      <th>...</th>\n",
       "      <td>...</td>\n",
       "      <td>...</td>\n",
       "      <td>...</td>\n",
       "      <td>...</td>\n",
       "      <td>...</td>\n",
       "      <td>...</td>\n",
       "      <td>...</td>\n",
       "      <td>...</td>\n",
       "      <td>...</td>\n",
       "      <td>...</td>\n",
       "      <td>...</td>\n",
       "      <td>...</td>\n",
       "      <td>...</td>\n",
       "      <td>...</td>\n",
       "    </tr>\n",
       "    <tr>\n",
       "      <th>12350</th>\n",
       "      <td>3044013</td>\n",
       "      <td>\"2022-11-30 11:51:00\"</td>\n",
       "      <td>onixcapital</td>\n",
       "      <td>Uma noite de encontros e muito conhecimento on...</td>\n",
       "      <td>NEUTRAL</td>\n",
       "      <td>marcação</td>\n",
       "      <td>1</td>\n",
       "      <td>54</td>\n",
       "      <td>https://www.instagram.com/reel/CllsqI7goSC/</td>\n",
       "      <td>0</td>\n",
       "      <td>0</td>\n",
       "      <td>[Uma, noite, de, encontros, e, muito, conhecim...</td>\n",
       "      <td>[noite, encontros, conhecimento, onde, cliente...</td>\n",
       "      <td>[noit, encontr, conhec, onde, client, barreira...</td>\n",
       "    </tr>\n",
       "    <tr>\n",
       "      <th>12351</th>\n",
       "      <td>3044212</td>\n",
       "      <td>\"2022-11-30 12:25:00\"</td>\n",
       "      <td>amgcapitalinvest</td>\n",
       "      <td>Erros financeiros para eliminar antes dos 30 a...</td>\n",
       "      <td>NEUTRAL</td>\n",
       "      <td>marcação</td>\n",
       "      <td>0</td>\n",
       "      <td>39</td>\n",
       "      <td>https://www.instagram.com/p/Cllw0CmNGkX/</td>\n",
       "      <td>0</td>\n",
       "      <td>0</td>\n",
       "      <td>[Erros, financeiros, para, eliminar, antes, do...</td>\n",
       "      <td>[Erros, financeiros, eliminar, antes, 30, anos...</td>\n",
       "      <td>[erros, financeir, elimin, antes, 30, anos, .,...</td>\n",
       "    </tr>\n",
       "    <tr>\n",
       "      <th>12352</th>\n",
       "      <td>3044213</td>\n",
       "      <td>\"2022-11-30 12:18:00\"</td>\n",
       "      <td>jayipacderota</td>\n",
       "      <td>Estou muito grato por todo o esforço que você ...</td>\n",
       "      <td>POSITIVE</td>\n",
       "      <td>comentário</td>\n",
       "      <td>1</td>\n",
       "      <td>52</td>\n",
       "      <td>https://www.instagram.com/p/CllkSBOuKlJ/#17960...</td>\n",
       "      <td>0</td>\n",
       "      <td>0</td>\n",
       "      <td>[Estou, muito, grato, por, todo, o, esforço, q...</td>\n",
       "      <td>[grato, todo, esforço, rendeu, investimento, R...</td>\n",
       "      <td>[grat, tod, esforc, rend, invest, r, $, 17.000...</td>\n",
       "    </tr>\n",
       "    <tr>\n",
       "      <th>12353</th>\n",
       "      <td>3044412</td>\n",
       "      <td>\"2022-11-30 12:50:00\"</td>\n",
       "      <td>moinho_cultural</td>\n",
       "      <td>\"👉GUADAKAN está chegando!!!!  A aula pública e...</td>\n",
       "      <td>NEUTRAL</td>\n",
       "      <td>marcação</td>\n",
       "      <td>0</td>\n",
       "      <td>43</td>\n",
       "      <td>https://www.instagram.com/reel/ClluX-cAoaf/</td>\n",
       "      <td>0</td>\n",
       "      <td>0</td>\n",
       "      <td>[``, 👉GUADAKAN, está, chegando, !, !, !, !, A,...</td>\n",
       "      <td>[``, 👉GUADAKAN, chegando, !, !, !, !, aula, pú...</td>\n",
       "      <td>[``, 👉guadakan, cheg, !, !, !, !, aul, públic,...</td>\n",
       "    </tr>\n",
       "    <tr>\n",
       "      <th>12354</th>\n",
       "      <td>3045012</td>\n",
       "      <td>\"2022-11-30 14:27:00\"</td>\n",
       "      <td>bfmarilia</td>\n",
       "      <td>@btgpactual pq o morning call não está mais ap...</td>\n",
       "      <td>NEGATIVE</td>\n",
       "      <td>comentário</td>\n",
       "      <td>0</td>\n",
       "      <td>28</td>\n",
       "      <td>https://www.instagram.com/p/CllkSBOuKlJ/#17975...</td>\n",
       "      <td>0</td>\n",
       "      <td>0</td>\n",
       "      <td>[@, btgpactual, pq, o, morning, call, não, est...</td>\n",
       "      <td>[@, btgpactual, pq, morning, call, aparecendo,...</td>\n",
       "      <td>[@, btgpactual, pq, morning, call, aparec, spo...</td>\n",
       "    </tr>\n",
       "  </tbody>\n",
       "</table>\n",
       "<p>12193 rows × 14 columns</p>\n",
       "</div>"
      ],
      "text/plain": [
       "            id          dataPublicada             autor  \\\n",
       "0            1  \"2022-03-04 09:38:00\"        v8_capital   \n",
       "1            2  \"2022-03-04 09:29:00\"     winthegame_of   \n",
       "2            3  \"2022-03-04 09:20:00\"        marta_bego   \n",
       "3            4  \"2022-03-04 08:36:00\"        lmviapiana   \n",
       "4            5  \"2022-03-03 21:10:00\"      vanilson_dos   \n",
       "...        ...                    ...               ...   \n",
       "12350  3044013  \"2022-11-30 11:51:00\"       onixcapital   \n",
       "12351  3044212  \"2022-11-30 12:25:00\"  amgcapitalinvest   \n",
       "12352  3044213  \"2022-11-30 12:18:00\"     jayipacderota   \n",
       "12353  3044412  \"2022-11-30 12:50:00\"   moinho_cultural   \n",
       "12354  3045012  \"2022-11-30 14:27:00\"         bfmarilia   \n",
       "\n",
       "                                                   texto sentimento  \\\n",
       "0      Confira os resultados dos nossos fundos no mês...    NEUTRAL   \n",
       "1      A Alvarez & Marsal estará conosco no Sportainm...    NEUTRAL   \n",
       "2      #Repost btgpactual with make_repost ・・・ Entend...    NEUTRAL   \n",
       "3                                   Minuto touro de ouro   POSITIVE   \n",
       "4                                       @ricktolledo Sim    NEUTRAL   \n",
       "...                                                  ...        ...   \n",
       "12350  Uma noite de encontros e muito conhecimento on...    NEUTRAL   \n",
       "12351  Erros financeiros para eliminar antes dos 30 a...    NEUTRAL   \n",
       "12352  Estou muito grato por todo o esforço que você ...   POSITIVE   \n",
       "12353  \"👉GUADAKAN está chegando!!!!  A aula pública e...    NEUTRAL   \n",
       "12354  @btgpactual pq o morning call não está mais ap...   NEGATIVE   \n",
       "\n",
       "      tipoInteracao  anomalia  probabilidadeAnomalia  \\\n",
       "0          marcação         1                     52   \n",
       "1          marcação         0                     43   \n",
       "2          marcação         0                     45   \n",
       "3        comentário         0                     38   \n",
       "4          resposta         0                     17   \n",
       "...             ...       ...                    ...   \n",
       "12350      marcação         1                     54   \n",
       "12351      marcação         0                     39   \n",
       "12352    comentário         1                     52   \n",
       "12353      marcação         0                     43   \n",
       "12354    comentário         0                     28   \n",
       "\n",
       "                                                linkPost  processado  \\\n",
       "0               https://www.instagram.com/p/CarqO6drRux/           0   \n",
       "1               https://www.instagram.com/p/CarpQUluh7z/           0   \n",
       "2               https://www.instagram.com/p/CaroK9Nu8tC/           0   \n",
       "3      https://www.instagram.com/p/CapXhB5Lvas/#17977...           0   \n",
       "4      https://www.instagram.com/p/CapXhB5Lvas/#17842...           0   \n",
       "...                                                  ...         ...   \n",
       "12350        https://www.instagram.com/reel/CllsqI7goSC/           0   \n",
       "12351           https://www.instagram.com/p/Cllw0CmNGkX/           0   \n",
       "12352  https://www.instagram.com/p/CllkSBOuKlJ/#17960...           0   \n",
       "12353        https://www.instagram.com/reel/ClluX-cAoaf/           0   \n",
       "12354  https://www.instagram.com/p/CllkSBOuKlJ/#17975...           0   \n",
       "\n",
       "       contemHyperlink                                          tokenized  \\\n",
       "0                    0  [Confira, os, resultados, dos, nossos, fundos,...   \n",
       "1                    0  [A, Alvarez, &, Marsal, estará, conosco, no, S...   \n",
       "2                    0  [#, Repost, btgpactual, with, make_repost, ・・・...   \n",
       "3                    0                          [Minuto, touro, de, ouro]   \n",
       "4                    0                              [@, ricktolledo, Sim]   \n",
       "...                ...                                                ...   \n",
       "12350                0  [Uma, noite, de, encontros, e, muito, conhecim...   \n",
       "12351                0  [Erros, financeiros, para, eliminar, antes, do...   \n",
       "12352                0  [Estou, muito, grato, por, todo, o, esforço, q...   \n",
       "12353                0  [``, 👉GUADAKAN, está, chegando, !, !, !, !, A,...   \n",
       "12354                0  [@, btgpactual, pq, o, morning, call, não, est...   \n",
       "\n",
       "                                            no_stopwords  \\\n",
       "0      [Confira, resultados, fundos, mês, fevereiro/2...   \n",
       "1      [Alvarez, &, Marsal, estará, conosco, Sportain...   \n",
       "2      [#, Repost, btgpactual, with, make_repost, ・・・...   \n",
       "3                                  [Minuto, touro, ouro]   \n",
       "4                                  [@, ricktolledo, Sim]   \n",
       "...                                                  ...   \n",
       "12350  [noite, encontros, conhecimento, onde, cliente...   \n",
       "12351  [Erros, financeiros, eliminar, antes, 30, anos...   \n",
       "12352  [grato, todo, esforço, rendeu, investimento, R...   \n",
       "12353  [``, 👉GUADAKAN, chegando, !, !, !, !, aula, pú...   \n",
       "12354  [@, btgpactual, pq, morning, call, aparecendo,...   \n",
       "\n",
       "                                                 stemmed  \n",
       "0      [conf, result, fund, mês, fevereiro/22, ., tod...  \n",
       "1      [alvarez, &, marsal, estar, conosc, sportainme...  \n",
       "2      [#, repost, btgpactual, with, make_repost, ・・・...  \n",
       "3                                     [minut, tour, our]  \n",
       "4                                   [@, ricktolled, sim]  \n",
       "...                                                  ...  \n",
       "12350  [noit, encontr, conhec, onde, client, barreira...  \n",
       "12351  [erros, financeir, elimin, antes, 30, anos, .,...  \n",
       "12352  [grat, tod, esforc, rend, invest, r, $, 17.000...  \n",
       "12353  [``, 👉guadakan, cheg, !, !, !, !, aul, públic,...  \n",
       "12354  [@, btgpactual, pq, morning, call, aparec, spo...  \n",
       "\n",
       "[12193 rows x 14 columns]"
      ]
     },
     "execution_count": 31,
     "metadata": {},
     "output_type": "execute_result"
    }
   ],
   "source": [
    "df['stemmed'] = df['no_stopwords'].apply(stemming)\n",
    "df"
   ]
  },
  {
   "cell_type": "markdown",
   "id": "a44e0b58",
   "metadata": {},
   "source": [
    "### 1.2.4 Bag of Words"
   ]
  },
  {
   "cell_type": "code",
   "execution_count": 32,
   "id": "8e640722",
   "metadata": {},
   "outputs": [],
   "source": [
    "def model_bow(tokens):\n",
    "    # create the transform\n",
    "    vectorizer = CountVectorizer()\n",
    "    # tokenize and build vocab\n",
    "    vectorizer.fit(tokens)\n",
    "    # summarize\n",
    "    print(sorted(vectorizer.vocabulary_))\n",
    "\n",
    "    # encode document\n",
    "    vector = vectorizer.transform(tokens)\n",
    "    # summarize encoded vector\n",
    "    print(vector.shape)\n",
    "    print(vector.toarray())"
   ]
  },
  {
   "cell_type": "code",
   "execution_count": 33,
   "id": "daef8b5e",
   "metadata": {},
   "outputs": [
    {
     "ename": "AttributeError",
     "evalue": "'list' object has no attribute 'lower'",
     "output_type": "error",
     "traceback": [
      "\u001b[1;31m---------------------------------------------------------------------------\u001b[0m",
      "\u001b[1;31mAttributeError\u001b[0m                            Traceback (most recent call last)",
      "Cell \u001b[1;32mIn[33], line 3\u001b[0m\n\u001b[0;32m      1\u001b[0m final \u001b[38;5;241m=\u001b[39m df[\u001b[38;5;124m'\u001b[39m\u001b[38;5;124mstemmed\u001b[39m\u001b[38;5;124m'\u001b[39m]\n\u001b[1;32m----> 3\u001b[0m \u001b[43mmodel_bow\u001b[49m\u001b[43m(\u001b[49m\u001b[43mfinal\u001b[49m\u001b[43m)\u001b[49m\n",
      "Cell \u001b[1;32mIn[32], line 5\u001b[0m, in \u001b[0;36mmodel_bow\u001b[1;34m(tokens)\u001b[0m\n\u001b[0;32m      3\u001b[0m vectorizer \u001b[38;5;241m=\u001b[39m CountVectorizer()\n\u001b[0;32m      4\u001b[0m \u001b[38;5;66;03m# tokenize and build vocab\u001b[39;00m\n\u001b[1;32m----> 5\u001b[0m \u001b[43mvectorizer\u001b[49m\u001b[38;5;241;43m.\u001b[39;49m\u001b[43mfit\u001b[49m\u001b[43m(\u001b[49m\u001b[43mtokens\u001b[49m\u001b[43m)\u001b[49m\n\u001b[0;32m      6\u001b[0m \u001b[38;5;66;03m# summarize\u001b[39;00m\n\u001b[0;32m      7\u001b[0m \u001b[38;5;28mprint\u001b[39m(\u001b[38;5;28msorted\u001b[39m(vectorizer\u001b[38;5;241m.\u001b[39mvocabulary_))\n",
      "File \u001b[1;32m~\\AppData\\Local\\Packages\\PythonSoftwareFoundation.Python.3.10_qbz5n2kfra8p0\\LocalCache\\local-packages\\Python310\\site-packages\\sklearn\\feature_extraction\\text.py:1291\u001b[0m, in \u001b[0;36mCountVectorizer.fit\u001b[1;34m(self, raw_documents, y)\u001b[0m\n\u001b[0;32m   1275\u001b[0m \u001b[38;5;250m\u001b[39m\u001b[38;5;124;03m\"\"\"Learn a vocabulary dictionary of all tokens in the raw documents.\u001b[39;00m\n\u001b[0;32m   1276\u001b[0m \n\u001b[0;32m   1277\u001b[0m \u001b[38;5;124;03mParameters\u001b[39;00m\n\u001b[1;32m   (...)\u001b[0m\n\u001b[0;32m   1288\u001b[0m \u001b[38;5;124;03m    Fitted vectorizer.\u001b[39;00m\n\u001b[0;32m   1289\u001b[0m \u001b[38;5;124;03m\"\"\"\u001b[39;00m\n\u001b[0;32m   1290\u001b[0m \u001b[38;5;28mself\u001b[39m\u001b[38;5;241m.\u001b[39m_warn_for_unused_params()\n\u001b[1;32m-> 1291\u001b[0m \u001b[38;5;28;43mself\u001b[39;49m\u001b[38;5;241;43m.\u001b[39;49m\u001b[43mfit_transform\u001b[49m\u001b[43m(\u001b[49m\u001b[43mraw_documents\u001b[49m\u001b[43m)\u001b[49m\n\u001b[0;32m   1292\u001b[0m \u001b[38;5;28;01mreturn\u001b[39;00m \u001b[38;5;28mself\u001b[39m\n",
      "File \u001b[1;32m~\\AppData\\Local\\Packages\\PythonSoftwareFoundation.Python.3.10_qbz5n2kfra8p0\\LocalCache\\local-packages\\Python310\\site-packages\\sklearn\\feature_extraction\\text.py:1338\u001b[0m, in \u001b[0;36mCountVectorizer.fit_transform\u001b[1;34m(self, raw_documents, y)\u001b[0m\n\u001b[0;32m   1330\u001b[0m             warnings\u001b[38;5;241m.\u001b[39mwarn(\n\u001b[0;32m   1331\u001b[0m                 \u001b[38;5;124m\"\u001b[39m\u001b[38;5;124mUpper case characters found in\u001b[39m\u001b[38;5;124m\"\u001b[39m\n\u001b[0;32m   1332\u001b[0m                 \u001b[38;5;124m\"\u001b[39m\u001b[38;5;124m vocabulary while \u001b[39m\u001b[38;5;124m'\u001b[39m\u001b[38;5;124mlowercase\u001b[39m\u001b[38;5;124m'\u001b[39m\u001b[38;5;124m\"\u001b[39m\n\u001b[0;32m   1333\u001b[0m                 \u001b[38;5;124m\"\u001b[39m\u001b[38;5;124m is True. These entries will not\u001b[39m\u001b[38;5;124m\"\u001b[39m\n\u001b[0;32m   1334\u001b[0m                 \u001b[38;5;124m\"\u001b[39m\u001b[38;5;124m be matched with any documents\u001b[39m\u001b[38;5;124m\"\u001b[39m\n\u001b[0;32m   1335\u001b[0m             )\n\u001b[0;32m   1336\u001b[0m             \u001b[38;5;28;01mbreak\u001b[39;00m\n\u001b[1;32m-> 1338\u001b[0m vocabulary, X \u001b[38;5;241m=\u001b[39m \u001b[38;5;28;43mself\u001b[39;49m\u001b[38;5;241;43m.\u001b[39;49m\u001b[43m_count_vocab\u001b[49m\u001b[43m(\u001b[49m\u001b[43mraw_documents\u001b[49m\u001b[43m,\u001b[49m\u001b[43m \u001b[49m\u001b[38;5;28;43mself\u001b[39;49m\u001b[38;5;241;43m.\u001b[39;49m\u001b[43mfixed_vocabulary_\u001b[49m\u001b[43m)\u001b[49m\n\u001b[0;32m   1340\u001b[0m \u001b[38;5;28;01mif\u001b[39;00m \u001b[38;5;28mself\u001b[39m\u001b[38;5;241m.\u001b[39mbinary:\n\u001b[0;32m   1341\u001b[0m     X\u001b[38;5;241m.\u001b[39mdata\u001b[38;5;241m.\u001b[39mfill(\u001b[38;5;241m1\u001b[39m)\n",
      "File \u001b[1;32m~\\AppData\\Local\\Packages\\PythonSoftwareFoundation.Python.3.10_qbz5n2kfra8p0\\LocalCache\\local-packages\\Python310\\site-packages\\sklearn\\feature_extraction\\text.py:1209\u001b[0m, in \u001b[0;36mCountVectorizer._count_vocab\u001b[1;34m(self, raw_documents, fixed_vocab)\u001b[0m\n\u001b[0;32m   1207\u001b[0m \u001b[38;5;28;01mfor\u001b[39;00m doc \u001b[38;5;129;01min\u001b[39;00m raw_documents:\n\u001b[0;32m   1208\u001b[0m     feature_counter \u001b[38;5;241m=\u001b[39m {}\n\u001b[1;32m-> 1209\u001b[0m     \u001b[38;5;28;01mfor\u001b[39;00m feature \u001b[38;5;129;01min\u001b[39;00m \u001b[43manalyze\u001b[49m\u001b[43m(\u001b[49m\u001b[43mdoc\u001b[49m\u001b[43m)\u001b[49m:\n\u001b[0;32m   1210\u001b[0m         \u001b[38;5;28;01mtry\u001b[39;00m:\n\u001b[0;32m   1211\u001b[0m             feature_idx \u001b[38;5;241m=\u001b[39m vocabulary[feature]\n",
      "File \u001b[1;32m~\\AppData\\Local\\Packages\\PythonSoftwareFoundation.Python.3.10_qbz5n2kfra8p0\\LocalCache\\local-packages\\Python310\\site-packages\\sklearn\\feature_extraction\\text.py:111\u001b[0m, in \u001b[0;36m_analyze\u001b[1;34m(doc, analyzer, tokenizer, ngrams, preprocessor, decoder, stop_words)\u001b[0m\n\u001b[0;32m    109\u001b[0m \u001b[38;5;28;01melse\u001b[39;00m:\n\u001b[0;32m    110\u001b[0m     \u001b[38;5;28;01mif\u001b[39;00m preprocessor \u001b[38;5;129;01mis\u001b[39;00m \u001b[38;5;129;01mnot\u001b[39;00m \u001b[38;5;28;01mNone\u001b[39;00m:\n\u001b[1;32m--> 111\u001b[0m         doc \u001b[38;5;241m=\u001b[39m \u001b[43mpreprocessor\u001b[49m\u001b[43m(\u001b[49m\u001b[43mdoc\u001b[49m\u001b[43m)\u001b[49m\n\u001b[0;32m    112\u001b[0m     \u001b[38;5;28;01mif\u001b[39;00m tokenizer \u001b[38;5;129;01mis\u001b[39;00m \u001b[38;5;129;01mnot\u001b[39;00m \u001b[38;5;28;01mNone\u001b[39;00m:\n\u001b[0;32m    113\u001b[0m         doc \u001b[38;5;241m=\u001b[39m tokenizer(doc)\n",
      "File \u001b[1;32m~\\AppData\\Local\\Packages\\PythonSoftwareFoundation.Python.3.10_qbz5n2kfra8p0\\LocalCache\\local-packages\\Python310\\site-packages\\sklearn\\feature_extraction\\text.py:69\u001b[0m, in \u001b[0;36m_preprocess\u001b[1;34m(doc, accent_function, lower)\u001b[0m\n\u001b[0;32m     50\u001b[0m \u001b[38;5;250m\u001b[39m\u001b[38;5;124;03m\"\"\"Chain together an optional series of text preprocessing steps to\u001b[39;00m\n\u001b[0;32m     51\u001b[0m \u001b[38;5;124;03mapply to a document.\u001b[39;00m\n\u001b[0;32m     52\u001b[0m \n\u001b[1;32m   (...)\u001b[0m\n\u001b[0;32m     66\u001b[0m \u001b[38;5;124;03m    preprocessed string\u001b[39;00m\n\u001b[0;32m     67\u001b[0m \u001b[38;5;124;03m\"\"\"\u001b[39;00m\n\u001b[0;32m     68\u001b[0m \u001b[38;5;28;01mif\u001b[39;00m lower:\n\u001b[1;32m---> 69\u001b[0m     doc \u001b[38;5;241m=\u001b[39m \u001b[43mdoc\u001b[49m\u001b[38;5;241;43m.\u001b[39;49m\u001b[43mlower\u001b[49m()\n\u001b[0;32m     70\u001b[0m \u001b[38;5;28;01mif\u001b[39;00m accent_function \u001b[38;5;129;01mis\u001b[39;00m \u001b[38;5;129;01mnot\u001b[39;00m \u001b[38;5;28;01mNone\u001b[39;00m:\n\u001b[0;32m     71\u001b[0m     doc \u001b[38;5;241m=\u001b[39m accent_function(doc)\n",
      "\u001b[1;31mAttributeError\u001b[0m: 'list' object has no attribute 'lower'"
     ]
    }
   ],
   "source": [
    "final = df['stemmed']\n",
    "\n",
    "model_bow(final)"
   ]
  },
  {
   "cell_type": "code",
   "execution_count": null,
   "id": "332240a1",
   "metadata": {},
   "outputs": [],
   "source": [
    "result"
   ]
  }
 ],
 "metadata": {
  "kernelspec": {
   "display_name": "Python 3 (ipykernel)",
   "language": "python",
   "name": "python3"
  },
  "language_info": {
   "codemirror_mode": {
    "name": "ipython",
    "version": 3
   },
   "file_extension": ".py",
   "mimetype": "text/x-python",
   "name": "python",
   "nbconvert_exporter": "python",
   "pygments_lexer": "ipython3",
   "version": "3.10.11"
  }
 },
 "nbformat": 4,
 "nbformat_minor": 5
}
